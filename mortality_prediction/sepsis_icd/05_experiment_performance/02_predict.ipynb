{
 "cells": [
  {
   "cell_type": "markdown",
   "metadata": {},
   "source": [
    "# Perform predictions"
   ]
  },
  {
   "cell_type": "markdown",
   "metadata": {},
   "source": [
    "## Import libraries"
   ]
  },
  {
   "cell_type": "code",
   "execution_count": 1,
   "metadata": {},
   "outputs": [],
   "source": [
    "import os\n",
    "\n",
    "import logging\n",
    "import sys\n",
    "\n",
    "log = logging.getLogger(\"Pipeline\")\n",
    "log.setLevel(logging.INFO)\n",
    "format = logging.Formatter(\"%(asctime)s - %(name)s - %(levelname)s - %(message)s\")\n",
    "\n",
    "ch = logging.StreamHandler(sys.stdout)\n",
    "ch.setFormatter(format)\n",
    "log.addHandler(ch)\n",
    "\n",
    "import warnings\n",
    "warnings.simplefilter(action='ignore', category=Warning)\n",
    "\n",
    "module_path = os.path.abspath(os.path.join('../'))\n",
    "if module_path not in sys.path:\n",
    "    sys.path.append(module_path)\n",
    "\n",
    "import predict_mortality as pm"
   ]
  },
  {
   "cell_type": "markdown",
   "metadata": {},
   "source": [
    "## Define data directory\n",
    "\n",
    "A top level directory to store all the data for this experiment"
   ]
  },
  {
   "cell_type": "code",
   "execution_count": 2,
   "metadata": {},
   "outputs": [],
   "source": [
    "dataDirName = '/home/yram0006/phd/chapter_2/workspace/mortality_data/perfromance_experiment/'"
   ]
  },
  {
   "cell_type": "markdown",
   "metadata": {},
   "source": [
    "## Perform predictions"
   ]
  },
  {
   "cell_type": "code",
   "execution_count": 3,
   "metadata": {},
   "outputs": [
    {
     "name": "stdout",
     "output_type": "stream",
     "text": [
      "2023-09-24 19:26:32,472 - Pipeline - INFO - dirName: performance_icd_vb_0_va_72_lb_0_la_72\n",
      "2023-09-24 19:26:32,473 - Pipeline - INFO - Running Predictions for vb_0_va_72_lb_0_la_72, targetStart : 0, targetEnd : 7\n",
      "2023-09-24 19:26:32,474 - Pipeline - INFO - Reading data\n"
     ]
    },
    {
     "name": "stdout",
     "output_type": "stream",
     "text": [
      "2023-09-24 19:26:33,267 - Pipeline - INFO - Formatting data\n",
      "2023-09-24 19:26:33,275 - Pipeline - INFO - Performing SFS\n",
      "2023-09-24 19:30:01,892 - Pipeline - INFO - Building XGBoost model with all the features\n",
      "2023-09-24 19:30:01,893 - Pipeline - INFO - Performing Hyperparameter optimisation\n",
      "2023-09-24 19:30:01,916 - Pipeline - INFO - Building the model\n",
      "2023-09-24 19:30:01,917 - Pipeline - INFO - Hyperparameter optimisation for: {'max_depth': range(1, 10), 'scale_pos_weight': [0.1, 0.15, 0.2, 0.25, 0.3, 0.35, 0.4]}\n",
      "2023-09-24 19:31:32,352 - Pipeline - INFO - Hyperparameter optimisation for: {'n_estimators': range(50, 250, 10)}\n",
      "2023-09-24 19:32:10,967 - Pipeline - INFO - Hyperparameter optimisation for: {'min_child_weight': range(1, 10)}\n",
      "2023-09-24 19:32:22,396 - Pipeline - INFO - Hyperparameter optimisation for: {'gamma': [0.0, 0.1, 0.2, 0.3, 0.4]}\n",
      "2023-09-24 19:32:29,700 - Pipeline - INFO - Hyperparameter optimisation for: {'subsample': [0.1, 0.2, 0.3, 0.4, 0.5, 0.6, 0.7, 0.8, 0.9], 'colsample_bytree': [0.1, 0.2, 0.3, 0.4, 0.5, 0.6, 0.7, 0.8, 0.9]}\n",
      "2023-09-24 19:33:51,670 - Pipeline - INFO - Hyperparameter optimisation for: {'reg_alpha': [0, 1e-05, 0.001, 0.1, 10]}\n",
      "2023-09-24 19:33:56,157 - Pipeline - INFO - params: {'max_depth': 4, 'scale_pos_weight': 0.35, 'n_estimators': 100, 'min_child_weight': 1, 'gamma': 0.0, 'colsample_bytree': 0.2, 'subsample': 0.9, 'reg_alpha': 0}\n",
      "2023-09-24 19:33:56,158 - Pipeline - INFO - Performing cross-validation\n",
      "2023-09-24 19:34:00,117 - Pipeline - INFO - Building XGBoost model with the selected features\n",
      "2023-09-24 19:34:00,119 - Pipeline - INFO - Performing Hyperparameter optimisation\n",
      "2023-09-24 19:34:00,119 - Pipeline - INFO - Building the model\n",
      "2023-09-24 19:34:00,120 - Pipeline - INFO - Hyperparameter optimisation for: {'max_depth': range(1, 10), 'scale_pos_weight': [0.1, 0.15, 0.2, 0.25, 0.3, 0.35, 0.4]}\n",
      "2023-09-24 19:34:45,821 - Pipeline - INFO - Hyperparameter optimisation for: {'n_estimators': range(50, 250, 10)}\n",
      "2023-09-24 19:35:04,664 - Pipeline - INFO - Hyperparameter optimisation for: {'min_child_weight': range(1, 10)}\n",
      "2023-09-24 19:35:10,711 - Pipeline - INFO - Hyperparameter optimisation for: {'gamma': [0.0, 0.1, 0.2, 0.3, 0.4]}\n",
      "2023-09-24 19:35:14,475 - Pipeline - INFO - Hyperparameter optimisation for: {'subsample': [0.1, 0.2, 0.3, 0.4, 0.5, 0.6, 0.7, 0.8, 0.9], 'colsample_bytree': [0.1, 0.2, 0.3, 0.4, 0.5, 0.6, 0.7, 0.8, 0.9]}\n",
      "2023-09-24 19:36:04,735 - Pipeline - INFO - Hyperparameter optimisation for: {'reg_alpha': [0, 1e-05, 0.001, 0.1, 10]}\n",
      "2023-09-24 19:36:08,077 - Pipeline - INFO - params: {'max_depth': 4, 'scale_pos_weight': 0.35, 'n_estimators': 110, 'min_child_weight': 1, 'gamma': 0.2, 'colsample_bytree': 0.4, 'subsample': 0.9, 'reg_alpha': 0}\n",
      "2023-09-24 19:36:08,080 - Pipeline - INFO - Performing cross-validation\n",
      "2023-09-24 19:36:10,205 - Pipeline - INFO - Building LR model with all the features\n",
      "2023-09-24 19:36:10,206 - Pipeline - INFO - Performing Hyperparameter optimisation\n",
      "2023-09-24 19:36:17,560 - Pipeline - INFO - Building the model\n",
      "2023-09-24 19:36:17,562 - Pipeline - INFO - Performing cross-validation\n",
      "2023-09-24 19:36:18,891 - Pipeline - INFO - Building LR model with the selected features\n",
      "2023-09-24 19:36:18,892 - Pipeline - INFO - Performing Hyperparameter optimisation\n",
      "2023-09-24 19:36:19,841 - Pipeline - INFO - Building the model\n",
      "2023-09-24 19:36:19,842 - Pipeline - INFO - Performing cross-validation\n",
      "2023-09-24 19:36:20,901 - Pipeline - INFO - Building LGBM model with all the features\n",
      "2023-09-24 19:36:20,902 - Pipeline - INFO - Performing Hyperparameter optimisation\n",
      "2023-09-24 19:36:41,679 - Pipeline - INFO - Building the model\n",
      "2023-09-24 19:36:41,683 - Pipeline - INFO - Performing cross-validation\n",
      "2023-09-24 19:36:45,284 - Pipeline - INFO - Building LGBM model with the selected features\n",
      "2023-09-24 19:36:45,286 - Pipeline - INFO - Performing Hyperparameter optimisation\n",
      "2023-09-24 19:36:58,127 - Pipeline - INFO - Building the model\n",
      "2023-09-24 19:36:58,128 - Pipeline - INFO - Performing cross-validation\n",
      "2023-09-24 19:37:00,746 - Pipeline - INFO - Building MLP model with all the features\n",
      "2023-09-24 19:37:00,748 - Pipeline - INFO - Building the model\n",
      "2023-09-24 19:37:04,110 - Pipeline - INFO - Performing cross-validation\n",
      "2023-09-24 19:37:32,209 - Pipeline - INFO - Building MLP model with the selected features\n",
      "2023-09-24 19:37:32,211 - Pipeline - INFO - Building the model\n",
      "2023-09-24 19:37:34,774 - Pipeline - INFO - Performing cross-validation\n",
      "2023-09-24 19:37:55,974 - Pipeline - INFO - Get Outputs from first level models\n",
      "2023-09-24 19:37:55,976 - Pipeline - INFO - Obtaining output probabilities\n",
      "2023-09-24 19:37:55,977 - Pipeline - INFO - Split data to test and train sets\n",
      "2023-09-24 19:37:55,985 - Pipeline - INFO - Performing Hyperparameter optimisation for XGBoost\n",
      "2023-09-24 19:37:55,986 - Pipeline - INFO - Hyperparameter optimisation for: {'max_depth': range(1, 10), 'scale_pos_weight': [0.1, 0.15, 0.2, 0.25, 0.3, 0.35, 0.4]}\n",
      "2023-09-24 19:38:32,796 - Pipeline - INFO - Hyperparameter optimisation for: {'n_estimators': range(50, 250, 10)}\n",
      "2023-09-24 19:38:41,650 - Pipeline - INFO - Hyperparameter optimisation for: {'min_child_weight': range(1, 10)}\n",
      "2023-09-24 19:38:45,031 - Pipeline - INFO - Hyperparameter optimisation for: {'gamma': [0.0, 0.1, 0.2, 0.3, 0.4]}\n",
      "2023-09-24 19:38:46,826 - Pipeline - INFO - Hyperparameter optimisation for: {'subsample': [0.1, 0.2, 0.3, 0.4, 0.5, 0.6, 0.7, 0.8, 0.9], 'colsample_bytree': [0.1, 0.2, 0.3, 0.4, 0.5, 0.6, 0.7, 0.8, 0.9]}\n",
      "2023-09-24 19:39:17,758 - Pipeline - INFO - Hyperparameter optimisation for: {'reg_alpha': [0, 1e-05, 0.001, 0.1, 10]}\n",
      "2023-09-24 19:39:19,699 - Pipeline - INFO - params: {'max_depth': 2, 'scale_pos_weight': 0.4, 'n_estimators': 110, 'min_child_weight': 1, 'gamma': 0.0, 'colsample_bytree': 0.5, 'subsample': 0.6, 'reg_alpha': 0.001}\n",
      "2023-09-24 19:39:19,701 - Pipeline - INFO - Performing Hyperparameter optimisation for Logistic Regression\n",
      "2023-09-24 19:39:20,432 - Pipeline - INFO - Building individual models\n",
      "2023-09-24 19:40:56,511 - Pipeline - INFO - Building Ensemble XGBoost model with all the features\n",
      "2023-09-24 19:40:56,512 - Pipeline - INFO - Performing Hyperparameter optimisation\n",
      "2023-09-24 19:40:56,513 - Pipeline - INFO - Building the model\n",
      "2023-09-24 19:40:56,514 - Pipeline - INFO - Hyperparameter optimisation for: {'max_depth': range(1, 10), 'scale_pos_weight': [0.1, 0.15, 0.2, 0.25, 0.3, 0.35, 0.4]}\n",
      "2023-09-24 19:41:35,617 - Pipeline - INFO - Hyperparameter optimisation for: {'n_estimators': range(50, 250, 10)}\n",
      "2023-09-24 19:41:52,854 - Pipeline - INFO - Hyperparameter optimisation for: {'min_child_weight': range(1, 10)}\n",
      "2023-09-24 19:41:56,246 - Pipeline - INFO - Hyperparameter optimisation for: {'gamma': [0.0, 0.1, 0.2, 0.3, 0.4]}\n",
      "2023-09-24 19:41:58,407 - Pipeline - INFO - Hyperparameter optimisation for: {'subsample': [0.1, 0.2, 0.3, 0.4, 0.5, 0.6, 0.7, 0.8, 0.9], 'colsample_bytree': [0.1, 0.2, 0.3, 0.4, 0.5, 0.6, 0.7, 0.8, 0.9]}\n",
      "2023-09-24 19:42:25,038 - Pipeline - INFO - Hyperparameter optimisation for: {'reg_alpha': [0, 1e-05, 0.001, 0.1, 10]}\n",
      "2023-09-24 19:42:26,575 - Pipeline - INFO - params: {'max_depth': 5, 'scale_pos_weight': 0.4, 'n_estimators': 50, 'min_child_weight': 1, 'gamma': 0.0, 'colsample_bytree': 0.4, 'subsample': 0.3, 'reg_alpha': 0}\n",
      "2023-09-24 19:42:26,576 - Pipeline - INFO - Performing cross-validation\n",
      "2023-09-24 19:42:27,938 - Pipeline - INFO - Building Ensemble LR model with all the features\n",
      "2023-09-24 19:42:27,939 - Pipeline - INFO - Performing Hyperparameter optimisation\n",
      "2023-09-24 19:42:28,728 - Pipeline - INFO - Building the model\n",
      "2023-09-24 19:42:28,729 - Pipeline - INFO - Performing cross-validation\n",
      "Scores:  {'xgb': {'fit_time': array([0.17363167, 0.17141843, 0.1730814 , 0.17427778, 0.17899776]), 'score_time': array([0.02724957, 0.02547002, 0.02607894, 0.02582884, 0.02566242]), 'test_accuracy': array([0.9210084 , 0.92424242, 0.92424242, 0.93265993, 0.94107744]), 'test_balanced_accuracy': array([0.7544744 , 0.76309289, 0.78656126, 0.78211462, 0.8218823 ]), 'test_average_precision': array([0.75803559, 0.76349552, 0.77308087, 0.82427535, 0.80487972]), 'test_f1': array([0.6618705 , 0.67625899, 0.69798658, 0.71428571, 0.76821192]), 'test_roc_auc': array([0.89698894, 0.90495868, 0.90275782, 0.92505839, 0.91291579]), 'test_mccf1_score': array([0.73147365, 0.7426156 , 0.75677183, 0.77331376, 0.81403422])}, 'lr': {'fit_time': array([0.05955338, 0.05582261, 0.05787611, 0.06085658, 0.0602715 ]), 'score_time': array([0.01041865, 0.01070118, 0.010638  , 0.01037097, 0.01075125]), 'test_accuracy': array([0.9092437 , 0.91582492, 0.92255892, 0.93097643, 0.94444444]), 'test_balanced_accuracy': array([0.75218724, 0.75815217, 0.79965415, 0.80459486, 0.83774613]), 'test_average_precision': array([0.72550207, 0.75376622, 0.72237378, 0.79243048, 0.80362672]), 'test_f1': array([0.63513514, 0.65277778, 0.70512821, 0.72847682, 0.78709677]), 'test_roc_auc': array([0.88226673, 0.90221883, 0.90464427, 0.92460923, 0.89929914]), 'test_mccf1_score': array([0.70610388, 0.72141509, 0.76084284, 0.78113701, 0.82841294])}, 'lgbm': {'fit_time': array([0.26561451, 0.3700068 , 0.27069235, 0.27154255, 0.2681613 ]), 'score_time': array([0.01426339, 0.01334143, 0.01321626, 0.01327324, 0.01325369]), 'test_accuracy': array([0.9210084 , 0.91582492, 0.92760943, 0.94276094, 0.93939394]), 'test_balanced_accuracy': array([0.74521473, 0.72999012, 0.79323123, 0.80681818, 0.81163644]), 'test_average_precision': array([0.76982002, 0.78763369, 0.78274792, 0.8604824 , 0.80997708]), 'test_f1': array([0.65185185, 0.62121212, 0.7114094 , 0.76056338, 0.75675676]), 'test_roc_auc': array([0.89838788, 0.91205534, 0.91535663, 0.94082375, 0.90888864]), 'test_mccf1_score': array([0.72524658, 0.70097315, 0.76774699, 0.81034752, 0.80559618])}, 'mlp': {'fit_time': array([2.58210635, 2.68923473, 2.83905959, 2.74810624, 2.66448426]), 'score_time': array([0.014328  , 0.01327777, 0.0133934 , 0.0134573 , 0.01364255]), 'test_accuracy': array([0.90084034, 0.8989899 , 0.9023569 , 0.9023569 , 0.91750842]), 'test_balanced_accuracy': array([0.73335702, 0.7576581 , 0.78779644, 0.75963439, 0.80802091]), 'test_average_precision': array([0.66724236, 0.66171855, 0.67043875, 0.68786212, 0.77386661]), 'test_f1': array([0.59863946, 0.62025316, 0.6547619 , 0.62820513, 0.7030303 ]), 'test_roc_auc': array([0.84314074, 0.85112738, 0.86018909, 0.86721838, 0.87849594]), 'test_mccf1_score': array([0.67656068, 0.69104011, 0.7176921 , 0.69795506, 0.75772713])}, 'xgb_min': {'fit_time': array([0.13115907, 0.13239694, 0.12932992, 0.12936449, 0.16075969]), 'score_time': array([0.01512361, 0.01464462, 0.0139606 , 0.01358724, 0.01403403]), 'test_accuracy': array([0.91428571, 0.92760943, 0.92760943, 0.93097643, 0.94107744]), 'test_balanced_accuracy': array([0.74126216, 0.78384387, 0.79323123, 0.78112648, 0.8218823 ]), 'test_average_precision': array([0.72686816, 0.79784539, 0.76331092, 0.80902379, 0.79863072]), 'test_f1': array([0.63309353, 0.70344828, 0.7114094 , 0.70921986, 0.76821192]), 'test_roc_auc': array([0.87782564, 0.90563241, 0.91010151, 0.90918074, 0.90285905]), 'test_mccf1_score': array([0.70788514, 0.76251722, 0.76774699, 0.76875   , 0.81403422])}, 'lr_min': {'fit_time': array([0.02874565, 0.02966928, 0.11886287, 0.02295017, 0.0221858 ]), 'score_time': array([0.00920248, 0.00848699, 0.00869536, 0.0082581 , 0.00832462]), 'test_accuracy': array([0.91260504, 0.92424242, 0.91582492, 0.92760943, 0.93265993]), 'test_balanced_accuracy': array([0.75416352, 0.77248024, 0.77692688, 0.7791502 , 0.81693181]), 'test_average_precision': array([0.70241061, 0.7604311 , 0.70369928, 0.81369573, 0.78408289]), 'test_f1': array([0.64383562, 0.68531469, 0.67105263, 0.6993007 , 0.74358974]), 'test_roc_auc': array([0.86816627, 0.90828243, 0.88676788, 0.92508085, 0.88352431]), 'test_mccf1_score': array([0.71389169, 0.74840422, 0.73392669, 0.75984788, 0.79259715])}, 'lgbm_min': {'fit_time': array([0.18085027, 0.17899346, 0.19677472, 0.17329717, 0.171978  ]), 'score_time': array([0.01180887, 0.01117063, 0.01119304, 0.01063514, 0.01162219]), 'test_accuracy': array([0.91260504, 0.92424242, 0.92760943, 0.92424242, 0.94276094]), 'test_balanced_accuracy': array([0.73564418, 0.76309289, 0.7979249 , 0.76309289, 0.82750028]), 'test_average_precision': array([0.71219588, 0.81504384, 0.76397138, 0.80834742, 0.80692399]), 'test_f1': array([0.62318841, 0.67625899, 0.71523179, 0.67625899, 0.77631579]), 'test_roc_auc': array([0.87205223, 0.9097871 , 0.89797431, 0.91189813, 0.90615196]), 'test_mccf1_score': array([0.70022567, 0.7426156 , 0.77030878, 0.7426156 , 0.82037682])}, 'mlp_min': {'fit_time': array([2.03779244, 2.05148458, 2.04114318, 2.04716539, 2.04738355]), 'score_time': array([0.01008153, 0.01226759, 0.01007771, 0.01003861, 0.01476026]), 'test_accuracy': array([0.88403361, 0.9023569 , 0.89057239, 0.91245791, 0.9040404 ]), 'test_balanced_accuracy': array([0.73273527, 0.76902174, 0.76210474, 0.77964427, 0.79547224]), 'test_average_precision': array([0.6036626 , 0.67729849, 0.62652162, 0.73284994, 0.73525797]), 'test_f1': array([0.57142857, 0.6375    , 0.61077844, 0.66666667, 0.66666667]), 'test_roc_auc': array([0.79542124, 0.86824021, 0.83774254, 0.87693137, 0.86803871]), 'test_mccf1_score': array([0.65076098, 0.70476338, 0.68181994, 0.72939923, 0.7271831 ])}, 'xgb_ensemble': {'fit_time': array([0.05289841, 0.0526073 , 0.0519309 , 0.05404401, 0.05419135]), 'score_time': array([0.01646018, 0.01628852, 0.0168426 , 0.01777244, 0.01698899]), 'test_accuracy': array([0.90939597, 0.92592593, 0.91919192, 0.93265993, 0.94949495]), 'test_balanced_accuracy': array([0.73653931, 0.82857143, 0.78809524, 0.79150198, 0.82954545]), 'test_average_precision': array([0.73062331, 0.83603654, 0.7646767 , 0.82417325, 0.82964152]), 'test_f1': array([0.61971831, 0.73809524, 0.69230769, 0.72222222, 0.79452055]), 'test_roc_auc': array([0.85814668, 0.95643739, 0.88738977, 0.92427237, 0.90729429]), 'test_mccf1_score': array([0.69621954, 0.78616449, 0.75097952, 0.77822896, 0.83663931])}, 'lr_ensemble': {'fit_time': array([0.01201153, 0.01299572, 0.01270747, 0.01205635, 0.01171303]), 'score_time': array([0.01004577, 0.00982118, 0.01020288, 0.01013303, 0.00965714]), 'test_accuracy': array([0.91275168, 0.91919192, 0.91582492, 0.92255892, 0.95622896]), 'test_balanced_accuracy': array([0.74765042, 0.81547619, 0.78611111, 0.79496047, 0.86166008]), 'test_average_precision': array([0.74913384, 0.80662069, 0.77895357, 0.80241062, 0.84880256]), 'test_f1': array([0.63888889, 0.71428571, 0.6835443 , 0.7012987 , 0.83116883]), 'test_roc_auc': array([0.89969258, 0.92486772, 0.90388007, 0.92445203, 0.90477902]), 'test_mccf1_score': array([0.71111015, 0.76666908, 0.74333146, 0.75816183, 0.86431945])}}\n",
      "2023-09-24 19:42:29,601 - Pipeline - INFO - Saving the CV results for all the models\n",
      "2023-09-24 19:42:29,603 - Pipeline - INFO - Completed !!!\n"
     ]
    }
   ],
   "source": [
    "pm.runPredictionsForAllTargets(\n",
    "    label='performance',\n",
    "    dirPath = dataDirName,\n",
    "    vitalsBefore = 0,\n",
    "    vitalsAfter = 72,\n",
    "    labsBefore = 0,\n",
    "    labsAfter = 72,\n",
    "    targetList = [7],\n",
    ")\n"
   ]
  }
 ],
 "metadata": {
  "kernelspec": {
   "display_name": ".venv",
   "language": "python",
   "name": "python3"
  },
  "language_info": {
   "codemirror_mode": {
    "name": "ipython",
    "version": 3
   },
   "file_extension": ".py",
   "mimetype": "text/x-python",
   "name": "python",
   "nbconvert_exporter": "python",
   "pygments_lexer": "ipython3",
   "version": "3.9.5"
  },
  "orig_nbformat": 4
 },
 "nbformat": 4,
 "nbformat_minor": 2
}
