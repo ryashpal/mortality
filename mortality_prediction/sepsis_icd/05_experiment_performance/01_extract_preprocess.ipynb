{
 "cells": [
  {
   "cell_type": "markdown",
   "metadata": {},
   "source": [
    "# Experiment to study the overall performance of all the models"
   ]
  },
  {
   "cell_type": "markdown",
   "metadata": {},
   "source": [
    "## Define data directory\n",
    "\n",
    "A top level directory to store all the data for this experiment"
   ]
  },
  {
   "cell_type": "code",
   "execution_count": 1,
   "metadata": {},
   "outputs": [],
   "source": [
    "dataDirName = '/home/yram0006/phd/chapter_2/workspace/mortality_data/perfromance_experiment/'"
   ]
  },
  {
   "cell_type": "markdown",
   "metadata": {},
   "source": [
    "## Data Extraction"
   ]
  },
  {
   "cell_type": "markdown",
   "metadata": {},
   "source": [
    "### Extract data"
   ]
  },
  {
   "cell_type": "code",
   "execution_count": 5,
   "metadata": {},
   "outputs": [
    {
     "name": "stdout",
     "output_type": "stream",
     "text": [
      "2023-09-24 18:16:01,483 - EHRQC - INFO - Parsing command line arguments\n",
      "2023-09-24 18:16:01,484 - EHRQC - INFO - args.save_path: /home/yram0006/phd/chapter_2/workspace/mortality_data/perfromance_experiment/extract/cohort_icd.csv\n",
      "2023-09-24 18:16:01,484 - EHRQC - INFO - args.schema_name: omop_cdm\n",
      "2023-09-24 18:16:01,484 - EHRQC - INFO - args.cohort_type: icd\n",
      "2023-09-24 18:16:02,610 - EHRQC - INFO - extracting data\n"
     ]
    },
    {
     "name": "stderr",
     "output_type": "stream",
     "text": [
      "/superbugai-data/yash/chapter_1/workspace/EHRQC/.venv/lib/python3.9/site-packages/pandas/io/sql.py:761: UserWarning: pandas only support SQLAlchemy connectable(engine/connection) ordatabase string URI or sqlite3 DBAPI2 connectionother DBAPI2 objects are not tested, please consider using SQLAlchemy\n",
      "  warnings.warn(\n"
     ]
    },
    {
     "name": "stdout",
     "output_type": "stream",
     "text": [
      "2023-09-24 18:16:04,532 - EHRQC - INFO - Saving raw data to file\n",
      "2023-09-24 18:16:06,208 - EHRQC - INFO - Parsing command line arguments\n",
      "2023-09-24 18:16:06,209 - EHRQC - INFO - args.save_path: /home/yram0006/phd/chapter_2/workspace/mortality_data/perfromance_experiment/extract/demographics_icd.csv\n",
      "2023-09-24 18:16:06,209 - EHRQC - INFO - args.cohort_path: /home/yram0006/phd/chapter_2/workspace/mortality_data/perfromance_experiment/extract/cohort_icd.csv\n",
      "2023-09-24 18:16:06,209 - EHRQC - INFO - args.schema_name: omop_cdm\n",
      "2023-09-24 18:16:06,209 - EHRQC - INFO - args.data_type: demographics\n",
      "2023-09-24 18:16:06,209 - EHRQC - INFO - args.agg_function: min\n",
      "2023-09-24 18:16:06,209 - EHRQC - INFO - args.before: 24\n",
      "2023-09-24 18:16:06,209 - EHRQC - INFO - args.after: 24\n",
      "2023-09-24 18:16:06,229 - EHRQC - INFO - Creating table: omop_cdm.COHORT\n",
      "2023-09-24 18:16:06,235 - EHRQC - INFO - Table: omop_cdm.COHORT created successfully!!\n",
      "2023-09-24 18:16:06,235 - EHRQC - INFO - Saving cohort to table: omop_cdm.COHORT\n",
      "2023-09-24 18:16:06,469 - EHRQC - INFO - Cohort data saved successfully!!\n",
      "2023-09-24 18:16:06,469 - EHRQC - INFO - extracting data\n"
     ]
    },
    {
     "name": "stderr",
     "output_type": "stream",
     "text": [
      "/superbugai-data/yash/chapter_1/workspace/EHRQC/.venv/lib/python3.9/site-packages/pandas/io/sql.py:761: UserWarning: pandas only support SQLAlchemy connectable(engine/connection) ordatabase string URI or sqlite3 DBAPI2 connectionother DBAPI2 objects are not tested, please consider using SQLAlchemy\n",
      "  warnings.warn(\n"
     ]
    },
    {
     "name": "stdout",
     "output_type": "stream",
     "text": [
      "2023-09-24 18:16:07,502 - EHRQC - INFO - Saving raw data to file\n",
      "2023-09-24 18:16:09,169 - EHRQC - INFO - Parsing command line arguments\n",
      "2023-09-24 18:16:09,170 - EHRQC - INFO - args.save_path: /home/yram0006/phd/chapter_2/workspace/mortality_data/perfromance_experiment/extract/deaths.csv\n",
      "2023-09-24 18:16:09,170 - EHRQC - INFO - args.cohort_path: /home/yram0006/phd/chapter_2/workspace/mortality_data/perfromance_experiment/extract/cohort_icd.csv\n",
      "2023-09-24 18:16:09,170 - EHRQC - INFO - args.schema_name: omop_cdm\n",
      "2023-09-24 18:16:09,170 - EHRQC - INFO - args.data_type: deaths\n",
      "2023-09-24 18:16:09,170 - EHRQC - INFO - args.agg_function: min\n",
      "2023-09-24 18:16:09,170 - EHRQC - INFO - args.before: 24\n",
      "2023-09-24 18:16:09,170 - EHRQC - INFO - args.after: 24\n",
      "2023-09-24 18:16:09,189 - EHRQC - INFO - Creating table: omop_cdm.COHORT\n",
      "2023-09-24 18:16:09,194 - EHRQC - INFO - Table: omop_cdm.COHORT created successfully!!\n",
      "2023-09-24 18:16:09,194 - EHRQC - INFO - Saving cohort to table: omop_cdm.COHORT\n",
      "2023-09-24 18:16:09,436 - EHRQC - INFO - Cohort data saved successfully!!\n",
      "2023-09-24 18:16:09,436 - EHRQC - INFO - extracting data\n",
      "2023-09-24 18:16:09,465 - EHRQC - INFO - Saving raw data to file\n"
     ]
    },
    {
     "name": "stderr",
     "output_type": "stream",
     "text": [
      "/superbugai-data/yash/chapter_1/workspace/EHRQC/.venv/lib/python3.9/site-packages/pandas/io/sql.py:761: UserWarning: pandas only support SQLAlchemy connectable(engine/connection) ordatabase string URI or sqlite3 DBAPI2 connectionother DBAPI2 objects are not tested, please consider using SQLAlchemy\n",
      "  warnings.warn(\n"
     ]
    },
    {
     "name": "stdout",
     "output_type": "stream",
     "text": [
      "2023-09-24 18:16:11,150 - EHRQC - INFO - Parsing command line arguments\n",
      "2023-09-24 18:16:11,151 - EHRQC - INFO - args.save_path: /home/yram0006/phd/chapter_2/workspace/mortality_data/perfromance_experiment/extract/vitals_min_icd.csv\n",
      "2023-09-24 18:16:11,151 - EHRQC - INFO - args.cohort_path: /home/yram0006/phd/chapter_2/workspace/mortality_data/perfromance_experiment/extract/cohort_icd.csv\n",
      "2023-09-24 18:16:11,151 - EHRQC - INFO - args.schema_name: omop_cdm\n",
      "2023-09-24 18:16:11,151 - EHRQC - INFO - args.data_type: vitals\n",
      "2023-09-24 18:16:11,151 - EHRQC - INFO - args.agg_function: min\n",
      "2023-09-24 18:16:11,151 - EHRQC - INFO - args.before: 0\n",
      "2023-09-24 18:16:11,151 - EHRQC - INFO - args.after: 72\n",
      "2023-09-24 18:16:11,171 - EHRQC - INFO - Creating table: omop_cdm.COHORT\n",
      "2023-09-24 18:16:11,176 - EHRQC - INFO - Table: omop_cdm.COHORT created successfully!!\n",
      "2023-09-24 18:16:11,176 - EHRQC - INFO - Saving cohort to table: omop_cdm.COHORT\n",
      "2023-09-24 18:16:11,422 - EHRQC - INFO - Cohort data saved successfully!!\n",
      "2023-09-24 18:16:11,422 - EHRQC - INFO - extracting data\n"
     ]
    },
    {
     "name": "stderr",
     "output_type": "stream",
     "text": [
      "/superbugai-data/yash/chapter_1/workspace/EHRQC/.venv/lib/python3.9/site-packages/pandas/io/sql.py:761: UserWarning: pandas only support SQLAlchemy connectable(engine/connection) ordatabase string URI or sqlite3 DBAPI2 connectionother DBAPI2 objects are not tested, please consider using SQLAlchemy\n",
      "  warnings.warn(\n"
     ]
    },
    {
     "name": "stdout",
     "output_type": "stream",
     "text": [
      "2023-09-24 18:18:18,965 - EHRQC - INFO - Saving raw data to file\n",
      "2023-09-24 18:18:20,646 - EHRQC - INFO - Parsing command line arguments\n",
      "2023-09-24 18:18:20,647 - EHRQC - INFO - args.save_path: /home/yram0006/phd/chapter_2/workspace/mortality_data/perfromance_experiment/extract/vitals_max_icd.csv\n",
      "2023-09-24 18:18:20,647 - EHRQC - INFO - args.cohort_path: /home/yram0006/phd/chapter_2/workspace/mortality_data/perfromance_experiment/extract/cohort_icd.csv\n",
      "2023-09-24 18:18:20,647 - EHRQC - INFO - args.schema_name: omop_cdm\n",
      "2023-09-24 18:18:20,647 - EHRQC - INFO - args.data_type: vitals\n",
      "2023-09-24 18:18:20,647 - EHRQC - INFO - args.agg_function: max\n",
      "2023-09-24 18:18:20,647 - EHRQC - INFO - args.before: 0\n",
      "2023-09-24 18:18:20,647 - EHRQC - INFO - args.after: 72\n",
      "2023-09-24 18:18:20,667 - EHRQC - INFO - Creating table: omop_cdm.COHORT\n",
      "2023-09-24 18:18:20,691 - EHRQC - INFO - Table: omop_cdm.COHORT created successfully!!\n",
      "2023-09-24 18:18:20,691 - EHRQC - INFO - Saving cohort to table: omop_cdm.COHORT\n",
      "2023-09-24 18:18:20,926 - EHRQC - INFO - Cohort data saved successfully!!\n",
      "2023-09-24 18:18:20,926 - EHRQC - INFO - extracting data\n"
     ]
    },
    {
     "name": "stderr",
     "output_type": "stream",
     "text": [
      "/superbugai-data/yash/chapter_1/workspace/EHRQC/.venv/lib/python3.9/site-packages/pandas/io/sql.py:761: UserWarning: pandas only support SQLAlchemy connectable(engine/connection) ordatabase string URI or sqlite3 DBAPI2 connectionother DBAPI2 objects are not tested, please consider using SQLAlchemy\n",
      "  warnings.warn(\n"
     ]
    },
    {
     "name": "stdout",
     "output_type": "stream",
     "text": [
      "2023-09-24 18:20:17,483 - EHRQC - INFO - Saving raw data to file\n",
      "2023-09-24 18:20:19,139 - EHRQC - INFO - Parsing command line arguments\n",
      "2023-09-24 18:20:19,140 - EHRQC - INFO - args.save_path: /home/yram0006/phd/chapter_2/workspace/mortality_data/perfromance_experiment/extract/vitals_avg_icd.csv\n",
      "2023-09-24 18:20:19,140 - EHRQC - INFO - args.cohort_path: /home/yram0006/phd/chapter_2/workspace/mortality_data/perfromance_experiment/extract/cohort_icd.csv\n",
      "2023-09-24 18:20:19,140 - EHRQC - INFO - args.schema_name: omop_cdm\n",
      "2023-09-24 18:20:19,140 - EHRQC - INFO - args.data_type: vitals\n",
      "2023-09-24 18:20:19,140 - EHRQC - INFO - args.agg_function: avg\n",
      "2023-09-24 18:20:19,140 - EHRQC - INFO - args.before: 0\n",
      "2023-09-24 18:20:19,140 - EHRQC - INFO - args.after: 72\n",
      "2023-09-24 18:20:19,160 - EHRQC - INFO - Creating table: omop_cdm.COHORT\n",
      "2023-09-24 18:20:19,165 - EHRQC - INFO - Table: omop_cdm.COHORT created successfully!!\n",
      "2023-09-24 18:20:19,165 - EHRQC - INFO - Saving cohort to table: omop_cdm.COHORT\n",
      "2023-09-24 18:20:19,398 - EHRQC - INFO - Cohort data saved successfully!!\n",
      "2023-09-24 18:20:19,398 - EHRQC - INFO - extracting data\n"
     ]
    },
    {
     "name": "stderr",
     "output_type": "stream",
     "text": [
      "/superbugai-data/yash/chapter_1/workspace/EHRQC/.venv/lib/python3.9/site-packages/pandas/io/sql.py:761: UserWarning: pandas only support SQLAlchemy connectable(engine/connection) ordatabase string URI or sqlite3 DBAPI2 connectionother DBAPI2 objects are not tested, please consider using SQLAlchemy\n",
      "  warnings.warn(\n"
     ]
    },
    {
     "name": "stdout",
     "output_type": "stream",
     "text": [
      "2023-09-24 18:22:15,745 - EHRQC - INFO - Saving raw data to file\n",
      "2023-09-24 18:22:17,479 - EHRQC - INFO - Parsing command line arguments\n",
      "2023-09-24 18:22:17,480 - EHRQC - INFO - args.save_path: /home/yram0006/phd/chapter_2/workspace/mortality_data/perfromance_experiment/extract/vitals_stddev_icd.csv\n",
      "2023-09-24 18:22:17,480 - EHRQC - INFO - args.cohort_path: /home/yram0006/phd/chapter_2/workspace/mortality_data/perfromance_experiment/extract/cohort_icd.csv\n",
      "2023-09-24 18:22:17,480 - EHRQC - INFO - args.schema_name: omop_cdm\n",
      "2023-09-24 18:22:17,480 - EHRQC - INFO - args.data_type: vitals\n",
      "2023-09-24 18:22:17,480 - EHRQC - INFO - args.agg_function: stddev\n",
      "2023-09-24 18:22:17,480 - EHRQC - INFO - args.before: 0\n",
      "2023-09-24 18:22:17,480 - EHRQC - INFO - args.after: 72\n",
      "2023-09-24 18:22:17,501 - EHRQC - INFO - Creating table: omop_cdm.COHORT\n",
      "2023-09-24 18:22:17,510 - EHRQC - INFO - Table: omop_cdm.COHORT created successfully!!\n",
      "2023-09-24 18:22:17,510 - EHRQC - INFO - Saving cohort to table: omop_cdm.COHORT\n",
      "2023-09-24 18:22:17,744 - EHRQC - INFO - Cohort data saved successfully!!\n",
      "2023-09-24 18:22:17,744 - EHRQC - INFO - extracting data\n"
     ]
    },
    {
     "name": "stderr",
     "output_type": "stream",
     "text": [
      "/superbugai-data/yash/chapter_1/workspace/EHRQC/.venv/lib/python3.9/site-packages/pandas/io/sql.py:761: UserWarning: pandas only support SQLAlchemy connectable(engine/connection) ordatabase string URI or sqlite3 DBAPI2 connectionother DBAPI2 objects are not tested, please consider using SQLAlchemy\n",
      "  warnings.warn(\n"
     ]
    },
    {
     "name": "stdout",
     "output_type": "stream",
     "text": [
      "2023-09-24 18:24:14,478 - EHRQC - INFO - Saving raw data to file\n",
      "2023-09-24 18:24:16,152 - EHRQC - INFO - Parsing command line arguments\n",
      "2023-09-24 18:24:16,153 - EHRQC - INFO - args.save_path: /home/yram0006/phd/chapter_2/workspace/mortality_data/perfromance_experiment/extract/vitals_first_icd.csv\n",
      "2023-09-24 18:24:16,153 - EHRQC - INFO - args.cohort_path: /home/yram0006/phd/chapter_2/workspace/mortality_data/perfromance_experiment/extract/cohort_icd.csv\n",
      "2023-09-24 18:24:16,154 - EHRQC - INFO - args.schema_name: omop_cdm\n",
      "2023-09-24 18:24:16,154 - EHRQC - INFO - args.data_type: vitals\n",
      "2023-09-24 18:24:16,154 - EHRQC - INFO - args.agg_function: first\n",
      "2023-09-24 18:24:16,154 - EHRQC - INFO - args.before: 0\n",
      "2023-09-24 18:24:16,154 - EHRQC - INFO - args.after: 72\n",
      "2023-09-24 18:24:16,173 - EHRQC - INFO - Creating table: omop_cdm.COHORT\n",
      "2023-09-24 18:24:16,178 - EHRQC - INFO - Table: omop_cdm.COHORT created successfully!!\n",
      "2023-09-24 18:24:16,178 - EHRQC - INFO - Saving cohort to table: omop_cdm.COHORT\n",
      "2023-09-24 18:24:16,414 - EHRQC - INFO - Cohort data saved successfully!!\n",
      "2023-09-24 18:24:16,414 - EHRQC - INFO - extracting data\n"
     ]
    },
    {
     "name": "stderr",
     "output_type": "stream",
     "text": [
      "/superbugai-data/yash/chapter_1/workspace/EHRQC/.venv/lib/python3.9/site-packages/pandas/io/sql.py:761: UserWarning: pandas only support SQLAlchemy connectable(engine/connection) ordatabase string URI or sqlite3 DBAPI2 connectionother DBAPI2 objects are not tested, please consider using SQLAlchemy\n",
      "  warnings.warn(\n"
     ]
    },
    {
     "name": "stdout",
     "output_type": "stream",
     "text": [
      "2023-09-24 18:26:12,773 - EHRQC - INFO - Saving raw data to file\n",
      "2023-09-24 18:26:14,516 - EHRQC - INFO - Parsing command line arguments\n",
      "2023-09-24 18:26:14,518 - EHRQC - INFO - args.save_path: /home/yram0006/phd/chapter_2/workspace/mortality_data/perfromance_experiment/extract/vitals_last_icd.csv\n",
      "2023-09-24 18:26:14,518 - EHRQC - INFO - args.cohort_path: /home/yram0006/phd/chapter_2/workspace/mortality_data/perfromance_experiment/extract/cohort_icd.csv\n",
      "2023-09-24 18:26:14,518 - EHRQC - INFO - args.schema_name: omop_cdm\n",
      "2023-09-24 18:26:14,518 - EHRQC - INFO - args.data_type: vitals\n",
      "2023-09-24 18:26:14,518 - EHRQC - INFO - args.agg_function: last\n",
      "2023-09-24 18:26:14,518 - EHRQC - INFO - args.before: 0\n",
      "2023-09-24 18:26:14,518 - EHRQC - INFO - args.after: 72\n",
      "2023-09-24 18:26:14,540 - EHRQC - INFO - Creating table: omop_cdm.COHORT\n",
      "2023-09-24 18:26:14,545 - EHRQC - INFO - Table: omop_cdm.COHORT created successfully!!\n",
      "2023-09-24 18:26:14,545 - EHRQC - INFO - Saving cohort to table: omop_cdm.COHORT\n",
      "2023-09-24 18:26:14,779 - EHRQC - INFO - Cohort data saved successfully!!\n",
      "2023-09-24 18:26:14,780 - EHRQC - INFO - extracting data\n"
     ]
    },
    {
     "name": "stderr",
     "output_type": "stream",
     "text": [
      "/superbugai-data/yash/chapter_1/workspace/EHRQC/.venv/lib/python3.9/site-packages/pandas/io/sql.py:761: UserWarning: pandas only support SQLAlchemy connectable(engine/connection) ordatabase string URI or sqlite3 DBAPI2 connectionother DBAPI2 objects are not tested, please consider using SQLAlchemy\n",
      "  warnings.warn(\n"
     ]
    },
    {
     "name": "stdout",
     "output_type": "stream",
     "text": [
      "2023-09-24 18:28:11,624 - EHRQC - INFO - Saving raw data to file\n",
      "2023-09-24 18:28:13,327 - EHRQC - INFO - Parsing command line arguments\n",
      "2023-09-24 18:28:13,328 - EHRQC - INFO - args.save_path: /home/yram0006/phd/chapter_2/workspace/mortality_data/perfromance_experiment/extract/lab_measurements_min_icd.csv\n",
      "2023-09-24 18:28:13,328 - EHRQC - INFO - args.cohort_path: /home/yram0006/phd/chapter_2/workspace/mortality_data/perfromance_experiment/extract/cohort_icd.csv\n",
      "2023-09-24 18:28:13,328 - EHRQC - INFO - args.schema_name: omop_cdm\n",
      "2023-09-24 18:28:13,328 - EHRQC - INFO - args.data_type: lab_measurements\n",
      "2023-09-24 18:28:13,329 - EHRQC - INFO - args.agg_function: min\n",
      "2023-09-24 18:28:13,329 - EHRQC - INFO - args.before: 0\n",
      "2023-09-24 18:28:13,329 - EHRQC - INFO - args.after: 72\n",
      "2023-09-24 18:28:13,349 - EHRQC - INFO - Creating table: omop_cdm.COHORT\n",
      "2023-09-24 18:28:13,355 - EHRQC - INFO - Table: omop_cdm.COHORT created successfully!!\n",
      "2023-09-24 18:28:13,355 - EHRQC - INFO - Saving cohort to table: omop_cdm.COHORT\n",
      "2023-09-24 18:28:13,621 - EHRQC - INFO - Cohort data saved successfully!!\n",
      "2023-09-24 18:28:13,621 - EHRQC - INFO - extracting data\n"
     ]
    },
    {
     "name": "stderr",
     "output_type": "stream",
     "text": [
      "/superbugai-data/yash/chapter_1/workspace/EHRQC/.venv/lib/python3.9/site-packages/pandas/io/sql.py:761: UserWarning: pandas only support SQLAlchemy connectable(engine/connection) ordatabase string URI or sqlite3 DBAPI2 connectionother DBAPI2 objects are not tested, please consider using SQLAlchemy\n",
      "  warnings.warn(\n"
     ]
    },
    {
     "name": "stdout",
     "output_type": "stream",
     "text": [
      "2023-09-24 18:29:22,879 - EHRQC - INFO - Saving raw data to file\n",
      "2023-09-24 18:29:24,691 - EHRQC - INFO - Parsing command line arguments\n",
      "2023-09-24 18:29:24,692 - EHRQC - INFO - args.save_path: /home/yram0006/phd/chapter_2/workspace/mortality_data/perfromance_experiment/extract/lab_measurements_max_icd.csv\n",
      "2023-09-24 18:29:24,692 - EHRQC - INFO - args.cohort_path: /home/yram0006/phd/chapter_2/workspace/mortality_data/perfromance_experiment/extract/cohort_icd.csv\n",
      "2023-09-24 18:29:24,692 - EHRQC - INFO - args.schema_name: omop_cdm\n",
      "2023-09-24 18:29:24,692 - EHRQC - INFO - args.data_type: lab_measurements\n",
      "2023-09-24 18:29:24,692 - EHRQC - INFO - args.agg_function: max\n",
      "2023-09-24 18:29:24,692 - EHRQC - INFO - args.before: 0\n",
      "2023-09-24 18:29:24,692 - EHRQC - INFO - args.after: 72\n",
      "2023-09-24 18:29:24,713 - EHRQC - INFO - Creating table: omop_cdm.COHORT\n",
      "2023-09-24 18:29:24,719 - EHRQC - INFO - Table: omop_cdm.COHORT created successfully!!\n",
      "2023-09-24 18:29:24,719 - EHRQC - INFO - Saving cohort to table: omop_cdm.COHORT\n",
      "2023-09-24 18:29:24,954 - EHRQC - INFO - Cohort data saved successfully!!\n",
      "2023-09-24 18:29:24,954 - EHRQC - INFO - extracting data\n"
     ]
    },
    {
     "name": "stderr",
     "output_type": "stream",
     "text": [
      "/superbugai-data/yash/chapter_1/workspace/EHRQC/.venv/lib/python3.9/site-packages/pandas/io/sql.py:761: UserWarning: pandas only support SQLAlchemy connectable(engine/connection) ordatabase string URI or sqlite3 DBAPI2 connectionother DBAPI2 objects are not tested, please consider using SQLAlchemy\n",
      "  warnings.warn(\n"
     ]
    },
    {
     "name": "stdout",
     "output_type": "stream",
     "text": [
      "2023-09-24 18:30:35,095 - EHRQC - INFO - Saving raw data to file\n",
      "2023-09-24 18:30:36,873 - EHRQC - INFO - Parsing command line arguments\n",
      "2023-09-24 18:30:36,874 - EHRQC - INFO - args.save_path: /home/yram0006/phd/chapter_2/workspace/mortality_data/perfromance_experiment/extract/lab_measurements_avg_icd.csv\n",
      "2023-09-24 18:30:36,874 - EHRQC - INFO - args.cohort_path: /home/yram0006/phd/chapter_2/workspace/mortality_data/perfromance_experiment/extract/cohort_icd.csv\n",
      "2023-09-24 18:30:36,874 - EHRQC - INFO - args.schema_name: omop_cdm\n",
      "2023-09-24 18:30:36,874 - EHRQC - INFO - args.data_type: lab_measurements\n",
      "2023-09-24 18:30:36,874 - EHRQC - INFO - args.agg_function: avg\n",
      "2023-09-24 18:30:36,874 - EHRQC - INFO - args.before: 0\n",
      "2023-09-24 18:30:36,874 - EHRQC - INFO - args.after: 72\n",
      "2023-09-24 18:30:36,894 - EHRQC - INFO - Creating table: omop_cdm.COHORT\n",
      "2023-09-24 18:30:36,900 - EHRQC - INFO - Table: omop_cdm.COHORT created successfully!!\n",
      "2023-09-24 18:30:36,900 - EHRQC - INFO - Saving cohort to table: omop_cdm.COHORT\n",
      "2023-09-24 18:30:37,141 - EHRQC - INFO - Cohort data saved successfully!!\n",
      "2023-09-24 18:30:37,142 - EHRQC - INFO - extracting data\n"
     ]
    },
    {
     "name": "stderr",
     "output_type": "stream",
     "text": [
      "/superbugai-data/yash/chapter_1/workspace/EHRQC/.venv/lib/python3.9/site-packages/pandas/io/sql.py:761: UserWarning: pandas only support SQLAlchemy connectable(engine/connection) ordatabase string URI or sqlite3 DBAPI2 connectionother DBAPI2 objects are not tested, please consider using SQLAlchemy\n",
      "  warnings.warn(\n"
     ]
    },
    {
     "name": "stdout",
     "output_type": "stream",
     "text": [
      "2023-09-24 18:31:45,420 - EHRQC - INFO - Saving raw data to file\n",
      "2023-09-24 18:31:47,320 - EHRQC - INFO - Parsing command line arguments\n",
      "2023-09-24 18:31:47,321 - EHRQC - INFO - args.save_path: /home/yram0006/phd/chapter_2/workspace/mortality_data/perfromance_experiment/extract/lab_measurements_stddev_icd.csv\n",
      "2023-09-24 18:31:47,321 - EHRQC - INFO - args.cohort_path: /home/yram0006/phd/chapter_2/workspace/mortality_data/perfromance_experiment/extract/cohort_icd.csv\n",
      "2023-09-24 18:31:47,321 - EHRQC - INFO - args.schema_name: omop_cdm\n",
      "2023-09-24 18:31:47,321 - EHRQC - INFO - args.data_type: lab_measurements\n",
      "2023-09-24 18:31:47,322 - EHRQC - INFO - args.agg_function: stddev\n",
      "2023-09-24 18:31:47,322 - EHRQC - INFO - args.before: 0\n",
      "2023-09-24 18:31:47,322 - EHRQC - INFO - args.after: 72\n",
      "2023-09-24 18:31:47,343 - EHRQC - INFO - Creating table: omop_cdm.COHORT\n",
      "2023-09-24 18:31:47,348 - EHRQC - INFO - Table: omop_cdm.COHORT created successfully!!\n",
      "2023-09-24 18:31:47,348 - EHRQC - INFO - Saving cohort to table: omop_cdm.COHORT\n",
      "2023-09-24 18:31:47,589 - EHRQC - INFO - Cohort data saved successfully!!\n",
      "2023-09-24 18:31:47,590 - EHRQC - INFO - extracting data\n"
     ]
    },
    {
     "name": "stderr",
     "output_type": "stream",
     "text": [
      "/superbugai-data/yash/chapter_1/workspace/EHRQC/.venv/lib/python3.9/site-packages/pandas/io/sql.py:761: UserWarning: pandas only support SQLAlchemy connectable(engine/connection) ordatabase string URI or sqlite3 DBAPI2 connectionother DBAPI2 objects are not tested, please consider using SQLAlchemy\n",
      "  warnings.warn(\n"
     ]
    },
    {
     "name": "stdout",
     "output_type": "stream",
     "text": [
      "2023-09-24 18:32:56,523 - EHRQC - INFO - Saving raw data to file\n",
      "2023-09-24 18:32:58,371 - EHRQC - INFO - Parsing command line arguments\n",
      "2023-09-24 18:32:58,372 - EHRQC - INFO - args.save_path: /home/yram0006/phd/chapter_2/workspace/mortality_data/perfromance_experiment/extract/lab_measurements_first_icd.csv\n",
      "2023-09-24 18:32:58,372 - EHRQC - INFO - args.cohort_path: /home/yram0006/phd/chapter_2/workspace/mortality_data/perfromance_experiment/extract/cohort_icd.csv\n",
      "2023-09-24 18:32:58,372 - EHRQC - INFO - args.schema_name: omop_cdm\n",
      "2023-09-24 18:32:58,372 - EHRQC - INFO - args.data_type: lab_measurements\n",
      "2023-09-24 18:32:58,372 - EHRQC - INFO - args.agg_function: first\n",
      "2023-09-24 18:32:58,372 - EHRQC - INFO - args.before: 0\n",
      "2023-09-24 18:32:58,372 - EHRQC - INFO - args.after: 72\n",
      "2023-09-24 18:32:58,392 - EHRQC - INFO - Creating table: omop_cdm.COHORT\n",
      "2023-09-24 18:32:58,398 - EHRQC - INFO - Table: omop_cdm.COHORT created successfully!!\n",
      "2023-09-24 18:32:58,398 - EHRQC - INFO - Saving cohort to table: omop_cdm.COHORT\n",
      "2023-09-24 18:32:58,632 - EHRQC - INFO - Cohort data saved successfully!!\n",
      "2023-09-24 18:32:58,632 - EHRQC - INFO - extracting data\n"
     ]
    },
    {
     "name": "stderr",
     "output_type": "stream",
     "text": [
      "/superbugai-data/yash/chapter_1/workspace/EHRQC/.venv/lib/python3.9/site-packages/pandas/io/sql.py:761: UserWarning: pandas only support SQLAlchemy connectable(engine/connection) ordatabase string URI or sqlite3 DBAPI2 connectionother DBAPI2 objects are not tested, please consider using SQLAlchemy\n",
      "  warnings.warn(\n"
     ]
    },
    {
     "name": "stdout",
     "output_type": "stream",
     "text": [
      "2023-09-24 18:34:07,386 - EHRQC - INFO - Saving raw data to file\n",
      "2023-09-24 18:34:09,147 - EHRQC - INFO - Parsing command line arguments\n",
      "2023-09-24 18:34:09,148 - EHRQC - INFO - args.save_path: /home/yram0006/phd/chapter_2/workspace/mortality_data/perfromance_experiment/extract/lab_measurements_last_icd.csv\n",
      "2023-09-24 18:34:09,148 - EHRQC - INFO - args.cohort_path: /home/yram0006/phd/chapter_2/workspace/mortality_data/perfromance_experiment/extract/cohort_icd.csv\n",
      "2023-09-24 18:34:09,148 - EHRQC - INFO - args.schema_name: omop_cdm\n",
      "2023-09-24 18:34:09,148 - EHRQC - INFO - args.data_type: lab_measurements\n",
      "2023-09-24 18:34:09,148 - EHRQC - INFO - args.agg_function: last\n",
      "2023-09-24 18:34:09,148 - EHRQC - INFO - args.before: 0\n",
      "2023-09-24 18:34:09,148 - EHRQC - INFO - args.after: 72\n",
      "2023-09-24 18:34:09,168 - EHRQC - INFO - Creating table: omop_cdm.COHORT\n",
      "2023-09-24 18:34:09,173 - EHRQC - INFO - Table: omop_cdm.COHORT created successfully!!\n",
      "2023-09-24 18:34:09,173 - EHRQC - INFO - Saving cohort to table: omop_cdm.COHORT\n",
      "2023-09-24 18:34:09,406 - EHRQC - INFO - Cohort data saved successfully!!\n",
      "2023-09-24 18:34:09,406 - EHRQC - INFO - extracting data\n"
     ]
    },
    {
     "name": "stderr",
     "output_type": "stream",
     "text": [
      "/superbugai-data/yash/chapter_1/workspace/EHRQC/.venv/lib/python3.9/site-packages/pandas/io/sql.py:761: UserWarning: pandas only support SQLAlchemy connectable(engine/connection) ordatabase string URI or sqlite3 DBAPI2 connectionother DBAPI2 objects are not tested, please consider using SQLAlchemy\n",
      "  warnings.warn(\n"
     ]
    },
    {
     "name": "stdout",
     "output_type": "stream",
     "text": [
      "2023-09-24 18:35:18,401 - EHRQC - INFO - Saving raw data to file\n"
     ]
    },
    {
     "data": {
      "text/plain": [
       "0"
      ]
     },
     "execution_count": 5,
     "metadata": {},
     "output_type": "execute_result"
    }
   ],
   "source": [
    "import os\n",
    "\n",
    "\n",
    "os.system(\n",
    "    '''cd /superbugai-data/yash/chapter_1/workspace/EHRQC;'''\n",
    "    +\n",
    "    '''mkdir -p ''' + dataDirName + '''extract;'''\n",
    "    +\n",
    "    '''.venv/bin/python -m ehrqc.extract.ExtractCohort ''' + dataDirName + '''\"extract/cohort_icd.csv\" \"omop_cdm\" \"icd\";'''\n",
    "    +\n",
    "    '''.venv/bin/python -m ehrqc.extract.ExtractCohortData ''' + dataDirName + '''\"extract/demographics_icd.csv\" ''' + dataDirName + '''\"extract/cohort_icd.csv\" \"omop_cdm\" \"demographics\" \"min\";'''\n",
    "    +\n",
    "    '''.venv/bin/python -m ehrqc.extract.ExtractCohortData ''' + dataDirName + '''\"extract/deaths.csv\" ''' + dataDirName + '''\"extract/cohort_icd.csv\" \"omop_cdm\" \"deaths\" \"min\";'''\n",
    "    +\n",
    "    '''.venv/bin/python -m ehrqc.extract.ExtractCohortData ''' + dataDirName + '''\"extract/vitals_min_icd.csv\" ''' + dataDirName + '''\"extract/cohort_icd.csv\" \"omop_cdm\" \"vitals\" \"min\" -b=0 -a=72;'''\n",
    "    +\n",
    "    '''.venv/bin/python -m ehrqc.extract.ExtractCohortData ''' + dataDirName + '''\"extract/vitals_max_icd.csv\" ''' + dataDirName + '''\"extract/cohort_icd.csv\" \"omop_cdm\" \"vitals\" \"max\" -b=0 -a=72;'''\n",
    "    +\n",
    "    '''.venv/bin/python -m ehrqc.extract.ExtractCohortData ''' + dataDirName + '''\"extract/vitals_avg_icd.csv\" ''' + dataDirName + '''\"extract/cohort_icd.csv\" \"omop_cdm\" \"vitals\" \"avg\" -b=0 -a=72;'''\n",
    "    +\n",
    "    '''.venv/bin/python -m ehrqc.extract.ExtractCohortData ''' + dataDirName + '''\"extract/vitals_stddev_icd.csv\" ''' + dataDirName + '''\"extract/cohort_icd.csv\" \"omop_cdm\" \"vitals\" \"stddev\" -b=0 -a=72;'''\n",
    "    +\n",
    "    '''.venv/bin/python -m ehrqc.extract.ExtractCohortData ''' + dataDirName + '''\"extract/vitals_first_icd.csv\" ''' + dataDirName + '''\"extract/cohort_icd.csv\" \"omop_cdm\" \"vitals\" \"first\" -b=0 -a=72;'''\n",
    "    +\n",
    "    '''.venv/bin/python -m ehrqc.extract.ExtractCohortData ''' + dataDirName + '''\"extract/vitals_last_icd.csv\" ''' + dataDirName + '''\"extract/cohort_icd.csv\" \"omop_cdm\" \"vitals\" \"last\" -b=0 -a=72;'''\n",
    "    +\n",
    "    '''.venv/bin/python -m ehrqc.extract.ExtractCohortData ''' + dataDirName + '''\"extract/lab_measurements_min_icd.csv\" ''' + dataDirName + '''\"extract/cohort_icd.csv\" \"omop_cdm\" \"lab_measurements\" \"min\" -b=0 -a=72;'''\n",
    "    +\n",
    "    '''.venv/bin/python -m ehrqc.extract.ExtractCohortData ''' + dataDirName + '''\"extract/lab_measurements_max_icd.csv\" ''' + dataDirName + '''\"extract/cohort_icd.csv\" \"omop_cdm\" \"lab_measurements\" \"max\" -b=0 -a=72;'''\n",
    "    +\n",
    "    '''.venv/bin/python -m ehrqc.extract.ExtractCohortData ''' + dataDirName + '''\"extract/lab_measurements_avg_icd.csv\" ''' + dataDirName + '''\"extract/cohort_icd.csv\" \"omop_cdm\" \"lab_measurements\" \"avg\" -b=0 -a=72;'''\n",
    "    +\n",
    "    '''.venv/bin/python -m ehrqc.extract.ExtractCohortData ''' + dataDirName + '''\"extract/lab_measurements_stddev_icd.csv\" ''' + dataDirName + '''\"extract/cohort_icd.csv\" \"omop_cdm\" \"lab_measurements\" \"stddev\" -b=0 -a=72;'''\n",
    "    +\n",
    "    '''.venv/bin/python -m ehrqc.extract.ExtractCohortData ''' + dataDirName + '''\"extract/lab_measurements_first_icd.csv\" ''' + dataDirName + '''\"extract/cohort_icd.csv\" \"omop_cdm\" \"lab_measurements\" \"first\" -b=0 -a=72;'''\n",
    "    +\n",
    "    '''.venv/bin/python -m ehrqc.extract.ExtractCohortData ''' + dataDirName + '''\"extract/lab_measurements_last_icd.csv\" ''' + dataDirName + '''\"extract/cohort_icd.csv\" \"omop_cdm\" \"lab_measurements\" \"last\" -b=0 -a=72;'''\n",
    "    )\n"
   ]
  },
  {
   "cell_type": "markdown",
   "metadata": {},
   "source": [
    "### Read extracted files"
   ]
  },
  {
   "cell_type": "code",
   "execution_count": 6,
   "metadata": {},
   "outputs": [],
   "source": [
    "import pandas as pd\n",
    "\n",
    "demographics =  pd.read_csv(dataDirName + \"extract/demographics_icd.csv\")\n",
    "vitals_min =  pd.read_csv(dataDirName + \"extract/vitals_min_icd.csv\")\n",
    "vitals_max =  pd.read_csv(dataDirName + \"extract/vitals_max_icd.csv\")\n",
    "vitals_avg =  pd.read_csv(dataDirName + \"extract/vitals_avg_icd.csv\")\n",
    "vitals_stddev =  pd.read_csv(dataDirName + \"extract/vitals_stddev_icd.csv\")\n",
    "vitals_first =  pd.read_csv(dataDirName + \"extract/vitals_first_icd.csv\")\n",
    "vitals_last =  pd.read_csv(dataDirName + \"extract/vitals_last_icd.csv\")\n",
    "lab_measurements_min =  pd.read_csv(dataDirName + \"extract/lab_measurements_min_icd.csv\")\n",
    "lab_measurements_max =  pd.read_csv(dataDirName + \"extract/lab_measurements_max_icd.csv\")\n",
    "lab_measurements_avg =  pd.read_csv(dataDirName + \"extract/lab_measurements_avg_icd.csv\")\n",
    "lab_measurements_stddev =  pd.read_csv(dataDirName + \"extract/lab_measurements_stddev_icd.csv\")\n",
    "lab_measurements_first =  pd.read_csv(dataDirName + \"extract/lab_measurements_first_icd.csv\")\n",
    "lab_measurements_last =  pd.read_csv(dataDirName + \"extract/lab_measurements_last_icd.csv\")"
   ]
  },
  {
   "cell_type": "markdown",
   "metadata": {},
   "source": [
    "### Display counts post extraction"
   ]
  },
  {
   "cell_type": "code",
   "execution_count": 7,
   "metadata": {},
   "outputs": [
    {
     "data": {
      "text/plain": [
       "(12241, 4)"
      ]
     },
     "execution_count": 7,
     "metadata": {},
     "output_type": "execute_result"
    }
   ],
   "source": [
    "demographics.shape"
   ]
  },
  {
   "cell_type": "code",
   "execution_count": 8,
   "metadata": {},
   "outputs": [
    {
     "data": {
      "text/plain": [
       "((5184, 11), (5184, 11), (5184, 11), (5184, 11), (5184, 11), (5184, 11))"
      ]
     },
     "execution_count": 8,
     "metadata": {},
     "output_type": "execute_result"
    }
   ],
   "source": [
    "vitals_min.shape, vitals_max.shape, vitals_avg.shape, vitals_stddev.shape, vitals_first.shape, vitals_last.shape"
   ]
  },
  {
   "cell_type": "code",
   "execution_count": 9,
   "metadata": {},
   "outputs": [
    {
     "data": {
      "text/plain": [
       "((9847, 30), (9847, 30), (9847, 30), (9847, 30), (9847, 30), (9847, 30))"
      ]
     },
     "execution_count": 9,
     "metadata": {},
     "output_type": "execute_result"
    }
   ],
   "source": [
    "lab_measurements_min.shape, lab_measurements_max.shape, lab_measurements_avg.shape, lab_measurements_stddev.shape, lab_measurements_first.shape, lab_measurements_last.shape"
   ]
  },
  {
   "cell_type": "markdown",
   "metadata": {},
   "source": [
    "## Remove attributes with low coverage\n",
    "\n",
    "Removing attributes where the attributes have values that are missing in more than 25 % of the cases"
   ]
  },
  {
   "cell_type": "markdown",
   "metadata": {},
   "source": [
    "### Drop columns with low coverage"
   ]
  },
  {
   "cell_type": "code",
   "execution_count": 10,
   "metadata": {},
   "outputs": [
    {
     "name": "stdout",
     "output_type": "stream",
     "text": [
      "2023-09-24 18:36:37,629 - Anomalies - INFO - Parsing command line arguments\n",
      "2023-09-24 18:36:37,630 - Anomalies - INFO - Start!!\n",
      "2023-09-24 18:36:37,630 - Anomalies - INFO - args.source_file: /home/yram0006/phd/chapter_2/workspace/mortality_data/perfromance_experiment/extract/demographics_icd.csv\n",
      "2023-09-24 18:36:37,630 - Anomalies - INFO - args.chunksize: 10\n",
      "2023-09-24 18:36:37,630 - Anomalies - INFO - args.id_columns: ['person_id']\n",
      "2023-09-24 18:36:37,630 - Anomalies - INFO - args.drop: True\n",
      "2023-09-24 18:36:37,630 - Anomalies - INFO - args.percentage: 0.0\n",
      "2023-09-24 18:36:37,630 - Anomalies - INFO - args.save_path: /home/yram0006/phd/chapter_2/workspace/mortality_data/perfromance_experiment/dropped\n",
      "2023-09-24 18:36:37,630 - Anomalies - INFO - Calculating Missingnes\n",
      "2023-09-24 18:36:42,712 - Anomalies - INFO - Missingness Report\n",
      "2023-09-24 18:36:42,715 - Anomalies - INFO - \n",
      "\n",
      "  column_name  missing_count  total_count  percentage_missing\n",
      "0         age              0        12241                 0.0\n",
      "1   ethnicity              0        12241                 0.0\n",
      "2      gender              0        12241                 0.0\n",
      "\n",
      "2023-09-24 18:36:42,715 - Anomalies - INFO - Dropping columns with above 0.0 % missingness\n",
      "2023-09-24 18:36:43,480 - Anomalies - INFO - Saving data to demographics_icd_dropped.csv\n",
      "2023-09-24 18:36:43,513 - Anomalies - INFO - Done!!\n",
      "2023-09-24 18:36:43,963 - Anomalies - INFO - Parsing command line arguments\n",
      "2023-09-24 18:36:43,965 - Anomalies - INFO - Start!!\n",
      "2023-09-24 18:36:43,965 - Anomalies - INFO - args.source_file: /home/yram0006/phd/chapter_2/workspace/mortality_data/perfromance_experiment/extract/deaths.csv\n",
      "2023-09-24 18:36:43,965 - Anomalies - INFO - args.chunksize: 10\n",
      "2023-09-24 18:36:43,965 - Anomalies - INFO - args.id_columns: ['person_id']\n",
      "2023-09-24 18:36:43,965 - Anomalies - INFO - args.drop: True\n",
      "2023-09-24 18:36:43,965 - Anomalies - INFO - args.percentage: 100.0\n",
      "2023-09-24 18:36:43,965 - Anomalies - INFO - args.save_path: /home/yram0006/phd/chapter_2/workspace/mortality_data/perfromance_experiment/dropped\n",
      "2023-09-24 18:36:43,965 - Anomalies - INFO - Calculating Missingnes\n",
      "2023-09-24 18:36:48,924 - Anomalies - INFO - Missingness Report\n",
      "2023-09-24 18:36:48,927 - Anomalies - INFO - \n",
      "\n",
      "      column_name  missing_count  total_count  percentage_missing\n",
      "0     anchor_time              0        12241                0.00\n",
      "1  death_datetime           8744        12241               71.43\n",
      "\n",
      "2023-09-24 18:36:48,927 - Anomalies - INFO - Dropping columns with above 100.0 % missingness\n",
      "2023-09-24 18:36:49,676 - Anomalies - INFO - Saving data to deaths_dropped.csv\n",
      "2023-09-24 18:36:49,706 - Anomalies - INFO - Done!!\n",
      "2023-09-24 18:36:50,113 - Anomalies - INFO - Parsing command line arguments\n",
      "2023-09-24 18:36:50,114 - Anomalies - INFO - Start!!\n",
      "2023-09-24 18:36:50,114 - Anomalies - INFO - args.source_file: /home/yram0006/phd/chapter_2/workspace/mortality_data/perfromance_experiment/extract/vitals_min_icd.csv\n",
      "2023-09-24 18:36:50,114 - Anomalies - INFO - args.chunksize: 10\n",
      "2023-09-24 18:36:50,114 - Anomalies - INFO - args.id_columns: ['person_id']\n",
      "2023-09-24 18:36:50,115 - Anomalies - INFO - args.drop: True\n",
      "2023-09-24 18:36:50,115 - Anomalies - INFO - args.percentage: 25.0\n",
      "2023-09-24 18:36:50,115 - Anomalies - INFO - args.save_path: /home/yram0006/phd/chapter_2/workspace/mortality_data/perfromance_experiment/dropped\n",
      "2023-09-24 18:36:50,115 - Anomalies - INFO - Calculating Missingnes\n",
      "2023-09-24 18:36:52,229 - Anomalies - INFO - Missingness Report\n",
      "2023-09-24 18:36:52,232 - Anomalies - INFO - \n",
      "\n",
      "  column_name  missing_count  total_count  percentage_missing\n",
      "0       diabp             13         5184                0.25\n",
      "1      gcseye             15         5184                0.29\n",
      "2    gcsmotor             18         5184                0.35\n",
      "3   gcsverbal             17         5184                0.33\n",
      "4   heartrate              3         5184                0.06\n",
      "5      meanbp              3         5184                0.06\n",
      "6    resprate              2         5184                0.04\n",
      "7        spo2              8         5184                0.15\n",
      "8       sysbp             12         5184                0.23\n",
      "9       tempc             44         5184                0.85\n",
      "\n",
      "2023-09-24 18:36:52,232 - Anomalies - INFO - Dropping columns with above 25.0 % missingness\n",
      "2023-09-24 18:36:52,555 - Anomalies - INFO - Saving data to vitals_min_icd_dropped.csv\n",
      "2023-09-24 18:36:52,593 - Anomalies - INFO - Done!!\n",
      "2023-09-24 18:36:53,000 - Anomalies - INFO - Parsing command line arguments\n",
      "2023-09-24 18:36:53,001 - Anomalies - INFO - Start!!\n",
      "2023-09-24 18:36:53,001 - Anomalies - INFO - args.source_file: /home/yram0006/phd/chapter_2/workspace/mortality_data/perfromance_experiment/extract/vitals_max_icd.csv\n",
      "2023-09-24 18:36:53,001 - Anomalies - INFO - args.chunksize: 10\n",
      "2023-09-24 18:36:53,001 - Anomalies - INFO - args.id_columns: ['person_id']\n",
      "2023-09-24 18:36:53,001 - Anomalies - INFO - args.drop: True\n",
      "2023-09-24 18:36:53,001 - Anomalies - INFO - args.percentage: 25.0\n",
      "2023-09-24 18:36:53,001 - Anomalies - INFO - args.save_path: /home/yram0006/phd/chapter_2/workspace/mortality_data/perfromance_experiment/dropped\n",
      "2023-09-24 18:36:53,001 - Anomalies - INFO - Calculating Missingnes\n",
      "2023-09-24 18:36:55,073 - Anomalies - INFO - Missingness Report\n",
      "2023-09-24 18:36:55,076 - Anomalies - INFO - \n",
      "\n",
      "  column_name  missing_count  total_count  percentage_missing\n",
      "0       diabp             13         5184                0.25\n",
      "1      gcseye             15         5184                0.29\n",
      "2    gcsmotor             18         5184                0.35\n",
      "3   gcsverbal             17         5184                0.33\n",
      "4   heartrate              3         5184                0.06\n",
      "5      meanbp              3         5184                0.06\n",
      "6    resprate              2         5184                0.04\n",
      "7        spo2              8         5184                0.15\n",
      "8       sysbp             12         5184                0.23\n",
      "9       tempc             44         5184                0.85\n",
      "\n",
      "2023-09-24 18:36:55,076 - Anomalies - INFO - Dropping columns with above 25.0 % missingness\n",
      "2023-09-24 18:36:55,382 - Anomalies - INFO - Saving data to vitals_max_icd_dropped.csv\n",
      "2023-09-24 18:36:55,420 - Anomalies - INFO - Done!!\n",
      "2023-09-24 18:36:55,829 - Anomalies - INFO - Parsing command line arguments\n",
      "2023-09-24 18:36:55,830 - Anomalies - INFO - Start!!\n",
      "2023-09-24 18:36:55,830 - Anomalies - INFO - args.source_file: /home/yram0006/phd/chapter_2/workspace/mortality_data/perfromance_experiment/extract/vitals_avg_icd.csv\n",
      "2023-09-24 18:36:55,830 - Anomalies - INFO - args.chunksize: 10\n",
      "2023-09-24 18:36:55,831 - Anomalies - INFO - args.id_columns: ['person_id']\n",
      "2023-09-24 18:36:55,831 - Anomalies - INFO - args.drop: True\n",
      "2023-09-24 18:36:55,831 - Anomalies - INFO - args.percentage: 25.0\n",
      "2023-09-24 18:36:55,831 - Anomalies - INFO - args.save_path: /home/yram0006/phd/chapter_2/workspace/mortality_data/perfromance_experiment/dropped\n",
      "2023-09-24 18:36:55,831 - Anomalies - INFO - Calculating Missingnes\n",
      "2023-09-24 18:36:57,933 - Anomalies - INFO - Missingness Report\n",
      "2023-09-24 18:36:57,935 - Anomalies - INFO - \n",
      "\n",
      "  column_name  missing_count  total_count  percentage_missing\n",
      "0       diabp             13         5184                0.25\n",
      "1      gcseye             15         5184                0.29\n",
      "2    gcsmotor             18         5184                0.35\n",
      "3   gcsverbal             17         5184                0.33\n",
      "4   heartrate              3         5184                0.06\n",
      "5      meanbp              3         5184                0.06\n",
      "6    resprate              2         5184                0.04\n",
      "7        spo2              8         5184                0.15\n",
      "8       sysbp             12         5184                0.23\n",
      "9       tempc             44         5184                0.85\n",
      "\n",
      "2023-09-24 18:36:57,935 - Anomalies - INFO - Dropping columns with above 25.0 % missingness\n",
      "2023-09-24 18:36:58,247 - Anomalies - INFO - Saving data to vitals_avg_icd_dropped.csv\n",
      "2023-09-24 18:36:58,304 - Anomalies - INFO - Done!!\n",
      "2023-09-24 18:36:58,713 - Anomalies - INFO - Parsing command line arguments\n",
      "2023-09-24 18:36:58,714 - Anomalies - INFO - Start!!\n",
      "2023-09-24 18:36:58,714 - Anomalies - INFO - args.source_file: /home/yram0006/phd/chapter_2/workspace/mortality_data/perfromance_experiment/extract/vitals_stddev_icd.csv\n",
      "2023-09-24 18:36:58,714 - Anomalies - INFO - args.chunksize: 10\n",
      "2023-09-24 18:36:58,714 - Anomalies - INFO - args.id_columns: ['person_id']\n",
      "2023-09-24 18:36:58,714 - Anomalies - INFO - args.drop: True\n",
      "2023-09-24 18:36:58,714 - Anomalies - INFO - args.percentage: 25.0\n",
      "2023-09-24 18:36:58,714 - Anomalies - INFO - args.save_path: /home/yram0006/phd/chapter_2/workspace/mortality_data/perfromance_experiment/dropped\n",
      "2023-09-24 18:36:58,714 - Anomalies - INFO - Calculating Missingnes\n",
      "2023-09-24 18:37:00,823 - Anomalies - INFO - Missingness Report\n",
      "2023-09-24 18:37:00,826 - Anomalies - INFO - \n",
      "\n",
      "  column_name  missing_count  total_count  percentage_missing\n",
      "0       diabp             14         5184                0.27\n",
      "1      gcseye             61         5184                1.18\n",
      "2    gcsmotor             64         5184                1.23\n",
      "3   gcsverbal             64         5184                1.23\n",
      "4   heartrate              3         5184                0.06\n",
      "5      meanbp              3         5184                0.06\n",
      "6    resprate              2         5184                0.04\n",
      "7        spo2             10         5184                0.19\n",
      "8       sysbp             13         5184                0.25\n",
      "9       tempc             84         5184                1.62\n",
      "\n",
      "2023-09-24 18:37:00,826 - Anomalies - INFO - Dropping columns with above 25.0 % missingness\n",
      "2023-09-24 18:37:01,141 - Anomalies - INFO - Saving data to vitals_stddev_icd_dropped.csv\n",
      "2023-09-24 18:37:01,201 - Anomalies - INFO - Done!!\n",
      "2023-09-24 18:37:01,606 - Anomalies - INFO - Parsing command line arguments\n",
      "2023-09-24 18:37:01,607 - Anomalies - INFO - Start!!\n",
      "2023-09-24 18:37:01,607 - Anomalies - INFO - args.source_file: /home/yram0006/phd/chapter_2/workspace/mortality_data/perfromance_experiment/extract/vitals_first_icd.csv\n",
      "2023-09-24 18:37:01,607 - Anomalies - INFO - args.chunksize: 10\n",
      "2023-09-24 18:37:01,607 - Anomalies - INFO - args.id_columns: ['person_id']\n",
      "2023-09-24 18:37:01,607 - Anomalies - INFO - args.drop: True\n",
      "2023-09-24 18:37:01,607 - Anomalies - INFO - args.percentage: 25.0\n",
      "2023-09-24 18:37:01,607 - Anomalies - INFO - args.save_path: /home/yram0006/phd/chapter_2/workspace/mortality_data/perfromance_experiment/dropped\n",
      "2023-09-24 18:37:01,607 - Anomalies - INFO - Calculating Missingnes\n",
      "2023-09-24 18:37:03,709 - Anomalies - INFO - Missingness Report\n",
      "2023-09-24 18:37:03,711 - Anomalies - INFO - \n",
      "\n",
      "  column_name  missing_count  total_count  percentage_missing\n",
      "0       diabp             13         5184                0.25\n",
      "1      gcseye             15         5184                0.29\n",
      "2    gcsmotor             18         5184                0.35\n",
      "3   gcsverbal             17         5184                0.33\n",
      "4   heartrate              3         5184                0.06\n",
      "5      meanbp              3         5184                0.06\n",
      "6    resprate              2         5184                0.04\n",
      "7        spo2              8         5184                0.15\n",
      "8       sysbp             12         5184                0.23\n",
      "9       tempc             44         5184                0.85\n",
      "\n",
      "2023-09-24 18:37:03,711 - Anomalies - INFO - Dropping columns with above 25.0 % missingness\n",
      "2023-09-24 18:37:04,027 - Anomalies - INFO - Saving data to vitals_first_icd_dropped.csv\n",
      "2023-09-24 18:37:04,064 - Anomalies - INFO - Done!!\n",
      "2023-09-24 18:37:04,467 - Anomalies - INFO - Parsing command line arguments\n",
      "2023-09-24 18:37:04,468 - Anomalies - INFO - Start!!\n",
      "2023-09-24 18:37:04,468 - Anomalies - INFO - args.source_file: /home/yram0006/phd/chapter_2/workspace/mortality_data/perfromance_experiment/extract/vitals_last_icd.csv\n",
      "2023-09-24 18:37:04,468 - Anomalies - INFO - args.chunksize: 10\n",
      "2023-09-24 18:37:04,468 - Anomalies - INFO - args.id_columns: ['person_id']\n",
      "2023-09-24 18:37:04,468 - Anomalies - INFO - args.drop: True\n",
      "2023-09-24 18:37:04,468 - Anomalies - INFO - args.percentage: 25.0\n",
      "2023-09-24 18:37:04,468 - Anomalies - INFO - args.save_path: /home/yram0006/phd/chapter_2/workspace/mortality_data/perfromance_experiment/dropped\n",
      "2023-09-24 18:37:04,468 - Anomalies - INFO - Calculating Missingnes\n",
      "2023-09-24 18:37:06,548 - Anomalies - INFO - Missingness Report\n",
      "2023-09-24 18:37:06,550 - Anomalies - INFO - \n",
      "\n",
      "  column_name  missing_count  total_count  percentage_missing\n",
      "0       diabp             13         5184                0.25\n",
      "1      gcseye             15         5184                0.29\n",
      "2    gcsmotor             18         5184                0.35\n",
      "3   gcsverbal             17         5184                0.33\n",
      "4   heartrate              3         5184                0.06\n",
      "5      meanbp              3         5184                0.06\n",
      "6    resprate              2         5184                0.04\n",
      "7        spo2              8         5184                0.15\n",
      "8       sysbp             12         5184                0.23\n",
      "9       tempc             44         5184                0.85\n",
      "\n",
      "2023-09-24 18:37:06,550 - Anomalies - INFO - Dropping columns with above 25.0 % missingness\n",
      "2023-09-24 18:37:06,860 - Anomalies - INFO - Saving data to vitals_last_icd_dropped.csv\n",
      "2023-09-24 18:37:06,897 - Anomalies - INFO - Done!!\n",
      "2023-09-24 18:37:07,305 - Anomalies - INFO - Parsing command line arguments\n",
      "2023-09-24 18:37:07,306 - Anomalies - INFO - Start!!\n",
      "2023-09-24 18:37:07,306 - Anomalies - INFO - args.source_file: /home/yram0006/phd/chapter_2/workspace/mortality_data/perfromance_experiment/extract/lab_measurements_min_icd.csv\n",
      "2023-09-24 18:37:07,306 - Anomalies - INFO - args.chunksize: 10\n",
      "2023-09-24 18:37:07,306 - Anomalies - INFO - args.id_columns: ['person_id']\n",
      "2023-09-24 18:37:07,306 - Anomalies - INFO - args.drop: True\n",
      "2023-09-24 18:37:07,306 - Anomalies - INFO - args.percentage: 25.0\n",
      "2023-09-24 18:37:07,306 - Anomalies - INFO - args.save_path: /home/yram0006/phd/chapter_2/workspace/mortality_data/perfromance_experiment/dropped\n",
      "2023-09-24 18:37:07,306 - Anomalies - INFO - Calculating Missingnes\n",
      "2023-09-24 18:37:11,798 - Anomalies - INFO - Missingness Report\n",
      "2023-09-24 18:37:11,802 - Anomalies - INFO - \n",
      "\n",
      "                column_name  missing_count  total_count  percentage_missing\n",
      "0                   albumin           4436         9847               45.05\n",
      "1                 anion_gap           2394         9847               24.31\n",
      "2                      aptt           3125         9847               31.74\n",
      "3     band_form_neutrophils           6927         9847               70.35\n",
      "4      base_excess_in_blood           5498         9847               55.83\n",
      "5               bicarbonate             39         9847                0.40\n",
      "6                 bilirubin           3648         9847               37.05\n",
      "7       carbondioxide_blood           5492         9847               55.77\n",
      "8       carbondioxide_serum           5491         9847               55.76\n",
      "9            chloride_blood           8612         9847               87.46\n",
      "10           chloride_serum             44         9847                0.45\n",
      "11               creatinine             33         9847                0.34\n",
      "12            glucose_serum             37         9847                0.38\n",
      "13            glucose_urine           9039         9847               91.79\n",
      "14               hematocrit           2387         9847               24.24\n",
      "15               hemoglobin             46         9847                0.47\n",
      "16                      inr           3070         9847               31.18\n",
      "17                  lactate           3236         9847               32.86\n",
      "18    leukocytes_blood_auto           9765         9847               99.17\n",
      "19  leukocytes_blood_manual           2398         9847               24.35\n",
      "20                   oxygen           5493         9847               55.78\n",
      "21                 ph_blood           5312         9847               53.95\n",
      "22             ph_bodyfluid           9725         9847               98.76\n",
      "23           platelet_count           2387         9847               24.24\n",
      "24          potassium_blood           7402         9847               75.17\n",
      "25          potassium_serum             36         9847                0.37\n",
      "26             sodium_blood           8375         9847               85.05\n",
      "27             sodium_serum             38         9847                0.39\n",
      "28            urea_nitrogen           2392         9847               24.29\n",
      "\n",
      "2023-09-24 18:37:11,802 - Anomalies - INFO - Dropping columns with above 25.0 % missingness\n",
      "2023-09-24 18:37:12,446 - Anomalies - INFO - Saving data to lab_measurements_min_icd_dropped.csv\n",
      "2023-09-24 18:37:12,525 - Anomalies - INFO - Done!!\n",
      "2023-09-24 18:37:12,936 - Anomalies - INFO - Parsing command line arguments\n",
      "2023-09-24 18:37:12,937 - Anomalies - INFO - Start!!\n",
      "2023-09-24 18:37:12,937 - Anomalies - INFO - args.source_file: /home/yram0006/phd/chapter_2/workspace/mortality_data/perfromance_experiment/extract/lab_measurements_max_icd.csv\n",
      "2023-09-24 18:37:12,937 - Anomalies - INFO - args.chunksize: 10\n",
      "2023-09-24 18:37:12,937 - Anomalies - INFO - args.id_columns: ['person_id']\n",
      "2023-09-24 18:37:12,937 - Anomalies - INFO - args.drop: True\n",
      "2023-09-24 18:37:12,937 - Anomalies - INFO - args.percentage: 25.0\n",
      "2023-09-24 18:37:12,937 - Anomalies - INFO - args.save_path: /home/yram0006/phd/chapter_2/workspace/mortality_data/perfromance_experiment/dropped\n",
      "2023-09-24 18:37:12,937 - Anomalies - INFO - Calculating Missingnes\n",
      "2023-09-24 18:37:17,416 - Anomalies - INFO - Missingness Report\n",
      "2023-09-24 18:37:17,420 - Anomalies - INFO - \n",
      "\n",
      "                column_name  missing_count  total_count  percentage_missing\n",
      "0                   albumin           4436         9847               45.05\n",
      "1                 anion_gap           2394         9847               24.31\n",
      "2                      aptt           3125         9847               31.74\n",
      "3     band_form_neutrophils           6927         9847               70.35\n",
      "4      base_excess_in_blood           5498         9847               55.83\n",
      "5               bicarbonate             39         9847                0.40\n",
      "6                 bilirubin           3648         9847               37.05\n",
      "7       carbondioxide_blood           5492         9847               55.77\n",
      "8       carbondioxide_serum           5491         9847               55.76\n",
      "9            chloride_blood           8612         9847               87.46\n",
      "10           chloride_serum             44         9847                0.45\n",
      "11               creatinine             33         9847                0.34\n",
      "12            glucose_serum             37         9847                0.38\n",
      "13            glucose_urine           9039         9847               91.79\n",
      "14               hematocrit           2387         9847               24.24\n",
      "15               hemoglobin             46         9847                0.47\n",
      "16                      inr           3070         9847               31.18\n",
      "17                  lactate           3236         9847               32.86\n",
      "18    leukocytes_blood_auto           9765         9847               99.17\n",
      "19  leukocytes_blood_manual           2398         9847               24.35\n",
      "20                   oxygen           5493         9847               55.78\n",
      "21                 ph_blood           5312         9847               53.95\n",
      "22             ph_bodyfluid           9725         9847               98.76\n",
      "23           platelet_count           2387         9847               24.24\n",
      "24          potassium_blood           7402         9847               75.17\n",
      "25          potassium_serum             36         9847                0.37\n",
      "26             sodium_blood           8375         9847               85.05\n",
      "27             sodium_serum             38         9847                0.39\n",
      "28            urea_nitrogen           2392         9847               24.29\n",
      "\n",
      "2023-09-24 18:37:17,420 - Anomalies - INFO - Dropping columns with above 25.0 % missingness\n",
      "2023-09-24 18:37:18,060 - Anomalies - INFO - Saving data to lab_measurements_max_icd_dropped.csv\n",
      "2023-09-24 18:37:18,138 - Anomalies - INFO - Done!!\n",
      "2023-09-24 18:37:18,552 - Anomalies - INFO - Parsing command line arguments\n",
      "2023-09-24 18:37:18,553 - Anomalies - INFO - Start!!\n",
      "2023-09-24 18:37:18,553 - Anomalies - INFO - args.source_file: /home/yram0006/phd/chapter_2/workspace/mortality_data/perfromance_experiment/extract/lab_measurements_avg_icd.csv\n",
      "2023-09-24 18:37:18,553 - Anomalies - INFO - args.chunksize: 10\n",
      "2023-09-24 18:37:18,553 - Anomalies - INFO - args.id_columns: ['person_id']\n",
      "2023-09-24 18:37:18,553 - Anomalies - INFO - args.drop: True\n",
      "2023-09-24 18:37:18,553 - Anomalies - INFO - args.percentage: 25.0\n",
      "2023-09-24 18:37:18,554 - Anomalies - INFO - args.save_path: /home/yram0006/phd/chapter_2/workspace/mortality_data/perfromance_experiment/dropped\n",
      "2023-09-24 18:37:18,554 - Anomalies - INFO - Calculating Missingnes\n",
      "2023-09-24 18:37:23,067 - Anomalies - INFO - Missingness Report\n",
      "2023-09-24 18:37:23,071 - Anomalies - INFO - \n",
      "\n",
      "                column_name  missing_count  total_count  percentage_missing\n",
      "0                   albumin           4436         9847               45.05\n",
      "1                 anion_gap           2394         9847               24.31\n",
      "2                      aptt           3125         9847               31.74\n",
      "3     band_form_neutrophils           6927         9847               70.35\n",
      "4      base_excess_in_blood           5498         9847               55.83\n",
      "5               bicarbonate             39         9847                0.40\n",
      "6                 bilirubin           3648         9847               37.05\n",
      "7       carbondioxide_blood           5492         9847               55.77\n",
      "8       carbondioxide_serum           5491         9847               55.76\n",
      "9            chloride_blood           8612         9847               87.46\n",
      "10           chloride_serum             44         9847                0.45\n",
      "11               creatinine             33         9847                0.34\n",
      "12            glucose_serum             37         9847                0.38\n",
      "13            glucose_urine           9039         9847               91.79\n",
      "14               hematocrit           2387         9847               24.24\n",
      "15               hemoglobin             46         9847                0.47\n",
      "16                      inr           3070         9847               31.18\n",
      "17                  lactate           3236         9847               32.86\n",
      "18    leukocytes_blood_auto           9765         9847               99.17\n",
      "19  leukocytes_blood_manual           2398         9847               24.35\n",
      "20                   oxygen           5493         9847               55.78\n",
      "21                 ph_blood           5312         9847               53.95\n",
      "22             ph_bodyfluid           9725         9847               98.76\n",
      "23           platelet_count           2387         9847               24.24\n",
      "24          potassium_blood           7402         9847               75.17\n",
      "25          potassium_serum             36         9847                0.37\n",
      "26             sodium_blood           8375         9847               85.05\n",
      "27             sodium_serum             38         9847                0.39\n",
      "28            urea_nitrogen           2392         9847               24.29\n",
      "\n",
      "2023-09-24 18:37:23,071 - Anomalies - INFO - Dropping columns with above 25.0 % missingness\n",
      "2023-09-24 18:37:23,710 - Anomalies - INFO - Saving data to lab_measurements_avg_icd_dropped.csv\n",
      "2023-09-24 18:37:23,814 - Anomalies - INFO - Done!!\n",
      "2023-09-24 18:37:24,231 - Anomalies - INFO - Parsing command line arguments\n",
      "2023-09-24 18:37:24,232 - Anomalies - INFO - Start!!\n",
      "2023-09-24 18:37:24,232 - Anomalies - INFO - args.source_file: /home/yram0006/phd/chapter_2/workspace/mortality_data/perfromance_experiment/extract/lab_measurements_stddev_icd.csv\n",
      "2023-09-24 18:37:24,232 - Anomalies - INFO - args.chunksize: 10\n",
      "2023-09-24 18:37:24,232 - Anomalies - INFO - args.id_columns: ['person_id']\n",
      "2023-09-24 18:37:24,232 - Anomalies - INFO - args.drop: True\n",
      "2023-09-24 18:37:24,232 - Anomalies - INFO - args.percentage: 25.0\n",
      "2023-09-24 18:37:24,232 - Anomalies - INFO - args.save_path: /home/yram0006/phd/chapter_2/workspace/mortality_data/perfromance_experiment/dropped\n",
      "2023-09-24 18:37:24,232 - Anomalies - INFO - Calculating Missingnes\n",
      "2023-09-24 18:37:28,717 - Anomalies - INFO - Missingness Report\n",
      "2023-09-24 18:37:28,721 - Anomalies - INFO - \n",
      "\n",
      "                column_name  missing_count  total_count  percentage_missing\n",
      "0                   albumin           6412         9847               65.12\n",
      "1                 anion_gap           2517         9847               25.56\n",
      "2                      aptt           4037         9847               41.00\n",
      "3     band_form_neutrophils           7937         9847               80.60\n",
      "4      base_excess_in_blood           6157         9847               62.53\n",
      "5               bicarbonate            263         9847                2.67\n",
      "6                 bilirubin           4907         9847               49.83\n",
      "7       carbondioxide_blood           6154         9847               62.50\n",
      "8       carbondioxide_serum           6151         9847               62.47\n",
      "9            chloride_blood           9093         9847               92.34\n",
      "10           chloride_serum            266         9847                2.70\n",
      "11               creatinine            262         9847                2.66\n",
      "12            glucose_serum            268         9847                2.72\n",
      "13            glucose_urine           9488         9847               96.35\n",
      "14               hematocrit           2492         9847               25.31\n",
      "15               hemoglobin            280         9847                2.84\n",
      "16                      inr           3916         9847               39.77\n",
      "17                  lactate           4409         9847               44.78\n",
      "18    leukocytes_blood_auto           9813         9847               99.65\n",
      "19  leukocytes_blood_manual           2501         9847               25.40\n",
      "20                   oxygen           6156         9847               62.52\n",
      "21                 ph_blood           5988         9847               60.81\n",
      "22             ph_bodyfluid           9798         9847               99.50\n",
      "23           platelet_count           2500         9847               25.39\n",
      "24          potassium_blood           8193         9847               83.20\n",
      "25          potassium_serum            267         9847                2.71\n",
      "26             sodium_blood           8924         9847               90.63\n",
      "27             sodium_serum            267         9847                2.71\n",
      "28            urea_nitrogen           2517         9847               25.56\n",
      "\n",
      "2023-09-24 18:37:28,721 - Anomalies - INFO - Dropping columns with above 25.0 % missingness\n",
      "2023-09-24 18:37:29,358 - Anomalies - INFO - Saving data to lab_measurements_stddev_icd_dropped.csv\n",
      "2023-09-24 18:37:29,445 - Anomalies - INFO - Done!!\n",
      "2023-09-24 18:37:29,899 - Anomalies - INFO - Parsing command line arguments\n",
      "2023-09-24 18:37:29,900 - Anomalies - INFO - Start!!\n",
      "2023-09-24 18:37:29,900 - Anomalies - INFO - args.source_file: /home/yram0006/phd/chapter_2/workspace/mortality_data/perfromance_experiment/extract/lab_measurements_first_icd.csv\n",
      "2023-09-24 18:37:29,900 - Anomalies - INFO - args.chunksize: 10\n",
      "2023-09-24 18:37:29,900 - Anomalies - INFO - args.id_columns: ['person_id']\n",
      "2023-09-24 18:37:29,900 - Anomalies - INFO - args.drop: True\n",
      "2023-09-24 18:37:29,900 - Anomalies - INFO - args.percentage: 25.0\n",
      "2023-09-24 18:37:29,900 - Anomalies - INFO - args.save_path: /home/yram0006/phd/chapter_2/workspace/mortality_data/perfromance_experiment/dropped\n",
      "2023-09-24 18:37:29,900 - Anomalies - INFO - Calculating Missingnes\n",
      "2023-09-24 18:37:34,361 - Anomalies - INFO - Missingness Report\n",
      "2023-09-24 18:37:34,364 - Anomalies - INFO - \n",
      "\n",
      "                column_name  missing_count  total_count  percentage_missing\n",
      "0                   albumin           4436         9847               45.05\n",
      "1                 anion_gap           2394         9847               24.31\n",
      "2                      aptt           3125         9847               31.74\n",
      "3     band_form_neutrophils           6927         9847               70.35\n",
      "4      base_excess_in_blood           5498         9847               55.83\n",
      "5               bicarbonate             39         9847                0.40\n",
      "6                 bilirubin           3648         9847               37.05\n",
      "7       carbondioxide_blood           5492         9847               55.77\n",
      "8       carbondioxide_serum           5491         9847               55.76\n",
      "9            chloride_blood           8612         9847               87.46\n",
      "10           chloride_serum             44         9847                0.45\n",
      "11               creatinine             33         9847                0.34\n",
      "12            glucose_serum             37         9847                0.38\n",
      "13            glucose_urine           9039         9847               91.79\n",
      "14               hematocrit           2387         9847               24.24\n",
      "15               hemoglobin             46         9847                0.47\n",
      "16                      inr           3070         9847               31.18\n",
      "17                  lactate           3236         9847               32.86\n",
      "18    leukocytes_blood_auto           9765         9847               99.17\n",
      "19  leukocytes_blood_manual           2398         9847               24.35\n",
      "20                   oxygen           5493         9847               55.78\n",
      "21                 ph_blood           5312         9847               53.95\n",
      "22             ph_bodyfluid           9725         9847               98.76\n",
      "23           platelet_count           2387         9847               24.24\n",
      "24          potassium_blood           7402         9847               75.17\n",
      "25          potassium_serum             36         9847                0.37\n",
      "26             sodium_blood           8375         9847               85.05\n",
      "27             sodium_serum             38         9847                0.39\n",
      "28            urea_nitrogen           2392         9847               24.29\n",
      "\n",
      "2023-09-24 18:37:34,364 - Anomalies - INFO - Dropping columns with above 25.0 % missingness\n",
      "2023-09-24 18:37:35,008 - Anomalies - INFO - Saving data to lab_measurements_first_icd_dropped.csv\n",
      "2023-09-24 18:37:35,087 - Anomalies - INFO - Done!!\n",
      "2023-09-24 18:37:35,499 - Anomalies - INFO - Parsing command line arguments\n",
      "2023-09-24 18:37:35,500 - Anomalies - INFO - Start!!\n",
      "2023-09-24 18:37:35,500 - Anomalies - INFO - args.source_file: /home/yram0006/phd/chapter_2/workspace/mortality_data/perfromance_experiment/extract/lab_measurements_last_icd.csv\n",
      "2023-09-24 18:37:35,500 - Anomalies - INFO - args.chunksize: 10\n",
      "2023-09-24 18:37:35,500 - Anomalies - INFO - args.id_columns: ['person_id']\n",
      "2023-09-24 18:37:35,500 - Anomalies - INFO - args.drop: True\n",
      "2023-09-24 18:37:35,500 - Anomalies - INFO - args.percentage: 25.0\n",
      "2023-09-24 18:37:35,500 - Anomalies - INFO - args.save_path: /home/yram0006/phd/chapter_2/workspace/mortality_data/perfromance_experiment/dropped\n",
      "2023-09-24 18:37:35,500 - Anomalies - INFO - Calculating Missingnes\n",
      "2023-09-24 18:37:39,985 - Anomalies - INFO - Missingness Report\n",
      "2023-09-24 18:37:39,988 - Anomalies - INFO - \n",
      "\n",
      "                column_name  missing_count  total_count  percentage_missing\n",
      "0                   albumin           4436         9847               45.05\n",
      "1                 anion_gap           2394         9847               24.31\n",
      "2                      aptt           3125         9847               31.74\n",
      "3     band_form_neutrophils           6927         9847               70.35\n",
      "4      base_excess_in_blood           5498         9847               55.83\n",
      "5               bicarbonate             39         9847                0.40\n",
      "6                 bilirubin           3648         9847               37.05\n",
      "7       carbondioxide_blood           5492         9847               55.77\n",
      "8       carbondioxide_serum           5491         9847               55.76\n",
      "9            chloride_blood           8612         9847               87.46\n",
      "10           chloride_serum             44         9847                0.45\n",
      "11               creatinine             33         9847                0.34\n",
      "12            glucose_serum             37         9847                0.38\n",
      "13            glucose_urine           9039         9847               91.79\n",
      "14               hematocrit           2387         9847               24.24\n",
      "15               hemoglobin             46         9847                0.47\n",
      "16                      inr           3070         9847               31.18\n",
      "17                  lactate           3236         9847               32.86\n",
      "18    leukocytes_blood_auto           9765         9847               99.17\n",
      "19  leukocytes_blood_manual           2398         9847               24.35\n",
      "20                   oxygen           5493         9847               55.78\n",
      "21                 ph_blood           5312         9847               53.95\n",
      "22             ph_bodyfluid           9725         9847               98.76\n",
      "23           platelet_count           2387         9847               24.24\n",
      "24          potassium_blood           7402         9847               75.17\n",
      "25          potassium_serum             36         9847                0.37\n",
      "26             sodium_blood           8375         9847               85.05\n",
      "27             sodium_serum             38         9847                0.39\n",
      "28            urea_nitrogen           2392         9847               24.29\n",
      "\n",
      "2023-09-24 18:37:39,988 - Anomalies - INFO - Dropping columns with above 25.0 % missingness\n",
      "2023-09-24 18:37:40,625 - Anomalies - INFO - Saving data to lab_measurements_last_icd_dropped.csv\n",
      "2023-09-24 18:37:40,704 - Anomalies - INFO - Done!!\n"
     ]
    },
    {
     "data": {
      "text/plain": [
       "0"
      ]
     },
     "execution_count": 10,
     "metadata": {},
     "output_type": "execute_result"
    }
   ],
   "source": [
    "import os\n",
    "\n",
    "\n",
    "os.system(\n",
    "    '''cd /superbugai-data/yash/chapter_1/workspace/EHRQC;'''\n",
    "    +\n",
    "    '''mkdir -p ''' + dataDirName + '''dropped;'''\n",
    "    +\n",
    "    '''.venv/bin/python -m ehrqc.qc.Coverage ''' + dataDirName + '''extract/demographics_icd.csv 10 person_id -d -p 0 -sp ''' + dataDirName + '''dropped;'''\n",
    "    +\n",
    "    '''.venv/bin/python -m ehrqc.qc.Coverage ''' + dataDirName + '''extract/deaths.csv 10 person_id -d -p 100 -sp ''' + dataDirName + '''dropped;'''\n",
    "    +\n",
    "    '''.venv/bin/python -m ehrqc.qc.Coverage ''' + dataDirName + '''extract/vitals_min_icd.csv 10 person_id -d -p 25 -sp ''' + dataDirName + '''dropped;'''\n",
    "    +\n",
    "    '''.venv/bin/python -m ehrqc.qc.Coverage ''' + dataDirName + '''extract/vitals_max_icd.csv 10 person_id -d -p 25 -sp ''' + dataDirName + '''dropped;'''\n",
    "    +\n",
    "    '''.venv/bin/python -m ehrqc.qc.Coverage ''' + dataDirName + '''extract/vitals_avg_icd.csv 10 person_id -d -p 25 -sp ''' + dataDirName + '''dropped;'''\n",
    "    +\n",
    "    '''.venv/bin/python -m ehrqc.qc.Coverage ''' + dataDirName + '''extract/vitals_stddev_icd.csv 10 person_id -d -p 25 -sp ''' + dataDirName + '''dropped;'''\n",
    "    +\n",
    "    '''.venv/bin/python -m ehrqc.qc.Coverage ''' + dataDirName + '''extract/vitals_first_icd.csv 10 person_id -d -p 25 -sp ''' + dataDirName + '''dropped;'''\n",
    "    +\n",
    "    '''.venv/bin/python -m ehrqc.qc.Coverage ''' + dataDirName + '''extract/vitals_last_icd.csv 10 person_id -d -p 25 -sp ''' + dataDirName + '''dropped;'''\n",
    "    +\n",
    "    '''.venv/bin/python -m ehrqc.qc.Coverage ''' + dataDirName + '''extract/lab_measurements_min_icd.csv 10 person_id -d -p 25 -sp ''' + dataDirName + '''dropped;'''\n",
    "    +\n",
    "    '''.venv/bin/python -m ehrqc.qc.Coverage ''' + dataDirName + '''extract/lab_measurements_max_icd.csv 10 person_id -d -p 25 -sp ''' + dataDirName + '''dropped;'''\n",
    "    +\n",
    "    '''.venv/bin/python -m ehrqc.qc.Coverage ''' + dataDirName + '''extract/lab_measurements_avg_icd.csv 10 person_id -d -p 25 -sp ''' + dataDirName + '''dropped;'''\n",
    "    +\n",
    "    '''.venv/bin/python -m ehrqc.qc.Coverage ''' + dataDirName + '''extract/lab_measurements_stddev_icd.csv 10 person_id -d -p 25 -sp ''' + dataDirName + '''dropped;'''\n",
    "    +\n",
    "    '''.venv/bin/python -m ehrqc.qc.Coverage ''' + dataDirName + '''extract/lab_measurements_first_icd.csv 10 person_id -d -p 25 -sp ''' + dataDirName + '''dropped;'''\n",
    "    +\n",
    "    '''.venv/bin/python -m ehrqc.qc.Coverage ''' + dataDirName + '''extract/lab_measurements_last_icd.csv 10 person_id -d -p 25 -sp ''' + dataDirName + '''dropped;'''\n",
    "    )"
   ]
  },
  {
   "cell_type": "markdown",
   "metadata": {},
   "source": [
    "### Read dropped files"
   ]
  },
  {
   "cell_type": "code",
   "execution_count": 11,
   "metadata": {},
   "outputs": [],
   "source": [
    "import pandas as pd\n",
    "\n",
    "demographics =  pd.read_csv(dataDirName + \"dropped/demographics_icd_dropped.csv\")\n",
    "vitals_min =  pd.read_csv(dataDirName + \"dropped/vitals_min_icd_dropped.csv\")\n",
    "vitals_max =  pd.read_csv(dataDirName + \"dropped/vitals_max_icd_dropped.csv\")\n",
    "vitals_avg =  pd.read_csv(dataDirName + \"dropped/vitals_avg_icd_dropped.csv\")\n",
    "vitals_stddev =  pd.read_csv(dataDirName + \"dropped/vitals_stddev_icd_dropped.csv\")\n",
    "vitals_first =  pd.read_csv(dataDirName + \"dropped/vitals_first_icd_dropped.csv\")\n",
    "vitals_last =  pd.read_csv(dataDirName + \"dropped/vitals_last_icd_dropped.csv\")\n",
    "lab_measurements_min =  pd.read_csv(dataDirName + \"dropped/lab_measurements_min_icd_dropped.csv\")\n",
    "lab_measurements_max =  pd.read_csv(dataDirName + \"dropped/lab_measurements_max_icd_dropped.csv\")\n",
    "lab_measurements_avg =  pd.read_csv(dataDirName + \"dropped/lab_measurements_avg_icd_dropped.csv\")\n",
    "lab_measurements_stddev =  pd.read_csv(dataDirName + \"dropped/lab_measurements_stddev_icd_dropped.csv\")\n",
    "lab_measurements_first =  pd.read_csv(dataDirName + \"dropped/lab_measurements_first_icd_dropped.csv\")\n",
    "lab_measurements_last =  pd.read_csv(dataDirName + \"dropped/lab_measurements_last_icd_dropped.csv\")"
   ]
  },
  {
   "cell_type": "markdown",
   "metadata": {},
   "source": [
    "### Display counts post dropping"
   ]
  },
  {
   "cell_type": "code",
   "execution_count": 12,
   "metadata": {},
   "outputs": [
    {
     "data": {
      "text/plain": [
       "(12241, 4)"
      ]
     },
     "execution_count": 12,
     "metadata": {},
     "output_type": "execute_result"
    }
   ],
   "source": [
    "demographics.shape"
   ]
  },
  {
   "cell_type": "code",
   "execution_count": 13,
   "metadata": {},
   "outputs": [
    {
     "data": {
      "text/plain": [
       "((5184, 11), (5184, 11), (5184, 11), (5184, 11), (5184, 11), (5184, 11))"
      ]
     },
     "execution_count": 13,
     "metadata": {},
     "output_type": "execute_result"
    }
   ],
   "source": [
    "vitals_min.shape, vitals_max.shape, vitals_avg.shape, vitals_stddev.shape, vitals_first.shape, vitals_last.shape"
   ]
  },
  {
   "cell_type": "code",
   "execution_count": 14,
   "metadata": {},
   "outputs": [
    {
     "data": {
      "text/plain": [
       "((9847, 13), (9847, 13), (9847, 13), (9847, 8), (9847, 13), (9847, 13))"
      ]
     },
     "execution_count": 14,
     "metadata": {},
     "output_type": "execute_result"
    }
   ],
   "source": [
    "lab_measurements_min.shape, lab_measurements_max.shape, lab_measurements_avg.shape, lab_measurements_stddev.shape, lab_measurements_first.shape, lab_measurements_last.shape"
   ]
  },
  {
   "cell_type": "markdown",
   "metadata": {},
   "source": [
    "## Missing data imputation\n",
    "\n",
    "Data imputation is performed for all the missing data"
   ]
  },
  {
   "cell_type": "markdown",
   "metadata": {},
   "source": [
    "### Impute missing data"
   ]
  },
  {
   "cell_type": "code",
   "execution_count": 15,
   "metadata": {},
   "outputs": [
    {
     "name": "stdout",
     "output_type": "stream",
     "text": [
      "2023-09-24 18:37:42,371 - EHRQC - INFO - Parsing command line arguments\n",
      "2023-09-24 18:37:42,372 - EHRQC - INFO - args.action: impute\n",
      "2023-09-24 18:37:42,372 - EHRQC - INFO - args.source_path: /home/yram0006/phd/chapter_2/workspace/mortality_data/perfromance_experiment/dropped/vitals_min_icd_dropped.csv\n",
      "2023-09-24 18:37:42,372 - EHRQC - INFO - args.percentage: None\n",
      "2023-09-24 18:37:42,372 - EHRQC - INFO - args.save_path: /home/yram0006/phd/chapter_2/workspace/mortality_data/perfromance_experiment/imputed/vitals_min_icd.csv\n",
      "2023-09-24 18:37:42,372 - EHRQC - INFO - args.algorithm: miss_forest\n",
      "Iteration: 0\n",
      "Iteration: 1\n",
      "Iteration: 2\n",
      "Iteration: 3\n",
      "Iteration: 4\n",
      "2023-09-24 18:37:58,345 - EHRQC - INFO - Done!!\n",
      "2023-09-24 18:38:00,079 - EHRQC - INFO - Parsing command line arguments\n",
      "2023-09-24 18:38:00,080 - EHRQC - INFO - args.action: impute\n",
      "2023-09-24 18:38:00,080 - EHRQC - INFO - args.source_path: /home/yram0006/phd/chapter_2/workspace/mortality_data/perfromance_experiment/dropped/vitals_max_icd_dropped.csv\n",
      "2023-09-24 18:38:00,080 - EHRQC - INFO - args.percentage: None\n",
      "2023-09-24 18:38:00,080 - EHRQC - INFO - args.save_path: /home/yram0006/phd/chapter_2/workspace/mortality_data/perfromance_experiment/imputed/vitals_max_icd.csv\n",
      "2023-09-24 18:38:00,080 - EHRQC - INFO - args.algorithm: miss_forest\n",
      "Iteration: 0\n",
      "Iteration: 1\n",
      "2023-09-24 18:38:06,518 - EHRQC - INFO - Done!!\n",
      "2023-09-24 18:38:08,284 - EHRQC - INFO - Parsing command line arguments\n",
      "2023-09-24 18:38:08,285 - EHRQC - INFO - args.action: impute\n",
      "2023-09-24 18:38:08,285 - EHRQC - INFO - args.source_path: /home/yram0006/phd/chapter_2/workspace/mortality_data/perfromance_experiment/dropped/vitals_avg_icd_dropped.csv\n",
      "2023-09-24 18:38:08,285 - EHRQC - INFO - args.percentage: None\n",
      "2023-09-24 18:38:08,285 - EHRQC - INFO - args.save_path: /home/yram0006/phd/chapter_2/workspace/mortality_data/perfromance_experiment/imputed/vitals_avg_icd.csv\n",
      "2023-09-24 18:38:08,285 - EHRQC - INFO - args.algorithm: miss_forest\n",
      "Iteration: 0\n",
      "Iteration: 1\n",
      "Iteration: 2\n",
      "Iteration: 3\n",
      "Iteration: 4\n",
      "Iteration: 5\n",
      "2023-09-24 18:38:32,649 - EHRQC - INFO - Done!!\n",
      "2023-09-24 18:38:34,380 - EHRQC - INFO - Parsing command line arguments\n",
      "2023-09-24 18:38:34,381 - EHRQC - INFO - args.action: impute\n",
      "2023-09-24 18:38:34,381 - EHRQC - INFO - args.source_path: /home/yram0006/phd/chapter_2/workspace/mortality_data/perfromance_experiment/dropped/vitals_stddev_icd_dropped.csv\n",
      "2023-09-24 18:38:34,381 - EHRQC - INFO - args.percentage: None\n",
      "2023-09-24 18:38:34,381 - EHRQC - INFO - args.save_path: /home/yram0006/phd/chapter_2/workspace/mortality_data/perfromance_experiment/imputed/vitals_stddev_icd.csv\n",
      "2023-09-24 18:38:34,381 - EHRQC - INFO - args.algorithm: miss_forest\n",
      "Iteration: 0\n",
      "Iteration: 1\n",
      "Iteration: 2\n",
      "Iteration: 3\n",
      "Iteration: 4\n",
      "2023-09-24 18:38:55,078 - EHRQC - INFO - Done!!\n",
      "2023-09-24 18:38:56,755 - EHRQC - INFO - Parsing command line arguments\n",
      "2023-09-24 18:38:56,756 - EHRQC - INFO - args.action: impute\n",
      "2023-09-24 18:38:56,756 - EHRQC - INFO - args.source_path: /home/yram0006/phd/chapter_2/workspace/mortality_data/perfromance_experiment/dropped/vitals_first_icd_dropped.csv\n",
      "2023-09-24 18:38:56,756 - EHRQC - INFO - args.percentage: None\n",
      "2023-09-24 18:38:56,756 - EHRQC - INFO - args.save_path: /home/yram0006/phd/chapter_2/workspace/mortality_data/perfromance_experiment/imputed/vitals_first_icd.csv\n",
      "2023-09-24 18:38:56,756 - EHRQC - INFO - args.algorithm: miss_forest\n",
      "Iteration: 0\n",
      "Iteration: 1\n",
      "Iteration: 2\n",
      "Iteration: 3\n",
      "Iteration: 4\n",
      "Iteration: 5\n",
      "2023-09-24 18:39:15,784 - EHRQC - INFO - Done!!\n",
      "2023-09-24 18:39:17,531 - EHRQC - INFO - Parsing command line arguments\n",
      "2023-09-24 18:39:17,531 - EHRQC - INFO - args.action: impute\n",
      "2023-09-24 18:39:17,532 - EHRQC - INFO - args.source_path: /home/yram0006/phd/chapter_2/workspace/mortality_data/perfromance_experiment/dropped/vitals_last_icd_dropped.csv\n",
      "2023-09-24 18:39:17,532 - EHRQC - INFO - args.percentage: None\n",
      "2023-09-24 18:39:17,532 - EHRQC - INFO - args.save_path: /home/yram0006/phd/chapter_2/workspace/mortality_data/perfromance_experiment/imputed/vitals_last_icd.csv\n",
      "2023-09-24 18:39:17,532 - EHRQC - INFO - args.algorithm: miss_forest\n",
      "Iteration: 0\n",
      "Iteration: 1\n",
      "Iteration: 2\n",
      "2023-09-24 18:39:27,528 - EHRQC - INFO - Done!!\n",
      "2023-09-24 18:39:29,212 - EHRQC - INFO - Parsing command line arguments\n",
      "2023-09-24 18:39:29,213 - EHRQC - INFO - args.action: impute\n",
      "2023-09-24 18:39:29,213 - EHRQC - INFO - args.source_path: /home/yram0006/phd/chapter_2/workspace/mortality_data/perfromance_experiment/dropped/lab_measurements_min_icd_dropped.csv\n",
      "2023-09-24 18:39:29,213 - EHRQC - INFO - args.percentage: None\n",
      "2023-09-24 18:39:29,213 - EHRQC - INFO - args.save_path: /home/yram0006/phd/chapter_2/workspace/mortality_data/perfromance_experiment/imputed/lab_measurements_min_icd.csv\n",
      "2023-09-24 18:39:29,213 - EHRQC - INFO - args.algorithm: miss_forest\n",
      "Iteration: 0\n",
      "Iteration: 1\n",
      "Iteration: 2\n",
      "Iteration: 3\n",
      "Iteration: 4\n",
      "Iteration: 5\n",
      "2023-09-24 18:40:10,303 - EHRQC - INFO - Done!!\n",
      "2023-09-24 18:40:12,061 - EHRQC - INFO - Parsing command line arguments\n",
      "2023-09-24 18:40:12,062 - EHRQC - INFO - args.action: impute\n",
      "2023-09-24 18:40:12,062 - EHRQC - INFO - args.source_path: /home/yram0006/phd/chapter_2/workspace/mortality_data/perfromance_experiment/dropped/lab_measurements_max_icd_dropped.csv\n",
      "2023-09-24 18:40:12,062 - EHRQC - INFO - args.percentage: None\n",
      "2023-09-24 18:40:12,062 - EHRQC - INFO - args.save_path: /home/yram0006/phd/chapter_2/workspace/mortality_data/perfromance_experiment/imputed/lab_measurements_max_icd.csv\n",
      "2023-09-24 18:40:12,062 - EHRQC - INFO - args.algorithm: miss_forest\n",
      "Iteration: 0\n",
      "Iteration: 1\n",
      "Iteration: 2\n",
      "Iteration: 3\n",
      "2023-09-24 18:40:40,881 - EHRQC - INFO - Done!!\n",
      "2023-09-24 18:40:42,603 - EHRQC - INFO - Parsing command line arguments\n",
      "2023-09-24 18:40:42,604 - EHRQC - INFO - args.action: impute\n",
      "2023-09-24 18:40:42,604 - EHRQC - INFO - args.source_path: /home/yram0006/phd/chapter_2/workspace/mortality_data/perfromance_experiment/dropped/lab_measurements_avg_icd_dropped.csv\n",
      "2023-09-24 18:40:42,604 - EHRQC - INFO - args.percentage: None\n",
      "2023-09-24 18:40:42,604 - EHRQC - INFO - args.save_path: /home/yram0006/phd/chapter_2/workspace/mortality_data/perfromance_experiment/imputed/lab_measurements_avg_icd.csv\n",
      "2023-09-24 18:40:42,604 - EHRQC - INFO - args.algorithm: miss_forest\n",
      "Iteration: 0\n",
      "Iteration: 1\n",
      "2023-09-24 18:40:59,878 - EHRQC - INFO - Done!!\n",
      "2023-09-24 18:41:01,611 - EHRQC - INFO - Parsing command line arguments\n",
      "2023-09-24 18:41:01,612 - EHRQC - INFO - args.action: impute\n",
      "2023-09-24 18:41:01,612 - EHRQC - INFO - args.source_path: /home/yram0006/phd/chapter_2/workspace/mortality_data/perfromance_experiment/dropped/lab_measurements_stddev_icd_dropped.csv\n",
      "2023-09-24 18:41:01,612 - EHRQC - INFO - args.percentage: None\n",
      "2023-09-24 18:41:01,612 - EHRQC - INFO - args.save_path: /home/yram0006/phd/chapter_2/workspace/mortality_data/perfromance_experiment/imputed/lab_measurements_stddev_icd.csv\n",
      "2023-09-24 18:41:01,612 - EHRQC - INFO - args.algorithm: miss_forest\n",
      "Iteration: 0\n",
      "Iteration: 1\n",
      "Iteration: 2\n",
      "Iteration: 3\n",
      "Iteration: 4\n",
      "2023-09-24 18:41:22,469 - EHRQC - INFO - Done!!\n",
      "2023-09-24 18:41:24,178 - EHRQC - INFO - Parsing command line arguments\n",
      "2023-09-24 18:41:24,179 - EHRQC - INFO - args.action: impute\n",
      "2023-09-24 18:41:24,179 - EHRQC - INFO - args.source_path: /home/yram0006/phd/chapter_2/workspace/mortality_data/perfromance_experiment/dropped/lab_measurements_first_icd_dropped.csv\n",
      "2023-09-24 18:41:24,179 - EHRQC - INFO - args.percentage: None\n",
      "2023-09-24 18:41:24,180 - EHRQC - INFO - args.save_path: /home/yram0006/phd/chapter_2/workspace/mortality_data/perfromance_experiment/imputed/lab_measurements_first_icd.csv\n",
      "2023-09-24 18:41:24,180 - EHRQC - INFO - args.algorithm: miss_forest\n",
      "Iteration: 0\n",
      "Iteration: 1\n",
      "Iteration: 2\n",
      "Iteration: 3\n",
      "Iteration: 4\n",
      "Iteration: 5\n",
      "Iteration: 6\n",
      "2023-09-24 18:42:13,411 - EHRQC - INFO - Done!!\n",
      "2023-09-24 18:42:15,214 - EHRQC - INFO - Parsing command line arguments\n",
      "2023-09-24 18:42:15,215 - EHRQC - INFO - args.action: impute\n",
      "2023-09-24 18:42:15,215 - EHRQC - INFO - args.source_path: /home/yram0006/phd/chapter_2/workspace/mortality_data/perfromance_experiment/dropped/lab_measurements_last_icd_dropped.csv\n",
      "2023-09-24 18:42:15,215 - EHRQC - INFO - args.percentage: None\n",
      "2023-09-24 18:42:15,215 - EHRQC - INFO - args.save_path: /home/yram0006/phd/chapter_2/workspace/mortality_data/perfromance_experiment/imputed/lab_measurements_last_icd.csv\n",
      "2023-09-24 18:42:15,215 - EHRQC - INFO - args.algorithm: miss_forest\n",
      "Iteration: 0\n",
      "Iteration: 1\n",
      "Iteration: 2\n",
      "Iteration: 3\n",
      "2023-09-24 18:42:42,526 - EHRQC - INFO - Done!!\n"
     ]
    },
    {
     "data": {
      "text/plain": [
       "0"
      ]
     },
     "execution_count": 15,
     "metadata": {},
     "output_type": "execute_result"
    }
   ],
   "source": [
    "import os\n",
    "\n",
    "\n",
    "os.system(\n",
    "    '''cd /superbugai-data/yash/chapter_1/workspace/EHRQC;'''\n",
    "    +\n",
    "    '''mkdir -p ''' + dataDirName + '''imputed;'''\n",
    "    +\n",
    "    '''.venv/bin/python -m ehrqc.qc.Impute \"impute\" \"''' + dataDirName + '''dropped/vitals_min_icd_dropped.csv\"  -sp=\"''' + dataDirName + '''imputed/vitals_min_icd.csv\" -a=\"miss_forest\";'''\n",
    "    +\n",
    "    '''.venv/bin/python -m ehrqc.qc.Impute \"impute\" \"''' + dataDirName + '''dropped/vitals_max_icd_dropped.csv\"  -sp=\"''' + dataDirName + '''imputed/vitals_max_icd.csv\" -a=\"miss_forest\";'''\n",
    "    +\n",
    "    '''.venv/bin/python -m ehrqc.qc.Impute \"impute\" \"''' + dataDirName + '''dropped/vitals_avg_icd_dropped.csv\"  -sp=\"''' + dataDirName + '''imputed/vitals_avg_icd.csv\" -a=\"miss_forest\";'''\n",
    "    +\n",
    "    '''.venv/bin/python -m ehrqc.qc.Impute \"impute\" \"''' + dataDirName + '''dropped/vitals_stddev_icd_dropped.csv\"  -sp=\"''' + dataDirName + '''imputed/vitals_stddev_icd.csv\" -a=\"miss_forest\";'''\n",
    "    +\n",
    "    '''.venv/bin/python -m ehrqc.qc.Impute \"impute\" \"''' + dataDirName + '''dropped/vitals_first_icd_dropped.csv\"  -sp=\"''' + dataDirName + '''imputed/vitals_first_icd.csv\" -a=\"miss_forest\";'''\n",
    "    +\n",
    "    '''.venv/bin/python -m ehrqc.qc.Impute \"impute\" \"''' + dataDirName + '''dropped/vitals_last_icd_dropped.csv\"  -sp=\"''' + dataDirName + '''imputed/vitals_last_icd.csv\" -a=\"miss_forest\";'''\n",
    "    +\n",
    "    '''.venv/bin/python -m ehrqc.qc.Impute \"impute\" \"''' + dataDirName + '''dropped/lab_measurements_min_icd_dropped.csv\"  -sp=\"''' + dataDirName + '''imputed/lab_measurements_min_icd.csv\" -a=\"miss_forest\";'''\n",
    "    +\n",
    "    '''.venv/bin/python -m ehrqc.qc.Impute \"impute\" \"''' + dataDirName + '''dropped/lab_measurements_max_icd_dropped.csv\"  -sp=\"''' + dataDirName + '''imputed/lab_measurements_max_icd.csv\" -a=\"miss_forest\";'''\n",
    "    +\n",
    "    '''.venv/bin/python -m ehrqc.qc.Impute \"impute\" \"''' + dataDirName + '''dropped/lab_measurements_avg_icd_dropped.csv\"  -sp=\"''' + dataDirName + '''imputed/lab_measurements_avg_icd.csv\" -a=\"miss_forest\";'''\n",
    "    +\n",
    "    '''.venv/bin/python -m ehrqc.qc.Impute \"impute\" \"''' + dataDirName + '''dropped/lab_measurements_stddev_icd_dropped.csv\"  -sp=\"''' + dataDirName + '''imputed/lab_measurements_stddev_icd.csv\" -a=\"miss_forest\";'''\n",
    "    +\n",
    "    '''.venv/bin/python -m ehrqc.qc.Impute \"impute\" \"''' + dataDirName + '''dropped/lab_measurements_first_icd_dropped.csv\"  -sp=\"''' + dataDirName + '''imputed/lab_measurements_first_icd.csv\" -a=\"miss_forest\";'''\n",
    "    +\n",
    "    '''.venv/bin/python -m ehrqc.qc.Impute \"impute\" \"''' + dataDirName + '''dropped/lab_measurements_last_icd_dropped.csv\"  -sp=\"''' + dataDirName + '''imputed/lab_measurements_last_icd.csv\" -a=\"miss_forest\";'''\n",
    "    )\n"
   ]
  },
  {
   "cell_type": "markdown",
   "metadata": {},
   "source": [
    "### Read imputed files"
   ]
  },
  {
   "cell_type": "code",
   "execution_count": 16,
   "metadata": {},
   "outputs": [],
   "source": [
    "import pandas as pd\n",
    "\n",
    "\n",
    "vitals_min =  pd.read_csv(dataDirName + \"imputed/vitals_min_icd.csv\")\n",
    "vitals_max =  pd.read_csv(dataDirName + \"imputed/vitals_max_icd.csv\")\n",
    "vitals_avg =  pd.read_csv(dataDirName + \"imputed/vitals_avg_icd.csv\")\n",
    "vitals_stddev =  pd.read_csv(dataDirName + \"imputed/vitals_stddev_icd.csv\")\n",
    "vitals_first =  pd.read_csv(dataDirName + \"imputed/vitals_first_icd.csv\")\n",
    "vitals_last =  pd.read_csv(dataDirName + \"imputed/vitals_last_icd.csv\")\n",
    "lab_measurements_min =  pd.read_csv(dataDirName + \"imputed/lab_measurements_min_icd.csv\")\n",
    "lab_measurements_max =  pd.read_csv(dataDirName + \"imputed/lab_measurements_max_icd.csv\")\n",
    "lab_measurements_avg =  pd.read_csv(dataDirName + \"imputed/lab_measurements_avg_icd.csv\")\n",
    "lab_measurements_stddev =  pd.read_csv(dataDirName + \"imputed/lab_measurements_stddev_icd.csv\")\n",
    "lab_measurements_first =  pd.read_csv(dataDirName + \"imputed/lab_measurements_first_icd.csv\")\n",
    "lab_measurements_last =  pd.read_csv(dataDirName + \"imputed/lab_measurements_last_icd.csv\")"
   ]
  },
  {
   "cell_type": "markdown",
   "metadata": {},
   "source": [
    "### Display counts post imputation"
   ]
  },
  {
   "cell_type": "code",
   "execution_count": 17,
   "metadata": {},
   "outputs": [
    {
     "data": {
      "text/plain": [
       "(12241, 4)"
      ]
     },
     "execution_count": 17,
     "metadata": {},
     "output_type": "execute_result"
    }
   ],
   "source": [
    "demographics.shape"
   ]
  },
  {
   "cell_type": "code",
   "execution_count": 18,
   "metadata": {},
   "outputs": [
    {
     "data": {
      "text/plain": [
       "((5184, 11), (5184, 11), (5184, 11), (5184, 11), (5184, 11), (5184, 11))"
      ]
     },
     "execution_count": 18,
     "metadata": {},
     "output_type": "execute_result"
    }
   ],
   "source": [
    "vitals_min.shape, vitals_max.shape, vitals_avg.shape, vitals_stddev.shape, vitals_first.shape, vitals_last.shape"
   ]
  },
  {
   "cell_type": "code",
   "execution_count": 19,
   "metadata": {},
   "outputs": [
    {
     "data": {
      "text/plain": [
       "((9847, 13), (9847, 13), (9847, 13), (9847, 8), (9847, 13), (9847, 13))"
      ]
     },
     "execution_count": 19,
     "metadata": {},
     "output_type": "execute_result"
    }
   ],
   "source": [
    "lab_measurements_min.shape, lab_measurements_max.shape, lab_measurements_avg.shape, lab_measurements_stddev.shape, lab_measurements_first.shape, lab_measurements_last.shape"
   ]
  },
  {
   "cell_type": "markdown",
   "metadata": {},
   "source": [
    "## Outlier removal using IRT"
   ]
  },
  {
   "cell_type": "markdown",
   "metadata": {},
   "source": [
    "### Remove outliers"
   ]
  },
  {
   "cell_type": "code",
   "execution_count": 20,
   "metadata": {},
   "outputs": [
    {
     "name": "stdout",
     "output_type": "stream",
     "text": [
      "2023-09-24 18:42:44,464 - Anomalies - INFO - Parsing command line arguments\n",
      "2023-09-24 18:42:44,465 - Anomalies - INFO - Start!!\n",
      "2023-09-24 18:42:44,465 - Anomalies - INFO - args.source_path: /home/yram0006/phd/chapter_2/workspace/mortality_data/perfromance_experiment/imputed/vitals_min_icd.csv\n",
      "2023-09-24 18:42:44,465 - Anomalies - INFO - args.save_path: /home/yram0006/phd/chapter_2/workspace/mortality_data/perfromance_experiment/outlier_removal/\n",
      "2023-09-24 18:42:44,465 - Anomalies - INFO - args.save_prefix: vitals_min_icd\n",
      "2023-09-24 18:42:44,465 - Anomalies - INFO - args.detect_missing: False\n",
      "2023-09-24 18:42:44,465 - Anomalies - INFO - args.detect_outliers: False\n",
      "2023-09-24 18:42:44,465 - Anomalies - INFO - args.detect_errors: False\n",
      "2023-09-24 18:42:44,465 - Anomalies - INFO - args.detect_inconsistencies: False\n",
      "2023-09-24 18:42:44,465 - Anomalies - INFO - args.correct_missing: False\n",
      "2023-09-24 18:42:44,466 - Anomalies - INFO - args.correct_outliers: True\n"
     ]
    },
    {
     "name": "stderr",
     "output_type": "stream",
     "text": [
      "Warning message:\n",
      "In sqrt(diag(solve(Hess))) : NaNs produced\n"
     ]
    },
    {
     "name": "stdout",
     "output_type": "stream",
     "text": [
      "2023-09-24 18:42:54,355 - Anomalies - INFO - Done!!\n",
      "2023-09-24 18:42:56,029 - Anomalies - INFO - Parsing command line arguments\n",
      "2023-09-24 18:42:56,031 - Anomalies - INFO - Start!!\n",
      "2023-09-24 18:42:56,031 - Anomalies - INFO - args.source_path: /home/yram0006/phd/chapter_2/workspace/mortality_data/perfromance_experiment/imputed/vitals_max_icd.csv\n",
      "2023-09-24 18:42:56,031 - Anomalies - INFO - args.save_path: /home/yram0006/phd/chapter_2/workspace/mortality_data/perfromance_experiment/outlier_removal/\n",
      "2023-09-24 18:42:56,031 - Anomalies - INFO - args.save_prefix: vitals_max_icd\n",
      "2023-09-24 18:42:56,031 - Anomalies - INFO - args.detect_missing: False\n",
      "2023-09-24 18:42:56,031 - Anomalies - INFO - args.detect_outliers: False\n",
      "2023-09-24 18:42:56,031 - Anomalies - INFO - args.detect_errors: False\n",
      "2023-09-24 18:42:56,031 - Anomalies - INFO - args.detect_inconsistencies: False\n",
      "2023-09-24 18:42:56,031 - Anomalies - INFO - args.correct_missing: False\n",
      "2023-09-24 18:42:56,031 - Anomalies - INFO - args.correct_outliers: True\n"
     ]
    },
    {
     "name": "stderr",
     "output_type": "stream",
     "text": [
      "Warning message:\n",
      "In sqrt(diag(solve(Hess))) : NaNs produced\n"
     ]
    },
    {
     "name": "stdout",
     "output_type": "stream",
     "text": [
      "2023-09-24 18:43:05,951 - Anomalies - INFO - Done!!\n",
      "2023-09-24 18:43:07,669 - Anomalies - INFO - Parsing command line arguments\n",
      "2023-09-24 18:43:07,670 - Anomalies - INFO - Start!!\n",
      "2023-09-24 18:43:07,670 - Anomalies - INFO - args.source_path: /home/yram0006/phd/chapter_2/workspace/mortality_data/perfromance_experiment/imputed/vitals_avg_icd.csv\n",
      "2023-09-24 18:43:07,670 - Anomalies - INFO - args.save_path: /home/yram0006/phd/chapter_2/workspace/mortality_data/perfromance_experiment/outlier_removal/\n",
      "2023-09-24 18:43:07,670 - Anomalies - INFO - args.save_prefix: vitals_avg_icd\n",
      "2023-09-24 18:43:07,670 - Anomalies - INFO - args.detect_missing: False\n",
      "2023-09-24 18:43:07,670 - Anomalies - INFO - args.detect_outliers: False\n",
      "2023-09-24 18:43:07,670 - Anomalies - INFO - args.detect_errors: False\n",
      "2023-09-24 18:43:07,670 - Anomalies - INFO - args.detect_inconsistencies: False\n",
      "2023-09-24 18:43:07,670 - Anomalies - INFO - args.correct_missing: False\n",
      "2023-09-24 18:43:07,670 - Anomalies - INFO - args.correct_outliers: True\n"
     ]
    },
    {
     "name": "stderr",
     "output_type": "stream",
     "text": [
      "Warning message:\n",
      "In sqrt(diag(solve(Hess))) : NaNs produced\n"
     ]
    },
    {
     "name": "stdout",
     "output_type": "stream",
     "text": [
      "2023-09-24 18:43:17,785 - Anomalies - INFO - Done!!\n",
      "2023-09-24 18:43:19,539 - Anomalies - INFO - Parsing command line arguments\n",
      "2023-09-24 18:43:19,541 - Anomalies - INFO - Start!!\n",
      "2023-09-24 18:43:19,541 - Anomalies - INFO - args.source_path: /home/yram0006/phd/chapter_2/workspace/mortality_data/perfromance_experiment/imputed/vitals_stddev_icd.csv\n",
      "2023-09-24 18:43:19,541 - Anomalies - INFO - args.save_path: /home/yram0006/phd/chapter_2/workspace/mortality_data/perfromance_experiment/outlier_removal/\n",
      "2023-09-24 18:43:19,541 - Anomalies - INFO - args.save_prefix: vitals_stddev_icd\n",
      "2023-09-24 18:43:19,541 - Anomalies - INFO - args.detect_missing: False\n",
      "2023-09-24 18:43:19,541 - Anomalies - INFO - args.detect_outliers: False\n",
      "2023-09-24 18:43:19,541 - Anomalies - INFO - args.detect_errors: False\n",
      "2023-09-24 18:43:19,541 - Anomalies - INFO - args.detect_inconsistencies: False\n",
      "2023-09-24 18:43:19,541 - Anomalies - INFO - args.correct_missing: False\n",
      "2023-09-24 18:43:19,541 - Anomalies - INFO - args.correct_outliers: True\n"
     ]
    },
    {
     "name": "stderr",
     "output_type": "stream",
     "text": [
      "Warning message:\n",
      "In sqrt(diag(solve(Hess))) : NaNs produced\n"
     ]
    },
    {
     "name": "stdout",
     "output_type": "stream",
     "text": [
      "2023-09-24 18:43:29,499 - Anomalies - INFO - Done!!\n",
      "2023-09-24 18:43:31,227 - Anomalies - INFO - Parsing command line arguments\n",
      "2023-09-24 18:43:31,228 - Anomalies - INFO - Start!!\n",
      "2023-09-24 18:43:31,228 - Anomalies - INFO - args.source_path: /home/yram0006/phd/chapter_2/workspace/mortality_data/perfromance_experiment/imputed/vitals_first_icd.csv\n",
      "2023-09-24 18:43:31,228 - Anomalies - INFO - args.save_path: /home/yram0006/phd/chapter_2/workspace/mortality_data/perfromance_experiment/outlier_removal/\n",
      "2023-09-24 18:43:31,228 - Anomalies - INFO - args.save_prefix: vitals_first_icd\n",
      "2023-09-24 18:43:31,228 - Anomalies - INFO - args.detect_missing: False\n",
      "2023-09-24 18:43:31,228 - Anomalies - INFO - args.detect_outliers: False\n",
      "2023-09-24 18:43:31,228 - Anomalies - INFO - args.detect_errors: False\n",
      "2023-09-24 18:43:31,228 - Anomalies - INFO - args.detect_inconsistencies: False\n",
      "2023-09-24 18:43:31,228 - Anomalies - INFO - args.correct_missing: False\n",
      "2023-09-24 18:43:31,228 - Anomalies - INFO - args.correct_outliers: True\n"
     ]
    },
    {
     "name": "stderr",
     "output_type": "stream",
     "text": [
      "Warning message:\n",
      "In sqrt(diag(solve(Hess))) : NaNs produced\n"
     ]
    },
    {
     "name": "stdout",
     "output_type": "stream",
     "text": [
      "2023-09-24 18:43:41,077 - Anomalies - INFO - Done!!\n",
      "2023-09-24 18:43:42,796 - Anomalies - INFO - Parsing command line arguments\n",
      "2023-09-24 18:43:42,797 - Anomalies - INFO - Start!!\n",
      "2023-09-24 18:43:42,797 - Anomalies - INFO - args.source_path: /home/yram0006/phd/chapter_2/workspace/mortality_data/perfromance_experiment/imputed/vitals_last_icd.csv\n",
      "2023-09-24 18:43:42,797 - Anomalies - INFO - args.save_path: /home/yram0006/phd/chapter_2/workspace/mortality_data/perfromance_experiment/outlier_removal/\n",
      "2023-09-24 18:43:42,798 - Anomalies - INFO - args.save_prefix: vitals_last_icd\n",
      "2023-09-24 18:43:42,798 - Anomalies - INFO - args.detect_missing: False\n",
      "2023-09-24 18:43:42,798 - Anomalies - INFO - args.detect_outliers: False\n",
      "2023-09-24 18:43:42,798 - Anomalies - INFO - args.detect_errors: False\n",
      "2023-09-24 18:43:42,798 - Anomalies - INFO - args.detect_inconsistencies: False\n",
      "2023-09-24 18:43:42,798 - Anomalies - INFO - args.correct_missing: False\n",
      "2023-09-24 18:43:42,798 - Anomalies - INFO - args.correct_outliers: True\n"
     ]
    },
    {
     "name": "stderr",
     "output_type": "stream",
     "text": [
      "Warning message:\n",
      "In sqrt(diag(solve(Hess))) : NaNs produced\n"
     ]
    },
    {
     "name": "stdout",
     "output_type": "stream",
     "text": [
      "2023-09-24 18:43:52,644 - Anomalies - INFO - Done!!\n",
      "2023-09-24 18:43:54,344 - Anomalies - INFO - Parsing command line arguments\n",
      "2023-09-24 18:43:54,345 - Anomalies - INFO - Start!!\n",
      "2023-09-24 18:43:54,345 - Anomalies - INFO - args.source_path: /home/yram0006/phd/chapter_2/workspace/mortality_data/perfromance_experiment/imputed/lab_measurements_min_icd.csv\n",
      "2023-09-24 18:43:54,345 - Anomalies - INFO - args.save_path: /home/yram0006/phd/chapter_2/workspace/mortality_data/perfromance_experiment/outlier_removal/\n",
      "2023-09-24 18:43:54,345 - Anomalies - INFO - args.save_prefix: lab_measurements_min_icd\n",
      "2023-09-24 18:43:54,345 - Anomalies - INFO - args.detect_missing: False\n",
      "2023-09-24 18:43:54,345 - Anomalies - INFO - args.detect_outliers: False\n",
      "2023-09-24 18:43:54,345 - Anomalies - INFO - args.detect_errors: False\n",
      "2023-09-24 18:43:54,345 - Anomalies - INFO - args.detect_inconsistencies: False\n",
      "2023-09-24 18:43:54,345 - Anomalies - INFO - args.correct_missing: False\n",
      "2023-09-24 18:43:54,345 - Anomalies - INFO - args.correct_outliers: True\n",
      "2023-09-24 18:44:10,768 - Anomalies - INFO - Done!!\n",
      "2023-09-24 18:44:12,451 - Anomalies - INFO - Parsing command line arguments\n",
      "2023-09-24 18:44:12,453 - Anomalies - INFO - Start!!\n",
      "2023-09-24 18:44:12,453 - Anomalies - INFO - args.source_path: /home/yram0006/phd/chapter_2/workspace/mortality_data/perfromance_experiment/imputed/lab_measurements_max_icd.csv\n",
      "2023-09-24 18:44:12,453 - Anomalies - INFO - args.save_path: /home/yram0006/phd/chapter_2/workspace/mortality_data/perfromance_experiment/outlier_removal/\n",
      "2023-09-24 18:44:12,453 - Anomalies - INFO - args.save_prefix: lab_measurements_max_icd\n",
      "2023-09-24 18:44:12,453 - Anomalies - INFO - args.detect_missing: False\n",
      "2023-09-24 18:44:12,453 - Anomalies - INFO - args.detect_outliers: False\n",
      "2023-09-24 18:44:12,453 - Anomalies - INFO - args.detect_errors: False\n",
      "2023-09-24 18:44:12,453 - Anomalies - INFO - args.detect_inconsistencies: False\n",
      "2023-09-24 18:44:12,453 - Anomalies - INFO - args.correct_missing: False\n",
      "2023-09-24 18:44:12,453 - Anomalies - INFO - args.correct_outliers: True\n",
      "2023-09-24 18:44:28,884 - Anomalies - INFO - Done!!\n",
      "2023-09-24 18:44:30,598 - Anomalies - INFO - Parsing command line arguments\n",
      "2023-09-24 18:44:30,599 - Anomalies - INFO - Start!!\n",
      "2023-09-24 18:44:30,599 - Anomalies - INFO - args.source_path: /home/yram0006/phd/chapter_2/workspace/mortality_data/perfromance_experiment/imputed/lab_measurements_avg_icd.csv\n",
      "2023-09-24 18:44:30,599 - Anomalies - INFO - args.save_path: /home/yram0006/phd/chapter_2/workspace/mortality_data/perfromance_experiment/outlier_removal/\n",
      "2023-09-24 18:44:30,599 - Anomalies - INFO - args.save_prefix: lab_measurements_avg_icd\n",
      "2023-09-24 18:44:30,599 - Anomalies - INFO - args.detect_missing: False\n",
      "2023-09-24 18:44:30,599 - Anomalies - INFO - args.detect_outliers: False\n",
      "2023-09-24 18:44:30,599 - Anomalies - INFO - args.detect_errors: False\n",
      "2023-09-24 18:44:30,599 - Anomalies - INFO - args.detect_inconsistencies: False\n",
      "2023-09-24 18:44:30,599 - Anomalies - INFO - args.correct_missing: False\n",
      "2023-09-24 18:44:30,599 - Anomalies - INFO - args.correct_outliers: True\n",
      "2023-09-24 18:44:47,382 - Anomalies - INFO - Done!!\n",
      "2023-09-24 18:44:49,087 - Anomalies - INFO - Parsing command line arguments\n",
      "2023-09-24 18:44:49,089 - Anomalies - INFO - Start!!\n",
      "2023-09-24 18:44:49,089 - Anomalies - INFO - args.source_path: /home/yram0006/phd/chapter_2/workspace/mortality_data/perfromance_experiment/imputed/lab_measurements_stddev_icd.csv\n",
      "2023-09-24 18:44:49,089 - Anomalies - INFO - args.save_path: /home/yram0006/phd/chapter_2/workspace/mortality_data/perfromance_experiment/outlier_removal/\n",
      "2023-09-24 18:44:49,089 - Anomalies - INFO - args.save_prefix: lab_measurements_stddev_icd\n",
      "2023-09-24 18:44:49,089 - Anomalies - INFO - args.detect_missing: False\n",
      "2023-09-24 18:44:49,089 - Anomalies - INFO - args.detect_outliers: False\n",
      "2023-09-24 18:44:49,089 - Anomalies - INFO - args.detect_errors: False\n",
      "2023-09-24 18:44:49,089 - Anomalies - INFO - args.detect_inconsistencies: False\n",
      "2023-09-24 18:44:49,089 - Anomalies - INFO - args.correct_missing: False\n",
      "2023-09-24 18:44:49,089 - Anomalies - INFO - args.correct_outliers: True\n"
     ]
    },
    {
     "name": "stderr",
     "output_type": "stream",
     "text": [
      "Warning message:\n",
      "In sqrt(diag(solve(Hess))) : NaNs produced\n"
     ]
    },
    {
     "name": "stdout",
     "output_type": "stream",
     "text": [
      "2023-09-24 18:45:05,423 - Anomalies - INFO - Done!!\n",
      "2023-09-24 18:45:07,103 - Anomalies - INFO - Parsing command line arguments\n",
      "2023-09-24 18:45:07,104 - Anomalies - INFO - Start!!\n",
      "2023-09-24 18:45:07,104 - Anomalies - INFO - args.source_path: /home/yram0006/phd/chapter_2/workspace/mortality_data/perfromance_experiment/imputed/lab_measurements_first_icd.csv\n",
      "2023-09-24 18:45:07,104 - Anomalies - INFO - args.save_path: /home/yram0006/phd/chapter_2/workspace/mortality_data/perfromance_experiment/outlier_removal/\n",
      "2023-09-24 18:45:07,104 - Anomalies - INFO - args.save_prefix: lab_measurements_first_icd\n",
      "2023-09-24 18:45:07,104 - Anomalies - INFO - args.detect_missing: False\n",
      "2023-09-24 18:45:07,104 - Anomalies - INFO - args.detect_outliers: False\n",
      "2023-09-24 18:45:07,104 - Anomalies - INFO - args.detect_errors: False\n",
      "2023-09-24 18:45:07,104 - Anomalies - INFO - args.detect_inconsistencies: False\n",
      "2023-09-24 18:45:07,104 - Anomalies - INFO - args.correct_missing: False\n",
      "2023-09-24 18:45:07,104 - Anomalies - INFO - args.correct_outliers: True\n",
      "2023-09-24 18:45:23,505 - Anomalies - INFO - Done!!\n",
      "2023-09-24 18:45:25,190 - Anomalies - INFO - Parsing command line arguments\n",
      "2023-09-24 18:45:25,191 - Anomalies - INFO - Start!!\n",
      "2023-09-24 18:45:25,191 - Anomalies - INFO - args.source_path: /home/yram0006/phd/chapter_2/workspace/mortality_data/perfromance_experiment/imputed/lab_measurements_last_icd.csv\n",
      "2023-09-24 18:45:25,191 - Anomalies - INFO - args.save_path: /home/yram0006/phd/chapter_2/workspace/mortality_data/perfromance_experiment/outlier_removal/\n",
      "2023-09-24 18:45:25,191 - Anomalies - INFO - args.save_prefix: lab_measurements_last_icd\n",
      "2023-09-24 18:45:25,191 - Anomalies - INFO - args.detect_missing: False\n",
      "2023-09-24 18:45:25,191 - Anomalies - INFO - args.detect_outliers: False\n",
      "2023-09-24 18:45:25,191 - Anomalies - INFO - args.detect_errors: False\n",
      "2023-09-24 18:45:25,191 - Anomalies - INFO - args.detect_inconsistencies: False\n",
      "2023-09-24 18:45:25,191 - Anomalies - INFO - args.correct_missing: False\n",
      "2023-09-24 18:45:25,191 - Anomalies - INFO - args.correct_outliers: True\n",
      "2023-09-24 18:45:41,757 - Anomalies - INFO - Done!!\n"
     ]
    },
    {
     "data": {
      "text/plain": [
       "0"
      ]
     },
     "execution_count": 20,
     "metadata": {},
     "output_type": "execute_result"
    }
   ],
   "source": [
    "import os\n",
    "\n",
    "\n",
    "os.system(\n",
    "    '''cd /superbugai-data/yash/chapter_1/workspace/EHRQC;'''\n",
    "    +\n",
    "    '''mkdir -p ''' + dataDirName + '''outlier_removal;'''\n",
    "    +\n",
    "    '''.venv/bin/python -m ehrqc.qc.Anomalies ''' + dataDirName + '''imputed/vitals_min_icd.csv ''' + dataDirName + '''outlier_removal/ vitals_min_icd -co;'''\n",
    "    +\n",
    "    '''.venv/bin/python -m ehrqc.qc.Anomalies ''' + dataDirName + '''imputed/vitals_max_icd.csv ''' + dataDirName + '''outlier_removal/ vitals_max_icd -co;'''\n",
    "    +\n",
    "    '''.venv/bin/python -m ehrqc.qc.Anomalies ''' + dataDirName + '''imputed/vitals_avg_icd.csv ''' + dataDirName + '''outlier_removal/ vitals_avg_icd -co;'''\n",
    "    +\n",
    "    '''.venv/bin/python -m ehrqc.qc.Anomalies ''' + dataDirName + '''imputed/vitals_stddev_icd.csv ''' + dataDirName + '''outlier_removal/ vitals_stddev_icd -co;'''\n",
    "    +\n",
    "    '''.venv/bin/python -m ehrqc.qc.Anomalies ''' + dataDirName + '''imputed/vitals_first_icd.csv ''' + dataDirName + '''outlier_removal/ vitals_first_icd -co;'''\n",
    "    +\n",
    "    '''.venv/bin/python -m ehrqc.qc.Anomalies ''' + dataDirName + '''imputed/vitals_last_icd.csv ''' + dataDirName + '''outlier_removal/ vitals_last_icd -co;'''\n",
    "    +\n",
    "    '''.venv/bin/python -m ehrqc.qc.Anomalies ''' + dataDirName + '''imputed/lab_measurements_min_icd.csv ''' + dataDirName + '''outlier_removal/ lab_measurements_min_icd -co;'''\n",
    "    +\n",
    "    '''.venv/bin/python -m ehrqc.qc.Anomalies ''' + dataDirName + '''imputed/lab_measurements_max_icd.csv ''' + dataDirName + '''outlier_removal/ lab_measurements_max_icd -co;'''\n",
    "    +\n",
    "    '''.venv/bin/python -m ehrqc.qc.Anomalies ''' + dataDirName + '''imputed/lab_measurements_avg_icd.csv ''' + dataDirName + '''outlier_removal/ lab_measurements_avg_icd -co;'''\n",
    "    +\n",
    "    '''.venv/bin/python -m ehrqc.qc.Anomalies ''' + dataDirName + '''imputed/lab_measurements_stddev_icd.csv ''' + dataDirName + '''outlier_removal/ lab_measurements_stddev_icd -co;'''\n",
    "    +\n",
    "    '''.venv/bin/python -m ehrqc.qc.Anomalies ''' + dataDirName + '''imputed/lab_measurements_first_icd.csv ''' + dataDirName + '''outlier_removal/ lab_measurements_first_icd -co;'''\n",
    "    +\n",
    "    '''.venv/bin/python -m ehrqc.qc.Anomalies ''' + dataDirName + '''imputed/lab_measurements_last_icd.csv ''' + dataDirName + '''outlier_removal/ lab_measurements_last_icd -co;'''\n",
    "    )\n"
   ]
  },
  {
   "cell_type": "markdown",
   "metadata": {},
   "source": [
    "### Read outlier removed files"
   ]
  },
  {
   "cell_type": "code",
   "execution_count": 21,
   "metadata": {},
   "outputs": [],
   "source": [
    "import pandas as pd\n",
    "\n",
    "\n",
    "vitals_min =  pd.read_csv(dataDirName + \"outlier_removal/vitals_min_icd_corrected.csv\")\n",
    "vitals_max =  pd.read_csv(dataDirName + \"outlier_removal/vitals_max_icd_corrected.csv\")\n",
    "vitals_avg =  pd.read_csv(dataDirName + \"outlier_removal/vitals_avg_icd_corrected.csv\")\n",
    "vitals_stddev =  pd.read_csv(dataDirName + \"outlier_removal/vitals_stddev_icd_corrected.csv\")\n",
    "vitals_first =  pd.read_csv(dataDirName + \"outlier_removal/vitals_first_icd_corrected.csv\")\n",
    "vitals_last =  pd.read_csv(dataDirName + \"outlier_removal/vitals_last_icd_corrected.csv\")\n",
    "lab_measurements_min =  pd.read_csv(dataDirName + \"outlier_removal/lab_measurements_min_icd_corrected.csv\")\n",
    "lab_measurements_max =  pd.read_csv(dataDirName + \"outlier_removal/lab_measurements_max_icd_corrected.csv\")\n",
    "lab_measurements_avg =  pd.read_csv(dataDirName + \"outlier_removal/lab_measurements_avg_icd_corrected.csv\")\n",
    "lab_measurements_stddev =  pd.read_csv(dataDirName + \"outlier_removal/lab_measurements_stddev_icd_corrected.csv\")\n",
    "lab_measurements_first =  pd.read_csv(dataDirName + \"outlier_removal/lab_measurements_first_icd_corrected.csv\")\n",
    "lab_measurements_last =  pd.read_csv(dataDirName + \"outlier_removal/lab_measurements_last_icd_corrected.csv\")"
   ]
  },
  {
   "cell_type": "markdown",
   "metadata": {},
   "source": [
    "### Display counts post outlier removal"
   ]
  },
  {
   "cell_type": "code",
   "execution_count": 22,
   "metadata": {},
   "outputs": [
    {
     "data": {
      "text/plain": [
       "(12241, 4)"
      ]
     },
     "execution_count": 22,
     "metadata": {},
     "output_type": "execute_result"
    }
   ],
   "source": [
    "demographics.shape"
   ]
  },
  {
   "cell_type": "code",
   "execution_count": 23,
   "metadata": {},
   "outputs": [
    {
     "data": {
      "text/plain": [
       "((3942, 11), (3942, 11), (3942, 11), (3942, 11), (3942, 11), (3942, 11))"
      ]
     },
     "execution_count": 23,
     "metadata": {},
     "output_type": "execute_result"
    }
   ],
   "source": [
    "vitals_min.shape, vitals_max.shape, vitals_avg.shape, vitals_stddev.shape, vitals_first.shape, vitals_last.shape"
   ]
  },
  {
   "cell_type": "code",
   "execution_count": 24,
   "metadata": {},
   "outputs": [
    {
     "data": {
      "text/plain": [
       "((7448, 13), (7450, 13), (7450, 13), (7584, 8), (7450, 13), (7448, 13))"
      ]
     },
     "execution_count": 24,
     "metadata": {},
     "output_type": "execute_result"
    }
   ],
   "source": [
    "lab_measurements_min.shape, lab_measurements_max.shape, lab_measurements_avg.shape, lab_measurements_stddev.shape, lab_measurements_first.shape, lab_measurements_last.shape"
   ]
  },
  {
   "cell_type": "markdown",
   "metadata": {},
   "source": [
    "## Standardise the data"
   ]
  },
  {
   "cell_type": "markdown",
   "metadata": {},
   "source": [
    "### Perform standardisation"
   ]
  },
  {
   "cell_type": "code",
   "execution_count": 27,
   "metadata": {},
   "outputs": [
    {
     "name": "stdout",
     "output_type": "stream",
     "text": [
      "2023-09-24 18:50:00,681 - EHRQC - INFO - Parsing command line arguments\n",
      "2023-09-24 18:50:00,682 - EHRQC - INFO - args.source_path: /home/yram0006/phd/chapter_2/workspace/mortality_data/perfromance_experiment/outlier_removal/vitals_min_icd_corrected.csv\n",
      "2023-09-24 18:50:00,682 - EHRQC - INFO - args.save_path: /home/yram0006/phd/chapter_2/workspace/mortality_data/perfromance_experiment/standardised/vitals_min_icd.csv\n",
      "2023-09-24 18:50:00,682 - EHRQC - INFO - args.columns: heartrate,sysbp,diabp,meanbp,resprate,tempc,spo2,gcseye,gcsverbal,gcsmotor\n",
      "2023-09-24 18:50:00,682 - EHRQC - INFO - args.scaler_save_path: None\n",
      "2023-09-24 18:50:00,742 - EHRQC - INFO - Done!!\n",
      "2023-09-24 18:50:01,450 - EHRQC - INFO - Parsing command line arguments\n",
      "2023-09-24 18:50:01,451 - EHRQC - INFO - args.source_path: /home/yram0006/phd/chapter_2/workspace/mortality_data/perfromance_experiment/outlier_removal/vitals_max_icd_corrected.csv\n",
      "2023-09-24 18:50:01,452 - EHRQC - INFO - args.save_path: /home/yram0006/phd/chapter_2/workspace/mortality_data/perfromance_experiment/standardised/vitals_max_icd.csv\n",
      "2023-09-24 18:50:01,452 - EHRQC - INFO - args.columns: heartrate,sysbp,diabp,meanbp,resprate,tempc,spo2,gcseye,gcsverbal,gcsmotor\n",
      "2023-09-24 18:50:01,452 - EHRQC - INFO - args.scaler_save_path: None\n",
      "2023-09-24 18:50:01,512 - EHRQC - INFO - Done!!\n",
      "2023-09-24 18:50:02,221 - EHRQC - INFO - Parsing command line arguments\n",
      "2023-09-24 18:50:02,222 - EHRQC - INFO - args.source_path: /home/yram0006/phd/chapter_2/workspace/mortality_data/perfromance_experiment/outlier_removal/vitals_avg_icd_corrected.csv\n",
      "2023-09-24 18:50:02,222 - EHRQC - INFO - args.save_path: /home/yram0006/phd/chapter_2/workspace/mortality_data/perfromance_experiment/standardised/vitals_avg_icd.csv\n",
      "2023-09-24 18:50:02,222 - EHRQC - INFO - args.columns: heartrate,sysbp,diabp,meanbp,resprate,tempc,spo2,gcseye,gcsverbal,gcsmotor\n",
      "2023-09-24 18:50:02,222 - EHRQC - INFO - args.scaler_save_path: None\n",
      "2023-09-24 18:50:02,284 - EHRQC - INFO - Done!!\n",
      "2023-09-24 18:50:02,983 - EHRQC - INFO - Parsing command line arguments\n",
      "2023-09-24 18:50:02,984 - EHRQC - INFO - args.source_path: /home/yram0006/phd/chapter_2/workspace/mortality_data/perfromance_experiment/outlier_removal/vitals_stddev_icd_corrected.csv\n",
      "2023-09-24 18:50:02,984 - EHRQC - INFO - args.save_path: /home/yram0006/phd/chapter_2/workspace/mortality_data/perfromance_experiment/standardised/vitals_stddev_icd.csv\n",
      "2023-09-24 18:50:02,984 - EHRQC - INFO - args.columns: heartrate,sysbp,diabp,meanbp,resprate,tempc,spo2,gcseye,gcsverbal,gcsmotor\n",
      "2023-09-24 18:50:02,984 - EHRQC - INFO - args.scaler_save_path: None\n",
      "2023-09-24 18:50:03,047 - EHRQC - INFO - Done!!\n",
      "2023-09-24 18:50:03,781 - EHRQC - INFO - Parsing command line arguments\n",
      "2023-09-24 18:50:03,782 - EHRQC - INFO - args.source_path: /home/yram0006/phd/chapter_2/workspace/mortality_data/perfromance_experiment/outlier_removal/vitals_first_icd_corrected.csv\n",
      "2023-09-24 18:50:03,782 - EHRQC - INFO - args.save_path: /home/yram0006/phd/chapter_2/workspace/mortality_data/perfromance_experiment/standardised/vitals_first_icd.csv\n",
      "2023-09-24 18:50:03,782 - EHRQC - INFO - args.columns: heartrate,sysbp,diabp,meanbp,resprate,tempc,spo2,gcseye,gcsverbal,gcsmotor\n",
      "2023-09-24 18:50:03,782 - EHRQC - INFO - args.scaler_save_path: None\n",
      "2023-09-24 18:50:03,841 - EHRQC - INFO - Done!!\n",
      "2023-09-24 18:50:04,549 - EHRQC - INFO - Parsing command line arguments\n",
      "2023-09-24 18:50:04,550 - EHRQC - INFO - args.source_path: /home/yram0006/phd/chapter_2/workspace/mortality_data/perfromance_experiment/outlier_removal/vitals_last_icd_corrected.csv\n",
      "2023-09-24 18:50:04,550 - EHRQC - INFO - args.save_path: /home/yram0006/phd/chapter_2/workspace/mortality_data/perfromance_experiment/standardised/vitals_last_icd.csv\n",
      "2023-09-24 18:50:04,550 - EHRQC - INFO - args.columns: heartrate,sysbp,diabp,meanbp,resprate,tempc,spo2,gcseye,gcsverbal,gcsmotor\n",
      "2023-09-24 18:50:04,550 - EHRQC - INFO - args.scaler_save_path: None\n",
      "2023-09-24 18:50:04,609 - EHRQC - INFO - Done!!\n",
      "2023-09-24 18:50:05,358 - EHRQC - INFO - Parsing command line arguments\n",
      "2023-09-24 18:50:05,359 - EHRQC - INFO - args.source_path: /home/yram0006/phd/chapter_2/workspace/mortality_data/perfromance_experiment/outlier_removal/lab_measurements_min_icd_corrected.csv\n",
      "2023-09-24 18:50:05,359 - EHRQC - INFO - args.save_path: /home/yram0006/phd/chapter_2/workspace/mortality_data/perfromance_experiment/standardised/lab_measurements_min_icd.csv\n",
      "2023-09-24 18:50:05,359 - EHRQC - INFO - args.columns: chloride_serum,creatinine,sodium_serum,hemoglobin,platelet_count,urea_nitrogen,glucose_serum,bicarbonate,potassium_serum,anion_gap,leukocytes_blood_manual,hematocrit\n",
      "2023-09-24 18:50:05,360 - EHRQC - INFO - args.scaler_save_path: None\n",
      "2023-09-24 18:50:05,483 - EHRQC - INFO - Done!!\n",
      "2023-09-24 18:50:06,193 - EHRQC - INFO - Parsing command line arguments\n",
      "2023-09-24 18:50:06,194 - EHRQC - INFO - args.source_path: /home/yram0006/phd/chapter_2/workspace/mortality_data/perfromance_experiment/outlier_removal/lab_measurements_max_icd_corrected.csv\n",
      "2023-09-24 18:50:06,194 - EHRQC - INFO - args.save_path: /home/yram0006/phd/chapter_2/workspace/mortality_data/perfromance_experiment/standardised/lab_measurements_max_icd.csv\n",
      "2023-09-24 18:50:06,194 - EHRQC - INFO - args.columns: chloride_serum,creatinine,sodium_serum,hemoglobin,platelet_count,urea_nitrogen,glucose_serum,bicarbonate,potassium_serum,anion_gap,leukocytes_blood_manual,hematocrit\n",
      "2023-09-24 18:50:06,195 - EHRQC - INFO - args.scaler_save_path: None\n",
      "2023-09-24 18:50:06,320 - EHRQC - INFO - Done!!\n",
      "2023-09-24 18:50:07,050 - EHRQC - INFO - Parsing command line arguments\n",
      "2023-09-24 18:50:07,051 - EHRQC - INFO - args.source_path: /home/yram0006/phd/chapter_2/workspace/mortality_data/perfromance_experiment/outlier_removal/lab_measurements_avg_icd_corrected.csv\n",
      "2023-09-24 18:50:07,051 - EHRQC - INFO - args.save_path: /home/yram0006/phd/chapter_2/workspace/mortality_data/perfromance_experiment/standardised/lab_measurements_avg_icd.csv\n",
      "2023-09-24 18:50:07,051 - EHRQC - INFO - args.columns: chloride_serum,creatinine,sodium_serum,hemoglobin,platelet_count,urea_nitrogen,glucose_serum,bicarbonate,potassium_serum,anion_gap,leukocytes_blood_manual,hematocrit\n",
      "2023-09-24 18:50:07,051 - EHRQC - INFO - args.scaler_save_path: None\n",
      "2023-09-24 18:50:07,183 - EHRQC - INFO - Done!!\n",
      "2023-09-24 18:50:07,891 - EHRQC - INFO - Parsing command line arguments\n",
      "2023-09-24 18:50:07,892 - EHRQC - INFO - args.source_path: /home/yram0006/phd/chapter_2/workspace/mortality_data/perfromance_experiment/outlier_removal/lab_measurements_stddev_icd_corrected.csv\n",
      "2023-09-24 18:50:07,892 - EHRQC - INFO - args.save_path: /home/yram0006/phd/chapter_2/workspace/mortality_data/perfromance_experiment/standardised/lab_measurements_stddev_icd.csv\n",
      "2023-09-24 18:50:07,892 - EHRQC - INFO - args.columns: chloride_serum,creatinine,sodium_serum,hemoglobin,glucose_serum,bicarbonate,potassium_serum\n",
      "2023-09-24 18:50:07,892 - EHRQC - INFO - args.scaler_save_path: None\n",
      "2023-09-24 18:50:07,977 - EHRQC - INFO - Done!!\n",
      "2023-09-24 18:50:08,811 - EHRQC - INFO - Parsing command line arguments\n",
      "2023-09-24 18:50:08,813 - EHRQC - INFO - args.source_path: /home/yram0006/phd/chapter_2/workspace/mortality_data/perfromance_experiment/outlier_removal/lab_measurements_first_icd_corrected.csv\n",
      "2023-09-24 18:50:08,813 - EHRQC - INFO - args.save_path: /home/yram0006/phd/chapter_2/workspace/mortality_data/perfromance_experiment/standardised/lab_measurements_first_icd.csv\n",
      "2023-09-24 18:50:08,813 - EHRQC - INFO - args.columns: chloride_serum,creatinine,sodium_serum,hemoglobin,platelet_count,urea_nitrogen,glucose_serum,bicarbonate,potassium_serum,anion_gap,leukocytes_blood_manual,hematocrit\n",
      "2023-09-24 18:50:08,813 - EHRQC - INFO - args.scaler_save_path: None\n",
      "2023-09-24 18:50:08,937 - EHRQC - INFO - Done!!\n",
      "2023-09-24 18:50:09,705 - EHRQC - INFO - Parsing command line arguments\n",
      "2023-09-24 18:50:09,706 - EHRQC - INFO - args.source_path: /home/yram0006/phd/chapter_2/workspace/mortality_data/perfromance_experiment/outlier_removal/lab_measurements_last_icd_corrected.csv\n",
      "2023-09-24 18:50:09,706 - EHRQC - INFO - args.save_path: /home/yram0006/phd/chapter_2/workspace/mortality_data/perfromance_experiment/standardised/lab_measurements_last_icd.csv\n",
      "2023-09-24 18:50:09,706 - EHRQC - INFO - args.columns: chloride_serum,creatinine,sodium_serum,hemoglobin,platelet_count,urea_nitrogen,glucose_serum,bicarbonate,potassium_serum,anion_gap,leukocytes_blood_manual,hematocrit\n",
      "2023-09-24 18:50:09,706 - EHRQC - INFO - args.scaler_save_path: None\n",
      "2023-09-24 18:50:09,830 - EHRQC - INFO - Done!!\n"
     ]
    },
    {
     "data": {
      "text/plain": [
       "0"
      ]
     },
     "execution_count": 27,
     "metadata": {},
     "output_type": "execute_result"
    }
   ],
   "source": [
    "import os\n",
    "\n",
    "\n",
    "os.system(\n",
    "    '''cd /superbugai-data/yash/chapter_1/workspace/EHRQC;'''\n",
    "    +\n",
    "    '''mkdir -p ''' + dataDirName + '''standardised;'''\n",
    "    +\n",
    "    '''.venv/bin/python -m ehrqc.qc.Standardise ''' + dataDirName + '''outlier_removal/vitals_min_icd_corrected.csv ''' + dataDirName + '''standardised/vitals_min_icd.csv -c `head -1 ''' + dataDirName + '''outlier_removal/vitals_min_icd_corrected.csv | sed -e 's/person_id,//g'`;'''\n",
    "    +\n",
    "    '''.venv/bin/python -m ehrqc.qc.Standardise ''' + dataDirName + '''outlier_removal/vitals_max_icd_corrected.csv ''' + dataDirName + '''standardised/vitals_max_icd.csv -c `head -1 ''' + dataDirName + '''outlier_removal/vitals_max_icd_corrected.csv | sed -e 's/person_id,//g'`;'''\n",
    "    +\n",
    "    '''.venv/bin/python -m ehrqc.qc.Standardise ''' + dataDirName + '''outlier_removal/vitals_avg_icd_corrected.csv ''' + dataDirName + '''standardised/vitals_avg_icd.csv -c  `head -1 ''' + dataDirName + '''outlier_removal/vitals_avg_icd_corrected.csv | sed -e 's/person_id,//g'`;'''\n",
    "    +\n",
    "    '''.venv/bin/python -m ehrqc.qc.Standardise ''' + dataDirName + '''outlier_removal/vitals_stddev_icd_corrected.csv ''' + dataDirName + '''standardised/vitals_stddev_icd.csv -c  `head -1 ''' + dataDirName + '''outlier_removal/vitals_stddev_icd_corrected.csv | sed -e 's/person_id,//g'`;'''\n",
    "    +\n",
    "    '''.venv/bin/python -m ehrqc.qc.Standardise ''' + dataDirName + '''outlier_removal/vitals_first_icd_corrected.csv ''' + dataDirName + '''standardised/vitals_first_icd.csv -c  `head -1 ''' + dataDirName + '''outlier_removal/vitals_first_icd_corrected.csv | sed -e 's/person_id,//g'`;'''\n",
    "    +\n",
    "    '''.venv/bin/python -m ehrqc.qc.Standardise ''' + dataDirName + '''outlier_removal/vitals_last_icd_corrected.csv ''' + dataDirName + '''standardised/vitals_last_icd.csv -c  `head -1 ''' + dataDirName + '''outlier_removal/vitals_last_icd_corrected.csv | sed -e 's/person_id,//g'`;'''\n",
    "    +\n",
    "    '''.venv/bin/python -m ehrqc.qc.Standardise ''' + dataDirName + '''outlier_removal/lab_measurements_min_icd_corrected.csv ''' + dataDirName + '''standardised/lab_measurements_min_icd.csv -c  `head -1 ''' + dataDirName + '''outlier_removal/lab_measurements_min_icd_corrected.csv | sed -e 's/person_id,//g'`;'''\n",
    "    +\n",
    "    '''.venv/bin/python -m ehrqc.qc.Standardise ''' + dataDirName + '''outlier_removal/lab_measurements_max_icd_corrected.csv ''' + dataDirName + '''standardised/lab_measurements_max_icd.csv -c `head -1 ''' + dataDirName + '''outlier_removal/lab_measurements_max_icd_corrected.csv | sed -e 's/person_id,//g'`;'''\n",
    "    +\n",
    "    '''.venv/bin/python -m ehrqc.qc.Standardise ''' + dataDirName + '''outlier_removal/lab_measurements_avg_icd_corrected.csv ''' + dataDirName + '''standardised/lab_measurements_avg_icd.csv -c `head -1 ''' + dataDirName + '''outlier_removal/lab_measurements_avg_icd_corrected.csv | sed -e 's/person_id,//g'`;'''\n",
    "    +\n",
    "    '''.venv/bin/python -m ehrqc.qc.Standardise ''' + dataDirName + '''outlier_removal/lab_measurements_stddev_icd_corrected.csv ''' + dataDirName + '''standardised/lab_measurements_stddev_icd.csv -c `head -1 ''' + dataDirName + '''outlier_removal/lab_measurements_stddev_icd_corrected.csv | sed -e 's/person_id,//g'`;'''\n",
    "    +\n",
    "    '''.venv/bin/python -m ehrqc.qc.Standardise ''' + dataDirName + '''outlier_removal/lab_measurements_first_icd_corrected.csv ''' + dataDirName + '''standardised/lab_measurements_first_icd.csv -c `head -1 ''' + dataDirName + '''outlier_removal/lab_measurements_first_icd_corrected.csv | sed -e 's/person_id,//g'`;'''\n",
    "    +\n",
    "    '''.venv/bin/python -m ehrqc.qc.Standardise ''' + dataDirName + '''outlier_removal/lab_measurements_last_icd_corrected.csv ''' + dataDirName + '''standardised/lab_measurements_last_icd.csv -c `head -1 ''' + dataDirName + '''outlier_removal/lab_measurements_last_icd_corrected.csv | sed -e 's/person_id,//g'`;'''\n",
    "    )"
   ]
  },
  {
   "cell_type": "markdown",
   "metadata": {},
   "source": [
    "### Read standardised files"
   ]
  },
  {
   "cell_type": "code",
   "execution_count": 29,
   "metadata": {},
   "outputs": [],
   "source": [
    "import pandas as pd\n",
    "\n",
    "\n",
    "vitals_min =  pd.read_csv(dataDirName + \"standardised/vitals_min_icd.csv\")\n",
    "vitals_max =  pd.read_csv(dataDirName + \"standardised/vitals_max_icd.csv\")\n",
    "vitals_avg =  pd.read_csv(dataDirName + \"standardised/vitals_avg_icd.csv\")\n",
    "vitals_stddev =  pd.read_csv(dataDirName + \"standardised/vitals_stddev_icd.csv\")\n",
    "vitals_first =  pd.read_csv(dataDirName + \"standardised/vitals_first_icd.csv\")\n",
    "vitals_last =  pd.read_csv(dataDirName + \"standardised/vitals_last_icd.csv\")\n",
    "lab_measurements_min =  pd.read_csv(dataDirName + \"standardised/lab_measurements_min_icd.csv\")\n",
    "lab_measurements_max =  pd.read_csv(dataDirName + \"standardised/lab_measurements_max_icd.csv\")\n",
    "lab_measurements_avg =  pd.read_csv(dataDirName + \"standardised/lab_measurements_avg_icd.csv\")\n",
    "lab_measurements_stddev =  pd.read_csv(dataDirName + \"standardised/lab_measurements_stddev_icd.csv\")\n",
    "lab_measurements_first =  pd.read_csv(dataDirName + \"standardised/lab_measurements_first_icd.csv\")\n",
    "lab_measurements_last =  pd.read_csv(dataDirName + \"standardised/lab_measurements_last_icd.csv\")"
   ]
  },
  {
   "cell_type": "markdown",
   "metadata": {},
   "source": [
    "## Create data matrix"
   ]
  },
  {
   "cell_type": "code",
   "execution_count": 30,
   "metadata": {},
   "outputs": [],
   "source": [
    "import os\n",
    "import pandas as pd\n",
    "\n",
    "\n",
    "demographics =  pd.read_csv(dataDirName + 'extract/demographics_icd.csv')\n",
    "deaths =  pd.read_csv(dataDirName + 'extract/deaths.csv')\n",
    "vitals_min =  pd.read_csv(dataDirName + 'standardised/vitals_min_icd.csv')\n",
    "vitals_max =  pd.read_csv(dataDirName + 'standardised/vitals_max_icd.csv')\n",
    "vitals_avg =  pd.read_csv(dataDirName + 'standardised/vitals_avg_icd.csv')\n",
    "vitals_stddev =  pd.read_csv(dataDirName + 'standardised/vitals_stddev_icd.csv')\n",
    "vitals_first =  pd.read_csv(dataDirName + 'standardised/vitals_first_icd.csv')\n",
    "vitals_last =  pd.read_csv(dataDirName + 'standardised/vitals_last_icd.csv')\n",
    "lab_measurements_min =  pd.read_csv(dataDirName + 'standardised/lab_measurements_min_icd.csv')\n",
    "lab_measurements_max =  pd.read_csv(dataDirName + 'standardised/lab_measurements_max_icd.csv')\n",
    "lab_measurements_avg =  pd.read_csv(dataDirName + 'standardised/lab_measurements_avg_icd.csv')\n",
    "lab_measurements_stddev =  pd.read_csv(dataDirName + 'standardised/lab_measurements_stddev_icd.csv')\n",
    "lab_measurements_first =  pd.read_csv(dataDirName + 'standardised/lab_measurements_first_icd.csv')\n",
    "lab_measurements_last =  pd.read_csv(dataDirName + 'standardised/lab_measurements_last_icd.csv')\n",
    "\n",
    "demographics['gender'] = demographics.gender.apply(lambda x: 1 if(x == 'M') else 0)\n",
    "\n",
    "demographics['ethnicity_WHITE'] = demographics.ethnicity.apply(lambda x: 1 if(x == 'WHITE') else 0)\n",
    "demographics['ethnicity_BLACK'] = demographics.ethnicity.apply(lambda x: 1 if(x == 'BLACK/AFRICAN AMERICAN') else 0)\n",
    "demographics['ethnicity_UNKNOWN'] = demographics.ethnicity.apply(lambda x: 1 if(x == 'UNKNOWN') else 0)\n",
    "demographics['ethnicity_OTHER'] = demographics.ethnicity.apply(lambda x: 1 if(x == 'OTHER') else 0)\n",
    "demographics['ethnicity_HISPANIC'] = demographics.ethnicity.apply(lambda x: 1 if(x == 'HISPANIC/LATINO') else 0)\n",
    "demographics['ethnicity_ASIAN'] = demographics.ethnicity.apply(lambda x: 1 if(x == 'ASIAN') else 0)\n",
    "demographics['ethnicity_UNABLE_TO_OBTAIN'] = demographics.ethnicity.apply(lambda x: 1 if(x == 'UNABLE TO OBTAIN') else 0)\n",
    "demographics['ethnicity_AMERICAN_INDIAN'] = demographics.ethnicity.apply(lambda x: 1 if(x == 'AMERICAN INDIAN/ALASKA NATIVE') else 0)\n",
    "\n",
    "demographics.drop(columns='ethnicity', inplace=True)\n",
    "\n",
    "mergedDf = pd.merge(demographics, deaths, how='inner', on='person_id')\n",
    "mergedDf = pd.merge(mergedDf, vitals_min.add_suffix('_min'), how='inner', left_on='person_id', right_on='person_id_min')\n",
    "mergedDf = pd.merge(mergedDf, vitals_max.add_suffix('_max'), how='inner', left_on='person_id', right_on='person_id_max')\n",
    "mergedDf = pd.merge(mergedDf, vitals_avg.add_suffix('_avg'), how='inner', left_on='person_id', right_on='person_id_avg')\n",
    "mergedDf = pd.merge(mergedDf, vitals_stddev.add_suffix('_stddev'), how='inner', left_on='person_id', right_on='person_id_stddev')\n",
    "mergedDf = pd.merge(mergedDf, vitals_first.add_suffix('_first'), how='inner', left_on='person_id', right_on='person_id_first')\n",
    "mergedDf = pd.merge(mergedDf, vitals_last.add_suffix('_last'), how='inner', left_on='person_id', right_on='person_id_last')\n",
    "mergedDf = mergedDf.drop(['person_id_min', 'person_id_max', 'person_id_avg', 'person_id_stddev', 'person_id_first', 'person_id_last'], axis = 1)\n",
    "mergedDf = pd.merge(mergedDf, lab_measurements_min.add_suffix('_min'), how='inner', left_on='person_id', right_on='person_id_min')\n",
    "mergedDf = pd.merge(mergedDf, lab_measurements_max.add_suffix('_max'), how='inner', left_on='person_id', right_on='person_id_max')\n",
    "mergedDf = pd.merge(mergedDf, lab_measurements_avg.add_suffix('_avg'), how='inner', left_on='person_id', right_on='person_id_avg')\n",
    "mergedDf = pd.merge(mergedDf, lab_measurements_stddev.add_suffix('_stddev'), how='inner', left_on='person_id', right_on='person_id_stddev')\n",
    "mergedDf = pd.merge(mergedDf, lab_measurements_first.add_suffix('_first'), how='inner', left_on='person_id', right_on='person_id_first')\n",
    "mergedDf = pd.merge(mergedDf, lab_measurements_last.add_suffix('_last'), how='inner', left_on='person_id', right_on='person_id_last')\n",
    "mergedDf = mergedDf.drop(['person_id_min', 'person_id_max', 'person_id_avg', 'person_id_stddev', 'person_id_first', 'person_id_last'], axis = 1)\n",
    "\n",
    "mergedDf.to_csv(dataDirName + 'data_matrix.csv', index=False)"
   ]
  }
 ],
 "metadata": {
  "kernelspec": {
   "display_name": ".venv",
   "language": "python",
   "name": "python3"
  },
  "language_info": {
   "codemirror_mode": {
    "name": "ipython",
    "version": 3
   },
   "file_extension": ".py",
   "mimetype": "text/x-python",
   "name": "python",
   "nbconvert_exporter": "python",
   "pygments_lexer": "ipython3",
   "version": "3.9.5"
  },
  "orig_nbformat": 4
 },
 "nbformat": 4,
 "nbformat_minor": 2
}
