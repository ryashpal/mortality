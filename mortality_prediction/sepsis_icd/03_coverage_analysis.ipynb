{
 "cells": [
  {
   "cell_type": "markdown",
   "metadata": {},
   "source": [
    "# Analysing the coverage in raw data files extracted using EHR-QC"
   ]
  },
  {
   "cell_type": "markdown",
   "metadata": {},
   "source": [
    "## Vitals coverage"
   ]
  },
  {
   "cell_type": "markdown",
   "metadata": {},
   "source": [
    "### Vitals coverage for minimum values"
   ]
  },
  {
   "cell_type": "code",
   "execution_count": 1,
   "metadata": {},
   "outputs": [
    {
     "name": "stdout",
     "output_type": "stream",
     "text": [
      "2023-09-13 12:48:18,772 - Anomalies - INFO - Parsing command line arguments\n",
      "2023-09-13 12:48:18,773 - Anomalies - INFO - Start!!\n",
      "2023-09-13 12:48:18,773 - Anomalies - INFO - args.source_file: data/icd_cohort_test/vitals_min_icd.csv\n",
      "2023-09-13 12:48:18,773 - Anomalies - INFO - args.chunksize: 1\n",
      "2023-09-13 12:48:18,773 - Anomalies - INFO - args.id_columns: ['person_id']\n",
      "2023-09-13 12:48:18,773 - Anomalies - INFO - args.drop: False\n",
      "2023-09-13 12:48:18,773 - Anomalies - INFO - args.percentage: 50\n",
      "2023-09-13 12:48:18,773 - Anomalies - INFO - args.save_path: .\n",
      "2023-09-13 12:48:18,774 - Anomalies - INFO - Calculating Missingnes\n",
      "2023-09-13 12:48:41,503 - Anomalies - INFO - Missingness Report\n",
      "2023-09-13 12:48:41,508 - Anomalies - INFO - \n",
      "\n",
      "  column_name  missing_count  total_count  percentage_missing\n",
      "0       diabp             13         5185                0.25\n",
      "1      gcseye             15         5185                0.29\n",
      "2    gcsmotor             18         5185                0.35\n",
      "3   gcsverbal             17         5185                0.33\n",
      "4   heartrate              3         5185                0.06\n",
      "5      meanbp              3         5185                0.06\n",
      "6    resprate              2         5185                0.04\n",
      "7        spo2              8         5185                0.15\n",
      "8       sysbp             12         5185                0.23\n",
      "9       tempc             42         5185                0.81\n",
      "\n",
      "2023-09-13 12:48:41,550 - Anomalies - INFO - Done!!\n"
     ]
    },
    {
     "data": {
      "text/plain": [
       "0"
      ]
     },
     "execution_count": 1,
     "metadata": {},
     "output_type": "execute_result"
    }
   ],
   "source": [
    "import os\n",
    "\n",
    "os.system(\n",
    "    '''cd /superbugai-data/yash/chapter_1/workspace/EHRQC;'''\n",
    "    +\n",
    "    '''.venv/bin/python -m ehrqc.qc.Coverage data/icd_cohort_test/vitals_min_icd.csv 1 person_id'''\n",
    "    )"
   ]
  },
  {
   "cell_type": "markdown",
   "metadata": {},
   "source": [
    "### Vitals coverage for maximum values"
   ]
  },
  {
   "cell_type": "code",
   "execution_count": 2,
   "metadata": {},
   "outputs": [
    {
     "name": "stdout",
     "output_type": "stream",
     "text": [
      "2023-09-13 12:48:41,989 - Anomalies - INFO - Parsing command line arguments\n",
      "2023-09-13 12:48:41,990 - Anomalies - INFO - Start!!\n",
      "2023-09-13 12:48:41,990 - Anomalies - INFO - args.source_file: data/icd_cohort_test/vitals_max_icd.csv\n",
      "2023-09-13 12:48:41,990 - Anomalies - INFO - args.chunksize: 1\n",
      "2023-09-13 12:48:41,990 - Anomalies - INFO - args.id_columns: ['person_id']\n",
      "2023-09-13 12:48:41,990 - Anomalies - INFO - args.drop: False\n",
      "2023-09-13 12:48:41,990 - Anomalies - INFO - args.percentage: 50\n",
      "2023-09-13 12:48:41,990 - Anomalies - INFO - args.save_path: .\n",
      "2023-09-13 12:48:41,990 - Anomalies - INFO - Calculating Missingnes\n",
      "2023-09-13 12:49:04,881 - Anomalies - INFO - Missingness Report\n",
      "2023-09-13 12:49:04,888 - Anomalies - INFO - \n",
      "\n",
      "  column_name  missing_count  total_count  percentage_missing\n",
      "0       diabp             13         5185                0.25\n",
      "1      gcseye             15         5185                0.29\n",
      "2    gcsmotor             18         5185                0.35\n",
      "3   gcsverbal             17         5185                0.33\n",
      "4   heartrate              3         5185                0.06\n",
      "5      meanbp              3         5185                0.06\n",
      "6    resprate              2         5185                0.04\n",
      "7        spo2              8         5185                0.15\n",
      "8       sysbp             12         5185                0.23\n",
      "9       tempc             42         5185                0.81\n",
      "\n",
      "2023-09-13 12:49:04,964 - Anomalies - INFO - Done!!\n"
     ]
    },
    {
     "data": {
      "text/plain": [
       "0"
      ]
     },
     "execution_count": 2,
     "metadata": {},
     "output_type": "execute_result"
    }
   ],
   "source": [
    "import os\n",
    "\n",
    "os.system(\n",
    "    '''cd /superbugai-data/yash/chapter_1/workspace/EHRQC;'''\n",
    "    +\n",
    "    '''.venv/bin/python -m ehrqc.qc.Coverage data/icd_cohort_test/vitals_max_icd.csv 1 person_id'''\n",
    "    )"
   ]
  },
  {
   "cell_type": "markdown",
   "metadata": {},
   "source": [
    "### Vitals coverage for average values"
   ]
  },
  {
   "cell_type": "code",
   "execution_count": 3,
   "metadata": {},
   "outputs": [
    {
     "name": "stdout",
     "output_type": "stream",
     "text": [
      "2023-09-13 12:49:05,519 - Anomalies - INFO - Parsing command line arguments\n",
      "2023-09-13 12:49:05,521 - Anomalies - INFO - Start!!\n",
      "2023-09-13 12:49:05,521 - Anomalies - INFO - args.source_file: data/icd_cohort_test/vitals_avg_icd.csv\n",
      "2023-09-13 12:49:05,521 - Anomalies - INFO - args.chunksize: 1\n",
      "2023-09-13 12:49:05,521 - Anomalies - INFO - args.id_columns: ['person_id']\n",
      "2023-09-13 12:49:05,521 - Anomalies - INFO - args.drop: False\n",
      "2023-09-13 12:49:05,521 - Anomalies - INFO - args.percentage: 50\n",
      "2023-09-13 12:49:05,521 - Anomalies - INFO - args.save_path: .\n",
      "2023-09-13 12:49:05,521 - Anomalies - INFO - Calculating Missingnes\n",
      "2023-09-13 12:49:27,730 - Anomalies - INFO - Missingness Report\n",
      "2023-09-13 12:49:27,737 - Anomalies - INFO - \n",
      "\n",
      "  column_name  missing_count  total_count  percentage_missing\n",
      "0       diabp             13         5185                0.25\n",
      "1      gcseye             15         5185                0.29\n",
      "2    gcsmotor             18         5185                0.35\n",
      "3   gcsverbal             17         5185                0.33\n",
      "4   heartrate              3         5185                0.06\n",
      "5      meanbp              3         5185                0.06\n",
      "6    resprate              2         5185                0.04\n",
      "7        spo2              8         5185                0.15\n",
      "8       sysbp             12         5185                0.23\n",
      "9       tempc             42         5185                0.81\n",
      "\n",
      "2023-09-13 12:49:27,812 - Anomalies - INFO - Done!!\n"
     ]
    },
    {
     "data": {
      "text/plain": [
       "0"
      ]
     },
     "execution_count": 3,
     "metadata": {},
     "output_type": "execute_result"
    }
   ],
   "source": [
    "import os\n",
    "\n",
    "os.system(\n",
    "    '''cd /superbugai-data/yash/chapter_1/workspace/EHRQC;'''\n",
    "    +\n",
    "    '''.venv/bin/python -m ehrqc.qc.Coverage data/icd_cohort_test/vitals_avg_icd.csv 1 person_id'''\n",
    "    )"
   ]
  },
  {
   "cell_type": "markdown",
   "metadata": {},
   "source": [
    "### Vitals coverage for standard deviation values"
   ]
  },
  {
   "cell_type": "code",
   "execution_count": 4,
   "metadata": {},
   "outputs": [
    {
     "name": "stdout",
     "output_type": "stream",
     "text": [
      "2023-09-13 12:49:28,341 - Anomalies - INFO - Parsing command line arguments\n",
      "2023-09-13 12:49:28,342 - Anomalies - INFO - Start!!\n",
      "2023-09-13 12:49:28,342 - Anomalies - INFO - args.source_file: data/icd_cohort_test/vitals_stddev_icd.csv\n",
      "2023-09-13 12:49:28,342 - Anomalies - INFO - args.chunksize: 1\n",
      "2023-09-13 12:49:28,342 - Anomalies - INFO - args.id_columns: ['person_id']\n",
      "2023-09-13 12:49:28,342 - Anomalies - INFO - args.drop: False\n",
      "2023-09-13 12:49:28,342 - Anomalies - INFO - args.percentage: 50\n",
      "2023-09-13 12:49:28,342 - Anomalies - INFO - args.save_path: .\n",
      "2023-09-13 12:49:28,342 - Anomalies - INFO - Calculating Missingnes\n",
      "2023-09-13 12:49:50,694 - Anomalies - INFO - Missingness Report\n",
      "2023-09-13 12:49:50,699 - Anomalies - INFO - \n",
      "\n",
      "  column_name  missing_count  total_count  percentage_missing\n",
      "0       diabp             14         5185                0.27\n",
      "1      gcseye             60         5185                1.16\n",
      "2    gcsmotor             63         5185                1.22\n",
      "3   gcsverbal             63         5185                1.22\n",
      "4   heartrate              3         5185                0.06\n",
      "5      meanbp              3         5185                0.06\n",
      "6    resprate              2         5185                0.04\n",
      "7        spo2             10         5185                0.19\n",
      "8       sysbp             13         5185                0.25\n",
      "9       tempc             82         5185                1.58\n",
      "\n",
      "2023-09-13 12:49:50,738 - Anomalies - INFO - Done!!\n"
     ]
    },
    {
     "data": {
      "text/plain": [
       "0"
      ]
     },
     "execution_count": 4,
     "metadata": {},
     "output_type": "execute_result"
    }
   ],
   "source": [
    "import os\n",
    "\n",
    "os.system(\n",
    "    '''cd /superbugai-data/yash/chapter_1/workspace/EHRQC;'''\n",
    "    +\n",
    "    '''.venv/bin/python -m ehrqc.qc.Coverage data/icd_cohort_test/vitals_stddev_icd.csv 1 person_id'''\n",
    "    )"
   ]
  },
  {
   "cell_type": "markdown",
   "metadata": {},
   "source": [
    "### Vitals coverage for first values"
   ]
  },
  {
   "cell_type": "code",
   "execution_count": 5,
   "metadata": {},
   "outputs": [
    {
     "name": "stdout",
     "output_type": "stream",
     "text": [
      "2023-09-13 12:49:51,275 - Anomalies - INFO - Parsing command line arguments\n",
      "2023-09-13 12:49:51,277 - Anomalies - INFO - Start!!\n",
      "2023-09-13 12:49:51,277 - Anomalies - INFO - args.source_file: data/icd_cohort_test/vitals_max_icd.csv\n",
      "2023-09-13 12:49:51,277 - Anomalies - INFO - args.chunksize: 1\n",
      "2023-09-13 12:49:51,277 - Anomalies - INFO - args.id_columns: ['person_id']\n",
      "2023-09-13 12:49:51,277 - Anomalies - INFO - args.drop: False\n",
      "2023-09-13 12:49:51,277 - Anomalies - INFO - args.percentage: 50\n",
      "2023-09-13 12:49:51,277 - Anomalies - INFO - args.save_path: .\n",
      "2023-09-13 12:49:51,277 - Anomalies - INFO - Calculating Missingnes\n",
      "2023-09-13 12:50:13,465 - Anomalies - INFO - Missingness Report\n",
      "2023-09-13 12:50:13,470 - Anomalies - INFO - \n",
      "\n",
      "  column_name  missing_count  total_count  percentage_missing\n",
      "0       diabp             13         5185                0.25\n",
      "1      gcseye             15         5185                0.29\n",
      "2    gcsmotor             18         5185                0.35\n",
      "3   gcsverbal             17         5185                0.33\n",
      "4   heartrate              3         5185                0.06\n",
      "5      meanbp              3         5185                0.06\n",
      "6    resprate              2         5185                0.04\n",
      "7        spo2              8         5185                0.15\n",
      "8       sysbp             12         5185                0.23\n",
      "9       tempc             42         5185                0.81\n",
      "\n",
      "2023-09-13 12:50:13,511 - Anomalies - INFO - Done!!\n"
     ]
    },
    {
     "data": {
      "text/plain": [
       "0"
      ]
     },
     "execution_count": 5,
     "metadata": {},
     "output_type": "execute_result"
    }
   ],
   "source": [
    "import os\n",
    "\n",
    "os.system(\n",
    "    '''cd /superbugai-data/yash/chapter_1/workspace/EHRQC;'''\n",
    "    +\n",
    "    '''.venv/bin/python -m ehrqc.qc.Coverage data/icd_cohort_test/vitals_max_icd.csv 1 person_id'''\n",
    "    )"
   ]
  },
  {
   "cell_type": "markdown",
   "metadata": {},
   "source": [
    "### Vitals coverage for last values"
   ]
  },
  {
   "cell_type": "code",
   "execution_count": 6,
   "metadata": {},
   "outputs": [
    {
     "name": "stdout",
     "output_type": "stream",
     "text": [
      "2023-09-13 12:50:14,004 - Anomalies - INFO - Parsing command line arguments\n",
      "2023-09-13 12:50:14,006 - Anomalies - INFO - Start!!\n",
      "2023-09-13 12:50:14,006 - Anomalies - INFO - args.source_file: data/icd_cohort_test/vitals_last_icd.csv\n",
      "2023-09-13 12:50:14,006 - Anomalies - INFO - args.chunksize: 1\n",
      "2023-09-13 12:50:14,006 - Anomalies - INFO - args.id_columns: ['person_id']\n",
      "2023-09-13 12:50:14,006 - Anomalies - INFO - args.drop: False\n",
      "2023-09-13 12:50:14,006 - Anomalies - INFO - args.percentage: 50\n",
      "2023-09-13 12:50:14,006 - Anomalies - INFO - args.save_path: .\n",
      "2023-09-13 12:50:14,006 - Anomalies - INFO - Calculating Missingnes\n",
      "2023-09-13 12:50:35,748 - Anomalies - INFO - Missingness Report\n",
      "2023-09-13 12:50:35,753 - Anomalies - INFO - \n",
      "\n",
      "  column_name  missing_count  total_count  percentage_missing\n",
      "0       diabp             13         5185                0.25\n",
      "1      gcseye             15         5185                0.29\n",
      "2    gcsmotor             18         5185                0.35\n",
      "3   gcsverbal             17         5185                0.33\n",
      "4   heartrate              3         5185                0.06\n",
      "5      meanbp              3         5185                0.06\n",
      "6    resprate              2         5185                0.04\n",
      "7        spo2              8         5185                0.15\n",
      "8       sysbp             12         5185                0.23\n",
      "9       tempc             42         5185                0.81\n",
      "\n",
      "2023-09-13 12:50:35,795 - Anomalies - INFO - Done!!\n"
     ]
    },
    {
     "data": {
      "text/plain": [
       "0"
      ]
     },
     "execution_count": 6,
     "metadata": {},
     "output_type": "execute_result"
    }
   ],
   "source": [
    "import os\n",
    "\n",
    "os.system(\n",
    "    '''cd /superbugai-data/yash/chapter_1/workspace/EHRQC;'''\n",
    "    +\n",
    "    '''.venv/bin/python -m ehrqc.qc.Coverage data/icd_cohort_test/vitals_last_icd.csv 1 person_id'''\n",
    "    )"
   ]
  },
  {
   "cell_type": "markdown",
   "metadata": {},
   "source": [
    "## Lab measurements coverage"
   ]
  },
  {
   "cell_type": "markdown",
   "metadata": {},
   "source": [
    "### Lab measurements coverage for minimum values"
   ]
  },
  {
   "cell_type": "code",
   "execution_count": 7,
   "metadata": {},
   "outputs": [
    {
     "name": "stdout",
     "output_type": "stream",
     "text": [
      "2023-09-13 12:50:36,290 - Anomalies - INFO - Parsing command line arguments\n",
      "2023-09-13 12:50:36,291 - Anomalies - INFO - Start!!\n",
      "2023-09-13 12:50:36,291 - Anomalies - INFO - args.source_file: data/icd_cohort_test/lab_measurements_min_icd.csv\n",
      "2023-09-13 12:50:36,291 - Anomalies - INFO - args.chunksize: 1\n",
      "2023-09-13 12:50:36,291 - Anomalies - INFO - args.id_columns: ['person_id']\n",
      "2023-09-13 12:50:36,291 - Anomalies - INFO - args.drop: False\n",
      "2023-09-13 12:50:36,291 - Anomalies - INFO - args.percentage: 50\n",
      "2023-09-13 12:50:36,291 - Anomalies - INFO - args.save_path: .\n",
      "2023-09-13 12:50:36,291 - Anomalies - INFO - Calculating Missingnes\n",
      "2023-09-13 12:51:23,411 - Anomalies - INFO - Missingness Report\n",
      "2023-09-13 12:51:23,424 - Anomalies - INFO - \n",
      "\n",
      "                column_name  missing_count  total_count  percentage_missing\n",
      "0                   albumin           4400         9923               44.34\n",
      "1                 anion_gap           2374         9923               23.92\n",
      "2                      aptt           3145         9923               31.69\n",
      "3     band_form_neutrophils           6930         9923               69.84\n",
      "4      base_excess_in_blood           5560         9923               56.03\n",
      "5               bicarbonate             51         9923                0.51\n",
      "6                 bilirubin           3613         9923               36.41\n",
      "7       carbondioxide_blood           5555         9923               55.98\n",
      "8       carbondioxide_serum           5553         9923               55.96\n",
      "9            chloride_blood           8677         9923               87.44\n",
      "10           chloride_serum             53         9923                0.53\n",
      "11               creatinine             40         9923                0.40\n",
      "12            glucose_serum             68         9923                0.69\n",
      "13            glucose_urine           9106         9923               91.77\n",
      "14               hematocrit           2359         9923               23.77\n",
      "15               hemoglobin             51         9923                0.51\n",
      "16                      inr           3073         9923               30.97\n",
      "17                  lactate           3293         9923               33.19\n",
      "18    leukocytes_blood_auto           9839         9923               99.15\n",
      "19  leukocytes_blood_manual           2369         9923               23.87\n",
      "20                   oxygen           5556         9923               55.99\n",
      "21                 ph_blood           5373         9923               54.15\n",
      "22             ph_bodyfluid           9801         9923               98.77\n",
      "23           platelet_count           2358         9923               23.76\n",
      "24          potassium_blood           7461         9923               75.19\n",
      "25          potassium_serum             44         9923                0.44\n",
      "26             sodium_blood           8439         9923               85.04\n",
      "27             sodium_serum             46         9923                0.46\n",
      "28            urea_nitrogen           2364         9923               23.82\n",
      "\n",
      "2023-09-13 12:51:23,501 - Anomalies - INFO - Done!!\n"
     ]
    },
    {
     "data": {
      "text/plain": [
       "0"
      ]
     },
     "execution_count": 7,
     "metadata": {},
     "output_type": "execute_result"
    }
   ],
   "source": [
    "import os\n",
    "\n",
    "os.system(\n",
    "    '''cd /superbugai-data/yash/chapter_1/workspace/EHRQC;'''\n",
    "    +\n",
    "    '''.venv/bin/python -m ehrqc.qc.Coverage data/icd_cohort_test/lab_measurements_min_icd.csv 1 person_id'''\n",
    "    )"
   ]
  },
  {
   "cell_type": "markdown",
   "metadata": {},
   "source": [
    "### Lab measurements coverage for maximum values"
   ]
  },
  {
   "cell_type": "code",
   "execution_count": 8,
   "metadata": {},
   "outputs": [
    {
     "name": "stdout",
     "output_type": "stream",
     "text": [
      "2023-09-13 12:51:24,012 - Anomalies - INFO - Parsing command line arguments\n",
      "2023-09-13 12:51:24,013 - Anomalies - INFO - Start!!\n",
      "2023-09-13 12:51:24,013 - Anomalies - INFO - args.source_file: data/icd_cohort_test/lab_measurements_max_icd.csv\n",
      "2023-09-13 12:51:24,013 - Anomalies - INFO - args.chunksize: 1\n",
      "2023-09-13 12:51:24,013 - Anomalies - INFO - args.id_columns: ['person_id']\n",
      "2023-09-13 12:51:24,014 - Anomalies - INFO - args.drop: False\n",
      "2023-09-13 12:51:24,014 - Anomalies - INFO - args.percentage: 50\n",
      "2023-09-13 12:51:24,014 - Anomalies - INFO - args.save_path: .\n",
      "2023-09-13 12:51:24,014 - Anomalies - INFO - Calculating Missingnes\n",
      "2023-09-13 12:52:13,076 - Anomalies - INFO - Missingness Report\n",
      "2023-09-13 12:52:13,094 - Anomalies - INFO - \n",
      "\n",
      "                column_name  missing_count  total_count  percentage_missing\n",
      "0                   albumin           4400         9923               44.34\n",
      "1                 anion_gap           2374         9923               23.92\n",
      "2                      aptt           3145         9923               31.69\n",
      "3     band_form_neutrophils           6930         9923               69.84\n",
      "4      base_excess_in_blood           5560         9923               56.03\n",
      "5               bicarbonate             51         9923                0.51\n",
      "6                 bilirubin           3613         9923               36.41\n",
      "7       carbondioxide_blood           5555         9923               55.98\n",
      "8       carbondioxide_serum           5553         9923               55.96\n",
      "9            chloride_blood           8677         9923               87.44\n",
      "10           chloride_serum             53         9923                0.53\n",
      "11               creatinine             40         9923                0.40\n",
      "12            glucose_serum             68         9923                0.69\n",
      "13            glucose_urine           9106         9923               91.77\n",
      "14               hematocrit           2359         9923               23.77\n",
      "15               hemoglobin             51         9923                0.51\n",
      "16                      inr           3073         9923               30.97\n",
      "17                  lactate           3293         9923               33.19\n",
      "18    leukocytes_blood_auto           9839         9923               99.15\n",
      "19  leukocytes_blood_manual           2369         9923               23.87\n",
      "20                   oxygen           5556         9923               55.99\n",
      "21                 ph_blood           5373         9923               54.15\n",
      "22             ph_bodyfluid           9801         9923               98.77\n",
      "23           platelet_count           2358         9923               23.76\n",
      "24          potassium_blood           7461         9923               75.19\n",
      "25          potassium_serum             44         9923                0.44\n",
      "26             sodium_blood           8439         9923               85.04\n",
      "27             sodium_serum             46         9923                0.46\n",
      "28            urea_nitrogen           2364         9923               23.82\n",
      "\n",
      "2023-09-13 12:52:13,233 - Anomalies - INFO - Done!!\n"
     ]
    },
    {
     "data": {
      "text/plain": [
       "0"
      ]
     },
     "execution_count": 8,
     "metadata": {},
     "output_type": "execute_result"
    }
   ],
   "source": [
    "import os\n",
    "\n",
    "os.system(\n",
    "    '''cd /superbugai-data/yash/chapter_1/workspace/EHRQC;'''\n",
    "    +\n",
    "    '''.venv/bin/python -m ehrqc.qc.Coverage data/icd_cohort_test/lab_measurements_max_icd.csv 1 person_id'''\n",
    "    )"
   ]
  },
  {
   "cell_type": "markdown",
   "metadata": {},
   "source": [
    "### Lab measurements coverage for average values"
   ]
  },
  {
   "cell_type": "code",
   "execution_count": 9,
   "metadata": {},
   "outputs": [
    {
     "name": "stdout",
     "output_type": "stream",
     "text": [
      "2023-09-13 12:52:13,774 - Anomalies - INFO - Parsing command line arguments\n",
      "2023-09-13 12:52:13,776 - Anomalies - INFO - Start!!\n",
      "2023-09-13 12:52:13,776 - Anomalies - INFO - args.source_file: data/icd_cohort_test/lab_measurements_avg_icd.csv\n",
      "2023-09-13 12:52:13,776 - Anomalies - INFO - args.chunksize: 1\n",
      "2023-09-13 12:52:13,776 - Anomalies - INFO - args.id_columns: ['person_id']\n",
      "2023-09-13 12:52:13,776 - Anomalies - INFO - args.drop: False\n",
      "2023-09-13 12:52:13,776 - Anomalies - INFO - args.percentage: 50\n",
      "2023-09-13 12:52:13,776 - Anomalies - INFO - args.save_path: .\n",
      "2023-09-13 12:52:13,776 - Anomalies - INFO - Calculating Missingnes\n",
      "2023-09-13 12:53:03,407 - Anomalies - INFO - Missingness Report\n",
      "2023-09-13 12:53:03,426 - Anomalies - INFO - \n",
      "\n",
      "                column_name  missing_count  total_count  percentage_missing\n",
      "0                   albumin           4400         9923               44.34\n",
      "1                 anion_gap           2374         9923               23.92\n",
      "2                      aptt           3145         9923               31.69\n",
      "3     band_form_neutrophils           6930         9923               69.84\n",
      "4      base_excess_in_blood           5560         9923               56.03\n",
      "5               bicarbonate             51         9923                0.51\n",
      "6                 bilirubin           3613         9923               36.41\n",
      "7       carbondioxide_blood           5555         9923               55.98\n",
      "8       carbondioxide_serum           5553         9923               55.96\n",
      "9            chloride_blood           8677         9923               87.44\n",
      "10           chloride_serum             53         9923                0.53\n",
      "11               creatinine             40         9923                0.40\n",
      "12            glucose_serum             68         9923                0.69\n",
      "13            glucose_urine           9106         9923               91.77\n",
      "14               hematocrit           2359         9923               23.77\n",
      "15               hemoglobin             51         9923                0.51\n",
      "16                      inr           3073         9923               30.97\n",
      "17                  lactate           3293         9923               33.19\n",
      "18    leukocytes_blood_auto           9839         9923               99.15\n",
      "19  leukocytes_blood_manual           2369         9923               23.87\n",
      "20                   oxygen           5556         9923               55.99\n",
      "21                 ph_blood           5373         9923               54.15\n",
      "22             ph_bodyfluid           9801         9923               98.77\n",
      "23           platelet_count           2358         9923               23.76\n",
      "24          potassium_blood           7461         9923               75.19\n",
      "25          potassium_serum             44         9923                0.44\n",
      "26             sodium_blood           8439         9923               85.04\n",
      "27             sodium_serum             46         9923                0.46\n",
      "28            urea_nitrogen           2364         9923               23.82\n",
      "\n",
      "2023-09-13 12:53:03,563 - Anomalies - INFO - Done!!\n"
     ]
    },
    {
     "data": {
      "text/plain": [
       "0"
      ]
     },
     "execution_count": 9,
     "metadata": {},
     "output_type": "execute_result"
    }
   ],
   "source": [
    "import os\n",
    "\n",
    "os.system(\n",
    "    '''cd /superbugai-data/yash/chapter_1/workspace/EHRQC;'''\n",
    "    +\n",
    "    '''.venv/bin/python -m ehrqc.qc.Coverage data/icd_cohort_test/lab_measurements_avg_icd.csv 1 person_id'''\n",
    "    )"
   ]
  },
  {
   "cell_type": "markdown",
   "metadata": {},
   "source": [
    "### Lab measurements coverage for standard deviation values"
   ]
  },
  {
   "cell_type": "code",
   "execution_count": 10,
   "metadata": {},
   "outputs": [
    {
     "name": "stdout",
     "output_type": "stream",
     "text": [
      "2023-09-13 12:53:04,071 - Anomalies - INFO - Parsing command line arguments\n",
      "2023-09-13 12:53:04,072 - Anomalies - INFO - Start!!\n",
      "2023-09-13 12:53:04,072 - Anomalies - INFO - args.source_file: data/icd_cohort_test/lab_measurements_stddev_icd.csv\n",
      "2023-09-13 12:53:04,072 - Anomalies - INFO - args.chunksize: 1\n",
      "2023-09-13 12:53:04,072 - Anomalies - INFO - args.id_columns: ['person_id']\n",
      "2023-09-13 12:53:04,073 - Anomalies - INFO - args.drop: False\n",
      "2023-09-13 12:53:04,073 - Anomalies - INFO - args.percentage: 50\n",
      "2023-09-13 12:53:04,073 - Anomalies - INFO - args.save_path: .\n",
      "2023-09-13 12:53:04,073 - Anomalies - INFO - Calculating Missingnes\n",
      "2023-09-13 12:53:51,596 - Anomalies - INFO - Missingness Report\n",
      "2023-09-13 12:53:51,611 - Anomalies - INFO - \n",
      "\n",
      "                column_name  missing_count  total_count  percentage_missing\n",
      "0                   albumin           6433         9923               64.83\n",
      "1                 anion_gap           2581         9923               26.01\n",
      "2                      aptt           4092         9923               41.24\n",
      "3     band_form_neutrophils           7982         9923               80.44\n",
      "4      base_excess_in_blood           6227         9923               62.75\n",
      "5               bicarbonate            324         9923                3.27\n",
      "6                 bilirubin           4938         9923               49.76\n",
      "7       carbondioxide_blood           6224         9923               62.72\n",
      "8       carbondioxide_serum           6221         9923               62.69\n",
      "9            chloride_blood           9165         9923               92.36\n",
      "10           chloride_serum            328         9923                3.31\n",
      "11               creatinine            323         9923                3.26\n",
      "12            glucose_serum            332         9923                3.35\n",
      "13            glucose_urine           9563         9923               96.37\n",
      "14               hematocrit           2552         9923               25.72\n",
      "15               hemoglobin            341         9923                3.44\n",
      "16                      inr           3973         9923               40.04\n",
      "17                  lactate           4482         9923               45.17\n",
      "18    leukocytes_blood_auto           9889         9923               99.66\n",
      "19  leukocytes_blood_manual           2564         9923               25.84\n",
      "20                   oxygen           6227         9923               62.75\n",
      "21                 ph_blood           6057         9923               61.04\n",
      "22             ph_bodyfluid           9874         9923               99.51\n",
      "23           platelet_count           2559         9923               25.79\n",
      "24          potassium_blood           8262         9923               83.26\n",
      "25          potassium_serum            329         9923                3.32\n",
      "26             sodium_blood           8995         9923               90.65\n",
      "27             sodium_serum            329         9923                3.32\n",
      "28            urea_nitrogen           2576         9923               25.96\n",
      "\n",
      "2023-09-13 12:53:51,697 - Anomalies - INFO - Done!!\n"
     ]
    },
    {
     "data": {
      "text/plain": [
       "0"
      ]
     },
     "execution_count": 10,
     "metadata": {},
     "output_type": "execute_result"
    }
   ],
   "source": [
    "import os\n",
    "\n",
    "os.system(\n",
    "    '''cd /superbugai-data/yash/chapter_1/workspace/EHRQC;'''\n",
    "    +\n",
    "    '''.venv/bin/python -m ehrqc.qc.Coverage data/icd_cohort_test/lab_measurements_stddev_icd.csv 1 person_id'''\n",
    "    )"
   ]
  },
  {
   "cell_type": "markdown",
   "metadata": {},
   "source": [
    "### Lab measurements coverage for first values"
   ]
  },
  {
   "cell_type": "code",
   "execution_count": 11,
   "metadata": {},
   "outputs": [
    {
     "name": "stdout",
     "output_type": "stream",
     "text": [
      "2023-09-13 12:53:52,238 - Anomalies - INFO - Parsing command line arguments\n",
      "2023-09-13 12:53:52,239 - Anomalies - INFO - Start!!\n",
      "2023-09-13 12:53:52,239 - Anomalies - INFO - args.source_file: data/icd_cohort_test/lab_measurements_first_icd.csv\n",
      "2023-09-13 12:53:52,239 - Anomalies - INFO - args.chunksize: 1\n",
      "2023-09-13 12:53:52,239 - Anomalies - INFO - args.id_columns: ['person_id']\n",
      "2023-09-13 12:53:52,239 - Anomalies - INFO - args.drop: False\n",
      "2023-09-13 12:53:52,239 - Anomalies - INFO - args.percentage: 50\n",
      "2023-09-13 12:53:52,240 - Anomalies - INFO - args.save_path: .\n",
      "2023-09-13 12:53:52,240 - Anomalies - INFO - Calculating Missingnes\n",
      "2023-09-13 12:54:39,384 - Anomalies - INFO - Missingness Report\n",
      "2023-09-13 12:54:39,396 - Anomalies - INFO - \n",
      "\n",
      "                column_name  missing_count  total_count  percentage_missing\n",
      "0                   albumin           4400         9923               44.34\n",
      "1                 anion_gap           2374         9923               23.92\n",
      "2                      aptt           3145         9923               31.69\n",
      "3     band_form_neutrophils           6930         9923               69.84\n",
      "4      base_excess_in_blood           5560         9923               56.03\n",
      "5               bicarbonate             51         9923                0.51\n",
      "6                 bilirubin           3613         9923               36.41\n",
      "7       carbondioxide_blood           5555         9923               55.98\n",
      "8       carbondioxide_serum           5553         9923               55.96\n",
      "9            chloride_blood           8677         9923               87.44\n",
      "10           chloride_serum             53         9923                0.53\n",
      "11               creatinine             40         9923                0.40\n",
      "12            glucose_serum             68         9923                0.69\n",
      "13            glucose_urine           9106         9923               91.77\n",
      "14               hematocrit           2359         9923               23.77\n",
      "15               hemoglobin             51         9923                0.51\n",
      "16                      inr           3073         9923               30.97\n",
      "17                  lactate           3293         9923               33.19\n",
      "18    leukocytes_blood_auto           9839         9923               99.15\n",
      "19  leukocytes_blood_manual           2369         9923               23.87\n",
      "20                   oxygen           5556         9923               55.99\n",
      "21                 ph_blood           5373         9923               54.15\n",
      "22             ph_bodyfluid           9801         9923               98.77\n",
      "23           platelet_count           2358         9923               23.76\n",
      "24          potassium_blood           7461         9923               75.19\n",
      "25          potassium_serum             44         9923                0.44\n",
      "26             sodium_blood           8439         9923               85.04\n",
      "27             sodium_serum             46         9923                0.46\n",
      "28            urea_nitrogen           2364         9923               23.82\n",
      "\n",
      "2023-09-13 12:54:39,472 - Anomalies - INFO - Done!!\n"
     ]
    },
    {
     "data": {
      "text/plain": [
       "0"
      ]
     },
     "execution_count": 11,
     "metadata": {},
     "output_type": "execute_result"
    }
   ],
   "source": [
    "import os\n",
    "\n",
    "os.system(\n",
    "    '''cd /superbugai-data/yash/chapter_1/workspace/EHRQC;'''\n",
    "    +\n",
    "    '''.venv/bin/python -m ehrqc.qc.Coverage data/icd_cohort_test/lab_measurements_first_icd.csv 1 person_id'''\n",
    "    )"
   ]
  },
  {
   "cell_type": "markdown",
   "metadata": {},
   "source": [
    "### Lab measurements coverage for last values"
   ]
  },
  {
   "cell_type": "code",
   "execution_count": 12,
   "metadata": {},
   "outputs": [
    {
     "name": "stdout",
     "output_type": "stream",
     "text": [
      "2023-09-13 12:54:39,983 - Anomalies - INFO - Parsing command line arguments\n",
      "2023-09-13 12:54:39,984 - Anomalies - INFO - Start!!\n",
      "2023-09-13 12:54:39,984 - Anomalies - INFO - args.source_file: data/icd_cohort_test/lab_measurements_last_icd.csv\n",
      "2023-09-13 12:54:39,984 - Anomalies - INFO - args.chunksize: 1\n",
      "2023-09-13 12:54:39,985 - Anomalies - INFO - args.id_columns: ['person_id']\n",
      "2023-09-13 12:54:39,985 - Anomalies - INFO - args.drop: False\n",
      "2023-09-13 12:54:39,985 - Anomalies - INFO - args.percentage: 50\n",
      "2023-09-13 12:54:39,985 - Anomalies - INFO - args.save_path: .\n",
      "2023-09-13 12:54:39,985 - Anomalies - INFO - Calculating Missingnes\n",
      "2023-09-13 12:55:27,833 - Anomalies - INFO - Missingness Report\n",
      "2023-09-13 12:55:27,851 - Anomalies - INFO - \n",
      "\n",
      "                column_name  missing_count  total_count  percentage_missing\n",
      "0                   albumin           4400         9923               44.34\n",
      "1                 anion_gap           2374         9923               23.92\n",
      "2                      aptt           3145         9923               31.69\n",
      "3     band_form_neutrophils           6930         9923               69.84\n",
      "4      base_excess_in_blood           5560         9923               56.03\n",
      "5               bicarbonate             51         9923                0.51\n",
      "6                 bilirubin           3613         9923               36.41\n",
      "7       carbondioxide_blood           5555         9923               55.98\n",
      "8       carbondioxide_serum           5553         9923               55.96\n",
      "9            chloride_blood           8677         9923               87.44\n",
      "10           chloride_serum             53         9923                0.53\n",
      "11               creatinine             40         9923                0.40\n",
      "12            glucose_serum             68         9923                0.69\n",
      "13            glucose_urine           9106         9923               91.77\n",
      "14               hematocrit           2359         9923               23.77\n",
      "15               hemoglobin             51         9923                0.51\n",
      "16                      inr           3073         9923               30.97\n",
      "17                  lactate           3293         9923               33.19\n",
      "18    leukocytes_blood_auto           9839         9923               99.15\n",
      "19  leukocytes_blood_manual           2369         9923               23.87\n",
      "20                   oxygen           5556         9923               55.99\n",
      "21                 ph_blood           5373         9923               54.15\n",
      "22             ph_bodyfluid           9801         9923               98.77\n",
      "23           platelet_count           2358         9923               23.76\n",
      "24          potassium_blood           7461         9923               75.19\n",
      "25          potassium_serum             44         9923                0.44\n",
      "26             sodium_blood           8439         9923               85.04\n",
      "27             sodium_serum             46         9923                0.46\n",
      "28            urea_nitrogen           2364         9923               23.82\n",
      "\n",
      "2023-09-13 12:55:27,935 - Anomalies - INFO - Done!!\n"
     ]
    },
    {
     "data": {
      "text/plain": [
       "0"
      ]
     },
     "execution_count": 12,
     "metadata": {},
     "output_type": "execute_result"
    }
   ],
   "source": [
    "import os\n",
    "\n",
    "os.system(\n",
    "    '''cd /superbugai-data/yash/chapter_1/workspace/EHRQC;'''\n",
    "    +\n",
    "    '''.venv/bin/python -m ehrqc.qc.Coverage data/icd_cohort_test/lab_measurements_last_icd.csv 1 person_id'''\n",
    "    )"
   ]
  },
  {
   "cell_type": "markdown",
   "metadata": {},
   "source": [
    "## Conclusion"
   ]
  },
  {
   "cell_type": "markdown",
   "metadata": {},
   "source": [
    "Vitals data has very good coverage but many attributes in lab measumrements are very sparse."
   ]
  }
 ],
 "metadata": {
  "kernelspec": {
   "display_name": ".venv",
   "language": "python",
   "name": "python3"
  },
  "language_info": {
   "codemirror_mode": {
    "name": "ipython",
    "version": 3
   },
   "file_extension": ".py",
   "mimetype": "text/x-python",
   "name": "python",
   "nbconvert_exporter": "python",
   "pygments_lexer": "ipython3",
   "version": "3.9.5"
  },
  "orig_nbformat": 4
 },
 "nbformat": 4,
 "nbformat_minor": 2
}
