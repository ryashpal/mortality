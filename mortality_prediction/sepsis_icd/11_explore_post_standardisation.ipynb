{
 "cells": [
  {
   "cell_type": "markdown",
   "metadata": {},
   "source": [
    "# Exploring the data post missing value imputation"
   ]
  },
  {
   "cell_type": "markdown",
   "metadata": {},
   "source": [
    "## Read individual files"
   ]
  },
  {
   "cell_type": "code",
   "execution_count": 6,
   "metadata": {},
   "outputs": [],
   "source": [
    "import pandas as pd\n",
    "\n",
    "demographics =  pd.read_csv('/superbugai-data/yash/chapter_1/workspace/EHRQC/data/icd_cohort_test/demographics_icd.csv')\n",
    "vitals_min =  pd.read_csv('/superbugai-data/yash/chapter_1/workspace/EHRQC/data/icd_cohort_test/standardised/vitals_min_icd_standardised.csv')\n",
    "vitals_max =  pd.read_csv('/superbugai-data/yash/chapter_1/workspace/EHRQC/data/icd_cohort_test/standardised/vitals_max_icd_standardised.csv')\n",
    "vitals_avg =  pd.read_csv('/superbugai-data/yash/chapter_1/workspace/EHRQC/data/icd_cohort_test/standardised/vitals_avg_icd_standardised.csv')\n",
    "vitals_stddev =  pd.read_csv('/superbugai-data/yash/chapter_1/workspace/EHRQC/data/icd_cohort_test/standardised/vitals_stddev_icd_standardised.csv')\n",
    "vitals_first =  pd.read_csv('/superbugai-data/yash/chapter_1/workspace/EHRQC/data/icd_cohort_test/standardised/vitals_first_icd_standardised.csv')\n",
    "vitals_last =  pd.read_csv('/superbugai-data/yash/chapter_1/workspace/EHRQC/data/icd_cohort_test/standardised/vitals_last_icd_standardised.csv')\n",
    "lab_measurements_min =  pd.read_csv('/superbugai-data/yash/chapter_1/workspace/EHRQC/data/icd_cohort_test/standardised/lab_measurements_min_icd_standardised.csv')\n",
    "lab_measurements_max =  pd.read_csv('/superbugai-data/yash/chapter_1/workspace/EHRQC/data/icd_cohort_test/standardised/lab_measurements_max_icd_standardised.csv')\n",
    "lab_measurements_avg =  pd.read_csv('/superbugai-data/yash/chapter_1/workspace/EHRQC/data/icd_cohort_test/standardised/lab_measurements_avg_icd_standardised.csv')\n",
    "lab_measurements_stddev =  pd.read_csv('/superbugai-data/yash/chapter_1/workspace/EHRQC/data/icd_cohort_test/standardised/lab_measurements_stddev_icd_standardised.csv')\n",
    "lab_measurements_first =  pd.read_csv('/superbugai-data/yash/chapter_1/workspace/EHRQC/data/icd_cohort_test/standardised/lab_measurements_first_icd_standardised.csv')\n",
    "lab_measurements_last =  pd.read_csv('/superbugai-data/yash/chapter_1/workspace/EHRQC/data/icd_cohort_test/standardised/lab_measurements_last_icd_standardised.csv')"
   ]
  },
  {
   "cell_type": "code",
   "execution_count": 7,
   "metadata": {},
   "outputs": [
    {
     "data": {
      "text/plain": [
       "(12241, 4)"
      ]
     },
     "execution_count": 7,
     "metadata": {},
     "output_type": "execute_result"
    }
   ],
   "source": [
    "demographics.shape"
   ]
  },
  {
   "cell_type": "code",
   "execution_count": 8,
   "metadata": {},
   "outputs": [
    {
     "data": {
      "text/plain": [
       "((3941, 11), (3941, 11), (3941, 11), (3941, 11), (3941, 11), (3941, 11))"
      ]
     },
     "execution_count": 8,
     "metadata": {},
     "output_type": "execute_result"
    }
   ],
   "source": [
    "vitals_min.shape, vitals_max.shape, vitals_avg.shape, vitals_stddev.shape, vitals_first.shape, vitals_last.shape"
   ]
  },
  {
   "cell_type": "code",
   "execution_count": 9,
   "metadata": {},
   "outputs": [
    {
     "data": {
      "text/plain": [
       "((7496, 13), (7494, 13), (7497, 13), (7636, 8), (7496, 13), (7496, 13))"
      ]
     },
     "execution_count": 9,
     "metadata": {},
     "output_type": "execute_result"
    }
   ],
   "source": [
    "lab_measurements_min.shape, lab_measurements_max.shape, lab_measurements_avg.shape, lab_measurements_stddev.shape, lab_measurements_first.shape, lab_measurements_last.shape"
   ]
  },
  {
   "cell_type": "markdown",
   "metadata": {},
   "source": [
    "## Generate graphs"
   ]
  },
  {
   "cell_type": "markdown",
   "metadata": {},
   "source": [
    "### Generate exploration graphs for demographics"
   ]
  },
  {
   "cell_type": "code",
   "execution_count": 10,
   "metadata": {},
   "outputs": [
    {
     "name": "stdout",
     "output_type": "stream",
     "text": [
      "2023-09-20 11:53:22,406 - EHRQC - INFO - Parsing command line arguments\n",
      "2023-09-20 11:53:22,407 - EHRQC - INFO - args.plot_type: demographics_explore\n",
      "2023-09-20 11:53:22,407 - EHRQC - INFO - args.source_path: data/icd_cohort_test/demographics_icd.csv\n",
      "2023-09-20 11:53:22,407 - EHRQC - INFO - args.save_path: data/icd_cohort_test/standardised/demographics_icd_explore.html\n",
      "2023-09-20 11:53:22,407 - EHRQC - INFO - args.column_mapping: None\n",
      "2023-09-20 11:53:22,407 - EHRQC - INFO - args.column_mapping: {}\n",
      "2023-09-20 11:53:22,414 - EHRQC - INFO - generating graphs\n"
     ]
    },
    {
     "name": "stderr",
     "output_type": "stream",
     "text": [
      "/superbugai-data/yash/chapter_1/workspace/EHRQC/.venv/lib/python3.9/site-packages/missingno/missingno.py:61: UserWarning: Plotting a sparkline on an existing axis is not currently supported. To remove this warning, set sparkline=False.\n",
      "  warnings.warn(\n"
     ]
    },
    {
     "name": "stdout",
     "output_type": "stream",
     "text": [
      "2023-09-20 11:53:22,906 - EHRQC - INFO - Done!!\n"
     ]
    },
    {
     "data": {
      "text/plain": [
       "0"
      ]
     },
     "execution_count": 10,
     "metadata": {},
     "output_type": "execute_result"
    }
   ],
   "source": [
    "import os\n",
    "\n",
    "os.system(\n",
    "    '''cd /superbugai-data/yash/chapter_1/workspace/EHRQC;'''\n",
    "    +\n",
    "    '''.venv/bin/python -m ehrqc.qc.Plot \"demographics_explore\" \"data/icd_cohort_test/demographics_icd.csv\" \"data/icd_cohort_test/standardised/demographics_icd_explore.html\"'''\n",
    "    )"
   ]
  },
  {
   "cell_type": "markdown",
   "metadata": {},
   "source": [
    "### Generate exploration graphs for vitals"
   ]
  },
  {
   "cell_type": "markdown",
   "metadata": {},
   "source": [
    "#### Vitals exploration graphs for minimum values"
   ]
  },
  {
   "cell_type": "code",
   "execution_count": 11,
   "metadata": {},
   "outputs": [
    {
     "name": "stdout",
     "output_type": "stream",
     "text": [
      "2023-09-20 11:53:24,467 - EHRQC - INFO - Parsing command line arguments\n",
      "2023-09-20 11:53:24,467 - EHRQC - INFO - args.plot_type: vitals_explore\n",
      "2023-09-20 11:53:24,468 - EHRQC - INFO - args.source_path: data/icd_cohort_test/standardised/vitals_min_icd_standardised.csv\n",
      "2023-09-20 11:53:24,468 - EHRQC - INFO - args.save_path: data/icd_cohort_test/standardised/vitals_min_icd_explore.html\n",
      "2023-09-20 11:53:24,468 - EHRQC - INFO - args.column_mapping: None\n",
      "2023-09-20 11:53:24,468 - EHRQC - INFO - args.column_mapping: {}\n",
      "2023-09-20 11:53:24,477 - EHRQC - INFO - generating graphs\n"
     ]
    },
    {
     "name": "stderr",
     "output_type": "stream",
     "text": [
      "/superbugai-data/yash/chapter_1/workspace/EHRQC/.venv/lib/python3.9/site-packages/missingno/missingno.py:61: UserWarning: Plotting a sparkline on an existing axis is not currently supported. To remove this warning, set sparkline=False.\n",
      "  warnings.warn(\n"
     ]
    },
    {
     "name": "stdout",
     "output_type": "stream",
     "text": [
      "2023-09-20 11:53:25,779 - EHRQC - INFO - Done!!\n"
     ]
    },
    {
     "data": {
      "text/plain": [
       "0"
      ]
     },
     "execution_count": 11,
     "metadata": {},
     "output_type": "execute_result"
    }
   ],
   "source": [
    "import os\n",
    "\n",
    "os.system(\n",
    "    '''cd /superbugai-data/yash/chapter_1/workspace/EHRQC;'''\n",
    "    +\n",
    "    '''.venv/bin/python -m ehrqc.qc.Plot \"vitals_explore\" \"data/icd_cohort_test/standardised/vitals_min_icd_standardised.csv\" \"data/icd_cohort_test/standardised/vitals_min_icd_explore.html\"'''\n",
    "    )"
   ]
  },
  {
   "cell_type": "markdown",
   "metadata": {},
   "source": [
    "#### Vitals exploration graphs for maximum values"
   ]
  },
  {
   "cell_type": "code",
   "execution_count": 12,
   "metadata": {},
   "outputs": [
    {
     "name": "stdout",
     "output_type": "stream",
     "text": [
      "2023-09-20 11:53:27,349 - EHRQC - INFO - Parsing command line arguments\n",
      "2023-09-20 11:53:27,350 - EHRQC - INFO - args.plot_type: vitals_explore\n",
      "2023-09-20 11:53:27,350 - EHRQC - INFO - args.source_path: data/icd_cohort_test/standardised/vitals_max_icd_standardised.csv\n",
      "2023-09-20 11:53:27,350 - EHRQC - INFO - args.save_path: data/icd_cohort_test/standardised/vitals_max_icd_explore.html\n",
      "2023-09-20 11:53:27,350 - EHRQC - INFO - args.column_mapping: None\n",
      "2023-09-20 11:53:27,350 - EHRQC - INFO - args.column_mapping: {}\n",
      "2023-09-20 11:53:27,359 - EHRQC - INFO - generating graphs\n"
     ]
    },
    {
     "name": "stderr",
     "output_type": "stream",
     "text": [
      "/superbugai-data/yash/chapter_1/workspace/EHRQC/.venv/lib/python3.9/site-packages/missingno/missingno.py:61: UserWarning: Plotting a sparkline on an existing axis is not currently supported. To remove this warning, set sparkline=False.\n",
      "  warnings.warn(\n"
     ]
    },
    {
     "name": "stdout",
     "output_type": "stream",
     "text": [
      "2023-09-20 11:53:28,675 - EHRQC - INFO - Done!!\n"
     ]
    },
    {
     "data": {
      "text/plain": [
       "0"
      ]
     },
     "execution_count": 12,
     "metadata": {},
     "output_type": "execute_result"
    }
   ],
   "source": [
    "import os\n",
    "\n",
    "os.system(\n",
    "    '''cd /superbugai-data/yash/chapter_1/workspace/EHRQC;'''\n",
    "    +\n",
    "    '''.venv/bin/python -m ehrqc.qc.Plot \"vitals_explore\" \"data/icd_cohort_test/standardised/vitals_max_icd_standardised.csv\" \"data/icd_cohort_test/standardised/vitals_max_icd_explore.html\"'''\n",
    "    )"
   ]
  },
  {
   "cell_type": "markdown",
   "metadata": {},
   "source": [
    "#### Vitals exploration graphs for average values"
   ]
  },
  {
   "cell_type": "code",
   "execution_count": 13,
   "metadata": {},
   "outputs": [
    {
     "name": "stdout",
     "output_type": "stream",
     "text": [
      "2023-09-20 11:53:30,246 - EHRQC - INFO - Parsing command line arguments\n",
      "2023-09-20 11:53:30,247 - EHRQC - INFO - args.plot_type: vitals_explore\n",
      "2023-09-20 11:53:30,247 - EHRQC - INFO - args.source_path: data/icd_cohort_test/standardised/vitals_avg_icd_standardised.csv\n",
      "2023-09-20 11:53:30,247 - EHRQC - INFO - args.save_path: data/icd_cohort_test/standardised/vitals_avg_icd_explore.html\n",
      "2023-09-20 11:53:30,247 - EHRQC - INFO - args.column_mapping: None\n",
      "2023-09-20 11:53:30,247 - EHRQC - INFO - args.column_mapping: {}\n",
      "2023-09-20 11:53:30,257 - EHRQC - INFO - generating graphs\n"
     ]
    },
    {
     "name": "stderr",
     "output_type": "stream",
     "text": [
      "/superbugai-data/yash/chapter_1/workspace/EHRQC/.venv/lib/python3.9/site-packages/missingno/missingno.py:61: UserWarning: Plotting a sparkline on an existing axis is not currently supported. To remove this warning, set sparkline=False.\n",
      "  warnings.warn(\n"
     ]
    },
    {
     "name": "stdout",
     "output_type": "stream",
     "text": [
      "2023-09-20 11:53:31,581 - EHRQC - INFO - Done!!\n"
     ]
    },
    {
     "data": {
      "text/plain": [
       "0"
      ]
     },
     "execution_count": 13,
     "metadata": {},
     "output_type": "execute_result"
    }
   ],
   "source": [
    "import os\n",
    "\n",
    "os.system(\n",
    "    '''cd /superbugai-data/yash/chapter_1/workspace/EHRQC;'''\n",
    "    +\n",
    "    '''.venv/bin/python -m ehrqc.qc.Plot \"vitals_explore\" \"data/icd_cohort_test/standardised/vitals_avg_icd_standardised.csv\" \"data/icd_cohort_test/standardised/vitals_avg_icd_explore.html\"'''\n",
    "    )"
   ]
  },
  {
   "cell_type": "markdown",
   "metadata": {},
   "source": [
    "#### Vitals exploration graphs for standard deviation values"
   ]
  },
  {
   "cell_type": "code",
   "execution_count": 14,
   "metadata": {},
   "outputs": [
    {
     "name": "stdout",
     "output_type": "stream",
     "text": [
      "2023-09-20 11:53:33,133 - EHRQC - INFO - Parsing command line arguments\n",
      "2023-09-20 11:53:33,134 - EHRQC - INFO - args.plot_type: vitals_explore\n",
      "2023-09-20 11:53:33,134 - EHRQC - INFO - args.source_path: data/icd_cohort_test/standardised/vitals_stddev_icd_standardised.csv\n",
      "2023-09-20 11:53:33,134 - EHRQC - INFO - args.save_path: data/icd_cohort_test/standardised/vitals_stddev_icd_explore.html\n",
      "2023-09-20 11:53:33,134 - EHRQC - INFO - args.column_mapping: None\n",
      "2023-09-20 11:53:33,134 - EHRQC - INFO - args.column_mapping: {}\n",
      "2023-09-20 11:53:33,144 - EHRQC - INFO - generating graphs\n"
     ]
    },
    {
     "name": "stderr",
     "output_type": "stream",
     "text": [
      "/superbugai-data/yash/chapter_1/workspace/EHRQC/.venv/lib/python3.9/site-packages/missingno/missingno.py:61: UserWarning: Plotting a sparkline on an existing axis is not currently supported. To remove this warning, set sparkline=False.\n",
      "  warnings.warn(\n"
     ]
    },
    {
     "name": "stdout",
     "output_type": "stream",
     "text": [
      "2023-09-20 11:53:34,473 - EHRQC - INFO - Done!!\n"
     ]
    },
    {
     "data": {
      "text/plain": [
       "0"
      ]
     },
     "execution_count": 14,
     "metadata": {},
     "output_type": "execute_result"
    }
   ],
   "source": [
    "import os\n",
    "\n",
    "os.system(\n",
    "    '''cd /superbugai-data/yash/chapter_1/workspace/EHRQC;'''\n",
    "    +\n",
    "    '''.venv/bin/python -m ehrqc.qc.Plot \"vitals_explore\" \"data/icd_cohort_test/standardised/vitals_stddev_icd_standardised.csv\" \"data/icd_cohort_test/standardised/vitals_stddev_icd_explore.html\"'''\n",
    "    )"
   ]
  },
  {
   "cell_type": "markdown",
   "metadata": {},
   "source": [
    "#### Vitals exploration graphs for first values"
   ]
  },
  {
   "cell_type": "code",
   "execution_count": 15,
   "metadata": {},
   "outputs": [
    {
     "name": "stdout",
     "output_type": "stream",
     "text": [
      "2023-09-20 11:53:36,112 - EHRQC - INFO - Parsing command line arguments\n",
      "2023-09-20 11:53:36,113 - EHRQC - INFO - args.plot_type: vitals_explore\n",
      "2023-09-20 11:53:36,113 - EHRQC - INFO - args.source_path: data/icd_cohort_test/standardised/vitals_first_icd_standardised.csv\n",
      "2023-09-20 11:53:36,113 - EHRQC - INFO - args.save_path: data/icd_cohort_test/standardised/vitals_first_icd_explore.html\n",
      "2023-09-20 11:53:36,114 - EHRQC - INFO - args.column_mapping: None\n",
      "2023-09-20 11:53:36,114 - EHRQC - INFO - args.column_mapping: {}\n",
      "2023-09-20 11:53:36,123 - EHRQC - INFO - generating graphs\n"
     ]
    },
    {
     "name": "stderr",
     "output_type": "stream",
     "text": [
      "/superbugai-data/yash/chapter_1/workspace/EHRQC/.venv/lib/python3.9/site-packages/missingno/missingno.py:61: UserWarning: Plotting a sparkline on an existing axis is not currently supported. To remove this warning, set sparkline=False.\n",
      "  warnings.warn(\n"
     ]
    },
    {
     "name": "stdout",
     "output_type": "stream",
     "text": [
      "2023-09-20 11:53:37,519 - EHRQC - INFO - Done!!\n"
     ]
    },
    {
     "data": {
      "text/plain": [
       "0"
      ]
     },
     "execution_count": 15,
     "metadata": {},
     "output_type": "execute_result"
    }
   ],
   "source": [
    "import os\n",
    "\n",
    "os.system(\n",
    "    '''cd /superbugai-data/yash/chapter_1/workspace/EHRQC;'''\n",
    "    +\n",
    "    '''.venv/bin/python -m ehrqc.qc.Plot \"vitals_explore\" \"data/icd_cohort_test/standardised/vitals_first_icd_standardised.csv\" \"data/icd_cohort_test/standardised/vitals_first_icd_explore.html\"'''\n",
    "    )"
   ]
  },
  {
   "cell_type": "markdown",
   "metadata": {},
   "source": [
    "#### Vitals exploration graphs for last values"
   ]
  },
  {
   "cell_type": "code",
   "execution_count": 16,
   "metadata": {},
   "outputs": [
    {
     "name": "stdout",
     "output_type": "stream",
     "text": [
      "2023-09-20 11:53:39,126 - EHRQC - INFO - Parsing command line arguments\n",
      "2023-09-20 11:53:39,127 - EHRQC - INFO - args.plot_type: vitals_explore\n",
      "2023-09-20 11:53:39,127 - EHRQC - INFO - args.source_path: data/icd_cohort_test/standardised/vitals_last_icd_standardised.csv\n",
      "2023-09-20 11:53:39,127 - EHRQC - INFO - args.save_path: data/icd_cohort_test/standardised/vitals_last_icd_explore.html\n",
      "2023-09-20 11:53:39,127 - EHRQC - INFO - args.column_mapping: None\n",
      "2023-09-20 11:53:39,127 - EHRQC - INFO - args.column_mapping: {}\n",
      "2023-09-20 11:53:39,136 - EHRQC - INFO - generating graphs\n"
     ]
    },
    {
     "name": "stderr",
     "output_type": "stream",
     "text": [
      "/superbugai-data/yash/chapter_1/workspace/EHRQC/.venv/lib/python3.9/site-packages/missingno/missingno.py:61: UserWarning: Plotting a sparkline on an existing axis is not currently supported. To remove this warning, set sparkline=False.\n",
      "  warnings.warn(\n"
     ]
    },
    {
     "name": "stdout",
     "output_type": "stream",
     "text": [
      "2023-09-20 11:53:40,478 - EHRQC - INFO - Done!!\n"
     ]
    },
    {
     "data": {
      "text/plain": [
       "0"
      ]
     },
     "execution_count": 16,
     "metadata": {},
     "output_type": "execute_result"
    }
   ],
   "source": [
    "import os\n",
    "\n",
    "os.system(\n",
    "    '''cd /superbugai-data/yash/chapter_1/workspace/EHRQC;'''\n",
    "    +\n",
    "    '''.venv/bin/python -m ehrqc.qc.Plot \"vitals_explore\" \"data/icd_cohort_test/standardised/vitals_last_icd_standardised.csv\" \"data/icd_cohort_test/standardised/vitals_last_icd_explore.html\"'''\n",
    "    )"
   ]
  },
  {
   "cell_type": "markdown",
   "metadata": {},
   "source": [
    "### Generate anomaly graphs for vitals"
   ]
  },
  {
   "cell_type": "markdown",
   "metadata": {},
   "source": [
    "#### Vitals anomaly graphs for minimum values"
   ]
  },
  {
   "cell_type": "code",
   "execution_count": 17,
   "metadata": {},
   "outputs": [
    {
     "name": "stdout",
     "output_type": "stream",
     "text": [
      "2023-09-20 11:53:42,063 - Anomalies - INFO - Parsing command line arguments\n",
      "2023-09-20 11:53:42,064 - Anomalies - INFO - Start!!\n",
      "2023-09-20 11:53:42,064 - Anomalies - INFO - args.source_path: data/icd_cohort_test/standardised/vitals_min_icd_standardised.csv\n",
      "2023-09-20 11:53:42,064 - Anomalies - INFO - args.save_path: data/icd_cohort_test/standardised/\n",
      "2023-09-20 11:53:42,064 - Anomalies - INFO - args.save_prefix: vitals_min_icd\n",
      "2023-09-20 11:53:42,064 - Anomalies - INFO - args.detect_missing: True\n",
      "2023-09-20 11:53:42,064 - Anomalies - INFO - args.detect_outliers: True\n",
      "2023-09-20 11:53:42,064 - Anomalies - INFO - args.detect_errors: True\n",
      "2023-09-20 11:53:42,064 - Anomalies - INFO - args.detect_inconsistencies: True\n",
      "2023-09-20 11:53:42,064 - Anomalies - INFO - args.correct_missing: False\n",
      "2023-09-20 11:53:42,064 - Anomalies - INFO - args.correct_outliers: False\n",
      "2023-09-20 11:54:50,844 - Anomalies - INFO - Done!!\n"
     ]
    },
    {
     "data": {
      "text/plain": [
       "0"
      ]
     },
     "execution_count": 17,
     "metadata": {},
     "output_type": "execute_result"
    }
   ],
   "source": [
    "import os\n",
    "\n",
    "os.system(\n",
    "    '''cd /superbugai-data/yash/chapter_1/workspace/EHRQC;'''\n",
    "    +\n",
    "    '''.venv/bin/python -m ehrqc.qc.Anomalies 'data/icd_cohort_test/standardised/vitals_min_icd_standardised.csv' 'data/icd_cohort_test/standardised/' 'vitals_min_icd' -dm -do -de -di'''\n",
    "    )"
   ]
  },
  {
   "cell_type": "markdown",
   "metadata": {},
   "source": [
    "#### Vitals anomaly graphs for maximum values"
   ]
  },
  {
   "cell_type": "code",
   "execution_count": 18,
   "metadata": {},
   "outputs": [
    {
     "name": "stdout",
     "output_type": "stream",
     "text": [
      "2023-09-20 11:54:52,448 - Anomalies - INFO - Parsing command line arguments\n",
      "2023-09-20 11:54:52,450 - Anomalies - INFO - Start!!\n",
      "2023-09-20 11:54:52,450 - Anomalies - INFO - args.source_path: data/icd_cohort_test/standardised/vitals_max_icd_standardised.csv\n",
      "2023-09-20 11:54:52,450 - Anomalies - INFO - args.save_path: data/icd_cohort_test/standardised/\n",
      "2023-09-20 11:54:52,450 - Anomalies - INFO - args.save_prefix: vitals_max_icd\n",
      "2023-09-20 11:54:52,450 - Anomalies - INFO - args.detect_missing: True\n",
      "2023-09-20 11:54:52,450 - Anomalies - INFO - args.detect_outliers: True\n",
      "2023-09-20 11:54:52,450 - Anomalies - INFO - args.detect_errors: True\n",
      "2023-09-20 11:54:52,450 - Anomalies - INFO - args.detect_inconsistencies: True\n",
      "2023-09-20 11:54:52,450 - Anomalies - INFO - args.correct_missing: False\n",
      "2023-09-20 11:54:52,450 - Anomalies - INFO - args.correct_outliers: False\n",
      "2023-09-20 11:57:10,975 - Anomalies - INFO - Done!!\n"
     ]
    },
    {
     "data": {
      "text/plain": [
       "0"
      ]
     },
     "execution_count": 18,
     "metadata": {},
     "output_type": "execute_result"
    }
   ],
   "source": [
    "import os\n",
    "\n",
    "os.system(\n",
    "    '''cd /superbugai-data/yash/chapter_1/workspace/EHRQC;'''\n",
    "    +\n",
    "    '''.venv/bin/python -m ehrqc.qc.Anomalies 'data/icd_cohort_test/standardised/vitals_max_icd_standardised.csv' 'data/icd_cohort_test/standardised/' 'vitals_max_icd' -dm -do -de -di'''\n",
    "    )"
   ]
  },
  {
   "cell_type": "markdown",
   "metadata": {},
   "source": [
    "#### Vitals anomaly graphs for average values"
   ]
  },
  {
   "cell_type": "code",
   "execution_count": 19,
   "metadata": {},
   "outputs": [
    {
     "name": "stdout",
     "output_type": "stream",
     "text": [
      "2023-09-20 11:57:12,604 - Anomalies - INFO - Parsing command line arguments\n",
      "2023-09-20 11:57:12,605 - Anomalies - INFO - Start!!\n",
      "2023-09-20 11:57:12,605 - Anomalies - INFO - args.source_path: data/icd_cohort_test/standardised/vitals_avg_icd_standardised.csv\n",
      "2023-09-20 11:57:12,605 - Anomalies - INFO - args.save_path: data/icd_cohort_test/standardised/\n",
      "2023-09-20 11:57:12,605 - Anomalies - INFO - args.save_prefix: vitals_avg_icd\n",
      "2023-09-20 11:57:12,605 - Anomalies - INFO - args.detect_missing: True\n",
      "2023-09-20 11:57:12,605 - Anomalies - INFO - args.detect_outliers: True\n",
      "2023-09-20 11:57:12,605 - Anomalies - INFO - args.detect_errors: True\n",
      "2023-09-20 11:57:12,605 - Anomalies - INFO - args.detect_inconsistencies: True\n",
      "2023-09-20 11:57:12,605 - Anomalies - INFO - args.correct_missing: False\n",
      "2023-09-20 11:57:12,605 - Anomalies - INFO - args.correct_outliers: False\n",
      "2023-09-20 11:57:56,339 - Anomalies - INFO - Done!!\n"
     ]
    },
    {
     "data": {
      "text/plain": [
       "0"
      ]
     },
     "execution_count": 19,
     "metadata": {},
     "output_type": "execute_result"
    }
   ],
   "source": [
    "import os\n",
    "\n",
    "os.system(\n",
    "    '''cd /superbugai-data/yash/chapter_1/workspace/EHRQC;'''\n",
    "    +\n",
    "    '''.venv/bin/python -m ehrqc.qc.Anomalies 'data/icd_cohort_test/standardised/vitals_avg_icd_standardised.csv' 'data/icd_cohort_test/standardised/' 'vitals_avg_icd' -dm -do -de -di'''\n",
    "    )"
   ]
  },
  {
   "cell_type": "markdown",
   "metadata": {},
   "source": [
    "#### Vitals anomaly graphs for standard deviation values"
   ]
  },
  {
   "cell_type": "code",
   "execution_count": 20,
   "metadata": {},
   "outputs": [
    {
     "name": "stdout",
     "output_type": "stream",
     "text": [
      "2023-09-20 11:57:57,946 - Anomalies - INFO - Parsing command line arguments\n",
      "2023-09-20 11:57:57,947 - Anomalies - INFO - Start!!\n",
      "2023-09-20 11:57:57,948 - Anomalies - INFO - args.source_path: data/icd_cohort_test/standardised/vitals_stddev_icd_standardised.csv\n",
      "2023-09-20 11:57:57,948 - Anomalies - INFO - args.save_path: data/icd_cohort_test/standardised/\n",
      "2023-09-20 11:57:57,948 - Anomalies - INFO - args.save_prefix: vitals_stddev_icd\n",
      "2023-09-20 11:57:57,948 - Anomalies - INFO - args.detect_missing: True\n",
      "2023-09-20 11:57:57,948 - Anomalies - INFO - args.detect_outliers: True\n",
      "2023-09-20 11:57:57,948 - Anomalies - INFO - args.detect_errors: True\n",
      "2023-09-20 11:57:57,948 - Anomalies - INFO - args.detect_inconsistencies: True\n",
      "2023-09-20 11:57:57,948 - Anomalies - INFO - args.correct_missing: False\n",
      "2023-09-20 11:57:57,948 - Anomalies - INFO - args.correct_outliers: False\n",
      "2023-09-20 11:58:23,975 - Anomalies - INFO - Done!!\n"
     ]
    },
    {
     "data": {
      "text/plain": [
       "0"
      ]
     },
     "execution_count": 20,
     "metadata": {},
     "output_type": "execute_result"
    }
   ],
   "source": [
    "import os\n",
    "\n",
    "os.system(\n",
    "    '''cd /superbugai-data/yash/chapter_1/workspace/EHRQC;'''\n",
    "    +\n",
    "    '''.venv/bin/python -m ehrqc.qc.Anomalies 'data/icd_cohort_test/standardised/vitals_stddev_icd_standardised.csv' 'data/icd_cohort_test/standardised/' 'vitals_stddev_icd' -dm -do -de -di'''\n",
    "    )"
   ]
  },
  {
   "cell_type": "markdown",
   "metadata": {},
   "source": [
    "#### Vitals anomaly graphs for first values"
   ]
  },
  {
   "cell_type": "code",
   "execution_count": 21,
   "metadata": {},
   "outputs": [
    {
     "name": "stdout",
     "output_type": "stream",
     "text": [
      "2023-09-20 11:58:25,625 - Anomalies - INFO - Parsing command line arguments\n",
      "2023-09-20 11:58:25,626 - Anomalies - INFO - Start!!\n",
      "2023-09-20 11:58:25,626 - Anomalies - INFO - args.source_path: data/icd_cohort_test/standardised/vitals_first_icd_standardised.csv\n",
      "2023-09-20 11:58:25,626 - Anomalies - INFO - args.save_path: data/icd_cohort_test/standardised/\n",
      "2023-09-20 11:58:25,626 - Anomalies - INFO - args.save_prefix: vitals_first_icd\n",
      "2023-09-20 11:58:25,626 - Anomalies - INFO - args.detect_missing: True\n",
      "2023-09-20 11:58:25,626 - Anomalies - INFO - args.detect_outliers: True\n",
      "2023-09-20 11:58:25,626 - Anomalies - INFO - args.detect_errors: True\n",
      "2023-09-20 11:58:25,626 - Anomalies - INFO - args.detect_inconsistencies: True\n",
      "2023-09-20 11:58:25,626 - Anomalies - INFO - args.correct_missing: False\n",
      "2023-09-20 11:58:25,626 - Anomalies - INFO - args.correct_outliers: False\n",
      "2023-09-20 11:59:02,101 - Anomalies - INFO - Done!!\n"
     ]
    },
    {
     "data": {
      "text/plain": [
       "0"
      ]
     },
     "execution_count": 21,
     "metadata": {},
     "output_type": "execute_result"
    }
   ],
   "source": [
    "import os\n",
    "\n",
    "os.system(\n",
    "    '''cd /superbugai-data/yash/chapter_1/workspace/EHRQC;'''\n",
    "    +\n",
    "    '''.venv/bin/python -m ehrqc.qc.Anomalies 'data/icd_cohort_test/standardised/vitals_first_icd_standardised.csv' 'data/icd_cohort_test/standardised/' 'vitals_first_icd' -dm -do -de -di'''\n",
    "    )"
   ]
  },
  {
   "cell_type": "markdown",
   "metadata": {},
   "source": [
    "#### Vitals anomaly graphs for last values"
   ]
  },
  {
   "cell_type": "code",
   "execution_count": 22,
   "metadata": {},
   "outputs": [
    {
     "name": "stdout",
     "output_type": "stream",
     "text": [
      "2023-09-20 11:59:03,723 - Anomalies - INFO - Parsing command line arguments\n",
      "2023-09-20 11:59:03,724 - Anomalies - INFO - Start!!\n",
      "2023-09-20 11:59:03,724 - Anomalies - INFO - args.source_path: data/icd_cohort_test/standardised/vitals_last_icd_standardised.csv\n",
      "2023-09-20 11:59:03,724 - Anomalies - INFO - args.save_path: data/icd_cohort_test/standardised/\n",
      "2023-09-20 11:59:03,724 - Anomalies - INFO - args.save_prefix: vitals_last_icd\n",
      "2023-09-20 11:59:03,724 - Anomalies - INFO - args.detect_missing: True\n",
      "2023-09-20 11:59:03,724 - Anomalies - INFO - args.detect_outliers: True\n",
      "2023-09-20 11:59:03,724 - Anomalies - INFO - args.detect_errors: True\n",
      "2023-09-20 11:59:03,724 - Anomalies - INFO - args.detect_inconsistencies: True\n",
      "2023-09-20 11:59:03,724 - Anomalies - INFO - args.correct_missing: False\n",
      "2023-09-20 11:59:03,724 - Anomalies - INFO - args.correct_outliers: False\n",
      "2023-09-20 11:59:36,787 - Anomalies - INFO - Done!!\n"
     ]
    },
    {
     "data": {
      "text/plain": [
       "0"
      ]
     },
     "execution_count": 22,
     "metadata": {},
     "output_type": "execute_result"
    }
   ],
   "source": [
    "import os\n",
    "\n",
    "os.system(\n",
    "    '''cd /superbugai-data/yash/chapter_1/workspace/EHRQC;'''\n",
    "    +\n",
    "    '''.venv/bin/python -m ehrqc.qc.Anomalies 'data/icd_cohort_test/standardised/vitals_last_icd_standardised.csv' 'data/icd_cohort_test/standardised/' 'vitals_last_icd' -dm -do -de -di'''\n",
    "    )"
   ]
  },
  {
   "cell_type": "markdown",
   "metadata": {},
   "source": [
    "### Generate exploration graphs for lab measurements"
   ]
  },
  {
   "cell_type": "markdown",
   "metadata": {},
   "source": [
    "#### Lab measurements exploration graphs for minimum values"
   ]
  },
  {
   "cell_type": "code",
   "execution_count": 23,
   "metadata": {},
   "outputs": [
    {
     "name": "stdout",
     "output_type": "stream",
     "text": [
      "2023-09-20 11:59:38,396 - EHRQC - INFO - Parsing command line arguments\n",
      "2023-09-20 11:59:38,397 - EHRQC - INFO - args.plot_type: lab_measurements_explore\n",
      "2023-09-20 11:59:38,397 - EHRQC - INFO - args.source_path: data/icd_cohort_test/standardised/lab_measurements_min_icd_standardised.csv\n",
      "2023-09-20 11:59:38,397 - EHRQC - INFO - args.save_path: data/icd_cohort_test/standardised/lab_measurements_min_icd_explore.html\n",
      "2023-09-20 11:59:38,397 - EHRQC - INFO - args.column_mapping: None\n",
      "2023-09-20 11:59:38,397 - EHRQC - INFO - args.column_mapping: {}\n",
      "2023-09-20 11:59:38,416 - EHRQC - INFO - generating graphs\n"
     ]
    },
    {
     "name": "stderr",
     "output_type": "stream",
     "text": [
      "/superbugai-data/yash/chapter_1/workspace/EHRQC/.venv/lib/python3.9/site-packages/missingno/missingno.py:61: UserWarning: Plotting a sparkline on an existing axis is not currently supported. To remove this warning, set sparkline=False.\n",
      "  warnings.warn(\n"
     ]
    },
    {
     "name": "stdout",
     "output_type": "stream",
     "text": [
      "2023-09-20 11:59:39,548 - EHRQC - INFO - Done!!\n"
     ]
    },
    {
     "data": {
      "text/plain": [
       "0"
      ]
     },
     "execution_count": 23,
     "metadata": {},
     "output_type": "execute_result"
    }
   ],
   "source": [
    "import os\n",
    "\n",
    "os.system(\n",
    "    '''cd /superbugai-data/yash/chapter_1/workspace/EHRQC;'''\n",
    "    +\n",
    "    '''.venv/bin/python -m ehrqc.qc.Plot \"lab_measurements_explore\" \"data/icd_cohort_test/standardised/lab_measurements_min_icd_standardised.csv\" \"data/icd_cohort_test/standardised/lab_measurements_min_icd_explore.html\"'''\n",
    "    )"
   ]
  },
  {
   "cell_type": "markdown",
   "metadata": {},
   "source": [
    "#### Lab measurements exploration graphs for maximum values"
   ]
  },
  {
   "cell_type": "code",
   "execution_count": 24,
   "metadata": {},
   "outputs": [
    {
     "name": "stdout",
     "output_type": "stream",
     "text": [
      "2023-09-20 11:59:41,166 - EHRQC - INFO - Parsing command line arguments\n",
      "2023-09-20 11:59:41,167 - EHRQC - INFO - args.plot_type: lab_measurements_explore\n",
      "2023-09-20 11:59:41,167 - EHRQC - INFO - args.source_path: data/icd_cohort_test/standardised/lab_measurements_max_icd_standardised.csv\n",
      "2023-09-20 11:59:41,167 - EHRQC - INFO - args.save_path: data/icd_cohort_test/standardised/lab_measurements_max_icd_explore.html\n",
      "2023-09-20 11:59:41,167 - EHRQC - INFO - args.column_mapping: None\n",
      "2023-09-20 11:59:41,167 - EHRQC - INFO - args.column_mapping: {}\n",
      "2023-09-20 11:59:41,186 - EHRQC - INFO - generating graphs\n"
     ]
    },
    {
     "name": "stderr",
     "output_type": "stream",
     "text": [
      "/superbugai-data/yash/chapter_1/workspace/EHRQC/.venv/lib/python3.9/site-packages/missingno/missingno.py:61: UserWarning: Plotting a sparkline on an existing axis is not currently supported. To remove this warning, set sparkline=False.\n",
      "  warnings.warn(\n"
     ]
    },
    {
     "name": "stdout",
     "output_type": "stream",
     "text": [
      "2023-09-20 11:59:42,280 - EHRQC - INFO - Done!!\n"
     ]
    },
    {
     "data": {
      "text/plain": [
       "0"
      ]
     },
     "execution_count": 24,
     "metadata": {},
     "output_type": "execute_result"
    }
   ],
   "source": [
    "import os\n",
    "\n",
    "os.system(\n",
    "    '''cd /superbugai-data/yash/chapter_1/workspace/EHRQC;'''\n",
    "    +\n",
    "    '''.venv/bin/python -m ehrqc.qc.Plot \"lab_measurements_explore\" \"data/icd_cohort_test/standardised/lab_measurements_max_icd_standardised.csv\" \"data/icd_cohort_test/standardised/lab_measurements_max_icd_explore.html\"'''\n",
    "    )"
   ]
  },
  {
   "cell_type": "markdown",
   "metadata": {},
   "source": [
    "#### Lab measurements exploration graphs for average values"
   ]
  },
  {
   "cell_type": "code",
   "execution_count": 25,
   "metadata": {},
   "outputs": [
    {
     "name": "stdout",
     "output_type": "stream",
     "text": [
      "2023-09-20 11:59:43,887 - EHRQC - INFO - Parsing command line arguments\n",
      "2023-09-20 11:59:43,888 - EHRQC - INFO - args.plot_type: lab_measurements_explore\n",
      "2023-09-20 11:59:43,888 - EHRQC - INFO - args.source_path: data/icd_cohort_test/standardised/lab_measurements_avg_icd_standardised.csv\n",
      "2023-09-20 11:59:43,888 - EHRQC - INFO - args.save_path: data/icd_cohort_test/standardised/lab_measurements_avg_icd_explore.html\n",
      "2023-09-20 11:59:43,888 - EHRQC - INFO - args.column_mapping: None\n",
      "2023-09-20 11:59:43,888 - EHRQC - INFO - args.column_mapping: {}\n",
      "2023-09-20 11:59:43,907 - EHRQC - INFO - generating graphs\n"
     ]
    },
    {
     "name": "stderr",
     "output_type": "stream",
     "text": [
      "/superbugai-data/yash/chapter_1/workspace/EHRQC/.venv/lib/python3.9/site-packages/missingno/missingno.py:61: UserWarning: Plotting a sparkline on an existing axis is not currently supported. To remove this warning, set sparkline=False.\n",
      "  warnings.warn(\n"
     ]
    },
    {
     "name": "stdout",
     "output_type": "stream",
     "text": [
      "2023-09-20 11:59:45,003 - EHRQC - INFO - Done!!\n"
     ]
    },
    {
     "data": {
      "text/plain": [
       "0"
      ]
     },
     "execution_count": 25,
     "metadata": {},
     "output_type": "execute_result"
    }
   ],
   "source": [
    "import os\n",
    "\n",
    "os.system(\n",
    "    '''cd /superbugai-data/yash/chapter_1/workspace/EHRQC;'''\n",
    "    +\n",
    "    '''.venv/bin/python -m ehrqc.qc.Plot \"lab_measurements_explore\" \"data/icd_cohort_test/standardised/lab_measurements_avg_icd_standardised.csv\" \"data/icd_cohort_test/standardised/lab_measurements_avg_icd_explore.html\"'''\n",
    "    )"
   ]
  },
  {
   "cell_type": "markdown",
   "metadata": {},
   "source": [
    "#### Lab measurements exploration graphs for standard deviation values"
   ]
  },
  {
   "cell_type": "code",
   "execution_count": 26,
   "metadata": {},
   "outputs": [
    {
     "name": "stdout",
     "output_type": "stream",
     "text": [
      "2023-09-20 11:59:46,585 - EHRQC - INFO - Parsing command line arguments\n",
      "2023-09-20 11:59:46,586 - EHRQC - INFO - args.plot_type: lab_measurements_explore\n",
      "2023-09-20 11:59:46,586 - EHRQC - INFO - args.source_path: data/icd_cohort_test/standardised/lab_measurements_stddev_icd_standardised.csv\n",
      "2023-09-20 11:59:46,586 - EHRQC - INFO - args.save_path: data/icd_cohort_test/standardised/lab_measurements_stddev_icd_explore.html\n",
      "2023-09-20 11:59:46,586 - EHRQC - INFO - args.column_mapping: None\n",
      "2023-09-20 11:59:46,586 - EHRQC - INFO - args.column_mapping: {}\n",
      "2023-09-20 11:59:46,598 - EHRQC - INFO - generating graphs\n"
     ]
    },
    {
     "name": "stderr",
     "output_type": "stream",
     "text": [
      "/superbugai-data/yash/chapter_1/workspace/EHRQC/.venv/lib/python3.9/site-packages/missingno/missingno.py:61: UserWarning: Plotting a sparkline on an existing axis is not currently supported. To remove this warning, set sparkline=False.\n",
      "  warnings.warn(\n"
     ]
    },
    {
     "name": "stdout",
     "output_type": "stream",
     "text": [
      "2023-09-20 11:59:47,110 - EHRQC - INFO - Done!!\n"
     ]
    },
    {
     "data": {
      "text/plain": [
       "0"
      ]
     },
     "execution_count": 26,
     "metadata": {},
     "output_type": "execute_result"
    }
   ],
   "source": [
    "import os\n",
    "\n",
    "os.system(\n",
    "    '''cd /superbugai-data/yash/chapter_1/workspace/EHRQC;'''\n",
    "    +\n",
    "    '''.venv/bin/python -m ehrqc.qc.Plot \"lab_measurements_explore\" \"data/icd_cohort_test/standardised/lab_measurements_stddev_icd_standardised.csv\" \"data/icd_cohort_test/standardised/lab_measurements_stddev_icd_explore.html\"'''\n",
    "    )"
   ]
  },
  {
   "cell_type": "markdown",
   "metadata": {},
   "source": [
    "#### Lab measurements exploration graphs for first values"
   ]
  },
  {
   "cell_type": "code",
   "execution_count": 27,
   "metadata": {},
   "outputs": [
    {
     "name": "stdout",
     "output_type": "stream",
     "text": [
      "2023-09-20 11:59:48,692 - EHRQC - INFO - Parsing command line arguments\n",
      "2023-09-20 11:59:48,692 - EHRQC - INFO - args.plot_type: lab_measurements_explore\n",
      "2023-09-20 11:59:48,693 - EHRQC - INFO - args.source_path: data/icd_cohort_test/standardised/lab_measurements_first_icd_standardised.csv\n",
      "2023-09-20 11:59:48,693 - EHRQC - INFO - args.save_path: data/icd_cohort_test/standardised/lab_measurements_first_icd_explore.html\n",
      "2023-09-20 11:59:48,693 - EHRQC - INFO - args.column_mapping: None\n",
      "2023-09-20 11:59:48,693 - EHRQC - INFO - args.column_mapping: {}\n",
      "2023-09-20 11:59:48,711 - EHRQC - INFO - generating graphs\n"
     ]
    },
    {
     "name": "stderr",
     "output_type": "stream",
     "text": [
      "/superbugai-data/yash/chapter_1/workspace/EHRQC/.venv/lib/python3.9/site-packages/missingno/missingno.py:61: UserWarning: Plotting a sparkline on an existing axis is not currently supported. To remove this warning, set sparkline=False.\n",
      "  warnings.warn(\n"
     ]
    },
    {
     "name": "stdout",
     "output_type": "stream",
     "text": [
      "2023-09-20 11:59:49,817 - EHRQC - INFO - Done!!\n"
     ]
    },
    {
     "data": {
      "text/plain": [
       "0"
      ]
     },
     "execution_count": 27,
     "metadata": {},
     "output_type": "execute_result"
    }
   ],
   "source": [
    "import os\n",
    "\n",
    "os.system(\n",
    "    '''cd /superbugai-data/yash/chapter_1/workspace/EHRQC;'''\n",
    "    +\n",
    "    '''.venv/bin/python -m ehrqc.qc.Plot \"lab_measurements_explore\" \"data/icd_cohort_test/standardised/lab_measurements_first_icd_standardised.csv\" \"data/icd_cohort_test/standardised/lab_measurements_first_icd_explore.html\"'''\n",
    "    )"
   ]
  },
  {
   "cell_type": "markdown",
   "metadata": {},
   "source": [
    "#### Lab measurements exploration graphs for last values"
   ]
  },
  {
   "cell_type": "code",
   "execution_count": 28,
   "metadata": {},
   "outputs": [
    {
     "name": "stdout",
     "output_type": "stream",
     "text": [
      "2023-09-20 11:59:51,448 - EHRQC - INFO - Parsing command line arguments\n",
      "2023-09-20 11:59:51,449 - EHRQC - INFO - args.plot_type: lab_measurements_explore\n",
      "2023-09-20 11:59:51,449 - EHRQC - INFO - args.source_path: data/icd_cohort_test/standardised/lab_measurements_last_icd_standardised.csv\n",
      "2023-09-20 11:59:51,449 - EHRQC - INFO - args.save_path: data/icd_cohort_test/standardised/lab_measurements_last_icd_explore.html\n",
      "2023-09-20 11:59:51,449 - EHRQC - INFO - args.column_mapping: None\n",
      "2023-09-20 11:59:51,449 - EHRQC - INFO - args.column_mapping: {}\n",
      "2023-09-20 11:59:51,467 - EHRQC - INFO - generating graphs\n"
     ]
    },
    {
     "name": "stderr",
     "output_type": "stream",
     "text": [
      "/superbugai-data/yash/chapter_1/workspace/EHRQC/.venv/lib/python3.9/site-packages/missingno/missingno.py:61: UserWarning: Plotting a sparkline on an existing axis is not currently supported. To remove this warning, set sparkline=False.\n",
      "  warnings.warn(\n"
     ]
    },
    {
     "name": "stdout",
     "output_type": "stream",
     "text": [
      "2023-09-20 11:59:52,576 - EHRQC - INFO - Done!!\n"
     ]
    },
    {
     "data": {
      "text/plain": [
       "0"
      ]
     },
     "execution_count": 28,
     "metadata": {},
     "output_type": "execute_result"
    }
   ],
   "source": [
    "import os\n",
    "\n",
    "os.system(\n",
    "    '''cd /superbugai-data/yash/chapter_1/workspace/EHRQC;'''\n",
    "    +\n",
    "    '''.venv/bin/python -m ehrqc.qc.Plot \"lab_measurements_explore\" \"data/icd_cohort_test/standardised/lab_measurements_last_icd_standardised.csv\" \"data/icd_cohort_test/standardised/lab_measurements_last_icd_explore.html\"'''\n",
    "    )"
   ]
  },
  {
   "cell_type": "markdown",
   "metadata": {},
   "source": [
    "### Generate anomaly graphs for lab measurements"
   ]
  },
  {
   "cell_type": "markdown",
   "metadata": {},
   "source": [
    "#### Lab measurements anomaly graph for minimum values"
   ]
  },
  {
   "cell_type": "code",
   "execution_count": 29,
   "metadata": {},
   "outputs": [
    {
     "name": "stdout",
     "output_type": "stream",
     "text": [
      "2023-09-20 11:59:54,183 - Anomalies - INFO - Parsing command line arguments\n",
      "2023-09-20 11:59:54,185 - Anomalies - INFO - Start!!\n",
      "2023-09-20 11:59:54,185 - Anomalies - INFO - args.source_path: data/icd_cohort_test/standardised/lab_measurements_min_icd_standardised.csv\n",
      "2023-09-20 11:59:54,185 - Anomalies - INFO - args.save_path: data/icd_cohort_test/standardised/\n",
      "2023-09-20 11:59:54,185 - Anomalies - INFO - args.save_prefix: lab_measurements_min_icd\n",
      "2023-09-20 11:59:54,185 - Anomalies - INFO - args.detect_missing: True\n",
      "2023-09-20 11:59:54,185 - Anomalies - INFO - args.detect_outliers: True\n",
      "2023-09-20 11:59:54,185 - Anomalies - INFO - args.detect_errors: True\n",
      "2023-09-20 11:59:54,185 - Anomalies - INFO - args.detect_inconsistencies: True\n",
      "2023-09-20 11:59:54,185 - Anomalies - INFO - args.correct_missing: False\n",
      "2023-09-20 11:59:54,185 - Anomalies - INFO - args.correct_outliers: False\n",
      "2023-09-20 12:00:55,434 - Anomalies - INFO - Done!!\n"
     ]
    },
    {
     "data": {
      "text/plain": [
       "0"
      ]
     },
     "execution_count": 29,
     "metadata": {},
     "output_type": "execute_result"
    }
   ],
   "source": [
    "import os\n",
    "\n",
    "os.system(\n",
    "    '''cd /superbugai-data/yash/chapter_1/workspace/EHRQC;'''\n",
    "    +\n",
    "    '''.venv/bin/python -m ehrqc.qc.Anomalies 'data/icd_cohort_test/standardised/lab_measurements_min_icd_standardised.csv' 'data/icd_cohort_test/standardised/' 'lab_measurements_min_icd' -dm -do -de -di'''\n",
    "    )"
   ]
  },
  {
   "cell_type": "markdown",
   "metadata": {},
   "source": [
    "#### Lab measurements anomaly graph for maximum values"
   ]
  },
  {
   "cell_type": "code",
   "execution_count": 30,
   "metadata": {},
   "outputs": [
    {
     "name": "stdout",
     "output_type": "stream",
     "text": [
      "2023-09-20 12:00:57,059 - Anomalies - INFO - Parsing command line arguments\n",
      "2023-09-20 12:00:57,060 - Anomalies - INFO - Start!!\n",
      "2023-09-20 12:00:57,060 - Anomalies - INFO - args.source_path: data/icd_cohort_test/standardised/lab_measurements_max_icd_standardised.csv\n",
      "2023-09-20 12:00:57,060 - Anomalies - INFO - args.save_path: data/icd_cohort_test/standardised/\n",
      "2023-09-20 12:00:57,060 - Anomalies - INFO - args.save_prefix: lab_measurements_max_icd\n",
      "2023-09-20 12:00:57,060 - Anomalies - INFO - args.detect_missing: True\n",
      "2023-09-20 12:00:57,060 - Anomalies - INFO - args.detect_outliers: True\n",
      "2023-09-20 12:00:57,060 - Anomalies - INFO - args.detect_errors: True\n",
      "2023-09-20 12:00:57,060 - Anomalies - INFO - args.detect_inconsistencies: True\n",
      "2023-09-20 12:00:57,060 - Anomalies - INFO - args.correct_missing: False\n",
      "2023-09-20 12:00:57,060 - Anomalies - INFO - args.correct_outliers: False\n",
      "2023-09-20 12:01:32,040 - Anomalies - INFO - Done!!\n"
     ]
    },
    {
     "data": {
      "text/plain": [
       "0"
      ]
     },
     "execution_count": 30,
     "metadata": {},
     "output_type": "execute_result"
    }
   ],
   "source": [
    "import os\n",
    "\n",
    "os.system(\n",
    "    '''cd /superbugai-data/yash/chapter_1/workspace/EHRQC;'''\n",
    "    +\n",
    "    '''.venv/bin/python -m ehrqc.qc.Anomalies 'data/icd_cohort_test/standardised/lab_measurements_max_icd_standardised.csv' 'data/icd_cohort_test/standardised/' 'lab_measurements_max_icd' -dm -do -de -di'''\n",
    "    )"
   ]
  },
  {
   "cell_type": "markdown",
   "metadata": {},
   "source": [
    "#### Lab measurements anomaly graph for average values"
   ]
  },
  {
   "cell_type": "code",
   "execution_count": 31,
   "metadata": {},
   "outputs": [
    {
     "name": "stdout",
     "output_type": "stream",
     "text": [
      "2023-09-20 12:01:33,647 - Anomalies - INFO - Parsing command line arguments\n",
      "2023-09-20 12:01:33,648 - Anomalies - INFO - Start!!\n",
      "2023-09-20 12:01:33,648 - Anomalies - INFO - args.source_path: data/icd_cohort_test/standardised/lab_measurements_avg_icd_standardised.csv\n",
      "2023-09-20 12:01:33,648 - Anomalies - INFO - args.save_path: data/icd_cohort_test/standardised/\n",
      "2023-09-20 12:01:33,648 - Anomalies - INFO - args.save_prefix: lab_measurements_avg_icd\n",
      "2023-09-20 12:01:33,648 - Anomalies - INFO - args.detect_missing: True\n",
      "2023-09-20 12:01:33,648 - Anomalies - INFO - args.detect_outliers: True\n",
      "2023-09-20 12:01:33,648 - Anomalies - INFO - args.detect_errors: True\n",
      "2023-09-20 12:01:33,648 - Anomalies - INFO - args.detect_inconsistencies: True\n",
      "2023-09-20 12:01:33,648 - Anomalies - INFO - args.correct_missing: False\n",
      "2023-09-20 12:01:33,648 - Anomalies - INFO - args.correct_outliers: False\n",
      "2023-09-20 12:04:27,106 - Anomalies - INFO - Done!!\n"
     ]
    },
    {
     "data": {
      "text/plain": [
       "0"
      ]
     },
     "execution_count": 31,
     "metadata": {},
     "output_type": "execute_result"
    }
   ],
   "source": [
    "import os\n",
    "\n",
    "os.system(\n",
    "    '''cd /superbugai-data/yash/chapter_1/workspace/EHRQC;'''\n",
    "    +\n",
    "    '''.venv/bin/python -m ehrqc.qc.Anomalies 'data/icd_cohort_test/standardised/lab_measurements_avg_icd_standardised.csv' 'data/icd_cohort_test/standardised/' 'lab_measurements_avg_icd' -dm -do -de -di'''\n",
    "    )"
   ]
  },
  {
   "cell_type": "markdown",
   "metadata": {},
   "source": [
    "#### Lab measurements anomaly graph for standard deviation values"
   ]
  },
  {
   "cell_type": "code",
   "execution_count": 32,
   "metadata": {},
   "outputs": [
    {
     "name": "stdout",
     "output_type": "stream",
     "text": [
      "2023-09-20 12:04:28,760 - Anomalies - INFO - Parsing command line arguments\n",
      "2023-09-20 12:04:28,761 - Anomalies - INFO - Start!!\n",
      "2023-09-20 12:04:28,761 - Anomalies - INFO - args.source_path: data/icd_cohort_test/standardised/lab_measurements_stddev_icd_standardised.csv\n",
      "2023-09-20 12:04:28,761 - Anomalies - INFO - args.save_path: data/icd_cohort_test/standardised/\n",
      "2023-09-20 12:04:28,761 - Anomalies - INFO - args.save_prefix: lab_measurements_stddev_icd\n",
      "2023-09-20 12:04:28,761 - Anomalies - INFO - args.detect_missing: True\n",
      "2023-09-20 12:04:28,761 - Anomalies - INFO - args.detect_outliers: True\n",
      "2023-09-20 12:04:28,762 - Anomalies - INFO - args.detect_errors: True\n",
      "2023-09-20 12:04:28,762 - Anomalies - INFO - args.detect_inconsistencies: True\n",
      "2023-09-20 12:04:28,762 - Anomalies - INFO - args.correct_missing: False\n",
      "2023-09-20 12:04:28,762 - Anomalies - INFO - args.correct_outliers: False\n",
      "2023-09-20 12:07:16,355 - Anomalies - INFO - Done!!\n"
     ]
    },
    {
     "data": {
      "text/plain": [
       "0"
      ]
     },
     "execution_count": 32,
     "metadata": {},
     "output_type": "execute_result"
    }
   ],
   "source": [
    "import os\n",
    "\n",
    "os.system(\n",
    "    '''cd /superbugai-data/yash/chapter_1/workspace/EHRQC;'''\n",
    "    +\n",
    "    '''.venv/bin/python -m ehrqc.qc.Anomalies 'data/icd_cohort_test/standardised/lab_measurements_stddev_icd_standardised.csv' 'data/icd_cohort_test/standardised/' 'lab_measurements_stddev_icd' -dm -do -de -di'''\n",
    "    )"
   ]
  },
  {
   "cell_type": "markdown",
   "metadata": {},
   "source": [
    "#### Lab measurements anomaly graph for first values"
   ]
  },
  {
   "cell_type": "code",
   "execution_count": 33,
   "metadata": {},
   "outputs": [
    {
     "name": "stdout",
     "output_type": "stream",
     "text": [
      "2023-09-20 12:07:17,995 - Anomalies - INFO - Parsing command line arguments\n",
      "2023-09-20 12:07:17,996 - Anomalies - INFO - Start!!\n",
      "2023-09-20 12:07:17,996 - Anomalies - INFO - args.source_path: data/icd_cohort_test/standardised/lab_measurements_first_icd_standardised.csv\n",
      "2023-09-20 12:07:17,996 - Anomalies - INFO - args.save_path: data/icd_cohort_test/standardised/\n",
      "2023-09-20 12:07:17,996 - Anomalies - INFO - args.save_prefix: lab_measurements_first_icd\n",
      "2023-09-20 12:07:17,996 - Anomalies - INFO - args.detect_missing: True\n",
      "2023-09-20 12:07:17,996 - Anomalies - INFO - args.detect_outliers: True\n",
      "2023-09-20 12:07:17,996 - Anomalies - INFO - args.detect_errors: True\n",
      "2023-09-20 12:07:17,996 - Anomalies - INFO - args.detect_inconsistencies: True\n",
      "2023-09-20 12:07:17,996 - Anomalies - INFO - args.correct_missing: False\n",
      "2023-09-20 12:07:17,996 - Anomalies - INFO - args.correct_outliers: False\n",
      "2023-09-20 12:08:46,661 - Anomalies - INFO - Done!!\n"
     ]
    },
    {
     "data": {
      "text/plain": [
       "0"
      ]
     },
     "execution_count": 33,
     "metadata": {},
     "output_type": "execute_result"
    }
   ],
   "source": [
    "import os\n",
    "\n",
    "os.system(\n",
    "    '''cd /superbugai-data/yash/chapter_1/workspace/EHRQC;'''\n",
    "    +\n",
    "    '''.venv/bin/python -m ehrqc.qc.Anomalies 'data/icd_cohort_test/standardised/lab_measurements_first_icd_standardised.csv' 'data/icd_cohort_test/standardised/' 'lab_measurements_first_icd' -dm -do -de -di'''\n",
    "    )"
   ]
  },
  {
   "cell_type": "markdown",
   "metadata": {},
   "source": [
    "#### Lab measurements anomaly graph for last values"
   ]
  },
  {
   "cell_type": "code",
   "execution_count": 34,
   "metadata": {},
   "outputs": [
    {
     "name": "stdout",
     "output_type": "stream",
     "text": [
      "2023-09-20 12:08:48,271 - Anomalies - INFO - Parsing command line arguments\n",
      "2023-09-20 12:08:48,272 - Anomalies - INFO - Start!!\n",
      "2023-09-20 12:08:48,272 - Anomalies - INFO - args.source_path: data/icd_cohort_test/standardised/lab_measurements_last_icd_standardised.csv\n",
      "2023-09-20 12:08:48,272 - Anomalies - INFO - args.save_path: data/icd_cohort_test/standardised/\n",
      "2023-09-20 12:08:48,272 - Anomalies - INFO - args.save_prefix: lab_measurements_last_icd\n",
      "2023-09-20 12:08:48,272 - Anomalies - INFO - args.detect_missing: True\n",
      "2023-09-20 12:08:48,272 - Anomalies - INFO - args.detect_outliers: True\n",
      "2023-09-20 12:08:48,272 - Anomalies - INFO - args.detect_errors: True\n",
      "2023-09-20 12:08:48,272 - Anomalies - INFO - args.detect_inconsistencies: True\n",
      "2023-09-20 12:08:48,272 - Anomalies - INFO - args.correct_missing: False\n",
      "2023-09-20 12:08:48,272 - Anomalies - INFO - args.correct_outliers: False\n",
      "2023-09-20 12:09:42,441 - Anomalies - INFO - Done!!\n"
     ]
    },
    {
     "data": {
      "text/plain": [
       "0"
      ]
     },
     "execution_count": 34,
     "metadata": {},
     "output_type": "execute_result"
    }
   ],
   "source": [
    "import os\n",
    "\n",
    "os.system(\n",
    "    '''cd /superbugai-data/yash/chapter_1/workspace/EHRQC;'''\n",
    "    +\n",
    "    '''.venv/bin/python -m ehrqc.qc.Anomalies 'data/icd_cohort_test/standardised/lab_measurements_last_icd_standardised.csv' 'data/icd_cohort_test/standardised/' 'lab_measurements_last_icd' -dm -do -de -di'''\n",
    "    )"
   ]
  },
  {
   "cell_type": "markdown",
   "metadata": {},
   "source": [
    "## Conclusion"
   ]
  },
  {
   "cell_type": "markdown",
   "metadata": {},
   "source": []
  }
 ],
 "metadata": {
  "kernelspec": {
   "display_name": ".venv",
   "language": "python",
   "name": "python3"
  },
  "language_info": {
   "codemirror_mode": {
    "name": "ipython",
    "version": 3
   },
   "file_extension": ".py",
   "mimetype": "text/x-python",
   "name": "python",
   "nbconvert_exporter": "python",
   "pygments_lexer": "ipython3",
   "version": "3.9.5"
  },
  "orig_nbformat": 4
 },
 "nbformat": 4,
 "nbformat_minor": 2
}
