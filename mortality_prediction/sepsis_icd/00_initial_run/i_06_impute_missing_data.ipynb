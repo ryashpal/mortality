{
 "cells": [
  {
   "cell_type": "markdown",
   "metadata": {},
   "source": [
    "# Imputing missing data"
   ]
  },
  {
   "cell_type": "markdown",
   "metadata": {},
   "source": [
    "## Vitals missing data"
   ]
  },
  {
   "cell_type": "markdown",
   "metadata": {},
   "source": [
    "### Vitals missing data removal for minimum values"
   ]
  },
  {
   "cell_type": "code",
   "execution_count": 2,
   "metadata": {},
   "outputs": [
    {
     "name": "stdout",
     "output_type": "stream",
     "text": [
      "2023-09-13 15:46:27,807 - EHRQC - INFO - Parsing command line arguments\n",
      "2023-09-13 15:46:27,809 - EHRQC - INFO - args.action: impute\n",
      "2023-09-13 15:46:27,809 - EHRQC - INFO - args.source_path: data/icd_cohort_test/vitals_min_icd.csv\n",
      "2023-09-13 15:46:27,809 - EHRQC - INFO - args.percentage: None\n",
      "2023-09-13 15:46:27,809 - EHRQC - INFO - args.save_path: data/icd_cohort_test/vitals_min_icd_imputed.csv\n",
      "2023-09-13 15:46:27,809 - EHRQC - INFO - args.algorithm: miss_forest\n",
      "Iteration: 0\n",
      "Iteration: 1\n",
      "Iteration: 2\n",
      "Iteration: 3\n",
      "2023-09-13 15:46:43,801 - EHRQC - INFO - Done!!\n"
     ]
    },
    {
     "data": {
      "text/plain": [
       "0"
      ]
     },
     "execution_count": 2,
     "metadata": {},
     "output_type": "execute_result"
    }
   ],
   "source": [
    "import os\n",
    "\n",
    "os.system(\n",
    "    '''cd /superbugai-data/yash/chapter_1/workspace/EHRQC;'''\n",
    "    +\n",
    "    '''.venv/bin/python -m ehrqc.qc.Impute \"impute\" \"data/icd_cohort_test/vitals_min_icd.csv\"  -sp=\"data/icd_cohort_test/vitals_min_icd_imputed.csv\" -a=\"miss_forest\"'''\n",
    "    )"
   ]
  },
  {
   "cell_type": "markdown",
   "metadata": {},
   "source": [
    "### Vitals missing data removal for maximum values"
   ]
  },
  {
   "cell_type": "code",
   "execution_count": 3,
   "metadata": {},
   "outputs": [
    {
     "name": "stdout",
     "output_type": "stream",
     "text": [
      "2023-09-13 15:48:06,086 - EHRQC - INFO - Parsing command line arguments\n",
      "2023-09-13 15:48:06,087 - EHRQC - INFO - args.action: impute\n",
      "2023-09-13 15:48:06,087 - EHRQC - INFO - args.source_path: data/icd_cohort_test/vitals_max_icd.csv\n",
      "2023-09-13 15:48:06,087 - EHRQC - INFO - args.percentage: None\n",
      "2023-09-13 15:48:06,088 - EHRQC - INFO - args.save_path: data/icd_cohort_test/vitals_max_icd_imputed.csv\n",
      "2023-09-13 15:48:06,088 - EHRQC - INFO - args.algorithm: miss_forest\n",
      "Iteration: 0\n",
      "Iteration: 1\n",
      "2023-09-13 15:48:13,787 - EHRQC - INFO - Done!!\n"
     ]
    },
    {
     "data": {
      "text/plain": [
       "0"
      ]
     },
     "execution_count": 3,
     "metadata": {},
     "output_type": "execute_result"
    }
   ],
   "source": [
    "import os\n",
    "\n",
    "os.system(\n",
    "    '''cd /superbugai-data/yash/chapter_1/workspace/EHRQC;'''\n",
    "    +\n",
    "    '''.venv/bin/python -m ehrqc.qc.Impute \"impute\" \"data/icd_cohort_test/vitals_max_icd.csv\"  -sp=\"data/icd_cohort_test/vitals_max_icd_imputed.csv\" -a=\"miss_forest\"'''\n",
    "    )"
   ]
  },
  {
   "cell_type": "markdown",
   "metadata": {},
   "source": [
    "### Vitals missing data removal for average values"
   ]
  },
  {
   "cell_type": "code",
   "execution_count": 4,
   "metadata": {},
   "outputs": [
    {
     "name": "stdout",
     "output_type": "stream",
     "text": [
      "2023-09-13 15:48:56,077 - EHRQC - INFO - Parsing command line arguments\n",
      "2023-09-13 15:48:56,078 - EHRQC - INFO - args.action: impute\n",
      "2023-09-13 15:48:56,078 - EHRQC - INFO - args.source_path: data/icd_cohort_test/vitals_avg_icd.csv\n",
      "2023-09-13 15:48:56,078 - EHRQC - INFO - args.percentage: None\n",
      "2023-09-13 15:48:56,078 - EHRQC - INFO - args.save_path: data/icd_cohort_test/vitals_avg_icd_imputed.csv\n",
      "2023-09-13 15:48:56,078 - EHRQC - INFO - args.algorithm: miss_forest\n",
      "Iteration: 0\n",
      "Iteration: 1\n",
      "Iteration: 2\n",
      "Iteration: 3\n",
      "2023-09-13 15:49:15,947 - EHRQC - INFO - Done!!\n"
     ]
    },
    {
     "data": {
      "text/plain": [
       "0"
      ]
     },
     "execution_count": 4,
     "metadata": {},
     "output_type": "execute_result"
    }
   ],
   "source": [
    "import os\n",
    "\n",
    "os.system(\n",
    "    '''cd /superbugai-data/yash/chapter_1/workspace/EHRQC;'''\n",
    "    +\n",
    "    '''.venv/bin/python -m ehrqc.qc.Impute \"impute\" \"data/icd_cohort_test/vitals_avg_icd.csv\"  -sp=\"data/icd_cohort_test/vitals_avg_icd_imputed.csv\" -a=\"miss_forest\"'''\n",
    "    )"
   ]
  },
  {
   "cell_type": "markdown",
   "metadata": {},
   "source": [
    "### Vitals missing data removal for standard deviation values"
   ]
  },
  {
   "cell_type": "code",
   "execution_count": 5,
   "metadata": {},
   "outputs": [
    {
     "name": "stdout",
     "output_type": "stream",
     "text": [
      "2023-09-13 15:49:25,471 - EHRQC - INFO - Parsing command line arguments\n",
      "2023-09-13 15:49:25,472 - EHRQC - INFO - args.action: impute\n",
      "2023-09-13 15:49:25,472 - EHRQC - INFO - args.source_path: data/icd_cohort_test/vitals_stddev_icd.csv\n",
      "2023-09-13 15:49:25,472 - EHRQC - INFO - args.percentage: None\n",
      "2023-09-13 15:49:25,472 - EHRQC - INFO - args.save_path: data/icd_cohort_test/vitals_stddev_icd_imputed.csv\n",
      "2023-09-13 15:49:25,472 - EHRQC - INFO - args.algorithm: miss_forest\n",
      "Iteration: 0\n",
      "Iteration: 1\n",
      "Iteration: 2\n",
      "Iteration: 3\n",
      "Iteration: 4\n",
      "2023-09-13 15:49:51,137 - EHRQC - INFO - Done!!\n"
     ]
    },
    {
     "data": {
      "text/plain": [
       "0"
      ]
     },
     "execution_count": 5,
     "metadata": {},
     "output_type": "execute_result"
    }
   ],
   "source": [
    "import os\n",
    "\n",
    "os.system(\n",
    "    '''cd /superbugai-data/yash/chapter_1/workspace/EHRQC;'''\n",
    "    +\n",
    "    '''.venv/bin/python -m ehrqc.qc.Impute \"impute\" \"data/icd_cohort_test/vitals_stddev_icd.csv\"  -sp=\"data/icd_cohort_test/vitals_stddev_icd_imputed.csv\" -a=\"miss_forest\"'''\n",
    "    )"
   ]
  },
  {
   "cell_type": "markdown",
   "metadata": {},
   "source": [
    "### Vitals missing data removal for first values"
   ]
  },
  {
   "cell_type": "code",
   "execution_count": 6,
   "metadata": {},
   "outputs": [
    {
     "name": "stdout",
     "output_type": "stream",
     "text": [
      "2023-09-13 15:49:53,055 - EHRQC - INFO - Parsing command line arguments\n",
      "2023-09-13 15:49:53,056 - EHRQC - INFO - args.action: impute\n",
      "2023-09-13 15:49:53,056 - EHRQC - INFO - args.source_path: data/icd_cohort_test/vitals_first_icd.csv\n",
      "2023-09-13 15:49:53,056 - EHRQC - INFO - args.percentage: None\n",
      "2023-09-13 15:49:53,056 - EHRQC - INFO - args.save_path: data/icd_cohort_test/vitals_first_icd_imputed.csv\n",
      "2023-09-13 15:49:53,056 - EHRQC - INFO - args.algorithm: miss_forest\n",
      "Iteration: 0\n",
      "Iteration: 1\n",
      "Iteration: 2\n",
      "Iteration: 3\n",
      "Iteration: 4\n",
      "2023-09-13 15:50:13,900 - EHRQC - INFO - Done!!\n"
     ]
    },
    {
     "data": {
      "text/plain": [
       "0"
      ]
     },
     "execution_count": 6,
     "metadata": {},
     "output_type": "execute_result"
    }
   ],
   "source": [
    "import os\n",
    "\n",
    "os.system(\n",
    "    '''cd /superbugai-data/yash/chapter_1/workspace/EHRQC;'''\n",
    "    +\n",
    "    '''.venv/bin/python -m ehrqc.qc.Impute \"impute\" \"data/icd_cohort_test/vitals_first_icd.csv\"  -sp=\"data/icd_cohort_test/vitals_first_icd_imputed.csv\" -a=\"miss_forest\"'''\n",
    "    )"
   ]
  },
  {
   "cell_type": "markdown",
   "metadata": {},
   "source": [
    "### Vitals missing data removal for last values"
   ]
  },
  {
   "cell_type": "code",
   "execution_count": 7,
   "metadata": {},
   "outputs": [
    {
     "name": "stdout",
     "output_type": "stream",
     "text": [
      "2023-09-13 15:50:15,945 - EHRQC - INFO - Parsing command line arguments\n",
      "2023-09-13 15:50:15,946 - EHRQC - INFO - args.action: impute\n",
      "2023-09-13 15:50:15,946 - EHRQC - INFO - args.source_path: data/icd_cohort_test/vitals_last_icd.csv\n",
      "2023-09-13 15:50:15,947 - EHRQC - INFO - args.percentage: None\n",
      "2023-09-13 15:50:15,947 - EHRQC - INFO - args.save_path: data/icd_cohort_test/vitals_last_icd_imputed.csv\n",
      "2023-09-13 15:50:15,947 - EHRQC - INFO - args.algorithm: miss_forest\n",
      "Iteration: 0\n",
      "Iteration: 1\n",
      "Iteration: 2\n",
      "2023-09-13 15:50:28,154 - EHRQC - INFO - Done!!\n"
     ]
    },
    {
     "data": {
      "text/plain": [
       "0"
      ]
     },
     "execution_count": 7,
     "metadata": {},
     "output_type": "execute_result"
    }
   ],
   "source": [
    "import os\n",
    "\n",
    "os.system(\n",
    "    '''cd /superbugai-data/yash/chapter_1/workspace/EHRQC;'''\n",
    "    +\n",
    "    '''.venv/bin/python -m ehrqc.qc.Impute \"impute\" \"data/icd_cohort_test/vitals_last_icd.csv\"  -sp=\"data/icd_cohort_test/vitals_last_icd_imputed.csv\" -a=\"miss_forest\"'''\n",
    "    )"
   ]
  },
  {
   "cell_type": "markdown",
   "metadata": {},
   "source": [
    "## Lab measurements missing data"
   ]
  },
  {
   "cell_type": "markdown",
   "metadata": {},
   "source": [
    "### Lab measurements missing data removal for minimum values"
   ]
  },
  {
   "cell_type": "code",
   "execution_count": 1,
   "metadata": {},
   "outputs": [
    {
     "name": "stdout",
     "output_type": "stream",
     "text": [
      "2023-09-14 08:16:39,815 - EHRQC - INFO - Parsing command line arguments\n",
      "2023-09-14 08:16:39,816 - EHRQC - INFO - args.action: impute\n",
      "2023-09-14 08:16:39,816 - EHRQC - INFO - args.source_path: data/icd_cohort_test/lab_measurements_min_icd_dropped.csv\n",
      "2023-09-14 08:16:39,816 - EHRQC - INFO - args.percentage: None\n",
      "2023-09-14 08:16:39,816 - EHRQC - INFO - args.save_path: data/icd_cohort_test/lab_measurements_min_icd_imputed.csv\n",
      "2023-09-14 08:16:39,816 - EHRQC - INFO - args.algorithm: miss_forest\n",
      "Iteration: 0\n",
      "Iteration: 1\n",
      "2023-09-14 08:16:56,200 - EHRQC - INFO - Done!!\n"
     ]
    },
    {
     "data": {
      "text/plain": [
       "0"
      ]
     },
     "execution_count": 1,
     "metadata": {},
     "output_type": "execute_result"
    }
   ],
   "source": [
    "import os\n",
    "\n",
    "os.system(\n",
    "    '''cd /superbugai-data/yash/chapter_1/workspace/EHRQC;'''\n",
    "    +\n",
    "    '''.venv/bin/python -m ehrqc.qc.Impute \"impute\" \"data/icd_cohort_test/lab_measurements_min_icd_dropped.csv\"  -sp=\"data/icd_cohort_test/lab_measurements_min_icd_imputed.csv\" -a=\"miss_forest\"'''\n",
    "    )"
   ]
  },
  {
   "cell_type": "markdown",
   "metadata": {},
   "source": [
    "### Lab measurements missing data removal for maximum values"
   ]
  },
  {
   "cell_type": "code",
   "execution_count": 2,
   "metadata": {},
   "outputs": [
    {
     "name": "stdout",
     "output_type": "stream",
     "text": [
      "2023-09-14 08:18:17,166 - EHRQC - INFO - Parsing command line arguments\n",
      "2023-09-14 08:18:17,167 - EHRQC - INFO - args.action: impute\n",
      "2023-09-14 08:18:17,167 - EHRQC - INFO - args.source_path: data/icd_cohort_test/lab_measurements_max_icd_dropped.csv\n",
      "2023-09-14 08:18:17,167 - EHRQC - INFO - args.percentage: None\n",
      "2023-09-14 08:18:17,167 - EHRQC - INFO - args.save_path: data/icd_cohort_test/lab_measurements_max_icd_imputed.csv\n",
      "2023-09-14 08:18:17,167 - EHRQC - INFO - args.algorithm: miss_forest\n",
      "Iteration: 0\n",
      "Iteration: 1\n",
      "2023-09-14 08:18:33,647 - EHRQC - INFO - Done!!\n"
     ]
    },
    {
     "data": {
      "text/plain": [
       "0"
      ]
     },
     "execution_count": 2,
     "metadata": {},
     "output_type": "execute_result"
    }
   ],
   "source": [
    "import os\n",
    "\n",
    "os.system(\n",
    "    '''cd /superbugai-data/yash/chapter_1/workspace/EHRQC;'''\n",
    "    +\n",
    "    '''.venv/bin/python -m ehrqc.qc.Impute \"impute\" \"data/icd_cohort_test/lab_measurements_max_icd_dropped.csv\"  -sp=\"data/icd_cohort_test/lab_measurements_max_icd_imputed.csv\" -a=\"miss_forest\"'''\n",
    "    )"
   ]
  },
  {
   "cell_type": "markdown",
   "metadata": {},
   "source": [
    "### Lab measurements missing data removal for average values"
   ]
  },
  {
   "cell_type": "code",
   "execution_count": 3,
   "metadata": {},
   "outputs": [
    {
     "name": "stdout",
     "output_type": "stream",
     "text": [
      "2023-09-14 08:18:38,803 - EHRQC - INFO - Parsing command line arguments\n",
      "2023-09-14 08:18:38,804 - EHRQC - INFO - args.action: impute\n",
      "2023-09-14 08:18:38,804 - EHRQC - INFO - args.source_path: data/icd_cohort_test/lab_measurements_avg_icd_dropped.csv\n",
      "2023-09-14 08:18:38,804 - EHRQC - INFO - args.percentage: None\n",
      "2023-09-14 08:18:38,804 - EHRQC - INFO - args.save_path: data/icd_cohort_test/lab_measurements_avg_icd_imputed.csv\n",
      "2023-09-14 08:18:38,804 - EHRQC - INFO - args.algorithm: miss_forest\n",
      "Iteration: 0\n",
      "Iteration: 1\n",
      "Iteration: 2\n",
      "Iteration: 3\n",
      "Iteration: 4\n",
      "Iteration: 5\n",
      "Iteration: 6\n",
      "Iteration: 7\n",
      "2023-09-14 08:19:56,803 - EHRQC - INFO - Done!!\n"
     ]
    },
    {
     "data": {
      "text/plain": [
       "0"
      ]
     },
     "execution_count": 3,
     "metadata": {},
     "output_type": "execute_result"
    }
   ],
   "source": [
    "import os\n",
    "\n",
    "os.system(\n",
    "    '''cd /superbugai-data/yash/chapter_1/workspace/EHRQC;'''\n",
    "    +\n",
    "    '''.venv/bin/python -m ehrqc.qc.Impute \"impute\" \"data/icd_cohort_test/lab_measurements_avg_icd_dropped.csv\"  -sp=\"data/icd_cohort_test/lab_measurements_avg_icd_imputed.csv\" -a=\"miss_forest\"'''\n",
    "    )"
   ]
  },
  {
   "cell_type": "markdown",
   "metadata": {},
   "source": [
    "### Lab measurements missing data removal for standard deviation values"
   ]
  },
  {
   "cell_type": "code",
   "execution_count": 4,
   "metadata": {},
   "outputs": [
    {
     "name": "stdout",
     "output_type": "stream",
     "text": [
      "2023-09-14 08:19:58,777 - EHRQC - INFO - Parsing command line arguments\n",
      "2023-09-14 08:19:58,778 - EHRQC - INFO - args.action: impute\n",
      "2023-09-14 08:19:58,778 - EHRQC - INFO - args.source_path: data/icd_cohort_test/lab_measurements_stddev_icd_dropped.csv\n",
      "2023-09-14 08:19:58,778 - EHRQC - INFO - args.percentage: None\n",
      "2023-09-14 08:19:58,778 - EHRQC - INFO - args.save_path: data/icd_cohort_test/lab_measurements_stddev_icd_imputed.csv\n",
      "2023-09-14 08:19:58,778 - EHRQC - INFO - args.algorithm: miss_forest\n",
      "Iteration: 0\n",
      "Iteration: 1\n",
      "Iteration: 2\n",
      "2023-09-14 08:20:13,224 - EHRQC - INFO - Done!!\n"
     ]
    },
    {
     "data": {
      "text/plain": [
       "0"
      ]
     },
     "execution_count": 4,
     "metadata": {},
     "output_type": "execute_result"
    }
   ],
   "source": [
    "import os\n",
    "\n",
    "os.system(\n",
    "    '''cd /superbugai-data/yash/chapter_1/workspace/EHRQC;'''\n",
    "    +\n",
    "    '''.venv/bin/python -m ehrqc.qc.Impute \"impute\" \"data/icd_cohort_test/lab_measurements_stddev_icd_dropped.csv\"  -sp=\"data/icd_cohort_test/lab_measurements_stddev_icd_imputed.csv\" -a=\"miss_forest\"'''\n",
    "    )"
   ]
  },
  {
   "cell_type": "markdown",
   "metadata": {},
   "source": [
    "### Lab measurements missing data removal for first values"
   ]
  },
  {
   "cell_type": "code",
   "execution_count": 5,
   "metadata": {},
   "outputs": [
    {
     "name": "stdout",
     "output_type": "stream",
     "text": [
      "2023-09-14 08:20:15,258 - EHRQC - INFO - Parsing command line arguments\n",
      "2023-09-14 08:20:15,259 - EHRQC - INFO - args.action: impute\n",
      "2023-09-14 08:20:15,259 - EHRQC - INFO - args.source_path: data/icd_cohort_test/lab_measurements_first_icd_dropped.csv\n",
      "2023-09-14 08:20:15,259 - EHRQC - INFO - args.percentage: None\n",
      "2023-09-14 08:20:15,259 - EHRQC - INFO - args.save_path: data/icd_cohort_test/lab_measurements_first_icd_imputed.csv\n",
      "2023-09-14 08:20:15,259 - EHRQC - INFO - args.algorithm: miss_forest\n",
      "Iteration: 0\n",
      "Iteration: 1\n",
      "Iteration: 2\n",
      "Iteration: 3\n",
      "2023-09-14 08:20:49,151 - EHRQC - INFO - Done!!\n"
     ]
    },
    {
     "data": {
      "text/plain": [
       "0"
      ]
     },
     "execution_count": 5,
     "metadata": {},
     "output_type": "execute_result"
    }
   ],
   "source": [
    "import os\n",
    "\n",
    "os.system(\n",
    "    '''cd /superbugai-data/yash/chapter_1/workspace/EHRQC;'''\n",
    "    +\n",
    "    '''.venv/bin/python -m ehrqc.qc.Impute \"impute\" \"data/icd_cohort_test/lab_measurements_first_icd_dropped.csv\"  -sp=\"data/icd_cohort_test/lab_measurements_first_icd_imputed.csv\" -a=\"miss_forest\"'''\n",
    "    )"
   ]
  },
  {
   "cell_type": "markdown",
   "metadata": {},
   "source": [
    "### Lab measurements missing data removal for last values"
   ]
  },
  {
   "cell_type": "code",
   "execution_count": 6,
   "metadata": {},
   "outputs": [
    {
     "name": "stdout",
     "output_type": "stream",
     "text": [
      "2023-09-14 08:20:51,039 - EHRQC - INFO - Parsing command line arguments\n",
      "2023-09-14 08:20:51,040 - EHRQC - INFO - args.action: impute\n",
      "2023-09-14 08:20:51,040 - EHRQC - INFO - args.source_path: data/icd_cohort_test/lab_measurements_last_icd_dropped.csv\n",
      "2023-09-14 08:20:51,040 - EHRQC - INFO - args.percentage: None\n",
      "2023-09-14 08:20:51,040 - EHRQC - INFO - args.save_path: data/icd_cohort_test/lab_measurements_last_icd_imputed.csv\n",
      "2023-09-14 08:20:51,040 - EHRQC - INFO - args.algorithm: miss_forest\n",
      "Iteration: 0\n",
      "Iteration: 1\n",
      "Iteration: 2\n",
      "Iteration: 3\n",
      "Iteration: 4\n",
      "2023-09-14 08:21:31,136 - EHRQC - INFO - Done!!\n"
     ]
    },
    {
     "data": {
      "text/plain": [
       "0"
      ]
     },
     "execution_count": 6,
     "metadata": {},
     "output_type": "execute_result"
    }
   ],
   "source": [
    "import os\n",
    "\n",
    "os.system(\n",
    "    '''cd /superbugai-data/yash/chapter_1/workspace/EHRQC;'''\n",
    "    +\n",
    "    '''.venv/bin/python -m ehrqc.qc.Impute \"impute\" \"data/icd_cohort_test/lab_measurements_last_icd_dropped.csv\"  -sp=\"data/icd_cohort_test/lab_measurements_last_icd_imputed.csv\" -a=\"miss_forest\"'''\n",
    "    )"
   ]
  }
 ],
 "metadata": {
  "kernelspec": {
   "display_name": ".venv",
   "language": "python",
   "name": "python3"
  },
  "language_info": {
   "codemirror_mode": {
    "name": "ipython",
    "version": 3
   },
   "file_extension": ".py",
   "mimetype": "text/x-python",
   "name": "python",
   "nbconvert_exporter": "python",
   "pygments_lexer": "ipython3",
   "version": "3.9.5"
  },
  "orig_nbformat": 4
 },
 "nbformat": 4,
 "nbformat_minor": 2
}
