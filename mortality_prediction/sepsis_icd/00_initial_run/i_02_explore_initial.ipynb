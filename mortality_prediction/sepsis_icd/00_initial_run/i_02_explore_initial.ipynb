{
 "cells": [
  {
   "cell_type": "markdown",
   "metadata": {},
   "source": [
    "# Exploring the raw data files extracted using EHR-QC"
   ]
  },
  {
   "cell_type": "markdown",
   "metadata": {},
   "source": [
    "## Read individual files"
   ]
  },
  {
   "cell_type": "code",
   "execution_count": 1,
   "metadata": {},
   "outputs": [],
   "source": [
    "import pandas as pd\n",
    "\n",
    "demographics =  pd.read_csv('/superbugai-data/yash/chapter_1/workspace/EHRQC/data/icd_cohort_test/demographics_icd.csv')\n",
    "vitals_min =  pd.read_csv('/superbugai-data/yash/chapter_1/workspace/EHRQC/data/icd_cohort_test/vitals_min_icd.csv')\n",
    "vitals_max =  pd.read_csv('/superbugai-data/yash/chapter_1/workspace/EHRQC/data/icd_cohort_test/vitals_max_icd.csv')\n",
    "vitals_avg =  pd.read_csv('/superbugai-data/yash/chapter_1/workspace/EHRQC/data/icd_cohort_test/vitals_avg_icd.csv')\n",
    "vitals_stddev =  pd.read_csv('/superbugai-data/yash/chapter_1/workspace/EHRQC/data/icd_cohort_test/vitals_stddev_icd.csv')\n",
    "vitals_first =  pd.read_csv('/superbugai-data/yash/chapter_1/workspace/EHRQC/data/icd_cohort_test/vitals_first_icd.csv')\n",
    "vitals_last =  pd.read_csv('/superbugai-data/yash/chapter_1/workspace/EHRQC/data/icd_cohort_test/vitals_last_icd.csv')\n",
    "lab_measurements_min =  pd.read_csv('/superbugai-data/yash/chapter_1/workspace/EHRQC/data/icd_cohort_test/lab_measurements_min_icd.csv')\n",
    "lab_measurements_max =  pd.read_csv('/superbugai-data/yash/chapter_1/workspace/EHRQC/data/icd_cohort_test/lab_measurements_max_icd.csv')\n",
    "lab_measurements_avg =  pd.read_csv('/superbugai-data/yash/chapter_1/workspace/EHRQC/data/icd_cohort_test/lab_measurements_avg_icd.csv')\n",
    "lab_measurements_stddev =  pd.read_csv('/superbugai-data/yash/chapter_1/workspace/EHRQC/data/icd_cohort_test/lab_measurements_stddev_icd.csv')\n",
    "lab_measurements_first =  pd.read_csv('/superbugai-data/yash/chapter_1/workspace/EHRQC/data/icd_cohort_test/lab_measurements_first_icd.csv')\n",
    "lab_measurements_last =  pd.read_csv('/superbugai-data/yash/chapter_1/workspace/EHRQC/data/icd_cohort_test/lab_measurements_last_icd.csv')"
   ]
  },
  {
   "cell_type": "code",
   "execution_count": 2,
   "metadata": {},
   "outputs": [
    {
     "data": {
      "text/plain": [
       "(12241, 4)"
      ]
     },
     "execution_count": 2,
     "metadata": {},
     "output_type": "execute_result"
    }
   ],
   "source": [
    "demographics.shape"
   ]
  },
  {
   "cell_type": "code",
   "execution_count": 3,
   "metadata": {},
   "outputs": [
    {
     "data": {
      "text/plain": [
       "((5185, 11), (5185, 11), (5185, 11), (5185, 11), (5185, 11), (5185, 11))"
      ]
     },
     "execution_count": 3,
     "metadata": {},
     "output_type": "execute_result"
    }
   ],
   "source": [
    "vitals_min.shape, vitals_max.shape, vitals_avg.shape, vitals_stddev.shape, vitals_first.shape, vitals_last.shape"
   ]
  },
  {
   "cell_type": "code",
   "execution_count": 4,
   "metadata": {},
   "outputs": [
    {
     "data": {
      "text/plain": [
       "((9923, 30), (9923, 30), (9923, 30), (9923, 30), (9923, 30), (9923, 30))"
      ]
     },
     "execution_count": 4,
     "metadata": {},
     "output_type": "execute_result"
    }
   ],
   "source": [
    "lab_measurements_min.shape, lab_measurements_max.shape, lab_measurements_avg.shape, lab_measurements_stddev.shape, lab_measurements_first.shape, lab_measurements_last.shape"
   ]
  },
  {
   "cell_type": "markdown",
   "metadata": {},
   "source": [
    "## Generate graphs"
   ]
  },
  {
   "cell_type": "markdown",
   "metadata": {},
   "source": [
    "### Generate exploration graphs for demographics"
   ]
  },
  {
   "cell_type": "code",
   "execution_count": 5,
   "metadata": {},
   "outputs": [
    {
     "name": "stdout",
     "output_type": "stream",
     "text": [
      "2023-09-13 15:03:25,007 - EHRQC - INFO - Parsing command line arguments\n",
      "2023-09-13 15:03:25,008 - EHRQC - INFO - args.plot_type: demographics_explore\n",
      "2023-09-13 15:03:25,009 - EHRQC - INFO - args.source_path: data/icd_cohort_test/demographics_icd.csv\n",
      "2023-09-13 15:03:25,009 - EHRQC - INFO - args.save_path: data/icd_cohort_test/initial/demographics_icd_explore.html\n",
      "2023-09-13 15:03:25,009 - EHRQC - INFO - args.column_mapping: None\n",
      "2023-09-13 15:03:25,009 - EHRQC - INFO - args.column_mapping: {}\n",
      "2023-09-13 15:03:25,019 - EHRQC - INFO - generating graphs\n"
     ]
    },
    {
     "name": "stderr",
     "output_type": "stream",
     "text": [
      "/superbugai-data/yash/chapter_1/workspace/EHRQC/.venv/lib/python3.9/site-packages/missingno/missingno.py:61: UserWarning: Plotting a sparkline on an existing axis is not currently supported. To remove this warning, set sparkline=False.\n",
      "  warnings.warn(\n"
     ]
    },
    {
     "name": "stdout",
     "output_type": "stream",
     "text": [
      "2023-09-13 15:03:25,556 - EHRQC - INFO - Done!!\n"
     ]
    },
    {
     "data": {
      "text/plain": [
       "0"
      ]
     },
     "execution_count": 5,
     "metadata": {},
     "output_type": "execute_result"
    }
   ],
   "source": [
    "import os\n",
    "\n",
    "os.system(\n",
    "    '''cd /superbugai-data/yash/chapter_1/workspace/EHRQC;'''\n",
    "    +\n",
    "    '''.venv/bin/python -m ehrqc.qc.Plot \"demographics_explore\" \"data/icd_cohort_test/demographics_icd.csv\" \"data/icd_cohort_test/initial/demographics_icd_explore.html\"'''\n",
    "    )"
   ]
  },
  {
   "cell_type": "markdown",
   "metadata": {},
   "source": [
    "### Generate exploration graphs for vitals"
   ]
  },
  {
   "cell_type": "markdown",
   "metadata": {},
   "source": [
    "#### Vitals exploration graphs for minimum values"
   ]
  },
  {
   "cell_type": "code",
   "execution_count": 6,
   "metadata": {},
   "outputs": [
    {
     "name": "stdout",
     "output_type": "stream",
     "text": [
      "2023-09-13 15:03:27,391 - EHRQC - INFO - Parsing command line arguments\n",
      "2023-09-13 15:03:27,393 - EHRQC - INFO - args.plot_type: vitals_explore\n",
      "2023-09-13 15:03:27,393 - EHRQC - INFO - args.source_path: data/icd_cohort_test/vitals_min_icd.csv\n",
      "2023-09-13 15:03:27,393 - EHRQC - INFO - args.save_path: data/icd_cohort_test/initial/vitals_min_icd_explore.html\n",
      "2023-09-13 15:03:27,393 - EHRQC - INFO - args.column_mapping: None\n",
      "2023-09-13 15:03:27,393 - EHRQC - INFO - args.column_mapping: {}\n",
      "2023-09-13 15:03:27,400 - EHRQC - INFO - generating graphs\n"
     ]
    },
    {
     "name": "stderr",
     "output_type": "stream",
     "text": [
      "/superbugai-data/yash/chapter_1/workspace/EHRQC/.venv/lib/python3.9/site-packages/missingno/missingno.py:61: UserWarning: Plotting a sparkline on an existing axis is not currently supported. To remove this warning, set sparkline=False.\n",
      "  warnings.warn(\n"
     ]
    },
    {
     "name": "stdout",
     "output_type": "stream",
     "text": [
      "2023-09-13 15:03:28,926 - EHRQC - INFO - Done!!\n"
     ]
    },
    {
     "data": {
      "text/plain": [
       "0"
      ]
     },
     "execution_count": 6,
     "metadata": {},
     "output_type": "execute_result"
    }
   ],
   "source": [
    "import os\n",
    "\n",
    "os.system(\n",
    "    '''cd /superbugai-data/yash/chapter_1/workspace/EHRQC;'''\n",
    "    +\n",
    "    '''.venv/bin/python -m ehrqc.qc.Plot \"vitals_explore\" \"data/icd_cohort_test/vitals_min_icd.csv\" \"data/icd_cohort_test/initial/vitals_min_icd_explore.html\"'''\n",
    "    )"
   ]
  },
  {
   "cell_type": "markdown",
   "metadata": {},
   "source": [
    "#### Vitals exploration graphs for maximum values"
   ]
  },
  {
   "cell_type": "code",
   "execution_count": 7,
   "metadata": {},
   "outputs": [
    {
     "name": "stdout",
     "output_type": "stream",
     "text": [
      "2023-09-13 15:03:30,685 - EHRQC - INFO - Parsing command line arguments\n",
      "2023-09-13 15:03:30,686 - EHRQC - INFO - args.plot_type: vitals_explore\n",
      "2023-09-13 15:03:30,686 - EHRQC - INFO - args.source_path: data/icd_cohort_test/vitals_max_icd.csv\n",
      "2023-09-13 15:03:30,687 - EHRQC - INFO - args.save_path: data/icd_cohort_test/initial/vitals_max_icd_explore.html\n",
      "2023-09-13 15:03:30,687 - EHRQC - INFO - args.column_mapping: None\n",
      "2023-09-13 15:03:30,687 - EHRQC - INFO - args.column_mapping: {}\n",
      "2023-09-13 15:03:30,694 - EHRQC - INFO - generating graphs\n"
     ]
    },
    {
     "name": "stderr",
     "output_type": "stream",
     "text": [
      "/superbugai-data/yash/chapter_1/workspace/EHRQC/.venv/lib/python3.9/site-packages/missingno/missingno.py:61: UserWarning: Plotting a sparkline on an existing axis is not currently supported. To remove this warning, set sparkline=False.\n",
      "  warnings.warn(\n"
     ]
    },
    {
     "name": "stdout",
     "output_type": "stream",
     "text": [
      "2023-09-13 15:03:32,173 - EHRQC - INFO - Done!!\n"
     ]
    },
    {
     "data": {
      "text/plain": [
       "0"
      ]
     },
     "execution_count": 7,
     "metadata": {},
     "output_type": "execute_result"
    }
   ],
   "source": [
    "import os\n",
    "\n",
    "os.system(\n",
    "    '''cd /superbugai-data/yash/chapter_1/workspace/EHRQC;'''\n",
    "    +\n",
    "    '''.venv/bin/python -m ehrqc.qc.Plot \"vitals_explore\" \"data/icd_cohort_test/vitals_max_icd.csv\" \"data/icd_cohort_test/initial/vitals_max_icd_explore.html\"'''\n",
    "    )"
   ]
  },
  {
   "cell_type": "markdown",
   "metadata": {},
   "source": [
    "#### Vitals exploration graphs for average values"
   ]
  },
  {
   "cell_type": "code",
   "execution_count": 8,
   "metadata": {},
   "outputs": [
    {
     "name": "stdout",
     "output_type": "stream",
     "text": [
      "2023-09-13 15:03:34,015 - EHRQC - INFO - Parsing command line arguments\n",
      "2023-09-13 15:03:34,016 - EHRQC - INFO - args.plot_type: vitals_explore\n",
      "2023-09-13 15:03:34,016 - EHRQC - INFO - args.source_path: data/icd_cohort_test/vitals_avg_icd.csv\n",
      "2023-09-13 15:03:34,016 - EHRQC - INFO - args.save_path: data/icd_cohort_test/initial/vitals_avg_icd_explore.html\n",
      "2023-09-13 15:03:34,016 - EHRQC - INFO - args.column_mapping: None\n",
      "2023-09-13 15:03:34,017 - EHRQC - INFO - args.column_mapping: {}\n",
      "2023-09-13 15:03:34,027 - EHRQC - INFO - generating graphs\n"
     ]
    },
    {
     "name": "stderr",
     "output_type": "stream",
     "text": [
      "/superbugai-data/yash/chapter_1/workspace/EHRQC/.venv/lib/python3.9/site-packages/missingno/missingno.py:61: UserWarning: Plotting a sparkline on an existing axis is not currently supported. To remove this warning, set sparkline=False.\n",
      "  warnings.warn(\n"
     ]
    },
    {
     "name": "stdout",
     "output_type": "stream",
     "text": [
      "2023-09-13 15:03:35,609 - EHRQC - INFO - Done!!\n"
     ]
    },
    {
     "data": {
      "text/plain": [
       "0"
      ]
     },
     "execution_count": 8,
     "metadata": {},
     "output_type": "execute_result"
    }
   ],
   "source": [
    "import os\n",
    "\n",
    "os.system(\n",
    "    '''cd /superbugai-data/yash/chapter_1/workspace/EHRQC;'''\n",
    "    +\n",
    "    '''.venv/bin/python -m ehrqc.qc.Plot \"vitals_explore\" \"data/icd_cohort_test/vitals_avg_icd.csv\" \"data/icd_cohort_test/initial/vitals_avg_icd_explore.html\"'''\n",
    "    )"
   ]
  },
  {
   "cell_type": "markdown",
   "metadata": {},
   "source": [
    "#### Vitals exploration graphs for standard deviation values"
   ]
  },
  {
   "cell_type": "code",
   "execution_count": 9,
   "metadata": {},
   "outputs": [
    {
     "name": "stdout",
     "output_type": "stream",
     "text": [
      "2023-09-13 15:03:37,750 - EHRQC - INFO - Parsing command line arguments\n",
      "2023-09-13 15:03:37,751 - EHRQC - INFO - args.plot_type: vitals_explore\n",
      "2023-09-13 15:03:37,751 - EHRQC - INFO - args.source_path: data/icd_cohort_test/vitals_stddev_icd.csv\n",
      "2023-09-13 15:03:37,751 - EHRQC - INFO - args.save_path: data/icd_cohort_test/initial/vitals_stddev_icd_explore.html\n",
      "2023-09-13 15:03:37,751 - EHRQC - INFO - args.column_mapping: None\n",
      "2023-09-13 15:03:37,751 - EHRQC - INFO - args.column_mapping: {}\n",
      "2023-09-13 15:03:37,764 - EHRQC - INFO - generating graphs\n"
     ]
    },
    {
     "name": "stderr",
     "output_type": "stream",
     "text": [
      "/superbugai-data/yash/chapter_1/workspace/EHRQC/.venv/lib/python3.9/site-packages/missingno/missingno.py:61: UserWarning: Plotting a sparkline on an existing axis is not currently supported. To remove this warning, set sparkline=False.\n",
      "  warnings.warn(\n"
     ]
    },
    {
     "name": "stdout",
     "output_type": "stream",
     "text": [
      "2023-09-13 15:03:39,455 - EHRQC - INFO - Done!!\n"
     ]
    },
    {
     "data": {
      "text/plain": [
       "0"
      ]
     },
     "execution_count": 9,
     "metadata": {},
     "output_type": "execute_result"
    }
   ],
   "source": [
    "import os\n",
    "\n",
    "os.system(\n",
    "    '''cd /superbugai-data/yash/chapter_1/workspace/EHRQC;'''\n",
    "    +\n",
    "    '''.venv/bin/python -m ehrqc.qc.Plot \"vitals_explore\" \"data/icd_cohort_test/vitals_stddev_icd.csv\" \"data/icd_cohort_test/initial/vitals_stddev_icd_explore.html\"'''\n",
    "    )"
   ]
  },
  {
   "cell_type": "markdown",
   "metadata": {},
   "source": [
    "#### Vitals exploration graphs for first values"
   ]
  },
  {
   "cell_type": "code",
   "execution_count": 10,
   "metadata": {},
   "outputs": [
    {
     "name": "stdout",
     "output_type": "stream",
     "text": [
      "2023-09-13 15:03:41,553 - EHRQC - INFO - Parsing command line arguments\n",
      "2023-09-13 15:03:41,554 - EHRQC - INFO - args.plot_type: vitals_explore\n",
      "2023-09-13 15:03:41,554 - EHRQC - INFO - args.source_path: data/icd_cohort_test/vitals_first_icd.csv\n",
      "2023-09-13 15:03:41,554 - EHRQC - INFO - args.save_path: data/icd_cohort_test/initial/vitals_first_icd_explore.html\n",
      "2023-09-13 15:03:41,554 - EHRQC - INFO - args.column_mapping: None\n",
      "2023-09-13 15:03:41,554 - EHRQC - INFO - args.column_mapping: {}\n",
      "2023-09-13 15:03:41,562 - EHRQC - INFO - generating graphs\n"
     ]
    },
    {
     "name": "stderr",
     "output_type": "stream",
     "text": [
      "/superbugai-data/yash/chapter_1/workspace/EHRQC/.venv/lib/python3.9/site-packages/missingno/missingno.py:61: UserWarning: Plotting a sparkline on an existing axis is not currently supported. To remove this warning, set sparkline=False.\n",
      "  warnings.warn(\n"
     ]
    },
    {
     "name": "stdout",
     "output_type": "stream",
     "text": [
      "2023-09-13 15:03:43,105 - EHRQC - INFO - Done!!\n"
     ]
    },
    {
     "data": {
      "text/plain": [
       "0"
      ]
     },
     "execution_count": 10,
     "metadata": {},
     "output_type": "execute_result"
    }
   ],
   "source": [
    "import os\n",
    "\n",
    "os.system(\n",
    "    '''cd /superbugai-data/yash/chapter_1/workspace/EHRQC;'''\n",
    "    +\n",
    "    '''.venv/bin/python -m ehrqc.qc.Plot \"vitals_explore\" \"data/icd_cohort_test/vitals_first_icd.csv\" \"data/icd_cohort_test/initial/vitals_first_icd_explore.html\"'''\n",
    "    )"
   ]
  },
  {
   "cell_type": "markdown",
   "metadata": {},
   "source": [
    "#### Vitals exploration graphs for last values"
   ]
  },
  {
   "cell_type": "code",
   "execution_count": 11,
   "metadata": {},
   "outputs": [
    {
     "name": "stdout",
     "output_type": "stream",
     "text": [
      "2023-09-13 15:03:45,174 - EHRQC - INFO - Parsing command line arguments\n",
      "2023-09-13 15:03:45,175 - EHRQC - INFO - args.plot_type: vitals_explore\n",
      "2023-09-13 15:03:45,175 - EHRQC - INFO - args.source_path: data/icd_cohort_test/vitals_last_icd.csv\n",
      "2023-09-13 15:03:45,175 - EHRQC - INFO - args.save_path: data/icd_cohort_test/initial/vitals_last_icd_explore.html\n",
      "2023-09-13 15:03:45,175 - EHRQC - INFO - args.column_mapping: None\n",
      "2023-09-13 15:03:45,175 - EHRQC - INFO - args.column_mapping: {}\n",
      "2023-09-13 15:03:45,183 - EHRQC - INFO - generating graphs\n"
     ]
    },
    {
     "name": "stderr",
     "output_type": "stream",
     "text": [
      "/superbugai-data/yash/chapter_1/workspace/EHRQC/.venv/lib/python3.9/site-packages/missingno/missingno.py:61: UserWarning: Plotting a sparkline on an existing axis is not currently supported. To remove this warning, set sparkline=False.\n",
      "  warnings.warn(\n"
     ]
    },
    {
     "name": "stdout",
     "output_type": "stream",
     "text": [
      "2023-09-13 15:03:46,746 - EHRQC - INFO - Done!!\n"
     ]
    },
    {
     "data": {
      "text/plain": [
       "0"
      ]
     },
     "execution_count": 11,
     "metadata": {},
     "output_type": "execute_result"
    }
   ],
   "source": [
    "import os\n",
    "\n",
    "os.system(\n",
    "    '''cd /superbugai-data/yash/chapter_1/workspace/EHRQC;'''\n",
    "    +\n",
    "    '''.venv/bin/python -m ehrqc.qc.Plot \"vitals_explore\" \"data/icd_cohort_test/vitals_last_icd.csv\" \"data/icd_cohort_test/initial/vitals_last_icd_explore.html\"'''\n",
    "    )"
   ]
  },
  {
   "cell_type": "markdown",
   "metadata": {},
   "source": [
    "### Generate anomaly graphs for vitals"
   ]
  },
  {
   "cell_type": "markdown",
   "metadata": {},
   "source": [
    "#### Vitals anomaly graphs for minimum values"
   ]
  },
  {
   "cell_type": "code",
   "execution_count": 12,
   "metadata": {},
   "outputs": [
    {
     "name": "stdout",
     "output_type": "stream",
     "text": [
      "2023-09-13 15:03:48,886 - Anomalies - INFO - Parsing command line arguments\n",
      "2023-09-13 15:03:48,887 - Anomalies - INFO - Start!!\n",
      "2023-09-13 15:03:48,887 - Anomalies - INFO - args.source_path: data/icd_cohort_test/vitals_min_icd.csv\n",
      "2023-09-13 15:03:48,887 - Anomalies - INFO - args.save_path: data/icd_cohort_test/initial/\n",
      "2023-09-13 15:03:48,887 - Anomalies - INFO - args.save_prefix: vitals_min_icd\n",
      "2023-09-13 15:03:48,888 - Anomalies - INFO - args.detect_missing: True\n",
      "2023-09-13 15:03:48,888 - Anomalies - INFO - args.detect_outliers: True\n",
      "2023-09-13 15:03:48,888 - Anomalies - INFO - args.detect_errors: True\n",
      "2023-09-13 15:03:48,888 - Anomalies - INFO - args.detect_inconsistencies: True\n",
      "2023-09-13 15:03:48,888 - Anomalies - INFO - args.correct_missing: False\n",
      "2023-09-13 15:03:48,888 - Anomalies - INFO - args.correct_outliers: False\n",
      "2023-09-13 15:03:51,402 - Anomalies - INFO - Done!!\n"
     ]
    },
    {
     "data": {
      "text/plain": [
       "0"
      ]
     },
     "execution_count": 12,
     "metadata": {},
     "output_type": "execute_result"
    }
   ],
   "source": [
    "import os\n",
    "\n",
    "os.system(\n",
    "    '''cd /superbugai-data/yash/chapter_1/workspace/EHRQC;'''\n",
    "    +\n",
    "    '''.venv/bin/python -m ehrqc.qc.Anomalies 'data/icd_cohort_test/vitals_min_icd.csv' 'data/icd_cohort_test/initial/' 'vitals_min_icd' -dm -do -de -di'''\n",
    "    )"
   ]
  },
  {
   "cell_type": "markdown",
   "metadata": {},
   "source": [
    "#### Vitals anomaly graphs for maximum values"
   ]
  },
  {
   "cell_type": "code",
   "execution_count": 13,
   "metadata": {},
   "outputs": [
    {
     "name": "stdout",
     "output_type": "stream",
     "text": [
      "2023-09-13 15:03:53,696 - Anomalies - INFO - Parsing command line arguments\n",
      "2023-09-13 15:03:53,697 - Anomalies - INFO - Start!!\n",
      "2023-09-13 15:03:53,697 - Anomalies - INFO - args.source_path: data/icd_cohort_test/vitals_max_icd.csv\n",
      "2023-09-13 15:03:53,697 - Anomalies - INFO - args.save_path: data/icd_cohort_test/initial/\n",
      "2023-09-13 15:03:53,697 - Anomalies - INFO - args.save_prefix: vitals_max_icd\n",
      "2023-09-13 15:03:53,697 - Anomalies - INFO - args.detect_missing: True\n",
      "2023-09-13 15:03:53,697 - Anomalies - INFO - args.detect_outliers: True\n",
      "2023-09-13 15:03:53,697 - Anomalies - INFO - args.detect_errors: True\n",
      "2023-09-13 15:03:53,697 - Anomalies - INFO - args.detect_inconsistencies: True\n",
      "2023-09-13 15:03:53,697 - Anomalies - INFO - args.correct_missing: False\n",
      "2023-09-13 15:03:53,697 - Anomalies - INFO - args.correct_outliers: False\n",
      "2023-09-13 15:03:56,325 - Anomalies - INFO - Done!!\n"
     ]
    },
    {
     "data": {
      "text/plain": [
       "0"
      ]
     },
     "execution_count": 13,
     "metadata": {},
     "output_type": "execute_result"
    }
   ],
   "source": [
    "import os\n",
    "\n",
    "os.system(\n",
    "    '''cd /superbugai-data/yash/chapter_1/workspace/EHRQC;'''\n",
    "    +\n",
    "    '''.venv/bin/python -m ehrqc.qc.Anomalies 'data/icd_cohort_test/vitals_max_icd.csv' 'data/icd_cohort_test/initial/' 'vitals_max_icd' -dm -do -de -di'''\n",
    "    )"
   ]
  },
  {
   "cell_type": "markdown",
   "metadata": {},
   "source": [
    "#### Vitals anomaly graphs for average values"
   ]
  },
  {
   "cell_type": "code",
   "execution_count": 14,
   "metadata": {},
   "outputs": [
    {
     "name": "stdout",
     "output_type": "stream",
     "text": [
      "2023-09-13 15:03:58,286 - Anomalies - INFO - Parsing command line arguments\n",
      "2023-09-13 15:03:58,288 - Anomalies - INFO - Start!!\n",
      "2023-09-13 15:03:58,288 - Anomalies - INFO - args.source_path: data/icd_cohort_test/vitals_avg_icd.csv\n",
      "2023-09-13 15:03:58,288 - Anomalies - INFO - args.save_path: data/icd_cohort_test/initial/\n",
      "2023-09-13 15:03:58,288 - Anomalies - INFO - args.save_prefix: vitals_avg_icd\n",
      "2023-09-13 15:03:58,288 - Anomalies - INFO - args.detect_missing: True\n",
      "2023-09-13 15:03:58,288 - Anomalies - INFO - args.detect_outliers: True\n",
      "2023-09-13 15:03:58,288 - Anomalies - INFO - args.detect_errors: True\n",
      "2023-09-13 15:03:58,288 - Anomalies - INFO - args.detect_inconsistencies: True\n",
      "2023-09-13 15:03:58,288 - Anomalies - INFO - args.correct_missing: False\n",
      "2023-09-13 15:03:58,288 - Anomalies - INFO - args.correct_outliers: False\n",
      "2023-09-13 15:04:00,854 - Anomalies - INFO - Done!!\n"
     ]
    },
    {
     "data": {
      "text/plain": [
       "0"
      ]
     },
     "execution_count": 14,
     "metadata": {},
     "output_type": "execute_result"
    }
   ],
   "source": [
    "import os\n",
    "\n",
    "os.system(\n",
    "    '''cd /superbugai-data/yash/chapter_1/workspace/EHRQC;'''\n",
    "    +\n",
    "    '''.venv/bin/python -m ehrqc.qc.Anomalies 'data/icd_cohort_test/vitals_avg_icd.csv' 'data/icd_cohort_test/initial/' 'vitals_avg_icd' -dm -do -de -di'''\n",
    "    )"
   ]
  },
  {
   "cell_type": "markdown",
   "metadata": {},
   "source": [
    "#### Vitals anomaly graphs for standard deviation values"
   ]
  },
  {
   "cell_type": "code",
   "execution_count": 15,
   "metadata": {},
   "outputs": [
    {
     "name": "stdout",
     "output_type": "stream",
     "text": [
      "2023-09-13 15:04:03,062 - Anomalies - INFO - Parsing command line arguments\n",
      "2023-09-13 15:04:03,063 - Anomalies - INFO - Start!!\n",
      "2023-09-13 15:04:03,064 - Anomalies - INFO - args.source_path: data/icd_cohort_test/vitals_stddev_icd.csv\n",
      "2023-09-13 15:04:03,064 - Anomalies - INFO - args.save_path: data/icd_cohort_test/initial/\n",
      "2023-09-13 15:04:03,064 - Anomalies - INFO - args.save_prefix: vitals_stddev_icd\n",
      "2023-09-13 15:04:03,064 - Anomalies - INFO - args.detect_missing: True\n",
      "2023-09-13 15:04:03,064 - Anomalies - INFO - args.detect_outliers: True\n",
      "2023-09-13 15:04:03,064 - Anomalies - INFO - args.detect_errors: True\n",
      "2023-09-13 15:04:03,064 - Anomalies - INFO - args.detect_inconsistencies: True\n",
      "2023-09-13 15:04:03,064 - Anomalies - INFO - args.correct_missing: False\n",
      "2023-09-13 15:04:03,064 - Anomalies - INFO - args.correct_outliers: False\n",
      "2023-09-13 15:04:05,667 - Anomalies - INFO - Done!!\n"
     ]
    },
    {
     "data": {
      "text/plain": [
       "0"
      ]
     },
     "execution_count": 15,
     "metadata": {},
     "output_type": "execute_result"
    }
   ],
   "source": [
    "import os\n",
    "\n",
    "os.system(\n",
    "    '''cd /superbugai-data/yash/chapter_1/workspace/EHRQC;'''\n",
    "    +\n",
    "    '''.venv/bin/python -m ehrqc.qc.Anomalies 'data/icd_cohort_test/vitals_stddev_icd.csv' 'data/icd_cohort_test/initial/' 'vitals_stddev_icd' -dm -do -de -di'''\n",
    "    )"
   ]
  },
  {
   "cell_type": "markdown",
   "metadata": {},
   "source": [
    "#### Vitals anomaly graphs for first values"
   ]
  },
  {
   "cell_type": "code",
   "execution_count": 16,
   "metadata": {},
   "outputs": [
    {
     "name": "stdout",
     "output_type": "stream",
     "text": [
      "2023-09-13 15:04:07,860 - Anomalies - INFO - Parsing command line arguments\n",
      "2023-09-13 15:04:07,862 - Anomalies - INFO - Start!!\n",
      "2023-09-13 15:04:07,862 - Anomalies - INFO - args.source_path: data/icd_cohort_test/vitals_first_icd.csv\n",
      "2023-09-13 15:04:07,862 - Anomalies - INFO - args.save_path: data/icd_cohort_test/initial/\n",
      "2023-09-13 15:04:07,862 - Anomalies - INFO - args.save_prefix: vitals_first_icd\n",
      "2023-09-13 15:04:07,862 - Anomalies - INFO - args.detect_missing: True\n",
      "2023-09-13 15:04:07,862 - Anomalies - INFO - args.detect_outliers: True\n",
      "2023-09-13 15:04:07,862 - Anomalies - INFO - args.detect_errors: True\n",
      "2023-09-13 15:04:07,862 - Anomalies - INFO - args.detect_inconsistencies: True\n",
      "2023-09-13 15:04:07,862 - Anomalies - INFO - args.correct_missing: False\n",
      "2023-09-13 15:04:07,862 - Anomalies - INFO - args.correct_outliers: False\n",
      "2023-09-13 15:04:10,362 - Anomalies - INFO - Done!!\n"
     ]
    },
    {
     "data": {
      "text/plain": [
       "0"
      ]
     },
     "execution_count": 16,
     "metadata": {},
     "output_type": "execute_result"
    }
   ],
   "source": [
    "import os\n",
    "\n",
    "os.system(\n",
    "    '''cd /superbugai-data/yash/chapter_1/workspace/EHRQC;'''\n",
    "    +\n",
    "    '''.venv/bin/python -m ehrqc.qc.Anomalies 'data/icd_cohort_test/vitals_first_icd.csv' 'data/icd_cohort_test/initial/' 'vitals_first_icd' -dm -do -de -di'''\n",
    "    )"
   ]
  },
  {
   "cell_type": "markdown",
   "metadata": {},
   "source": [
    "#### Vitals anomaly graphs for last values"
   ]
  },
  {
   "cell_type": "code",
   "execution_count": 17,
   "metadata": {},
   "outputs": [
    {
     "name": "stdout",
     "output_type": "stream",
     "text": [
      "2023-09-13 15:04:12,164 - Anomalies - INFO - Parsing command line arguments\n",
      "2023-09-13 15:04:12,165 - Anomalies - INFO - Start!!\n",
      "2023-09-13 15:04:12,165 - Anomalies - INFO - args.source_path: data/icd_cohort_test/vitals_last_icd.csv\n",
      "2023-09-13 15:04:12,166 - Anomalies - INFO - args.save_path: data/icd_cohort_test/initial/\n",
      "2023-09-13 15:04:12,166 - Anomalies - INFO - args.save_prefix: vitals_last_icd\n",
      "2023-09-13 15:04:12,166 - Anomalies - INFO - args.detect_missing: True\n",
      "2023-09-13 15:04:12,166 - Anomalies - INFO - args.detect_outliers: True\n",
      "2023-09-13 15:04:12,166 - Anomalies - INFO - args.detect_errors: True\n",
      "2023-09-13 15:04:12,166 - Anomalies - INFO - args.detect_inconsistencies: True\n",
      "2023-09-13 15:04:12,166 - Anomalies - INFO - args.correct_missing: False\n",
      "2023-09-13 15:04:12,166 - Anomalies - INFO - args.correct_outliers: False\n",
      "2023-09-13 15:04:14,576 - Anomalies - INFO - Done!!\n"
     ]
    },
    {
     "data": {
      "text/plain": [
       "0"
      ]
     },
     "execution_count": 17,
     "metadata": {},
     "output_type": "execute_result"
    }
   ],
   "source": [
    "import os\n",
    "\n",
    "os.system(\n",
    "    '''cd /superbugai-data/yash/chapter_1/workspace/EHRQC;'''\n",
    "    +\n",
    "    '''.venv/bin/python -m ehrqc.qc.Anomalies 'data/icd_cohort_test/vitals_last_icd.csv' 'data/icd_cohort_test/initial/' 'vitals_last_icd' -dm -do -de -di'''\n",
    "    )"
   ]
  },
  {
   "cell_type": "markdown",
   "metadata": {},
   "source": [
    "### Generate exploration graphs for lab measurements"
   ]
  },
  {
   "cell_type": "markdown",
   "metadata": {},
   "source": [
    "#### Lab measurements exploration graphs for minimum values"
   ]
  },
  {
   "cell_type": "code",
   "execution_count": 18,
   "metadata": {},
   "outputs": [
    {
     "name": "stdout",
     "output_type": "stream",
     "text": [
      "2023-09-13 15:04:16,367 - EHRQC - INFO - Parsing command line arguments\n",
      "2023-09-13 15:04:16,368 - EHRQC - INFO - args.plot_type: lab_measurements_explore \n",
      "2023-09-13 15:04:16,368 - EHRQC - INFO - args.source_path: data/icd_cohort_test/lab_measurements_min_icd.csv\n",
      "2023-09-13 15:04:16,368 - EHRQC - INFO - args.save_path: data/icd_cohort_test/initial/lab_measurements_min_icd_explore.html\n",
      "2023-09-13 15:04:16,368 - EHRQC - INFO - args.column_mapping: None\n",
      "2023-09-13 15:04:16,368 - EHRQC - INFO - args.column_mapping: {}\n",
      "2023-09-13 15:04:16,388 - EHRQC - INFO - Too many variables!! Please select only the ones to be plotted.\n",
      "2023-09-13 15:04:16,388 - EHRQC - INFO - Done!!\n"
     ]
    },
    {
     "data": {
      "text/plain": [
       "0"
      ]
     },
     "execution_count": 18,
     "metadata": {},
     "output_type": "execute_result"
    }
   ],
   "source": [
    "import os\n",
    "\n",
    "os.system(\n",
    "    '''cd /superbugai-data/yash/chapter_1/workspace/EHRQC;'''\n",
    "    +\n",
    "    '''.venv/bin/python -m ehrqc.qc.Plot \"lab_measurements_explore \" \"data/icd_cohort_test/lab_measurements_min_icd.csv\" \"data/icd_cohort_test/initial/lab_measurements_min_icd_explore.html\"'''\n",
    "    )"
   ]
  },
  {
   "cell_type": "markdown",
   "metadata": {},
   "source": [
    "#### Lab measurements exploration graphs for maximum values"
   ]
  },
  {
   "cell_type": "code",
   "execution_count": 19,
   "metadata": {},
   "outputs": [
    {
     "name": "stdout",
     "output_type": "stream",
     "text": [
      "2023-09-13 15:04:18,193 - EHRQC - INFO - Parsing command line arguments\n",
      "2023-09-13 15:04:18,194 - EHRQC - INFO - args.plot_type: lab_measurements_explore \n",
      "2023-09-13 15:04:18,194 - EHRQC - INFO - args.source_path: data/icd_cohort_test/lab_measurements_max_icd.csv\n",
      "2023-09-13 15:04:18,194 - EHRQC - INFO - args.save_path: data/icd_cohort_test/initial/lab_measurements_max_icd_explore.html\n",
      "2023-09-13 15:04:18,194 - EHRQC - INFO - args.column_mapping: None\n",
      "2023-09-13 15:04:18,194 - EHRQC - INFO - args.column_mapping: {}\n",
      "2023-09-13 15:04:18,214 - EHRQC - INFO - Too many variables!! Please select only the ones to be plotted.\n",
      "2023-09-13 15:04:18,214 - EHRQC - INFO - Done!!\n"
     ]
    },
    {
     "data": {
      "text/plain": [
       "0"
      ]
     },
     "execution_count": 19,
     "metadata": {},
     "output_type": "execute_result"
    }
   ],
   "source": [
    "import os\n",
    "\n",
    "os.system(\n",
    "    '''cd /superbugai-data/yash/chapter_1/workspace/EHRQC;'''\n",
    "    +\n",
    "    '''.venv/bin/python -m ehrqc.qc.Plot \"lab_measurements_explore \" \"data/icd_cohort_test/lab_measurements_max_icd.csv\" \"data/icd_cohort_test/initial/lab_measurements_max_icd_explore.html\"'''\n",
    "    )"
   ]
  },
  {
   "cell_type": "markdown",
   "metadata": {},
   "source": [
    "#### Lab measurements exploration graphs for average values"
   ]
  },
  {
   "cell_type": "code",
   "execution_count": 20,
   "metadata": {},
   "outputs": [
    {
     "name": "stdout",
     "output_type": "stream",
     "text": [
      "2023-09-13 15:04:19,949 - EHRQC - INFO - Parsing command line arguments\n",
      "2023-09-13 15:04:19,950 - EHRQC - INFO - args.plot_type: lab_measurements_explore \n",
      "2023-09-13 15:04:19,950 - EHRQC - INFO - args.source_path: data/icd_cohort_test/lab_measurements_avg_icd.csv\n",
      "2023-09-13 15:04:19,950 - EHRQC - INFO - args.save_path: data/icd_cohort_test/initial/lab_measurements_avg_icd_explore.html\n",
      "2023-09-13 15:04:19,950 - EHRQC - INFO - args.column_mapping: None\n",
      "2023-09-13 15:04:19,950 - EHRQC - INFO - args.column_mapping: {}\n",
      "2023-09-13 15:04:19,980 - EHRQC - INFO - Too many variables!! Please select only the ones to be plotted.\n",
      "2023-09-13 15:04:19,980 - EHRQC - INFO - Done!!\n"
     ]
    },
    {
     "data": {
      "text/plain": [
       "0"
      ]
     },
     "execution_count": 20,
     "metadata": {},
     "output_type": "execute_result"
    }
   ],
   "source": [
    "import os\n",
    "\n",
    "os.system(\n",
    "    '''cd /superbugai-data/yash/chapter_1/workspace/EHRQC;'''\n",
    "    +\n",
    "    '''.venv/bin/python -m ehrqc.qc.Plot \"lab_measurements_explore \" \"data/icd_cohort_test/lab_measurements_avg_icd.csv\" \"data/icd_cohort_test/initial/lab_measurements_avg_icd_explore.html\"'''\n",
    "    )"
   ]
  },
  {
   "cell_type": "markdown",
   "metadata": {},
   "source": [
    "#### Lab measurements exploration graphs for standard deviation values"
   ]
  },
  {
   "cell_type": "code",
   "execution_count": 21,
   "metadata": {},
   "outputs": [
    {
     "name": "stdout",
     "output_type": "stream",
     "text": [
      "2023-09-13 15:04:21,917 - EHRQC - INFO - Parsing command line arguments\n",
      "2023-09-13 15:04:21,918 - EHRQC - INFO - args.plot_type: lab_measurements_explore \n",
      "2023-09-13 15:04:21,918 - EHRQC - INFO - args.source_path: data/icd_cohort_test/lab_measurements_stddev_icd.csv\n",
      "2023-09-13 15:04:21,918 - EHRQC - INFO - args.save_path: data/icd_cohort_test/initial/lab_measurements_stddev_icd_explore.html\n",
      "2023-09-13 15:04:21,918 - EHRQC - INFO - args.column_mapping: None\n",
      "2023-09-13 15:04:21,918 - EHRQC - INFO - args.column_mapping: {}\n",
      "2023-09-13 15:04:21,956 - EHRQC - INFO - Too many variables!! Please select only the ones to be plotted.\n",
      "2023-09-13 15:04:21,956 - EHRQC - INFO - Done!!\n"
     ]
    },
    {
     "data": {
      "text/plain": [
       "0"
      ]
     },
     "execution_count": 21,
     "metadata": {},
     "output_type": "execute_result"
    }
   ],
   "source": [
    "import os\n",
    "\n",
    "os.system(\n",
    "    '''cd /superbugai-data/yash/chapter_1/workspace/EHRQC;'''\n",
    "    +\n",
    "    '''.venv/bin/python -m ehrqc.qc.Plot \"lab_measurements_explore \" \"data/icd_cohort_test/lab_measurements_stddev_icd.csv\" \"data/icd_cohort_test/initial/lab_measurements_stddev_icd_explore.html\"'''\n",
    "    )"
   ]
  },
  {
   "cell_type": "markdown",
   "metadata": {},
   "source": [
    "#### Lab measurements exploration graphs for first values"
   ]
  },
  {
   "cell_type": "code",
   "execution_count": 22,
   "metadata": {},
   "outputs": [
    {
     "name": "stdout",
     "output_type": "stream",
     "text": [
      "2023-09-13 15:04:23,890 - EHRQC - INFO - Parsing command line arguments\n",
      "2023-09-13 15:04:23,891 - EHRQC - INFO - args.plot_type: lab_measurements_explore \n",
      "2023-09-13 15:04:23,891 - EHRQC - INFO - args.source_path: data/icd_cohort_test/lab_measurements_first_icd.csv\n",
      "2023-09-13 15:04:23,891 - EHRQC - INFO - args.save_path: data/icd_cohort_test/initial/lab_measurements_first_icd_explore.html\n",
      "2023-09-13 15:04:23,891 - EHRQC - INFO - args.column_mapping: None\n",
      "2023-09-13 15:04:23,891 - EHRQC - INFO - args.column_mapping: {}\n",
      "2023-09-13 15:04:23,912 - EHRQC - INFO - Too many variables!! Please select only the ones to be plotted.\n",
      "2023-09-13 15:04:23,912 - EHRQC - INFO - Done!!\n"
     ]
    },
    {
     "data": {
      "text/plain": [
       "0"
      ]
     },
     "execution_count": 22,
     "metadata": {},
     "output_type": "execute_result"
    }
   ],
   "source": [
    "import os\n",
    "\n",
    "os.system(\n",
    "    '''cd /superbugai-data/yash/chapter_1/workspace/EHRQC;'''\n",
    "    +\n",
    "    '''.venv/bin/python -m ehrqc.qc.Plot \"lab_measurements_explore \" \"data/icd_cohort_test/lab_measurements_first_icd.csv\" \"data/icd_cohort_test/initial/lab_measurements_first_icd_explore.html\"'''\n",
    "    )"
   ]
  },
  {
   "cell_type": "markdown",
   "metadata": {},
   "source": [
    "#### Lab measurements exploration graphs for last values"
   ]
  },
  {
   "cell_type": "code",
   "execution_count": 23,
   "metadata": {},
   "outputs": [
    {
     "name": "stdout",
     "output_type": "stream",
     "text": [
      "2023-09-13 15:04:25,981 - EHRQC - INFO - Parsing command line arguments\n",
      "2023-09-13 15:04:25,982 - EHRQC - INFO - args.plot_type: lab_measurements_explore\n",
      "2023-09-13 15:04:25,982 - EHRQC - INFO - args.source_path: data/icd_cohort_test/lab_measurements_last_icd.csv\n",
      "2023-09-13 15:04:25,982 - EHRQC - INFO - args.save_path: data/icd_cohort_test/initial/lab_measurements_last_icd_explore.html\n",
      "2023-09-13 15:04:25,982 - EHRQC - INFO - args.column_mapping: None\n",
      "2023-09-13 15:04:25,982 - EHRQC - INFO - args.column_mapping: {}\n",
      "2023-09-13 15:04:26,002 - EHRQC - INFO - Too many variables!! Please select only the ones to be plotted.\n",
      "2023-09-13 15:04:26,003 - EHRQC - INFO - Done!!\n"
     ]
    },
    {
     "data": {
      "text/plain": [
       "0"
      ]
     },
     "execution_count": 23,
     "metadata": {},
     "output_type": "execute_result"
    }
   ],
   "source": [
    "import os\n",
    "\n",
    "os.system(\n",
    "    '''cd /superbugai-data/yash/chapter_1/workspace/EHRQC;'''\n",
    "    +\n",
    "    '''.venv/bin/python -m ehrqc.qc.Plot \"lab_measurements_explore\" \"data/icd_cohort_test/lab_measurements_last_icd.csv\" \"data/icd_cohort_test/initial/lab_measurements_last_icd_explore.html\"'''\n",
    "    )"
   ]
  },
  {
   "cell_type": "markdown",
   "metadata": {},
   "source": [
    "### Generate anomaly graphs for lab measurements"
   ]
  },
  {
   "cell_type": "markdown",
   "metadata": {},
   "source": [
    "#### Lab measurements anomaly graph for minimum values"
   ]
  },
  {
   "cell_type": "code",
   "execution_count": 24,
   "metadata": {},
   "outputs": [
    {
     "name": "stdout",
     "output_type": "stream",
     "text": [
      "2023-09-13 15:04:27,861 - Anomalies - INFO - Parsing command line arguments\n",
      "2023-09-13 15:04:27,862 - Anomalies - INFO - Start!!\n",
      "2023-09-13 15:04:27,862 - Anomalies - INFO - args.source_path: data/icd_cohort_test/lab_measurements_min_icd.csv\n",
      "2023-09-13 15:04:27,862 - Anomalies - INFO - args.save_path: data/icd_cohort_test/initial/\n",
      "2023-09-13 15:04:27,863 - Anomalies - INFO - args.save_prefix: lab_measurements_min_icd\n",
      "2023-09-13 15:04:27,863 - Anomalies - INFO - args.detect_missing: True\n",
      "2023-09-13 15:04:27,863 - Anomalies - INFO - args.detect_outliers: True\n",
      "2023-09-13 15:04:27,863 - Anomalies - INFO - args.detect_errors: True\n",
      "2023-09-13 15:04:27,863 - Anomalies - INFO - args.detect_inconsistencies: True\n",
      "2023-09-13 15:04:27,863 - Anomalies - INFO - args.correct_missing: False\n",
      "2023-09-13 15:04:27,863 - Anomalies - INFO - args.correct_outliers: False\n",
      "2023-09-13 15:04:27,882 - Anomalies - INFO - Too many variables!! Please select only the ones to be plotted.\n"
     ]
    },
    {
     "data": {
      "text/plain": [
       "0"
      ]
     },
     "execution_count": 24,
     "metadata": {},
     "output_type": "execute_result"
    }
   ],
   "source": [
    "import os\n",
    "\n",
    "os.system(\n",
    "    '''cd /superbugai-data/yash/chapter_1/workspace/EHRQC;'''\n",
    "    +\n",
    "    '''.venv/bin/python -m ehrqc.qc.Anomalies 'data/icd_cohort_test/lab_measurements_min_icd.csv' 'data/icd_cohort_test/initial/' 'lab_measurements_min_icd' -dm -do -de -di'''\n",
    "    )"
   ]
  },
  {
   "cell_type": "markdown",
   "metadata": {},
   "source": [
    "#### Lab measurements anomaly graph for maximum values"
   ]
  },
  {
   "cell_type": "code",
   "execution_count": 25,
   "metadata": {},
   "outputs": [
    {
     "name": "stdout",
     "output_type": "stream",
     "text": [
      "2023-09-13 15:04:29,803 - Anomalies - INFO - Parsing command line arguments\n",
      "2023-09-13 15:04:29,804 - Anomalies - INFO - Start!!\n",
      "2023-09-13 15:04:29,804 - Anomalies - INFO - args.source_path: data/icd_cohort_test/lab_measurements_max_icd.csv\n",
      "2023-09-13 15:04:29,804 - Anomalies - INFO - args.save_path: data/icd_cohort_test/initial/\n",
      "2023-09-13 15:04:29,804 - Anomalies - INFO - args.save_prefix: lab_measurements_max_icd\n",
      "2023-09-13 15:04:29,804 - Anomalies - INFO - args.detect_missing: True\n",
      "2023-09-13 15:04:29,805 - Anomalies - INFO - args.detect_outliers: True\n",
      "2023-09-13 15:04:29,805 - Anomalies - INFO - args.detect_errors: True\n",
      "2023-09-13 15:04:29,805 - Anomalies - INFO - args.detect_inconsistencies: True\n",
      "2023-09-13 15:04:29,805 - Anomalies - INFO - args.correct_missing: False\n",
      "2023-09-13 15:04:29,805 - Anomalies - INFO - args.correct_outliers: False\n",
      "2023-09-13 15:04:29,824 - Anomalies - INFO - Too many variables!! Please select only the ones to be plotted.\n"
     ]
    },
    {
     "data": {
      "text/plain": [
       "0"
      ]
     },
     "execution_count": 25,
     "metadata": {},
     "output_type": "execute_result"
    }
   ],
   "source": [
    "import os\n",
    "\n",
    "os.system(\n",
    "    '''cd /superbugai-data/yash/chapter_1/workspace/EHRQC;'''\n",
    "    +\n",
    "    '''.venv/bin/python -m ehrqc.qc.Anomalies 'data/icd_cohort_test/lab_measurements_max_icd.csv' 'data/icd_cohort_test/initial/' 'lab_measurements_max_icd' -dm -do -de -di'''\n",
    "    )"
   ]
  },
  {
   "cell_type": "markdown",
   "metadata": {},
   "source": [
    "#### Lab measurements anomaly graph for average values"
   ]
  },
  {
   "cell_type": "code",
   "execution_count": 26,
   "metadata": {},
   "outputs": [
    {
     "name": "stdout",
     "output_type": "stream",
     "text": [
      "2023-09-13 15:04:31,636 - Anomalies - INFO - Parsing command line arguments\n",
      "2023-09-13 15:04:31,637 - Anomalies - INFO - Start!!\n",
      "2023-09-13 15:04:31,637 - Anomalies - INFO - args.source_path: data/icd_cohort_test/lab_measurements_avg_icd.csv\n",
      "2023-09-13 15:04:31,637 - Anomalies - INFO - args.save_path: data/icd_cohort_test/initial/\n",
      "2023-09-13 15:04:31,637 - Anomalies - INFO - args.save_prefix: lab_measurements_avg_icd\n",
      "2023-09-13 15:04:31,637 - Anomalies - INFO - args.detect_missing: True\n",
      "2023-09-13 15:04:31,637 - Anomalies - INFO - args.detect_outliers: True\n",
      "2023-09-13 15:04:31,637 - Anomalies - INFO - args.detect_errors: True\n",
      "2023-09-13 15:04:31,637 - Anomalies - INFO - args.detect_inconsistencies: True\n",
      "2023-09-13 15:04:31,637 - Anomalies - INFO - args.correct_missing: False\n",
      "2023-09-13 15:04:31,637 - Anomalies - INFO - args.correct_outliers: False\n",
      "2023-09-13 15:04:31,667 - Anomalies - INFO - Too many variables!! Please select only the ones to be plotted.\n"
     ]
    },
    {
     "data": {
      "text/plain": [
       "0"
      ]
     },
     "execution_count": 26,
     "metadata": {},
     "output_type": "execute_result"
    }
   ],
   "source": [
    "import os\n",
    "\n",
    "os.system(\n",
    "    '''cd /superbugai-data/yash/chapter_1/workspace/EHRQC;'''\n",
    "    +\n",
    "    '''.venv/bin/python -m ehrqc.qc.Anomalies 'data/icd_cohort_test/lab_measurements_avg_icd.csv' 'data/icd_cohort_test/initial/' 'lab_measurements_avg_icd' -dm -do -de -di'''\n",
    "    )"
   ]
  },
  {
   "cell_type": "markdown",
   "metadata": {},
   "source": [
    "#### Lab measurements anomaly graph for standard deviation values"
   ]
  },
  {
   "cell_type": "code",
   "execution_count": 27,
   "metadata": {},
   "outputs": [
    {
     "name": "stdout",
     "output_type": "stream",
     "text": [
      "2023-09-13 15:04:33,482 - Anomalies - INFO - Parsing command line arguments\n",
      "2023-09-13 15:04:33,483 - Anomalies - INFO - Start!!\n",
      "2023-09-13 15:04:33,483 - Anomalies - INFO - args.source_path: data/icd_cohort_test/lab_measurements_stddev_icd.csv\n",
      "2023-09-13 15:04:33,483 - Anomalies - INFO - args.save_path: data/icd_cohort_test/initial/\n",
      "2023-09-13 15:04:33,483 - Anomalies - INFO - args.save_prefix: lab_measurements_stddev_icd\n",
      "2023-09-13 15:04:33,483 - Anomalies - INFO - args.detect_missing: True\n",
      "2023-09-13 15:04:33,483 - Anomalies - INFO - args.detect_outliers: True\n",
      "2023-09-13 15:04:33,483 - Anomalies - INFO - args.detect_errors: True\n",
      "2023-09-13 15:04:33,483 - Anomalies - INFO - args.detect_inconsistencies: True\n",
      "2023-09-13 15:04:33,483 - Anomalies - INFO - args.correct_missing: False\n",
      "2023-09-13 15:04:33,483 - Anomalies - INFO - args.correct_outliers: False\n",
      "2023-09-13 15:04:33,517 - Anomalies - INFO - Too many variables!! Please select only the ones to be plotted.\n"
     ]
    },
    {
     "data": {
      "text/plain": [
       "0"
      ]
     },
     "execution_count": 27,
     "metadata": {},
     "output_type": "execute_result"
    }
   ],
   "source": [
    "import os\n",
    "\n",
    "os.system(\n",
    "    '''cd /superbugai-data/yash/chapter_1/workspace/EHRQC;'''\n",
    "    +\n",
    "    '''.venv/bin/python -m ehrqc.qc.Anomalies 'data/icd_cohort_test/lab_measurements_stddev_icd.csv' 'data/icd_cohort_test/initial/' 'lab_measurements_stddev_icd' -dm -do -de -di'''\n",
    "    )"
   ]
  },
  {
   "cell_type": "markdown",
   "metadata": {},
   "source": [
    "#### Lab measurements anomaly graph for first values"
   ]
  },
  {
   "cell_type": "code",
   "execution_count": 28,
   "metadata": {},
   "outputs": [
    {
     "name": "stdout",
     "output_type": "stream",
     "text": [
      "2023-09-13 15:04:35,335 - Anomalies - INFO - Parsing command line arguments\n",
      "2023-09-13 15:04:35,337 - Anomalies - INFO - Start!!\n",
      "2023-09-13 15:04:35,337 - Anomalies - INFO - args.source_path: data/icd_cohort_test/lab_measurements_first_icd.csv\n",
      "2023-09-13 15:04:35,337 - Anomalies - INFO - args.save_path: data/icd_cohort_test/initial/\n",
      "2023-09-13 15:04:35,337 - Anomalies - INFO - args.save_prefix: lab_measurements_first_icd\n",
      "2023-09-13 15:04:35,337 - Anomalies - INFO - args.detect_missing: True\n",
      "2023-09-13 15:04:35,337 - Anomalies - INFO - args.detect_outliers: True\n",
      "2023-09-13 15:04:35,337 - Anomalies - INFO - args.detect_errors: True\n",
      "2023-09-13 15:04:35,337 - Anomalies - INFO - args.detect_inconsistencies: True\n",
      "2023-09-13 15:04:35,337 - Anomalies - INFO - args.correct_missing: False\n",
      "2023-09-13 15:04:35,337 - Anomalies - INFO - args.correct_outliers: False\n",
      "2023-09-13 15:04:35,357 - Anomalies - INFO - Too many variables!! Please select only the ones to be plotted.\n"
     ]
    },
    {
     "data": {
      "text/plain": [
       "0"
      ]
     },
     "execution_count": 28,
     "metadata": {},
     "output_type": "execute_result"
    }
   ],
   "source": [
    "import os\n",
    "\n",
    "os.system(\n",
    "    '''cd /superbugai-data/yash/chapter_1/workspace/EHRQC;'''\n",
    "    +\n",
    "    '''.venv/bin/python -m ehrqc.qc.Anomalies 'data/icd_cohort_test/lab_measurements_first_icd.csv' 'data/icd_cohort_test/initial/' 'lab_measurements_first_icd' -dm -do -de -di'''\n",
    "    )"
   ]
  },
  {
   "cell_type": "markdown",
   "metadata": {},
   "source": [
    "#### Lab measurements anomaly graph for last values"
   ]
  },
  {
   "cell_type": "code",
   "execution_count": 29,
   "metadata": {},
   "outputs": [
    {
     "name": "stdout",
     "output_type": "stream",
     "text": [
      "2023-09-13 15:04:37,285 - Anomalies - INFO - Parsing command line arguments\n",
      "2023-09-13 15:04:37,286 - Anomalies - INFO - Start!!\n",
      "2023-09-13 15:04:37,286 - Anomalies - INFO - args.source_path: data/icd_cohort_test/lab_measurements_last_icd.csv\n",
      "2023-09-13 15:04:37,286 - Anomalies - INFO - args.save_path: data/icd_cohort_test/initial/\n",
      "2023-09-13 15:04:37,286 - Anomalies - INFO - args.save_prefix: lab_measurements_last_icd\n",
      "2023-09-13 15:04:37,286 - Anomalies - INFO - args.detect_missing: True\n",
      "2023-09-13 15:04:37,286 - Anomalies - INFO - args.detect_outliers: True\n",
      "2023-09-13 15:04:37,286 - Anomalies - INFO - args.detect_errors: True\n",
      "2023-09-13 15:04:37,286 - Anomalies - INFO - args.detect_inconsistencies: True\n",
      "2023-09-13 15:04:37,286 - Anomalies - INFO - args.correct_missing: False\n",
      "2023-09-13 15:04:37,287 - Anomalies - INFO - args.correct_outliers: False\n",
      "2023-09-13 15:04:37,308 - Anomalies - INFO - Too many variables!! Please select only the ones to be plotted.\n"
     ]
    },
    {
     "data": {
      "text/plain": [
       "0"
      ]
     },
     "execution_count": 29,
     "metadata": {},
     "output_type": "execute_result"
    }
   ],
   "source": [
    "import os\n",
    "\n",
    "os.system(\n",
    "    '''cd /superbugai-data/yash/chapter_1/workspace/EHRQC;'''\n",
    "    +\n",
    "    '''.venv/bin/python -m ehrqc.qc.Anomalies 'data/icd_cohort_test/lab_measurements_last_icd.csv' 'data/icd_cohort_test/initial/' 'lab_measurements_last_icd' -dm -do -de -di'''\n",
    "    )"
   ]
  },
  {
   "cell_type": "markdown",
   "metadata": {},
   "source": [
    "## Conclusion"
   ]
  },
  {
   "cell_type": "markdown",
   "metadata": {},
   "source": [
    "We generated exploration and anomaly reports for vitals. However, the reports for lab measurements are not generated because of the presence of too many attributes (columns)."
   ]
  }
 ],
 "metadata": {
  "kernelspec": {
   "display_name": ".venv",
   "language": "python",
   "name": "python3"
  },
  "language_info": {
   "codemirror_mode": {
    "name": "ipython",
    "version": 3
   },
   "file_extension": ".py",
   "mimetype": "text/x-python",
   "name": "python",
   "nbconvert_exporter": "python",
   "pygments_lexer": "ipython3",
   "version": "3.9.5"
  },
  "orig_nbformat": 4
 },
 "nbformat": 4,
 "nbformat_minor": 2
}
