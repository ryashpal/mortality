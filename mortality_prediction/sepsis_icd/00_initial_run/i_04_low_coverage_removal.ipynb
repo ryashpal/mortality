{
 "cells": [
  {
   "cell_type": "markdown",
   "metadata": {},
   "source": [
    "# Removing the attributes with very low coverage"
   ]
  },
  {
   "cell_type": "markdown",
   "metadata": {},
   "source": [
    "## Removing attributes where majority of the values are missing (> 50 %)"
   ]
  },
  {
   "cell_type": "code",
   "execution_count": 1,
   "metadata": {},
   "outputs": [
    {
     "name": "stdout",
     "output_type": "stream",
     "text": [
      "2023-10-10 12:29:55,527 - Anomalies - INFO - Parsing command line arguments\n",
      "2023-10-10 12:29:55,528 - Anomalies - INFO - Start!!\n",
      "2023-10-10 12:29:55,528 - Anomalies - INFO - args.source_file: data/icd_cohort_test/lab_measurements_min_icd.csv\n",
      "2023-10-10 12:29:55,529 - Anomalies - INFO - args.chunksize: 100\n",
      "2023-10-10 12:29:55,529 - Anomalies - INFO - args.id_columns: ['person_id']\n",
      "2023-10-10 12:29:55,529 - Anomalies - INFO - args.drop: True\n",
      "2023-10-10 12:29:55,529 - Anomalies - INFO - args.percentage: 50.0\n",
      "2023-10-10 12:29:55,529 - Anomalies - INFO - args.save_path: data/icd_cohort_test\n",
      "2023-10-10 12:29:55,529 - Anomalies - INFO - Calculating Missingnes\n",
      "2023-10-10 12:29:56,033 - Anomalies - INFO - Missingness Report\n",
      "2023-10-10 12:29:56,038 - Anomalies - INFO - \n",
      "\n",
      "                column_name  missing_count  total_count  percentage_missing\n",
      "0                   albumin           4400         9923               44.34\n",
      "1                 anion_gap           2374         9923               23.92\n",
      "2                      aptt           3145         9923               31.69\n",
      "3     band_form_neutrophils           6930         9923               69.84\n",
      "4      base_excess_in_blood           5560         9923               56.03\n",
      "5               bicarbonate             51         9923                0.51\n",
      "6                 bilirubin           3613         9923               36.41\n",
      "7       carbondioxide_blood           5555         9923               55.98\n",
      "8       carbondioxide_serum           5553         9923               55.96\n",
      "9            chloride_blood           8677         9923               87.44\n",
      "10           chloride_serum             53         9923                0.53\n",
      "11               creatinine             40         9923                0.40\n",
      "12            glucose_serum             68         9923                0.69\n",
      "13            glucose_urine           9106         9923               91.77\n",
      "14               hematocrit           2359         9923               23.77\n",
      "15               hemoglobin             51         9923                0.51\n",
      "16                      inr           3073         9923               30.97\n",
      "17                  lactate           3293         9923               33.19\n",
      "18    leukocytes_blood_auto           9839         9923               99.15\n",
      "19  leukocytes_blood_manual           2369         9923               23.87\n",
      "20                   oxygen           5556         9923               55.99\n",
      "21                 ph_blood           5373         9923               54.15\n",
      "22             ph_bodyfluid           9801         9923               98.77\n",
      "23           platelet_count           2358         9923               23.76\n",
      "24          potassium_blood           7461         9923               75.19\n",
      "25          potassium_serum             44         9923                0.44\n",
      "26             sodium_blood           8439         9923               85.04\n",
      "27             sodium_serum             46         9923                0.46\n",
      "28            urea_nitrogen           2364         9923               23.82\n",
      "\n",
      "2023-10-10 12:29:56,038 - Anomalies - INFO - Dropping columns with above 50.0 % missingness\n",
      "2023-10-10 12:29:56,103 - Anomalies - INFO - Saving data to lab_measurements_min_icd_dropped.csv\n",
      "2023-10-10 12:29:56,223 - Anomalies - INFO - Done!!\n"
     ]
    },
    {
     "data": {
      "text/plain": [
       "0"
      ]
     },
     "execution_count": 1,
     "metadata": {},
     "output_type": "execute_result"
    }
   ],
   "source": [
    "import os\n",
    "\n",
    "os.system(\n",
    "    '''cd /superbugai-data/yash/chapter_1/workspace/EHRQC;'''\n",
    "    +\n",
    "    '''.venv/bin/python -m ehrqc.qc.Coverage data/icd_cohort_test/lab_measurements_min_icd.csv 100 person_id -d -p 50 -sp data/icd_cohort_test'''\n",
    "    )"
   ]
  },
  {
   "cell_type": "markdown",
   "metadata": {},
   "source": [
    "## Coverage report of remaining attributes"
   ]
  },
  {
   "cell_type": "code",
   "execution_count": 2,
   "metadata": {},
   "outputs": [
    {
     "name": "stdout",
     "output_type": "stream",
     "text": [
      "2023-10-10 12:29:56,782 - Anomalies - INFO - Parsing command line arguments\n",
      "2023-10-10 12:29:56,783 - Anomalies - INFO - Start!!\n",
      "2023-10-10 12:29:56,783 - Anomalies - INFO - args.source_file: data/icd_cohort_test/lab_measurements_min_icd_dropped.csv\n",
      "2023-10-10 12:29:56,783 - Anomalies - INFO - args.chunksize: 1\n",
      "2023-10-10 12:29:56,783 - Anomalies - INFO - args.id_columns: ['person_id']\n",
      "2023-10-10 12:29:56,783 - Anomalies - INFO - args.drop: False\n",
      "2023-10-10 12:29:56,783 - Anomalies - INFO - args.percentage: 50\n",
      "2023-10-10 12:29:56,783 - Anomalies - INFO - args.save_path: .\n",
      "2023-10-10 12:29:56,783 - Anomalies - INFO - Calculating Missingnes\n",
      "2023-10-10 12:30:38,325 - Anomalies - INFO - Missingness Report\n",
      "2023-10-10 12:30:38,335 - Anomalies - INFO - \n",
      "\n",
      "                column_name  missing_count  total_count  percentage_missing\n",
      "0                   albumin           4400         9923               44.34\n",
      "1                 anion_gap           2374         9923               23.92\n",
      "2                      aptt           3145         9923               31.69\n",
      "3               bicarbonate             51         9923                0.51\n",
      "4                 bilirubin           3613         9923               36.41\n",
      "5            chloride_serum             53         9923                0.53\n",
      "6                creatinine             40         9923                0.40\n",
      "7             glucose_serum             68         9923                0.69\n",
      "8                hematocrit           2359         9923               23.77\n",
      "9                hemoglobin             51         9923                0.51\n",
      "10                      inr           3073         9923               30.97\n",
      "11                  lactate           3293         9923               33.19\n",
      "12  leukocytes_blood_manual           2369         9923               23.87\n",
      "13           platelet_count           2358         9923               23.76\n",
      "14          potassium_serum             44         9923                0.44\n",
      "15             sodium_serum             46         9923                0.46\n",
      "16            urea_nitrogen           2364         9923               23.82\n",
      "\n",
      "2023-10-10 12:30:38,410 - Anomalies - INFO - Done!!\n"
     ]
    },
    {
     "data": {
      "text/plain": [
       "0"
      ]
     },
     "execution_count": 2,
     "metadata": {},
     "output_type": "execute_result"
    }
   ],
   "source": [
    "import os\n",
    "\n",
    "os.system(\n",
    "    '''cd /superbugai-data/yash/chapter_1/workspace/EHRQC;'''\n",
    "    +\n",
    "    '''.venv/bin/python -m ehrqc.qc.Coverage data/icd_cohort_test/lab_measurements_min_icd_dropped.csv 1 person_id'''\n",
    "    )"
   ]
  },
  {
   "cell_type": "markdown",
   "metadata": {},
   "source": [
    "## Missing data imputation analysis for various missingness"
   ]
  },
  {
   "cell_type": "markdown",
   "metadata": {},
   "source": [
    "### Missing data imputation at 10 % missingness"
   ]
  },
  {
   "cell_type": "code",
   "execution_count": 3,
   "metadata": {},
   "outputs": [
    {
     "name": "stdout",
     "output_type": "stream",
     "text": [
      "2023-10-10 12:30:51,606 - EHRQC - INFO - Parsing command line arguments\n",
      "2023-10-10 12:30:51,607 - EHRQC - INFO - args.action: compare\n",
      "2023-10-10 12:30:51,607 - EHRQC - INFO - args.source_path: data/icd_cohort_test/lab_measurements_min_icd_dropped.csv\n",
      "2023-10-10 12:30:51,607 - EHRQC - INFO - args.percentage: ['0.1']\n",
      "2023-10-10 12:30:51,607 - EHRQC - INFO - args.save_path: i\n",
      "2023-10-10 12:30:51,607 - EHRQC - INFO - args.algorithm: m\n",
      "2023-10-10 12:30:51,621 - EHRQC - INFO - Creating missingness with proportion p = (0.1)\n",
      "2023-10-10 12:30:51,621 - EHRQC - INFO - Data size before dropping nulls: (9923, 18)\n",
      "2023-10-10 12:30:51,622 - EHRQC - INFO - Data size after dropping nulls: (4582, 18)\n",
      "2023-10-10 12:30:51,625 - EHRQC - INFO - Running mean imputation\n",
      "2023-10-10 12:30:51,645 - EHRQC - INFO - Mean imputation R2 score: 0.9088342466662981\n",
      "2023-10-10 12:30:51,645 - EHRQC - INFO - Running median imputation\n",
      "2023-10-10 12:30:51,658 - EHRQC - INFO - Median imputation R2 score: 0.9055370682410246\n",
      "2023-10-10 12:30:51,658 - EHRQC - INFO - Running KNN imputation\n",
      "2023-10-10 12:30:53,533 - EHRQC - INFO - KNN imputation R2 score: 0.901708332393206\n",
      "2023-10-10 12:30:53,534 - EHRQC - INFO - Running MissForest imputation\n",
      "Iteration: 0\n",
      "Iteration: 1\n",
      "Iteration: 2\n",
      "2023-10-10 12:31:16,046 - EHRQC - INFO - MissForest imputation R2 score: 0.9431781723996637\n",
      "2023-10-10 12:31:16,046 - EHRQC - INFO - Running EM imputation\n",
      "2023-10-10 12:31:22,135 - EHRQC - INFO - EM imputation R2 score: 0.813684185103288\n",
      "2023-10-10 12:31:22,135 - EHRQC - INFO - Running MI imputation\n",
      "2023-10-10 12:31:58,128 - EHRQC - INFO - MI imputation R2 score: 0.9007493800245149\n",
      "2023-10-10 12:31:58,142 - EHRQC - INFO - mean R2: 0.9088342466662981, median R2: 0.9055370682410246, knn R2: 0.901708332393206, mf R2: 0.9431781723996637, em R2: 0.813684185103288, mi R2: 0.9007493800245149\n",
      "2023-10-10 12:31:58,142 - EHRQC - INFO - Done!!\n"
     ]
    },
    {
     "data": {
      "text/plain": [
       "0"
      ]
     },
     "execution_count": 3,
     "metadata": {},
     "output_type": "execute_result"
    }
   ],
   "source": [
    "import os\n",
    "\n",
    "os.system(\n",
    "    '''cd /superbugai-data/yash/chapter_1/workspace/EHRQC;'''\n",
    "    +\n",
    "    '''.venv/bin/python -m ehrqc.qc.Impute 'compare' data/icd_cohort_test/lab_measurements_min_icd_dropped.csv -p 0.1'''\n",
    "    )"
   ]
  },
  {
   "cell_type": "markdown",
   "metadata": {},
   "source": [
    "### Missing data imputation at 20 % missingness"
   ]
  },
  {
   "cell_type": "code",
   "execution_count": 4,
   "metadata": {},
   "outputs": [
    {
     "name": "stdout",
     "output_type": "stream",
     "text": [
      "2023-10-10 12:31:59,984 - EHRQC - INFO - Parsing command line arguments\n",
      "2023-10-10 12:31:59,985 - EHRQC - INFO - args.action: compare\n",
      "2023-10-10 12:31:59,985 - EHRQC - INFO - args.source_path: data/icd_cohort_test/lab_measurements_min_icd_dropped.csv\n",
      "2023-10-10 12:31:59,985 - EHRQC - INFO - args.percentage: ['0.20']\n",
      "2023-10-10 12:31:59,985 - EHRQC - INFO - args.save_path: i\n",
      "2023-10-10 12:31:59,985 - EHRQC - INFO - args.algorithm: m\n",
      "2023-10-10 12:31:59,999 - EHRQC - INFO - Creating missingness with proportion p = (0.2)\n",
      "2023-10-10 12:31:59,999 - EHRQC - INFO - Data size before dropping nulls: (9923, 18)\n",
      "2023-10-10 12:32:00,001 - EHRQC - INFO - Data size after dropping nulls: (4582, 18)\n",
      "2023-10-10 12:32:00,004 - EHRQC - INFO - Running mean imputation\n",
      "2023-10-10 12:32:00,011 - EHRQC - INFO - Mean imputation R2 score: 0.8059893635897765\n",
      "2023-10-10 12:32:00,011 - EHRQC - INFO - Running median imputation\n",
      "2023-10-10 12:32:00,024 - EHRQC - INFO - Median imputation R2 score: 0.8004814966727445\n",
      "2023-10-10 12:32:00,024 - EHRQC - INFO - Running KNN imputation\n",
      "2023-10-10 12:32:02,023 - EHRQC - INFO - KNN imputation R2 score: 0.7950683125194127\n",
      "2023-10-10 12:32:02,023 - EHRQC - INFO - Running MissForest imputation\n",
      "Iteration: 0\n",
      "Iteration: 1\n",
      "Iteration: 2\n",
      "Iteration: 3\n",
      "Iteration: 4\n",
      "2023-10-10 12:32:37,670 - EHRQC - INFO - MissForest imputation R2 score: 0.8689221971001441\n",
      "2023-10-10 12:32:37,670 - EHRQC - INFO - Running EM imputation\n",
      "2023-10-10 12:32:50,050 - EHRQC - INFO - EM imputation R2 score: 0.6239477126650518\n",
      "2023-10-10 12:32:50,050 - EHRQC - INFO - Running MI imputation\n",
      "2023-10-10 12:33:26,397 - EHRQC - INFO - MI imputation R2 score: 0.793185552669386\n",
      "2023-10-10 12:33:26,411 - EHRQC - INFO - mean R2: 0.8059893635897765, median R2: 0.8004814966727445, knn R2: 0.7950683125194127, mf R2: 0.8689221971001441, em R2: 0.6239477126650518, mi R2: 0.793185552669386\n",
      "2023-10-10 12:33:26,411 - EHRQC - INFO - Done!!\n"
     ]
    },
    {
     "data": {
      "text/plain": [
       "0"
      ]
     },
     "execution_count": 4,
     "metadata": {},
     "output_type": "execute_result"
    }
   ],
   "source": [
    "import os\n",
    "\n",
    "os.system(\n",
    "    '''cd /superbugai-data/yash/chapter_1/workspace/EHRQC;'''\n",
    "    +\n",
    "    '''.venv/bin/python -m ehrqc.qc.Impute 'compare' data/icd_cohort_test/lab_measurements_min_icd_dropped.csv -p 0.20'''\n",
    "    )"
   ]
  },
  {
   "cell_type": "markdown",
   "metadata": {},
   "source": [
    "### Missing data imputation at 30 % missingness"
   ]
  },
  {
   "cell_type": "code",
   "execution_count": 5,
   "metadata": {},
   "outputs": [
    {
     "name": "stdout",
     "output_type": "stream",
     "text": [
      "2023-10-10 12:33:28,163 - EHRQC - INFO - Parsing command line arguments\n",
      "2023-10-10 12:33:28,164 - EHRQC - INFO - args.action: compare\n",
      "2023-10-10 12:33:28,164 - EHRQC - INFO - args.source_path: data/icd_cohort_test/lab_measurements_min_icd_dropped.csv\n",
      "2023-10-10 12:33:28,164 - EHRQC - INFO - args.percentage: ['0.30']\n",
      "2023-10-10 12:33:28,164 - EHRQC - INFO - args.save_path: i\n",
      "2023-10-10 12:33:28,164 - EHRQC - INFO - args.algorithm: m\n",
      "2023-10-10 12:33:28,178 - EHRQC - INFO - Creating missingness with proportion p = (0.3)\n",
      "2023-10-10 12:33:28,178 - EHRQC - INFO - Data size before dropping nulls: (9923, 18)\n",
      "2023-10-10 12:33:28,179 - EHRQC - INFO - Data size after dropping nulls: (4582, 18)\n",
      "2023-10-10 12:33:28,183 - EHRQC - INFO - Running mean imputation\n",
      "2023-10-10 12:33:28,190 - EHRQC - INFO - Mean imputation R2 score: 0.708255371132662\n",
      "2023-10-10 12:33:28,190 - EHRQC - INFO - Running median imputation\n",
      "2023-10-10 12:33:28,202 - EHRQC - INFO - Median imputation R2 score: 0.7001659899758851\n",
      "2023-10-10 12:33:28,202 - EHRQC - INFO - Running KNN imputation\n",
      "2023-10-10 12:33:30,701 - EHRQC - INFO - KNN imputation R2 score: 0.6765846438202652\n",
      "2023-10-10 12:33:30,702 - EHRQC - INFO - Running MissForest imputation\n",
      "Iteration: 0\n",
      "Iteration: 1\n",
      "Iteration: 2\n",
      "Iteration: 3\n",
      "Iteration: 4\n",
      "Iteration: 5\n",
      "Iteration: 6\n",
      "2023-10-10 12:34:17,929 - EHRQC - INFO - MissForest imputation R2 score: 0.7696971878709983\n",
      "2023-10-10 12:34:17,929 - EHRQC - INFO - Running EM imputation\n",
      "2023-10-10 12:34:37,074 - EHRQC - INFO - EM imputation R2 score: 0.4354239339826087\n",
      "2023-10-10 12:34:37,074 - EHRQC - INFO - Running MI imputation\n",
      "2023-10-10 12:35:14,927 - EHRQC - INFO - MI imputation R2 score: 0.6643858262434298\n",
      "2023-10-10 12:35:14,944 - EHRQC - INFO - mean R2: 0.708255371132662, median R2: 0.7001659899758851, knn R2: 0.6765846438202652, mf R2: 0.7696971878709983, em R2: 0.4354239339826087, mi R2: 0.6643858262434298\n",
      "2023-10-10 12:35:14,945 - EHRQC - INFO - Done!!\n"
     ]
    },
    {
     "data": {
      "text/plain": [
       "0"
      ]
     },
     "execution_count": 5,
     "metadata": {},
     "output_type": "execute_result"
    }
   ],
   "source": [
    "import os\n",
    "\n",
    "os.system(\n",
    "    '''cd /superbugai-data/yash/chapter_1/workspace/EHRQC;'''\n",
    "    +\n",
    "    '''.venv/bin/python -m ehrqc.qc.Impute 'compare' data/icd_cohort_test/lab_measurements_min_icd_dropped.csv -p 0.30'''\n",
    "    )"
   ]
  },
  {
   "cell_type": "markdown",
   "metadata": {},
   "source": [
    "### Missing data imputation at 35 % missingness"
   ]
  },
  {
   "cell_type": "code",
   "execution_count": 6,
   "metadata": {},
   "outputs": [
    {
     "name": "stdout",
     "output_type": "stream",
     "text": [
      "2023-10-10 12:35:16,690 - EHRQC - INFO - Parsing command line arguments\n",
      "2023-10-10 12:35:16,690 - EHRQC - INFO - args.action: compare\n",
      "2023-10-10 12:35:16,691 - EHRQC - INFO - args.source_path: data/icd_cohort_test/lab_measurements_min_icd_dropped.csv\n",
      "2023-10-10 12:35:16,691 - EHRQC - INFO - args.percentage: ['0.35']\n",
      "2023-10-10 12:35:16,691 - EHRQC - INFO - args.save_path: i\n",
      "2023-10-10 12:35:16,691 - EHRQC - INFO - args.algorithm: m\n",
      "2023-10-10 12:35:16,705 - EHRQC - INFO - Creating missingness with proportion p = (0.35)\n",
      "2023-10-10 12:35:16,705 - EHRQC - INFO - Data size before dropping nulls: (9923, 18)\n",
      "2023-10-10 12:35:16,706 - EHRQC - INFO - Data size after dropping nulls: (4582, 18)\n",
      "2023-10-10 12:35:16,710 - EHRQC - INFO - Running mean imputation\n",
      "2023-10-10 12:35:16,717 - EHRQC - INFO - Mean imputation R2 score: 0.6453056645301743\n",
      "2023-10-10 12:35:16,717 - EHRQC - INFO - Running median imputation\n",
      "2023-10-10 12:35:16,730 - EHRQC - INFO - Median imputation R2 score: 0.6341074205185682\n",
      "2023-10-10 12:35:16,730 - EHRQC - INFO - Running KNN imputation\n",
      "2023-10-10 12:35:19,576 - EHRQC - INFO - KNN imputation R2 score: 0.6052820443564509\n",
      "2023-10-10 12:35:19,576 - EHRQC - INFO - Running MissForest imputation\n",
      "Iteration: 0\n",
      "Iteration: 1\n",
      "2023-10-10 12:35:32,949 - EHRQC - INFO - MissForest imputation R2 score: 0.7309299414856274\n",
      "2023-10-10 12:35:32,949 - EHRQC - INFO - Running EM imputation\n",
      "2023-10-10 12:35:56,227 - EHRQC - INFO - EM imputation R2 score: 0.33608970549021344\n",
      "2023-10-10 12:35:56,227 - EHRQC - INFO - Running MI imputation\n",
      "2023-10-10 12:36:33,891 - EHRQC - INFO - MI imputation R2 score: 0.5861025614885647\n",
      "2023-10-10 12:36:33,908 - EHRQC - INFO - mean R2: 0.6453056645301743, median R2: 0.6341074205185682, knn R2: 0.6052820443564509, mf R2: 0.7309299414856274, em R2: 0.33608970549021344, mi R2: 0.5861025614885647\n",
      "2023-10-10 12:36:33,908 - EHRQC - INFO - Done!!\n"
     ]
    },
    {
     "data": {
      "text/plain": [
       "0"
      ]
     },
     "execution_count": 6,
     "metadata": {},
     "output_type": "execute_result"
    }
   ],
   "source": [
    "import os\n",
    "\n",
    "os.system(\n",
    "    '''cd /superbugai-data/yash/chapter_1/workspace/EHRQC;'''\n",
    "    +\n",
    "    '''.venv/bin/python -m ehrqc.qc.Impute 'compare' data/icd_cohort_test/lab_measurements_min_icd_dropped.csv -p 0.35'''\n",
    "    )"
   ]
  },
  {
   "cell_type": "markdown",
   "metadata": {},
   "source": [
    "### Missing data imputation at 40 % missingness"
   ]
  },
  {
   "cell_type": "code",
   "execution_count": 7,
   "metadata": {},
   "outputs": [
    {
     "name": "stdout",
     "output_type": "stream",
     "text": [
      "2023-10-10 12:36:35,643 - EHRQC - INFO - Parsing command line arguments\n",
      "2023-10-10 12:36:35,644 - EHRQC - INFO - args.action: compare\n",
      "2023-10-10 12:36:35,644 - EHRQC - INFO - args.source_path: data/icd_cohort_test/lab_measurements_min_icd_dropped.csv\n",
      "2023-10-10 12:36:35,644 - EHRQC - INFO - args.percentage: ['0.40']\n",
      "2023-10-10 12:36:35,644 - EHRQC - INFO - args.save_path: i\n",
      "2023-10-10 12:36:35,644 - EHRQC - INFO - args.algorithm: m\n",
      "2023-10-10 12:36:35,658 - EHRQC - INFO - Creating missingness with proportion p = (0.4)\n",
      "2023-10-10 12:36:35,658 - EHRQC - INFO - Data size before dropping nulls: (9923, 18)\n",
      "2023-10-10 12:36:35,659 - EHRQC - INFO - Data size after dropping nulls: (4582, 18)\n",
      "2023-10-10 12:36:35,663 - EHRQC - INFO - Running mean imputation\n",
      "2023-10-10 12:36:35,671 - EHRQC - INFO - Mean imputation R2 score: 0.5959090069417629\n",
      "2023-10-10 12:36:35,671 - EHRQC - INFO - Running median imputation\n",
      "2023-10-10 12:36:35,683 - EHRQC - INFO - Median imputation R2 score: 0.5856539219331464\n",
      "2023-10-10 12:36:35,684 - EHRQC - INFO - Running KNN imputation\n",
      "2023-10-10 12:36:38,644 - EHRQC - INFO - KNN imputation R2 score: 0.5477979582095691\n",
      "2023-10-10 12:36:38,645 - EHRQC - INFO - Running MissForest imputation\n",
      "Iteration: 0\n",
      "Iteration: 1\n",
      "Iteration: 2\n",
      "Iteration: 3\n",
      "Iteration: 4\n",
      "Iteration: 5\n",
      "Iteration: 6\n",
      "2023-10-10 12:37:22,486 - EHRQC - INFO - MissForest imputation R2 score: 0.6650642992343445\n",
      "2023-10-10 12:37:22,486 - EHRQC - INFO - Running EM imputation\n",
      "2023-10-10 12:37:48,490 - EHRQC - INFO - EM imputation R2 score: 0.23727584541036606\n",
      "2023-10-10 12:37:48,490 - EHRQC - INFO - Running MI imputation\n",
      "2023-10-10 12:38:25,291 - EHRQC - INFO - MI imputation R2 score: 0.5133606096108405\n",
      "2023-10-10 12:38:25,307 - EHRQC - INFO - mean R2: 0.5959090069417629, median R2: 0.5856539219331464, knn R2: 0.5477979582095691, mf R2: 0.6650642992343445, em R2: 0.23727584541036606, mi R2: 0.5133606096108405\n",
      "2023-10-10 12:38:25,307 - EHRQC - INFO - Done!!\n"
     ]
    },
    {
     "data": {
      "text/plain": [
       "0"
      ]
     },
     "execution_count": 7,
     "metadata": {},
     "output_type": "execute_result"
    }
   ],
   "source": [
    "import os\n",
    "\n",
    "os.system(\n",
    "    '''cd /superbugai-data/yash/chapter_1/workspace/EHRQC;'''\n",
    "    +\n",
    "    '''.venv/bin/python -m ehrqc.qc.Impute 'compare' data/icd_cohort_test/lab_measurements_min_icd_dropped.csv -p 0.40'''\n",
    "    )"
   ]
  },
  {
   "cell_type": "markdown",
   "metadata": {},
   "source": [
    "### Missing data imputation at 16.63 % missingness (actual missing percentage)"
   ]
  },
  {
   "cell_type": "code",
   "execution_count": 8,
   "metadata": {},
   "outputs": [
    {
     "name": "stdout",
     "output_type": "stream",
     "text": [
      "2023-10-10 12:38:27,062 - EHRQC - INFO - Parsing command line arguments\n",
      "2023-10-10 12:38:27,063 - EHRQC - INFO - args.action: compare\n",
      "2023-10-10 12:38:27,063 - EHRQC - INFO - args.source_path: data/icd_cohort_test/lab_measurements_min_icd_dropped.csv\n",
      "2023-10-10 12:38:27,063 - EHRQC - INFO - args.percentage: None\n",
      "2023-10-10 12:38:27,063 - EHRQC - INFO - args.save_path: i\n",
      "2023-10-10 12:38:27,063 - EHRQC - INFO - args.algorithm: m\n",
      "2023-10-10 12:38:27,079 - EHRQC - INFO - Creating missingness with proportion p = (0.16628595742774924)\n",
      "2023-10-10 12:38:27,079 - EHRQC - INFO - Data size before dropping nulls: (9923, 18)\n",
      "2023-10-10 12:38:27,080 - EHRQC - INFO - Data size after dropping nulls: (4582, 18)\n",
      "2023-10-10 12:38:27,084 - EHRQC - INFO - Running mean imputation\n",
      "2023-10-10 12:38:27,091 - EHRQC - INFO - Mean imputation R2 score: 0.8489321064133755\n",
      "2023-10-10 12:38:27,091 - EHRQC - INFO - Running median imputation\n",
      "2023-10-10 12:38:27,103 - EHRQC - INFO - Median imputation R2 score: 0.8437975359743362\n",
      "2023-10-10 12:38:27,103 - EHRQC - INFO - Running KNN imputation\n",
      "2023-10-10 12:38:28,823 - EHRQC - INFO - KNN imputation R2 score: 0.8405381412035504\n",
      "2023-10-10 12:38:28,824 - EHRQC - INFO - Running MissForest imputation\n",
      "Iteration: 0\n",
      "Iteration: 1\n",
      "Iteration: 2\n",
      "Iteration: 3\n",
      "2023-10-10 12:38:58,379 - EHRQC - INFO - MissForest imputation R2 score: 0.899608617407956\n",
      "2023-10-10 12:38:58,379 - EHRQC - INFO - Running EM imputation\n",
      "2023-10-10 12:39:09,146 - EHRQC - INFO - EM imputation R2 score: 0.6995923575268187\n",
      "2023-10-10 12:39:09,146 - EHRQC - INFO - Running MI imputation\n",
      "2023-10-10 12:39:44,025 - EHRQC - INFO - MI imputation R2 score: 0.8380456968507152\n",
      "2023-10-10 12:39:44,040 - EHRQC - INFO - mean R2: 0.8489321064133755, median R2: 0.8437975359743362, knn R2: 0.8405381412035504, mf R2: 0.899608617407956, em R2: 0.6995923575268187, mi R2: 0.8380456968507152\n",
      "2023-10-10 12:39:44,040 - EHRQC - INFO - Done!!\n"
     ]
    },
    {
     "data": {
      "text/plain": [
       "0"
      ]
     },
     "execution_count": 8,
     "metadata": {},
     "output_type": "execute_result"
    }
   ],
   "source": [
    "import os\n",
    "\n",
    "os.system(\n",
    "    '''cd /superbugai-data/yash/chapter_1/workspace/EHRQC;'''\n",
    "    +\n",
    "    '''.venv/bin/python -m ehrqc.qc.Impute 'compare' data/icd_cohort_test/lab_measurements_min_icd_dropped.csv'''\n",
    "    )"
   ]
  },
  {
   "cell_type": "code",
   "execution_count": 4,
   "metadata": {},
   "outputs": [
    {
     "data": {
      "image/png": "[encoded data removed]",
      "text/plain": [
       "<Figure size 900x600 with 1 Axes>"
      ]
     },
     "metadata": {},
     "output_type": "display_data"
    }
   ],
   "source": [
    "import matplotlib.pyplot as plt\n",
    "\n",
    "\n",
    "missingness = list([10, 16.63, 20, 30, 35, 40])\n",
    "r2Mean = list([90.88, 84.89, 80.59, 70.82, 64.53, 59.59])\n",
    "r2Median = list([90.55, 84.37, 80.04, 70.01, 63.41, 58.56])\n",
    "r2Knn = list([90.17, 84.05, 79.50, 67.65, 60.52, 54.77])\n",
    "r2MissForest = list([94.31, 89.96, 86.89, 76.96, 73.09, 66.50])\n",
    "r2Em = list([81.36, 69.95, 62.39, 43.54, 33.60, 23.72])\n",
    "r2Mi = list([90.07, 83.80, 79.31, 66.43, 58.61, 51.33])\n",
    "\n",
    "\n",
    "fig = plt.figure(figsize = (9, 6))\n",
    "\n",
    "# creating the bar plot\n",
    "plt.scatter(missingness, r2Mean, s=[value**4/500000 for value in r2Mean], color='#7fc97f')\n",
    "plt.plot(missingness, r2Mean, color='#7fc97f', label=\"Mean\")\n",
    "plt.scatter(missingness, r2Median, s=[value**4/500000 for value in r2Median], color='#beaed4')\n",
    "plt.plot(missingness, r2Median, color='#beaed4', label=\"Median\")\n",
    "plt.scatter(missingness, r2Knn, s=[value**4/500000 for value in r2Knn], color='#fdc086')\n",
    "plt.plot(missingness, r2Knn, color='#fdc086', label=\"Knn\")\n",
    "plt.scatter(missingness, r2MissForest, s=[value**4/500000 for value in r2MissForest], color='#ffff99')\n",
    "plt.plot(missingness, r2MissForest, color='#ffff99', label=\"MissForest\")\n",
    "plt.scatter(missingness, r2Em, s=[value**4/500000 for value in r2Em], color='#b3cde3')\n",
    "plt.plot(missingness, r2Em, color='#b3cde3', label=\"Em\")\n",
    "plt.scatter(missingness, r2Mi, s=[value**4/500000 for value in r2Mi], color='#fbb4ae')\n",
    "plt.plot(missingness, r2Mi, color='#fbb4ae', label=\"Mi\")\n",
    "\n",
    "\n",
    "plt.xlabel(\"Missingness percentage\")\n",
    "plt.ylabel(\"Reconstructed R-Squared score\")\n",
    "plt.title(\"Missing data imputation performance for different value of missingness\")\n",
    "leg = plt.legend(loc='upper center')\n",
    "plt.show()\n"
   ]
  },
  {
   "cell_type": "markdown",
   "metadata": {},
   "source": [
    "## Removing attributes with more than 25 % missingness"
   ]
  },
  {
   "cell_type": "markdown",
   "metadata": {},
   "source": [
    "### Dropping lab measurements data below the threshold for minimum values"
   ]
  },
  {
   "cell_type": "code",
   "execution_count": 10,
   "metadata": {},
   "outputs": [
    {
     "name": "stdout",
     "output_type": "stream",
     "text": [
      "2023-10-10 12:39:45,465 - Anomalies - INFO - Parsing command line arguments\n",
      "2023-10-10 12:39:45,466 - Anomalies - INFO - Start!!\n",
      "2023-10-10 12:39:45,466 - Anomalies - INFO - args.source_file: data/icd_cohort_test/lab_measurements_min_icd.csv\n",
      "2023-10-10 12:39:45,466 - Anomalies - INFO - args.chunksize: 100\n",
      "2023-10-10 12:39:45,466 - Anomalies - INFO - args.id_columns: ['person_id']\n",
      "2023-10-10 12:39:45,466 - Anomalies - INFO - args.drop: True\n",
      "2023-10-10 12:39:45,466 - Anomalies - INFO - args.percentage: 25.0\n",
      "2023-10-10 12:39:45,466 - Anomalies - INFO - args.save_path: data/icd_cohort_test\n",
      "2023-10-10 12:39:45,466 - Anomalies - INFO - Calculating Missingnes\n",
      "2023-10-10 12:39:45,960 - Anomalies - INFO - Missingness Report\n",
      "2023-10-10 12:39:45,963 - Anomalies - INFO - \n",
      "\n",
      "                column_name  missing_count  total_count  percentage_missing\n",
      "0                   albumin           4400         9923               44.34\n",
      "1                 anion_gap           2374         9923               23.92\n",
      "2                      aptt           3145         9923               31.69\n",
      "3     band_form_neutrophils           6930         9923               69.84\n",
      "4      base_excess_in_blood           5560         9923               56.03\n",
      "5               bicarbonate             51         9923                0.51\n",
      "6                 bilirubin           3613         9923               36.41\n",
      "7       carbondioxide_blood           5555         9923               55.98\n",
      "8       carbondioxide_serum           5553         9923               55.96\n",
      "9            chloride_blood           8677         9923               87.44\n",
      "10           chloride_serum             53         9923                0.53\n",
      "11               creatinine             40         9923                0.40\n",
      "12            glucose_serum             68         9923                0.69\n",
      "13            glucose_urine           9106         9923               91.77\n",
      "14               hematocrit           2359         9923               23.77\n",
      "15               hemoglobin             51         9923                0.51\n",
      "16                      inr           3073         9923               30.97\n",
      "17                  lactate           3293         9923               33.19\n",
      "18    leukocytes_blood_auto           9839         9923               99.15\n",
      "19  leukocytes_blood_manual           2369         9923               23.87\n",
      "20                   oxygen           5556         9923               55.99\n",
      "21                 ph_blood           5373         9923               54.15\n",
      "22             ph_bodyfluid           9801         9923               98.77\n",
      "23           platelet_count           2358         9923               23.76\n",
      "24          potassium_blood           7461         9923               75.19\n",
      "25          potassium_serum             44         9923                0.44\n",
      "26             sodium_blood           8439         9923               85.04\n",
      "27             sodium_serum             46         9923                0.46\n",
      "28            urea_nitrogen           2364         9923               23.82\n",
      "\n",
      "2023-10-10 12:39:45,963 - Anomalies - INFO - Dropping columns with above 25.0 % missingness\n",
      "2023-10-10 12:39:46,031 - Anomalies - INFO - Saving data to lab_measurements_min_icd_dropped.csv\n",
      "2023-10-10 12:39:46,106 - Anomalies - INFO - Done!!\n"
     ]
    },
    {
     "data": {
      "text/plain": [
       "0"
      ]
     },
     "execution_count": 10,
     "metadata": {},
     "output_type": "execute_result"
    }
   ],
   "source": [
    "import os\n",
    "\n",
    "os.system(\n",
    "    '''cd /superbugai-data/yash/chapter_1/workspace/EHRQC;'''\n",
    "    +\n",
    "    '''.venv/bin/python -m ehrqc.qc.Coverage data/icd_cohort_test/lab_measurements_min_icd.csv 100 person_id -d -p 25 -sp data/icd_cohort_test'''\n",
    "    )"
   ]
  },
  {
   "cell_type": "markdown",
   "metadata": {},
   "source": [
    "### Dropping lab measurements data below the threshold for maximum values"
   ]
  },
  {
   "cell_type": "code",
   "execution_count": 11,
   "metadata": {},
   "outputs": [
    {
     "name": "stdout",
     "output_type": "stream",
     "text": [
      "2023-10-10 12:39:46,605 - Anomalies - INFO - Parsing command line arguments\n",
      "2023-10-10 12:39:46,606 - Anomalies - INFO - Start!!\n",
      "2023-10-10 12:39:46,606 - Anomalies - INFO - args.source_file: data/icd_cohort_test/lab_measurements_max_icd.csv\n",
      "2023-10-10 12:39:46,606 - Anomalies - INFO - args.chunksize: 100\n",
      "2023-10-10 12:39:46,606 - Anomalies - INFO - args.id_columns: ['person_id']\n",
      "2023-10-10 12:39:46,606 - Anomalies - INFO - args.drop: True\n",
      "2023-10-10 12:39:46,606 - Anomalies - INFO - args.percentage: 25.0\n",
      "2023-10-10 12:39:46,606 - Anomalies - INFO - args.save_path: data/icd_cohort_test\n",
      "2023-10-10 12:39:46,606 - Anomalies - INFO - Calculating Missingnes\n",
      "2023-10-10 12:39:47,091 - Anomalies - INFO - Missingness Report\n",
      "2023-10-10 12:39:47,094 - Anomalies - INFO - \n",
      "\n",
      "                column_name  missing_count  total_count  percentage_missing\n",
      "0                   albumin           4400         9923               44.34\n",
      "1                 anion_gap           2374         9923               23.92\n",
      "2                      aptt           3145         9923               31.69\n",
      "3     band_form_neutrophils           6930         9923               69.84\n",
      "4      base_excess_in_blood           5560         9923               56.03\n",
      "5               bicarbonate             51         9923                0.51\n",
      "6                 bilirubin           3613         9923               36.41\n",
      "7       carbondioxide_blood           5555         9923               55.98\n",
      "8       carbondioxide_serum           5553         9923               55.96\n",
      "9            chloride_blood           8677         9923               87.44\n",
      "10           chloride_serum             53         9923                0.53\n",
      "11               creatinine             40         9923                0.40\n",
      "12            glucose_serum             68         9923                0.69\n",
      "13            glucose_urine           9106         9923               91.77\n",
      "14               hematocrit           2359         9923               23.77\n",
      "15               hemoglobin             51         9923                0.51\n",
      "16                      inr           3073         9923               30.97\n",
      "17                  lactate           3293         9923               33.19\n",
      "18    leukocytes_blood_auto           9839         9923               99.15\n",
      "19  leukocytes_blood_manual           2369         9923               23.87\n",
      "20                   oxygen           5556         9923               55.99\n",
      "21                 ph_blood           5373         9923               54.15\n",
      "22             ph_bodyfluid           9801         9923               98.77\n",
      "23           platelet_count           2358         9923               23.76\n",
      "24          potassium_blood           7461         9923               75.19\n",
      "25          potassium_serum             44         9923                0.44\n",
      "26             sodium_blood           8439         9923               85.04\n",
      "27             sodium_serum             46         9923                0.46\n",
      "28            urea_nitrogen           2364         9923               23.82\n",
      "\n",
      "2023-10-10 12:39:47,094 - Anomalies - INFO - Dropping columns with above 25.0 % missingness\n",
      "2023-10-10 12:39:47,161 - Anomalies - INFO - Saving data to lab_measurements_max_icd_dropped.csv\n",
      "2023-10-10 12:39:47,249 - Anomalies - INFO - Done!!\n"
     ]
    },
    {
     "data": {
      "text/plain": [
       "0"
      ]
     },
     "execution_count": 11,
     "metadata": {},
     "output_type": "execute_result"
    }
   ],
   "source": [
    "import os\n",
    "\n",
    "os.system(\n",
    "    '''cd /superbugai-data/yash/chapter_1/workspace/EHRQC;'''\n",
    "    +\n",
    "    '''.venv/bin/python -m ehrqc.qc.Coverage data/icd_cohort_test/lab_measurements_max_icd.csv 100 person_id -d -p 25 -sp data/icd_cohort_test'''\n",
    "    )"
   ]
  },
  {
   "cell_type": "markdown",
   "metadata": {},
   "source": [
    "### Dropping lab measurements data below the threshold for average values"
   ]
  },
  {
   "cell_type": "code",
   "execution_count": 12,
   "metadata": {},
   "outputs": [
    {
     "name": "stdout",
     "output_type": "stream",
     "text": [
      "2023-10-10 12:39:47,714 - Anomalies - INFO - Parsing command line arguments\n",
      "2023-10-10 12:39:47,715 - Anomalies - INFO - Start!!\n",
      "2023-10-10 12:39:47,715 - Anomalies - INFO - args.source_file: data/icd_cohort_test/lab_measurements_avg_icd.csv\n",
      "2023-10-10 12:39:47,715 - Anomalies - INFO - args.chunksize: 100\n",
      "2023-10-10 12:39:47,715 - Anomalies - INFO - args.id_columns: ['person_id']\n",
      "2023-10-10 12:39:47,715 - Anomalies - INFO - args.drop: True\n",
      "2023-10-10 12:39:47,715 - Anomalies - INFO - args.percentage: 25.0\n",
      "2023-10-10 12:39:47,715 - Anomalies - INFO - args.save_path: data/icd_cohort_test\n",
      "2023-10-10 12:39:47,716 - Anomalies - INFO - Calculating Missingnes\n",
      "2023-10-10 12:39:48,209 - Anomalies - INFO - Missingness Report\n",
      "2023-10-10 12:39:48,212 - Anomalies - INFO - \n",
      "\n",
      "                column_name  missing_count  total_count  percentage_missing\n",
      "0                   albumin           4400         9923               44.34\n",
      "1                 anion_gap           2374         9923               23.92\n",
      "2                      aptt           3145         9923               31.69\n",
      "3     band_form_neutrophils           6930         9923               69.84\n",
      "4      base_excess_in_blood           5560         9923               56.03\n",
      "5               bicarbonate             51         9923                0.51\n",
      "6                 bilirubin           3613         9923               36.41\n",
      "7       carbondioxide_blood           5555         9923               55.98\n",
      "8       carbondioxide_serum           5553         9923               55.96\n",
      "9            chloride_blood           8677         9923               87.44\n",
      "10           chloride_serum             53         9923                0.53\n",
      "11               creatinine             40         9923                0.40\n",
      "12            glucose_serum             68         9923                0.69\n",
      "13            glucose_urine           9106         9923               91.77\n",
      "14               hematocrit           2359         9923               23.77\n",
      "15               hemoglobin             51         9923                0.51\n",
      "16                      inr           3073         9923               30.97\n",
      "17                  lactate           3293         9923               33.19\n",
      "18    leukocytes_blood_auto           9839         9923               99.15\n",
      "19  leukocytes_blood_manual           2369         9923               23.87\n",
      "20                   oxygen           5556         9923               55.99\n",
      "21                 ph_blood           5373         9923               54.15\n",
      "22             ph_bodyfluid           9801         9923               98.77\n",
      "23           platelet_count           2358         9923               23.76\n",
      "24          potassium_blood           7461         9923               75.19\n",
      "25          potassium_serum             44         9923                0.44\n",
      "26             sodium_blood           8439         9923               85.04\n",
      "27             sodium_serum             46         9923                0.46\n",
      "28            urea_nitrogen           2364         9923               23.82\n",
      "\n",
      "2023-10-10 12:39:48,213 - Anomalies - INFO - Dropping columns with above 25.0 % missingness\n",
      "2023-10-10 12:39:48,280 - Anomalies - INFO - Saving data to lab_measurements_avg_icd_dropped.csv\n",
      "2023-10-10 12:39:48,382 - Anomalies - INFO - Done!!\n"
     ]
    },
    {
     "data": {
      "text/plain": [
       "0"
      ]
     },
     "execution_count": 12,
     "metadata": {},
     "output_type": "execute_result"
    }
   ],
   "source": [
    "import os\n",
    "\n",
    "os.system(\n",
    "    '''cd /superbugai-data/yash/chapter_1/workspace/EHRQC;'''\n",
    "    +\n",
    "    '''.venv/bin/python -m ehrqc.qc.Coverage data/icd_cohort_test/lab_measurements_avg_icd.csv 100 person_id -d -p 25 -sp data/icd_cohort_test'''\n",
    "    )"
   ]
  },
  {
   "cell_type": "markdown",
   "metadata": {},
   "source": [
    "### Dropping lab measurements data below the threshold for standard deviation values"
   ]
  },
  {
   "cell_type": "code",
   "execution_count": 13,
   "metadata": {},
   "outputs": [
    {
     "name": "stdout",
     "output_type": "stream",
     "text": [
      "2023-10-10 12:39:48,875 - Anomalies - INFO - Parsing command line arguments\n",
      "2023-10-10 12:39:48,877 - Anomalies - INFO - Start!!\n",
      "2023-10-10 12:39:48,877 - Anomalies - INFO - args.source_file: data/icd_cohort_test/lab_measurements_stddev_icd.csv\n",
      "2023-10-10 12:39:48,877 - Anomalies - INFO - args.chunksize: 100\n",
      "2023-10-10 12:39:48,877 - Anomalies - INFO - args.id_columns: ['person_id']\n",
      "2023-10-10 12:39:48,877 - Anomalies - INFO - args.drop: True\n",
      "2023-10-10 12:39:48,877 - Anomalies - INFO - args.percentage: 25.0\n",
      "2023-10-10 12:39:48,877 - Anomalies - INFO - args.save_path: data/icd_cohort_test\n",
      "2023-10-10 12:39:48,877 - Anomalies - INFO - Calculating Missingnes\n",
      "2023-10-10 12:39:49,371 - Anomalies - INFO - Missingness Report\n",
      "2023-10-10 12:39:49,374 - Anomalies - INFO - \n",
      "\n",
      "                column_name  missing_count  total_count  percentage_missing\n",
      "0                   albumin           6433         9923               64.83\n",
      "1                 anion_gap           2581         9923               26.01\n",
      "2                      aptt           4092         9923               41.24\n",
      "3     band_form_neutrophils           7982         9923               80.44\n",
      "4      base_excess_in_blood           6227         9923               62.75\n",
      "5               bicarbonate            324         9923                3.27\n",
      "6                 bilirubin           4938         9923               49.76\n",
      "7       carbondioxide_blood           6224         9923               62.72\n",
      "8       carbondioxide_serum           6221         9923               62.69\n",
      "9            chloride_blood           9165         9923               92.36\n",
      "10           chloride_serum            328         9923                3.31\n",
      "11               creatinine            323         9923                3.26\n",
      "12            glucose_serum            332         9923                3.35\n",
      "13            glucose_urine           9563         9923               96.37\n",
      "14               hematocrit           2552         9923               25.72\n",
      "15               hemoglobin            341         9923                3.44\n",
      "16                      inr           3973         9923               40.04\n",
      "17                  lactate           4482         9923               45.17\n",
      "18    leukocytes_blood_auto           9889         9923               99.66\n",
      "19  leukocytes_blood_manual           2564         9923               25.84\n",
      "20                   oxygen           6227         9923               62.75\n",
      "21                 ph_blood           6057         9923               61.04\n",
      "22             ph_bodyfluid           9874         9923               99.51\n",
      "23           platelet_count           2559         9923               25.79\n",
      "24          potassium_blood           8262         9923               83.26\n",
      "25          potassium_serum            329         9923                3.32\n",
      "26             sodium_blood           8995         9923               90.65\n",
      "27             sodium_serum            329         9923                3.32\n",
      "28            urea_nitrogen           2576         9923               25.96\n",
      "\n",
      "2023-10-10 12:39:49,374 - Anomalies - INFO - Dropping columns with above 25.0 % missingness\n",
      "2023-10-10 12:39:49,439 - Anomalies - INFO - Saving data to lab_measurements_stddev_icd_dropped.csv\n",
      "2023-10-10 12:39:49,523 - Anomalies - INFO - Done!!\n"
     ]
    },
    {
     "data": {
      "text/plain": [
       "0"
      ]
     },
     "execution_count": 13,
     "metadata": {},
     "output_type": "execute_result"
    }
   ],
   "source": [
    "import os\n",
    "\n",
    "os.system(\n",
    "    '''cd /superbugai-data/yash/chapter_1/workspace/EHRQC;'''\n",
    "    +\n",
    "    '''.venv/bin/python -m ehrqc.qc.Coverage data/icd_cohort_test/lab_measurements_stddev_icd.csv 100 person_id -d -p 25 -sp data/icd_cohort_test'''\n",
    "    )"
   ]
  },
  {
   "cell_type": "markdown",
   "metadata": {},
   "source": [
    "### Dropping lab measurements data below the threshold for first values"
   ]
  },
  {
   "cell_type": "code",
   "execution_count": 14,
   "metadata": {},
   "outputs": [
    {
     "name": "stdout",
     "output_type": "stream",
     "text": [
      "2023-10-10 12:39:49,970 - Anomalies - INFO - Parsing command line arguments\n",
      "2023-10-10 12:39:49,972 - Anomalies - INFO - Start!!\n",
      "2023-10-10 12:39:49,972 - Anomalies - INFO - args.source_file: data/icd_cohort_test/lab_measurements_first_icd.csv\n",
      "2023-10-10 12:39:49,972 - Anomalies - INFO - args.chunksize: 100\n",
      "2023-10-10 12:39:49,972 - Anomalies - INFO - args.id_columns: ['person_id']\n",
      "2023-10-10 12:39:49,972 - Anomalies - INFO - args.drop: True\n",
      "2023-10-10 12:39:49,972 - Anomalies - INFO - args.percentage: 25.0\n",
      "2023-10-10 12:39:49,972 - Anomalies - INFO - args.save_path: data/icd_cohort_test\n",
      "2023-10-10 12:39:49,972 - Anomalies - INFO - Calculating Missingnes\n",
      "2023-10-10 12:39:50,454 - Anomalies - INFO - Missingness Report\n",
      "2023-10-10 12:39:50,457 - Anomalies - INFO - \n",
      "\n",
      "                column_name  missing_count  total_count  percentage_missing\n",
      "0                   albumin           4400         9923               44.34\n",
      "1                 anion_gap           2374         9923               23.92\n",
      "2                      aptt           3145         9923               31.69\n",
      "3     band_form_neutrophils           6930         9923               69.84\n",
      "4      base_excess_in_blood           5560         9923               56.03\n",
      "5               bicarbonate             51         9923                0.51\n",
      "6                 bilirubin           3613         9923               36.41\n",
      "7       carbondioxide_blood           5555         9923               55.98\n",
      "8       carbondioxide_serum           5553         9923               55.96\n",
      "9            chloride_blood           8677         9923               87.44\n",
      "10           chloride_serum             53         9923                0.53\n",
      "11               creatinine             40         9923                0.40\n",
      "12            glucose_serum             68         9923                0.69\n",
      "13            glucose_urine           9106         9923               91.77\n",
      "14               hematocrit           2359         9923               23.77\n",
      "15               hemoglobin             51         9923                0.51\n",
      "16                      inr           3073         9923               30.97\n",
      "17                  lactate           3293         9923               33.19\n",
      "18    leukocytes_blood_auto           9839         9923               99.15\n",
      "19  leukocytes_blood_manual           2369         9923               23.87\n",
      "20                   oxygen           5556         9923               55.99\n",
      "21                 ph_blood           5373         9923               54.15\n",
      "22             ph_bodyfluid           9801         9923               98.77\n",
      "23           platelet_count           2358         9923               23.76\n",
      "24          potassium_blood           7461         9923               75.19\n",
      "25          potassium_serum             44         9923                0.44\n",
      "26             sodium_blood           8439         9923               85.04\n",
      "27             sodium_serum             46         9923                0.46\n",
      "28            urea_nitrogen           2364         9923               23.82\n",
      "\n",
      "2023-10-10 12:39:50,457 - Anomalies - INFO - Dropping columns with above 25.0 % missingness\n",
      "2023-10-10 12:39:50,524 - Anomalies - INFO - Saving data to lab_measurements_first_icd_dropped.csv\n",
      "2023-10-10 12:39:50,598 - Anomalies - INFO - Done!!\n"
     ]
    },
    {
     "data": {
      "text/plain": [
       "0"
      ]
     },
     "execution_count": 14,
     "metadata": {},
     "output_type": "execute_result"
    }
   ],
   "source": [
    "import os\n",
    "\n",
    "os.system(\n",
    "    '''cd /superbugai-data/yash/chapter_1/workspace/EHRQC;'''\n",
    "    +\n",
    "    '''.venv/bin/python -m ehrqc.qc.Coverage data/icd_cohort_test/lab_measurements_first_icd.csv 100 person_id -d -p 25 -sp data/icd_cohort_test'''\n",
    "    )"
   ]
  },
  {
   "cell_type": "markdown",
   "metadata": {},
   "source": [
    "### Dropping lab measurements data below the threshold for last values"
   ]
  },
  {
   "cell_type": "code",
   "execution_count": 15,
   "metadata": {},
   "outputs": [
    {
     "name": "stdout",
     "output_type": "stream",
     "text": [
      "2023-10-10 12:39:51,055 - Anomalies - INFO - Parsing command line arguments\n",
      "2023-10-10 12:39:51,056 - Anomalies - INFO - Start!!\n",
      "2023-10-10 12:39:51,056 - Anomalies - INFO - args.source_file: data/icd_cohort_test/lab_measurements_last_icd.csv\n",
      "2023-10-10 12:39:51,056 - Anomalies - INFO - args.chunksize: 100\n",
      "2023-10-10 12:39:51,056 - Anomalies - INFO - args.id_columns: ['person_id']\n",
      "2023-10-10 12:39:51,056 - Anomalies - INFO - args.drop: True\n",
      "2023-10-10 12:39:51,057 - Anomalies - INFO - args.percentage: 25.0\n",
      "2023-10-10 12:39:51,057 - Anomalies - INFO - args.save_path: data/icd_cohort_test\n",
      "2023-10-10 12:39:51,057 - Anomalies - INFO - Calculating Missingnes\n",
      "2023-10-10 12:39:51,560 - Anomalies - INFO - Missingness Report\n",
      "2023-10-10 12:39:51,563 - Anomalies - INFO - \n",
      "\n",
      "                column_name  missing_count  total_count  percentage_missing\n",
      "0                   albumin           4400         9923               44.34\n",
      "1                 anion_gap           2374         9923               23.92\n",
      "2                      aptt           3145         9923               31.69\n",
      "3     band_form_neutrophils           6930         9923               69.84\n",
      "4      base_excess_in_blood           5560         9923               56.03\n",
      "5               bicarbonate             51         9923                0.51\n",
      "6                 bilirubin           3613         9923               36.41\n",
      "7       carbondioxide_blood           5555         9923               55.98\n",
      "8       carbondioxide_serum           5553         9923               55.96\n",
      "9            chloride_blood           8677         9923               87.44\n",
      "10           chloride_serum             53         9923                0.53\n",
      "11               creatinine             40         9923                0.40\n",
      "12            glucose_serum             68         9923                0.69\n",
      "13            glucose_urine           9106         9923               91.77\n",
      "14               hematocrit           2359         9923               23.77\n",
      "15               hemoglobin             51         9923                0.51\n",
      "16                      inr           3073         9923               30.97\n",
      "17                  lactate           3293         9923               33.19\n",
      "18    leukocytes_blood_auto           9839         9923               99.15\n",
      "19  leukocytes_blood_manual           2369         9923               23.87\n",
      "20                   oxygen           5556         9923               55.99\n",
      "21                 ph_blood           5373         9923               54.15\n",
      "22             ph_bodyfluid           9801         9923               98.77\n",
      "23           platelet_count           2358         9923               23.76\n",
      "24          potassium_blood           7461         9923               75.19\n",
      "25          potassium_serum             44         9923                0.44\n",
      "26             sodium_blood           8439         9923               85.04\n",
      "27             sodium_serum             46         9923                0.46\n",
      "28            urea_nitrogen           2364         9923               23.82\n",
      "\n",
      "2023-10-10 12:39:51,563 - Anomalies - INFO - Dropping columns with above 25.0 % missingness\n",
      "2023-10-10 12:39:51,633 - Anomalies - INFO - Saving data to lab_measurements_last_icd_dropped.csv\n",
      "2023-10-10 12:39:51,708 - Anomalies - INFO - Done!!\n"
     ]
    },
    {
     "data": {
      "text/plain": [
       "0"
      ]
     },
     "execution_count": 15,
     "metadata": {},
     "output_type": "execute_result"
    }
   ],
   "source": [
    "import os\n",
    "\n",
    "os.system(\n",
    "    '''cd /superbugai-data/yash/chapter_1/workspace/EHRQC;'''\n",
    "    +\n",
    "    '''.venv/bin/python -m ehrqc.qc.Coverage data/icd_cohort_test/lab_measurements_last_icd.csv 100 person_id -d -p 25 -sp data/icd_cohort_test'''\n",
    "    )"
   ]
  },
  {
   "cell_type": "markdown",
   "metadata": {},
   "source": [
    "## Read individual files"
   ]
  },
  {
   "cell_type": "code",
   "execution_count": 16,
   "metadata": {},
   "outputs": [],
   "source": [
    "import pandas as pd\n",
    "\n",
    "demographics =  pd.read_csv('/superbugai-data/yash/chapter_1/workspace/EHRQC/data/icd_cohort_test/demographics_icd.csv')\n",
    "vitals_min =  pd.read_csv('/superbugai-data/yash/chapter_1/workspace/EHRQC/data/icd_cohort_test/vitals_min_icd.csv')\n",
    "vitals_max =  pd.read_csv('/superbugai-data/yash/chapter_1/workspace/EHRQC/data/icd_cohort_test/vitals_max_icd.csv')\n",
    "vitals_avg =  pd.read_csv('/superbugai-data/yash/chapter_1/workspace/EHRQC/data/icd_cohort_test/vitals_avg_icd.csv')\n",
    "vitals_stddev =  pd.read_csv('/superbugai-data/yash/chapter_1/workspace/EHRQC/data/icd_cohort_test/vitals_stddev_icd.csv')\n",
    "vitals_first =  pd.read_csv('/superbugai-data/yash/chapter_1/workspace/EHRQC/data/icd_cohort_test/vitals_first_icd.csv')\n",
    "vitals_last =  pd.read_csv('/superbugai-data/yash/chapter_1/workspace/EHRQC/data/icd_cohort_test/vitals_last_icd.csv')\n",
    "lab_measurements_min =  pd.read_csv('/superbugai-data/yash/chapter_1/workspace/EHRQC/data/icd_cohort_test/lab_measurements_min_icd_dropped.csv')\n",
    "lab_measurements_max =  pd.read_csv('/superbugai-data/yash/chapter_1/workspace/EHRQC/data/icd_cohort_test/lab_measurements_max_icd_dropped.csv')\n",
    "lab_measurements_avg =  pd.read_csv('/superbugai-data/yash/chapter_1/workspace/EHRQC/data/icd_cohort_test/lab_measurements_avg_icd_dropped.csv')\n",
    "lab_measurements_stddev =  pd.read_csv('/superbugai-data/yash/chapter_1/workspace/EHRQC/data/icd_cohort_test/lab_measurements_stddev_icd_dropped.csv')\n",
    "lab_measurements_first =  pd.read_csv('/superbugai-data/yash/chapter_1/workspace/EHRQC/data/icd_cohort_test/lab_measurements_first_icd_dropped.csv')\n",
    "lab_measurements_last =  pd.read_csv('/superbugai-data/yash/chapter_1/workspace/EHRQC/data/icd_cohort_test/lab_measurements_last_icd_dropped.csv')"
   ]
  },
  {
   "cell_type": "code",
   "execution_count": 17,
   "metadata": {},
   "outputs": [
    {
     "data": {
      "text/plain": [
       "(12241, 4)"
      ]
     },
     "execution_count": 17,
     "metadata": {},
     "output_type": "execute_result"
    }
   ],
   "source": [
    "demographics.shape"
   ]
  },
  {
   "cell_type": "code",
   "execution_count": 18,
   "metadata": {},
   "outputs": [
    {
     "data": {
      "text/plain": [
       "((5185, 11), (5185, 11), (5185, 11), (5185, 11), (5185, 11), (5185, 11))"
      ]
     },
     "execution_count": 18,
     "metadata": {},
     "output_type": "execute_result"
    }
   ],
   "source": [
    "vitals_min.shape, vitals_max.shape, vitals_avg.shape, vitals_stddev.shape, vitals_first.shape, vitals_last.shape"
   ]
  },
  {
   "cell_type": "code",
   "execution_count": 19,
   "metadata": {},
   "outputs": [
    {
     "data": {
      "text/plain": [
       "((9923, 13), (9923, 13), (9923, 13), (9923, 8), (9923, 13), (9923, 13))"
      ]
     },
     "execution_count": 19,
     "metadata": {},
     "output_type": "execute_result"
    }
   ],
   "source": [
    "lab_measurements_min.shape, lab_measurements_max.shape, lab_measurements_avg.shape, lab_measurements_stddev.shape, lab_measurements_first.shape, lab_measurements_last.shape"
   ]
  },
  {
   "cell_type": "markdown",
   "metadata": {},
   "source": [
    "## Conclusion"
   ]
  },
  {
   "cell_type": "markdown",
   "metadata": {},
   "source": [
    "As observed in the coverage analysis, the vitals data has good coverage, but the lab measurements are sparse.\n",
    "\n",
    "So, we have have performed an analysis to determine the best value for a low coverage threshold below which an attribute (column) is not considered for further analysis. From this analysis, we concluded that 25% cutoff is a reasonable compromise. Hence, we proceeded to drop all the attrbiutes that are below 25 % coverage from further analysis."
   ]
  }
 ],
 "metadata": {
  "kernelspec": {
   "display_name": ".venv",
   "language": "python",
   "name": "python3"
  },
  "language_info": {
   "codemirror_mode": {
    "name": "ipython",
    "version": 3
   },
   "file_extension": ".py",
   "mimetype": "text/x-python",
   "name": "python",
   "nbconvert_exporter": "python",
   "pygments_lexer": "ipython3",
   "version": "3.9.5"
  },
  "orig_nbformat": 4
 },
 "nbformat": 4,
 "nbformat_minor": 2
}
