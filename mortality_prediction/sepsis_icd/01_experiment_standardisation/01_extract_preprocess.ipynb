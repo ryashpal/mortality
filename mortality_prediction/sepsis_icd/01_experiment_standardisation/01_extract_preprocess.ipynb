{
 "cells": [
  {
   "cell_type": "markdown",
   "metadata": {},
   "source": [
    "# Experiment to study the effect of standardisation"
   ]
  },
  {
   "cell_type": "markdown",
   "metadata": {},
   "source": [
    "## Define data directory\n",
    "\n",
    "A top level directory to store all the data for this experiment"
   ]
  },
  {
   "cell_type": "code",
   "execution_count": 2,
   "metadata": {},
   "outputs": [],
   "source": [
    "dataDirName = '/home/yram0006/phd/chapter_2/workspace/mortality_data/standardisation_experiment/'"
   ]
  },
  {
   "cell_type": "markdown",
   "metadata": {},
   "source": [
    "## Data Extraction"
   ]
  },
  {
   "cell_type": "markdown",
   "metadata": {},
   "source": [
    "### Extract data"
   ]
  },
  {
   "cell_type": "code",
   "execution_count": 2,
   "metadata": {},
   "outputs": [
    {
     "name": "stdout",
     "output_type": "stream",
     "text": [
      "2023-09-21 11:04:06,728 - EHRQC - INFO - Parsing command line arguments\n",
      "2023-09-21 11:04:06,729 - EHRQC - INFO - args.save_path: /home/yram0006/phd/chapter_2/workspace/mortality_data/standardisation_experiment/extract/cohort_icd.csv\n",
      "2023-09-21 11:04:06,729 - EHRQC - INFO - args.schema_name: omop_cdm\n",
      "2023-09-21 11:04:06,729 - EHRQC - INFO - args.cohort_type: icd\n",
      "2023-09-21 11:04:07,720 - EHRQC - INFO - extracting data\n"
     ]
    },
    {
     "name": "stderr",
     "output_type": "stream",
     "text": [
      "/superbugai-data/yash/chapter_1/workspace/EHRQC/.venv/lib/python3.9/site-packages/pandas/io/sql.py:761: UserWarning: pandas only support SQLAlchemy connectable(engine/connection) ordatabase string URI or sqlite3 DBAPI2 connectionother DBAPI2 objects are not tested, please consider using SQLAlchemy\n",
      "  warnings.warn(\n"
     ]
    },
    {
     "name": "stdout",
     "output_type": "stream",
     "text": [
      "2023-09-21 11:04:09,560 - EHRQC - INFO - Saving raw data to file\n",
      "2023-09-21 11:04:11,233 - EHRQC - INFO - Parsing command line arguments\n",
      "2023-09-21 11:04:11,234 - EHRQC - INFO - args.save_path: /home/yram0006/phd/chapter_2/workspace/mortality_data/standardisation_experiment/extract/demographics_icd.csv\n",
      "2023-09-21 11:04:11,234 - EHRQC - INFO - args.cohort_path: /home/yram0006/phd/chapter_2/workspace/mortality_data/standardisation_experiment/extract/cohort_icd.csv\n",
      "2023-09-21 11:04:11,234 - EHRQC - INFO - args.schema_name: omop_cdm\n",
      "2023-09-21 11:04:11,234 - EHRQC - INFO - args.data_type: demographics\n",
      "2023-09-21 11:04:11,234 - EHRQC - INFO - args.agg_function: min\n",
      "2023-09-21 11:04:11,234 - EHRQC - INFO - args.before: 24\n",
      "2023-09-21 11:04:11,235 - EHRQC - INFO - args.after: 24\n",
      "2023-09-21 11:04:11,255 - EHRQC - INFO - Creating table: omop_cdm.COHORT\n",
      "2023-09-21 11:04:11,260 - EHRQC - INFO - Table: omop_cdm.COHORT created successfully!!\n",
      "2023-09-21 11:04:11,260 - EHRQC - INFO - Saving cohort to table: omop_cdm.COHORT\n",
      "2023-09-21 11:04:11,508 - EHRQC - INFO - Cohort data saved successfully!!\n",
      "2023-09-21 11:04:11,508 - EHRQC - INFO - extracting data\n"
     ]
    },
    {
     "name": "stderr",
     "output_type": "stream",
     "text": [
      "/superbugai-data/yash/chapter_1/workspace/EHRQC/.venv/lib/python3.9/site-packages/pandas/io/sql.py:761: UserWarning: pandas only support SQLAlchemy connectable(engine/connection) ordatabase string URI or sqlite3 DBAPI2 connectionother DBAPI2 objects are not tested, please consider using SQLAlchemy\n",
      "  warnings.warn(\n"
     ]
    },
    {
     "name": "stdout",
     "output_type": "stream",
     "text": [
      "2023-09-21 11:04:12,514 - EHRQC - INFO - Saving raw data to file\n",
      "2023-09-21 11:04:14,163 - EHRQC - INFO - Parsing command line arguments\n",
      "2023-09-21 11:04:14,164 - EHRQC - INFO - args.save_path: /home/yram0006/phd/chapter_2/workspace/mortality_data/standardisation_experiment/extract/deaths.csv\n",
      "2023-09-21 11:04:14,164 - EHRQC - INFO - args.cohort_path: /home/yram0006/phd/chapter_2/workspace/mortality_data/standardisation_experiment/extract/cohort_icd.csv\n",
      "2023-09-21 11:04:14,164 - EHRQC - INFO - args.schema_name: omop_cdm\n",
      "2023-09-21 11:04:14,164 - EHRQC - INFO - args.data_type: deaths\n",
      "2023-09-21 11:04:14,164 - EHRQC - INFO - args.agg_function: min\n",
      "2023-09-21 11:04:14,164 - EHRQC - INFO - args.before: 24\n",
      "2023-09-21 11:04:14,164 - EHRQC - INFO - args.after: 24\n",
      "2023-09-21 11:04:14,184 - EHRQC - INFO - Creating table: omop_cdm.COHORT\n",
      "2023-09-21 11:04:14,189 - EHRQC - INFO - Table: omop_cdm.COHORT created successfully!!\n",
      "2023-09-21 11:04:14,189 - EHRQC - INFO - Saving cohort to table: omop_cdm.COHORT\n",
      "2023-09-21 11:04:14,427 - EHRQC - INFO - Cohort data saved successfully!!\n",
      "2023-09-21 11:04:14,427 - EHRQC - INFO - extracting data\n",
      "2023-09-21 11:04:14,456 - EHRQC - INFO - Saving raw data to file\n"
     ]
    },
    {
     "name": "stderr",
     "output_type": "stream",
     "text": [
      "/superbugai-data/yash/chapter_1/workspace/EHRQC/.venv/lib/python3.9/site-packages/pandas/io/sql.py:761: UserWarning: pandas only support SQLAlchemy connectable(engine/connection) ordatabase string URI or sqlite3 DBAPI2 connectionother DBAPI2 objects are not tested, please consider using SQLAlchemy\n",
      "  warnings.warn(\n"
     ]
    },
    {
     "name": "stdout",
     "output_type": "stream",
     "text": [
      "2023-09-21 11:04:16,132 - EHRQC - INFO - Parsing command line arguments\n",
      "2023-09-21 11:04:16,133 - EHRQC - INFO - args.save_path: /home/yram0006/phd/chapter_2/workspace/mortality_data/standardisation_experiment/extract/vitals_min_icd.csv\n",
      "2023-09-21 11:04:16,133 - EHRQC - INFO - args.cohort_path: /home/yram0006/phd/chapter_2/workspace/mortality_data/standardisation_experiment/extract/cohort_icd.csv\n",
      "2023-09-21 11:04:16,133 - EHRQC - INFO - args.schema_name: omop_cdm\n",
      "2023-09-21 11:04:16,133 - EHRQC - INFO - args.data_type: vitals\n",
      "2023-09-21 11:04:16,133 - EHRQC - INFO - args.agg_function: min\n",
      "2023-09-21 11:04:16,133 - EHRQC - INFO - args.before: 0\n",
      "2023-09-21 11:04:16,133 - EHRQC - INFO - args.after: 24\n",
      "2023-09-21 11:04:16,152 - EHRQC - INFO - Creating table: omop_cdm.COHORT\n",
      "2023-09-21 11:04:16,157 - EHRQC - INFO - Table: omop_cdm.COHORT created successfully!!\n",
      "2023-09-21 11:04:16,157 - EHRQC - INFO - Saving cohort to table: omop_cdm.COHORT\n",
      "2023-09-21 11:04:16,407 - EHRQC - INFO - Cohort data saved successfully!!\n",
      "2023-09-21 11:04:16,407 - EHRQC - INFO - extracting data\n"
     ]
    },
    {
     "name": "stderr",
     "output_type": "stream",
     "text": [
      "/superbugai-data/yash/chapter_1/workspace/EHRQC/.venv/lib/python3.9/site-packages/pandas/io/sql.py:761: UserWarning: pandas only support SQLAlchemy connectable(engine/connection) ordatabase string URI or sqlite3 DBAPI2 connectionother DBAPI2 objects are not tested, please consider using SQLAlchemy\n",
      "  warnings.warn(\n"
     ]
    },
    {
     "name": "stdout",
     "output_type": "stream",
     "text": [
      "2023-09-21 11:06:18,435 - EHRQC - INFO - Saving raw data to file\n",
      "2023-09-21 11:06:20,358 - EHRQC - INFO - Parsing command line arguments\n",
      "2023-09-21 11:06:20,359 - EHRQC - INFO - args.save_path: /home/yram0006/phd/chapter_2/workspace/mortality_data/standardisation_experiment/extract/vitals_max_icd.csv\n",
      "2023-09-21 11:06:20,359 - EHRQC - INFO - args.cohort_path: /home/yram0006/phd/chapter_2/workspace/mortality_data/standardisation_experiment/extract/cohort_icd.csv\n",
      "2023-09-21 11:06:20,359 - EHRQC - INFO - args.schema_name: omop_cdm\n",
      "2023-09-21 11:06:20,359 - EHRQC - INFO - args.data_type: vitals\n",
      "2023-09-21 11:06:20,359 - EHRQC - INFO - args.agg_function: max\n",
      "2023-09-21 11:06:20,359 - EHRQC - INFO - args.before: 0\n",
      "2023-09-21 11:06:20,359 - EHRQC - INFO - args.after: 24\n",
      "2023-09-21 11:06:20,452 - EHRQC - INFO - Creating table: omop_cdm.COHORT\n",
      "2023-09-21 11:06:20,462 - EHRQC - INFO - Table: omop_cdm.COHORT created successfully!!\n",
      "2023-09-21 11:06:20,462 - EHRQC - INFO - Saving cohort to table: omop_cdm.COHORT\n",
      "2023-09-21 11:06:20,698 - EHRQC - INFO - Cohort data saved successfully!!\n",
      "2023-09-21 11:06:20,698 - EHRQC - INFO - extracting data\n"
     ]
    },
    {
     "name": "stderr",
     "output_type": "stream",
     "text": [
      "/superbugai-data/yash/chapter_1/workspace/EHRQC/.venv/lib/python3.9/site-packages/pandas/io/sql.py:761: UserWarning: pandas only support SQLAlchemy connectable(engine/connection) ordatabase string URI or sqlite3 DBAPI2 connectionother DBAPI2 objects are not tested, please consider using SQLAlchemy\n",
      "  warnings.warn(\n"
     ]
    },
    {
     "name": "stdout",
     "output_type": "stream",
     "text": [
      "2023-09-21 11:08:12,426 - EHRQC - INFO - Saving raw data to file\n",
      "2023-09-21 11:08:14,160 - EHRQC - INFO - Parsing command line arguments\n",
      "2023-09-21 11:08:14,161 - EHRQC - INFO - args.save_path: /home/yram0006/phd/chapter_2/workspace/mortality_data/standardisation_experiment/extract/vitals_avg_icd.csv\n",
      "2023-09-21 11:08:14,161 - EHRQC - INFO - args.cohort_path: /home/yram0006/phd/chapter_2/workspace/mortality_data/standardisation_experiment/extract/cohort_icd.csv\n",
      "2023-09-21 11:08:14,161 - EHRQC - INFO - args.schema_name: omop_cdm\n",
      "2023-09-21 11:08:14,161 - EHRQC - INFO - args.data_type: vitals\n",
      "2023-09-21 11:08:14,161 - EHRQC - INFO - args.agg_function: avg\n",
      "2023-09-21 11:08:14,161 - EHRQC - INFO - args.before: 0\n",
      "2023-09-21 11:08:14,161 - EHRQC - INFO - args.after: 24\n",
      "2023-09-21 11:08:14,183 - EHRQC - INFO - Creating table: omop_cdm.COHORT\n",
      "2023-09-21 11:08:14,188 - EHRQC - INFO - Table: omop_cdm.COHORT created successfully!!\n",
      "2023-09-21 11:08:14,188 - EHRQC - INFO - Saving cohort to table: omop_cdm.COHORT\n",
      "2023-09-21 11:08:14,424 - EHRQC - INFO - Cohort data saved successfully!!\n",
      "2023-09-21 11:08:14,424 - EHRQC - INFO - extracting data\n"
     ]
    },
    {
     "name": "stderr",
     "output_type": "stream",
     "text": [
      "/superbugai-data/yash/chapter_1/workspace/EHRQC/.venv/lib/python3.9/site-packages/pandas/io/sql.py:761: UserWarning: pandas only support SQLAlchemy connectable(engine/connection) ordatabase string URI or sqlite3 DBAPI2 connectionother DBAPI2 objects are not tested, please consider using SQLAlchemy\n",
      "  warnings.warn(\n"
     ]
    },
    {
     "name": "stdout",
     "output_type": "stream",
     "text": [
      "2023-09-21 11:10:06,107 - EHRQC - INFO - Saving raw data to file\n",
      "2023-09-21 11:10:07,790 - EHRQC - INFO - Parsing command line arguments\n",
      "2023-09-21 11:10:07,791 - EHRQC - INFO - args.save_path: /home/yram0006/phd/chapter_2/workspace/mortality_data/standardisation_experiment/extract/vitals_stddev_icd.csv\n",
      "2023-09-21 11:10:07,792 - EHRQC - INFO - args.cohort_path: /home/yram0006/phd/chapter_2/workspace/mortality_data/standardisation_experiment/extract/cohort_icd.csv\n",
      "2023-09-21 11:10:07,792 - EHRQC - INFO - args.schema_name: omop_cdm\n",
      "2023-09-21 11:10:07,792 - EHRQC - INFO - args.data_type: vitals\n",
      "2023-09-21 11:10:07,792 - EHRQC - INFO - args.agg_function: stddev\n",
      "2023-09-21 11:10:07,792 - EHRQC - INFO - args.before: 0\n",
      "2023-09-21 11:10:07,792 - EHRQC - INFO - args.after: 24\n",
      "2023-09-21 11:10:07,813 - EHRQC - INFO - Creating table: omop_cdm.COHORT\n",
      "2023-09-21 11:10:07,822 - EHRQC - INFO - Table: omop_cdm.COHORT created successfully!!\n",
      "2023-09-21 11:10:07,822 - EHRQC - INFO - Saving cohort to table: omop_cdm.COHORT\n",
      "2023-09-21 11:10:08,063 - EHRQC - INFO - Cohort data saved successfully!!\n",
      "2023-09-21 11:10:08,063 - EHRQC - INFO - extracting data\n"
     ]
    },
    {
     "name": "stderr",
     "output_type": "stream",
     "text": [
      "/superbugai-data/yash/chapter_1/workspace/EHRQC/.venv/lib/python3.9/site-packages/pandas/io/sql.py:761: UserWarning: pandas only support SQLAlchemy connectable(engine/connection) ordatabase string URI or sqlite3 DBAPI2 connectionother DBAPI2 objects are not tested, please consider using SQLAlchemy\n",
      "  warnings.warn(\n"
     ]
    },
    {
     "name": "stdout",
     "output_type": "stream",
     "text": [
      "2023-09-21 11:11:59,744 - EHRQC - INFO - Saving raw data to file\n",
      "2023-09-21 11:12:01,458 - EHRQC - INFO - Parsing command line arguments\n",
      "2023-09-21 11:12:01,459 - EHRQC - INFO - args.save_path: /home/yram0006/phd/chapter_2/workspace/mortality_data/standardisation_experiment/extract/vitals_first_icd.csv\n",
      "2023-09-21 11:12:01,459 - EHRQC - INFO - args.cohort_path: /home/yram0006/phd/chapter_2/workspace/mortality_data/standardisation_experiment/extract/cohort_icd.csv\n",
      "2023-09-21 11:12:01,459 - EHRQC - INFO - args.schema_name: omop_cdm\n",
      "2023-09-21 11:12:01,459 - EHRQC - INFO - args.data_type: vitals\n",
      "2023-09-21 11:12:01,459 - EHRQC - INFO - args.agg_function: first\n",
      "2023-09-21 11:12:01,459 - EHRQC - INFO - args.before: 0\n",
      "2023-09-21 11:12:01,459 - EHRQC - INFO - args.after: 24\n",
      "2023-09-21 11:12:01,479 - EHRQC - INFO - Creating table: omop_cdm.COHORT\n",
      "2023-09-21 11:12:01,487 - EHRQC - INFO - Table: omop_cdm.COHORT created successfully!!\n",
      "2023-09-21 11:12:01,487 - EHRQC - INFO - Saving cohort to table: omop_cdm.COHORT\n",
      "2023-09-21 11:12:01,718 - EHRQC - INFO - Cohort data saved successfully!!\n",
      "2023-09-21 11:12:01,718 - EHRQC - INFO - extracting data\n"
     ]
    },
    {
     "name": "stderr",
     "output_type": "stream",
     "text": [
      "/superbugai-data/yash/chapter_1/workspace/EHRQC/.venv/lib/python3.9/site-packages/pandas/io/sql.py:761: UserWarning: pandas only support SQLAlchemy connectable(engine/connection) ordatabase string URI or sqlite3 DBAPI2 connectionother DBAPI2 objects are not tested, please consider using SQLAlchemy\n",
      "  warnings.warn(\n"
     ]
    },
    {
     "name": "stdout",
     "output_type": "stream",
     "text": [
      "2023-09-21 11:13:53,393 - EHRQC - INFO - Saving raw data to file\n",
      "2023-09-21 11:13:55,066 - EHRQC - INFO - Parsing command line arguments\n",
      "2023-09-21 11:13:55,067 - EHRQC - INFO - args.save_path: /home/yram0006/phd/chapter_2/workspace/mortality_data/standardisation_experiment/extract/vitals_last_icd.csv\n",
      "2023-09-21 11:13:55,067 - EHRQC - INFO - args.cohort_path: /home/yram0006/phd/chapter_2/workspace/mortality_data/standardisation_experiment/extract/cohort_icd.csv\n",
      "2023-09-21 11:13:55,067 - EHRQC - INFO - args.schema_name: omop_cdm\n",
      "2023-09-21 11:13:55,067 - EHRQC - INFO - args.data_type: vitals\n",
      "2023-09-21 11:13:55,067 - EHRQC - INFO - args.agg_function: last\n",
      "2023-09-21 11:13:55,067 - EHRQC - INFO - args.before: 0\n",
      "2023-09-21 11:13:55,067 - EHRQC - INFO - args.after: 24\n",
      "2023-09-21 11:13:55,086 - EHRQC - INFO - Creating table: omop_cdm.COHORT\n",
      "2023-09-21 11:13:55,091 - EHRQC - INFO - Table: omop_cdm.COHORT created successfully!!\n",
      "2023-09-21 11:13:55,091 - EHRQC - INFO - Saving cohort to table: omop_cdm.COHORT\n",
      "2023-09-21 11:13:55,321 - EHRQC - INFO - Cohort data saved successfully!!\n",
      "2023-09-21 11:13:55,322 - EHRQC - INFO - extracting data\n"
     ]
    },
    {
     "name": "stderr",
     "output_type": "stream",
     "text": [
      "/superbugai-data/yash/chapter_1/workspace/EHRQC/.venv/lib/python3.9/site-packages/pandas/io/sql.py:761: UserWarning: pandas only support SQLAlchemy connectable(engine/connection) ordatabase string URI or sqlite3 DBAPI2 connectionother DBAPI2 objects are not tested, please consider using SQLAlchemy\n",
      "  warnings.warn(\n"
     ]
    },
    {
     "name": "stdout",
     "output_type": "stream",
     "text": [
      "2023-09-21 11:15:47,542 - EHRQC - INFO - Saving raw data to file\n",
      "2023-09-21 11:15:49,208 - EHRQC - INFO - Parsing command line arguments\n",
      "2023-09-21 11:15:49,210 - EHRQC - INFO - args.save_path: /home/yram0006/phd/chapter_2/workspace/mortality_data/standardisation_experiment/extract/lab_measurements_min_icd.csv\n",
      "2023-09-21 11:15:49,210 - EHRQC - INFO - args.cohort_path: /home/yram0006/phd/chapter_2/workspace/mortality_data/standardisation_experiment/extract/cohort_icd.csv\n",
      "2023-09-21 11:15:49,210 - EHRQC - INFO - args.schema_name: omop_cdm\n",
      "2023-09-21 11:15:49,210 - EHRQC - INFO - args.data_type: lab_measurements\n",
      "2023-09-21 11:15:49,210 - EHRQC - INFO - args.agg_function: min\n",
      "2023-09-21 11:15:49,210 - EHRQC - INFO - args.before: 0\n",
      "2023-09-21 11:15:49,210 - EHRQC - INFO - args.after: 24\n",
      "2023-09-21 11:15:49,229 - EHRQC - INFO - Creating table: omop_cdm.COHORT\n",
      "2023-09-21 11:15:49,246 - EHRQC - INFO - Table: omop_cdm.COHORT created successfully!!\n",
      "2023-09-21 11:15:49,246 - EHRQC - INFO - Saving cohort to table: omop_cdm.COHORT\n",
      "2023-09-21 11:15:49,475 - EHRQC - INFO - Cohort data saved successfully!!\n",
      "2023-09-21 11:15:49,475 - EHRQC - INFO - extracting data\n"
     ]
    },
    {
     "name": "stderr",
     "output_type": "stream",
     "text": [
      "/superbugai-data/yash/chapter_1/workspace/EHRQC/.venv/lib/python3.9/site-packages/pandas/io/sql.py:761: UserWarning: pandas only support SQLAlchemy connectable(engine/connection) ordatabase string URI or sqlite3 DBAPI2 connectionother DBAPI2 objects are not tested, please consider using SQLAlchemy\n",
      "  warnings.warn(\n"
     ]
    },
    {
     "name": "stdout",
     "output_type": "stream",
     "text": [
      "2023-09-21 11:16:57,118 - EHRQC - INFO - Saving raw data to file\n",
      "2023-09-21 11:16:58,906 - EHRQC - INFO - Parsing command line arguments\n",
      "2023-09-21 11:16:58,908 - EHRQC - INFO - args.save_path: /home/yram0006/phd/chapter_2/workspace/mortality_data/standardisation_experiment/extract/lab_measurements_max_icd.csv\n",
      "2023-09-21 11:16:58,908 - EHRQC - INFO - args.cohort_path: /home/yram0006/phd/chapter_2/workspace/mortality_data/standardisation_experiment/extract/cohort_icd.csv\n",
      "2023-09-21 11:16:58,908 - EHRQC - INFO - args.schema_name: omop_cdm\n",
      "2023-09-21 11:16:58,908 - EHRQC - INFO - args.data_type: lab_measurements\n",
      "2023-09-21 11:16:58,908 - EHRQC - INFO - args.agg_function: max\n",
      "2023-09-21 11:16:58,908 - EHRQC - INFO - args.before: 0\n",
      "2023-09-21 11:16:58,908 - EHRQC - INFO - args.after: 24\n",
      "2023-09-21 11:16:58,928 - EHRQC - INFO - Creating table: omop_cdm.COHORT\n",
      "2023-09-21 11:16:58,934 - EHRQC - INFO - Table: omop_cdm.COHORT created successfully!!\n",
      "2023-09-21 11:16:58,934 - EHRQC - INFO - Saving cohort to table: omop_cdm.COHORT\n",
      "2023-09-21 11:16:59,166 - EHRQC - INFO - Cohort data saved successfully!!\n",
      "2023-09-21 11:16:59,166 - EHRQC - INFO - extracting data\n"
     ]
    },
    {
     "name": "stderr",
     "output_type": "stream",
     "text": [
      "/superbugai-data/yash/chapter_1/workspace/EHRQC/.venv/lib/python3.9/site-packages/pandas/io/sql.py:761: UserWarning: pandas only support SQLAlchemy connectable(engine/connection) ordatabase string URI or sqlite3 DBAPI2 connectionother DBAPI2 objects are not tested, please consider using SQLAlchemy\n",
      "  warnings.warn(\n"
     ]
    },
    {
     "name": "stdout",
     "output_type": "stream",
     "text": [
      "2023-09-21 11:18:06,311 - EHRQC - INFO - Saving raw data to file\n",
      "2023-09-21 11:18:08,103 - EHRQC - INFO - Parsing command line arguments\n",
      "2023-09-21 11:18:08,104 - EHRQC - INFO - args.save_path: /home/yram0006/phd/chapter_2/workspace/mortality_data/standardisation_experiment/extract/lab_measurements_avg_icd.csv\n",
      "2023-09-21 11:18:08,104 - EHRQC - INFO - args.cohort_path: /home/yram0006/phd/chapter_2/workspace/mortality_data/standardisation_experiment/extract/cohort_icd.csv\n",
      "2023-09-21 11:18:08,104 - EHRQC - INFO - args.schema_name: omop_cdm\n",
      "2023-09-21 11:18:08,104 - EHRQC - INFO - args.data_type: lab_measurements\n",
      "2023-09-21 11:18:08,104 - EHRQC - INFO - args.agg_function: avg\n",
      "2023-09-21 11:18:08,104 - EHRQC - INFO - args.before: 0\n",
      "2023-09-21 11:18:08,104 - EHRQC - INFO - args.after: 24\n",
      "2023-09-21 11:18:08,125 - EHRQC - INFO - Creating table: omop_cdm.COHORT\n",
      "2023-09-21 11:18:08,131 - EHRQC - INFO - Table: omop_cdm.COHORT created successfully!!\n",
      "2023-09-21 11:18:08,131 - EHRQC - INFO - Saving cohort to table: omop_cdm.COHORT\n",
      "2023-09-21 11:18:08,370 - EHRQC - INFO - Cohort data saved successfully!!\n",
      "2023-09-21 11:18:08,370 - EHRQC - INFO - extracting data\n"
     ]
    },
    {
     "name": "stderr",
     "output_type": "stream",
     "text": [
      "/superbugai-data/yash/chapter_1/workspace/EHRQC/.venv/lib/python3.9/site-packages/pandas/io/sql.py:761: UserWarning: pandas only support SQLAlchemy connectable(engine/connection) ordatabase string URI or sqlite3 DBAPI2 connectionother DBAPI2 objects are not tested, please consider using SQLAlchemy\n",
      "  warnings.warn(\n"
     ]
    },
    {
     "name": "stdout",
     "output_type": "stream",
     "text": [
      "2023-09-21 11:19:16,370 - EHRQC - INFO - Saving raw data to file\n",
      "2023-09-21 11:19:18,225 - EHRQC - INFO - Parsing command line arguments\n",
      "2023-09-21 11:19:18,226 - EHRQC - INFO - args.save_path: /home/yram0006/phd/chapter_2/workspace/mortality_data/standardisation_experiment/extract/lab_measurements_stddev_icd.csv\n",
      "2023-09-21 11:19:18,227 - EHRQC - INFO - args.cohort_path: /home/yram0006/phd/chapter_2/workspace/mortality_data/standardisation_experiment/extract/cohort_icd.csv\n",
      "2023-09-21 11:19:18,227 - EHRQC - INFO - args.schema_name: omop_cdm\n",
      "2023-09-21 11:19:18,227 - EHRQC - INFO - args.data_type: lab_measurements\n",
      "2023-09-21 11:19:18,227 - EHRQC - INFO - args.agg_function: stddev\n",
      "2023-09-21 11:19:18,227 - EHRQC - INFO - args.before: 0\n",
      "2023-09-21 11:19:18,227 - EHRQC - INFO - args.after: 24\n",
      "2023-09-21 11:19:18,247 - EHRQC - INFO - Creating table: omop_cdm.COHORT\n",
      "2023-09-21 11:19:18,252 - EHRQC - INFO - Table: omop_cdm.COHORT created successfully!!\n",
      "2023-09-21 11:19:18,253 - EHRQC - INFO - Saving cohort to table: omop_cdm.COHORT\n",
      "2023-09-21 11:19:18,511 - EHRQC - INFO - Cohort data saved successfully!!\n",
      "2023-09-21 11:19:18,512 - EHRQC - INFO - extracting data\n"
     ]
    },
    {
     "name": "stderr",
     "output_type": "stream",
     "text": [
      "/superbugai-data/yash/chapter_1/workspace/EHRQC/.venv/lib/python3.9/site-packages/pandas/io/sql.py:761: UserWarning: pandas only support SQLAlchemy connectable(engine/connection) ordatabase string URI or sqlite3 DBAPI2 connectionother DBAPI2 objects are not tested, please consider using SQLAlchemy\n",
      "  warnings.warn(\n"
     ]
    },
    {
     "name": "stdout",
     "output_type": "stream",
     "text": [
      "2023-09-21 11:20:25,919 - EHRQC - INFO - Saving raw data to file\n",
      "2023-09-21 11:20:27,758 - EHRQC - INFO - Parsing command line arguments\n",
      "2023-09-21 11:20:27,759 - EHRQC - INFO - args.save_path: /home/yram0006/phd/chapter_2/workspace/mortality_data/standardisation_experiment/extract/lab_measurements_first_icd.csv\n",
      "2023-09-21 11:20:27,759 - EHRQC - INFO - args.cohort_path: /home/yram0006/phd/chapter_2/workspace/mortality_data/standardisation_experiment/extract/cohort_icd.csv\n",
      "2023-09-21 11:20:27,759 - EHRQC - INFO - args.schema_name: omop_cdm\n",
      "2023-09-21 11:20:27,759 - EHRQC - INFO - args.data_type: lab_measurements\n",
      "2023-09-21 11:20:27,759 - EHRQC - INFO - args.agg_function: first\n",
      "2023-09-21 11:20:27,759 - EHRQC - INFO - args.before: 0\n",
      "2023-09-21 11:20:27,759 - EHRQC - INFO - args.after: 24\n",
      "2023-09-21 11:20:27,779 - EHRQC - INFO - Creating table: omop_cdm.COHORT\n",
      "2023-09-21 11:20:27,798 - EHRQC - INFO - Table: omop_cdm.COHORT created successfully!!\n",
      "2023-09-21 11:20:27,798 - EHRQC - INFO - Saving cohort to table: omop_cdm.COHORT\n",
      "2023-09-21 11:20:28,029 - EHRQC - INFO - Cohort data saved successfully!!\n",
      "2023-09-21 11:20:28,029 - EHRQC - INFO - extracting data\n"
     ]
    },
    {
     "name": "stderr",
     "output_type": "stream",
     "text": [
      "/superbugai-data/yash/chapter_1/workspace/EHRQC/.venv/lib/python3.9/site-packages/pandas/io/sql.py:761: UserWarning: pandas only support SQLAlchemy connectable(engine/connection) ordatabase string URI or sqlite3 DBAPI2 connectionother DBAPI2 objects are not tested, please consider using SQLAlchemy\n",
      "  warnings.warn(\n"
     ]
    },
    {
     "name": "stdout",
     "output_type": "stream",
     "text": [
      "2023-09-21 11:21:34,796 - EHRQC - INFO - Saving raw data to file\n",
      "2023-09-21 11:21:36,605 - EHRQC - INFO - Parsing command line arguments\n",
      "2023-09-21 11:21:36,606 - EHRQC - INFO - args.save_path: /home/yram0006/phd/chapter_2/workspace/mortality_data/standardisation_experiment/extract/lab_measurements_last_icd.csv\n",
      "2023-09-21 11:21:36,606 - EHRQC - INFO - args.cohort_path: /home/yram0006/phd/chapter_2/workspace/mortality_data/standardisation_experiment/extract/cohort_icd.csv\n",
      "2023-09-21 11:21:36,606 - EHRQC - INFO - args.schema_name: omop_cdm\n",
      "2023-09-21 11:21:36,606 - EHRQC - INFO - args.data_type: lab_measurements\n",
      "2023-09-21 11:21:36,606 - EHRQC - INFO - args.agg_function: last\n",
      "2023-09-21 11:21:36,606 - EHRQC - INFO - args.before: 0\n",
      "2023-09-21 11:21:36,606 - EHRQC - INFO - args.after: 24\n",
      "2023-09-21 11:21:36,627 - EHRQC - INFO - Creating table: omop_cdm.COHORT\n",
      "2023-09-21 11:21:36,648 - EHRQC - INFO - Table: omop_cdm.COHORT created successfully!!\n",
      "2023-09-21 11:21:36,648 - EHRQC - INFO - Saving cohort to table: omop_cdm.COHORT\n",
      "2023-09-21 11:21:36,879 - EHRQC - INFO - Cohort data saved successfully!!\n",
      "2023-09-21 11:21:36,879 - EHRQC - INFO - extracting data\n"
     ]
    },
    {
     "name": "stderr",
     "output_type": "stream",
     "text": [
      "/superbugai-data/yash/chapter_1/workspace/EHRQC/.venv/lib/python3.9/site-packages/pandas/io/sql.py:761: UserWarning: pandas only support SQLAlchemy connectable(engine/connection) ordatabase string URI or sqlite3 DBAPI2 connectionother DBAPI2 objects are not tested, please consider using SQLAlchemy\n",
      "  warnings.warn(\n"
     ]
    },
    {
     "name": "stdout",
     "output_type": "stream",
     "text": [
      "2023-09-21 11:22:43,693 - EHRQC - INFO - Saving raw data to file\n"
     ]
    },
    {
     "data": {
      "text/plain": [
       "0"
      ]
     },
     "execution_count": 2,
     "metadata": {},
     "output_type": "execute_result"
    }
   ],
   "source": [
    "import os\n",
    "\n",
    "\n",
    "os.system(\n",
    "    '''cd /superbugai-data/yash/chapter_1/workspace/EHRQC;'''\n",
    "    +\n",
    "    '''.venv/bin/python -m ehrqc.extract.ExtractCohort ''' + dataDirName + '''\"extract/cohort_icd.csv\" \"omop_cdm\" \"icd\";'''\n",
    "    +\n",
    "    '''.venv/bin/python -m ehrqc.extract.ExtractCohortData ''' + dataDirName + '''\"extract/demographics_icd.csv\" ''' + dataDirName + '''\"extract/cohort_icd.csv\" \"omop_cdm\" \"demographics\" \"min\";'''\n",
    "    +\n",
    "    '''.venv/bin/python -m ehrqc.extract.ExtractCohortData ''' + dataDirName + '''\"extract/deaths.csv\" ''' + dataDirName + '''\"extract/cohort_icd.csv\" \"omop_cdm\" \"deaths\" \"min\";'''\n",
    "    +\n",
    "    '''.venv/bin/python -m ehrqc.extract.ExtractCohortData ''' + dataDirName + '''\"extract/vitals_min_icd.csv\" ''' + dataDirName + '''\"extract/cohort_icd.csv\" \"omop_cdm\" \"vitals\" \"min\" -b=0 -a=24;'''\n",
    "    +\n",
    "    '''.venv/bin/python -m ehrqc.extract.ExtractCohortData ''' + dataDirName + '''\"extract/vitals_max_icd.csv\" ''' + dataDirName + '''\"extract/cohort_icd.csv\" \"omop_cdm\" \"vitals\" \"max\" -b=0 -a=24;'''\n",
    "    +\n",
    "    '''.venv/bin/python -m ehrqc.extract.ExtractCohortData ''' + dataDirName + '''\"extract/vitals_avg_icd.csv\" ''' + dataDirName + '''\"extract/cohort_icd.csv\" \"omop_cdm\" \"vitals\" \"avg\" -b=0 -a=24;'''\n",
    "    +\n",
    "    '''.venv/bin/python -m ehrqc.extract.ExtractCohortData ''' + dataDirName + '''\"extract/vitals_stddev_icd.csv\" ''' + dataDirName + '''\"extract/cohort_icd.csv\" \"omop_cdm\" \"vitals\" \"stddev\" -b=0 -a=24;'''\n",
    "    +\n",
    "    '''.venv/bin/python -m ehrqc.extract.ExtractCohortData ''' + dataDirName + '''\"extract/vitals_first_icd.csv\" ''' + dataDirName + '''\"extract/cohort_icd.csv\" \"omop_cdm\" \"vitals\" \"first\" -b=0 -a=24;'''\n",
    "    +\n",
    "    '''.venv/bin/python -m ehrqc.extract.ExtractCohortData ''' + dataDirName + '''\"extract/vitals_last_icd.csv\" ''' + dataDirName + '''\"extract/cohort_icd.csv\" \"omop_cdm\" \"vitals\" \"last\" -b=0 -a=24;'''\n",
    "    +\n",
    "    '''.venv/bin/python -m ehrqc.extract.ExtractCohortData ''' + dataDirName + '''\"extract/lab_measurements_min_icd.csv\" ''' + dataDirName + '''\"extract/cohort_icd.csv\" \"omop_cdm\" \"lab_measurements\" \"min\" -b=0 -a=24;'''\n",
    "    +\n",
    "    '''.venv/bin/python -m ehrqc.extract.ExtractCohortData ''' + dataDirName + '''\"extract/lab_measurements_max_icd.csv\" ''' + dataDirName + '''\"extract/cohort_icd.csv\" \"omop_cdm\" \"lab_measurements\" \"max\" -b=0 -a=24;'''\n",
    "    +\n",
    "    '''.venv/bin/python -m ehrqc.extract.ExtractCohortData ''' + dataDirName + '''\"extract/lab_measurements_avg_icd.csv\" ''' + dataDirName + '''\"extract/cohort_icd.csv\" \"omop_cdm\" \"lab_measurements\" \"avg\" -b=0 -a=24;'''\n",
    "    +\n",
    "    '''.venv/bin/python -m ehrqc.extract.ExtractCohortData ''' + dataDirName + '''\"extract/lab_measurements_stddev_icd.csv\" ''' + dataDirName + '''\"extract/cohort_icd.csv\" \"omop_cdm\" \"lab_measurements\" \"stddev\" -b=0 -a=24;'''\n",
    "    +\n",
    "    '''.venv/bin/python -m ehrqc.extract.ExtractCohortData ''' + dataDirName + '''\"extract/lab_measurements_first_icd.csv\" ''' + dataDirName + '''\"extract/cohort_icd.csv\" \"omop_cdm\" \"lab_measurements\" \"first\" -b=0 -a=24;'''\n",
    "    +\n",
    "    '''.venv/bin/python -m ehrqc.extract.ExtractCohortData ''' + dataDirName + '''\"extract/lab_measurements_last_icd.csv\" ''' + dataDirName + '''\"extract/cohort_icd.csv\" \"omop_cdm\" \"lab_measurements\" \"last\" -b=0 -a=24;'''\n",
    "    )\n"
   ]
  },
  {
   "cell_type": "markdown",
   "metadata": {},
   "source": [
    "### Read extracted files"
   ]
  },
  {
   "cell_type": "code",
   "execution_count": 3,
   "metadata": {},
   "outputs": [],
   "source": [
    "import pandas as pd\n",
    "\n",
    "demographics =  pd.read_csv(dataDirName + \"extract/demographics_icd.csv\")\n",
    "vitals_min =  pd.read_csv(dataDirName + \"extract/vitals_min_icd.csv\")\n",
    "vitals_max =  pd.read_csv(dataDirName + \"extract/vitals_max_icd.csv\")\n",
    "vitals_avg =  pd.read_csv(dataDirName + \"extract/vitals_avg_icd.csv\")\n",
    "vitals_stddev =  pd.read_csv(dataDirName + \"extract/vitals_stddev_icd.csv\")\n",
    "vitals_first =  pd.read_csv(dataDirName + \"extract/vitals_first_icd.csv\")\n",
    "vitals_last =  pd.read_csv(dataDirName + \"extract/vitals_last_icd.csv\")\n",
    "lab_measurements_min =  pd.read_csv(dataDirName + \"extract/lab_measurements_min_icd.csv\")\n",
    "lab_measurements_max =  pd.read_csv(dataDirName + \"extract/lab_measurements_max_icd.csv\")\n",
    "lab_measurements_avg =  pd.read_csv(dataDirName + \"extract/lab_measurements_avg_icd.csv\")\n",
    "lab_measurements_stddev =  pd.read_csv(dataDirName + \"extract/lab_measurements_stddev_icd.csv\")\n",
    "lab_measurements_first =  pd.read_csv(dataDirName + \"extract/lab_measurements_first_icd.csv\")\n",
    "lab_measurements_last =  pd.read_csv(dataDirName + \"extract/lab_measurements_last_icd.csv\")"
   ]
  },
  {
   "cell_type": "markdown",
   "metadata": {},
   "source": [
    "### Display counts post extraction"
   ]
  },
  {
   "cell_type": "code",
   "execution_count": 4,
   "metadata": {},
   "outputs": [
    {
     "data": {
      "text/plain": [
       "(12241, 4)"
      ]
     },
     "execution_count": 4,
     "metadata": {},
     "output_type": "execute_result"
    }
   ],
   "source": [
    "demographics.shape"
   ]
  },
  {
   "cell_type": "code",
   "execution_count": 5,
   "metadata": {},
   "outputs": [
    {
     "data": {
      "text/plain": [
       "((4740, 11), (4740, 11), (4740, 11), (4740, 11), (4740, 11), (4740, 11))"
      ]
     },
     "execution_count": 5,
     "metadata": {},
     "output_type": "execute_result"
    }
   ],
   "source": [
    "vitals_min.shape, vitals_max.shape, vitals_avg.shape, vitals_stddev.shape, vitals_first.shape, vitals_last.shape"
   ]
  },
  {
   "cell_type": "code",
   "execution_count": 6,
   "metadata": {},
   "outputs": [
    {
     "data": {
      "text/plain": [
       "((9590, 30), (9590, 30), (9590, 30), (9590, 30), (9590, 30), (9590, 30))"
      ]
     },
     "execution_count": 6,
     "metadata": {},
     "output_type": "execute_result"
    }
   ],
   "source": [
    "lab_measurements_min.shape, lab_measurements_max.shape, lab_measurements_avg.shape, lab_measurements_stddev.shape, lab_measurements_first.shape, lab_measurements_last.shape"
   ]
  },
  {
   "cell_type": "markdown",
   "metadata": {},
   "source": [
    "## Remove attributes with low coverage\n",
    "\n",
    "Removing attributes where the attributes have values that are missing in more than 25 % of the cases"
   ]
  },
  {
   "cell_type": "markdown",
   "metadata": {},
   "source": [
    "### Drop columns with low coverage"
   ]
  },
  {
   "cell_type": "code",
   "execution_count": 7,
   "metadata": {},
   "outputs": [
    {
     "name": "stdout",
     "output_type": "stream",
     "text": [
      "2023-09-21 14:25:39,322 - Anomalies - INFO - Parsing command line arguments\n",
      "2023-09-21 14:25:39,323 - Anomalies - INFO - Start!!\n",
      "2023-09-21 14:25:39,323 - Anomalies - INFO - args.source_file: /home/yram0006/phd/chapter_2/workspace/mortality_data/standardisation_experiment/extract/demographics_icd.csv\n",
      "2023-09-21 14:25:39,323 - Anomalies - INFO - args.chunksize: 10\n",
      "2023-09-21 14:25:39,323 - Anomalies - INFO - args.id_columns: ['person_id']\n",
      "2023-09-21 14:25:39,323 - Anomalies - INFO - args.drop: True\n",
      "2023-09-21 14:25:39,324 - Anomalies - INFO - args.percentage: 0.0\n",
      "2023-09-21 14:25:39,324 - Anomalies - INFO - args.save_path: /home/yram0006/phd/chapter_2/workspace/mortality_data/standardisation_experiment/dropped\n",
      "2023-09-21 14:25:39,324 - Anomalies - INFO - Calculating Missingnes\n",
      "2023-09-21 14:25:44,420 - Anomalies - INFO - Missingness Report\n",
      "2023-09-21 14:25:44,422 - Anomalies - INFO - \n",
      "\n",
      "  column_name  missing_count  total_count  percentage_missing\n",
      "0         age              0        12241                 0.0\n",
      "1   ethnicity              0        12241                 0.0\n",
      "2      gender              0        12241                 0.0\n",
      "\n",
      "2023-09-21 14:25:44,423 - Anomalies - INFO - Dropping columns with above 0.0 % missingness\n",
      "2023-09-21 14:25:45,182 - Anomalies - INFO - Saving data to demographics_icd_dropped.csv\n",
      "2023-09-21 14:25:45,217 - Anomalies - INFO - Done!!\n",
      "2023-09-21 14:25:45,624 - Anomalies - INFO - Parsing command line arguments\n",
      "2023-09-21 14:25:45,625 - Anomalies - INFO - Start!!\n",
      "2023-09-21 14:25:45,625 - Anomalies - INFO - args.source_file: /home/yram0006/phd/chapter_2/workspace/mortality_data/standardisation_experiment/extract/deaths.csv\n",
      "2023-09-21 14:25:45,625 - Anomalies - INFO - args.chunksize: 10\n",
      "2023-09-21 14:25:45,625 - Anomalies - INFO - args.id_columns: ['person_id']\n",
      "2023-09-21 14:25:45,625 - Anomalies - INFO - args.drop: True\n",
      "2023-09-21 14:25:45,625 - Anomalies - INFO - args.percentage: 100.0\n",
      "2023-09-21 14:25:45,625 - Anomalies - INFO - args.save_path: /home/yram0006/phd/chapter_2/workspace/mortality_data/standardisation_experiment/dropped\n",
      "2023-09-21 14:25:45,625 - Anomalies - INFO - Calculating Missingnes\n",
      "2023-09-21 14:25:50,583 - Anomalies - INFO - Missingness Report\n",
      "2023-09-21 14:25:50,586 - Anomalies - INFO - \n",
      "\n",
      "      column_name  missing_count  total_count  percentage_missing\n",
      "0     anchor_time              0        12241                0.00\n",
      "1  death_datetime           8744        12241               71.43\n",
      "\n",
      "2023-09-21 14:25:50,586 - Anomalies - INFO - Dropping columns with above 100.0 % missingness\n",
      "2023-09-21 14:25:51,343 - Anomalies - INFO - Saving data to deaths_dropped.csv\n",
      "2023-09-21 14:25:51,375 - Anomalies - INFO - Done!!\n",
      "2023-09-21 14:25:51,781 - Anomalies - INFO - Parsing command line arguments\n",
      "2023-09-21 14:25:51,783 - Anomalies - INFO - Start!!\n",
      "2023-09-21 14:25:51,783 - Anomalies - INFO - args.source_file: /home/yram0006/phd/chapter_2/workspace/mortality_data/standardisation_experiment/extract/vitals_min_icd.csv\n",
      "2023-09-21 14:25:51,783 - Anomalies - INFO - args.chunksize: 10\n",
      "2023-09-21 14:25:51,783 - Anomalies - INFO - args.id_columns: ['person_id']\n",
      "2023-09-21 14:25:51,783 - Anomalies - INFO - args.drop: True\n",
      "2023-09-21 14:25:51,783 - Anomalies - INFO - args.percentage: 25.0\n",
      "2023-09-21 14:25:51,783 - Anomalies - INFO - args.save_path: /home/yram0006/phd/chapter_2/workspace/mortality_data/standardisation_experiment/dropped\n",
      "2023-09-21 14:25:51,783 - Anomalies - INFO - Calculating Missingnes\n",
      "2023-09-21 14:25:53,664 - Anomalies - INFO - Missingness Report\n",
      "2023-09-21 14:25:53,666 - Anomalies - INFO - \n",
      "\n",
      "  column_name  missing_count  total_count  percentage_missing\n",
      "0       diabp             20         4740                0.42\n",
      "1      gcseye             23         4740                0.49\n",
      "2    gcsmotor             30         4740                0.63\n",
      "3   gcsverbal             26         4740                0.55\n",
      "4   heartrate              7         4740                0.15\n",
      "5      meanbp              7         4740                0.15\n",
      "6    resprate              6         4740                0.13\n",
      "7        spo2             12         4740                0.25\n",
      "8       sysbp             20         4740                0.42\n",
      "9       tempc             72         4740                1.52\n",
      "\n",
      "2023-09-21 14:25:53,667 - Anomalies - INFO - Dropping columns with above 25.0 % missingness\n",
      "2023-09-21 14:25:53,946 - Anomalies - INFO - Saving data to vitals_min_icd_dropped.csv\n",
      "2023-09-21 14:25:53,981 - Anomalies - INFO - Done!!\n",
      "2023-09-21 14:25:54,381 - Anomalies - INFO - Parsing command line arguments\n",
      "2023-09-21 14:25:54,383 - Anomalies - INFO - Start!!\n",
      "2023-09-21 14:25:54,383 - Anomalies - INFO - args.source_file: /home/yram0006/phd/chapter_2/workspace/mortality_data/standardisation_experiment/extract/vitals_max_icd.csv\n",
      "2023-09-21 14:25:54,383 - Anomalies - INFO - args.chunksize: 10\n",
      "2023-09-21 14:25:54,383 - Anomalies - INFO - args.id_columns: ['person_id']\n",
      "2023-09-21 14:25:54,383 - Anomalies - INFO - args.drop: True\n",
      "2023-09-21 14:25:54,383 - Anomalies - INFO - args.percentage: 25.0\n",
      "2023-09-21 14:25:54,383 - Anomalies - INFO - args.save_path: /home/yram0006/phd/chapter_2/workspace/mortality_data/standardisation_experiment/dropped\n",
      "2023-09-21 14:25:54,383 - Anomalies - INFO - Calculating Missingnes\n",
      "2023-09-21 14:25:56,269 - Anomalies - INFO - Missingness Report\n",
      "2023-09-21 14:25:56,272 - Anomalies - INFO - \n",
      "\n",
      "  column_name  missing_count  total_count  percentage_missing\n",
      "0       diabp             20         4740                0.42\n",
      "1      gcseye             23         4740                0.49\n",
      "2    gcsmotor             30         4740                0.63\n",
      "3   gcsverbal             26         4740                0.55\n",
      "4   heartrate              7         4740                0.15\n",
      "5      meanbp              7         4740                0.15\n",
      "6    resprate              6         4740                0.13\n",
      "7        spo2             12         4740                0.25\n",
      "8       sysbp             20         4740                0.42\n",
      "9       tempc             72         4740                1.52\n",
      "\n",
      "2023-09-21 14:25:56,272 - Anomalies - INFO - Dropping columns with above 25.0 % missingness\n",
      "2023-09-21 14:25:56,554 - Anomalies - INFO - Saving data to vitals_max_icd_dropped.csv\n",
      "2023-09-21 14:25:56,590 - Anomalies - INFO - Done!!\n",
      "2023-09-21 14:25:56,991 - Anomalies - INFO - Parsing command line arguments\n",
      "2023-09-21 14:25:56,992 - Anomalies - INFO - Start!!\n",
      "2023-09-21 14:25:56,992 - Anomalies - INFO - args.source_file: /home/yram0006/phd/chapter_2/workspace/mortality_data/standardisation_experiment/extract/vitals_avg_icd.csv\n",
      "2023-09-21 14:25:56,993 - Anomalies - INFO - args.chunksize: 10\n",
      "2023-09-21 14:25:56,993 - Anomalies - INFO - args.id_columns: ['person_id']\n",
      "2023-09-21 14:25:56,993 - Anomalies - INFO - args.drop: True\n",
      "2023-09-21 14:25:56,993 - Anomalies - INFO - args.percentage: 25.0\n",
      "2023-09-21 14:25:56,993 - Anomalies - INFO - args.save_path: /home/yram0006/phd/chapter_2/workspace/mortality_data/standardisation_experiment/dropped\n",
      "2023-09-21 14:25:56,993 - Anomalies - INFO - Calculating Missingnes\n",
      "2023-09-21 14:25:58,900 - Anomalies - INFO - Missingness Report\n",
      "2023-09-21 14:25:58,903 - Anomalies - INFO - \n",
      "\n",
      "  column_name  missing_count  total_count  percentage_missing\n",
      "0       diabp             20         4740                0.42\n",
      "1      gcseye             23         4740                0.49\n",
      "2    gcsmotor             30         4740                0.63\n",
      "3   gcsverbal             26         4740                0.55\n",
      "4   heartrate              7         4740                0.15\n",
      "5      meanbp              7         4740                0.15\n",
      "6    resprate              6         4740                0.13\n",
      "7        spo2             12         4740                0.25\n",
      "8       sysbp             20         4740                0.42\n",
      "9       tempc             72         4740                1.52\n",
      "\n",
      "2023-09-21 14:25:58,903 - Anomalies - INFO - Dropping columns with above 25.0 % missingness\n",
      "2023-09-21 14:25:59,183 - Anomalies - INFO - Saving data to vitals_avg_icd_dropped.csv\n",
      "2023-09-21 14:25:59,232 - Anomalies - INFO - Done!!\n",
      "2023-09-21 14:25:59,632 - Anomalies - INFO - Parsing command line arguments\n",
      "2023-09-21 14:25:59,633 - Anomalies - INFO - Start!!\n",
      "2023-09-21 14:25:59,633 - Anomalies - INFO - args.source_file: /home/yram0006/phd/chapter_2/workspace/mortality_data/standardisation_experiment/extract/vitals_stddev_icd.csv\n",
      "2023-09-21 14:25:59,633 - Anomalies - INFO - args.chunksize: 10\n",
      "2023-09-21 14:25:59,633 - Anomalies - INFO - args.id_columns: ['person_id']\n",
      "2023-09-21 14:25:59,633 - Anomalies - INFO - args.drop: True\n",
      "2023-09-21 14:25:59,633 - Anomalies - INFO - args.percentage: 25.0\n",
      "2023-09-21 14:25:59,633 - Anomalies - INFO - args.save_path: /home/yram0006/phd/chapter_2/workspace/mortality_data/standardisation_experiment/dropped\n",
      "2023-09-21 14:25:59,633 - Anomalies - INFO - Calculating Missingnes\n",
      "2023-09-21 14:26:01,533 - Anomalies - INFO - Missingness Report\n",
      "2023-09-21 14:26:01,536 - Anomalies - INFO - \n",
      "\n",
      "  column_name  missing_count  total_count  percentage_missing\n",
      "0       diabp             30         4740                0.63\n",
      "1      gcseye            118         4740                2.49\n",
      "2    gcsmotor            128         4740                2.70\n",
      "3   gcsverbal            122         4740                2.57\n",
      "4   heartrate             10         4740                0.21\n",
      "5      meanbp             13         4740                0.27\n",
      "6    resprate              8         4740                0.17\n",
      "7        spo2             22         4740                0.46\n",
      "8       sysbp             30         4740                0.63\n",
      "9       tempc            149         4740                3.14\n",
      "\n",
      "2023-09-21 14:26:01,536 - Anomalies - INFO - Dropping columns with above 25.0 % missingness\n",
      "2023-09-21 14:26:01,817 - Anomalies - INFO - Saving data to vitals_stddev_icd_dropped.csv\n",
      "2023-09-21 14:26:01,872 - Anomalies - INFO - Done!!\n",
      "2023-09-21 14:26:02,273 - Anomalies - INFO - Parsing command line arguments\n",
      "2023-09-21 14:26:02,275 - Anomalies - INFO - Start!!\n",
      "2023-09-21 14:26:02,275 - Anomalies - INFO - args.source_file: /home/yram0006/phd/chapter_2/workspace/mortality_data/standardisation_experiment/extract/vitals_first_icd.csv\n",
      "2023-09-21 14:26:02,275 - Anomalies - INFO - args.chunksize: 10\n",
      "2023-09-21 14:26:02,275 - Anomalies - INFO - args.id_columns: ['person_id']\n",
      "2023-09-21 14:26:02,275 - Anomalies - INFO - args.drop: True\n",
      "2023-09-21 14:26:02,275 - Anomalies - INFO - args.percentage: 25.0\n",
      "2023-09-21 14:26:02,275 - Anomalies - INFO - args.save_path: /home/yram0006/phd/chapter_2/workspace/mortality_data/standardisation_experiment/dropped\n",
      "2023-09-21 14:26:02,275 - Anomalies - INFO - Calculating Missingnes\n",
      "2023-09-21 14:26:04,184 - Anomalies - INFO - Missingness Report\n",
      "2023-09-21 14:26:04,187 - Anomalies - INFO - \n",
      "\n",
      "  column_name  missing_count  total_count  percentage_missing\n",
      "0       diabp             20         4740                0.42\n",
      "1      gcseye             23         4740                0.49\n",
      "2    gcsmotor             30         4740                0.63\n",
      "3   gcsverbal             26         4740                0.55\n",
      "4   heartrate              7         4740                0.15\n",
      "5      meanbp              7         4740                0.15\n",
      "6    resprate              6         4740                0.13\n",
      "7        spo2             12         4740                0.25\n",
      "8       sysbp             20         4740                0.42\n",
      "9       tempc             72         4740                1.52\n",
      "\n",
      "2023-09-21 14:26:04,187 - Anomalies - INFO - Dropping columns with above 25.0 % missingness\n",
      "2023-09-21 14:26:04,473 - Anomalies - INFO - Saving data to vitals_first_icd_dropped.csv\n",
      "2023-09-21 14:26:04,508 - Anomalies - INFO - Done!!\n",
      "2023-09-21 14:26:04,909 - Anomalies - INFO - Parsing command line arguments\n",
      "2023-09-21 14:26:04,910 - Anomalies - INFO - Start!!\n",
      "2023-09-21 14:26:04,910 - Anomalies - INFO - args.source_file: /home/yram0006/phd/chapter_2/workspace/mortality_data/standardisation_experiment/extract/vitals_last_icd.csv\n",
      "2023-09-21 14:26:04,910 - Anomalies - INFO - args.chunksize: 10\n",
      "2023-09-21 14:26:04,910 - Anomalies - INFO - args.id_columns: ['person_id']\n",
      "2023-09-21 14:26:04,910 - Anomalies - INFO - args.drop: True\n",
      "2023-09-21 14:26:04,910 - Anomalies - INFO - args.percentage: 25.0\n",
      "2023-09-21 14:26:04,910 - Anomalies - INFO - args.save_path: /home/yram0006/phd/chapter_2/workspace/mortality_data/standardisation_experiment/dropped\n",
      "2023-09-21 14:26:04,910 - Anomalies - INFO - Calculating Missingnes\n",
      "2023-09-21 14:26:06,796 - Anomalies - INFO - Missingness Report\n",
      "2023-09-21 14:26:06,798 - Anomalies - INFO - \n",
      "\n",
      "  column_name  missing_count  total_count  percentage_missing\n",
      "0       diabp             20         4740                0.42\n",
      "1      gcseye             23         4740                0.49\n",
      "2    gcsmotor             30         4740                0.63\n",
      "3   gcsverbal             26         4740                0.55\n",
      "4   heartrate              7         4740                0.15\n",
      "5      meanbp              7         4740                0.15\n",
      "6    resprate              6         4740                0.13\n",
      "7        spo2             12         4740                0.25\n",
      "8       sysbp             20         4740                0.42\n",
      "9       tempc             72         4740                1.52\n",
      "\n",
      "2023-09-21 14:26:06,798 - Anomalies - INFO - Dropping columns with above 25.0 % missingness\n",
      "2023-09-21 14:26:07,089 - Anomalies - INFO - Saving data to vitals_last_icd_dropped.csv\n",
      "2023-09-21 14:26:07,127 - Anomalies - INFO - Done!!\n",
      "2023-09-21 14:26:07,535 - Anomalies - INFO - Parsing command line arguments\n",
      "2023-09-21 14:26:07,537 - Anomalies - INFO - Start!!\n",
      "2023-09-21 14:26:07,537 - Anomalies - INFO - args.source_file: /home/yram0006/phd/chapter_2/workspace/mortality_data/standardisation_experiment/extract/lab_measurements_min_icd.csv\n",
      "2023-09-21 14:26:07,537 - Anomalies - INFO - args.chunksize: 10\n",
      "2023-09-21 14:26:07,537 - Anomalies - INFO - args.id_columns: ['person_id']\n",
      "2023-09-21 14:26:07,537 - Anomalies - INFO - args.drop: True\n",
      "2023-09-21 14:26:07,537 - Anomalies - INFO - args.percentage: 25.0\n",
      "2023-09-21 14:26:07,537 - Anomalies - INFO - args.save_path: /home/yram0006/phd/chapter_2/workspace/mortality_data/standardisation_experiment/dropped\n",
      "2023-09-21 14:26:07,537 - Anomalies - INFO - Calculating Missingnes\n",
      "2023-09-21 14:26:11,876 - Anomalies - INFO - Missingness Report\n",
      "2023-09-21 14:26:11,880 - Anomalies - INFO - \n",
      "\n",
      "                column_name  missing_count  total_count  percentage_missing\n",
      "0                   albumin           4793         9590               49.98\n",
      "1                 anion_gap           2234         9590               23.30\n",
      "2                      aptt           3333         9590               34.75\n",
      "3     band_form_neutrophils           7006         9590               73.06\n",
      "4      base_excess_in_blood           5849         9590               60.99\n",
      "5               bicarbonate            101         9590                1.05\n",
      "6                 bilirubin           3876         9590               40.42\n",
      "7       carbondioxide_blood           5848         9590               60.98\n",
      "8       carbondioxide_serum           5849         9590               60.99\n",
      "9            chloride_blood           8572         9590               89.38\n",
      "10           chloride_serum             97         9590                1.01\n",
      "11               creatinine            101         9590                1.05\n",
      "12            glucose_serum            109         9590                1.14\n",
      "13            glucose_urine           8873         9590               92.52\n",
      "14               hematocrit           2214         9590               23.09\n",
      "15               hemoglobin            110         9590                1.15\n",
      "16                      inr           3258         9590               33.97\n",
      "17                  lactate           3268         9590               34.08\n",
      "18    leukocytes_blood_auto           9533         9590               99.41\n",
      "19  leukocytes_blood_manual           2229         9590               23.24\n",
      "20                   oxygen           5851         9590               61.01\n",
      "21                 ph_blood           5695         9590               59.38\n",
      "22             ph_bodyfluid           9536         9590               99.44\n",
      "23           platelet_count           2224         9590               23.19\n",
      "24          potassium_blood           7524         9590               78.46\n",
      "25          potassium_serum             84         9590                0.88\n",
      "26             sodium_blood           8404         9590               87.63\n",
      "27             sodium_serum             91         9590                0.95\n",
      "28            urea_nitrogen           2222         9590               23.17\n",
      "\n",
      "2023-09-21 14:26:11,880 - Anomalies - INFO - Dropping columns with above 25.0 % missingness\n",
      "2023-09-21 14:26:12,517 - Anomalies - INFO - Saving data to lab_measurements_min_icd_dropped.csv\n",
      "2023-09-21 14:26:12,598 - Anomalies - INFO - Done!!\n",
      "2023-09-21 14:26:12,998 - Anomalies - INFO - Parsing command line arguments\n",
      "2023-09-21 14:26:13,000 - Anomalies - INFO - Start!!\n",
      "2023-09-21 14:26:13,000 - Anomalies - INFO - args.source_file: /home/yram0006/phd/chapter_2/workspace/mortality_data/standardisation_experiment/extract/lab_measurements_max_icd.csv\n",
      "2023-09-21 14:26:13,000 - Anomalies - INFO - args.chunksize: 10\n",
      "2023-09-21 14:26:13,000 - Anomalies - INFO - args.id_columns: ['person_id']\n",
      "2023-09-21 14:26:13,000 - Anomalies - INFO - args.drop: True\n",
      "2023-09-21 14:26:13,000 - Anomalies - INFO - args.percentage: 25.0\n",
      "2023-09-21 14:26:13,000 - Anomalies - INFO - args.save_path: /home/yram0006/phd/chapter_2/workspace/mortality_data/standardisation_experiment/dropped\n",
      "2023-09-21 14:26:13,000 - Anomalies - INFO - Calculating Missingnes\n",
      "2023-09-21 14:26:17,337 - Anomalies - INFO - Missingness Report\n",
      "2023-09-21 14:26:17,340 - Anomalies - INFO - \n",
      "\n",
      "                column_name  missing_count  total_count  percentage_missing\n",
      "0                   albumin           4793         9590               49.98\n",
      "1                 anion_gap           2234         9590               23.30\n",
      "2                      aptt           3333         9590               34.75\n",
      "3     band_form_neutrophils           7006         9590               73.06\n",
      "4      base_excess_in_blood           5849         9590               60.99\n",
      "5               bicarbonate            101         9590                1.05\n",
      "6                 bilirubin           3876         9590               40.42\n",
      "7       carbondioxide_blood           5848         9590               60.98\n",
      "8       carbondioxide_serum           5849         9590               60.99\n",
      "9            chloride_blood           8572         9590               89.38\n",
      "10           chloride_serum             97         9590                1.01\n",
      "11               creatinine            101         9590                1.05\n",
      "12            glucose_serum            109         9590                1.14\n",
      "13            glucose_urine           8873         9590               92.52\n",
      "14               hematocrit           2214         9590               23.09\n",
      "15               hemoglobin            110         9590                1.15\n",
      "16                      inr           3258         9590               33.97\n",
      "17                  lactate           3268         9590               34.08\n",
      "18    leukocytes_blood_auto           9533         9590               99.41\n",
      "19  leukocytes_blood_manual           2229         9590               23.24\n",
      "20                   oxygen           5851         9590               61.01\n",
      "21                 ph_blood           5695         9590               59.38\n",
      "22             ph_bodyfluid           9536         9590               99.44\n",
      "23           platelet_count           2224         9590               23.19\n",
      "24          potassium_blood           7524         9590               78.46\n",
      "25          potassium_serum             84         9590                0.88\n",
      "26             sodium_blood           8404         9590               87.63\n",
      "27             sodium_serum             91         9590                0.95\n",
      "28            urea_nitrogen           2222         9590               23.17\n",
      "\n",
      "2023-09-21 14:26:17,340 - Anomalies - INFO - Dropping columns with above 25.0 % missingness\n",
      "2023-09-21 14:26:17,975 - Anomalies - INFO - Saving data to lab_measurements_max_icd_dropped.csv\n",
      "2023-09-21 14:26:18,052 - Anomalies - INFO - Done!!\n",
      "2023-09-21 14:26:18,451 - Anomalies - INFO - Parsing command line arguments\n",
      "2023-09-21 14:26:18,452 - Anomalies - INFO - Start!!\n",
      "2023-09-21 14:26:18,452 - Anomalies - INFO - args.source_file: /home/yram0006/phd/chapter_2/workspace/mortality_data/standardisation_experiment/extract/lab_measurements_avg_icd.csv\n",
      "2023-09-21 14:26:18,452 - Anomalies - INFO - args.chunksize: 10\n",
      "2023-09-21 14:26:18,452 - Anomalies - INFO - args.id_columns: ['person_id']\n",
      "2023-09-21 14:26:18,453 - Anomalies - INFO - args.drop: True\n",
      "2023-09-21 14:26:18,453 - Anomalies - INFO - args.percentage: 25.0\n",
      "2023-09-21 14:26:18,453 - Anomalies - INFO - args.save_path: /home/yram0006/phd/chapter_2/workspace/mortality_data/standardisation_experiment/dropped\n",
      "2023-09-21 14:26:18,453 - Anomalies - INFO - Calculating Missingnes\n",
      "2023-09-21 14:26:22,763 - Anomalies - INFO - Missingness Report\n",
      "2023-09-21 14:26:22,767 - Anomalies - INFO - \n",
      "\n",
      "                column_name  missing_count  total_count  percentage_missing\n",
      "0                   albumin           4793         9590               49.98\n",
      "1                 anion_gap           2234         9590               23.30\n",
      "2                      aptt           3333         9590               34.75\n",
      "3     band_form_neutrophils           7006         9590               73.06\n",
      "4      base_excess_in_blood           5849         9590               60.99\n",
      "5               bicarbonate            101         9590                1.05\n",
      "6                 bilirubin           3876         9590               40.42\n",
      "7       carbondioxide_blood           5848         9590               60.98\n",
      "8       carbondioxide_serum           5849         9590               60.99\n",
      "9            chloride_blood           8572         9590               89.38\n",
      "10           chloride_serum             97         9590                1.01\n",
      "11               creatinine            101         9590                1.05\n",
      "12            glucose_serum            109         9590                1.14\n",
      "13            glucose_urine           8873         9590               92.52\n",
      "14               hematocrit           2214         9590               23.09\n",
      "15               hemoglobin            110         9590                1.15\n",
      "16                      inr           3258         9590               33.97\n",
      "17                  lactate           3268         9590               34.08\n",
      "18    leukocytes_blood_auto           9533         9590               99.41\n",
      "19  leukocytes_blood_manual           2229         9590               23.24\n",
      "20                   oxygen           5851         9590               61.01\n",
      "21                 ph_blood           5695         9590               59.38\n",
      "22             ph_bodyfluid           9536         9590               99.44\n",
      "23           platelet_count           2224         9590               23.19\n",
      "24          potassium_blood           7524         9590               78.46\n",
      "25          potassium_serum             84         9590                0.88\n",
      "26             sodium_blood           8404         9590               87.63\n",
      "27             sodium_serum             91         9590                0.95\n",
      "28            urea_nitrogen           2222         9590               23.17\n",
      "\n",
      "2023-09-21 14:26:22,767 - Anomalies - INFO - Dropping columns with above 25.0 % missingness\n",
      "2023-09-21 14:26:23,406 - Anomalies - INFO - Saving data to lab_measurements_avg_icd_dropped.csv\n",
      "2023-09-21 14:26:23,501 - Anomalies - INFO - Done!!\n",
      "2023-09-21 14:26:23,900 - Anomalies - INFO - Parsing command line arguments\n",
      "2023-09-21 14:26:23,901 - Anomalies - INFO - Start!!\n",
      "2023-09-21 14:26:23,901 - Anomalies - INFO - args.source_file: /home/yram0006/phd/chapter_2/workspace/mortality_data/standardisation_experiment/extract/lab_measurements_stddev_icd.csv\n",
      "2023-09-21 14:26:23,901 - Anomalies - INFO - args.chunksize: 10\n",
      "2023-09-21 14:26:23,901 - Anomalies - INFO - args.id_columns: ['person_id']\n",
      "2023-09-21 14:26:23,901 - Anomalies - INFO - args.drop: True\n",
      "2023-09-21 14:26:23,901 - Anomalies - INFO - args.percentage: 25.0\n",
      "2023-09-21 14:26:23,901 - Anomalies - INFO - args.save_path: /home/yram0006/phd/chapter_2/workspace/mortality_data/standardisation_experiment/dropped\n",
      "2023-09-21 14:26:23,901 - Anomalies - INFO - Calculating Missingnes\n",
      "2023-09-21 14:26:28,234 - Anomalies - INFO - Missingness Report\n",
      "2023-09-21 14:26:28,237 - Anomalies - INFO - \n",
      "\n",
      "                column_name  missing_count  total_count  percentage_missing\n",
      "0                   albumin           7071         9590               73.73\n",
      "1                 anion_gap           2913         9590               30.38\n",
      "2                      aptt           4961         9590               51.73\n",
      "3     band_form_neutrophils           8087         9590               84.33\n",
      "4      base_excess_in_blood           6581         9590               68.62\n",
      "5               bicarbonate           1063         9590               11.08\n",
      "6                 bilirubin           5729         9590               59.74\n",
      "7       carbondioxide_blood           6583         9590               68.64\n",
      "8       carbondioxide_serum           6577         9590               68.58\n",
      "9            chloride_blood           9001         9590               93.86\n",
      "10           chloride_serum           1053         9590               10.98\n",
      "11               creatinine           1037         9590               10.81\n",
      "12            glucose_serum           1107         9590               11.54\n",
      "13            glucose_urine           9304         9590               97.02\n",
      "14               hematocrit           2921         9590               30.46\n",
      "15               hemoglobin           1176         9590               12.26\n",
      "16                      inr           4863         9590               50.71\n",
      "17                  lactate           4678         9590               48.78\n",
      "18    leukocytes_blood_auto           9564         9590               99.73\n",
      "19  leukocytes_blood_manual           2946         9590               30.72\n",
      "20                   oxygen           6579         9590               68.60\n",
      "21                 ph_blood           6444         9590               67.19\n",
      "22             ph_bodyfluid           9572         9590               99.81\n",
      "23           platelet_count           2949         9590               30.75\n",
      "24          potassium_blood           8290         9590               86.44\n",
      "25          potassium_serum           1036         9590               10.80\n",
      "26             sodium_blood           8890         9590               92.70\n",
      "27             sodium_serum           1049         9590               10.94\n",
      "28            urea_nitrogen           2887         9590               30.10\n",
      "\n",
      "2023-09-21 14:26:28,237 - Anomalies - INFO - Dropping columns with above 25.0 % missingness\n",
      "2023-09-21 14:26:28,888 - Anomalies - INFO - Saving data to lab_measurements_stddev_icd_dropped.csv\n",
      "2023-09-21 14:26:28,969 - Anomalies - INFO - Done!!\n",
      "2023-09-21 14:26:29,369 - Anomalies - INFO - Parsing command line arguments\n",
      "2023-09-21 14:26:29,370 - Anomalies - INFO - Start!!\n",
      "2023-09-21 14:26:29,370 - Anomalies - INFO - args.source_file: /home/yram0006/phd/chapter_2/workspace/mortality_data/standardisation_experiment/extract/lab_measurements_first_icd.csv\n",
      "2023-09-21 14:26:29,370 - Anomalies - INFO - args.chunksize: 10\n",
      "2023-09-21 14:26:29,370 - Anomalies - INFO - args.id_columns: ['person_id']\n",
      "2023-09-21 14:26:29,370 - Anomalies - INFO - args.drop: True\n",
      "2023-09-21 14:26:29,370 - Anomalies - INFO - args.percentage: 25.0\n",
      "2023-09-21 14:26:29,370 - Anomalies - INFO - args.save_path: /home/yram0006/phd/chapter_2/workspace/mortality_data/standardisation_experiment/dropped\n",
      "2023-09-21 14:26:29,371 - Anomalies - INFO - Calculating Missingnes\n",
      "2023-09-21 14:26:33,697 - Anomalies - INFO - Missingness Report\n",
      "2023-09-21 14:26:33,700 - Anomalies - INFO - \n",
      "\n",
      "                column_name  missing_count  total_count  percentage_missing\n",
      "0                   albumin           4793         9590               49.98\n",
      "1                 anion_gap           2234         9590               23.30\n",
      "2                      aptt           3333         9590               34.75\n",
      "3     band_form_neutrophils           7006         9590               73.06\n",
      "4      base_excess_in_blood           5849         9590               60.99\n",
      "5               bicarbonate            101         9590                1.05\n",
      "6                 bilirubin           3876         9590               40.42\n",
      "7       carbondioxide_blood           5848         9590               60.98\n",
      "8       carbondioxide_serum           5849         9590               60.99\n",
      "9            chloride_blood           8572         9590               89.38\n",
      "10           chloride_serum             97         9590                1.01\n",
      "11               creatinine            101         9590                1.05\n",
      "12            glucose_serum            109         9590                1.14\n",
      "13            glucose_urine           8873         9590               92.52\n",
      "14               hematocrit           2214         9590               23.09\n",
      "15               hemoglobin            110         9590                1.15\n",
      "16                      inr           3258         9590               33.97\n",
      "17                  lactate           3268         9590               34.08\n",
      "18    leukocytes_blood_auto           9533         9590               99.41\n",
      "19  leukocytes_blood_manual           2229         9590               23.24\n",
      "20                   oxygen           5851         9590               61.01\n",
      "21                 ph_blood           5695         9590               59.38\n",
      "22             ph_bodyfluid           9536         9590               99.44\n",
      "23           platelet_count           2224         9590               23.19\n",
      "24          potassium_blood           7524         9590               78.46\n",
      "25          potassium_serum             84         9590                0.88\n",
      "26             sodium_blood           8404         9590               87.63\n",
      "27             sodium_serum             91         9590                0.95\n",
      "28            urea_nitrogen           2222         9590               23.17\n",
      "\n",
      "2023-09-21 14:26:33,700 - Anomalies - INFO - Dropping columns with above 25.0 % missingness\n",
      "2023-09-21 14:26:34,341 - Anomalies - INFO - Saving data to lab_measurements_first_icd_dropped.csv\n",
      "2023-09-21 14:26:34,419 - Anomalies - INFO - Done!!\n",
      "2023-09-21 14:26:34,822 - Anomalies - INFO - Parsing command line arguments\n",
      "2023-09-21 14:26:34,823 - Anomalies - INFO - Start!!\n",
      "2023-09-21 14:26:34,824 - Anomalies - INFO - args.source_file: /home/yram0006/phd/chapter_2/workspace/mortality_data/standardisation_experiment/extract/lab_measurements_last_icd.csv\n",
      "2023-09-21 14:26:34,824 - Anomalies - INFO - args.chunksize: 10\n",
      "2023-09-21 14:26:34,824 - Anomalies - INFO - args.id_columns: ['person_id']\n",
      "2023-09-21 14:26:34,824 - Anomalies - INFO - args.drop: True\n",
      "2023-09-21 14:26:34,824 - Anomalies - INFO - args.percentage: 25.0\n",
      "2023-09-21 14:26:34,824 - Anomalies - INFO - args.save_path: /home/yram0006/phd/chapter_2/workspace/mortality_data/standardisation_experiment/dropped\n",
      "2023-09-21 14:26:34,824 - Anomalies - INFO - Calculating Missingnes\n",
      "2023-09-21 14:26:39,146 - Anomalies - INFO - Missingness Report\n",
      "2023-09-21 14:26:39,150 - Anomalies - INFO - \n",
      "\n",
      "                column_name  missing_count  total_count  percentage_missing\n",
      "0                   albumin           4793         9590               49.98\n",
      "1                 anion_gap           2234         9590               23.30\n",
      "2                      aptt           3333         9590               34.75\n",
      "3     band_form_neutrophils           7006         9590               73.06\n",
      "4      base_excess_in_blood           5849         9590               60.99\n",
      "5               bicarbonate            101         9590                1.05\n",
      "6                 bilirubin           3876         9590               40.42\n",
      "7       carbondioxide_blood           5848         9590               60.98\n",
      "8       carbondioxide_serum           5849         9590               60.99\n",
      "9            chloride_blood           8572         9590               89.38\n",
      "10           chloride_serum             97         9590                1.01\n",
      "11               creatinine            101         9590                1.05\n",
      "12            glucose_serum            109         9590                1.14\n",
      "13            glucose_urine           8873         9590               92.52\n",
      "14               hematocrit           2214         9590               23.09\n",
      "15               hemoglobin            110         9590                1.15\n",
      "16                      inr           3258         9590               33.97\n",
      "17                  lactate           3268         9590               34.08\n",
      "18    leukocytes_blood_auto           9533         9590               99.41\n",
      "19  leukocytes_blood_manual           2229         9590               23.24\n",
      "20                   oxygen           5851         9590               61.01\n",
      "21                 ph_blood           5695         9590               59.38\n",
      "22             ph_bodyfluid           9536         9590               99.44\n",
      "23           platelet_count           2224         9590               23.19\n",
      "24          potassium_blood           7524         9590               78.46\n",
      "25          potassium_serum             84         9590                0.88\n",
      "26             sodium_blood           8404         9590               87.63\n",
      "27             sodium_serum             91         9590                0.95\n",
      "28            urea_nitrogen           2222         9590               23.17\n",
      "\n",
      "2023-09-21 14:26:39,150 - Anomalies - INFO - Dropping columns with above 25.0 % missingness\n",
      "2023-09-21 14:26:39,795 - Anomalies - INFO - Saving data to lab_measurements_last_icd_dropped.csv\n",
      "2023-09-21 14:26:39,873 - Anomalies - INFO - Done!!\n"
     ]
    },
    {
     "data": {
      "text/plain": [
       "0"
      ]
     },
     "execution_count": 7,
     "metadata": {},
     "output_type": "execute_result"
    }
   ],
   "source": [
    "import os\n",
    "\n",
    "\n",
    "os.system(\n",
    "    '''cd /superbugai-data/yash/chapter_1/workspace/EHRQC;'''\n",
    "    +\n",
    "    '''.venv/bin/python -m ehrqc.qc.Coverage ''' + dataDirName + '''extract/demographics_icd.csv 10 person_id -d -p 0 -sp ''' + dataDirName + '''dropped;'''\n",
    "    +\n",
    "    '''.venv/bin/python -m ehrqc.qc.Coverage ''' + dataDirName + '''extract/deaths.csv 10 person_id -d -p 100 -sp ''' + dataDirName + '''dropped;'''\n",
    "    +\n",
    "    '''.venv/bin/python -m ehrqc.qc.Coverage ''' + dataDirName + '''extract/vitals_min_icd.csv 10 person_id -d -p 25 -sp ''' + dataDirName + '''dropped;'''\n",
    "    +\n",
    "    '''.venv/bin/python -m ehrqc.qc.Coverage ''' + dataDirName + '''extract/vitals_max_icd.csv 10 person_id -d -p 25 -sp ''' + dataDirName + '''dropped;'''\n",
    "    +\n",
    "    '''.venv/bin/python -m ehrqc.qc.Coverage ''' + dataDirName + '''extract/vitals_avg_icd.csv 10 person_id -d -p 25 -sp ''' + dataDirName + '''dropped;'''\n",
    "    +\n",
    "    '''.venv/bin/python -m ehrqc.qc.Coverage ''' + dataDirName + '''extract/vitals_stddev_icd.csv 10 person_id -d -p 25 -sp ''' + dataDirName + '''dropped;'''\n",
    "    +\n",
    "    '''.venv/bin/python -m ehrqc.qc.Coverage ''' + dataDirName + '''extract/vitals_first_icd.csv 10 person_id -d -p 25 -sp ''' + dataDirName + '''dropped;'''\n",
    "    +\n",
    "    '''.venv/bin/python -m ehrqc.qc.Coverage ''' + dataDirName + '''extract/vitals_last_icd.csv 10 person_id -d -p 25 -sp ''' + dataDirName + '''dropped;'''\n",
    "    +\n",
    "    '''.venv/bin/python -m ehrqc.qc.Coverage ''' + dataDirName + '''extract/lab_measurements_min_icd.csv 10 person_id -d -p 25 -sp ''' + dataDirName + '''dropped;'''\n",
    "    +\n",
    "    '''.venv/bin/python -m ehrqc.qc.Coverage ''' + dataDirName + '''extract/lab_measurements_max_icd.csv 10 person_id -d -p 25 -sp ''' + dataDirName + '''dropped;'''\n",
    "    +\n",
    "    '''.venv/bin/python -m ehrqc.qc.Coverage ''' + dataDirName + '''extract/lab_measurements_avg_icd.csv 10 person_id -d -p 25 -sp ''' + dataDirName + '''dropped;'''\n",
    "    +\n",
    "    '''.venv/bin/python -m ehrqc.qc.Coverage ''' + dataDirName + '''extract/lab_measurements_stddev_icd.csv 10 person_id -d -p 25 -sp ''' + dataDirName + '''dropped;'''\n",
    "    +\n",
    "    '''.venv/bin/python -m ehrqc.qc.Coverage ''' + dataDirName + '''extract/lab_measurements_first_icd.csv 10 person_id -d -p 25 -sp ''' + dataDirName + '''dropped;'''\n",
    "    +\n",
    "    '''.venv/bin/python -m ehrqc.qc.Coverage ''' + dataDirName + '''extract/lab_measurements_last_icd.csv 10 person_id -d -p 25 -sp ''' + dataDirName + '''dropped;'''\n",
    "    )"
   ]
  },
  {
   "cell_type": "markdown",
   "metadata": {},
   "source": [
    "### Read dropped files"
   ]
  },
  {
   "cell_type": "code",
   "execution_count": 8,
   "metadata": {},
   "outputs": [],
   "source": [
    "import pandas as pd\n",
    "\n",
    "demographics =  pd.read_csv(dataDirName + \"dropped/demographics_icd_dropped.csv\")\n",
    "vitals_min =  pd.read_csv(dataDirName + \"dropped/vitals_min_icd_dropped.csv\")\n",
    "vitals_max =  pd.read_csv(dataDirName + \"dropped/vitals_max_icd_dropped.csv\")\n",
    "vitals_avg =  pd.read_csv(dataDirName + \"dropped/vitals_avg_icd_dropped.csv\")\n",
    "vitals_stddev =  pd.read_csv(dataDirName + \"dropped/vitals_stddev_icd_dropped.csv\")\n",
    "vitals_first =  pd.read_csv(dataDirName + \"dropped/vitals_first_icd_dropped.csv\")\n",
    "vitals_last =  pd.read_csv(dataDirName + \"dropped/vitals_last_icd_dropped.csv\")\n",
    "lab_measurements_min =  pd.read_csv(dataDirName + \"dropped/lab_measurements_min_icd_dropped.csv\")\n",
    "lab_measurements_max =  pd.read_csv(dataDirName + \"dropped/lab_measurements_max_icd_dropped.csv\")\n",
    "lab_measurements_avg =  pd.read_csv(dataDirName + \"dropped/lab_measurements_avg_icd_dropped.csv\")\n",
    "lab_measurements_stddev =  pd.read_csv(dataDirName + \"dropped/lab_measurements_stddev_icd_dropped.csv\")\n",
    "lab_measurements_first =  pd.read_csv(dataDirName + \"dropped/lab_measurements_first_icd_dropped.csv\")\n",
    "lab_measurements_last =  pd.read_csv(dataDirName + \"dropped/lab_measurements_last_icd_dropped.csv\")"
   ]
  },
  {
   "cell_type": "markdown",
   "metadata": {},
   "source": [
    "### Display counts post dropping"
   ]
  },
  {
   "cell_type": "code",
   "execution_count": 9,
   "metadata": {},
   "outputs": [
    {
     "data": {
      "text/plain": [
       "(12241, 4)"
      ]
     },
     "execution_count": 9,
     "metadata": {},
     "output_type": "execute_result"
    }
   ],
   "source": [
    "demographics.shape"
   ]
  },
  {
   "cell_type": "code",
   "execution_count": 10,
   "metadata": {},
   "outputs": [
    {
     "data": {
      "text/plain": [
       "((4740, 11), (4740, 11), (4740, 11), (4740, 11), (4740, 11), (4740, 11))"
      ]
     },
     "execution_count": 10,
     "metadata": {},
     "output_type": "execute_result"
    }
   ],
   "source": [
    "vitals_min.shape, vitals_max.shape, vitals_avg.shape, vitals_stddev.shape, vitals_first.shape, vitals_last.shape"
   ]
  },
  {
   "cell_type": "code",
   "execution_count": 11,
   "metadata": {},
   "outputs": [
    {
     "data": {
      "text/plain": [
       "((9590, 13), (9590, 13), (9590, 13), (9590, 8), (9590, 13), (9590, 13))"
      ]
     },
     "execution_count": 11,
     "metadata": {},
     "output_type": "execute_result"
    }
   ],
   "source": [
    "lab_measurements_min.shape, lab_measurements_max.shape, lab_measurements_avg.shape, lab_measurements_stddev.shape, lab_measurements_first.shape, lab_measurements_last.shape"
   ]
  },
  {
   "cell_type": "markdown",
   "metadata": {},
   "source": [
    "## Missing data imputation\n",
    "\n",
    "Data imputation is performed for all the missing data"
   ]
  },
  {
   "cell_type": "markdown",
   "metadata": {},
   "source": [
    "### Impute missing data"
   ]
  },
  {
   "cell_type": "code",
   "execution_count": 12,
   "metadata": {},
   "outputs": [
    {
     "name": "stdout",
     "output_type": "stream",
     "text": [
      "2023-09-21 14:28:02,325 - EHRQC - INFO - Parsing command line arguments\n",
      "2023-09-21 14:28:02,326 - EHRQC - INFO - args.action: impute\n",
      "2023-09-21 14:28:02,327 - EHRQC - INFO - args.source_path: /home/yram0006/phd/chapter_2/workspace/mortality_data/standardisation_experiment/dropped/vitals_min_icd_dropped.csv\n",
      "2023-09-21 14:28:02,327 - EHRQC - INFO - args.percentage: None\n",
      "2023-09-21 14:28:02,327 - EHRQC - INFO - args.save_path: /home/yram0006/phd/chapter_2/workspace/mortality_data/standardisation_experiment/imputed/vitals_min_icd.csv\n",
      "2023-09-21 14:28:02,327 - EHRQC - INFO - args.algorithm: miss_forest\n",
      "Iteration: 0\n",
      "Iteration: 1\n",
      "Iteration: 2\n",
      "Iteration: 3\n",
      "Iteration: 4\n",
      "2023-09-21 14:28:17,642 - EHRQC - INFO - Done!!\n",
      "2023-09-21 14:28:19,393 - EHRQC - INFO - Parsing command line arguments\n",
      "2023-09-21 14:28:19,394 - EHRQC - INFO - args.action: impute\n",
      "2023-09-21 14:28:19,394 - EHRQC - INFO - args.source_path: /home/yram0006/phd/chapter_2/workspace/mortality_data/standardisation_experiment/dropped/vitals_max_icd_dropped.csv\n",
      "2023-09-21 14:28:19,394 - EHRQC - INFO - args.percentage: None\n",
      "2023-09-21 14:28:19,394 - EHRQC - INFO - args.save_path: /home/yram0006/phd/chapter_2/workspace/mortality_data/standardisation_experiment/imputed/vitals_max_icd.csv\n",
      "2023-09-21 14:28:19,394 - EHRQC - INFO - args.algorithm: miss_forest\n",
      "Iteration: 0\n",
      "Iteration: 1\n",
      "2023-09-21 14:28:25,445 - EHRQC - INFO - Done!!\n",
      "2023-09-21 14:28:27,131 - EHRQC - INFO - Parsing command line arguments\n",
      "2023-09-21 14:28:27,132 - EHRQC - INFO - args.action: impute\n",
      "2023-09-21 14:28:27,132 - EHRQC - INFO - args.source_path: /home/yram0006/phd/chapter_2/workspace/mortality_data/standardisation_experiment/dropped/vitals_avg_icd_dropped.csv\n",
      "2023-09-21 14:28:27,132 - EHRQC - INFO - args.percentage: None\n",
      "2023-09-21 14:28:27,132 - EHRQC - INFO - args.save_path: /home/yram0006/phd/chapter_2/workspace/mortality_data/standardisation_experiment/imputed/vitals_avg_icd.csv\n",
      "2023-09-21 14:28:27,132 - EHRQC - INFO - args.algorithm: miss_forest\n",
      "Iteration: 0\n",
      "Iteration: 1\n",
      "Iteration: 2\n",
      "Iteration: 3\n",
      "Iteration: 4\n",
      "2023-09-21 14:28:45,625 - EHRQC - INFO - Done!!\n",
      "2023-09-21 14:28:47,357 - EHRQC - INFO - Parsing command line arguments\n",
      "2023-09-21 14:28:47,358 - EHRQC - INFO - args.action: impute\n",
      "2023-09-21 14:28:47,358 - EHRQC - INFO - args.source_path: /home/yram0006/phd/chapter_2/workspace/mortality_data/standardisation_experiment/dropped/vitals_stddev_icd_dropped.csv\n",
      "2023-09-21 14:28:47,358 - EHRQC - INFO - args.percentage: None\n",
      "2023-09-21 14:28:47,358 - EHRQC - INFO - args.save_path: /home/yram0006/phd/chapter_2/workspace/mortality_data/standardisation_experiment/imputed/vitals_stddev_icd.csv\n",
      "2023-09-21 14:28:47,358 - EHRQC - INFO - args.algorithm: miss_forest\n",
      "Iteration: 0\n",
      "Iteration: 1\n",
      "Iteration: 2\n",
      "Iteration: 3\n",
      "2023-09-21 14:29:02,226 - EHRQC - INFO - Done!!\n",
      "2023-09-21 14:29:03,944 - EHRQC - INFO - Parsing command line arguments\n",
      "2023-09-21 14:29:03,945 - EHRQC - INFO - args.action: impute\n",
      "2023-09-21 14:29:03,945 - EHRQC - INFO - args.source_path: /home/yram0006/phd/chapter_2/workspace/mortality_data/standardisation_experiment/dropped/vitals_first_icd_dropped.csv\n",
      "2023-09-21 14:29:03,945 - EHRQC - INFO - args.percentage: None\n",
      "2023-09-21 14:29:03,945 - EHRQC - INFO - args.save_path: /home/yram0006/phd/chapter_2/workspace/mortality_data/standardisation_experiment/imputed/vitals_first_icd.csv\n",
      "2023-09-21 14:29:03,945 - EHRQC - INFO - args.algorithm: miss_forest\n",
      "Iteration: 0\n",
      "Iteration: 1\n",
      "Iteration: 2\n",
      "Iteration: 3\n",
      "Iteration: 4\n",
      "2023-09-21 14:29:19,297 - EHRQC - INFO - Done!!\n",
      "2023-09-21 14:29:21,047 - EHRQC - INFO - Parsing command line arguments\n",
      "2023-09-21 14:29:21,047 - EHRQC - INFO - args.action: impute\n",
      "2023-09-21 14:29:21,048 - EHRQC - INFO - args.source_path: /home/yram0006/phd/chapter_2/workspace/mortality_data/standardisation_experiment/dropped/vitals_last_icd_dropped.csv\n",
      "2023-09-21 14:29:21,048 - EHRQC - INFO - args.percentage: None\n",
      "2023-09-21 14:29:21,048 - EHRQC - INFO - args.save_path: /home/yram0006/phd/chapter_2/workspace/mortality_data/standardisation_experiment/imputed/vitals_last_icd.csv\n",
      "2023-09-21 14:29:21,048 - EHRQC - INFO - args.algorithm: miss_forest\n",
      "Iteration: 0\n",
      "Iteration: 1\n",
      "Iteration: 2\n",
      "Iteration: 3\n",
      "Iteration: 4\n",
      "Iteration: 5\n",
      "Iteration: 6\n",
      "Iteration: 7\n",
      "2023-09-21 14:29:45,768 - EHRQC - INFO - Done!!\n",
      "2023-09-21 14:29:47,537 - EHRQC - INFO - Parsing command line arguments\n",
      "2023-09-21 14:29:47,538 - EHRQC - INFO - args.action: impute\n",
      "2023-09-21 14:29:47,538 - EHRQC - INFO - args.source_path: /home/yram0006/phd/chapter_2/workspace/mortality_data/standardisation_experiment/dropped/lab_measurements_min_icd_dropped.csv\n",
      "2023-09-21 14:29:47,538 - EHRQC - INFO - args.percentage: None\n",
      "2023-09-21 14:29:47,538 - EHRQC - INFO - args.save_path: /home/yram0006/phd/chapter_2/workspace/mortality_data/standardisation_experiment/imputed/lab_measurements_min_icd.csv\n",
      "2023-09-21 14:29:47,538 - EHRQC - INFO - args.algorithm: miss_forest\n",
      "Iteration: 0\n",
      "Iteration: 1\n",
      "Iteration: 2\n",
      "Iteration: 3\n",
      "Iteration: 4\n",
      "Iteration: 5\n",
      "Iteration: 6\n",
      "2023-09-21 14:30:34,845 - EHRQC - INFO - Done!!\n",
      "2023-09-21 14:30:36,592 - EHRQC - INFO - Parsing command line arguments\n",
      "2023-09-21 14:30:36,593 - EHRQC - INFO - args.action: impute\n",
      "2023-09-21 14:30:36,593 - EHRQC - INFO - args.source_path: /home/yram0006/phd/chapter_2/workspace/mortality_data/standardisation_experiment/dropped/lab_measurements_max_icd_dropped.csv\n",
      "2023-09-21 14:30:36,593 - EHRQC - INFO - args.percentage: None\n",
      "2023-09-21 14:30:36,593 - EHRQC - INFO - args.save_path: /home/yram0006/phd/chapter_2/workspace/mortality_data/standardisation_experiment/imputed/lab_measurements_max_icd.csv\n",
      "2023-09-21 14:30:36,593 - EHRQC - INFO - args.algorithm: miss_forest\n",
      "Iteration: 0\n",
      "Iteration: 1\n",
      "Iteration: 2\n",
      "2023-09-21 14:30:57,115 - EHRQC - INFO - Done!!\n",
      "2023-09-21 14:30:58,838 - EHRQC - INFO - Parsing command line arguments\n",
      "2023-09-21 14:30:58,839 - EHRQC - INFO - args.action: impute\n",
      "2023-09-21 14:30:58,839 - EHRQC - INFO - args.source_path: /home/yram0006/phd/chapter_2/workspace/mortality_data/standardisation_experiment/dropped/lab_measurements_avg_icd_dropped.csv\n",
      "2023-09-21 14:30:58,839 - EHRQC - INFO - args.percentage: None\n",
      "2023-09-21 14:30:58,839 - EHRQC - INFO - args.save_path: /home/yram0006/phd/chapter_2/workspace/mortality_data/standardisation_experiment/imputed/lab_measurements_avg_icd.csv\n",
      "2023-09-21 14:30:58,839 - EHRQC - INFO - args.algorithm: miss_forest\n",
      "Iteration: 0\n",
      "Iteration: 1\n",
      "Iteration: 2\n",
      "Iteration: 3\n",
      "Iteration: 4\n",
      "Iteration: 5\n",
      "Iteration: 6\n",
      "Iteration: 7\n",
      "2023-09-21 14:32:00,658 - EHRQC - INFO - Done!!\n",
      "2023-09-21 14:32:02,400 - EHRQC - INFO - Parsing command line arguments\n",
      "2023-09-21 14:32:02,402 - EHRQC - INFO - args.action: impute\n",
      "2023-09-21 14:32:02,402 - EHRQC - INFO - args.source_path: /home/yram0006/phd/chapter_2/workspace/mortality_data/standardisation_experiment/dropped/lab_measurements_stddev_icd_dropped.csv\n",
      "2023-09-21 14:32:02,402 - EHRQC - INFO - args.percentage: None\n",
      "2023-09-21 14:32:02,402 - EHRQC - INFO - args.save_path: /home/yram0006/phd/chapter_2/workspace/mortality_data/standardisation_experiment/imputed/lab_measurements_stddev_icd.csv\n",
      "2023-09-21 14:32:02,402 - EHRQC - INFO - args.algorithm: miss_forest\n",
      "Iteration: 0\n",
      "Iteration: 1\n",
      "Iteration: 2\n",
      "2023-09-21 14:32:12,352 - EHRQC - INFO - Done!!\n",
      "2023-09-21 14:32:14,091 - EHRQC - INFO - Parsing command line arguments\n",
      "2023-09-21 14:32:14,092 - EHRQC - INFO - args.action: impute\n",
      "2023-09-21 14:32:14,092 - EHRQC - INFO - args.source_path: /home/yram0006/phd/chapter_2/workspace/mortality_data/standardisation_experiment/dropped/lab_measurements_first_icd_dropped.csv\n",
      "2023-09-21 14:32:14,092 - EHRQC - INFO - args.percentage: None\n",
      "2023-09-21 14:32:14,092 - EHRQC - INFO - args.save_path: /home/yram0006/phd/chapter_2/workspace/mortality_data/standardisation_experiment/imputed/lab_measurements_first_icd.csv\n",
      "2023-09-21 14:32:14,092 - EHRQC - INFO - args.algorithm: miss_forest\n",
      "Iteration: 0\n",
      "Iteration: 1\n",
      "Iteration: 2\n",
      "Iteration: 3\n",
      "Iteration: 4\n",
      "Iteration: 5\n",
      "2023-09-21 14:32:54,805 - EHRQC - INFO - Done!!\n",
      "2023-09-21 14:32:56,584 - EHRQC - INFO - Parsing command line arguments\n",
      "2023-09-21 14:32:56,585 - EHRQC - INFO - args.action: impute\n",
      "2023-09-21 14:32:56,585 - EHRQC - INFO - args.source_path: /home/yram0006/phd/chapter_2/workspace/mortality_data/standardisation_experiment/dropped/lab_measurements_last_icd_dropped.csv\n",
      "2023-09-21 14:32:56,585 - EHRQC - INFO - args.percentage: None\n",
      "2023-09-21 14:32:56,585 - EHRQC - INFO - args.save_path: /home/yram0006/phd/chapter_2/workspace/mortality_data/standardisation_experiment/imputed/lab_measurements_last_icd.csv\n",
      "2023-09-21 14:32:56,585 - EHRQC - INFO - args.algorithm: miss_forest\n",
      "Iteration: 0\n",
      "Iteration: 1\n",
      "Iteration: 2\n",
      "2023-09-21 14:33:16,920 - EHRQC - INFO - Done!!\n"
     ]
    },
    {
     "data": {
      "text/plain": [
       "0"
      ]
     },
     "execution_count": 12,
     "metadata": {},
     "output_type": "execute_result"
    }
   ],
   "source": [
    "import os\n",
    "\n",
    "\n",
    "os.system(\n",
    "    '''cd /superbugai-data/yash/chapter_1/workspace/EHRQC;'''\n",
    "    +\n",
    "    '''.venv/bin/python -m ehrqc.qc.Impute \"impute\" \"''' + dataDirName + '''dropped/vitals_min_icd_dropped.csv\"  -sp=\"''' + dataDirName + '''imputed/vitals_min_icd.csv\" -a=\"miss_forest\";'''\n",
    "    +\n",
    "    '''.venv/bin/python -m ehrqc.qc.Impute \"impute\" \"''' + dataDirName + '''dropped/vitals_max_icd_dropped.csv\"  -sp=\"''' + dataDirName + '''imputed/vitals_max_icd.csv\" -a=\"miss_forest\";'''\n",
    "    +\n",
    "    '''.venv/bin/python -m ehrqc.qc.Impute \"impute\" \"''' + dataDirName + '''dropped/vitals_avg_icd_dropped.csv\"  -sp=\"''' + dataDirName + '''imputed/vitals_avg_icd.csv\" -a=\"miss_forest\";'''\n",
    "    +\n",
    "    '''.venv/bin/python -m ehrqc.qc.Impute \"impute\" \"''' + dataDirName + '''dropped/vitals_stddev_icd_dropped.csv\"  -sp=\"''' + dataDirName + '''imputed/vitals_stddev_icd.csv\" -a=\"miss_forest\";'''\n",
    "    +\n",
    "    '''.venv/bin/python -m ehrqc.qc.Impute \"impute\" \"''' + dataDirName + '''dropped/vitals_first_icd_dropped.csv\"  -sp=\"''' + dataDirName + '''imputed/vitals_first_icd.csv\" -a=\"miss_forest\";'''\n",
    "    +\n",
    "    '''.venv/bin/python -m ehrqc.qc.Impute \"impute\" \"''' + dataDirName + '''dropped/vitals_last_icd_dropped.csv\"  -sp=\"''' + dataDirName + '''imputed/vitals_last_icd.csv\" -a=\"miss_forest\";'''\n",
    "    +\n",
    "    '''.venv/bin/python -m ehrqc.qc.Impute \"impute\" \"''' + dataDirName + '''dropped/lab_measurements_min_icd_dropped.csv\"  -sp=\"''' + dataDirName + '''imputed/lab_measurements_min_icd.csv\" -a=\"miss_forest\";'''\n",
    "    +\n",
    "    '''.venv/bin/python -m ehrqc.qc.Impute \"impute\" \"''' + dataDirName + '''dropped/lab_measurements_max_icd_dropped.csv\"  -sp=\"''' + dataDirName + '''imputed/lab_measurements_max_icd.csv\" -a=\"miss_forest\";'''\n",
    "    +\n",
    "    '''.venv/bin/python -m ehrqc.qc.Impute \"impute\" \"''' + dataDirName + '''dropped/lab_measurements_avg_icd_dropped.csv\"  -sp=\"''' + dataDirName + '''imputed/lab_measurements_avg_icd.csv\" -a=\"miss_forest\";'''\n",
    "    +\n",
    "    '''.venv/bin/python -m ehrqc.qc.Impute \"impute\" \"''' + dataDirName + '''dropped/lab_measurements_stddev_icd_dropped.csv\"  -sp=\"''' + dataDirName + '''imputed/lab_measurements_stddev_icd.csv\" -a=\"miss_forest\";'''\n",
    "    +\n",
    "    '''.venv/bin/python -m ehrqc.qc.Impute \"impute\" \"''' + dataDirName + '''dropped/lab_measurements_first_icd_dropped.csv\"  -sp=\"''' + dataDirName + '''imputed/lab_measurements_first_icd.csv\" -a=\"miss_forest\";'''\n",
    "    +\n",
    "    '''.venv/bin/python -m ehrqc.qc.Impute \"impute\" \"''' + dataDirName + '''dropped/lab_measurements_last_icd_dropped.csv\"  -sp=\"''' + dataDirName + '''imputed/lab_measurements_last_icd.csv\" -a=\"miss_forest\";'''\n",
    "    )\n"
   ]
  },
  {
   "cell_type": "markdown",
   "metadata": {},
   "source": [
    "### Read imputed files"
   ]
  },
  {
   "cell_type": "code",
   "execution_count": 13,
   "metadata": {},
   "outputs": [],
   "source": [
    "import pandas as pd\n",
    "\n",
    "\n",
    "vitals_min =  pd.read_csv(dataDirName + \"imputed/vitals_min_icd.csv\")\n",
    "vitals_max =  pd.read_csv(dataDirName + \"imputed/vitals_max_icd.csv\")\n",
    "vitals_avg =  pd.read_csv(dataDirName + \"imputed/vitals_avg_icd.csv\")\n",
    "vitals_stddev =  pd.read_csv(dataDirName + \"imputed/vitals_stddev_icd.csv\")\n",
    "vitals_first =  pd.read_csv(dataDirName + \"imputed/vitals_first_icd.csv\")\n",
    "vitals_last =  pd.read_csv(dataDirName + \"imputed/vitals_last_icd.csv\")\n",
    "lab_measurements_min =  pd.read_csv(dataDirName + \"imputed/lab_measurements_min_icd.csv\")\n",
    "lab_measurements_max =  pd.read_csv(dataDirName + \"imputed/lab_measurements_max_icd.csv\")\n",
    "lab_measurements_avg =  pd.read_csv(dataDirName + \"imputed/lab_measurements_avg_icd.csv\")\n",
    "lab_measurements_stddev =  pd.read_csv(dataDirName + \"imputed/lab_measurements_stddev_icd.csv\")\n",
    "lab_measurements_first =  pd.read_csv(dataDirName + \"imputed/lab_measurements_first_icd.csv\")\n",
    "lab_measurements_last =  pd.read_csv(dataDirName + \"imputed/lab_measurements_last_icd.csv\")"
   ]
  },
  {
   "cell_type": "markdown",
   "metadata": {},
   "source": [
    "### Display counts post imputation"
   ]
  },
  {
   "cell_type": "code",
   "execution_count": 14,
   "metadata": {},
   "outputs": [
    {
     "data": {
      "text/plain": [
       "(12241, 4)"
      ]
     },
     "execution_count": 14,
     "metadata": {},
     "output_type": "execute_result"
    }
   ],
   "source": [
    "demographics.shape"
   ]
  },
  {
   "cell_type": "code",
   "execution_count": 15,
   "metadata": {},
   "outputs": [
    {
     "data": {
      "text/plain": [
       "((4740, 11), (4740, 11), (4740, 11), (4740, 11), (4740, 11), (4740, 11))"
      ]
     },
     "execution_count": 15,
     "metadata": {},
     "output_type": "execute_result"
    }
   ],
   "source": [
    "vitals_min.shape, vitals_max.shape, vitals_avg.shape, vitals_stddev.shape, vitals_first.shape, vitals_last.shape"
   ]
  },
  {
   "cell_type": "code",
   "execution_count": 16,
   "metadata": {},
   "outputs": [
    {
     "data": {
      "text/plain": [
       "((9590, 13), (9590, 13), (9590, 13), (9590, 8), (9590, 13), (9590, 13))"
      ]
     },
     "execution_count": 16,
     "metadata": {},
     "output_type": "execute_result"
    }
   ],
   "source": [
    "lab_measurements_min.shape, lab_measurements_max.shape, lab_measurements_avg.shape, lab_measurements_stddev.shape, lab_measurements_first.shape, lab_measurements_last.shape"
   ]
  },
  {
   "cell_type": "markdown",
   "metadata": {},
   "source": [
    "## Outlier removal using IRT"
   ]
  },
  {
   "cell_type": "markdown",
   "metadata": {},
   "source": [
    "### Remove outliers"
   ]
  },
  {
   "cell_type": "code",
   "execution_count": 17,
   "metadata": {},
   "outputs": [
    {
     "name": "stdout",
     "output_type": "stream",
     "text": [
      "2023-09-21 14:33:18,864 - Anomalies - INFO - Parsing command line arguments\n",
      "2023-09-21 14:33:18,865 - Anomalies - INFO - Start!!\n",
      "2023-09-21 14:33:18,865 - Anomalies - INFO - args.source_path: /home/yram0006/phd/chapter_2/workspace/mortality_data/standardisation_experiment/imputed/vitals_min_icd.csv\n",
      "2023-09-21 14:33:18,865 - Anomalies - INFO - args.save_path: /home/yram0006/phd/chapter_2/workspace/mortality_data/standardisation_experiment/outlier_removal/\n",
      "2023-09-21 14:33:18,866 - Anomalies - INFO - args.save_prefix: vitals_min_icd\n",
      "2023-09-21 14:33:18,866 - Anomalies - INFO - args.detect_missing: False\n",
      "2023-09-21 14:33:18,866 - Anomalies - INFO - args.detect_outliers: False\n",
      "2023-09-21 14:33:18,866 - Anomalies - INFO - args.detect_errors: False\n",
      "2023-09-21 14:33:18,866 - Anomalies - INFO - args.detect_inconsistencies: False\n",
      "2023-09-21 14:33:18,866 - Anomalies - INFO - args.correct_missing: False\n",
      "2023-09-21 14:33:18,866 - Anomalies - INFO - args.correct_outliers: True\n"
     ]
    },
    {
     "name": "stderr",
     "output_type": "stream",
     "text": [
      "Warning message:\n",
      "In sqrt(diag(solve(Hess))) : NaNs produced\n"
     ]
    },
    {
     "name": "stdout",
     "output_type": "stream",
     "text": [
      "2023-09-21 14:33:28,412 - Anomalies - INFO - Done!!\n",
      "2023-09-21 14:33:30,134 - Anomalies - INFO - Parsing command line arguments\n",
      "2023-09-21 14:33:30,135 - Anomalies - INFO - Start!!\n",
      "2023-09-21 14:33:30,135 - Anomalies - INFO - args.source_path: /home/yram0006/phd/chapter_2/workspace/mortality_data/standardisation_experiment/imputed/vitals_max_icd.csv\n",
      "2023-09-21 14:33:30,136 - Anomalies - INFO - args.save_path: /home/yram0006/phd/chapter_2/workspace/mortality_data/standardisation_experiment/outlier_removal/\n",
      "2023-09-21 14:33:30,136 - Anomalies - INFO - args.save_prefix: vitals_max_icd\n",
      "2023-09-21 14:33:30,136 - Anomalies - INFO - args.detect_missing: False\n",
      "2023-09-21 14:33:30,136 - Anomalies - INFO - args.detect_outliers: False\n",
      "2023-09-21 14:33:30,136 - Anomalies - INFO - args.detect_errors: False\n",
      "2023-09-21 14:33:30,136 - Anomalies - INFO - args.detect_inconsistencies: False\n",
      "2023-09-21 14:33:30,136 - Anomalies - INFO - args.correct_missing: False\n",
      "2023-09-21 14:33:30,136 - Anomalies - INFO - args.correct_outliers: True\n"
     ]
    },
    {
     "name": "stderr",
     "output_type": "stream",
     "text": [
      "Warning message:\n",
      "In sqrt(diag(solve(Hess))) : NaNs produced\n"
     ]
    },
    {
     "name": "stdout",
     "output_type": "stream",
     "text": [
      "2023-09-21 14:33:39,368 - Anomalies - INFO - Done!!\n",
      "2023-09-21 14:33:41,099 - Anomalies - INFO - Parsing command line arguments\n",
      "2023-09-21 14:33:41,100 - Anomalies - INFO - Start!!\n",
      "2023-09-21 14:33:41,100 - Anomalies - INFO - args.source_path: /home/yram0006/phd/chapter_2/workspace/mortality_data/standardisation_experiment/imputed/vitals_avg_icd.csv\n",
      "2023-09-21 14:33:41,100 - Anomalies - INFO - args.save_path: /home/yram0006/phd/chapter_2/workspace/mortality_data/standardisation_experiment/outlier_removal/\n",
      "2023-09-21 14:33:41,100 - Anomalies - INFO - args.save_prefix: vitals_avg_icd\n",
      "2023-09-21 14:33:41,100 - Anomalies - INFO - args.detect_missing: False\n",
      "2023-09-21 14:33:41,100 - Anomalies - INFO - args.detect_outliers: False\n",
      "2023-09-21 14:33:41,100 - Anomalies - INFO - args.detect_errors: False\n",
      "2023-09-21 14:33:41,100 - Anomalies - INFO - args.detect_inconsistencies: False\n",
      "2023-09-21 14:33:41,101 - Anomalies - INFO - args.correct_missing: False\n",
      "2023-09-21 14:33:41,101 - Anomalies - INFO - args.correct_outliers: True\n"
     ]
    },
    {
     "name": "stderr",
     "output_type": "stream",
     "text": [
      "Warning message:\n",
      "In sqrt(diag(solve(Hess))) : NaNs produced\n"
     ]
    },
    {
     "name": "stdout",
     "output_type": "stream",
     "text": [
      "2023-09-21 14:33:50,480 - Anomalies - INFO - Done!!\n",
      "2023-09-21 14:33:52,181 - Anomalies - INFO - Parsing command line arguments\n",
      "2023-09-21 14:33:52,182 - Anomalies - INFO - Start!!\n",
      "2023-09-21 14:33:52,183 - Anomalies - INFO - args.source_path: /home/yram0006/phd/chapter_2/workspace/mortality_data/standardisation_experiment/imputed/vitals_stddev_icd.csv\n",
      "2023-09-21 14:33:52,183 - Anomalies - INFO - args.save_path: /home/yram0006/phd/chapter_2/workspace/mortality_data/standardisation_experiment/outlier_removal/\n",
      "2023-09-21 14:33:52,183 - Anomalies - INFO - args.save_prefix: vitals_stddev_icd\n",
      "2023-09-21 14:33:52,183 - Anomalies - INFO - args.detect_missing: False\n",
      "2023-09-21 14:33:52,183 - Anomalies - INFO - args.detect_outliers: False\n",
      "2023-09-21 14:33:52,183 - Anomalies - INFO - args.detect_errors: False\n",
      "2023-09-21 14:33:52,183 - Anomalies - INFO - args.detect_inconsistencies: False\n",
      "2023-09-21 14:33:52,183 - Anomalies - INFO - args.correct_missing: False\n",
      "2023-09-21 14:33:52,183 - Anomalies - INFO - args.correct_outliers: True\n"
     ]
    },
    {
     "name": "stderr",
     "output_type": "stream",
     "text": [
      "Warning message:\n",
      "In sqrt(diag(solve(Hess))) : NaNs produced\n"
     ]
    },
    {
     "name": "stdout",
     "output_type": "stream",
     "text": [
      "2023-09-21 14:34:01,640 - Anomalies - INFO - Done!!\n",
      "2023-09-21 14:34:03,369 - Anomalies - INFO - Parsing command line arguments\n",
      "2023-09-21 14:34:03,371 - Anomalies - INFO - Start!!\n",
      "2023-09-21 14:34:03,371 - Anomalies - INFO - args.source_path: /home/yram0006/phd/chapter_2/workspace/mortality_data/standardisation_experiment/imputed/vitals_first_icd.csv\n",
      "2023-09-21 14:34:03,371 - Anomalies - INFO - args.save_path: /home/yram0006/phd/chapter_2/workspace/mortality_data/standardisation_experiment/outlier_removal/\n",
      "2023-09-21 14:34:03,371 - Anomalies - INFO - args.save_prefix: vitals_first_icd\n",
      "2023-09-21 14:34:03,371 - Anomalies - INFO - args.detect_missing: False\n",
      "2023-09-21 14:34:03,371 - Anomalies - INFO - args.detect_outliers: False\n",
      "2023-09-21 14:34:03,371 - Anomalies - INFO - args.detect_errors: False\n",
      "2023-09-21 14:34:03,371 - Anomalies - INFO - args.detect_inconsistencies: False\n",
      "2023-09-21 14:34:03,371 - Anomalies - INFO - args.correct_missing: False\n",
      "2023-09-21 14:34:03,371 - Anomalies - INFO - args.correct_outliers: True\n"
     ]
    },
    {
     "name": "stderr",
     "output_type": "stream",
     "text": [
      "Warning message:\n",
      "In sqrt(diag(solve(Hess))) : NaNs produced\n"
     ]
    },
    {
     "name": "stdout",
     "output_type": "stream",
     "text": [
      "2023-09-21 14:34:12,838 - Anomalies - INFO - Done!!\n",
      "2023-09-21 14:34:14,559 - Anomalies - INFO - Parsing command line arguments\n",
      "2023-09-21 14:34:14,560 - Anomalies - INFO - Start!!\n",
      "2023-09-21 14:34:14,561 - Anomalies - INFO - args.source_path: /home/yram0006/phd/chapter_2/workspace/mortality_data/standardisation_experiment/imputed/vitals_last_icd.csv\n",
      "2023-09-21 14:34:14,561 - Anomalies - INFO - args.save_path: /home/yram0006/phd/chapter_2/workspace/mortality_data/standardisation_experiment/outlier_removal/\n",
      "2023-09-21 14:34:14,561 - Anomalies - INFO - args.save_prefix: vitals_last_icd\n",
      "2023-09-21 14:34:14,561 - Anomalies - INFO - args.detect_missing: False\n",
      "2023-09-21 14:34:14,561 - Anomalies - INFO - args.detect_outliers: False\n",
      "2023-09-21 14:34:14,561 - Anomalies - INFO - args.detect_errors: False\n",
      "2023-09-21 14:34:14,561 - Anomalies - INFO - args.detect_inconsistencies: False\n",
      "2023-09-21 14:34:14,561 - Anomalies - INFO - args.correct_missing: False\n",
      "2023-09-21 14:34:14,561 - Anomalies - INFO - args.correct_outliers: True\n"
     ]
    },
    {
     "name": "stderr",
     "output_type": "stream",
     "text": [
      "Warning message:\n",
      "In sqrt(diag(solve(Hess))) : NaNs produced\n"
     ]
    },
    {
     "name": "stdout",
     "output_type": "stream",
     "text": [
      "2023-09-21 14:34:24,073 - Anomalies - INFO - Done!!\n",
      "2023-09-21 14:34:25,768 - Anomalies - INFO - Parsing command line arguments\n",
      "2023-09-21 14:34:25,769 - Anomalies - INFO - Start!!\n",
      "2023-09-21 14:34:25,769 - Anomalies - INFO - args.source_path: /home/yram0006/phd/chapter_2/workspace/mortality_data/standardisation_experiment/imputed/lab_measurements_min_icd.csv\n",
      "2023-09-21 14:34:25,769 - Anomalies - INFO - args.save_path: /home/yram0006/phd/chapter_2/workspace/mortality_data/standardisation_experiment/outlier_removal/\n",
      "2023-09-21 14:34:25,769 - Anomalies - INFO - args.save_prefix: lab_measurements_min_icd\n",
      "2023-09-21 14:34:25,769 - Anomalies - INFO - args.detect_missing: False\n",
      "2023-09-21 14:34:25,769 - Anomalies - INFO - args.detect_outliers: False\n",
      "2023-09-21 14:34:25,769 - Anomalies - INFO - args.detect_errors: False\n",
      "2023-09-21 14:34:25,769 - Anomalies - INFO - args.detect_inconsistencies: False\n",
      "2023-09-21 14:34:25,769 - Anomalies - INFO - args.correct_missing: False\n",
      "2023-09-21 14:34:25,769 - Anomalies - INFO - args.correct_outliers: True\n",
      "2023-09-21 14:34:42,273 - Anomalies - INFO - Done!!\n",
      "2023-09-21 14:34:43,984 - Anomalies - INFO - Parsing command line arguments\n",
      "2023-09-21 14:34:43,985 - Anomalies - INFO - Start!!\n",
      "2023-09-21 14:34:43,985 - Anomalies - INFO - args.source_path: /home/yram0006/phd/chapter_2/workspace/mortality_data/standardisation_experiment/imputed/lab_measurements_max_icd.csv\n",
      "2023-09-21 14:34:43,985 - Anomalies - INFO - args.save_path: /home/yram0006/phd/chapter_2/workspace/mortality_data/standardisation_experiment/outlier_removal/\n",
      "2023-09-21 14:34:43,985 - Anomalies - INFO - args.save_prefix: lab_measurements_max_icd\n",
      "2023-09-21 14:34:43,985 - Anomalies - INFO - args.detect_missing: False\n",
      "2023-09-21 14:34:43,985 - Anomalies - INFO - args.detect_outliers: False\n",
      "2023-09-21 14:34:43,985 - Anomalies - INFO - args.detect_errors: False\n",
      "2023-09-21 14:34:43,985 - Anomalies - INFO - args.detect_inconsistencies: False\n",
      "2023-09-21 14:34:43,985 - Anomalies - INFO - args.correct_missing: False\n",
      "2023-09-21 14:34:43,985 - Anomalies - INFO - args.correct_outliers: True\n",
      "2023-09-21 14:35:00,477 - Anomalies - INFO - Done!!\n",
      "2023-09-21 14:35:02,166 - Anomalies - INFO - Parsing command line arguments\n",
      "2023-09-21 14:35:02,167 - Anomalies - INFO - Start!!\n",
      "2023-09-21 14:35:02,167 - Anomalies - INFO - args.source_path: /home/yram0006/phd/chapter_2/workspace/mortality_data/standardisation_experiment/imputed/lab_measurements_avg_icd.csv\n",
      "2023-09-21 14:35:02,167 - Anomalies - INFO - args.save_path: /home/yram0006/phd/chapter_2/workspace/mortality_data/standardisation_experiment/outlier_removal/\n",
      "2023-09-21 14:35:02,167 - Anomalies - INFO - args.save_prefix: lab_measurements_avg_icd\n",
      "2023-09-21 14:35:02,167 - Anomalies - INFO - args.detect_missing: False\n",
      "2023-09-21 14:35:02,167 - Anomalies - INFO - args.detect_outliers: False\n",
      "2023-09-21 14:35:02,168 - Anomalies - INFO - args.detect_errors: False\n",
      "2023-09-21 14:35:02,168 - Anomalies - INFO - args.detect_inconsistencies: False\n",
      "2023-09-21 14:35:02,168 - Anomalies - INFO - args.correct_missing: False\n",
      "2023-09-21 14:35:02,168 - Anomalies - INFO - args.correct_outliers: True\n",
      "2023-09-21 14:35:18,955 - Anomalies - INFO - Done!!\n",
      "2023-09-21 14:35:20,684 - Anomalies - INFO - Parsing command line arguments\n",
      "2023-09-21 14:35:20,685 - Anomalies - INFO - Start!!\n",
      "2023-09-21 14:35:20,686 - Anomalies - INFO - args.source_path: /home/yram0006/phd/chapter_2/workspace/mortality_data/standardisation_experiment/imputed/lab_measurements_stddev_icd.csv\n",
      "2023-09-21 14:35:20,686 - Anomalies - INFO - args.save_path: /home/yram0006/phd/chapter_2/workspace/mortality_data/standardisation_experiment/outlier_removal/\n",
      "2023-09-21 14:35:20,686 - Anomalies - INFO - args.save_prefix: lab_measurements_stddev_icd\n",
      "2023-09-21 14:35:20,686 - Anomalies - INFO - args.detect_missing: False\n",
      "2023-09-21 14:35:20,686 - Anomalies - INFO - args.detect_outliers: False\n",
      "2023-09-21 14:35:20,686 - Anomalies - INFO - args.detect_errors: False\n",
      "2023-09-21 14:35:20,686 - Anomalies - INFO - args.detect_inconsistencies: False\n",
      "2023-09-21 14:35:20,686 - Anomalies - INFO - args.correct_missing: False\n",
      "2023-09-21 14:35:20,686 - Anomalies - INFO - args.correct_outliers: True\n"
     ]
    },
    {
     "name": "stderr",
     "output_type": "stream",
     "text": [
      "Warning message:\n",
      "In sqrt(diag(solve(Hess))) : NaNs produced\n"
     ]
    },
    {
     "name": "stdout",
     "output_type": "stream",
     "text": [
      "2023-09-21 14:35:37,137 - Anomalies - INFO - Done!!\n",
      "2023-09-21 14:35:38,870 - Anomalies - INFO - Parsing command line arguments\n",
      "2023-09-21 14:35:38,871 - Anomalies - INFO - Start!!\n",
      "2023-09-21 14:35:38,872 - Anomalies - INFO - args.source_path: /home/yram0006/phd/chapter_2/workspace/mortality_data/standardisation_experiment/imputed/lab_measurements_first_icd.csv\n",
      "2023-09-21 14:35:38,872 - Anomalies - INFO - args.save_path: /home/yram0006/phd/chapter_2/workspace/mortality_data/standardisation_experiment/outlier_removal/\n",
      "2023-09-21 14:35:38,872 - Anomalies - INFO - args.save_prefix: lab_measurements_first_icd\n",
      "2023-09-21 14:35:38,872 - Anomalies - INFO - args.detect_missing: False\n",
      "2023-09-21 14:35:38,872 - Anomalies - INFO - args.detect_outliers: False\n",
      "2023-09-21 14:35:38,872 - Anomalies - INFO - args.detect_errors: False\n",
      "2023-09-21 14:35:38,872 - Anomalies - INFO - args.detect_inconsistencies: False\n",
      "2023-09-21 14:35:38,872 - Anomalies - INFO - args.correct_missing: False\n",
      "2023-09-21 14:35:38,872 - Anomalies - INFO - args.correct_outliers: True\n",
      "2023-09-21 14:35:55,218 - Anomalies - INFO - Done!!\n",
      "2023-09-21 14:35:56,923 - Anomalies - INFO - Parsing command line arguments\n",
      "2023-09-21 14:35:56,924 - Anomalies - INFO - Start!!\n",
      "2023-09-21 14:35:56,924 - Anomalies - INFO - args.source_path: /home/yram0006/phd/chapter_2/workspace/mortality_data/standardisation_experiment/imputed/lab_measurements_last_icd.csv\n",
      "2023-09-21 14:35:56,924 - Anomalies - INFO - args.save_path: /home/yram0006/phd/chapter_2/workspace/mortality_data/standardisation_experiment/outlier_removal/\n",
      "2023-09-21 14:35:56,924 - Anomalies - INFO - args.save_prefix: lab_measurements_last_icd\n",
      "2023-09-21 14:35:56,924 - Anomalies - INFO - args.detect_missing: False\n",
      "2023-09-21 14:35:56,924 - Anomalies - INFO - args.detect_outliers: False\n",
      "2023-09-21 14:35:56,924 - Anomalies - INFO - args.detect_errors: False\n",
      "2023-09-21 14:35:56,924 - Anomalies - INFO - args.detect_inconsistencies: False\n",
      "2023-09-21 14:35:56,924 - Anomalies - INFO - args.correct_missing: False\n",
      "2023-09-21 14:35:56,924 - Anomalies - INFO - args.correct_outliers: True\n",
      "2023-09-21 14:36:13,436 - Anomalies - INFO - Done!!\n"
     ]
    },
    {
     "data": {
      "text/plain": [
       "0"
      ]
     },
     "execution_count": 17,
     "metadata": {},
     "output_type": "execute_result"
    }
   ],
   "source": [
    "import os\n",
    "\n",
    "\n",
    "os.system(\n",
    "    '''cd /superbugai-data/yash/chapter_1/workspace/EHRQC;'''\n",
    "    +\n",
    "    '''.venv/bin/python -m ehrqc.qc.Anomalies ''' + dataDirName + '''imputed/vitals_min_icd.csv ''' + dataDirName + '''outlier_removal/ vitals_min_icd -co;'''\n",
    "    +\n",
    "    '''.venv/bin/python -m ehrqc.qc.Anomalies ''' + dataDirName + '''imputed/vitals_max_icd.csv ''' + dataDirName + '''outlier_removal/ vitals_max_icd -co;'''\n",
    "    +\n",
    "    '''.venv/bin/python -m ehrqc.qc.Anomalies ''' + dataDirName + '''imputed/vitals_avg_icd.csv ''' + dataDirName + '''outlier_removal/ vitals_avg_icd -co;'''\n",
    "    +\n",
    "    '''.venv/bin/python -m ehrqc.qc.Anomalies ''' + dataDirName + '''imputed/vitals_stddev_icd.csv ''' + dataDirName + '''outlier_removal/ vitals_stddev_icd -co;'''\n",
    "    +\n",
    "    '''.venv/bin/python -m ehrqc.qc.Anomalies ''' + dataDirName + '''imputed/vitals_first_icd.csv ''' + dataDirName + '''outlier_removal/ vitals_first_icd -co;'''\n",
    "    +\n",
    "    '''.venv/bin/python -m ehrqc.qc.Anomalies ''' + dataDirName + '''imputed/vitals_last_icd.csv ''' + dataDirName + '''outlier_removal/ vitals_last_icd -co;'''\n",
    "    +\n",
    "    '''.venv/bin/python -m ehrqc.qc.Anomalies ''' + dataDirName + '''imputed/lab_measurements_min_icd.csv ''' + dataDirName + '''outlier_removal/ lab_measurements_min_icd -co;'''\n",
    "    +\n",
    "    '''.venv/bin/python -m ehrqc.qc.Anomalies ''' + dataDirName + '''imputed/lab_measurements_max_icd.csv ''' + dataDirName + '''outlier_removal/ lab_measurements_max_icd -co;'''\n",
    "    +\n",
    "    '''.venv/bin/python -m ehrqc.qc.Anomalies ''' + dataDirName + '''imputed/lab_measurements_avg_icd.csv ''' + dataDirName + '''outlier_removal/ lab_measurements_avg_icd -co;'''\n",
    "    +\n",
    "    '''.venv/bin/python -m ehrqc.qc.Anomalies ''' + dataDirName + '''imputed/lab_measurements_stddev_icd.csv ''' + dataDirName + '''outlier_removal/ lab_measurements_stddev_icd -co;'''\n",
    "    +\n",
    "    '''.venv/bin/python -m ehrqc.qc.Anomalies ''' + dataDirName + '''imputed/lab_measurements_first_icd.csv ''' + dataDirName + '''outlier_removal/ lab_measurements_first_icd -co;'''\n",
    "    +\n",
    "    '''.venv/bin/python -m ehrqc.qc.Anomalies ''' + dataDirName + '''imputed/lab_measurements_last_icd.csv ''' + dataDirName + '''outlier_removal/ lab_measurements_last_icd -co;'''\n",
    "    )\n"
   ]
  },
  {
   "cell_type": "markdown",
   "metadata": {},
   "source": [
    "### Read outlier removed files"
   ]
  },
  {
   "cell_type": "code",
   "execution_count": 18,
   "metadata": {},
   "outputs": [],
   "source": [
    "import pandas as pd\n",
    "\n",
    "\n",
    "vitals_min =  pd.read_csv(dataDirName + \"outlier_removal/vitals_min_icd_corrected.csv\")\n",
    "vitals_max =  pd.read_csv(dataDirName + \"outlier_removal/vitals_max_icd_corrected.csv\")\n",
    "vitals_avg =  pd.read_csv(dataDirName + \"outlier_removal/vitals_avg_icd_corrected.csv\")\n",
    "vitals_stddev =  pd.read_csv(dataDirName + \"outlier_removal/vitals_stddev_icd_corrected.csv\")\n",
    "vitals_first =  pd.read_csv(dataDirName + \"outlier_removal/vitals_first_icd_corrected.csv\")\n",
    "vitals_last =  pd.read_csv(dataDirName + \"outlier_removal/vitals_last_icd_corrected.csv\")\n",
    "lab_measurements_min =  pd.read_csv(dataDirName + \"outlier_removal/lab_measurements_min_icd_corrected.csv\")\n",
    "lab_measurements_max =  pd.read_csv(dataDirName + \"outlier_removal/lab_measurements_max_icd_corrected.csv\")\n",
    "lab_measurements_avg =  pd.read_csv(dataDirName + \"outlier_removal/lab_measurements_avg_icd_corrected.csv\")\n",
    "lab_measurements_stddev =  pd.read_csv(dataDirName + \"outlier_removal/lab_measurements_stddev_icd_corrected.csv\")\n",
    "lab_measurements_first =  pd.read_csv(dataDirName + \"outlier_removal/lab_measurements_first_icd_corrected.csv\")\n",
    "lab_measurements_last =  pd.read_csv(dataDirName + \"outlier_removal/lab_measurements_last_icd_corrected.csv\")"
   ]
  },
  {
   "cell_type": "markdown",
   "metadata": {},
   "source": [
    "### Display counts post outlier removal"
   ]
  },
  {
   "cell_type": "code",
   "execution_count": 19,
   "metadata": {},
   "outputs": [
    {
     "data": {
      "text/plain": [
       "(12241, 4)"
      ]
     },
     "execution_count": 19,
     "metadata": {},
     "output_type": "execute_result"
    }
   ],
   "source": [
    "demographics.shape"
   ]
  },
  {
   "cell_type": "code",
   "execution_count": 20,
   "metadata": {},
   "outputs": [
    {
     "data": {
      "text/plain": [
       "((3607, 11), (3607, 11), (3607, 11), (3607, 11), (3607, 11), (3607, 11))"
      ]
     },
     "execution_count": 20,
     "metadata": {},
     "output_type": "execute_result"
    }
   ],
   "source": [
    "vitals_min.shape, vitals_max.shape, vitals_avg.shape, vitals_stddev.shape, vitals_first.shape, vitals_last.shape"
   ]
  },
  {
   "cell_type": "code",
   "execution_count": 21,
   "metadata": {},
   "outputs": [
    {
     "data": {
      "text/plain": [
       "((7259, 13), (7267, 13), (7261, 13), (7395, 8), (7260, 13), (7261, 13))"
      ]
     },
     "execution_count": 21,
     "metadata": {},
     "output_type": "execute_result"
    }
   ],
   "source": [
    "lab_measurements_min.shape, lab_measurements_max.shape, lab_measurements_avg.shape, lab_measurements_stddev.shape, lab_measurements_first.shape, lab_measurements_last.shape"
   ]
  }
 ],
 "metadata": {
  "kernelspec": {
   "display_name": ".venv",
   "language": "python",
   "name": "python3"
  },
  "language_info": {
   "codemirror_mode": {
    "name": "ipython",
    "version": 3
   },
   "file_extension": ".py",
   "mimetype": "text/x-python",
   "name": "python",
   "nbconvert_exporter": "python",
   "pygments_lexer": "ipython3",
   "version": "3.9.5"
  },
  "orig_nbformat": 4
 },
 "nbformat": 4,
 "nbformat_minor": 2
}
