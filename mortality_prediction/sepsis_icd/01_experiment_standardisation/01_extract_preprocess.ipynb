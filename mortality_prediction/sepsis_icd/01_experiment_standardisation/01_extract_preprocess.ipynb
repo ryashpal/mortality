{
 "cells": [
  {
   "cell_type": "markdown",
   "metadata": {},
   "source": [
    "# Experiment to study the effect of standardisation"
   ]
  },
  {
   "cell_type": "markdown",
   "metadata": {},
   "source": [
    "## Define data directory\n",
    "\n",
    "A top level directory to store all the data for this experiment"
   ]
  },
  {
   "cell_type": "code",
   "execution_count": 1,
   "metadata": {},
   "outputs": [],
   "source": [
    "dataDirName = '/home/yram0006/phd/chapter_2/workspace/mortality_data/standardisation_experiment/'"
   ]
  },
  {
   "cell_type": "markdown",
   "metadata": {},
   "source": [
    "## Data Extraction"
   ]
  },
  {
   "cell_type": "markdown",
   "metadata": {},
   "source": [
    "### Extract data"
   ]
  },
  {
   "cell_type": "code",
   "execution_count": 2,
   "metadata": {},
   "outputs": [
    {
     "name": "stdout",
     "output_type": "stream",
     "text": [
      "2023-10-03 18:42:30,771 - EHRQC - INFO - Parsing command line arguments\n",
      "2023-10-03 18:42:30,772 - EHRQC - INFO - args.save_path: /home/yram0006/phd/chapter_2/workspace/mortality_data/standardisation_experiment/extract/cohort_icd.csv\n",
      "2023-10-03 18:42:30,772 - EHRQC - INFO - args.schema_name: omop_test_20220817\n",
      "2023-10-03 18:42:30,772 - EHRQC - INFO - args.cohort_type: icd\n",
      "2023-10-03 18:42:31,755 - EHRQC - INFO - extracting data\n"
     ]
    },
    {
     "name": "stderr",
     "output_type": "stream",
     "text": [
      "/superbugai-data/yash/chapter_1/workspace/EHRQC/.venv/lib/python3.9/site-packages/pandas/io/sql.py:761: UserWarning: pandas only support SQLAlchemy connectable(engine/connection) ordatabase string URI or sqlite3 DBAPI2 connectionother DBAPI2 objects are not tested, please consider using SQLAlchemy\n",
      "  warnings.warn(\n"
     ]
    },
    {
     "name": "stdout",
     "output_type": "stream",
     "text": [
      "2023-10-03 18:42:51,837 - EHRQC - INFO - Saving raw data to file\n",
      "2023-10-03 18:42:53,531 - EHRQC - INFO - Parsing command line arguments\n",
      "2023-10-03 18:42:53,532 - EHRQC - INFO - args.save_path: /home/yram0006/phd/chapter_2/workspace/mortality_data/standardisation_experiment/extract/demographics_icd.csv\n",
      "2023-10-03 18:42:53,532 - EHRQC - INFO - args.cohort_path: /home/yram0006/phd/chapter_2/workspace/mortality_data/standardisation_experiment/extract/cohort_icd.csv\n",
      "2023-10-03 18:42:53,533 - EHRQC - INFO - args.schema_name: omop_test_20220817\n",
      "2023-10-03 18:42:53,533 - EHRQC - INFO - args.data_type: demographics\n",
      "2023-10-03 18:42:53,533 - EHRQC - INFO - args.agg_function: min\n",
      "2023-10-03 18:42:53,533 - EHRQC - INFO - args.before: 24\n",
      "2023-10-03 18:42:53,533 - EHRQC - INFO - args.after: 24\n",
      "2023-10-03 18:42:53,554 - EHRQC - INFO - Creating table: omop_test_20220817.COHORT\n",
      "2023-10-03 18:42:53,573 - EHRQC - INFO - Table: omop_test_20220817.COHORT created successfully!!\n",
      "2023-10-03 18:42:53,573 - EHRQC - INFO - Saving cohort to table: omop_test_20220817.COHORT\n",
      "2023-10-03 18:42:53,808 - EHRQC - INFO - Cohort data saved successfully!!\n",
      "2023-10-03 18:42:53,809 - EHRQC - INFO - extracting data\n"
     ]
    },
    {
     "name": "stderr",
     "output_type": "stream",
     "text": [
      "/superbugai-data/yash/chapter_1/workspace/EHRQC/.venv/lib/python3.9/site-packages/pandas/io/sql.py:761: UserWarning: pandas only support SQLAlchemy connectable(engine/connection) ordatabase string URI or sqlite3 DBAPI2 connectionother DBAPI2 objects are not tested, please consider using SQLAlchemy\n",
      "  warnings.warn(\n"
     ]
    },
    {
     "name": "stdout",
     "output_type": "stream",
     "text": [
      "2023-10-03 18:42:54,955 - EHRQC - INFO - Saving raw data to file\n",
      "2023-10-03 18:42:56,684 - EHRQC - INFO - Parsing command line arguments\n",
      "2023-10-03 18:42:56,685 - EHRQC - INFO - args.save_path: /home/yram0006/phd/chapter_2/workspace/mortality_data/standardisation_experiment/extract/deaths.csv\n",
      "2023-10-03 18:42:56,685 - EHRQC - INFO - args.cohort_path: /home/yram0006/phd/chapter_2/workspace/mortality_data/standardisation_experiment/extract/cohort_icd.csv\n",
      "2023-10-03 18:42:56,685 - EHRQC - INFO - args.schema_name: omop_test_20220817\n",
      "2023-10-03 18:42:56,685 - EHRQC - INFO - args.data_type: deaths\n",
      "2023-10-03 18:42:56,685 - EHRQC - INFO - args.agg_function: min\n",
      "2023-10-03 18:42:56,686 - EHRQC - INFO - args.before: 24\n",
      "2023-10-03 18:42:56,686 - EHRQC - INFO - args.after: 24\n",
      "2023-10-03 18:42:56,705 - EHRQC - INFO - Creating table: omop_test_20220817.COHORT\n",
      "2023-10-03 18:42:56,735 - EHRQC - INFO - Table: omop_test_20220817.COHORT created successfully!!\n",
      "2023-10-03 18:42:56,735 - EHRQC - INFO - Saving cohort to table: omop_test_20220817.COHORT\n",
      "2023-10-03 18:42:56,978 - EHRQC - INFO - Cohort data saved successfully!!\n",
      "2023-10-03 18:42:56,979 - EHRQC - INFO - extracting data\n",
      "2023-10-03 18:42:57,025 - EHRQC - INFO - Saving raw data to file\n"
     ]
    },
    {
     "name": "stderr",
     "output_type": "stream",
     "text": [
      "/superbugai-data/yash/chapter_1/workspace/EHRQC/.venv/lib/python3.9/site-packages/pandas/io/sql.py:761: UserWarning: pandas only support SQLAlchemy connectable(engine/connection) ordatabase string URI or sqlite3 DBAPI2 connectionother DBAPI2 objects are not tested, please consider using SQLAlchemy\n",
      "  warnings.warn(\n"
     ]
    },
    {
     "name": "stdout",
     "output_type": "stream",
     "text": [
      "2023-10-03 18:42:58,767 - EHRQC - INFO - Parsing command line arguments\n",
      "2023-10-03 18:42:58,768 - EHRQC - INFO - args.save_path: /home/yram0006/phd/chapter_2/workspace/mortality_data/standardisation_experiment/extract/vitals_min_icd.csv\n",
      "2023-10-03 18:42:58,768 - EHRQC - INFO - args.cohort_path: /home/yram0006/phd/chapter_2/workspace/mortality_data/standardisation_experiment/extract/cohort_icd.csv\n",
      "2023-10-03 18:42:58,768 - EHRQC - INFO - args.schema_name: omop_test_20220817\n",
      "2023-10-03 18:42:58,768 - EHRQC - INFO - args.data_type: vitals\n",
      "2023-10-03 18:42:58,769 - EHRQC - INFO - args.agg_function: min\n",
      "2023-10-03 18:42:58,769 - EHRQC - INFO - args.before: 0\n",
      "2023-10-03 18:42:58,769 - EHRQC - INFO - args.after: 72\n",
      "2023-10-03 18:42:58,788 - EHRQC - INFO - Creating table: omop_test_20220817.COHORT\n",
      "2023-10-03 18:42:58,793 - EHRQC - INFO - Table: omop_test_20220817.COHORT created successfully!!\n",
      "2023-10-03 18:42:58,793 - EHRQC - INFO - Saving cohort to table: omop_test_20220817.COHORT\n",
      "2023-10-03 18:42:59,052 - EHRQC - INFO - Cohort data saved successfully!!\n",
      "2023-10-03 18:42:59,052 - EHRQC - INFO - extracting data\n"
     ]
    },
    {
     "name": "stderr",
     "output_type": "stream",
     "text": [
      "/superbugai-data/yash/chapter_1/workspace/EHRQC/.venv/lib/python3.9/site-packages/pandas/io/sql.py:761: UserWarning: pandas only support SQLAlchemy connectable(engine/connection) ordatabase string URI or sqlite3 DBAPI2 connectionother DBAPI2 objects are not tested, please consider using SQLAlchemy\n",
      "  warnings.warn(\n"
     ]
    },
    {
     "name": "stdout",
     "output_type": "stream",
     "text": [
      "2023-10-03 18:49:36,703 - EHRQC - INFO - Saving raw data to file\n",
      "2023-10-03 18:49:45,078 - EHRQC - INFO - Parsing command line arguments\n",
      "2023-10-03 18:49:45,079 - EHRQC - INFO - args.save_path: /home/yram0006/phd/chapter_2/workspace/mortality_data/standardisation_experiment/extract/vitals_max_icd.csv\n",
      "2023-10-03 18:49:45,079 - EHRQC - INFO - args.cohort_path: /home/yram0006/phd/chapter_2/workspace/mortality_data/standardisation_experiment/extract/cohort_icd.csv\n",
      "2023-10-03 18:49:45,079 - EHRQC - INFO - args.schema_name: omop_test_20220817\n",
      "2023-10-03 18:49:45,079 - EHRQC - INFO - args.data_type: vitals\n",
      "2023-10-03 18:49:45,079 - EHRQC - INFO - args.agg_function: max\n",
      "2023-10-03 18:49:45,079 - EHRQC - INFO - args.before: 0\n",
      "2023-10-03 18:49:45,080 - EHRQC - INFO - args.after: 72\n",
      "2023-10-03 18:49:45,101 - EHRQC - INFO - Creating table: omop_test_20220817.COHORT\n",
      "2023-10-03 18:49:45,108 - EHRQC - INFO - Table: omop_test_20220817.COHORT created successfully!!\n",
      "2023-10-03 18:49:45,108 - EHRQC - INFO - Saving cohort to table: omop_test_20220817.COHORT\n",
      "2023-10-03 18:49:45,389 - EHRQC - INFO - Cohort data saved successfully!!\n",
      "2023-10-03 18:49:45,389 - EHRQC - INFO - extracting data\n"
     ]
    },
    {
     "name": "stderr",
     "output_type": "stream",
     "text": [
      "/superbugai-data/yash/chapter_1/workspace/EHRQC/.venv/lib/python3.9/site-packages/pandas/io/sql.py:761: UserWarning: pandas only support SQLAlchemy connectable(engine/connection) ordatabase string URI or sqlite3 DBAPI2 connectionother DBAPI2 objects are not tested, please consider using SQLAlchemy\n",
      "  warnings.warn(\n"
     ]
    },
    {
     "name": "stdout",
     "output_type": "stream",
     "text": [
      "2023-10-03 18:53:13,580 - EHRQC - INFO - Saving raw data to file\n",
      "2023-10-03 18:53:22,848 - EHRQC - INFO - Parsing command line arguments\n",
      "2023-10-03 18:53:22,850 - EHRQC - INFO - args.save_path: /home/yram0006/phd/chapter_2/workspace/mortality_data/standardisation_experiment/extract/vitals_avg_icd.csv\n",
      "2023-10-03 18:53:22,850 - EHRQC - INFO - args.cohort_path: /home/yram0006/phd/chapter_2/workspace/mortality_data/standardisation_experiment/extract/cohort_icd.csv\n",
      "2023-10-03 18:53:22,850 - EHRQC - INFO - args.schema_name: omop_test_20220817\n",
      "2023-10-03 18:53:22,850 - EHRQC - INFO - args.data_type: vitals\n",
      "2023-10-03 18:53:22,850 - EHRQC - INFO - args.agg_function: avg\n",
      "2023-10-03 18:53:22,851 - EHRQC - INFO - args.before: 0\n",
      "2023-10-03 18:53:22,851 - EHRQC - INFO - args.after: 72\n",
      "2023-10-03 18:53:23,040 - EHRQC - INFO - Creating table: omop_test_20220817.COHORT\n",
      "2023-10-03 18:53:23,046 - EHRQC - INFO - Table: omop_test_20220817.COHORT created successfully!!\n",
      "2023-10-03 18:53:23,046 - EHRQC - INFO - Saving cohort to table: omop_test_20220817.COHORT\n",
      "2023-10-03 18:53:23,283 - EHRQC - INFO - Cohort data saved successfully!!\n",
      "2023-10-03 18:53:23,283 - EHRQC - INFO - extracting data\n"
     ]
    },
    {
     "name": "stderr",
     "output_type": "stream",
     "text": [
      "/superbugai-data/yash/chapter_1/workspace/EHRQC/.venv/lib/python3.9/site-packages/pandas/io/sql.py:761: UserWarning: pandas only support SQLAlchemy connectable(engine/connection) ordatabase string URI or sqlite3 DBAPI2 connectionother DBAPI2 objects are not tested, please consider using SQLAlchemy\n",
      "  warnings.warn(\n"
     ]
    },
    {
     "name": "stdout",
     "output_type": "stream",
     "text": [
      "2023-10-03 18:54:17,940 - EHRQC - INFO - Saving raw data to file\n",
      "2023-10-03 18:54:19,731 - EHRQC - INFO - Parsing command line arguments\n",
      "2023-10-03 18:54:19,733 - EHRQC - INFO - args.save_path: /home/yram0006/phd/chapter_2/workspace/mortality_data/standardisation_experiment/extract/vitals_stddev_icd.csv\n",
      "2023-10-03 18:54:19,733 - EHRQC - INFO - args.cohort_path: /home/yram0006/phd/chapter_2/workspace/mortality_data/standardisation_experiment/extract/cohort_icd.csv\n",
      "2023-10-03 18:54:19,733 - EHRQC - INFO - args.schema_name: omop_test_20220817\n",
      "2023-10-03 18:54:19,733 - EHRQC - INFO - args.data_type: vitals\n",
      "2023-10-03 18:54:19,733 - EHRQC - INFO - args.agg_function: stddev\n",
      "2023-10-03 18:54:19,733 - EHRQC - INFO - args.before: 0\n",
      "2023-10-03 18:54:19,733 - EHRQC - INFO - args.after: 72\n",
      "2023-10-03 18:54:19,753 - EHRQC - INFO - Creating table: omop_test_20220817.COHORT\n",
      "2023-10-03 18:54:19,757 - EHRQC - INFO - Table: omop_test_20220817.COHORT created successfully!!\n",
      "2023-10-03 18:54:19,758 - EHRQC - INFO - Saving cohort to table: omop_test_20220817.COHORT\n",
      "2023-10-03 18:54:19,991 - EHRQC - INFO - Cohort data saved successfully!!\n",
      "2023-10-03 18:54:19,992 - EHRQC - INFO - extracting data\n"
     ]
    },
    {
     "name": "stderr",
     "output_type": "stream",
     "text": [
      "/superbugai-data/yash/chapter_1/workspace/EHRQC/.venv/lib/python3.9/site-packages/pandas/io/sql.py:761: UserWarning: pandas only support SQLAlchemy connectable(engine/connection) ordatabase string URI or sqlite3 DBAPI2 connectionother DBAPI2 objects are not tested, please consider using SQLAlchemy\n",
      "  warnings.warn(\n"
     ]
    },
    {
     "name": "stdout",
     "output_type": "stream",
     "text": [
      "2023-10-03 18:55:14,170 - EHRQC - INFO - Saving raw data to file\n",
      "2023-10-03 18:55:16,020 - EHRQC - INFO - Parsing command line arguments\n",
      "2023-10-03 18:55:16,021 - EHRQC - INFO - args.save_path: /home/yram0006/phd/chapter_2/workspace/mortality_data/standardisation_experiment/extract/vitals_first_icd.csv\n",
      "2023-10-03 18:55:16,021 - EHRQC - INFO - args.cohort_path: /home/yram0006/phd/chapter_2/workspace/mortality_data/standardisation_experiment/extract/cohort_icd.csv\n",
      "2023-10-03 18:55:16,021 - EHRQC - INFO - args.schema_name: omop_test_20220817\n",
      "2023-10-03 18:55:16,022 - EHRQC - INFO - args.data_type: vitals\n",
      "2023-10-03 18:55:16,022 - EHRQC - INFO - args.agg_function: first\n",
      "2023-10-03 18:55:16,022 - EHRQC - INFO - args.before: 0\n",
      "2023-10-03 18:55:16,022 - EHRQC - INFO - args.after: 72\n",
      "2023-10-03 18:55:16,058 - EHRQC - INFO - Creating table: omop_test_20220817.COHORT\n",
      "2023-10-03 18:55:16,063 - EHRQC - INFO - Table: omop_test_20220817.COHORT created successfully!!\n",
      "2023-10-03 18:55:16,064 - EHRQC - INFO - Saving cohort to table: omop_test_20220817.COHORT\n",
      "2023-10-03 18:55:16,343 - EHRQC - INFO - Cohort data saved successfully!!\n",
      "2023-10-03 18:55:16,344 - EHRQC - INFO - extracting data\n"
     ]
    },
    {
     "name": "stderr",
     "output_type": "stream",
     "text": [
      "/superbugai-data/yash/chapter_1/workspace/EHRQC/.venv/lib/python3.9/site-packages/pandas/io/sql.py:761: UserWarning: pandas only support SQLAlchemy connectable(engine/connection) ordatabase string URI or sqlite3 DBAPI2 connectionother DBAPI2 objects are not tested, please consider using SQLAlchemy\n",
      "  warnings.warn(\n"
     ]
    },
    {
     "name": "stdout",
     "output_type": "stream",
     "text": [
      "2023-10-03 18:56:10,006 - EHRQC - INFO - Saving raw data to file\n",
      "2023-10-03 18:56:11,748 - EHRQC - INFO - Parsing command line arguments\n",
      "2023-10-03 18:56:11,749 - EHRQC - INFO - args.save_path: /home/yram0006/phd/chapter_2/workspace/mortality_data/standardisation_experiment/extract/vitals_last_icd.csv\n",
      "2023-10-03 18:56:11,750 - EHRQC - INFO - args.cohort_path: /home/yram0006/phd/chapter_2/workspace/mortality_data/standardisation_experiment/extract/cohort_icd.csv\n",
      "2023-10-03 18:56:11,750 - EHRQC - INFO - args.schema_name: omop_test_20220817\n",
      "2023-10-03 18:56:11,750 - EHRQC - INFO - args.data_type: vitals\n",
      "2023-10-03 18:56:11,750 - EHRQC - INFO - args.agg_function: last\n",
      "2023-10-03 18:56:11,750 - EHRQC - INFO - args.before: 0\n",
      "2023-10-03 18:56:11,750 - EHRQC - INFO - args.after: 72\n",
      "2023-10-03 18:56:11,770 - EHRQC - INFO - Creating table: omop_test_20220817.COHORT\n",
      "2023-10-03 18:56:11,776 - EHRQC - INFO - Table: omop_test_20220817.COHORT created successfully!!\n",
      "2023-10-03 18:56:11,776 - EHRQC - INFO - Saving cohort to table: omop_test_20220817.COHORT\n",
      "2023-10-03 18:56:12,014 - EHRQC - INFO - Cohort data saved successfully!!\n",
      "2023-10-03 18:56:12,014 - EHRQC - INFO - extracting data\n"
     ]
    },
    {
     "name": "stderr",
     "output_type": "stream",
     "text": [
      "/superbugai-data/yash/chapter_1/workspace/EHRQC/.venv/lib/python3.9/site-packages/pandas/io/sql.py:761: UserWarning: pandas only support SQLAlchemy connectable(engine/connection) ordatabase string URI or sqlite3 DBAPI2 connectionother DBAPI2 objects are not tested, please consider using SQLAlchemy\n",
      "  warnings.warn(\n"
     ]
    },
    {
     "name": "stdout",
     "output_type": "stream",
     "text": [
      "2023-10-03 18:57:05,833 - EHRQC - INFO - Saving raw data to file\n",
      "2023-10-03 18:57:07,584 - EHRQC - INFO - Parsing command line arguments\n",
      "2023-10-03 18:57:07,586 - EHRQC - INFO - args.save_path: /home/yram0006/phd/chapter_2/workspace/mortality_data/standardisation_experiment/extract/lab_measurements_min_icd.csv\n",
      "2023-10-03 18:57:07,586 - EHRQC - INFO - args.cohort_path: /home/yram0006/phd/chapter_2/workspace/mortality_data/standardisation_experiment/extract/cohort_icd.csv\n",
      "2023-10-03 18:57:07,586 - EHRQC - INFO - args.schema_name: omop_test_20220817\n",
      "2023-10-03 18:57:07,586 - EHRQC - INFO - args.data_type: lab_measurements\n",
      "2023-10-03 18:57:07,586 - EHRQC - INFO - args.agg_function: min\n",
      "2023-10-03 18:57:07,586 - EHRQC - INFO - args.before: 0\n",
      "2023-10-03 18:57:07,586 - EHRQC - INFO - args.after: 72\n",
      "2023-10-03 18:57:07,607 - EHRQC - INFO - Creating table: omop_test_20220817.COHORT\n",
      "2023-10-03 18:57:07,612 - EHRQC - INFO - Table: omop_test_20220817.COHORT created successfully!!\n",
      "2023-10-03 18:57:07,612 - EHRQC - INFO - Saving cohort to table: omop_test_20220817.COHORT\n",
      "2023-10-03 18:57:07,846 - EHRQC - INFO - Cohort data saved successfully!!\n",
      "2023-10-03 18:57:07,847 - EHRQC - INFO - extracting data\n"
     ]
    },
    {
     "name": "stderr",
     "output_type": "stream",
     "text": [
      "/superbugai-data/yash/chapter_1/workspace/EHRQC/.venv/lib/python3.9/site-packages/pandas/io/sql.py:761: UserWarning: pandas only support SQLAlchemy connectable(engine/connection) ordatabase string URI or sqlite3 DBAPI2 connectionother DBAPI2 objects are not tested, please consider using SQLAlchemy\n",
      "  warnings.warn(\n"
     ]
    },
    {
     "name": "stdout",
     "output_type": "stream",
     "text": [
      "2023-10-03 18:58:02,346 - EHRQC - INFO - Saving raw data to file\n",
      "2023-10-03 18:58:04,843 - EHRQC - INFO - Parsing command line arguments\n",
      "2023-10-03 18:58:04,845 - EHRQC - INFO - args.save_path: /home/yram0006/phd/chapter_2/workspace/mortality_data/standardisation_experiment/extract/lab_measurements_max_icd.csv\n",
      "2023-10-03 18:58:04,845 - EHRQC - INFO - args.cohort_path: /home/yram0006/phd/chapter_2/workspace/mortality_data/standardisation_experiment/extract/cohort_icd.csv\n",
      "2023-10-03 18:58:04,845 - EHRQC - INFO - args.schema_name: omop_test_20220817\n",
      "2023-10-03 18:58:04,845 - EHRQC - INFO - args.data_type: lab_measurements\n",
      "2023-10-03 18:58:04,845 - EHRQC - INFO - args.agg_function: max\n",
      "2023-10-03 18:58:04,845 - EHRQC - INFO - args.before: 0\n",
      "2023-10-03 18:58:04,845 - EHRQC - INFO - args.after: 72\n",
      "2023-10-03 18:58:04,865 - EHRQC - INFO - Creating table: omop_test_20220817.COHORT\n",
      "2023-10-03 18:58:04,870 - EHRQC - INFO - Table: omop_test_20220817.COHORT created successfully!!\n",
      "2023-10-03 18:58:04,870 - EHRQC - INFO - Saving cohort to table: omop_test_20220817.COHORT\n",
      "2023-10-03 18:58:05,107 - EHRQC - INFO - Cohort data saved successfully!!\n",
      "2023-10-03 18:58:05,107 - EHRQC - INFO - extracting data\n"
     ]
    },
    {
     "name": "stderr",
     "output_type": "stream",
     "text": [
      "/superbugai-data/yash/chapter_1/workspace/EHRQC/.venv/lib/python3.9/site-packages/pandas/io/sql.py:761: UserWarning: pandas only support SQLAlchemy connectable(engine/connection) ordatabase string URI or sqlite3 DBAPI2 connectionother DBAPI2 objects are not tested, please consider using SQLAlchemy\n",
      "  warnings.warn(\n"
     ]
    },
    {
     "name": "stdout",
     "output_type": "stream",
     "text": [
      "2023-10-03 18:58:41,872 - EHRQC - INFO - Saving raw data to file\n",
      "2023-10-03 18:58:43,714 - EHRQC - INFO - Parsing command line arguments\n",
      "2023-10-03 18:58:43,715 - EHRQC - INFO - args.save_path: /home/yram0006/phd/chapter_2/workspace/mortality_data/standardisation_experiment/extract/lab_measurements_avg_icd.csv\n",
      "2023-10-03 18:58:43,715 - EHRQC - INFO - args.cohort_path: /home/yram0006/phd/chapter_2/workspace/mortality_data/standardisation_experiment/extract/cohort_icd.csv\n",
      "2023-10-03 18:58:43,716 - EHRQC - INFO - args.schema_name: omop_test_20220817\n",
      "2023-10-03 18:58:43,716 - EHRQC - INFO - args.data_type: lab_measurements\n",
      "2023-10-03 18:58:43,716 - EHRQC - INFO - args.agg_function: avg\n",
      "2023-10-03 18:58:43,716 - EHRQC - INFO - args.before: 0\n",
      "2023-10-03 18:58:43,716 - EHRQC - INFO - args.after: 72\n",
      "2023-10-03 18:58:43,736 - EHRQC - INFO - Creating table: omop_test_20220817.COHORT\n",
      "2023-10-03 18:58:43,741 - EHRQC - INFO - Table: omop_test_20220817.COHORT created successfully!!\n",
      "2023-10-03 18:58:43,741 - EHRQC - INFO - Saving cohort to table: omop_test_20220817.COHORT\n",
      "2023-10-03 18:58:43,977 - EHRQC - INFO - Cohort data saved successfully!!\n",
      "2023-10-03 18:58:43,977 - EHRQC - INFO - extracting data\n"
     ]
    },
    {
     "name": "stderr",
     "output_type": "stream",
     "text": [
      "/superbugai-data/yash/chapter_1/workspace/EHRQC/.venv/lib/python3.9/site-packages/pandas/io/sql.py:761: UserWarning: pandas only support SQLAlchemy connectable(engine/connection) ordatabase string URI or sqlite3 DBAPI2 connectionother DBAPI2 objects are not tested, please consider using SQLAlchemy\n",
      "  warnings.warn(\n"
     ]
    },
    {
     "name": "stdout",
     "output_type": "stream",
     "text": [
      "2023-10-03 18:59:20,839 - EHRQC - INFO - Saving raw data to file\n",
      "2023-10-03 18:59:22,794 - EHRQC - INFO - Parsing command line arguments\n",
      "2023-10-03 18:59:22,796 - EHRQC - INFO - args.save_path: /home/yram0006/phd/chapter_2/workspace/mortality_data/standardisation_experiment/extract/lab_measurements_stddev_icd.csv\n",
      "2023-10-03 18:59:22,796 - EHRQC - INFO - args.cohort_path: /home/yram0006/phd/chapter_2/workspace/mortality_data/standardisation_experiment/extract/cohort_icd.csv\n",
      "2023-10-03 18:59:22,796 - EHRQC - INFO - args.schema_name: omop_test_20220817\n",
      "2023-10-03 18:59:22,796 - EHRQC - INFO - args.data_type: lab_measurements\n",
      "2023-10-03 18:59:22,796 - EHRQC - INFO - args.agg_function: stddev\n",
      "2023-10-03 18:59:22,796 - EHRQC - INFO - args.before: 0\n",
      "2023-10-03 18:59:22,796 - EHRQC - INFO - args.after: 72\n",
      "2023-10-03 18:59:22,817 - EHRQC - INFO - Creating table: omop_test_20220817.COHORT\n",
      "2023-10-03 18:59:22,822 - EHRQC - INFO - Table: omop_test_20220817.COHORT created successfully!!\n",
      "2023-10-03 18:59:22,822 - EHRQC - INFO - Saving cohort to table: omop_test_20220817.COHORT\n",
      "2023-10-03 18:59:23,062 - EHRQC - INFO - Cohort data saved successfully!!\n",
      "2023-10-03 18:59:23,062 - EHRQC - INFO - extracting data\n"
     ]
    },
    {
     "name": "stderr",
     "output_type": "stream",
     "text": [
      "/superbugai-data/yash/chapter_1/workspace/EHRQC/.venv/lib/python3.9/site-packages/pandas/io/sql.py:761: UserWarning: pandas only support SQLAlchemy connectable(engine/connection) ordatabase string URI or sqlite3 DBAPI2 connectionother DBAPI2 objects are not tested, please consider using SQLAlchemy\n",
      "  warnings.warn(\n"
     ]
    },
    {
     "name": "stdout",
     "output_type": "stream",
     "text": [
      "2023-10-03 19:00:00,085 - EHRQC - INFO - Saving raw data to file\n",
      "2023-10-03 19:00:02,082 - EHRQC - INFO - Parsing command line arguments\n",
      "2023-10-03 19:00:02,083 - EHRQC - INFO - args.save_path: /home/yram0006/phd/chapter_2/workspace/mortality_data/standardisation_experiment/extract/lab_measurements_first_icd.csv\n",
      "2023-10-03 19:00:02,083 - EHRQC - INFO - args.cohort_path: /home/yram0006/phd/chapter_2/workspace/mortality_data/standardisation_experiment/extract/cohort_icd.csv\n",
      "2023-10-03 19:00:02,083 - EHRQC - INFO - args.schema_name: omop_test_20220817\n",
      "2023-10-03 19:00:02,084 - EHRQC - INFO - args.data_type: lab_measurements\n",
      "2023-10-03 19:00:02,084 - EHRQC - INFO - args.agg_function: first\n",
      "2023-10-03 19:00:02,084 - EHRQC - INFO - args.before: 0\n",
      "2023-10-03 19:00:02,084 - EHRQC - INFO - args.after: 72\n",
      "2023-10-03 19:00:02,103 - EHRQC - INFO - Creating table: omop_test_20220817.COHORT\n",
      "2023-10-03 19:00:02,108 - EHRQC - INFO - Table: omop_test_20220817.COHORT created successfully!!\n",
      "2023-10-03 19:00:02,109 - EHRQC - INFO - Saving cohort to table: omop_test_20220817.COHORT\n",
      "2023-10-03 19:00:02,345 - EHRQC - INFO - Cohort data saved successfully!!\n",
      "2023-10-03 19:00:02,345 - EHRQC - INFO - extracting data\n"
     ]
    },
    {
     "name": "stderr",
     "output_type": "stream",
     "text": [
      "/superbugai-data/yash/chapter_1/workspace/EHRQC/.venv/lib/python3.9/site-packages/pandas/io/sql.py:761: UserWarning: pandas only support SQLAlchemy connectable(engine/connection) ordatabase string URI or sqlite3 DBAPI2 connectionother DBAPI2 objects are not tested, please consider using SQLAlchemy\n",
      "  warnings.warn(\n"
     ]
    },
    {
     "name": "stdout",
     "output_type": "stream",
     "text": [
      "2023-10-03 19:00:39,586 - EHRQC - INFO - Saving raw data to file\n",
      "2023-10-03 19:00:41,408 - EHRQC - INFO - Parsing command line arguments\n",
      "2023-10-03 19:00:41,409 - EHRQC - INFO - args.save_path: /home/yram0006/phd/chapter_2/workspace/mortality_data/standardisation_experiment/extract/lab_measurements_last_icd.csv\n",
      "2023-10-03 19:00:41,409 - EHRQC - INFO - args.cohort_path: /home/yram0006/phd/chapter_2/workspace/mortality_data/standardisation_experiment/extract/cohort_icd.csv\n",
      "2023-10-03 19:00:41,409 - EHRQC - INFO - args.schema_name: omop_test_20220817\n",
      "2023-10-03 19:00:41,409 - EHRQC - INFO - args.data_type: lab_measurements\n",
      "2023-10-03 19:00:41,410 - EHRQC - INFO - args.agg_function: last\n",
      "2023-10-03 19:00:41,410 - EHRQC - INFO - args.before: 0\n",
      "2023-10-03 19:00:41,410 - EHRQC - INFO - args.after: 72\n",
      "2023-10-03 19:00:41,430 - EHRQC - INFO - Creating table: omop_test_20220817.COHORT\n",
      "2023-10-03 19:00:41,436 - EHRQC - INFO - Table: omop_test_20220817.COHORT created successfully!!\n",
      "2023-10-03 19:00:41,436 - EHRQC - INFO - Saving cohort to table: omop_test_20220817.COHORT\n",
      "2023-10-03 19:00:41,670 - EHRQC - INFO - Cohort data saved successfully!!\n",
      "2023-10-03 19:00:41,670 - EHRQC - INFO - extracting data\n"
     ]
    },
    {
     "name": "stderr",
     "output_type": "stream",
     "text": [
      "/superbugai-data/yash/chapter_1/workspace/EHRQC/.venv/lib/python3.9/site-packages/pandas/io/sql.py:761: UserWarning: pandas only support SQLAlchemy connectable(engine/connection) ordatabase string URI or sqlite3 DBAPI2 connectionother DBAPI2 objects are not tested, please consider using SQLAlchemy\n",
      "  warnings.warn(\n"
     ]
    },
    {
     "name": "stdout",
     "output_type": "stream",
     "text": [
      "2023-10-03 19:01:18,763 - EHRQC - INFO - Saving raw data to file\n"
     ]
    },
    {
     "data": {
      "text/plain": [
       "0"
      ]
     },
     "execution_count": 2,
     "metadata": {},
     "output_type": "execute_result"
    }
   ],
   "source": [
    "import os\n",
    "\n",
    "\n",
    "os.system(\n",
    "    '''cd /superbugai-data/yash/chapter_1/workspace/EHRQC;'''\n",
    "    +\n",
    "    '''.venv/bin/python -m ehrqc.extract.ExtractCohort ''' + dataDirName + '''\"extract/cohort_icd.csv\" \"omop_test_20220817\" \"icd\";'''\n",
    "    +\n",
    "    '''.venv/bin/python -m ehrqc.extract.ExtractCohortData ''' + dataDirName + '''\"extract/demographics_icd.csv\" ''' + dataDirName + '''\"extract/cohort_icd.csv\" \"omop_test_20220817\" \"demographics\" \"min\";'''\n",
    "    +\n",
    "    '''.venv/bin/python -m ehrqc.extract.ExtractCohortData ''' + dataDirName + '''\"extract/deaths.csv\" ''' + dataDirName + '''\"extract/cohort_icd.csv\" \"omop_test_20220817\" \"deaths\" \"min\";'''\n",
    "    +\n",
    "    '''.venv/bin/python -m ehrqc.extract.ExtractCohortData ''' + dataDirName + '''\"extract/vitals_min_icd.csv\" ''' + dataDirName + '''\"extract/cohort_icd.csv\" \"omop_test_20220817\" \"vitals\" \"min\" -b=0 -a=72;'''\n",
    "    +\n",
    "    '''.venv/bin/python -m ehrqc.extract.ExtractCohortData ''' + dataDirName + '''\"extract/vitals_max_icd.csv\" ''' + dataDirName + '''\"extract/cohort_icd.csv\" \"omop_test_20220817\" \"vitals\" \"max\" -b=0 -a=72;'''\n",
    "    +\n",
    "    '''.venv/bin/python -m ehrqc.extract.ExtractCohortData ''' + dataDirName + '''\"extract/vitals_avg_icd.csv\" ''' + dataDirName + '''\"extract/cohort_icd.csv\" \"omop_test_20220817\" \"vitals\" \"avg\" -b=0 -a=72;'''\n",
    "    +\n",
    "    '''.venv/bin/python -m ehrqc.extract.ExtractCohortData ''' + dataDirName + '''\"extract/vitals_stddev_icd.csv\" ''' + dataDirName + '''\"extract/cohort_icd.csv\" \"omop_test_20220817\" \"vitals\" \"stddev\" -b=0 -a=72;'''\n",
    "    +\n",
    "    '''.venv/bin/python -m ehrqc.extract.ExtractCohortData ''' + dataDirName + '''\"extract/vitals_first_icd.csv\" ''' + dataDirName + '''\"extract/cohort_icd.csv\" \"omop_test_20220817\" \"vitals\" \"first\" -b=0 -a=72;'''\n",
    "    +\n",
    "    '''.venv/bin/python -m ehrqc.extract.ExtractCohortData ''' + dataDirName + '''\"extract/vitals_last_icd.csv\" ''' + dataDirName + '''\"extract/cohort_icd.csv\" \"omop_test_20220817\" \"vitals\" \"last\" -b=0 -a=72;'''\n",
    "    +\n",
    "    '''.venv/bin/python -m ehrqc.extract.ExtractCohortData ''' + dataDirName + '''\"extract/lab_measurements_min_icd.csv\" ''' + dataDirName + '''\"extract/cohort_icd.csv\" \"omop_test_20220817\" \"lab_measurements\" \"min\" -b=0 -a=72;'''\n",
    "    +\n",
    "    '''.venv/bin/python -m ehrqc.extract.ExtractCohortData ''' + dataDirName + '''\"extract/lab_measurements_max_icd.csv\" ''' + dataDirName + '''\"extract/cohort_icd.csv\" \"omop_test_20220817\" \"lab_measurements\" \"max\" -b=0 -a=72;'''\n",
    "    +\n",
    "    '''.venv/bin/python -m ehrqc.extract.ExtractCohortData ''' + dataDirName + '''\"extract/lab_measurements_avg_icd.csv\" ''' + dataDirName + '''\"extract/cohort_icd.csv\" \"omop_test_20220817\" \"lab_measurements\" \"avg\" -b=0 -a=72;'''\n",
    "    +\n",
    "    '''.venv/bin/python -m ehrqc.extract.ExtractCohortData ''' + dataDirName + '''\"extract/lab_measurements_stddev_icd.csv\" ''' + dataDirName + '''\"extract/cohort_icd.csv\" \"omop_test_20220817\" \"lab_measurements\" \"stddev\" -b=0 -a=72;'''\n",
    "    +\n",
    "    '''.venv/bin/python -m ehrqc.extract.ExtractCohortData ''' + dataDirName + '''\"extract/lab_measurements_first_icd.csv\" ''' + dataDirName + '''\"extract/cohort_icd.csv\" \"omop_test_20220817\" \"lab_measurements\" \"first\" -b=0 -a=72;'''\n",
    "    +\n",
    "    '''.venv/bin/python -m ehrqc.extract.ExtractCohortData ''' + dataDirName + '''\"extract/lab_measurements_last_icd.csv\" ''' + dataDirName + '''\"extract/cohort_icd.csv\" \"omop_test_20220817\" \"lab_measurements\" \"last\" -b=0 -a=72;'''\n",
    "    )\n"
   ]
  },
  {
   "cell_type": "markdown",
   "metadata": {},
   "source": [
    "### Read extracted files"
   ]
  },
  {
   "cell_type": "code",
   "execution_count": 3,
   "metadata": {},
   "outputs": [],
   "source": [
    "import pandas as pd\n",
    "\n",
    "demographics =  pd.read_csv(dataDirName + \"extract/demographics_icd.csv\")\n",
    "vitals_min =  pd.read_csv(dataDirName + \"extract/vitals_min_icd.csv\")\n",
    "vitals_max =  pd.read_csv(dataDirName + \"extract/vitals_max_icd.csv\")\n",
    "vitals_avg =  pd.read_csv(dataDirName + \"extract/vitals_avg_icd.csv\")\n",
    "vitals_stddev =  pd.read_csv(dataDirName + \"extract/vitals_stddev_icd.csv\")\n",
    "vitals_first =  pd.read_csv(dataDirName + \"extract/vitals_first_icd.csv\")\n",
    "vitals_last =  pd.read_csv(dataDirName + \"extract/vitals_last_icd.csv\")\n",
    "lab_measurements_min =  pd.read_csv(dataDirName + \"extract/lab_measurements_min_icd.csv\")\n",
    "lab_measurements_max =  pd.read_csv(dataDirName + \"extract/lab_measurements_max_icd.csv\")\n",
    "lab_measurements_avg =  pd.read_csv(dataDirName + \"extract/lab_measurements_avg_icd.csv\")\n",
    "lab_measurements_stddev =  pd.read_csv(dataDirName + \"extract/lab_measurements_stddev_icd.csv\")\n",
    "lab_measurements_first =  pd.read_csv(dataDirName + \"extract/lab_measurements_first_icd.csv\")\n",
    "lab_measurements_last =  pd.read_csv(dataDirName + \"extract/lab_measurements_last_icd.csv\")"
   ]
  },
  {
   "cell_type": "markdown",
   "metadata": {},
   "source": [
    "### Display counts post extraction"
   ]
  },
  {
   "cell_type": "code",
   "execution_count": 4,
   "metadata": {},
   "outputs": [
    {
     "data": {
      "text/plain": [
       "(12241, 4)"
      ]
     },
     "execution_count": 4,
     "metadata": {},
     "output_type": "execute_result"
    }
   ],
   "source": [
    "demographics.shape"
   ]
  },
  {
   "cell_type": "code",
   "execution_count": 5,
   "metadata": {},
   "outputs": [
    {
     "data": {
      "text/plain": [
       "((7585, 11), (7585, 11), (7585, 11), (7585, 11), (7585, 11), (7585, 11))"
      ]
     },
     "execution_count": 5,
     "metadata": {},
     "output_type": "execute_result"
    }
   ],
   "source": [
    "vitals_min.shape, vitals_max.shape, vitals_avg.shape, vitals_stddev.shape, vitals_first.shape, vitals_last.shape"
   ]
  },
  {
   "cell_type": "code",
   "execution_count": 6,
   "metadata": {},
   "outputs": [
    {
     "data": {
      "text/plain": [
       "((12216, 30), (12216, 30), (12216, 30), (12216, 30), (12216, 30), (12216, 30))"
      ]
     },
     "execution_count": 6,
     "metadata": {},
     "output_type": "execute_result"
    }
   ],
   "source": [
    "lab_measurements_min.shape, lab_measurements_max.shape, lab_measurements_avg.shape, lab_measurements_stddev.shape, lab_measurements_first.shape, lab_measurements_last.shape"
   ]
  },
  {
   "cell_type": "markdown",
   "metadata": {},
   "source": [
    "## Remove attributes with low coverage\n",
    "\n",
    "Removing attributes where the attributes have values that are missing in more than 25 % of the cases"
   ]
  },
  {
   "cell_type": "markdown",
   "metadata": {},
   "source": [
    "### Drop columns with low coverage"
   ]
  },
  {
   "cell_type": "code",
   "execution_count": 7,
   "metadata": {},
   "outputs": [
    {
     "name": "stdout",
     "output_type": "stream",
     "text": [
      "2023-10-03 19:01:27,331 - Anomalies - INFO - Parsing command line arguments\n",
      "2023-10-03 19:01:27,332 - Anomalies - INFO - Start!!\n",
      "2023-10-03 19:01:27,332 - Anomalies - INFO - args.source_file: /home/yram0006/phd/chapter_2/workspace/mortality_data/standardisation_experiment/extract/demographics_icd.csv\n",
      "2023-10-03 19:01:27,332 - Anomalies - INFO - args.chunksize: 10\n",
      "2023-10-03 19:01:27,332 - Anomalies - INFO - args.id_columns: ['person_id']\n",
      "2023-10-03 19:01:27,333 - Anomalies - INFO - args.drop: True\n",
      "2023-10-03 19:01:27,333 - Anomalies - INFO - args.percentage: 0.0\n",
      "2023-10-03 19:01:27,333 - Anomalies - INFO - args.save_path: /home/yram0006/phd/chapter_2/workspace/mortality_data/standardisation_experiment/dropped\n",
      "2023-10-03 19:01:27,333 - Anomalies - INFO - Calculating Missingnes\n",
      "2023-10-03 19:01:32,736 - Anomalies - INFO - Missingness Report\n",
      "2023-10-03 19:01:32,769 - Anomalies - INFO - \n",
      "\n",
      "  column_name  missing_count  total_count  percentage_missing\n",
      "0         age              0        12241                 0.0\n",
      "1   ethnicity              0        12241                 0.0\n",
      "2      gender              0        12241                 0.0\n",
      "\n",
      "2023-10-03 19:01:32,769 - Anomalies - INFO - Dropping columns with above 0.0 % missingness\n",
      "2023-10-03 19:01:33,552 - Anomalies - INFO - Saving data to demographics_icd_dropped.csv\n",
      "2023-10-03 19:01:33,591 - Anomalies - INFO - Done!!\n",
      "2023-10-03 19:01:34,028 - Anomalies - INFO - Parsing command line arguments\n",
      "2023-10-03 19:01:34,030 - Anomalies - INFO - Start!!\n",
      "2023-10-03 19:01:34,030 - Anomalies - INFO - args.source_file: /home/yram0006/phd/chapter_2/workspace/mortality_data/standardisation_experiment/extract/deaths.csv\n",
      "2023-10-03 19:01:34,030 - Anomalies - INFO - args.chunksize: 10\n",
      "2023-10-03 19:01:34,030 - Anomalies - INFO - args.id_columns: ['person_id']\n",
      "2023-10-03 19:01:34,030 - Anomalies - INFO - args.drop: True\n",
      "2023-10-03 19:01:34,030 - Anomalies - INFO - args.percentage: 100.0\n",
      "2023-10-03 19:01:34,030 - Anomalies - INFO - args.save_path: /home/yram0006/phd/chapter_2/workspace/mortality_data/standardisation_experiment/dropped\n",
      "2023-10-03 19:01:34,030 - Anomalies - INFO - Calculating Missingnes\n",
      "2023-10-03 19:01:39,059 - Anomalies - INFO - Missingness Report\n",
      "2023-10-03 19:01:39,062 - Anomalies - INFO - \n",
      "\n",
      "      column_name  missing_count  total_count  percentage_missing\n",
      "0     anchor_time              0        12241                0.00\n",
      "1  death_datetime           8744        12241               71.43\n",
      "\n",
      "2023-10-03 19:01:39,062 - Anomalies - INFO - Dropping columns with above 100.0 % missingness\n",
      "2023-10-03 19:01:39,820 - Anomalies - INFO - Saving data to deaths_dropped.csv\n",
      "2023-10-03 19:01:39,852 - Anomalies - INFO - Done!!\n",
      "2023-10-03 19:01:40,297 - Anomalies - INFO - Parsing command line arguments\n",
      "2023-10-03 19:01:40,298 - Anomalies - INFO - Start!!\n",
      "2023-10-03 19:01:40,298 - Anomalies - INFO - args.source_file: /home/yram0006/phd/chapter_2/workspace/mortality_data/standardisation_experiment/extract/vitals_min_icd.csv\n",
      "2023-10-03 19:01:40,298 - Anomalies - INFO - args.chunksize: 10\n",
      "2023-10-03 19:01:40,299 - Anomalies - INFO - args.id_columns: ['person_id']\n",
      "2023-10-03 19:01:40,299 - Anomalies - INFO - args.drop: True\n",
      "2023-10-03 19:01:40,299 - Anomalies - INFO - args.percentage: 25.0\n",
      "2023-10-03 19:01:40,299 - Anomalies - INFO - args.save_path: /home/yram0006/phd/chapter_2/workspace/mortality_data/standardisation_experiment/dropped\n",
      "2023-10-03 19:01:40,299 - Anomalies - INFO - Calculating Missingnes\n",
      "2023-10-03 19:01:43,366 - Anomalies - INFO - Missingness Report\n",
      "2023-10-03 19:01:43,369 - Anomalies - INFO - \n",
      "\n",
      "  column_name  missing_count  total_count  percentage_missing\n",
      "0       diabp             19         7585                0.25\n",
      "1      gcseye             23         7585                0.30\n",
      "2    gcsmotor             29         7585                0.38\n",
      "3   gcsverbal             28         7585                0.37\n",
      "4   heartrate              3         7585                0.04\n",
      "5      meanbp              3         7585                0.04\n",
      "6    resprate              2         7585                0.03\n",
      "7        spo2             12         7585                0.16\n",
      "8       sysbp             18         7585                0.24\n",
      "9       tempc             57         7585                0.75\n",
      "\n",
      "2023-10-03 19:01:43,369 - Anomalies - INFO - Dropping columns with above 25.0 % missingness\n",
      "2023-10-03 19:01:43,852 - Anomalies - INFO - Saving data to vitals_min_icd_dropped.csv\n",
      "2023-10-03 19:01:43,909 - Anomalies - INFO - Done!!\n",
      "2023-10-03 19:01:44,371 - Anomalies - INFO - Parsing command line arguments\n",
      "2023-10-03 19:01:44,372 - Anomalies - INFO - Start!!\n",
      "2023-10-03 19:01:44,372 - Anomalies - INFO - args.source_file: /home/yram0006/phd/chapter_2/workspace/mortality_data/standardisation_experiment/extract/vitals_max_icd.csv\n",
      "2023-10-03 19:01:44,372 - Anomalies - INFO - args.chunksize: 10\n",
      "2023-10-03 19:01:44,372 - Anomalies - INFO - args.id_columns: ['person_id']\n",
      "2023-10-03 19:01:44,372 - Anomalies - INFO - args.drop: True\n",
      "2023-10-03 19:01:44,372 - Anomalies - INFO - args.percentage: 25.0\n",
      "2023-10-03 19:01:44,372 - Anomalies - INFO - args.save_path: /home/yram0006/phd/chapter_2/workspace/mortality_data/standardisation_experiment/dropped\n",
      "2023-10-03 19:01:44,372 - Anomalies - INFO - Calculating Missingnes\n",
      "2023-10-03 19:01:47,426 - Anomalies - INFO - Missingness Report\n",
      "2023-10-03 19:01:47,429 - Anomalies - INFO - \n",
      "\n",
      "  column_name  missing_count  total_count  percentage_missing\n",
      "0       diabp             19         7585                0.25\n",
      "1      gcseye             23         7585                0.30\n",
      "2    gcsmotor             29         7585                0.38\n",
      "3   gcsverbal             28         7585                0.37\n",
      "4   heartrate              3         7585                0.04\n",
      "5      meanbp              3         7585                0.04\n",
      "6    resprate              2         7585                0.03\n",
      "7        spo2             12         7585                0.16\n",
      "8       sysbp             18         7585                0.24\n",
      "9       tempc             57         7585                0.75\n",
      "\n",
      "2023-10-03 19:01:47,429 - Anomalies - INFO - Dropping columns with above 25.0 % missingness\n",
      "2023-10-03 19:01:47,921 - Anomalies - INFO - Saving data to vitals_max_icd_dropped.csv\n",
      "2023-10-03 19:01:47,980 - Anomalies - INFO - Done!!\n",
      "2023-10-03 19:01:48,400 - Anomalies - INFO - Parsing command line arguments\n",
      "2023-10-03 19:01:48,401 - Anomalies - INFO - Start!!\n",
      "2023-10-03 19:01:48,401 - Anomalies - INFO - args.source_file: /home/yram0006/phd/chapter_2/workspace/mortality_data/standardisation_experiment/extract/vitals_avg_icd.csv\n",
      "2023-10-03 19:01:48,401 - Anomalies - INFO - args.chunksize: 10\n",
      "2023-10-03 19:01:48,401 - Anomalies - INFO - args.id_columns: ['person_id']\n",
      "2023-10-03 19:01:48,401 - Anomalies - INFO - args.drop: True\n",
      "2023-10-03 19:01:48,401 - Anomalies - INFO - args.percentage: 25.0\n",
      "2023-10-03 19:01:48,402 - Anomalies - INFO - args.save_path: /home/yram0006/phd/chapter_2/workspace/mortality_data/standardisation_experiment/dropped\n",
      "2023-10-03 19:01:48,402 - Anomalies - INFO - Calculating Missingnes\n",
      "2023-10-03 19:01:51,559 - Anomalies - INFO - Missingness Report\n",
      "2023-10-03 19:01:51,562 - Anomalies - INFO - \n",
      "\n",
      "  column_name  missing_count  total_count  percentage_missing\n",
      "0       diabp             19         7585                0.25\n",
      "1      gcseye             23         7585                0.30\n",
      "2    gcsmotor             29         7585                0.38\n",
      "3   gcsverbal             28         7585                0.37\n",
      "4   heartrate              3         7585                0.04\n",
      "5      meanbp              3         7585                0.04\n",
      "6    resprate              2         7585                0.03\n",
      "7        spo2             12         7585                0.16\n",
      "8       sysbp             18         7585                0.24\n",
      "9       tempc             57         7585                0.75\n",
      "\n",
      "2023-10-03 19:01:51,562 - Anomalies - INFO - Dropping columns with above 25.0 % missingness\n",
      "2023-10-03 19:01:52,057 - Anomalies - INFO - Saving data to vitals_avg_icd_dropped.csv\n",
      "2023-10-03 19:01:52,140 - Anomalies - INFO - Done!!\n",
      "2023-10-03 19:01:52,565 - Anomalies - INFO - Parsing command line arguments\n",
      "2023-10-03 19:01:52,569 - Anomalies - INFO - Start!!\n",
      "2023-10-03 19:01:52,569 - Anomalies - INFO - args.source_file: /home/yram0006/phd/chapter_2/workspace/mortality_data/standardisation_experiment/extract/vitals_stddev_icd.csv\n",
      "2023-10-03 19:01:52,569 - Anomalies - INFO - args.chunksize: 10\n",
      "2023-10-03 19:01:52,569 - Anomalies - INFO - args.id_columns: ['person_id']\n",
      "2023-10-03 19:01:52,569 - Anomalies - INFO - args.drop: True\n",
      "2023-10-03 19:01:52,569 - Anomalies - INFO - args.percentage: 25.0\n",
      "2023-10-03 19:01:52,569 - Anomalies - INFO - args.save_path: /home/yram0006/phd/chapter_2/workspace/mortality_data/standardisation_experiment/dropped\n",
      "2023-10-03 19:01:52,569 - Anomalies - INFO - Calculating Missingnes\n",
      "2023-10-03 19:01:55,693 - Anomalies - INFO - Missingness Report\n",
      "2023-10-03 19:01:55,696 - Anomalies - INFO - \n",
      "\n",
      "  column_name  missing_count  total_count  percentage_missing\n",
      "0       diabp             27         7585                0.36\n",
      "1      gcseye            146         7585                1.92\n",
      "2    gcsmotor            155         7585                2.04\n",
      "3   gcsverbal            154         7585                2.03\n",
      "4   heartrate              5         7585                0.07\n",
      "5      meanbp              9         7585                0.12\n",
      "6    resprate              5         7585                0.07\n",
      "7        spo2             22         7585                0.29\n",
      "8       sysbp             26         7585                0.34\n",
      "9       tempc            165         7585                2.18\n",
      "\n",
      "2023-10-03 19:01:55,696 - Anomalies - INFO - Dropping columns with above 25.0 % missingness\n",
      "2023-10-03 19:01:56,190 - Anomalies - INFO - Saving data to vitals_stddev_icd_dropped.csv\n",
      "2023-10-03 19:01:56,280 - Anomalies - INFO - Done!!\n",
      "2023-10-03 19:01:56,690 - Anomalies - INFO - Parsing command line arguments\n",
      "2023-10-03 19:01:56,691 - Anomalies - INFO - Start!!\n",
      "2023-10-03 19:01:56,691 - Anomalies - INFO - args.source_file: /home/yram0006/phd/chapter_2/workspace/mortality_data/standardisation_experiment/extract/vitals_first_icd.csv\n",
      "2023-10-03 19:01:56,691 - Anomalies - INFO - args.chunksize: 10\n",
      "2023-10-03 19:01:56,691 - Anomalies - INFO - args.id_columns: ['person_id']\n",
      "2023-10-03 19:01:56,691 - Anomalies - INFO - args.drop: True\n",
      "2023-10-03 19:01:56,691 - Anomalies - INFO - args.percentage: 25.0\n",
      "2023-10-03 19:01:56,691 - Anomalies - INFO - args.save_path: /home/yram0006/phd/chapter_2/workspace/mortality_data/standardisation_experiment/dropped\n",
      "2023-10-03 19:01:56,692 - Anomalies - INFO - Calculating Missingnes\n",
      "2023-10-03 19:01:59,779 - Anomalies - INFO - Missingness Report\n",
      "2023-10-03 19:01:59,782 - Anomalies - INFO - \n",
      "\n",
      "  column_name  missing_count  total_count  percentage_missing\n",
      "0       diabp             19         7585                0.25\n",
      "1      gcseye             23         7585                0.30\n",
      "2    gcsmotor             29         7585                0.38\n",
      "3   gcsverbal             28         7585                0.37\n",
      "4   heartrate              3         7585                0.04\n",
      "5      meanbp              3         7585                0.04\n",
      "6    resprate              2         7585                0.03\n",
      "7        spo2             12         7585                0.16\n",
      "8       sysbp             18         7585                0.24\n",
      "9       tempc             57         7585                0.75\n",
      "\n",
      "2023-10-03 19:01:59,782 - Anomalies - INFO - Dropping columns with above 25.0 % missingness\n",
      "2023-10-03 19:02:00,268 - Anomalies - INFO - Saving data to vitals_first_icd_dropped.csv\n",
      "2023-10-03 19:02:00,326 - Anomalies - INFO - Done!!\n",
      "2023-10-03 19:02:00,743 - Anomalies - INFO - Parsing command line arguments\n",
      "2023-10-03 19:02:00,744 - Anomalies - INFO - Start!!\n",
      "2023-10-03 19:02:00,745 - Anomalies - INFO - args.source_file: /home/yram0006/phd/chapter_2/workspace/mortality_data/standardisation_experiment/extract/vitals_last_icd.csv\n",
      "2023-10-03 19:02:00,745 - Anomalies - INFO - args.chunksize: 10\n",
      "2023-10-03 19:02:00,745 - Anomalies - INFO - args.id_columns: ['person_id']\n",
      "2023-10-03 19:02:00,745 - Anomalies - INFO - args.drop: True\n",
      "2023-10-03 19:02:00,745 - Anomalies - INFO - args.percentage: 25.0\n",
      "2023-10-03 19:02:00,745 - Anomalies - INFO - args.save_path: /home/yram0006/phd/chapter_2/workspace/mortality_data/standardisation_experiment/dropped\n",
      "2023-10-03 19:02:00,745 - Anomalies - INFO - Calculating Missingnes\n",
      "2023-10-03 19:02:03,808 - Anomalies - INFO - Missingness Report\n",
      "2023-10-03 19:02:03,811 - Anomalies - INFO - \n",
      "\n",
      "  column_name  missing_count  total_count  percentage_missing\n",
      "0       diabp             19         7585                0.25\n",
      "1      gcseye             23         7585                0.30\n",
      "2    gcsmotor             29         7585                0.38\n",
      "3   gcsverbal             28         7585                0.37\n",
      "4   heartrate              3         7585                0.04\n",
      "5      meanbp              3         7585                0.04\n",
      "6    resprate              2         7585                0.03\n",
      "7        spo2             12         7585                0.16\n",
      "8       sysbp             18         7585                0.24\n",
      "9       tempc             57         7585                0.75\n",
      "\n",
      "2023-10-03 19:02:03,811 - Anomalies - INFO - Dropping columns with above 25.0 % missingness\n",
      "2023-10-03 19:02:04,296 - Anomalies - INFO - Saving data to vitals_last_icd_dropped.csv\n",
      "2023-10-03 19:02:04,352 - Anomalies - INFO - Done!!\n",
      "2023-10-03 19:02:04,769 - Anomalies - INFO - Parsing command line arguments\n",
      "2023-10-03 19:02:04,770 - Anomalies - INFO - Start!!\n",
      "2023-10-03 19:02:04,770 - Anomalies - INFO - args.source_file: /home/yram0006/phd/chapter_2/workspace/mortality_data/standardisation_experiment/extract/lab_measurements_min_icd.csv\n",
      "2023-10-03 19:02:04,771 - Anomalies - INFO - args.chunksize: 10\n",
      "2023-10-03 19:02:04,771 - Anomalies - INFO - args.id_columns: ['person_id']\n",
      "2023-10-03 19:02:04,771 - Anomalies - INFO - args.drop: True\n",
      "2023-10-03 19:02:04,771 - Anomalies - INFO - args.percentage: 25.0\n",
      "2023-10-03 19:02:04,771 - Anomalies - INFO - args.save_path: /home/yram0006/phd/chapter_2/workspace/mortality_data/standardisation_experiment/dropped\n",
      "2023-10-03 19:02:04,771 - Anomalies - INFO - Calculating Missingnes\n",
      "2023-10-03 19:02:10,438 - Anomalies - INFO - Missingness Report\n",
      "2023-10-03 19:02:10,443 - Anomalies - INFO - \n",
      "\n",
      "                column_name  missing_count  total_count  percentage_missing\n",
      "0                   albumin           3249        12216               26.60\n",
      "1                 anion_gap             28        12216                0.23\n",
      "2                      aptt           1172        12216                9.59\n",
      "3     band_form_neutrophils           7453        12216               61.01\n",
      "4      base_excess_in_blood          12216        12216              100.00\n",
      "5               bicarbonate             18        12216                0.15\n",
      "6                 bilirubin           2010        12216               16.45\n",
      "7       carbondioxide_blood          12216        12216              100.00\n",
      "8       carbondioxide_serum          12216        12216              100.00\n",
      "9            chloride_blood          12216        12216              100.00\n",
      "10           chloride_serum             17        12216                0.14\n",
      "11               creatinine              7        12216                0.06\n",
      "12            glucose_serum             20        12216                0.16\n",
      "13            glucose_urine          10880        12216               89.06\n",
      "14               hematocrit             14        12216                0.11\n",
      "15               hemoglobin              5        12216                0.04\n",
      "16                      inr           1071        12216                8.77\n",
      "17                  lactate          12216        12216              100.00\n",
      "18    leukocytes_blood_auto          12216        12216              100.00\n",
      "19  leukocytes_blood_manual             15        12216                0.12\n",
      "20                   oxygen          12216        12216              100.00\n",
      "21                 ph_blood          12216        12216              100.00\n",
      "22             ph_bodyfluid          12216        12216              100.00\n",
      "23           platelet_count             17        12216                0.14\n",
      "24          potassium_blood          12216        12216              100.00\n",
      "25          potassium_serum             17        12216                0.14\n",
      "26             sodium_blood          12216        12216              100.00\n",
      "27             sodium_serum             16        12216                0.13\n",
      "28            urea_nitrogen             21        12216                0.17\n",
      "\n",
      "2023-10-03 19:02:10,443 - Anomalies - INFO - Dropping columns with above 25.0 % missingness\n",
      "2023-10-03 19:02:11,268 - Anomalies - INFO - Saving data to lab_measurements_min_icd_dropped.csv\n",
      "2023-10-03 19:02:11,389 - Anomalies - INFO - Done!!\n",
      "2023-10-03 19:02:11,826 - Anomalies - INFO - Parsing command line arguments\n",
      "2023-10-03 19:02:11,827 - Anomalies - INFO - Start!!\n",
      "2023-10-03 19:02:11,827 - Anomalies - INFO - args.source_file: /home/yram0006/phd/chapter_2/workspace/mortality_data/standardisation_experiment/extract/lab_measurements_max_icd.csv\n",
      "2023-10-03 19:02:11,827 - Anomalies - INFO - args.chunksize: 10\n",
      "2023-10-03 19:02:11,827 - Anomalies - INFO - args.id_columns: ['person_id']\n",
      "2023-10-03 19:02:11,827 - Anomalies - INFO - args.drop: True\n",
      "2023-10-03 19:02:11,827 - Anomalies - INFO - args.percentage: 25.0\n",
      "2023-10-03 19:02:11,827 - Anomalies - INFO - args.save_path: /home/yram0006/phd/chapter_2/workspace/mortality_data/standardisation_experiment/dropped\n",
      "2023-10-03 19:02:11,827 - Anomalies - INFO - Calculating Missingnes\n",
      "2023-10-03 19:02:17,413 - Anomalies - INFO - Missingness Report\n",
      "2023-10-03 19:02:17,417 - Anomalies - INFO - \n",
      "\n",
      "                column_name  missing_count  total_count  percentage_missing\n",
      "0                   albumin           3249        12216               26.60\n",
      "1                 anion_gap             28        12216                0.23\n",
      "2                      aptt           1172        12216                9.59\n",
      "3     band_form_neutrophils           7453        12216               61.01\n",
      "4      base_excess_in_blood          12216        12216              100.00\n",
      "5               bicarbonate             18        12216                0.15\n",
      "6                 bilirubin           2010        12216               16.45\n",
      "7       carbondioxide_blood          12216        12216              100.00\n",
      "8       carbondioxide_serum          12216        12216              100.00\n",
      "9            chloride_blood          12216        12216              100.00\n",
      "10           chloride_serum             17        12216                0.14\n",
      "11               creatinine              7        12216                0.06\n",
      "12            glucose_serum             20        12216                0.16\n",
      "13            glucose_urine          10880        12216               89.06\n",
      "14               hematocrit             14        12216                0.11\n",
      "15               hemoglobin              5        12216                0.04\n",
      "16                      inr           1071        12216                8.77\n",
      "17                  lactate          12216        12216              100.00\n",
      "18    leukocytes_blood_auto          12216        12216              100.00\n",
      "19  leukocytes_blood_manual             15        12216                0.12\n",
      "20                   oxygen          12216        12216              100.00\n",
      "21                 ph_blood          12216        12216              100.00\n",
      "22             ph_bodyfluid          12216        12216              100.00\n",
      "23           platelet_count             17        12216                0.14\n",
      "24          potassium_blood          12216        12216              100.00\n",
      "25          potassium_serum             17        12216                0.14\n",
      "26             sodium_blood          12216        12216              100.00\n",
      "27             sodium_serum             16        12216                0.13\n",
      "28            urea_nitrogen             21        12216                0.17\n",
      "\n",
      "2023-10-03 19:02:17,417 - Anomalies - INFO - Dropping columns with above 25.0 % missingness\n",
      "2023-10-03 19:02:18,245 - Anomalies - INFO - Saving data to lab_measurements_max_icd_dropped.csv\n",
      "2023-10-03 19:02:18,370 - Anomalies - INFO - Done!!\n",
      "2023-10-03 19:02:18,815 - Anomalies - INFO - Parsing command line arguments\n",
      "2023-10-03 19:02:18,816 - Anomalies - INFO - Start!!\n",
      "2023-10-03 19:02:18,816 - Anomalies - INFO - args.source_file: /home/yram0006/phd/chapter_2/workspace/mortality_data/standardisation_experiment/extract/lab_measurements_avg_icd.csv\n",
      "2023-10-03 19:02:18,816 - Anomalies - INFO - args.chunksize: 10\n",
      "2023-10-03 19:02:18,816 - Anomalies - INFO - args.id_columns: ['person_id']\n",
      "2023-10-03 19:02:18,816 - Anomalies - INFO - args.drop: True\n",
      "2023-10-03 19:02:18,816 - Anomalies - INFO - args.percentage: 25.0\n",
      "2023-10-03 19:02:18,816 - Anomalies - INFO - args.save_path: /home/yram0006/phd/chapter_2/workspace/mortality_data/standardisation_experiment/dropped\n",
      "2023-10-03 19:02:18,816 - Anomalies - INFO - Calculating Missingnes\n",
      "2023-10-03 19:02:24,581 - Anomalies - INFO - Missingness Report\n",
      "2023-10-03 19:02:24,585 - Anomalies - INFO - \n",
      "\n",
      "                column_name  missing_count  total_count  percentage_missing\n",
      "0                   albumin           3249        12216               26.60\n",
      "1                 anion_gap             28        12216                0.23\n",
      "2                      aptt           1172        12216                9.59\n",
      "3     band_form_neutrophils           7453        12216               61.01\n",
      "4      base_excess_in_blood          12216        12216              100.00\n",
      "5               bicarbonate             18        12216                0.15\n",
      "6                 bilirubin           2010        12216               16.45\n",
      "7       carbondioxide_blood          12216        12216              100.00\n",
      "8       carbondioxide_serum          12216        12216              100.00\n",
      "9            chloride_blood          12216        12216              100.00\n",
      "10           chloride_serum             17        12216                0.14\n",
      "11               creatinine              7        12216                0.06\n",
      "12            glucose_serum             20        12216                0.16\n",
      "13            glucose_urine          10880        12216               89.06\n",
      "14               hematocrit             14        12216                0.11\n",
      "15               hemoglobin              5        12216                0.04\n",
      "16                      inr           1071        12216                8.77\n",
      "17                  lactate          12216        12216              100.00\n",
      "18    leukocytes_blood_auto          12216        12216              100.00\n",
      "19  leukocytes_blood_manual             15        12216                0.12\n",
      "20                   oxygen          12216        12216              100.00\n",
      "21                 ph_blood          12216        12216              100.00\n",
      "22             ph_bodyfluid          12216        12216              100.00\n",
      "23           platelet_count             17        12216                0.14\n",
      "24          potassium_blood          12216        12216              100.00\n",
      "25          potassium_serum             17        12216                0.14\n",
      "26             sodium_blood          12216        12216              100.00\n",
      "27             sodium_serum             16        12216                0.13\n",
      "28            urea_nitrogen             21        12216                0.17\n",
      "\n",
      "2023-10-03 19:02:24,585 - Anomalies - INFO - Dropping columns with above 25.0 % missingness\n",
      "2023-10-03 19:02:25,399 - Anomalies - INFO - Saving data to lab_measurements_avg_icd_dropped.csv\n",
      "2023-10-03 19:02:25,572 - Anomalies - INFO - Done!!\n",
      "2023-10-03 19:02:26,028 - Anomalies - INFO - Parsing command line arguments\n",
      "2023-10-03 19:02:26,029 - Anomalies - INFO - Start!!\n",
      "2023-10-03 19:02:26,029 - Anomalies - INFO - args.source_file: /home/yram0006/phd/chapter_2/workspace/mortality_data/standardisation_experiment/extract/lab_measurements_stddev_icd.csv\n",
      "2023-10-03 19:02:26,029 - Anomalies - INFO - args.chunksize: 10\n",
      "2023-10-03 19:02:26,029 - Anomalies - INFO - args.id_columns: ['person_id']\n",
      "2023-10-03 19:02:26,030 - Anomalies - INFO - args.drop: True\n",
      "2023-10-03 19:02:26,030 - Anomalies - INFO - args.percentage: 25.0\n",
      "2023-10-03 19:02:26,030 - Anomalies - INFO - args.save_path: /home/yram0006/phd/chapter_2/workspace/mortality_data/standardisation_experiment/dropped\n",
      "2023-10-03 19:02:26,030 - Anomalies - INFO - Calculating Missingnes\n",
      "2023-10-03 19:02:31,602 - Anomalies - INFO - Missingness Report\n",
      "2023-10-03 19:02:31,606 - Anomalies - INFO - \n",
      "\n",
      "                column_name  missing_count  total_count  percentage_missing\n",
      "0                   albumin           8388        12216               68.66\n",
      "1                 anion_gap            219        12216                1.79\n",
      "2                      aptt           3377        12216               27.64\n",
      "3     band_form_neutrophils          10025        12216               82.06\n",
      "4      base_excess_in_blood          12216        12216              100.00\n",
      "5               bicarbonate            175        12216                1.43\n",
      "6                 bilirubin           5236        12216               42.86\n",
      "7       carbondioxide_blood          12216        12216              100.00\n",
      "8       carbondioxide_serum          12216        12216              100.00\n",
      "9            chloride_blood          12216        12216              100.00\n",
      "10           chloride_serum            173        12216                1.42\n",
      "11               creatinine            161        12216                1.32\n",
      "12            glucose_serum            182        12216                1.49\n",
      "13            glucose_urine          12042        12216               98.58\n",
      "14               hematocrit            177        12216                1.45\n",
      "15               hemoglobin            162        12216                1.33\n",
      "16                      inr           3131        12216               25.63\n",
      "17                  lactate          12216        12216              100.00\n",
      "18    leukocytes_blood_auto          12216        12216              100.00\n",
      "19  leukocytes_blood_manual            185        12216                1.51\n",
      "20                   oxygen          12216        12216              100.00\n",
      "21                 ph_blood          12216        12216              100.00\n",
      "22             ph_bodyfluid          12216        12216              100.00\n",
      "23           platelet_count            192        12216                1.57\n",
      "24          potassium_blood          12216        12216              100.00\n",
      "25          potassium_serum            169        12216                1.38\n",
      "26             sodium_blood          12216        12216              100.00\n",
      "27             sodium_serum            169        12216                1.38\n",
      "28            urea_nitrogen            202        12216                1.65\n",
      "\n",
      "2023-10-03 19:02:31,607 - Anomalies - INFO - Dropping columns with above 25.0 % missingness\n",
      "2023-10-03 19:02:32,398 - Anomalies - INFO - Saving data to lab_measurements_stddev_icd_dropped.csv\n",
      "2023-10-03 19:02:32,574 - Anomalies - INFO - Done!!\n",
      "2023-10-03 19:02:33,010 - Anomalies - INFO - Parsing command line arguments\n",
      "2023-10-03 19:02:33,011 - Anomalies - INFO - Start!!\n",
      "2023-10-03 19:02:33,011 - Anomalies - INFO - args.source_file: /home/yram0006/phd/chapter_2/workspace/mortality_data/standardisation_experiment/extract/lab_measurements_first_icd.csv\n",
      "2023-10-03 19:02:33,011 - Anomalies - INFO - args.chunksize: 10\n",
      "2023-10-03 19:02:33,011 - Anomalies - INFO - args.id_columns: ['person_id']\n",
      "2023-10-03 19:02:33,011 - Anomalies - INFO - args.drop: True\n",
      "2023-10-03 19:02:33,011 - Anomalies - INFO - args.percentage: 25.0\n",
      "2023-10-03 19:02:33,011 - Anomalies - INFO - args.save_path: /home/yram0006/phd/chapter_2/workspace/mortality_data/standardisation_experiment/dropped\n",
      "2023-10-03 19:02:33,011 - Anomalies - INFO - Calculating Missingnes\n",
      "2023-10-03 19:02:38,602 - Anomalies - INFO - Missingness Report\n",
      "2023-10-03 19:02:38,606 - Anomalies - INFO - \n",
      "\n",
      "                column_name  missing_count  total_count  percentage_missing\n",
      "0                   albumin           3249        12216               26.60\n",
      "1                 anion_gap             28        12216                0.23\n",
      "2                      aptt           1172        12216                9.59\n",
      "3     band_form_neutrophils           7453        12216               61.01\n",
      "4      base_excess_in_blood          12216        12216              100.00\n",
      "5               bicarbonate             18        12216                0.15\n",
      "6                 bilirubin           2010        12216               16.45\n",
      "7       carbondioxide_blood          12216        12216              100.00\n",
      "8       carbondioxide_serum          12216        12216              100.00\n",
      "9            chloride_blood          12216        12216              100.00\n",
      "10           chloride_serum             17        12216                0.14\n",
      "11               creatinine              7        12216                0.06\n",
      "12            glucose_serum             20        12216                0.16\n",
      "13            glucose_urine          10880        12216               89.06\n",
      "14               hematocrit             14        12216                0.11\n",
      "15               hemoglobin              5        12216                0.04\n",
      "16                      inr           1071        12216                8.77\n",
      "17                  lactate          12216        12216              100.00\n",
      "18    leukocytes_blood_auto          12216        12216              100.00\n",
      "19  leukocytes_blood_manual             15        12216                0.12\n",
      "20                   oxygen          12216        12216              100.00\n",
      "21                 ph_blood          12216        12216              100.00\n",
      "22             ph_bodyfluid          12216        12216              100.00\n",
      "23           platelet_count             17        12216                0.14\n",
      "24          potassium_blood          12216        12216              100.00\n",
      "25          potassium_serum             17        12216                0.14\n",
      "26             sodium_blood          12216        12216              100.00\n",
      "27             sodium_serum             16        12216                0.13\n",
      "28            urea_nitrogen             21        12216                0.17\n",
      "\n",
      "2023-10-03 19:02:38,606 - Anomalies - INFO - Dropping columns with above 25.0 % missingness\n",
      "2023-10-03 19:02:39,421 - Anomalies - INFO - Saving data to lab_measurements_first_icd_dropped.csv\n",
      "2023-10-03 19:02:39,546 - Anomalies - INFO - Done!!\n",
      "2023-10-03 19:02:39,963 - Anomalies - INFO - Parsing command line arguments\n",
      "2023-10-03 19:02:39,964 - Anomalies - INFO - Start!!\n",
      "2023-10-03 19:02:39,964 - Anomalies - INFO - args.source_file: /home/yram0006/phd/chapter_2/workspace/mortality_data/standardisation_experiment/extract/lab_measurements_last_icd.csv\n",
      "2023-10-03 19:02:39,964 - Anomalies - INFO - args.chunksize: 10\n",
      "2023-10-03 19:02:39,964 - Anomalies - INFO - args.id_columns: ['person_id']\n",
      "2023-10-03 19:02:39,964 - Anomalies - INFO - args.drop: True\n",
      "2023-10-03 19:02:39,964 - Anomalies - INFO - args.percentage: 25.0\n",
      "2023-10-03 19:02:39,965 - Anomalies - INFO - args.save_path: /home/yram0006/phd/chapter_2/workspace/mortality_data/standardisation_experiment/dropped\n",
      "2023-10-03 19:02:39,965 - Anomalies - INFO - Calculating Missingnes\n",
      "2023-10-03 19:02:45,568 - Anomalies - INFO - Missingness Report\n",
      "2023-10-03 19:02:45,572 - Anomalies - INFO - \n",
      "\n",
      "                column_name  missing_count  total_count  percentage_missing\n",
      "0                   albumin           3249        12216               26.60\n",
      "1                 anion_gap             28        12216                0.23\n",
      "2                      aptt           1172        12216                9.59\n",
      "3     band_form_neutrophils           7453        12216               61.01\n",
      "4      base_excess_in_blood          12216        12216              100.00\n",
      "5               bicarbonate             18        12216                0.15\n",
      "6                 bilirubin           2010        12216               16.45\n",
      "7       carbondioxide_blood          12216        12216              100.00\n",
      "8       carbondioxide_serum          12216        12216              100.00\n",
      "9            chloride_blood          12216        12216              100.00\n",
      "10           chloride_serum             17        12216                0.14\n",
      "11               creatinine              7        12216                0.06\n",
      "12            glucose_serum             20        12216                0.16\n",
      "13            glucose_urine          10880        12216               89.06\n",
      "14               hematocrit             14        12216                0.11\n",
      "15               hemoglobin              5        12216                0.04\n",
      "16                      inr           1071        12216                8.77\n",
      "17                  lactate          12216        12216              100.00\n",
      "18    leukocytes_blood_auto          12216        12216              100.00\n",
      "19  leukocytes_blood_manual             15        12216                0.12\n",
      "20                   oxygen          12216        12216              100.00\n",
      "21                 ph_blood          12216        12216              100.00\n",
      "22             ph_bodyfluid          12216        12216              100.00\n",
      "23           platelet_count             17        12216                0.14\n",
      "24          potassium_blood          12216        12216              100.00\n",
      "25          potassium_serum             17        12216                0.14\n",
      "26             sodium_blood          12216        12216              100.00\n",
      "27             sodium_serum             16        12216                0.13\n",
      "28            urea_nitrogen             21        12216                0.17\n",
      "\n",
      "2023-10-03 19:02:45,572 - Anomalies - INFO - Dropping columns with above 25.0 % missingness\n",
      "2023-10-03 19:02:46,375 - Anomalies - INFO - Saving data to lab_measurements_last_icd_dropped.csv\n",
      "2023-10-03 19:02:46,498 - Anomalies - INFO - Done!!\n"
     ]
    },
    {
     "data": {
      "text/plain": [
       "0"
      ]
     },
     "execution_count": 7,
     "metadata": {},
     "output_type": "execute_result"
    }
   ],
   "source": [
    "import os\n",
    "\n",
    "\n",
    "os.system(\n",
    "    '''cd /superbugai-data/yash/chapter_1/workspace/EHRQC;'''\n",
    "    +\n",
    "    '''.venv/bin/python -m ehrqc.qc.Coverage ''' + dataDirName + '''extract/demographics_icd.csv 10 person_id -d -p 0 -sp ''' + dataDirName + '''dropped;'''\n",
    "    +\n",
    "    '''.venv/bin/python -m ehrqc.qc.Coverage ''' + dataDirName + '''extract/deaths.csv 10 person_id -d -p 100 -sp ''' + dataDirName + '''dropped;'''\n",
    "    +\n",
    "    '''.venv/bin/python -m ehrqc.qc.Coverage ''' + dataDirName + '''extract/vitals_min_icd.csv 10 person_id -d -p 25 -sp ''' + dataDirName + '''dropped;'''\n",
    "    +\n",
    "    '''.venv/bin/python -m ehrqc.qc.Coverage ''' + dataDirName + '''extract/vitals_max_icd.csv 10 person_id -d -p 25 -sp ''' + dataDirName + '''dropped;'''\n",
    "    +\n",
    "    '''.venv/bin/python -m ehrqc.qc.Coverage ''' + dataDirName + '''extract/vitals_avg_icd.csv 10 person_id -d -p 25 -sp ''' + dataDirName + '''dropped;'''\n",
    "    +\n",
    "    '''.venv/bin/python -m ehrqc.qc.Coverage ''' + dataDirName + '''extract/vitals_stddev_icd.csv 10 person_id -d -p 25 -sp ''' + dataDirName + '''dropped;'''\n",
    "    +\n",
    "    '''.venv/bin/python -m ehrqc.qc.Coverage ''' + dataDirName + '''extract/vitals_first_icd.csv 10 person_id -d -p 25 -sp ''' + dataDirName + '''dropped;'''\n",
    "    +\n",
    "    '''.venv/bin/python -m ehrqc.qc.Coverage ''' + dataDirName + '''extract/vitals_last_icd.csv 10 person_id -d -p 25 -sp ''' + dataDirName + '''dropped;'''\n",
    "    +\n",
    "    '''.venv/bin/python -m ehrqc.qc.Coverage ''' + dataDirName + '''extract/lab_measurements_min_icd.csv 10 person_id -d -p 25 -sp ''' + dataDirName + '''dropped;'''\n",
    "    +\n",
    "    '''.venv/bin/python -m ehrqc.qc.Coverage ''' + dataDirName + '''extract/lab_measurements_max_icd.csv 10 person_id -d -p 25 -sp ''' + dataDirName + '''dropped;'''\n",
    "    +\n",
    "    '''.venv/bin/python -m ehrqc.qc.Coverage ''' + dataDirName + '''extract/lab_measurements_avg_icd.csv 10 person_id -d -p 25 -sp ''' + dataDirName + '''dropped;'''\n",
    "    +\n",
    "    '''.venv/bin/python -m ehrqc.qc.Coverage ''' + dataDirName + '''extract/lab_measurements_stddev_icd.csv 10 person_id -d -p 25 -sp ''' + dataDirName + '''dropped;'''\n",
    "    +\n",
    "    '''.venv/bin/python -m ehrqc.qc.Coverage ''' + dataDirName + '''extract/lab_measurements_first_icd.csv 10 person_id -d -p 25 -sp ''' + dataDirName + '''dropped;'''\n",
    "    +\n",
    "    '''.venv/bin/python -m ehrqc.qc.Coverage ''' + dataDirName + '''extract/lab_measurements_last_icd.csv 10 person_id -d -p 25 -sp ''' + dataDirName + '''dropped;'''\n",
    "    )"
   ]
  },
  {
   "cell_type": "markdown",
   "metadata": {},
   "source": [
    "### Read dropped files"
   ]
  },
  {
   "cell_type": "code",
   "execution_count": 8,
   "metadata": {},
   "outputs": [],
   "source": [
    "import pandas as pd\n",
    "\n",
    "demographics =  pd.read_csv(dataDirName + \"dropped/demographics_icd_dropped.csv\")\n",
    "vitals_min =  pd.read_csv(dataDirName + \"dropped/vitals_min_icd_dropped.csv\")\n",
    "vitals_max =  pd.read_csv(dataDirName + \"dropped/vitals_max_icd_dropped.csv\")\n",
    "vitals_avg =  pd.read_csv(dataDirName + \"dropped/vitals_avg_icd_dropped.csv\")\n",
    "vitals_stddev =  pd.read_csv(dataDirName + \"dropped/vitals_stddev_icd_dropped.csv\")\n",
    "vitals_first =  pd.read_csv(dataDirName + \"dropped/vitals_first_icd_dropped.csv\")\n",
    "vitals_last =  pd.read_csv(dataDirName + \"dropped/vitals_last_icd_dropped.csv\")\n",
    "lab_measurements_min =  pd.read_csv(dataDirName + \"dropped/lab_measurements_min_icd_dropped.csv\")\n",
    "lab_measurements_max =  pd.read_csv(dataDirName + \"dropped/lab_measurements_max_icd_dropped.csv\")\n",
    "lab_measurements_avg =  pd.read_csv(dataDirName + \"dropped/lab_measurements_avg_icd_dropped.csv\")\n",
    "lab_measurements_stddev =  pd.read_csv(dataDirName + \"dropped/lab_measurements_stddev_icd_dropped.csv\")\n",
    "lab_measurements_first =  pd.read_csv(dataDirName + \"dropped/lab_measurements_first_icd_dropped.csv\")\n",
    "lab_measurements_last =  pd.read_csv(dataDirName + \"dropped/lab_measurements_last_icd_dropped.csv\")"
   ]
  },
  {
   "cell_type": "markdown",
   "metadata": {},
   "source": [
    "### Display counts post dropping"
   ]
  },
  {
   "cell_type": "code",
   "execution_count": 9,
   "metadata": {},
   "outputs": [
    {
     "data": {
      "text/plain": [
       "(12241, 4)"
      ]
     },
     "execution_count": 9,
     "metadata": {},
     "output_type": "execute_result"
    }
   ],
   "source": [
    "demographics.shape"
   ]
  },
  {
   "cell_type": "code",
   "execution_count": 10,
   "metadata": {},
   "outputs": [
    {
     "data": {
      "text/plain": [
       "((7585, 11), (7585, 11), (7585, 11), (7585, 11), (7585, 11), (7585, 11))"
      ]
     },
     "execution_count": 10,
     "metadata": {},
     "output_type": "execute_result"
    }
   ],
   "source": [
    "vitals_min.shape, vitals_max.shape, vitals_avg.shape, vitals_stddev.shape, vitals_first.shape, vitals_last.shape"
   ]
  },
  {
   "cell_type": "code",
   "execution_count": 11,
   "metadata": {},
   "outputs": [
    {
     "data": {
      "text/plain": [
       "((12216, 16), (12216, 16), (12216, 16), (12216, 13), (12216, 16), (12216, 16))"
      ]
     },
     "execution_count": 11,
     "metadata": {},
     "output_type": "execute_result"
    }
   ],
   "source": [
    "lab_measurements_min.shape, lab_measurements_max.shape, lab_measurements_avg.shape, lab_measurements_stddev.shape, lab_measurements_first.shape, lab_measurements_last.shape"
   ]
  },
  {
   "cell_type": "markdown",
   "metadata": {},
   "source": [
    "## Missing data imputation\n",
    "\n",
    "Data imputation is performed for all the missing data"
   ]
  },
  {
   "cell_type": "markdown",
   "metadata": {},
   "source": [
    "### Impute missing data"
   ]
  },
  {
   "cell_type": "code",
   "execution_count": 12,
   "metadata": {},
   "outputs": [
    {
     "name": "stdout",
     "output_type": "stream",
     "text": [
      "2023-10-03 19:02:49,572 - EHRQC - INFO - Parsing command line arguments\n",
      "2023-10-03 19:02:49,573 - EHRQC - INFO - args.action: impute\n",
      "2023-10-03 19:02:49,573 - EHRQC - INFO - args.source_path: /home/yram0006/phd/chapter_2/workspace/mortality_data/standardisation_experiment/dropped/vitals_min_icd_dropped.csv\n",
      "2023-10-03 19:02:49,573 - EHRQC - INFO - args.percentage: None\n",
      "2023-10-03 19:02:49,574 - EHRQC - INFO - args.save_path: /home/yram0006/phd/chapter_2/workspace/mortality_data/standardisation_experiment/imputed/vitals_min_icd.csv\n",
      "2023-10-03 19:02:49,574 - EHRQC - INFO - args.algorithm: miss_forest\n",
      "Iteration: 0\n",
      "Iteration: 1\n",
      "Iteration: 2\n",
      "Iteration: 3\n",
      "2023-10-03 19:03:06,795 - EHRQC - INFO - Done!!\n",
      "2023-10-03 19:03:08,585 - EHRQC - INFO - Parsing command line arguments\n",
      "2023-10-03 19:03:08,586 - EHRQC - INFO - args.action: impute\n",
      "2023-10-03 19:03:08,586 - EHRQC - INFO - args.source_path: /home/yram0006/phd/chapter_2/workspace/mortality_data/standardisation_experiment/dropped/vitals_max_icd_dropped.csv\n",
      "2023-10-03 19:03:08,586 - EHRQC - INFO - args.percentage: None\n",
      "2023-10-03 19:03:08,586 - EHRQC - INFO - args.save_path: /home/yram0006/phd/chapter_2/workspace/mortality_data/standardisation_experiment/imputed/vitals_max_icd.csv\n",
      "2023-10-03 19:03:08,586 - EHRQC - INFO - args.algorithm: miss_forest\n",
      "Iteration: 0\n",
      "Iteration: 1\n",
      "Iteration: 2\n",
      "2023-10-03 19:03:21,760 - EHRQC - INFO - Done!!\n",
      "2023-10-03 19:03:23,483 - EHRQC - INFO - Parsing command line arguments\n",
      "2023-10-03 19:03:23,484 - EHRQC - INFO - args.action: impute\n",
      "2023-10-03 19:03:23,484 - EHRQC - INFO - args.source_path: /home/yram0006/phd/chapter_2/workspace/mortality_data/standardisation_experiment/dropped/vitals_avg_icd_dropped.csv\n",
      "2023-10-03 19:03:23,484 - EHRQC - INFO - args.percentage: None\n",
      "2023-10-03 19:03:23,484 - EHRQC - INFO - args.save_path: /home/yram0006/phd/chapter_2/workspace/mortality_data/standardisation_experiment/imputed/vitals_avg_icd.csv\n",
      "2023-10-03 19:03:23,484 - EHRQC - INFO - args.algorithm: miss_forest\n",
      "Iteration: 0\n",
      "Iteration: 1\n",
      "Iteration: 2\n",
      "Iteration: 3\n",
      "2023-10-03 19:03:46,957 - EHRQC - INFO - Done!!\n",
      "2023-10-03 19:03:48,681 - EHRQC - INFO - Parsing command line arguments\n",
      "2023-10-03 19:03:48,682 - EHRQC - INFO - args.action: impute\n",
      "2023-10-03 19:03:48,682 - EHRQC - INFO - args.source_path: /home/yram0006/phd/chapter_2/workspace/mortality_data/standardisation_experiment/dropped/vitals_stddev_icd_dropped.csv\n",
      "2023-10-03 19:03:48,682 - EHRQC - INFO - args.percentage: None\n",
      "2023-10-03 19:03:48,682 - EHRQC - INFO - args.save_path: /home/yram0006/phd/chapter_2/workspace/mortality_data/standardisation_experiment/imputed/vitals_stddev_icd.csv\n",
      "2023-10-03 19:03:48,682 - EHRQC - INFO - args.algorithm: miss_forest\n",
      "Iteration: 0\n",
      "Iteration: 1\n",
      "Iteration: 2\n",
      "2023-10-03 19:04:07,172 - EHRQC - INFO - Done!!\n",
      "2023-10-03 19:04:08,977 - EHRQC - INFO - Parsing command line arguments\n",
      "2023-10-03 19:04:08,978 - EHRQC - INFO - args.action: impute\n",
      "2023-10-03 19:04:08,978 - EHRQC - INFO - args.source_path: /home/yram0006/phd/chapter_2/workspace/mortality_data/standardisation_experiment/dropped/vitals_first_icd_dropped.csv\n",
      "2023-10-03 19:04:08,978 - EHRQC - INFO - args.percentage: None\n",
      "2023-10-03 19:04:08,978 - EHRQC - INFO - args.save_path: /home/yram0006/phd/chapter_2/workspace/mortality_data/standardisation_experiment/imputed/vitals_first_icd.csv\n",
      "2023-10-03 19:04:08,978 - EHRQC - INFO - args.algorithm: miss_forest\n",
      "Iteration: 0\n",
      "Iteration: 1\n",
      "Iteration: 2\n",
      "Iteration: 3\n",
      "2023-10-03 19:04:26,795 - EHRQC - INFO - Done!!\n",
      "2023-10-03 19:04:28,630 - EHRQC - INFO - Parsing command line arguments\n",
      "2023-10-03 19:04:28,631 - EHRQC - INFO - args.action: impute\n",
      "2023-10-03 19:04:28,631 - EHRQC - INFO - args.source_path: /home/yram0006/phd/chapter_2/workspace/mortality_data/standardisation_experiment/dropped/vitals_last_icd_dropped.csv\n",
      "2023-10-03 19:04:28,631 - EHRQC - INFO - args.percentage: None\n",
      "2023-10-03 19:04:28,631 - EHRQC - INFO - args.save_path: /home/yram0006/phd/chapter_2/workspace/mortality_data/standardisation_experiment/imputed/vitals_last_icd.csv\n",
      "2023-10-03 19:04:28,631 - EHRQC - INFO - args.algorithm: miss_forest\n",
      "Iteration: 0\n",
      "Iteration: 1\n",
      "Iteration: 2\n",
      "Iteration: 3\n",
      "Iteration: 4\n",
      "Iteration: 5\n",
      "2023-10-03 19:04:56,025 - EHRQC - INFO - Done!!\n",
      "2023-10-03 19:04:57,742 - EHRQC - INFO - Parsing command line arguments\n",
      "2023-10-03 19:04:57,743 - EHRQC - INFO - args.action: impute\n",
      "2023-10-03 19:04:57,743 - EHRQC - INFO - args.source_path: /home/yram0006/phd/chapter_2/workspace/mortality_data/standardisation_experiment/dropped/lab_measurements_min_icd_dropped.csv\n",
      "2023-10-03 19:04:57,743 - EHRQC - INFO - args.percentage: None\n",
      "2023-10-03 19:04:57,743 - EHRQC - INFO - args.save_path: /home/yram0006/phd/chapter_2/workspace/mortality_data/standardisation_experiment/imputed/lab_measurements_min_icd.csv\n",
      "2023-10-03 19:04:57,743 - EHRQC - INFO - args.algorithm: miss_forest\n",
      "Iteration: 0\n",
      "Iteration: 1\n",
      "Iteration: 2\n",
      "Iteration: 3\n",
      "Iteration: 4\n",
      "2023-10-03 19:06:06,231 - EHRQC - INFO - Done!!\n",
      "2023-10-03 19:06:08,045 - EHRQC - INFO - Parsing command line arguments\n",
      "2023-10-03 19:06:08,046 - EHRQC - INFO - args.action: impute\n",
      "2023-10-03 19:06:08,046 - EHRQC - INFO - args.source_path: /home/yram0006/phd/chapter_2/workspace/mortality_data/standardisation_experiment/dropped/lab_measurements_max_icd_dropped.csv\n",
      "2023-10-03 19:06:08,046 - EHRQC - INFO - args.percentage: None\n",
      "2023-10-03 19:06:08,046 - EHRQC - INFO - args.save_path: /home/yram0006/phd/chapter_2/workspace/mortality_data/standardisation_experiment/imputed/lab_measurements_max_icd.csv\n",
      "2023-10-03 19:06:08,047 - EHRQC - INFO - args.algorithm: miss_forest\n",
      "Iteration: 0\n",
      "Iteration: 1\n",
      "Iteration: 2\n",
      "Iteration: 3\n",
      "Iteration: 4\n",
      "Iteration: 5\n",
      "2023-10-03 19:07:34,474 - EHRQC - INFO - Done!!\n",
      "2023-10-03 19:07:36,223 - EHRQC - INFO - Parsing command line arguments\n",
      "2023-10-03 19:07:36,224 - EHRQC - INFO - args.action: impute\n",
      "2023-10-03 19:07:36,224 - EHRQC - INFO - args.source_path: /home/yram0006/phd/chapter_2/workspace/mortality_data/standardisation_experiment/dropped/lab_measurements_avg_icd_dropped.csv\n",
      "2023-10-03 19:07:36,224 - EHRQC - INFO - args.percentage: None\n",
      "2023-10-03 19:07:36,224 - EHRQC - INFO - args.save_path: /home/yram0006/phd/chapter_2/workspace/mortality_data/standardisation_experiment/imputed/lab_measurements_avg_icd.csv\n",
      "2023-10-03 19:07:36,224 - EHRQC - INFO - args.algorithm: miss_forest\n",
      "Iteration: 0\n",
      "Iteration: 1\n",
      "Iteration: 2\n",
      "Iteration: 3\n",
      "2023-10-03 19:08:48,946 - EHRQC - INFO - Done!!\n",
      "2023-10-03 19:08:50,716 - EHRQC - INFO - Parsing command line arguments\n",
      "2023-10-03 19:08:50,717 - EHRQC - INFO - args.action: impute\n",
      "2023-10-03 19:08:50,717 - EHRQC - INFO - args.source_path: /home/yram0006/phd/chapter_2/workspace/mortality_data/standardisation_experiment/dropped/lab_measurements_stddev_icd_dropped.csv\n",
      "2023-10-03 19:08:50,717 - EHRQC - INFO - args.percentage: None\n",
      "2023-10-03 19:08:50,717 - EHRQC - INFO - args.save_path: /home/yram0006/phd/chapter_2/workspace/mortality_data/standardisation_experiment/imputed/lab_measurements_stddev_icd.csv\n",
      "2023-10-03 19:08:50,717 - EHRQC - INFO - args.algorithm: miss_forest\n",
      "Iteration: 0\n",
      "Iteration: 1\n",
      "2023-10-03 19:09:17,493 - EHRQC - INFO - Done!!\n",
      "2023-10-03 19:09:19,322 - EHRQC - INFO - Parsing command line arguments\n",
      "2023-10-03 19:09:19,323 - EHRQC - INFO - args.action: impute\n",
      "2023-10-03 19:09:19,323 - EHRQC - INFO - args.source_path: /home/yram0006/phd/chapter_2/workspace/mortality_data/standardisation_experiment/dropped/lab_measurements_first_icd_dropped.csv\n",
      "2023-10-03 19:09:19,323 - EHRQC - INFO - args.percentage: None\n",
      "2023-10-03 19:09:19,323 - EHRQC - INFO - args.save_path: /home/yram0006/phd/chapter_2/workspace/mortality_data/standardisation_experiment/imputed/lab_measurements_first_icd.csv\n",
      "2023-10-03 19:09:19,323 - EHRQC - INFO - args.algorithm: miss_forest\n",
      "Iteration: 0\n",
      "Iteration: 1\n",
      "Iteration: 2\n",
      "Iteration: 3\n",
      "Iteration: 4\n",
      "2023-10-03 19:10:25,076 - EHRQC - INFO - Done!!\n",
      "2023-10-03 19:10:26,801 - EHRQC - INFO - Parsing command line arguments\n",
      "2023-10-03 19:10:26,802 - EHRQC - INFO - args.action: impute\n",
      "2023-10-03 19:10:26,802 - EHRQC - INFO - args.source_path: /home/yram0006/phd/chapter_2/workspace/mortality_data/standardisation_experiment/dropped/lab_measurements_last_icd_dropped.csv\n",
      "2023-10-03 19:10:26,802 - EHRQC - INFO - args.percentage: None\n",
      "2023-10-03 19:10:26,802 - EHRQC - INFO - args.save_path: /home/yram0006/phd/chapter_2/workspace/mortality_data/standardisation_experiment/imputed/lab_measurements_last_icd.csv\n",
      "2023-10-03 19:10:26,802 - EHRQC - INFO - args.algorithm: miss_forest\n",
      "Iteration: 0\n",
      "Iteration: 1\n",
      "Iteration: 2\n",
      "Iteration: 3\n",
      "Iteration: 4\n",
      "2023-10-03 19:11:31,713 - EHRQC - INFO - Done!!\n"
     ]
    },
    {
     "data": {
      "text/plain": [
       "0"
      ]
     },
     "execution_count": 12,
     "metadata": {},
     "output_type": "execute_result"
    }
   ],
   "source": [
    "import os\n",
    "\n",
    "\n",
    "os.system(\n",
    "    '''cd /superbugai-data/yash/chapter_1/workspace/EHRQC;'''\n",
    "    +\n",
    "    '''.venv/bin/python -m ehrqc.qc.Impute \"impute\" \"''' + dataDirName + '''dropped/vitals_min_icd_dropped.csv\"  -sp=\"''' + dataDirName + '''imputed/vitals_min_icd.csv\" -a=\"miss_forest\";'''\n",
    "    +\n",
    "    '''.venv/bin/python -m ehrqc.qc.Impute \"impute\" \"''' + dataDirName + '''dropped/vitals_max_icd_dropped.csv\"  -sp=\"''' + dataDirName + '''imputed/vitals_max_icd.csv\" -a=\"miss_forest\";'''\n",
    "    +\n",
    "    '''.venv/bin/python -m ehrqc.qc.Impute \"impute\" \"''' + dataDirName + '''dropped/vitals_avg_icd_dropped.csv\"  -sp=\"''' + dataDirName + '''imputed/vitals_avg_icd.csv\" -a=\"miss_forest\";'''\n",
    "    +\n",
    "    '''.venv/bin/python -m ehrqc.qc.Impute \"impute\" \"''' + dataDirName + '''dropped/vitals_stddev_icd_dropped.csv\"  -sp=\"''' + dataDirName + '''imputed/vitals_stddev_icd.csv\" -a=\"miss_forest\";'''\n",
    "    +\n",
    "    '''.venv/bin/python -m ehrqc.qc.Impute \"impute\" \"''' + dataDirName + '''dropped/vitals_first_icd_dropped.csv\"  -sp=\"''' + dataDirName + '''imputed/vitals_first_icd.csv\" -a=\"miss_forest\";'''\n",
    "    +\n",
    "    '''.venv/bin/python -m ehrqc.qc.Impute \"impute\" \"''' + dataDirName + '''dropped/vitals_last_icd_dropped.csv\"  -sp=\"''' + dataDirName + '''imputed/vitals_last_icd.csv\" -a=\"miss_forest\";'''\n",
    "    +\n",
    "    '''.venv/bin/python -m ehrqc.qc.Impute \"impute\" \"''' + dataDirName + '''dropped/lab_measurements_min_icd_dropped.csv\"  -sp=\"''' + dataDirName + '''imputed/lab_measurements_min_icd.csv\" -a=\"miss_forest\";'''\n",
    "    +\n",
    "    '''.venv/bin/python -m ehrqc.qc.Impute \"impute\" \"''' + dataDirName + '''dropped/lab_measurements_max_icd_dropped.csv\"  -sp=\"''' + dataDirName + '''imputed/lab_measurements_max_icd.csv\" -a=\"miss_forest\";'''\n",
    "    +\n",
    "    '''.venv/bin/python -m ehrqc.qc.Impute \"impute\" \"''' + dataDirName + '''dropped/lab_measurements_avg_icd_dropped.csv\"  -sp=\"''' + dataDirName + '''imputed/lab_measurements_avg_icd.csv\" -a=\"miss_forest\";'''\n",
    "    +\n",
    "    '''.venv/bin/python -m ehrqc.qc.Impute \"impute\" \"''' + dataDirName + '''dropped/lab_measurements_stddev_icd_dropped.csv\"  -sp=\"''' + dataDirName + '''imputed/lab_measurements_stddev_icd.csv\" -a=\"miss_forest\";'''\n",
    "    +\n",
    "    '''.venv/bin/python -m ehrqc.qc.Impute \"impute\" \"''' + dataDirName + '''dropped/lab_measurements_first_icd_dropped.csv\"  -sp=\"''' + dataDirName + '''imputed/lab_measurements_first_icd.csv\" -a=\"miss_forest\";'''\n",
    "    +\n",
    "    '''.venv/bin/python -m ehrqc.qc.Impute \"impute\" \"''' + dataDirName + '''dropped/lab_measurements_last_icd_dropped.csv\"  -sp=\"''' + dataDirName + '''imputed/lab_measurements_last_icd.csv\" -a=\"miss_forest\";'''\n",
    "    )\n"
   ]
  },
  {
   "cell_type": "markdown",
   "metadata": {},
   "source": [
    "### Read imputed files"
   ]
  },
  {
   "cell_type": "code",
   "execution_count": 13,
   "metadata": {},
   "outputs": [],
   "source": [
    "import pandas as pd\n",
    "\n",
    "\n",
    "vitals_min =  pd.read_csv(dataDirName + \"imputed/vitals_min_icd.csv\")\n",
    "vitals_max =  pd.read_csv(dataDirName + \"imputed/vitals_max_icd.csv\")\n",
    "vitals_avg =  pd.read_csv(dataDirName + \"imputed/vitals_avg_icd.csv\")\n",
    "vitals_stddev =  pd.read_csv(dataDirName + \"imputed/vitals_stddev_icd.csv\")\n",
    "vitals_first =  pd.read_csv(dataDirName + \"imputed/vitals_first_icd.csv\")\n",
    "vitals_last =  pd.read_csv(dataDirName + \"imputed/vitals_last_icd.csv\")\n",
    "lab_measurements_min =  pd.read_csv(dataDirName + \"imputed/lab_measurements_min_icd.csv\")\n",
    "lab_measurements_max =  pd.read_csv(dataDirName + \"imputed/lab_measurements_max_icd.csv\")\n",
    "lab_measurements_avg =  pd.read_csv(dataDirName + \"imputed/lab_measurements_avg_icd.csv\")\n",
    "lab_measurements_stddev =  pd.read_csv(dataDirName + \"imputed/lab_measurements_stddev_icd.csv\")\n",
    "lab_measurements_first =  pd.read_csv(dataDirName + \"imputed/lab_measurements_first_icd.csv\")\n",
    "lab_measurements_last =  pd.read_csv(dataDirName + \"imputed/lab_measurements_last_icd.csv\")"
   ]
  },
  {
   "cell_type": "markdown",
   "metadata": {},
   "source": [
    "### Display counts post imputation"
   ]
  },
  {
   "cell_type": "code",
   "execution_count": 14,
   "metadata": {},
   "outputs": [
    {
     "data": {
      "text/plain": [
       "(12241, 4)"
      ]
     },
     "execution_count": 14,
     "metadata": {},
     "output_type": "execute_result"
    }
   ],
   "source": [
    "demographics.shape"
   ]
  },
  {
   "cell_type": "code",
   "execution_count": 15,
   "metadata": {},
   "outputs": [
    {
     "data": {
      "text/plain": [
       "((7585, 11), (7585, 11), (7585, 11), (7585, 11), (7585, 11), (7585, 11))"
      ]
     },
     "execution_count": 15,
     "metadata": {},
     "output_type": "execute_result"
    }
   ],
   "source": [
    "vitals_min.shape, vitals_max.shape, vitals_avg.shape, vitals_stddev.shape, vitals_first.shape, vitals_last.shape"
   ]
  },
  {
   "cell_type": "code",
   "execution_count": 16,
   "metadata": {},
   "outputs": [
    {
     "data": {
      "text/plain": [
       "((12216, 16), (12216, 16), (12216, 16), (12216, 13), (12216, 16), (12216, 16))"
      ]
     },
     "execution_count": 16,
     "metadata": {},
     "output_type": "execute_result"
    }
   ],
   "source": [
    "lab_measurements_min.shape, lab_measurements_max.shape, lab_measurements_avg.shape, lab_measurements_stddev.shape, lab_measurements_first.shape, lab_measurements_last.shape"
   ]
  },
  {
   "cell_type": "markdown",
   "metadata": {},
   "source": [
    "## Outlier removal using IRT"
   ]
  },
  {
   "cell_type": "markdown",
   "metadata": {},
   "source": [
    "### Remove outliers"
   ]
  },
  {
   "cell_type": "code",
   "execution_count": 17,
   "metadata": {},
   "outputs": [
    {
     "name": "stdout",
     "output_type": "stream",
     "text": [
      "2023-10-03 19:11:34,472 - Anomalies - INFO - Parsing command line arguments\n",
      "2023-10-03 19:11:34,473 - Anomalies - INFO - Start!!\n",
      "2023-10-03 19:11:34,473 - Anomalies - INFO - args.source_path: /home/yram0006/phd/chapter_2/workspace/mortality_data/standardisation_experiment/imputed/vitals_min_icd.csv\n",
      "2023-10-03 19:11:34,473 - Anomalies - INFO - args.save_path: /home/yram0006/phd/chapter_2/workspace/mortality_data/standardisation_experiment/outlier_removal/\n",
      "2023-10-03 19:11:34,474 - Anomalies - INFO - args.save_prefix: vitals_min_icd\n",
      "2023-10-03 19:11:34,474 - Anomalies - INFO - args.detect_missing: False\n",
      "2023-10-03 19:11:34,474 - Anomalies - INFO - args.detect_outliers: False\n",
      "2023-10-03 19:11:34,474 - Anomalies - INFO - args.detect_errors: False\n",
      "2023-10-03 19:11:34,474 - Anomalies - INFO - args.detect_inconsistencies: False\n",
      "2023-10-03 19:11:34,474 - Anomalies - INFO - args.correct_missing: False\n",
      "2023-10-03 19:11:34,474 - Anomalies - INFO - args.correct_outliers: True\n"
     ]
    },
    {
     "name": "stderr",
     "output_type": "stream",
     "text": [
      "Warning message:\n",
      "In sqrt(diag(solve(Hess))) : NaNs produced\n"
     ]
    },
    {
     "name": "stdout",
     "output_type": "stream",
     "text": [
      "2023-10-03 19:11:58,455 - Anomalies - INFO - Done!!\n",
      "2023-10-03 19:12:00,175 - Anomalies - INFO - Parsing command line arguments\n",
      "2023-10-03 19:12:00,176 - Anomalies - INFO - Start!!\n",
      "2023-10-03 19:12:00,176 - Anomalies - INFO - args.source_path: /home/yram0006/phd/chapter_2/workspace/mortality_data/standardisation_experiment/imputed/vitals_max_icd.csv\n",
      "2023-10-03 19:12:00,176 - Anomalies - INFO - args.save_path: /home/yram0006/phd/chapter_2/workspace/mortality_data/standardisation_experiment/outlier_removal/\n",
      "2023-10-03 19:12:00,176 - Anomalies - INFO - args.save_prefix: vitals_max_icd\n",
      "2023-10-03 19:12:00,176 - Anomalies - INFO - args.detect_missing: False\n",
      "2023-10-03 19:12:00,176 - Anomalies - INFO - args.detect_outliers: False\n",
      "2023-10-03 19:12:00,176 - Anomalies - INFO - args.detect_errors: False\n",
      "2023-10-03 19:12:00,176 - Anomalies - INFO - args.detect_inconsistencies: False\n",
      "2023-10-03 19:12:00,176 - Anomalies - INFO - args.correct_missing: False\n",
      "2023-10-03 19:12:00,176 - Anomalies - INFO - args.correct_outliers: True\n"
     ]
    },
    {
     "name": "stderr",
     "output_type": "stream",
     "text": [
      "Warning message:\n",
      "In sqrt(diag(solve(Hess))) : NaNs produced\n"
     ]
    },
    {
     "name": "stdout",
     "output_type": "stream",
     "text": [
      "2023-10-03 19:12:13,516 - Anomalies - INFO - Done!!\n",
      "2023-10-03 19:12:15,246 - Anomalies - INFO - Parsing command line arguments\n",
      "2023-10-03 19:12:15,247 - Anomalies - INFO - Start!!\n",
      "2023-10-03 19:12:15,247 - Anomalies - INFO - args.source_path: /home/yram0006/phd/chapter_2/workspace/mortality_data/standardisation_experiment/imputed/vitals_avg_icd.csv\n",
      "2023-10-03 19:12:15,247 - Anomalies - INFO - args.save_path: /home/yram0006/phd/chapter_2/workspace/mortality_data/standardisation_experiment/outlier_removal/\n",
      "2023-10-03 19:12:15,247 - Anomalies - INFO - args.save_prefix: vitals_avg_icd\n",
      "2023-10-03 19:12:15,247 - Anomalies - INFO - args.detect_missing: False\n",
      "2023-10-03 19:12:15,247 - Anomalies - INFO - args.detect_outliers: False\n",
      "2023-10-03 19:12:15,247 - Anomalies - INFO - args.detect_errors: False\n",
      "2023-10-03 19:12:15,247 - Anomalies - INFO - args.detect_inconsistencies: False\n",
      "2023-10-03 19:12:15,248 - Anomalies - INFO - args.correct_missing: False\n",
      "2023-10-03 19:12:15,248 - Anomalies - INFO - args.correct_outliers: True\n"
     ]
    },
    {
     "name": "stderr",
     "output_type": "stream",
     "text": [
      "Warning message:\n",
      "In sqrt(diag(solve(Hess))) : NaNs produced\n"
     ]
    },
    {
     "name": "stdout",
     "output_type": "stream",
     "text": [
      "2023-10-03 19:12:28,916 - Anomalies - INFO - Done!!\n",
      "2023-10-03 19:12:30,700 - Anomalies - INFO - Parsing command line arguments\n",
      "2023-10-03 19:12:30,701 - Anomalies - INFO - Start!!\n",
      "2023-10-03 19:12:30,701 - Anomalies - INFO - args.source_path: /home/yram0006/phd/chapter_2/workspace/mortality_data/standardisation_experiment/imputed/vitals_stddev_icd.csv\n",
      "2023-10-03 19:12:30,701 - Anomalies - INFO - args.save_path: /home/yram0006/phd/chapter_2/workspace/mortality_data/standardisation_experiment/outlier_removal/\n",
      "2023-10-03 19:12:30,701 - Anomalies - INFO - args.save_prefix: vitals_stddev_icd\n",
      "2023-10-03 19:12:30,701 - Anomalies - INFO - args.detect_missing: False\n",
      "2023-10-03 19:12:30,701 - Anomalies - INFO - args.detect_outliers: False\n",
      "2023-10-03 19:12:30,701 - Anomalies - INFO - args.detect_errors: False\n",
      "2023-10-03 19:12:30,701 - Anomalies - INFO - args.detect_inconsistencies: False\n",
      "2023-10-03 19:12:30,701 - Anomalies - INFO - args.correct_missing: False\n",
      "2023-10-03 19:12:30,701 - Anomalies - INFO - args.correct_outliers: True\n"
     ]
    },
    {
     "name": "stderr",
     "output_type": "stream",
     "text": [
      "Warning message:\n",
      "In sqrt(diag(solve(Hess))) : NaNs produced\n"
     ]
    },
    {
     "name": "stdout",
     "output_type": "stream",
     "text": [
      "2023-10-03 19:12:44,252 - Anomalies - INFO - Done!!\n",
      "2023-10-03 19:12:45,985 - Anomalies - INFO - Parsing command line arguments\n",
      "2023-10-03 19:12:45,987 - Anomalies - INFO - Start!!\n",
      "2023-10-03 19:12:45,987 - Anomalies - INFO - args.source_path: /home/yram0006/phd/chapter_2/workspace/mortality_data/standardisation_experiment/imputed/vitals_first_icd.csv\n",
      "2023-10-03 19:12:45,987 - Anomalies - INFO - args.save_path: /home/yram0006/phd/chapter_2/workspace/mortality_data/standardisation_experiment/outlier_removal/\n",
      "2023-10-03 19:12:45,987 - Anomalies - INFO - args.save_prefix: vitals_first_icd\n",
      "2023-10-03 19:12:45,987 - Anomalies - INFO - args.detect_missing: False\n",
      "2023-10-03 19:12:45,987 - Anomalies - INFO - args.detect_outliers: False\n",
      "2023-10-03 19:12:45,987 - Anomalies - INFO - args.detect_errors: False\n",
      "2023-10-03 19:12:45,987 - Anomalies - INFO - args.detect_inconsistencies: False\n",
      "2023-10-03 19:12:45,987 - Anomalies - INFO - args.correct_missing: False\n",
      "2023-10-03 19:12:45,987 - Anomalies - INFO - args.correct_outliers: True\n"
     ]
    },
    {
     "name": "stderr",
     "output_type": "stream",
     "text": [
      "Warning message:\n",
      "In sqrt(diag(solve(Hess))) : NaNs produced\n"
     ]
    },
    {
     "name": "stdout",
     "output_type": "stream",
     "text": [
      "2023-10-03 19:12:59,333 - Anomalies - INFO - Done!!\n",
      "2023-10-03 19:13:01,318 - Anomalies - INFO - Parsing command line arguments\n",
      "2023-10-03 19:13:01,320 - Anomalies - INFO - Start!!\n",
      "2023-10-03 19:13:01,320 - Anomalies - INFO - args.source_path: /home/yram0006/phd/chapter_2/workspace/mortality_data/standardisation_experiment/imputed/vitals_last_icd.csv\n",
      "2023-10-03 19:13:01,320 - Anomalies - INFO - args.save_path: /home/yram0006/phd/chapter_2/workspace/mortality_data/standardisation_experiment/outlier_removal/\n",
      "2023-10-03 19:13:01,320 - Anomalies - INFO - args.save_prefix: vitals_last_icd\n",
      "2023-10-03 19:13:01,320 - Anomalies - INFO - args.detect_missing: False\n",
      "2023-10-03 19:13:01,320 - Anomalies - INFO - args.detect_outliers: False\n",
      "2023-10-03 19:13:01,320 - Anomalies - INFO - args.detect_errors: False\n",
      "2023-10-03 19:13:01,320 - Anomalies - INFO - args.detect_inconsistencies: False\n",
      "2023-10-03 19:13:01,320 - Anomalies - INFO - args.correct_missing: False\n",
      "2023-10-03 19:13:01,320 - Anomalies - INFO - args.correct_outliers: True\n"
     ]
    },
    {
     "name": "stderr",
     "output_type": "stream",
     "text": [
      "Warning message:\n",
      "In sqrt(diag(solve(Hess))) : NaNs produced\n"
     ]
    },
    {
     "name": "stdout",
     "output_type": "stream",
     "text": [
      "2023-10-03 19:13:14,729 - Anomalies - INFO - Done!!\n",
      "2023-10-03 19:13:16,526 - Anomalies - INFO - Parsing command line arguments\n",
      "2023-10-03 19:13:16,527 - Anomalies - INFO - Start!!\n",
      "2023-10-03 19:13:16,527 - Anomalies - INFO - args.source_path: /home/yram0006/phd/chapter_2/workspace/mortality_data/standardisation_experiment/imputed/lab_measurements_min_icd.csv\n",
      "2023-10-03 19:13:16,527 - Anomalies - INFO - args.save_path: /home/yram0006/phd/chapter_2/workspace/mortality_data/standardisation_experiment/outlier_removal/\n",
      "2023-10-03 19:13:16,527 - Anomalies - INFO - args.save_prefix: lab_measurements_min_icd\n",
      "2023-10-03 19:13:16,527 - Anomalies - INFO - args.detect_missing: False\n",
      "2023-10-03 19:13:16,527 - Anomalies - INFO - args.detect_outliers: False\n",
      "2023-10-03 19:13:16,528 - Anomalies - INFO - args.detect_errors: False\n",
      "2023-10-03 19:13:16,528 - Anomalies - INFO - args.detect_inconsistencies: False\n",
      "2023-10-03 19:13:16,528 - Anomalies - INFO - args.correct_missing: False\n",
      "2023-10-03 19:13:16,528 - Anomalies - INFO - args.correct_outliers: True\n",
      "2023-10-03 19:13:36,043 - Anomalies - INFO - Done!!\n",
      "2023-10-03 19:13:37,859 - Anomalies - INFO - Parsing command line arguments\n",
      "2023-10-03 19:13:37,860 - Anomalies - INFO - Start!!\n",
      "2023-10-03 19:13:37,860 - Anomalies - INFO - args.source_path: /home/yram0006/phd/chapter_2/workspace/mortality_data/standardisation_experiment/imputed/lab_measurements_max_icd.csv\n",
      "2023-10-03 19:13:37,860 - Anomalies - INFO - args.save_path: /home/yram0006/phd/chapter_2/workspace/mortality_data/standardisation_experiment/outlier_removal/\n",
      "2023-10-03 19:13:37,860 - Anomalies - INFO - args.save_prefix: lab_measurements_max_icd\n",
      "2023-10-03 19:13:37,860 - Anomalies - INFO - args.detect_missing: False\n",
      "2023-10-03 19:13:37,861 - Anomalies - INFO - args.detect_outliers: False\n",
      "2023-10-03 19:13:37,861 - Anomalies - INFO - args.detect_errors: False\n",
      "2023-10-03 19:13:37,861 - Anomalies - INFO - args.detect_inconsistencies: False\n",
      "2023-10-03 19:13:37,861 - Anomalies - INFO - args.correct_missing: False\n",
      "2023-10-03 19:13:37,861 - Anomalies - INFO - args.correct_outliers: True\n",
      "2023-10-03 19:13:57,814 - Anomalies - INFO - Done!!\n",
      "2023-10-03 19:13:59,587 - Anomalies - INFO - Parsing command line arguments\n",
      "2023-10-03 19:13:59,588 - Anomalies - INFO - Start!!\n",
      "2023-10-03 19:13:59,588 - Anomalies - INFO - args.source_path: /home/yram0006/phd/chapter_2/workspace/mortality_data/standardisation_experiment/imputed/lab_measurements_avg_icd.csv\n",
      "2023-10-03 19:13:59,588 - Anomalies - INFO - args.save_path: /home/yram0006/phd/chapter_2/workspace/mortality_data/standardisation_experiment/outlier_removal/\n",
      "2023-10-03 19:13:59,588 - Anomalies - INFO - args.save_prefix: lab_measurements_avg_icd\n",
      "2023-10-03 19:13:59,588 - Anomalies - INFO - args.detect_missing: False\n",
      "2023-10-03 19:13:59,588 - Anomalies - INFO - args.detect_outliers: False\n",
      "2023-10-03 19:13:59,588 - Anomalies - INFO - args.detect_errors: False\n",
      "2023-10-03 19:13:59,588 - Anomalies - INFO - args.detect_inconsistencies: False\n",
      "2023-10-03 19:13:59,588 - Anomalies - INFO - args.correct_missing: False\n",
      "2023-10-03 19:13:59,588 - Anomalies - INFO - args.correct_outliers: True\n",
      "2023-10-03 19:14:19,283 - Anomalies - INFO - Done!!\n",
      "2023-10-03 19:14:21,043 - Anomalies - INFO - Parsing command line arguments\n",
      "2023-10-03 19:14:21,045 - Anomalies - INFO - Start!!\n",
      "2023-10-03 19:14:21,045 - Anomalies - INFO - args.source_path: /home/yram0006/phd/chapter_2/workspace/mortality_data/standardisation_experiment/imputed/lab_measurements_stddev_icd.csv\n",
      "2023-10-03 19:14:21,045 - Anomalies - INFO - args.save_path: /home/yram0006/phd/chapter_2/workspace/mortality_data/standardisation_experiment/outlier_removal/\n",
      "2023-10-03 19:14:21,045 - Anomalies - INFO - args.save_prefix: lab_measurements_stddev_icd\n",
      "2023-10-03 19:14:21,045 - Anomalies - INFO - args.detect_missing: False\n",
      "2023-10-03 19:14:21,045 - Anomalies - INFO - args.detect_outliers: False\n",
      "2023-10-03 19:14:21,045 - Anomalies - INFO - args.detect_errors: False\n",
      "2023-10-03 19:14:21,045 - Anomalies - INFO - args.detect_inconsistencies: False\n",
      "2023-10-03 19:14:21,045 - Anomalies - INFO - args.correct_missing: False\n",
      "2023-10-03 19:14:21,045 - Anomalies - INFO - args.correct_outliers: True\n"
     ]
    },
    {
     "name": "stderr",
     "output_type": "stream",
     "text": [
      "Warning message:\n",
      "In sqrt(diag(solve(Hess))) : NaNs produced\n"
     ]
    },
    {
     "name": "stdout",
     "output_type": "stream",
     "text": [
      "2023-10-03 19:14:41,734 - Anomalies - INFO - Done!!\n",
      "2023-10-03 19:14:43,500 - Anomalies - INFO - Parsing command line arguments\n",
      "2023-10-03 19:14:43,501 - Anomalies - INFO - Start!!\n",
      "2023-10-03 19:14:43,501 - Anomalies - INFO - args.source_path: /home/yram0006/phd/chapter_2/workspace/mortality_data/standardisation_experiment/imputed/lab_measurements_first_icd.csv\n",
      "2023-10-03 19:14:43,501 - Anomalies - INFO - args.save_path: /home/yram0006/phd/chapter_2/workspace/mortality_data/standardisation_experiment/outlier_removal/\n",
      "2023-10-03 19:14:43,501 - Anomalies - INFO - args.save_prefix: lab_measurements_first_icd\n",
      "2023-10-03 19:14:43,501 - Anomalies - INFO - args.detect_missing: False\n",
      "2023-10-03 19:14:43,501 - Anomalies - INFO - args.detect_outliers: False\n",
      "2023-10-03 19:14:43,501 - Anomalies - INFO - args.detect_errors: False\n",
      "2023-10-03 19:14:43,501 - Anomalies - INFO - args.detect_inconsistencies: False\n",
      "2023-10-03 19:14:43,501 - Anomalies - INFO - args.correct_missing: False\n",
      "2023-10-03 19:14:43,501 - Anomalies - INFO - args.correct_outliers: True\n",
      "2023-10-03 19:15:03,012 - Anomalies - INFO - Done!!\n",
      "2023-10-03 19:15:04,728 - Anomalies - INFO - Parsing command line arguments\n",
      "2023-10-03 19:15:04,729 - Anomalies - INFO - Start!!\n",
      "2023-10-03 19:15:04,729 - Anomalies - INFO - args.source_path: /home/yram0006/phd/chapter_2/workspace/mortality_data/standardisation_experiment/imputed/lab_measurements_last_icd.csv\n",
      "2023-10-03 19:15:04,729 - Anomalies - INFO - args.save_path: /home/yram0006/phd/chapter_2/workspace/mortality_data/standardisation_experiment/outlier_removal/\n",
      "2023-10-03 19:15:04,729 - Anomalies - INFO - args.save_prefix: lab_measurements_last_icd\n",
      "2023-10-03 19:15:04,729 - Anomalies - INFO - args.detect_missing: False\n",
      "2023-10-03 19:15:04,729 - Anomalies - INFO - args.detect_outliers: False\n",
      "2023-10-03 19:15:04,729 - Anomalies - INFO - args.detect_errors: False\n",
      "2023-10-03 19:15:04,729 - Anomalies - INFO - args.detect_inconsistencies: False\n",
      "2023-10-03 19:15:04,729 - Anomalies - INFO - args.correct_missing: False\n",
      "2023-10-03 19:15:04,729 - Anomalies - INFO - args.correct_outliers: True\n",
      "2023-10-03 19:15:24,352 - Anomalies - INFO - Done!!\n"
     ]
    },
    {
     "data": {
      "text/plain": [
       "0"
      ]
     },
     "execution_count": 17,
     "metadata": {},
     "output_type": "execute_result"
    }
   ],
   "source": [
    "import os\n",
    "\n",
    "\n",
    "os.system(\n",
    "    '''cd /superbugai-data/yash/chapter_1/workspace/EHRQC;'''\n",
    "    +\n",
    "    '''.venv/bin/python -m ehrqc.qc.Anomalies ''' + dataDirName + '''imputed/vitals_min_icd.csv ''' + dataDirName + '''outlier_removal/ vitals_min_icd -co;'''\n",
    "    +\n",
    "    '''.venv/bin/python -m ehrqc.qc.Anomalies ''' + dataDirName + '''imputed/vitals_max_icd.csv ''' + dataDirName + '''outlier_removal/ vitals_max_icd -co;'''\n",
    "    +\n",
    "    '''.venv/bin/python -m ehrqc.qc.Anomalies ''' + dataDirName + '''imputed/vitals_avg_icd.csv ''' + dataDirName + '''outlier_removal/ vitals_avg_icd -co;'''\n",
    "    +\n",
    "    '''.venv/bin/python -m ehrqc.qc.Anomalies ''' + dataDirName + '''imputed/vitals_stddev_icd.csv ''' + dataDirName + '''outlier_removal/ vitals_stddev_icd -co;'''\n",
    "    +\n",
    "    '''.venv/bin/python -m ehrqc.qc.Anomalies ''' + dataDirName + '''imputed/vitals_first_icd.csv ''' + dataDirName + '''outlier_removal/ vitals_first_icd -co;'''\n",
    "    +\n",
    "    '''.venv/bin/python -m ehrqc.qc.Anomalies ''' + dataDirName + '''imputed/vitals_last_icd.csv ''' + dataDirName + '''outlier_removal/ vitals_last_icd -co;'''\n",
    "    +\n",
    "    '''.venv/bin/python -m ehrqc.qc.Anomalies ''' + dataDirName + '''imputed/lab_measurements_min_icd.csv ''' + dataDirName + '''outlier_removal/ lab_measurements_min_icd -co;'''\n",
    "    +\n",
    "    '''.venv/bin/python -m ehrqc.qc.Anomalies ''' + dataDirName + '''imputed/lab_measurements_max_icd.csv ''' + dataDirName + '''outlier_removal/ lab_measurements_max_icd -co;'''\n",
    "    +\n",
    "    '''.venv/bin/python -m ehrqc.qc.Anomalies ''' + dataDirName + '''imputed/lab_measurements_avg_icd.csv ''' + dataDirName + '''outlier_removal/ lab_measurements_avg_icd -co;'''\n",
    "    +\n",
    "    '''.venv/bin/python -m ehrqc.qc.Anomalies ''' + dataDirName + '''imputed/lab_measurements_stddev_icd.csv ''' + dataDirName + '''outlier_removal/ lab_measurements_stddev_icd -co;'''\n",
    "    +\n",
    "    '''.venv/bin/python -m ehrqc.qc.Anomalies ''' + dataDirName + '''imputed/lab_measurements_first_icd.csv ''' + dataDirName + '''outlier_removal/ lab_measurements_first_icd -co;'''\n",
    "    +\n",
    "    '''.venv/bin/python -m ehrqc.qc.Anomalies ''' + dataDirName + '''imputed/lab_measurements_last_icd.csv ''' + dataDirName + '''outlier_removal/ lab_measurements_last_icd -co;'''\n",
    "    )\n"
   ]
  },
  {
   "cell_type": "markdown",
   "metadata": {},
   "source": [
    "### Read outlier removed files"
   ]
  },
  {
   "cell_type": "code",
   "execution_count": 18,
   "metadata": {},
   "outputs": [],
   "source": [
    "import pandas as pd\n",
    "\n",
    "\n",
    "vitals_min =  pd.read_csv(dataDirName + \"outlier_removal/vitals_min_icd_corrected.csv\")\n",
    "vitals_max =  pd.read_csv(dataDirName + \"outlier_removal/vitals_max_icd_corrected.csv\")\n",
    "vitals_avg =  pd.read_csv(dataDirName + \"outlier_removal/vitals_avg_icd_corrected.csv\")\n",
    "vitals_stddev =  pd.read_csv(dataDirName + \"outlier_removal/vitals_stddev_icd_corrected.csv\")\n",
    "vitals_first =  pd.read_csv(dataDirName + \"outlier_removal/vitals_first_icd_corrected.csv\")\n",
    "vitals_last =  pd.read_csv(dataDirName + \"outlier_removal/vitals_last_icd_corrected.csv\")\n",
    "lab_measurements_min =  pd.read_csv(dataDirName + \"outlier_removal/lab_measurements_min_icd_corrected.csv\")\n",
    "lab_measurements_max =  pd.read_csv(dataDirName + \"outlier_removal/lab_measurements_max_icd_corrected.csv\")\n",
    "lab_measurements_avg =  pd.read_csv(dataDirName + \"outlier_removal/lab_measurements_avg_icd_corrected.csv\")\n",
    "lab_measurements_stddev =  pd.read_csv(dataDirName + \"outlier_removal/lab_measurements_stddev_icd_corrected.csv\")\n",
    "lab_measurements_first =  pd.read_csv(dataDirName + \"outlier_removal/lab_measurements_first_icd_corrected.csv\")\n",
    "lab_measurements_last =  pd.read_csv(dataDirName + \"outlier_removal/lab_measurements_last_icd_corrected.csv\")"
   ]
  },
  {
   "cell_type": "markdown",
   "metadata": {},
   "source": [
    "### Display counts post outlier removal"
   ]
  },
  {
   "cell_type": "code",
   "execution_count": 19,
   "metadata": {},
   "outputs": [
    {
     "data": {
      "text/plain": [
       "(12241, 4)"
      ]
     },
     "execution_count": 19,
     "metadata": {},
     "output_type": "execute_result"
    }
   ],
   "source": [
    "demographics.shape"
   ]
  },
  {
   "cell_type": "code",
   "execution_count": 20,
   "metadata": {},
   "outputs": [
    {
     "data": {
      "text/plain": [
       "((5844, 11), (5844, 11), (5844, 11), (5843, 11), (5844, 11), (5844, 11))"
      ]
     },
     "execution_count": 20,
     "metadata": {},
     "output_type": "execute_result"
    }
   ],
   "source": [
    "vitals_min.shape, vitals_max.shape, vitals_avg.shape, vitals_stddev.shape, vitals_first.shape, vitals_last.shape"
   ]
  },
  {
   "cell_type": "code",
   "execution_count": 21,
   "metadata": {},
   "outputs": [
    {
     "data": {
      "text/plain": [
       "((9013, 16), (9030, 16), (9019, 16), (9167, 13), (9017, 16), (9017, 16))"
      ]
     },
     "execution_count": 21,
     "metadata": {},
     "output_type": "execute_result"
    }
   ],
   "source": [
    "lab_measurements_min.shape, lab_measurements_max.shape, lab_measurements_avg.shape, lab_measurements_stddev.shape, lab_measurements_first.shape, lab_measurements_last.shape"
   ]
  }
 ],
 "metadata": {
  "kernelspec": {
   "display_name": ".venv",
   "language": "python",
   "name": "python3"
  },
  "language_info": {
   "codemirror_mode": {
    "name": "ipython",
    "version": 3
   },
   "file_extension": ".py",
   "mimetype": "text/x-python",
   "name": "python",
   "nbconvert_exporter": "python",
   "pygments_lexer": "ipython3",
   "version": "3.9.5"
  },
  "orig_nbformat": 4
 },
 "nbformat": 4,
 "nbformat_minor": 2
}
