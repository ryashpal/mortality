{
 "cells": [
  {
   "cell_type": "markdown",
   "metadata": {},
   "source": [
    "# Experiment to study the effect of standardisation"
   ]
  },
  {
   "cell_type": "markdown",
   "metadata": {},
   "source": [
    "## Define data directory\n",
    "\n",
    "A top level directory to store all the data for this experiment"
   ]
  },
  {
   "cell_type": "code",
   "execution_count": 1,
   "metadata": {},
   "outputs": [],
   "source": [
    "dataDirName = '/home/yram0006/phd/chapter_2/workspace/mortality_data/standardisation_experiment/'"
   ]
  },
  {
   "cell_type": "markdown",
   "metadata": {},
   "source": [
    "## Data Extraction"
   ]
  },
  {
   "cell_type": "markdown",
   "metadata": {},
   "source": [
    "### Extract data"
   ]
  },
  {
   "cell_type": "code",
   "execution_count": 2,
   "metadata": {},
   "outputs": [
    {
     "name": "stdout",
     "output_type": "stream",
     "text": [
      "2023-09-21 18:59:31,422 - EHRQC - INFO - Parsing command line arguments\n",
      "2023-09-21 18:59:31,423 - EHRQC - INFO - args.save_path: /home/yram0006/phd/chapter_2/workspace/mortality_data/standardisation_experiment/extract/cohort_icd.csv\n",
      "2023-09-21 18:59:31,423 - EHRQC - INFO - args.schema_name: omop_cdm\n",
      "2023-09-21 18:59:31,423 - EHRQC - INFO - args.cohort_type: icd\n",
      "2023-09-21 18:59:32,459 - EHRQC - INFO - extracting data\n"
     ]
    },
    {
     "name": "stderr",
     "output_type": "stream",
     "text": [
      "/superbugai-data/yash/chapter_1/workspace/EHRQC/.venv/lib/python3.9/site-packages/pandas/io/sql.py:761: UserWarning: pandas only support SQLAlchemy connectable(engine/connection) ordatabase string URI or sqlite3 DBAPI2 connectionother DBAPI2 objects are not tested, please consider using SQLAlchemy\n",
      "  warnings.warn(\n"
     ]
    },
    {
     "name": "stdout",
     "output_type": "stream",
     "text": [
      "2023-09-21 18:59:34,993 - EHRQC - INFO - Saving raw data to file\n",
      "2023-09-21 18:59:36,662 - EHRQC - INFO - Parsing command line arguments\n",
      "2023-09-21 18:59:36,663 - EHRQC - INFO - args.save_path: /home/yram0006/phd/chapter_2/workspace/mortality_data/standardisation_experiment/extract/demographics_icd.csv\n",
      "2023-09-21 18:59:36,663 - EHRQC - INFO - args.cohort_path: /home/yram0006/phd/chapter_2/workspace/mortality_data/standardisation_experiment/extract/cohort_icd.csv\n",
      "2023-09-21 18:59:36,663 - EHRQC - INFO - args.schema_name: omop_cdm\n",
      "2023-09-21 18:59:36,663 - EHRQC - INFO - args.data_type: demographics\n",
      "2023-09-21 18:59:36,663 - EHRQC - INFO - args.agg_function: min\n",
      "2023-09-21 18:59:36,664 - EHRQC - INFO - args.before: 24\n",
      "2023-09-21 18:59:36,664 - EHRQC - INFO - args.after: 24\n",
      "2023-09-21 18:59:36,683 - EHRQC - INFO - Creating table: omop_cdm.COHORT\n",
      "2023-09-21 18:59:36,692 - EHRQC - INFO - Table: omop_cdm.COHORT created successfully!!\n",
      "2023-09-21 18:59:36,692 - EHRQC - INFO - Saving cohort to table: omop_cdm.COHORT\n",
      "2023-09-21 18:59:36,932 - EHRQC - INFO - Cohort data saved successfully!!\n",
      "2023-09-21 18:59:36,932 - EHRQC - INFO - extracting data\n"
     ]
    },
    {
     "name": "stderr",
     "output_type": "stream",
     "text": [
      "/superbugai-data/yash/chapter_1/workspace/EHRQC/.venv/lib/python3.9/site-packages/pandas/io/sql.py:761: UserWarning: pandas only support SQLAlchemy connectable(engine/connection) ordatabase string URI or sqlite3 DBAPI2 connectionother DBAPI2 objects are not tested, please consider using SQLAlchemy\n",
      "  warnings.warn(\n"
     ]
    },
    {
     "name": "stdout",
     "output_type": "stream",
     "text": [
      "2023-09-21 18:59:38,000 - EHRQC - INFO - Saving raw data to file\n",
      "2023-09-21 18:59:39,685 - EHRQC - INFO - Parsing command line arguments\n",
      "2023-09-21 18:59:39,686 - EHRQC - INFO - args.save_path: /home/yram0006/phd/chapter_2/workspace/mortality_data/standardisation_experiment/extract/deaths.csv\n",
      "2023-09-21 18:59:39,686 - EHRQC - INFO - args.cohort_path: /home/yram0006/phd/chapter_2/workspace/mortality_data/standardisation_experiment/extract/cohort_icd.csv\n",
      "2023-09-21 18:59:39,686 - EHRQC - INFO - args.schema_name: omop_cdm\n",
      "2023-09-21 18:59:39,686 - EHRQC - INFO - args.data_type: deaths\n",
      "2023-09-21 18:59:39,686 - EHRQC - INFO - args.agg_function: min\n",
      "2023-09-21 18:59:39,686 - EHRQC - INFO - args.before: 24\n",
      "2023-09-21 18:59:39,686 - EHRQC - INFO - args.after: 24\n",
      "2023-09-21 18:59:39,706 - EHRQC - INFO - Creating table: omop_cdm.COHORT\n",
      "2023-09-21 18:59:39,721 - EHRQC - INFO - Table: omop_cdm.COHORT created successfully!!\n",
      "2023-09-21 18:59:39,721 - EHRQC - INFO - Saving cohort to table: omop_cdm.COHORT\n",
      "2023-09-21 18:59:39,960 - EHRQC - INFO - Cohort data saved successfully!!\n",
      "2023-09-21 18:59:39,960 - EHRQC - INFO - extracting data\n",
      "2023-09-21 18:59:39,989 - EHRQC - INFO - Saving raw data to file\n"
     ]
    },
    {
     "name": "stderr",
     "output_type": "stream",
     "text": [
      "/superbugai-data/yash/chapter_1/workspace/EHRQC/.venv/lib/python3.9/site-packages/pandas/io/sql.py:761: UserWarning: pandas only support SQLAlchemy connectable(engine/connection) ordatabase string URI or sqlite3 DBAPI2 connectionother DBAPI2 objects are not tested, please consider using SQLAlchemy\n",
      "  warnings.warn(\n"
     ]
    },
    {
     "name": "stdout",
     "output_type": "stream",
     "text": [
      "2023-09-21 18:59:41,662 - EHRQC - INFO - Parsing command line arguments\n",
      "2023-09-21 18:59:41,663 - EHRQC - INFO - args.save_path: /home/yram0006/phd/chapter_2/workspace/mortality_data/standardisation_experiment/extract/vitals_min_icd.csv\n",
      "2023-09-21 18:59:41,663 - EHRQC - INFO - args.cohort_path: /home/yram0006/phd/chapter_2/workspace/mortality_data/standardisation_experiment/extract/cohort_icd.csv\n",
      "2023-09-21 18:59:41,663 - EHRQC - INFO - args.schema_name: omop_cdm\n",
      "2023-09-21 18:59:41,663 - EHRQC - INFO - args.data_type: vitals\n",
      "2023-09-21 18:59:41,663 - EHRQC - INFO - args.agg_function: min\n",
      "2023-09-21 18:59:41,663 - EHRQC - INFO - args.before: 0\n",
      "2023-09-21 18:59:41,663 - EHRQC - INFO - args.after: 72\n",
      "2023-09-21 18:59:41,682 - EHRQC - INFO - Creating table: omop_cdm.COHORT\n",
      "2023-09-21 18:59:41,687 - EHRQC - INFO - Table: omop_cdm.COHORT created successfully!!\n",
      "2023-09-21 18:59:41,687 - EHRQC - INFO - Saving cohort to table: omop_cdm.COHORT\n",
      "2023-09-21 18:59:41,941 - EHRQC - INFO - Cohort data saved successfully!!\n",
      "2023-09-21 18:59:41,941 - EHRQC - INFO - extracting data\n"
     ]
    },
    {
     "name": "stderr",
     "output_type": "stream",
     "text": [
      "/superbugai-data/yash/chapter_1/workspace/EHRQC/.venv/lib/python3.9/site-packages/pandas/io/sql.py:761: UserWarning: pandas only support SQLAlchemy connectable(engine/connection) ordatabase string URI or sqlite3 DBAPI2 connectionother DBAPI2 objects are not tested, please consider using SQLAlchemy\n",
      "  warnings.warn(\n"
     ]
    },
    {
     "name": "stdout",
     "output_type": "stream",
     "text": [
      "2023-09-21 19:01:48,159 - EHRQC - INFO - Saving raw data to file\n",
      "2023-09-21 19:01:50,186 - EHRQC - INFO - Parsing command line arguments\n",
      "2023-09-21 19:01:50,187 - EHRQC - INFO - args.save_path: /home/yram0006/phd/chapter_2/workspace/mortality_data/standardisation_experiment/extract/vitals_max_icd.csv\n",
      "2023-09-21 19:01:50,187 - EHRQC - INFO - args.cohort_path: /home/yram0006/phd/chapter_2/workspace/mortality_data/standardisation_experiment/extract/cohort_icd.csv\n",
      "2023-09-21 19:01:50,187 - EHRQC - INFO - args.schema_name: omop_cdm\n",
      "2023-09-21 19:01:50,187 - EHRQC - INFO - args.data_type: vitals\n",
      "2023-09-21 19:01:50,187 - EHRQC - INFO - args.agg_function: max\n",
      "2023-09-21 19:01:50,187 - EHRQC - INFO - args.before: 0\n",
      "2023-09-21 19:01:50,187 - EHRQC - INFO - args.after: 72\n",
      "2023-09-21 19:01:50,208 - EHRQC - INFO - Creating table: omop_cdm.COHORT\n",
      "2023-09-21 19:01:50,217 - EHRQC - INFO - Table: omop_cdm.COHORT created successfully!!\n",
      "2023-09-21 19:01:50,217 - EHRQC - INFO - Saving cohort to table: omop_cdm.COHORT\n",
      "2023-09-21 19:01:50,460 - EHRQC - INFO - Cohort data saved successfully!!\n",
      "2023-09-21 19:01:50,460 - EHRQC - INFO - extracting data\n"
     ]
    },
    {
     "name": "stderr",
     "output_type": "stream",
     "text": [
      "/superbugai-data/yash/chapter_1/workspace/EHRQC/.venv/lib/python3.9/site-packages/pandas/io/sql.py:761: UserWarning: pandas only support SQLAlchemy connectable(engine/connection) ordatabase string URI or sqlite3 DBAPI2 connectionother DBAPI2 objects are not tested, please consider using SQLAlchemy\n",
      "  warnings.warn(\n"
     ]
    },
    {
     "name": "stdout",
     "output_type": "stream",
     "text": [
      "2023-09-21 19:03:48,898 - EHRQC - INFO - Saving raw data to file\n",
      "2023-09-21 19:03:50,612 - EHRQC - INFO - Parsing command line arguments\n",
      "2023-09-21 19:03:50,613 - EHRQC - INFO - args.save_path: /home/yram0006/phd/chapter_2/workspace/mortality_data/standardisation_experiment/extract/vitals_avg_icd.csv\n",
      "2023-09-21 19:03:50,613 - EHRQC - INFO - args.cohort_path: /home/yram0006/phd/chapter_2/workspace/mortality_data/standardisation_experiment/extract/cohort_icd.csv\n",
      "2023-09-21 19:03:50,613 - EHRQC - INFO - args.schema_name: omop_cdm\n",
      "2023-09-21 19:03:50,613 - EHRQC - INFO - args.data_type: vitals\n",
      "2023-09-21 19:03:50,613 - EHRQC - INFO - args.agg_function: avg\n",
      "2023-09-21 19:03:50,613 - EHRQC - INFO - args.before: 0\n",
      "2023-09-21 19:03:50,613 - EHRQC - INFO - args.after: 72\n",
      "2023-09-21 19:03:50,633 - EHRQC - INFO - Creating table: omop_cdm.COHORT\n",
      "2023-09-21 19:03:50,638 - EHRQC - INFO - Table: omop_cdm.COHORT created successfully!!\n",
      "2023-09-21 19:03:50,638 - EHRQC - INFO - Saving cohort to table: omop_cdm.COHORT\n",
      "2023-09-21 19:03:50,903 - EHRQC - INFO - Cohort data saved successfully!!\n",
      "2023-09-21 19:03:50,903 - EHRQC - INFO - extracting data\n"
     ]
    },
    {
     "name": "stderr",
     "output_type": "stream",
     "text": [
      "/superbugai-data/yash/chapter_1/workspace/EHRQC/.venv/lib/python3.9/site-packages/pandas/io/sql.py:761: UserWarning: pandas only support SQLAlchemy connectable(engine/connection) ordatabase string URI or sqlite3 DBAPI2 connectionother DBAPI2 objects are not tested, please consider using SQLAlchemy\n",
      "  warnings.warn(\n"
     ]
    },
    {
     "name": "stdout",
     "output_type": "stream",
     "text": [
      "2023-09-21 19:05:47,831 - EHRQC - INFO - Saving raw data to file\n",
      "2023-09-21 19:05:49,563 - EHRQC - INFO - Parsing command line arguments\n",
      "2023-09-21 19:05:49,564 - EHRQC - INFO - args.save_path: /home/yram0006/phd/chapter_2/workspace/mortality_data/standardisation_experiment/extract/vitals_stddev_icd.csv\n",
      "2023-09-21 19:05:49,564 - EHRQC - INFO - args.cohort_path: /home/yram0006/phd/chapter_2/workspace/mortality_data/standardisation_experiment/extract/cohort_icd.csv\n",
      "2023-09-21 19:05:49,564 - EHRQC - INFO - args.schema_name: omop_cdm\n",
      "2023-09-21 19:05:49,564 - EHRQC - INFO - args.data_type: vitals\n",
      "2023-09-21 19:05:49,564 - EHRQC - INFO - args.agg_function: stddev\n",
      "2023-09-21 19:05:49,564 - EHRQC - INFO - args.before: 0\n",
      "2023-09-21 19:05:49,564 - EHRQC - INFO - args.after: 72\n",
      "2023-09-21 19:05:49,584 - EHRQC - INFO - Creating table: omop_cdm.COHORT\n",
      "2023-09-21 19:05:49,608 - EHRQC - INFO - Table: omop_cdm.COHORT created successfully!!\n",
      "2023-09-21 19:05:49,608 - EHRQC - INFO - Saving cohort to table: omop_cdm.COHORT\n",
      "2023-09-21 19:05:49,904 - EHRQC - INFO - Cohort data saved successfully!!\n",
      "2023-09-21 19:05:49,905 - EHRQC - INFO - extracting data\n"
     ]
    },
    {
     "name": "stderr",
     "output_type": "stream",
     "text": [
      "/superbugai-data/yash/chapter_1/workspace/EHRQC/.venv/lib/python3.9/site-packages/pandas/io/sql.py:761: UserWarning: pandas only support SQLAlchemy connectable(engine/connection) ordatabase string URI or sqlite3 DBAPI2 connectionother DBAPI2 objects are not tested, please consider using SQLAlchemy\n",
      "  warnings.warn(\n"
     ]
    },
    {
     "name": "stdout",
     "output_type": "stream",
     "text": [
      "2023-09-21 19:07:46,579 - EHRQC - INFO - Saving raw data to file\n",
      "2023-09-21 19:07:48,293 - EHRQC - INFO - Parsing command line arguments\n",
      "2023-09-21 19:07:48,294 - EHRQC - INFO - args.save_path: /home/yram0006/phd/chapter_2/workspace/mortality_data/standardisation_experiment/extract/vitals_first_icd.csv\n",
      "2023-09-21 19:07:48,294 - EHRQC - INFO - args.cohort_path: /home/yram0006/phd/chapter_2/workspace/mortality_data/standardisation_experiment/extract/cohort_icd.csv\n",
      "2023-09-21 19:07:48,294 - EHRQC - INFO - args.schema_name: omop_cdm\n",
      "2023-09-21 19:07:48,294 - EHRQC - INFO - args.data_type: vitals\n",
      "2023-09-21 19:07:48,294 - EHRQC - INFO - args.agg_function: first\n",
      "2023-09-21 19:07:48,294 - EHRQC - INFO - args.before: 0\n",
      "2023-09-21 19:07:48,294 - EHRQC - INFO - args.after: 72\n",
      "2023-09-21 19:07:48,314 - EHRQC - INFO - Creating table: omop_cdm.COHORT\n",
      "2023-09-21 19:07:48,320 - EHRQC - INFO - Table: omop_cdm.COHORT created successfully!!\n",
      "2023-09-21 19:07:48,320 - EHRQC - INFO - Saving cohort to table: omop_cdm.COHORT\n",
      "2023-09-21 19:07:48,703 - EHRQC - INFO - Cohort data saved successfully!!\n",
      "2023-09-21 19:07:48,703 - EHRQC - INFO - extracting data\n"
     ]
    },
    {
     "name": "stderr",
     "output_type": "stream",
     "text": [
      "/superbugai-data/yash/chapter_1/workspace/EHRQC/.venv/lib/python3.9/site-packages/pandas/io/sql.py:761: UserWarning: pandas only support SQLAlchemy connectable(engine/connection) ordatabase string URI or sqlite3 DBAPI2 connectionother DBAPI2 objects are not tested, please consider using SQLAlchemy\n",
      "  warnings.warn(\n"
     ]
    },
    {
     "name": "stdout",
     "output_type": "stream",
     "text": [
      "2023-09-21 19:09:45,878 - EHRQC - INFO - Saving raw data to file\n",
      "2023-09-21 19:09:47,566 - EHRQC - INFO - Parsing command line arguments\n",
      "2023-09-21 19:09:47,567 - EHRQC - INFO - args.save_path: /home/yram0006/phd/chapter_2/workspace/mortality_data/standardisation_experiment/extract/vitals_last_icd.csv\n",
      "2023-09-21 19:09:47,567 - EHRQC - INFO - args.cohort_path: /home/yram0006/phd/chapter_2/workspace/mortality_data/standardisation_experiment/extract/cohort_icd.csv\n",
      "2023-09-21 19:09:47,567 - EHRQC - INFO - args.schema_name: omop_cdm\n",
      "2023-09-21 19:09:47,567 - EHRQC - INFO - args.data_type: vitals\n",
      "2023-09-21 19:09:47,567 - EHRQC - INFO - args.agg_function: last\n",
      "2023-09-21 19:09:47,567 - EHRQC - INFO - args.before: 0\n",
      "2023-09-21 19:09:47,568 - EHRQC - INFO - args.after: 72\n",
      "2023-09-21 19:09:47,587 - EHRQC - INFO - Creating table: omop_cdm.COHORT\n",
      "2023-09-21 19:09:47,642 - EHRQC - INFO - Table: omop_cdm.COHORT created successfully!!\n",
      "2023-09-21 19:09:47,642 - EHRQC - INFO - Saving cohort to table: omop_cdm.COHORT\n",
      "2023-09-21 19:09:47,877 - EHRQC - INFO - Cohort data saved successfully!!\n",
      "2023-09-21 19:09:47,878 - EHRQC - INFO - extracting data\n"
     ]
    },
    {
     "name": "stderr",
     "output_type": "stream",
     "text": [
      "/superbugai-data/yash/chapter_1/workspace/EHRQC/.venv/lib/python3.9/site-packages/pandas/io/sql.py:761: UserWarning: pandas only support SQLAlchemy connectable(engine/connection) ordatabase string URI or sqlite3 DBAPI2 connectionother DBAPI2 objects are not tested, please consider using SQLAlchemy\n",
      "  warnings.warn(\n"
     ]
    },
    {
     "name": "stdout",
     "output_type": "stream",
     "text": [
      "2023-09-21 19:11:44,960 - EHRQC - INFO - Saving raw data to file\n",
      "2023-09-21 19:11:46,657 - EHRQC - INFO - Parsing command line arguments\n",
      "2023-09-21 19:11:46,658 - EHRQC - INFO - args.save_path: /home/yram0006/phd/chapter_2/workspace/mortality_data/standardisation_experiment/extract/lab_measurements_min_icd.csv\n",
      "2023-09-21 19:11:46,658 - EHRQC - INFO - args.cohort_path: /home/yram0006/phd/chapter_2/workspace/mortality_data/standardisation_experiment/extract/cohort_icd.csv\n",
      "2023-09-21 19:11:46,658 - EHRQC - INFO - args.schema_name: omop_cdm\n",
      "2023-09-21 19:11:46,658 - EHRQC - INFO - args.data_type: lab_measurements\n",
      "2023-09-21 19:11:46,658 - EHRQC - INFO - args.agg_function: min\n",
      "2023-09-21 19:11:46,658 - EHRQC - INFO - args.before: 0\n",
      "2023-09-21 19:11:46,658 - EHRQC - INFO - args.after: 72\n",
      "2023-09-21 19:11:46,678 - EHRQC - INFO - Creating table: omop_cdm.COHORT\n",
      "2023-09-21 19:11:46,698 - EHRQC - INFO - Table: omop_cdm.COHORT created successfully!!\n",
      "2023-09-21 19:11:46,698 - EHRQC - INFO - Saving cohort to table: omop_cdm.COHORT\n",
      "2023-09-21 19:11:46,942 - EHRQC - INFO - Cohort data saved successfully!!\n",
      "2023-09-21 19:11:46,942 - EHRQC - INFO - extracting data\n"
     ]
    },
    {
     "name": "stderr",
     "output_type": "stream",
     "text": [
      "/superbugai-data/yash/chapter_1/workspace/EHRQC/.venv/lib/python3.9/site-packages/pandas/io/sql.py:761: UserWarning: pandas only support SQLAlchemy connectable(engine/connection) ordatabase string URI or sqlite3 DBAPI2 connectionother DBAPI2 objects are not tested, please consider using SQLAlchemy\n",
      "  warnings.warn(\n"
     ]
    },
    {
     "name": "stdout",
     "output_type": "stream",
     "text": [
      "2023-09-21 19:12:57,133 - EHRQC - INFO - Saving raw data to file\n",
      "2023-09-21 19:12:58,981 - EHRQC - INFO - Parsing command line arguments\n",
      "2023-09-21 19:12:58,983 - EHRQC - INFO - args.save_path: /home/yram0006/phd/chapter_2/workspace/mortality_data/standardisation_experiment/extract/lab_measurements_max_icd.csv\n",
      "2023-09-21 19:12:58,983 - EHRQC - INFO - args.cohort_path: /home/yram0006/phd/chapter_2/workspace/mortality_data/standardisation_experiment/extract/cohort_icd.csv\n",
      "2023-09-21 19:12:58,983 - EHRQC - INFO - args.schema_name: omop_cdm\n",
      "2023-09-21 19:12:58,983 - EHRQC - INFO - args.data_type: lab_measurements\n",
      "2023-09-21 19:12:58,983 - EHRQC - INFO - args.agg_function: max\n",
      "2023-09-21 19:12:58,984 - EHRQC - INFO - args.before: 0\n",
      "2023-09-21 19:12:58,984 - EHRQC - INFO - args.after: 72\n",
      "2023-09-21 19:12:59,005 - EHRQC - INFO - Creating table: omop_cdm.COHORT\n",
      "2023-09-21 19:12:59,062 - EHRQC - INFO - Table: omop_cdm.COHORT created successfully!!\n",
      "2023-09-21 19:12:59,062 - EHRQC - INFO - Saving cohort to table: omop_cdm.COHORT\n",
      "2023-09-21 19:12:59,325 - EHRQC - INFO - Cohort data saved successfully!!\n",
      "2023-09-21 19:12:59,325 - EHRQC - INFO - extracting data\n"
     ]
    },
    {
     "name": "stderr",
     "output_type": "stream",
     "text": [
      "/superbugai-data/yash/chapter_1/workspace/EHRQC/.venv/lib/python3.9/site-packages/pandas/io/sql.py:761: UserWarning: pandas only support SQLAlchemy connectable(engine/connection) ordatabase string URI or sqlite3 DBAPI2 connectionother DBAPI2 objects are not tested, please consider using SQLAlchemy\n",
      "  warnings.warn(\n"
     ]
    },
    {
     "name": "stdout",
     "output_type": "stream",
     "text": [
      "2023-09-21 19:14:08,465 - EHRQC - INFO - Saving raw data to file\n",
      "2023-09-21 19:14:10,309 - EHRQC - INFO - Parsing command line arguments\n",
      "2023-09-21 19:14:10,311 - EHRQC - INFO - args.save_path: /home/yram0006/phd/chapter_2/workspace/mortality_data/standardisation_experiment/extract/lab_measurements_avg_icd.csv\n",
      "2023-09-21 19:14:10,311 - EHRQC - INFO - args.cohort_path: /home/yram0006/phd/chapter_2/workspace/mortality_data/standardisation_experiment/extract/cohort_icd.csv\n",
      "2023-09-21 19:14:10,311 - EHRQC - INFO - args.schema_name: omop_cdm\n",
      "2023-09-21 19:14:10,311 - EHRQC - INFO - args.data_type: lab_measurements\n",
      "2023-09-21 19:14:10,311 - EHRQC - INFO - args.agg_function: avg\n",
      "2023-09-21 19:14:10,311 - EHRQC - INFO - args.before: 0\n",
      "2023-09-21 19:14:10,311 - EHRQC - INFO - args.after: 72\n",
      "2023-09-21 19:14:10,331 - EHRQC - INFO - Creating table: omop_cdm.COHORT\n",
      "2023-09-21 19:14:10,337 - EHRQC - INFO - Table: omop_cdm.COHORT created successfully!!\n",
      "2023-09-21 19:14:10,337 - EHRQC - INFO - Saving cohort to table: omop_cdm.COHORT\n",
      "2023-09-21 19:14:10,593 - EHRQC - INFO - Cohort data saved successfully!!\n",
      "2023-09-21 19:14:10,593 - EHRQC - INFO - extracting data\n"
     ]
    },
    {
     "name": "stderr",
     "output_type": "stream",
     "text": [
      "/superbugai-data/yash/chapter_1/workspace/EHRQC/.venv/lib/python3.9/site-packages/pandas/io/sql.py:761: UserWarning: pandas only support SQLAlchemy connectable(engine/connection) ordatabase string URI or sqlite3 DBAPI2 connectionother DBAPI2 objects are not tested, please consider using SQLAlchemy\n",
      "  warnings.warn(\n"
     ]
    },
    {
     "name": "stdout",
     "output_type": "stream",
     "text": [
      "2023-09-21 19:15:19,556 - EHRQC - INFO - Saving raw data to file\n",
      "2023-09-21 19:15:21,383 - EHRQC - INFO - Parsing command line arguments\n",
      "2023-09-21 19:15:21,384 - EHRQC - INFO - args.save_path: /home/yram0006/phd/chapter_2/workspace/mortality_data/standardisation_experiment/extract/lab_measurements_stddev_icd.csv\n",
      "2023-09-21 19:15:21,384 - EHRQC - INFO - args.cohort_path: /home/yram0006/phd/chapter_2/workspace/mortality_data/standardisation_experiment/extract/cohort_icd.csv\n",
      "2023-09-21 19:15:21,384 - EHRQC - INFO - args.schema_name: omop_cdm\n",
      "2023-09-21 19:15:21,384 - EHRQC - INFO - args.data_type: lab_measurements\n",
      "2023-09-21 19:15:21,384 - EHRQC - INFO - args.agg_function: stddev\n",
      "2023-09-21 19:15:21,384 - EHRQC - INFO - args.before: 0\n",
      "2023-09-21 19:15:21,384 - EHRQC - INFO - args.after: 72\n",
      "2023-09-21 19:15:21,404 - EHRQC - INFO - Creating table: omop_cdm.COHORT\n",
      "2023-09-21 19:15:21,410 - EHRQC - INFO - Table: omop_cdm.COHORT created successfully!!\n",
      "2023-09-21 19:15:21,410 - EHRQC - INFO - Saving cohort to table: omop_cdm.COHORT\n",
      "2023-09-21 19:15:21,642 - EHRQC - INFO - Cohort data saved successfully!!\n",
      "2023-09-21 19:15:21,642 - EHRQC - INFO - extracting data\n"
     ]
    },
    {
     "name": "stderr",
     "output_type": "stream",
     "text": [
      "/superbugai-data/yash/chapter_1/workspace/EHRQC/.venv/lib/python3.9/site-packages/pandas/io/sql.py:761: UserWarning: pandas only support SQLAlchemy connectable(engine/connection) ordatabase string URI or sqlite3 DBAPI2 connectionother DBAPI2 objects are not tested, please consider using SQLAlchemy\n",
      "  warnings.warn(\n"
     ]
    },
    {
     "name": "stdout",
     "output_type": "stream",
     "text": [
      "2023-09-21 19:16:31,538 - EHRQC - INFO - Saving raw data to file\n",
      "2023-09-21 19:16:33,419 - EHRQC - INFO - Parsing command line arguments\n",
      "2023-09-21 19:16:33,421 - EHRQC - INFO - args.save_path: /home/yram0006/phd/chapter_2/workspace/mortality_data/standardisation_experiment/extract/lab_measurements_first_icd.csv\n",
      "2023-09-21 19:16:33,421 - EHRQC - INFO - args.cohort_path: /home/yram0006/phd/chapter_2/workspace/mortality_data/standardisation_experiment/extract/cohort_icd.csv\n",
      "2023-09-21 19:16:33,421 - EHRQC - INFO - args.schema_name: omop_cdm\n",
      "2023-09-21 19:16:33,421 - EHRQC - INFO - args.data_type: lab_measurements\n",
      "2023-09-21 19:16:33,421 - EHRQC - INFO - args.agg_function: first\n",
      "2023-09-21 19:16:33,421 - EHRQC - INFO - args.before: 0\n",
      "2023-09-21 19:16:33,421 - EHRQC - INFO - args.after: 72\n",
      "2023-09-21 19:16:33,441 - EHRQC - INFO - Creating table: omop_cdm.COHORT\n",
      "2023-09-21 19:16:33,494 - EHRQC - INFO - Table: omop_cdm.COHORT created successfully!!\n",
      "2023-09-21 19:16:33,494 - EHRQC - INFO - Saving cohort to table: omop_cdm.COHORT\n",
      "2023-09-21 19:16:33,807 - EHRQC - INFO - Cohort data saved successfully!!\n",
      "2023-09-21 19:16:33,807 - EHRQC - INFO - extracting data\n"
     ]
    },
    {
     "name": "stderr",
     "output_type": "stream",
     "text": [
      "/superbugai-data/yash/chapter_1/workspace/EHRQC/.venv/lib/python3.9/site-packages/pandas/io/sql.py:761: UserWarning: pandas only support SQLAlchemy connectable(engine/connection) ordatabase string URI or sqlite3 DBAPI2 connectionother DBAPI2 objects are not tested, please consider using SQLAlchemy\n",
      "  warnings.warn(\n"
     ]
    },
    {
     "name": "stdout",
     "output_type": "stream",
     "text": [
      "2023-09-21 19:17:42,896 - EHRQC - INFO - Saving raw data to file\n",
      "2023-09-21 19:17:44,697 - EHRQC - INFO - Parsing command line arguments\n",
      "2023-09-21 19:17:44,698 - EHRQC - INFO - args.save_path: /home/yram0006/phd/chapter_2/workspace/mortality_data/standardisation_experiment/extract/lab_measurements_last_icd.csv\n",
      "2023-09-21 19:17:44,698 - EHRQC - INFO - args.cohort_path: /home/yram0006/phd/chapter_2/workspace/mortality_data/standardisation_experiment/extract/cohort_icd.csv\n",
      "2023-09-21 19:17:44,698 - EHRQC - INFO - args.schema_name: omop_cdm\n",
      "2023-09-21 19:17:44,698 - EHRQC - INFO - args.data_type: lab_measurements\n",
      "2023-09-21 19:17:44,698 - EHRQC - INFO - args.agg_function: last\n",
      "2023-09-21 19:17:44,698 - EHRQC - INFO - args.before: 0\n",
      "2023-09-21 19:17:44,698 - EHRQC - INFO - args.after: 72\n",
      "2023-09-21 19:17:44,718 - EHRQC - INFO - Creating table: omop_cdm.COHORT\n",
      "2023-09-21 19:17:44,730 - EHRQC - INFO - Table: omop_cdm.COHORT created successfully!!\n",
      "2023-09-21 19:17:44,730 - EHRQC - INFO - Saving cohort to table: omop_cdm.COHORT\n",
      "2023-09-21 19:17:44,965 - EHRQC - INFO - Cohort data saved successfully!!\n",
      "2023-09-21 19:17:44,965 - EHRQC - INFO - extracting data\n"
     ]
    },
    {
     "name": "stderr",
     "output_type": "stream",
     "text": [
      "/superbugai-data/yash/chapter_1/workspace/EHRQC/.venv/lib/python3.9/site-packages/pandas/io/sql.py:761: UserWarning: pandas only support SQLAlchemy connectable(engine/connection) ordatabase string URI or sqlite3 DBAPI2 connectionother DBAPI2 objects are not tested, please consider using SQLAlchemy\n",
      "  warnings.warn(\n"
     ]
    },
    {
     "name": "stdout",
     "output_type": "stream",
     "text": [
      "2023-09-21 19:18:53,522 - EHRQC - INFO - Saving raw data to file\n"
     ]
    },
    {
     "data": {
      "text/plain": [
       "0"
      ]
     },
     "execution_count": 2,
     "metadata": {},
     "output_type": "execute_result"
    }
   ],
   "source": [
    "import os\n",
    "\n",
    "\n",
    "os.system(\n",
    "    '''cd /superbugai-data/yash/chapter_1/workspace/EHRQC;'''\n",
    "    +\n",
    "    '''.venv/bin/python -m ehrqc.extract.ExtractCohort ''' + dataDirName + '''\"extract/cohort_icd.csv\" \"omop_cdm\" \"icd\";'''\n",
    "    +\n",
    "    '''.venv/bin/python -m ehrqc.extract.ExtractCohortData ''' + dataDirName + '''\"extract/demographics_icd.csv\" ''' + dataDirName + '''\"extract/cohort_icd.csv\" \"omop_cdm\" \"demographics\" \"min\";'''\n",
    "    +\n",
    "    '''.venv/bin/python -m ehrqc.extract.ExtractCohortData ''' + dataDirName + '''\"extract/deaths.csv\" ''' + dataDirName + '''\"extract/cohort_icd.csv\" \"omop_cdm\" \"deaths\" \"min\";'''\n",
    "    +\n",
    "    '''.venv/bin/python -m ehrqc.extract.ExtractCohortData ''' + dataDirName + '''\"extract/vitals_min_icd.csv\" ''' + dataDirName + '''\"extract/cohort_icd.csv\" \"omop_cdm\" \"vitals\" \"min\" -b=0 -a=72;'''\n",
    "    +\n",
    "    '''.venv/bin/python -m ehrqc.extract.ExtractCohortData ''' + dataDirName + '''\"extract/vitals_max_icd.csv\" ''' + dataDirName + '''\"extract/cohort_icd.csv\" \"omop_cdm\" \"vitals\" \"max\" -b=0 -a=72;'''\n",
    "    +\n",
    "    '''.venv/bin/python -m ehrqc.extract.ExtractCohortData ''' + dataDirName + '''\"extract/vitals_avg_icd.csv\" ''' + dataDirName + '''\"extract/cohort_icd.csv\" \"omop_cdm\" \"vitals\" \"avg\" -b=0 -a=72;'''\n",
    "    +\n",
    "    '''.venv/bin/python -m ehrqc.extract.ExtractCohortData ''' + dataDirName + '''\"extract/vitals_stddev_icd.csv\" ''' + dataDirName + '''\"extract/cohort_icd.csv\" \"omop_cdm\" \"vitals\" \"stddev\" -b=0 -a=72;'''\n",
    "    +\n",
    "    '''.venv/bin/python -m ehrqc.extract.ExtractCohortData ''' + dataDirName + '''\"extract/vitals_first_icd.csv\" ''' + dataDirName + '''\"extract/cohort_icd.csv\" \"omop_cdm\" \"vitals\" \"first\" -b=0 -a=72;'''\n",
    "    +\n",
    "    '''.venv/bin/python -m ehrqc.extract.ExtractCohortData ''' + dataDirName + '''\"extract/vitals_last_icd.csv\" ''' + dataDirName + '''\"extract/cohort_icd.csv\" \"omop_cdm\" \"vitals\" \"last\" -b=0 -a=72;'''\n",
    "    +\n",
    "    '''.venv/bin/python -m ehrqc.extract.ExtractCohortData ''' + dataDirName + '''\"extract/lab_measurements_min_icd.csv\" ''' + dataDirName + '''\"extract/cohort_icd.csv\" \"omop_cdm\" \"lab_measurements\" \"min\" -b=0 -a=72;'''\n",
    "    +\n",
    "    '''.venv/bin/python -m ehrqc.extract.ExtractCohortData ''' + dataDirName + '''\"extract/lab_measurements_max_icd.csv\" ''' + dataDirName + '''\"extract/cohort_icd.csv\" \"omop_cdm\" \"lab_measurements\" \"max\" -b=0 -a=72;'''\n",
    "    +\n",
    "    '''.venv/bin/python -m ehrqc.extract.ExtractCohortData ''' + dataDirName + '''\"extract/lab_measurements_avg_icd.csv\" ''' + dataDirName + '''\"extract/cohort_icd.csv\" \"omop_cdm\" \"lab_measurements\" \"avg\" -b=0 -a=72;'''\n",
    "    +\n",
    "    '''.venv/bin/python -m ehrqc.extract.ExtractCohortData ''' + dataDirName + '''\"extract/lab_measurements_stddev_icd.csv\" ''' + dataDirName + '''\"extract/cohort_icd.csv\" \"omop_cdm\" \"lab_measurements\" \"stddev\" -b=0 -a=72;'''\n",
    "    +\n",
    "    '''.venv/bin/python -m ehrqc.extract.ExtractCohortData ''' + dataDirName + '''\"extract/lab_measurements_first_icd.csv\" ''' + dataDirName + '''\"extract/cohort_icd.csv\" \"omop_cdm\" \"lab_measurements\" \"first\" -b=0 -a=72;'''\n",
    "    +\n",
    "    '''.venv/bin/python -m ehrqc.extract.ExtractCohortData ''' + dataDirName + '''\"extract/lab_measurements_last_icd.csv\" ''' + dataDirName + '''\"extract/cohort_icd.csv\" \"omop_cdm\" \"lab_measurements\" \"last\" -b=0 -a=72;'''\n",
    "    )\n"
   ]
  },
  {
   "cell_type": "markdown",
   "metadata": {},
   "source": [
    "### Read extracted files"
   ]
  },
  {
   "cell_type": "code",
   "execution_count": 3,
   "metadata": {},
   "outputs": [],
   "source": [
    "import pandas as pd\n",
    "\n",
    "demographics =  pd.read_csv(dataDirName + \"extract/demographics_icd.csv\")\n",
    "vitals_min =  pd.read_csv(dataDirName + \"extract/vitals_min_icd.csv\")\n",
    "vitals_max =  pd.read_csv(dataDirName + \"extract/vitals_max_icd.csv\")\n",
    "vitals_avg =  pd.read_csv(dataDirName + \"extract/vitals_avg_icd.csv\")\n",
    "vitals_stddev =  pd.read_csv(dataDirName + \"extract/vitals_stddev_icd.csv\")\n",
    "vitals_first =  pd.read_csv(dataDirName + \"extract/vitals_first_icd.csv\")\n",
    "vitals_last =  pd.read_csv(dataDirName + \"extract/vitals_last_icd.csv\")\n",
    "lab_measurements_min =  pd.read_csv(dataDirName + \"extract/lab_measurements_min_icd.csv\")\n",
    "lab_measurements_max =  pd.read_csv(dataDirName + \"extract/lab_measurements_max_icd.csv\")\n",
    "lab_measurements_avg =  pd.read_csv(dataDirName + \"extract/lab_measurements_avg_icd.csv\")\n",
    "lab_measurements_stddev =  pd.read_csv(dataDirName + \"extract/lab_measurements_stddev_icd.csv\")\n",
    "lab_measurements_first =  pd.read_csv(dataDirName + \"extract/lab_measurements_first_icd.csv\")\n",
    "lab_measurements_last =  pd.read_csv(dataDirName + \"extract/lab_measurements_last_icd.csv\")"
   ]
  },
  {
   "cell_type": "markdown",
   "metadata": {},
   "source": [
    "### Display counts post extraction"
   ]
  },
  {
   "cell_type": "code",
   "execution_count": 4,
   "metadata": {},
   "outputs": [
    {
     "data": {
      "text/plain": [
       "(12241, 4)"
      ]
     },
     "execution_count": 4,
     "metadata": {},
     "output_type": "execute_result"
    }
   ],
   "source": [
    "demographics.shape"
   ]
  },
  {
   "cell_type": "code",
   "execution_count": 5,
   "metadata": {},
   "outputs": [
    {
     "data": {
      "text/plain": [
       "((5184, 11), (5184, 11), (5184, 11), (5184, 11), (5184, 11), (5184, 11))"
      ]
     },
     "execution_count": 5,
     "metadata": {},
     "output_type": "execute_result"
    }
   ],
   "source": [
    "vitals_min.shape, vitals_max.shape, vitals_avg.shape, vitals_stddev.shape, vitals_first.shape, vitals_last.shape"
   ]
  },
  {
   "cell_type": "code",
   "execution_count": 6,
   "metadata": {},
   "outputs": [
    {
     "data": {
      "text/plain": [
       "((9847, 30), (9847, 30), (9847, 30), (9847, 30), (9847, 30), (9847, 30))"
      ]
     },
     "execution_count": 6,
     "metadata": {},
     "output_type": "execute_result"
    }
   ],
   "source": [
    "lab_measurements_min.shape, lab_measurements_max.shape, lab_measurements_avg.shape, lab_measurements_stddev.shape, lab_measurements_first.shape, lab_measurements_last.shape"
   ]
  },
  {
   "cell_type": "markdown",
   "metadata": {},
   "source": [
    "## Remove attributes with low coverage\n",
    "\n",
    "Removing attributes where the attributes have values that are missing in more than 25 % of the cases"
   ]
  },
  {
   "cell_type": "markdown",
   "metadata": {},
   "source": [
    "### Drop columns with low coverage"
   ]
  },
  {
   "cell_type": "code",
   "execution_count": 7,
   "metadata": {},
   "outputs": [
    {
     "name": "stdout",
     "output_type": "stream",
     "text": [
      "2023-09-21 19:18:55,073 - Anomalies - INFO - Parsing command line arguments\n",
      "2023-09-21 19:18:55,075 - Anomalies - INFO - Start!!\n",
      "2023-09-21 19:18:55,075 - Anomalies - INFO - args.source_file: /home/yram0006/phd/chapter_2/workspace/mortality_data/standardisation_experiment/extract/demographics_icd.csv\n",
      "2023-09-21 19:18:55,075 - Anomalies - INFO - args.chunksize: 10\n",
      "2023-09-21 19:18:55,075 - Anomalies - INFO - args.id_columns: ['person_id']\n",
      "2023-09-21 19:18:55,075 - Anomalies - INFO - args.drop: True\n",
      "2023-09-21 19:18:55,075 - Anomalies - INFO - args.percentage: 0.0\n",
      "2023-09-21 19:18:55,075 - Anomalies - INFO - args.save_path: /home/yram0006/phd/chapter_2/workspace/mortality_data/standardisation_experiment/dropped\n",
      "2023-09-21 19:18:55,075 - Anomalies - INFO - Calculating Missingnes\n",
      "2023-09-21 19:19:00,159 - Anomalies - INFO - Missingness Report\n",
      "2023-09-21 19:19:00,162 - Anomalies - INFO - \n",
      "\n",
      "  column_name  missing_count  total_count  percentage_missing\n",
      "0         age              0        12241                 0.0\n",
      "1   ethnicity              0        12241                 0.0\n",
      "2      gender              0        12241                 0.0\n",
      "\n",
      "2023-09-21 19:19:00,162 - Anomalies - INFO - Dropping columns with above 0.0 % missingness\n",
      "2023-09-21 19:19:00,940 - Anomalies - INFO - Saving data to demographics_icd_dropped.csv\n",
      "2023-09-21 19:19:00,981 - Anomalies - INFO - Done!!\n",
      "2023-09-21 19:19:01,401 - Anomalies - INFO - Parsing command line arguments\n",
      "2023-09-21 19:19:01,402 - Anomalies - INFO - Start!!\n",
      "2023-09-21 19:19:01,402 - Anomalies - INFO - args.source_file: /home/yram0006/phd/chapter_2/workspace/mortality_data/standardisation_experiment/extract/deaths.csv\n",
      "2023-09-21 19:19:01,402 - Anomalies - INFO - args.chunksize: 10\n",
      "2023-09-21 19:19:01,402 - Anomalies - INFO - args.id_columns: ['person_id']\n",
      "2023-09-21 19:19:01,402 - Anomalies - INFO - args.drop: True\n",
      "2023-09-21 19:19:01,402 - Anomalies - INFO - args.percentage: 100.0\n",
      "2023-09-21 19:19:01,402 - Anomalies - INFO - args.save_path: /home/yram0006/phd/chapter_2/workspace/mortality_data/standardisation_experiment/dropped\n",
      "2023-09-21 19:19:01,402 - Anomalies - INFO - Calculating Missingnes\n",
      "2023-09-21 19:19:06,365 - Anomalies - INFO - Missingness Report\n",
      "2023-09-21 19:19:06,369 - Anomalies - INFO - \n",
      "\n",
      "      column_name  missing_count  total_count  percentage_missing\n",
      "0     anchor_time              0        12241                0.00\n",
      "1  death_datetime           8744        12241               71.43\n",
      "\n",
      "2023-09-21 19:19:06,369 - Anomalies - INFO - Dropping columns with above 100.0 % missingness\n",
      "2023-09-21 19:19:07,120 - Anomalies - INFO - Saving data to deaths_dropped.csv\n",
      "2023-09-21 19:19:07,152 - Anomalies - INFO - Done!!\n",
      "2023-09-21 19:19:07,562 - Anomalies - INFO - Parsing command line arguments\n",
      "2023-09-21 19:19:07,563 - Anomalies - INFO - Start!!\n",
      "2023-09-21 19:19:07,563 - Anomalies - INFO - args.source_file: /home/yram0006/phd/chapter_2/workspace/mortality_data/standardisation_experiment/extract/vitals_min_icd.csv\n",
      "2023-09-21 19:19:07,563 - Anomalies - INFO - args.chunksize: 10\n",
      "2023-09-21 19:19:07,563 - Anomalies - INFO - args.id_columns: ['person_id']\n",
      "2023-09-21 19:19:07,563 - Anomalies - INFO - args.drop: True\n",
      "2023-09-21 19:19:07,563 - Anomalies - INFO - args.percentage: 25.0\n",
      "2023-09-21 19:19:07,563 - Anomalies - INFO - args.save_path: /home/yram0006/phd/chapter_2/workspace/mortality_data/standardisation_experiment/dropped\n",
      "2023-09-21 19:19:07,563 - Anomalies - INFO - Calculating Missingnes\n",
      "2023-09-21 19:19:09,639 - Anomalies - INFO - Missingness Report\n",
      "2023-09-21 19:19:09,641 - Anomalies - INFO - \n",
      "\n",
      "  column_name  missing_count  total_count  percentage_missing\n",
      "0       diabp             13         5184                0.25\n",
      "1      gcseye             15         5184                0.29\n",
      "2    gcsmotor             18         5184                0.35\n",
      "3   gcsverbal             17         5184                0.33\n",
      "4   heartrate              3         5184                0.06\n",
      "5      meanbp              3         5184                0.06\n",
      "6    resprate              2         5184                0.04\n",
      "7        spo2              8         5184                0.15\n",
      "8       sysbp             12         5184                0.23\n",
      "9       tempc             44         5184                0.85\n",
      "\n",
      "2023-09-21 19:19:09,641 - Anomalies - INFO - Dropping columns with above 25.0 % missingness\n",
      "2023-09-21 19:19:09,948 - Anomalies - INFO - Saving data to vitals_min_icd_dropped.csv\n",
      "2023-09-21 19:19:09,999 - Anomalies - INFO - Done!!\n",
      "2023-09-21 19:19:10,414 - Anomalies - INFO - Parsing command line arguments\n",
      "2023-09-21 19:19:10,415 - Anomalies - INFO - Start!!\n",
      "2023-09-21 19:19:10,415 - Anomalies - INFO - args.source_file: /home/yram0006/phd/chapter_2/workspace/mortality_data/standardisation_experiment/extract/vitals_max_icd.csv\n",
      "2023-09-21 19:19:10,415 - Anomalies - INFO - args.chunksize: 10\n",
      "2023-09-21 19:19:10,415 - Anomalies - INFO - args.id_columns: ['person_id']\n",
      "2023-09-21 19:19:10,415 - Anomalies - INFO - args.drop: True\n",
      "2023-09-21 19:19:10,415 - Anomalies - INFO - args.percentage: 25.0\n",
      "2023-09-21 19:19:10,415 - Anomalies - INFO - args.save_path: /home/yram0006/phd/chapter_2/workspace/mortality_data/standardisation_experiment/dropped\n",
      "2023-09-21 19:19:10,415 - Anomalies - INFO - Calculating Missingnes\n",
      "2023-09-21 19:19:12,496 - Anomalies - INFO - Missingness Report\n",
      "2023-09-21 19:19:12,499 - Anomalies - INFO - \n",
      "\n",
      "  column_name  missing_count  total_count  percentage_missing\n",
      "0       diabp             13         5184                0.25\n",
      "1      gcseye             15         5184                0.29\n",
      "2    gcsmotor             18         5184                0.35\n",
      "3   gcsverbal             17         5184                0.33\n",
      "4   heartrate              3         5184                0.06\n",
      "5      meanbp              3         5184                0.06\n",
      "6    resprate              2         5184                0.04\n",
      "7        spo2              8         5184                0.15\n",
      "8       sysbp             12         5184                0.23\n",
      "9       tempc             44         5184                0.85\n",
      "\n",
      "2023-09-21 19:19:12,499 - Anomalies - INFO - Dropping columns with above 25.0 % missingness\n",
      "2023-09-21 19:19:12,809 - Anomalies - INFO - Saving data to vitals_max_icd_dropped.csv\n",
      "2023-09-21 19:19:12,849 - Anomalies - INFO - Done!!\n",
      "2023-09-21 19:19:13,264 - Anomalies - INFO - Parsing command line arguments\n",
      "2023-09-21 19:19:13,265 - Anomalies - INFO - Start!!\n",
      "2023-09-21 19:19:13,265 - Anomalies - INFO - args.source_file: /home/yram0006/phd/chapter_2/workspace/mortality_data/standardisation_experiment/extract/vitals_avg_icd.csv\n",
      "2023-09-21 19:19:13,265 - Anomalies - INFO - args.chunksize: 10\n",
      "2023-09-21 19:19:13,265 - Anomalies - INFO - args.id_columns: ['person_id']\n",
      "2023-09-21 19:19:13,265 - Anomalies - INFO - args.drop: True\n",
      "2023-09-21 19:19:13,265 - Anomalies - INFO - args.percentage: 25.0\n",
      "2023-09-21 19:19:13,265 - Anomalies - INFO - args.save_path: /home/yram0006/phd/chapter_2/workspace/mortality_data/standardisation_experiment/dropped\n",
      "2023-09-21 19:19:13,266 - Anomalies - INFO - Calculating Missingnes\n",
      "2023-09-21 19:19:15,376 - Anomalies - INFO - Missingness Report\n",
      "2023-09-21 19:19:15,378 - Anomalies - INFO - \n",
      "\n",
      "  column_name  missing_count  total_count  percentage_missing\n",
      "0       diabp             13         5184                0.25\n",
      "1      gcseye             15         5184                0.29\n",
      "2    gcsmotor             18         5184                0.35\n",
      "3   gcsverbal             17         5184                0.33\n",
      "4   heartrate              3         5184                0.06\n",
      "5      meanbp              3         5184                0.06\n",
      "6    resprate              2         5184                0.04\n",
      "7        spo2              8         5184                0.15\n",
      "8       sysbp             12         5184                0.23\n",
      "9       tempc             44         5184                0.85\n",
      "\n",
      "2023-09-21 19:19:15,378 - Anomalies - INFO - Dropping columns with above 25.0 % missingness\n",
      "2023-09-21 19:19:15,697 - Anomalies - INFO - Saving data to vitals_avg_icd_dropped.csv\n",
      "2023-09-21 19:19:15,757 - Anomalies - INFO - Done!!\n",
      "2023-09-21 19:19:16,170 - Anomalies - INFO - Parsing command line arguments\n",
      "2023-09-21 19:19:16,171 - Anomalies - INFO - Start!!\n",
      "2023-09-21 19:19:16,171 - Anomalies - INFO - args.source_file: /home/yram0006/phd/chapter_2/workspace/mortality_data/standardisation_experiment/extract/vitals_stddev_icd.csv\n",
      "2023-09-21 19:19:16,172 - Anomalies - INFO - args.chunksize: 10\n",
      "2023-09-21 19:19:16,172 - Anomalies - INFO - args.id_columns: ['person_id']\n",
      "2023-09-21 19:19:16,172 - Anomalies - INFO - args.drop: True\n",
      "2023-09-21 19:19:16,172 - Anomalies - INFO - args.percentage: 25.0\n",
      "2023-09-21 19:19:16,172 - Anomalies - INFO - args.save_path: /home/yram0006/phd/chapter_2/workspace/mortality_data/standardisation_experiment/dropped\n",
      "2023-09-21 19:19:16,172 - Anomalies - INFO - Calculating Missingnes\n",
      "2023-09-21 19:19:18,264 - Anomalies - INFO - Missingness Report\n",
      "2023-09-21 19:19:18,266 - Anomalies - INFO - \n",
      "\n",
      "  column_name  missing_count  total_count  percentage_missing\n",
      "0       diabp             14         5184                0.27\n",
      "1      gcseye             61         5184                1.18\n",
      "2    gcsmotor             64         5184                1.23\n",
      "3   gcsverbal             64         5184                1.23\n",
      "4   heartrate              3         5184                0.06\n",
      "5      meanbp              3         5184                0.06\n",
      "6    resprate              2         5184                0.04\n",
      "7        spo2             10         5184                0.19\n",
      "8       sysbp             13         5184                0.25\n",
      "9       tempc             84         5184                1.62\n",
      "\n",
      "2023-09-21 19:19:18,266 - Anomalies - INFO - Dropping columns with above 25.0 % missingness\n",
      "2023-09-21 19:19:18,586 - Anomalies - INFO - Saving data to vitals_stddev_icd_dropped.csv\n",
      "2023-09-21 19:19:18,647 - Anomalies - INFO - Done!!\n",
      "2023-09-21 19:19:19,060 - Anomalies - INFO - Parsing command line arguments\n",
      "2023-09-21 19:19:19,062 - Anomalies - INFO - Start!!\n",
      "2023-09-21 19:19:19,062 - Anomalies - INFO - args.source_file: /home/yram0006/phd/chapter_2/workspace/mortality_data/standardisation_experiment/extract/vitals_first_icd.csv\n",
      "2023-09-21 19:19:19,062 - Anomalies - INFO - args.chunksize: 10\n",
      "2023-09-21 19:19:19,062 - Anomalies - INFO - args.id_columns: ['person_id']\n",
      "2023-09-21 19:19:19,062 - Anomalies - INFO - args.drop: True\n",
      "2023-09-21 19:19:19,062 - Anomalies - INFO - args.percentage: 25.0\n",
      "2023-09-21 19:19:19,062 - Anomalies - INFO - args.save_path: /home/yram0006/phd/chapter_2/workspace/mortality_data/standardisation_experiment/dropped\n",
      "2023-09-21 19:19:19,062 - Anomalies - INFO - Calculating Missingnes\n",
      "2023-09-21 19:19:21,165 - Anomalies - INFO - Missingness Report\n",
      "2023-09-21 19:19:21,168 - Anomalies - INFO - \n",
      "\n",
      "  column_name  missing_count  total_count  percentage_missing\n",
      "0       diabp             13         5184                0.25\n",
      "1      gcseye             15         5184                0.29\n",
      "2    gcsmotor             18         5184                0.35\n",
      "3   gcsverbal             17         5184                0.33\n",
      "4   heartrate              3         5184                0.06\n",
      "5      meanbp              3         5184                0.06\n",
      "6    resprate              2         5184                0.04\n",
      "7        spo2              8         5184                0.15\n",
      "8       sysbp             12         5184                0.23\n",
      "9       tempc             44         5184                0.85\n",
      "\n",
      "2023-09-21 19:19:21,168 - Anomalies - INFO - Dropping columns with above 25.0 % missingness\n",
      "2023-09-21 19:19:21,482 - Anomalies - INFO - Saving data to vitals_first_icd_dropped.csv\n",
      "2023-09-21 19:19:21,521 - Anomalies - INFO - Done!!\n",
      "2023-09-21 19:19:21,943 - Anomalies - INFO - Parsing command line arguments\n",
      "2023-09-21 19:19:21,944 - Anomalies - INFO - Start!!\n",
      "2023-09-21 19:19:21,944 - Anomalies - INFO - args.source_file: /home/yram0006/phd/chapter_2/workspace/mortality_data/standardisation_experiment/extract/vitals_last_icd.csv\n",
      "2023-09-21 19:19:21,944 - Anomalies - INFO - args.chunksize: 10\n",
      "2023-09-21 19:19:21,944 - Anomalies - INFO - args.id_columns: ['person_id']\n",
      "2023-09-21 19:19:21,944 - Anomalies - INFO - args.drop: True\n",
      "2023-09-21 19:19:21,944 - Anomalies - INFO - args.percentage: 25.0\n",
      "2023-09-21 19:19:21,944 - Anomalies - INFO - args.save_path: /home/yram0006/phd/chapter_2/workspace/mortality_data/standardisation_experiment/dropped\n",
      "2023-09-21 19:19:21,944 - Anomalies - INFO - Calculating Missingnes\n",
      "2023-09-21 19:19:24,028 - Anomalies - INFO - Missingness Report\n",
      "2023-09-21 19:19:24,030 - Anomalies - INFO - \n",
      "\n",
      "  column_name  missing_count  total_count  percentage_missing\n",
      "0       diabp             13         5184                0.25\n",
      "1      gcseye             15         5184                0.29\n",
      "2    gcsmotor             18         5184                0.35\n",
      "3   gcsverbal             17         5184                0.33\n",
      "4   heartrate              3         5184                0.06\n",
      "5      meanbp              3         5184                0.06\n",
      "6    resprate              2         5184                0.04\n",
      "7        spo2              8         5184                0.15\n",
      "8       sysbp             12         5184                0.23\n",
      "9       tempc             44         5184                0.85\n",
      "\n",
      "2023-09-21 19:19:24,030 - Anomalies - INFO - Dropping columns with above 25.0 % missingness\n",
      "2023-09-21 19:19:24,346 - Anomalies - INFO - Saving data to vitals_last_icd_dropped.csv\n",
      "2023-09-21 19:19:24,385 - Anomalies - INFO - Done!!\n",
      "2023-09-21 19:19:24,798 - Anomalies - INFO - Parsing command line arguments\n",
      "2023-09-21 19:19:24,799 - Anomalies - INFO - Start!!\n",
      "2023-09-21 19:19:24,799 - Anomalies - INFO - args.source_file: /home/yram0006/phd/chapter_2/workspace/mortality_data/standardisation_experiment/extract/lab_measurements_min_icd.csv\n",
      "2023-09-21 19:19:24,799 - Anomalies - INFO - args.chunksize: 10\n",
      "2023-09-21 19:19:24,799 - Anomalies - INFO - args.id_columns: ['person_id']\n",
      "2023-09-21 19:19:24,799 - Anomalies - INFO - args.drop: True\n",
      "2023-09-21 19:19:24,799 - Anomalies - INFO - args.percentage: 25.0\n",
      "2023-09-21 19:19:24,799 - Anomalies - INFO - args.save_path: /home/yram0006/phd/chapter_2/workspace/mortality_data/standardisation_experiment/dropped\n",
      "2023-09-21 19:19:24,799 - Anomalies - INFO - Calculating Missingnes\n",
      "2023-09-21 19:19:29,306 - Anomalies - INFO - Missingness Report\n",
      "2023-09-21 19:19:29,309 - Anomalies - INFO - \n",
      "\n",
      "                column_name  missing_count  total_count  percentage_missing\n",
      "0                   albumin           4436         9847               45.05\n",
      "1                 anion_gap           2394         9847               24.31\n",
      "2                      aptt           3125         9847               31.74\n",
      "3     band_form_neutrophils           6927         9847               70.35\n",
      "4      base_excess_in_blood           5498         9847               55.83\n",
      "5               bicarbonate             39         9847                0.40\n",
      "6                 bilirubin           3648         9847               37.05\n",
      "7       carbondioxide_blood           5492         9847               55.77\n",
      "8       carbondioxide_serum           5491         9847               55.76\n",
      "9            chloride_blood           8612         9847               87.46\n",
      "10           chloride_serum             44         9847                0.45\n",
      "11               creatinine             33         9847                0.34\n",
      "12            glucose_serum             37         9847                0.38\n",
      "13            glucose_urine           9039         9847               91.79\n",
      "14               hematocrit           2387         9847               24.24\n",
      "15               hemoglobin             46         9847                0.47\n",
      "16                      inr           3070         9847               31.18\n",
      "17                  lactate           3236         9847               32.86\n",
      "18    leukocytes_blood_auto           9765         9847               99.17\n",
      "19  leukocytes_blood_manual           2398         9847               24.35\n",
      "20                   oxygen           5493         9847               55.78\n",
      "21                 ph_blood           5312         9847               53.95\n",
      "22             ph_bodyfluid           9725         9847               98.76\n",
      "23           platelet_count           2387         9847               24.24\n",
      "24          potassium_blood           7402         9847               75.17\n",
      "25          potassium_serum             36         9847                0.37\n",
      "26             sodium_blood           8375         9847               85.05\n",
      "27             sodium_serum             38         9847                0.39\n",
      "28            urea_nitrogen           2392         9847               24.29\n",
      "\n",
      "2023-09-21 19:19:29,309 - Anomalies - INFO - Dropping columns with above 25.0 % missingness\n",
      "2023-09-21 19:19:29,955 - Anomalies - INFO - Saving data to lab_measurements_min_icd_dropped.csv\n",
      "2023-09-21 19:19:30,037 - Anomalies - INFO - Done!!\n",
      "2023-09-21 19:19:30,449 - Anomalies - INFO - Parsing command line arguments\n",
      "2023-09-21 19:19:30,450 - Anomalies - INFO - Start!!\n",
      "2023-09-21 19:19:30,450 - Anomalies - INFO - args.source_file: /home/yram0006/phd/chapter_2/workspace/mortality_data/standardisation_experiment/extract/lab_measurements_max_icd.csv\n",
      "2023-09-21 19:19:30,450 - Anomalies - INFO - args.chunksize: 10\n",
      "2023-09-21 19:19:30,450 - Anomalies - INFO - args.id_columns: ['person_id']\n",
      "2023-09-21 19:19:30,450 - Anomalies - INFO - args.drop: True\n",
      "2023-09-21 19:19:30,450 - Anomalies - INFO - args.percentage: 25.0\n",
      "2023-09-21 19:19:30,450 - Anomalies - INFO - args.save_path: /home/yram0006/phd/chapter_2/workspace/mortality_data/standardisation_experiment/dropped\n",
      "2023-09-21 19:19:30,450 - Anomalies - INFO - Calculating Missingnes\n",
      "2023-09-21 19:19:34,941 - Anomalies - INFO - Missingness Report\n",
      "2023-09-21 19:19:34,945 - Anomalies - INFO - \n",
      "\n",
      "                column_name  missing_count  total_count  percentage_missing\n",
      "0                   albumin           4436         9847               45.05\n",
      "1                 anion_gap           2394         9847               24.31\n",
      "2                      aptt           3125         9847               31.74\n",
      "3     band_form_neutrophils           6927         9847               70.35\n",
      "4      base_excess_in_blood           5498         9847               55.83\n",
      "5               bicarbonate             39         9847                0.40\n",
      "6                 bilirubin           3648         9847               37.05\n",
      "7       carbondioxide_blood           5492         9847               55.77\n",
      "8       carbondioxide_serum           5491         9847               55.76\n",
      "9            chloride_blood           8612         9847               87.46\n",
      "10           chloride_serum             44         9847                0.45\n",
      "11               creatinine             33         9847                0.34\n",
      "12            glucose_serum             37         9847                0.38\n",
      "13            glucose_urine           9039         9847               91.79\n",
      "14               hematocrit           2387         9847               24.24\n",
      "15               hemoglobin             46         9847                0.47\n",
      "16                      inr           3070         9847               31.18\n",
      "17                  lactate           3236         9847               32.86\n",
      "18    leukocytes_blood_auto           9765         9847               99.17\n",
      "19  leukocytes_blood_manual           2398         9847               24.35\n",
      "20                   oxygen           5493         9847               55.78\n",
      "21                 ph_blood           5312         9847               53.95\n",
      "22             ph_bodyfluid           9725         9847               98.76\n",
      "23           platelet_count           2387         9847               24.24\n",
      "24          potassium_blood           7402         9847               75.17\n",
      "25          potassium_serum             36         9847                0.37\n",
      "26             sodium_blood           8375         9847               85.05\n",
      "27             sodium_serum             38         9847                0.39\n",
      "28            urea_nitrogen           2392         9847               24.29\n",
      "\n",
      "2023-09-21 19:19:34,945 - Anomalies - INFO - Dropping columns with above 25.0 % missingness\n",
      "2023-09-21 19:19:35,593 - Anomalies - INFO - Saving data to lab_measurements_max_icd_dropped.csv\n",
      "2023-09-21 19:19:35,675 - Anomalies - INFO - Done!!\n",
      "2023-09-21 19:19:36,097 - Anomalies - INFO - Parsing command line arguments\n",
      "2023-09-21 19:19:36,098 - Anomalies - INFO - Start!!\n",
      "2023-09-21 19:19:36,098 - Anomalies - INFO - args.source_file: /home/yram0006/phd/chapter_2/workspace/mortality_data/standardisation_experiment/extract/lab_measurements_avg_icd.csv\n",
      "2023-09-21 19:19:36,099 - Anomalies - INFO - args.chunksize: 10\n",
      "2023-09-21 19:19:36,099 - Anomalies - INFO - args.id_columns: ['person_id']\n",
      "2023-09-21 19:19:36,099 - Anomalies - INFO - args.drop: True\n",
      "2023-09-21 19:19:36,099 - Anomalies - INFO - args.percentage: 25.0\n",
      "2023-09-21 19:19:36,099 - Anomalies - INFO - args.save_path: /home/yram0006/phd/chapter_2/workspace/mortality_data/standardisation_experiment/dropped\n",
      "2023-09-21 19:19:36,099 - Anomalies - INFO - Calculating Missingnes\n",
      "2023-09-21 19:19:40,588 - Anomalies - INFO - Missingness Report\n",
      "2023-09-21 19:19:40,592 - Anomalies - INFO - \n",
      "\n",
      "                column_name  missing_count  total_count  percentage_missing\n",
      "0                   albumin           4436         9847               45.05\n",
      "1                 anion_gap           2394         9847               24.31\n",
      "2                      aptt           3125         9847               31.74\n",
      "3     band_form_neutrophils           6927         9847               70.35\n",
      "4      base_excess_in_blood           5498         9847               55.83\n",
      "5               bicarbonate             39         9847                0.40\n",
      "6                 bilirubin           3648         9847               37.05\n",
      "7       carbondioxide_blood           5492         9847               55.77\n",
      "8       carbondioxide_serum           5491         9847               55.76\n",
      "9            chloride_blood           8612         9847               87.46\n",
      "10           chloride_serum             44         9847                0.45\n",
      "11               creatinine             33         9847                0.34\n",
      "12            glucose_serum             37         9847                0.38\n",
      "13            glucose_urine           9039         9847               91.79\n",
      "14               hematocrit           2387         9847               24.24\n",
      "15               hemoglobin             46         9847                0.47\n",
      "16                      inr           3070         9847               31.18\n",
      "17                  lactate           3236         9847               32.86\n",
      "18    leukocytes_blood_auto           9765         9847               99.17\n",
      "19  leukocytes_blood_manual           2398         9847               24.35\n",
      "20                   oxygen           5493         9847               55.78\n",
      "21                 ph_blood           5312         9847               53.95\n",
      "22             ph_bodyfluid           9725         9847               98.76\n",
      "23           platelet_count           2387         9847               24.24\n",
      "24          potassium_blood           7402         9847               75.17\n",
      "25          potassium_serum             36         9847                0.37\n",
      "26             sodium_blood           8375         9847               85.05\n",
      "27             sodium_serum             38         9847                0.39\n",
      "28            urea_nitrogen           2392         9847               24.29\n",
      "\n",
      "2023-09-21 19:19:40,592 - Anomalies - INFO - Dropping columns with above 25.0 % missingness\n",
      "2023-09-21 19:19:41,226 - Anomalies - INFO - Saving data to lab_measurements_avg_icd_dropped.csv\n",
      "2023-09-21 19:19:41,333 - Anomalies - INFO - Done!!\n",
      "2023-09-21 19:19:41,753 - Anomalies - INFO - Parsing command line arguments\n",
      "2023-09-21 19:19:41,754 - Anomalies - INFO - Start!!\n",
      "2023-09-21 19:19:41,754 - Anomalies - INFO - args.source_file: /home/yram0006/phd/chapter_2/workspace/mortality_data/standardisation_experiment/extract/lab_measurements_stddev_icd.csv\n",
      "2023-09-21 19:19:41,754 - Anomalies - INFO - args.chunksize: 10\n",
      "2023-09-21 19:19:41,754 - Anomalies - INFO - args.id_columns: ['person_id']\n",
      "2023-09-21 19:19:41,754 - Anomalies - INFO - args.drop: True\n",
      "2023-09-21 19:19:41,754 - Anomalies - INFO - args.percentage: 25.0\n",
      "2023-09-21 19:19:41,754 - Anomalies - INFO - args.save_path: /home/yram0006/phd/chapter_2/workspace/mortality_data/standardisation_experiment/dropped\n",
      "2023-09-21 19:19:41,754 - Anomalies - INFO - Calculating Missingnes\n",
      "2023-09-21 19:19:46,217 - Anomalies - INFO - Missingness Report\n",
      "2023-09-21 19:19:46,220 - Anomalies - INFO - \n",
      "\n",
      "                column_name  missing_count  total_count  percentage_missing\n",
      "0                   albumin           6412         9847               65.12\n",
      "1                 anion_gap           2517         9847               25.56\n",
      "2                      aptt           4037         9847               41.00\n",
      "3     band_form_neutrophils           7937         9847               80.60\n",
      "4      base_excess_in_blood           6157         9847               62.53\n",
      "5               bicarbonate            263         9847                2.67\n",
      "6                 bilirubin           4907         9847               49.83\n",
      "7       carbondioxide_blood           6154         9847               62.50\n",
      "8       carbondioxide_serum           6151         9847               62.47\n",
      "9            chloride_blood           9093         9847               92.34\n",
      "10           chloride_serum            266         9847                2.70\n",
      "11               creatinine            262         9847                2.66\n",
      "12            glucose_serum            268         9847                2.72\n",
      "13            glucose_urine           9488         9847               96.35\n",
      "14               hematocrit           2492         9847               25.31\n",
      "15               hemoglobin            280         9847                2.84\n",
      "16                      inr           3916         9847               39.77\n",
      "17                  lactate           4409         9847               44.78\n",
      "18    leukocytes_blood_auto           9813         9847               99.65\n",
      "19  leukocytes_blood_manual           2501         9847               25.40\n",
      "20                   oxygen           6156         9847               62.52\n",
      "21                 ph_blood           5988         9847               60.81\n",
      "22             ph_bodyfluid           9798         9847               99.50\n",
      "23           platelet_count           2500         9847               25.39\n",
      "24          potassium_blood           8193         9847               83.20\n",
      "25          potassium_serum            267         9847                2.71\n",
      "26             sodium_blood           8924         9847               90.63\n",
      "27             sodium_serum            267         9847                2.71\n",
      "28            urea_nitrogen           2517         9847               25.56\n",
      "\n",
      "2023-09-21 19:19:46,220 - Anomalies - INFO - Dropping columns with above 25.0 % missingness\n",
      "2023-09-21 19:19:46,861 - Anomalies - INFO - Saving data to lab_measurements_stddev_icd_dropped.csv\n",
      "2023-09-21 19:19:46,950 - Anomalies - INFO - Done!!\n",
      "2023-09-21 19:19:47,369 - Anomalies - INFO - Parsing command line arguments\n",
      "2023-09-21 19:19:47,370 - Anomalies - INFO - Start!!\n",
      "2023-09-21 19:19:47,370 - Anomalies - INFO - args.source_file: /home/yram0006/phd/chapter_2/workspace/mortality_data/standardisation_experiment/extract/lab_measurements_first_icd.csv\n",
      "2023-09-21 19:19:47,370 - Anomalies - INFO - args.chunksize: 10\n",
      "2023-09-21 19:19:47,370 - Anomalies - INFO - args.id_columns: ['person_id']\n",
      "2023-09-21 19:19:47,370 - Anomalies - INFO - args.drop: True\n",
      "2023-09-21 19:19:47,370 - Anomalies - INFO - args.percentage: 25.0\n",
      "2023-09-21 19:19:47,370 - Anomalies - INFO - args.save_path: /home/yram0006/phd/chapter_2/workspace/mortality_data/standardisation_experiment/dropped\n",
      "2023-09-21 19:19:47,370 - Anomalies - INFO - Calculating Missingnes\n",
      "2023-09-21 19:19:51,901 - Anomalies - INFO - Missingness Report\n",
      "2023-09-21 19:19:51,905 - Anomalies - INFO - \n",
      "\n",
      "                column_name  missing_count  total_count  percentage_missing\n",
      "0                   albumin           4436         9847               45.05\n",
      "1                 anion_gap           2394         9847               24.31\n",
      "2                      aptt           3125         9847               31.74\n",
      "3     band_form_neutrophils           6927         9847               70.35\n",
      "4      base_excess_in_blood           5498         9847               55.83\n",
      "5               bicarbonate             39         9847                0.40\n",
      "6                 bilirubin           3648         9847               37.05\n",
      "7       carbondioxide_blood           5492         9847               55.77\n",
      "8       carbondioxide_serum           5491         9847               55.76\n",
      "9            chloride_blood           8612         9847               87.46\n",
      "10           chloride_serum             44         9847                0.45\n",
      "11               creatinine             33         9847                0.34\n",
      "12            glucose_serum             37         9847                0.38\n",
      "13            glucose_urine           9039         9847               91.79\n",
      "14               hematocrit           2387         9847               24.24\n",
      "15               hemoglobin             46         9847                0.47\n",
      "16                      inr           3070         9847               31.18\n",
      "17                  lactate           3236         9847               32.86\n",
      "18    leukocytes_blood_auto           9765         9847               99.17\n",
      "19  leukocytes_blood_manual           2398         9847               24.35\n",
      "20                   oxygen           5493         9847               55.78\n",
      "21                 ph_blood           5312         9847               53.95\n",
      "22             ph_bodyfluid           9725         9847               98.76\n",
      "23           platelet_count           2387         9847               24.24\n",
      "24          potassium_blood           7402         9847               75.17\n",
      "25          potassium_serum             36         9847                0.37\n",
      "26             sodium_blood           8375         9847               85.05\n",
      "27             sodium_serum             38         9847                0.39\n",
      "28            urea_nitrogen           2392         9847               24.29\n",
      "\n",
      "2023-09-21 19:19:51,905 - Anomalies - INFO - Dropping columns with above 25.0 % missingness\n",
      "2023-09-21 19:19:52,553 - Anomalies - INFO - Saving data to lab_measurements_first_icd_dropped.csv\n",
      "2023-09-21 19:19:52,635 - Anomalies - INFO - Done!!\n",
      "2023-09-21 19:19:53,045 - Anomalies - INFO - Parsing command line arguments\n",
      "2023-09-21 19:19:53,046 - Anomalies - INFO - Start!!\n",
      "2023-09-21 19:19:53,046 - Anomalies - INFO - args.source_file: /home/yram0006/phd/chapter_2/workspace/mortality_data/standardisation_experiment/extract/lab_measurements_last_icd.csv\n",
      "2023-09-21 19:19:53,046 - Anomalies - INFO - args.chunksize: 10\n",
      "2023-09-21 19:19:53,046 - Anomalies - INFO - args.id_columns: ['person_id']\n",
      "2023-09-21 19:19:53,046 - Anomalies - INFO - args.drop: True\n",
      "2023-09-21 19:19:53,046 - Anomalies - INFO - args.percentage: 25.0\n",
      "2023-09-21 19:19:53,046 - Anomalies - INFO - args.save_path: /home/yram0006/phd/chapter_2/workspace/mortality_data/standardisation_experiment/dropped\n",
      "2023-09-21 19:19:53,046 - Anomalies - INFO - Calculating Missingnes\n",
      "2023-09-21 19:19:57,557 - Anomalies - INFO - Missingness Report\n",
      "2023-09-21 19:19:57,561 - Anomalies - INFO - \n",
      "\n",
      "                column_name  missing_count  total_count  percentage_missing\n",
      "0                   albumin           4436         9847               45.05\n",
      "1                 anion_gap           2394         9847               24.31\n",
      "2                      aptt           3125         9847               31.74\n",
      "3     band_form_neutrophils           6927         9847               70.35\n",
      "4      base_excess_in_blood           5498         9847               55.83\n",
      "5               bicarbonate             39         9847                0.40\n",
      "6                 bilirubin           3648         9847               37.05\n",
      "7       carbondioxide_blood           5492         9847               55.77\n",
      "8       carbondioxide_serum           5491         9847               55.76\n",
      "9            chloride_blood           8612         9847               87.46\n",
      "10           chloride_serum             44         9847                0.45\n",
      "11               creatinine             33         9847                0.34\n",
      "12            glucose_serum             37         9847                0.38\n",
      "13            glucose_urine           9039         9847               91.79\n",
      "14               hematocrit           2387         9847               24.24\n",
      "15               hemoglobin             46         9847                0.47\n",
      "16                      inr           3070         9847               31.18\n",
      "17                  lactate           3236         9847               32.86\n",
      "18    leukocytes_blood_auto           9765         9847               99.17\n",
      "19  leukocytes_blood_manual           2398         9847               24.35\n",
      "20                   oxygen           5493         9847               55.78\n",
      "21                 ph_blood           5312         9847               53.95\n",
      "22             ph_bodyfluid           9725         9847               98.76\n",
      "23           platelet_count           2387         9847               24.24\n",
      "24          potassium_blood           7402         9847               75.17\n",
      "25          potassium_serum             36         9847                0.37\n",
      "26             sodium_blood           8375         9847               85.05\n",
      "27             sodium_serum             38         9847                0.39\n",
      "28            urea_nitrogen           2392         9847               24.29\n",
      "\n",
      "2023-09-21 19:19:57,561 - Anomalies - INFO - Dropping columns with above 25.0 % missingness\n",
      "2023-09-21 19:19:58,212 - Anomalies - INFO - Saving data to lab_measurements_last_icd_dropped.csv\n",
      "2023-09-21 19:19:58,293 - Anomalies - INFO - Done!!\n"
     ]
    },
    {
     "data": {
      "text/plain": [
       "0"
      ]
     },
     "execution_count": 7,
     "metadata": {},
     "output_type": "execute_result"
    }
   ],
   "source": [
    "import os\n",
    "\n",
    "\n",
    "os.system(\n",
    "    '''cd /superbugai-data/yash/chapter_1/workspace/EHRQC;'''\n",
    "    +\n",
    "    '''.venv/bin/python -m ehrqc.qc.Coverage ''' + dataDirName + '''extract/demographics_icd.csv 10 person_id -d -p 0 -sp ''' + dataDirName + '''dropped;'''\n",
    "    +\n",
    "    '''.venv/bin/python -m ehrqc.qc.Coverage ''' + dataDirName + '''extract/deaths.csv 10 person_id -d -p 100 -sp ''' + dataDirName + '''dropped;'''\n",
    "    +\n",
    "    '''.venv/bin/python -m ehrqc.qc.Coverage ''' + dataDirName + '''extract/vitals_min_icd.csv 10 person_id -d -p 25 -sp ''' + dataDirName + '''dropped;'''\n",
    "    +\n",
    "    '''.venv/bin/python -m ehrqc.qc.Coverage ''' + dataDirName + '''extract/vitals_max_icd.csv 10 person_id -d -p 25 -sp ''' + dataDirName + '''dropped;'''\n",
    "    +\n",
    "    '''.venv/bin/python -m ehrqc.qc.Coverage ''' + dataDirName + '''extract/vitals_avg_icd.csv 10 person_id -d -p 25 -sp ''' + dataDirName + '''dropped;'''\n",
    "    +\n",
    "    '''.venv/bin/python -m ehrqc.qc.Coverage ''' + dataDirName + '''extract/vitals_stddev_icd.csv 10 person_id -d -p 25 -sp ''' + dataDirName + '''dropped;'''\n",
    "    +\n",
    "    '''.venv/bin/python -m ehrqc.qc.Coverage ''' + dataDirName + '''extract/vitals_first_icd.csv 10 person_id -d -p 25 -sp ''' + dataDirName + '''dropped;'''\n",
    "    +\n",
    "    '''.venv/bin/python -m ehrqc.qc.Coverage ''' + dataDirName + '''extract/vitals_last_icd.csv 10 person_id -d -p 25 -sp ''' + dataDirName + '''dropped;'''\n",
    "    +\n",
    "    '''.venv/bin/python -m ehrqc.qc.Coverage ''' + dataDirName + '''extract/lab_measurements_min_icd.csv 10 person_id -d -p 25 -sp ''' + dataDirName + '''dropped;'''\n",
    "    +\n",
    "    '''.venv/bin/python -m ehrqc.qc.Coverage ''' + dataDirName + '''extract/lab_measurements_max_icd.csv 10 person_id -d -p 25 -sp ''' + dataDirName + '''dropped;'''\n",
    "    +\n",
    "    '''.venv/bin/python -m ehrqc.qc.Coverage ''' + dataDirName + '''extract/lab_measurements_avg_icd.csv 10 person_id -d -p 25 -sp ''' + dataDirName + '''dropped;'''\n",
    "    +\n",
    "    '''.venv/bin/python -m ehrqc.qc.Coverage ''' + dataDirName + '''extract/lab_measurements_stddev_icd.csv 10 person_id -d -p 25 -sp ''' + dataDirName + '''dropped;'''\n",
    "    +\n",
    "    '''.venv/bin/python -m ehrqc.qc.Coverage ''' + dataDirName + '''extract/lab_measurements_first_icd.csv 10 person_id -d -p 25 -sp ''' + dataDirName + '''dropped;'''\n",
    "    +\n",
    "    '''.venv/bin/python -m ehrqc.qc.Coverage ''' + dataDirName + '''extract/lab_measurements_last_icd.csv 10 person_id -d -p 25 -sp ''' + dataDirName + '''dropped;'''\n",
    "    )"
   ]
  },
  {
   "cell_type": "markdown",
   "metadata": {},
   "source": [
    "### Read dropped files"
   ]
  },
  {
   "cell_type": "code",
   "execution_count": 8,
   "metadata": {},
   "outputs": [],
   "source": [
    "import pandas as pd\n",
    "\n",
    "demographics =  pd.read_csv(dataDirName + \"dropped/demographics_icd_dropped.csv\")\n",
    "vitals_min =  pd.read_csv(dataDirName + \"dropped/vitals_min_icd_dropped.csv\")\n",
    "vitals_max =  pd.read_csv(dataDirName + \"dropped/vitals_max_icd_dropped.csv\")\n",
    "vitals_avg =  pd.read_csv(dataDirName + \"dropped/vitals_avg_icd_dropped.csv\")\n",
    "vitals_stddev =  pd.read_csv(dataDirName + \"dropped/vitals_stddev_icd_dropped.csv\")\n",
    "vitals_first =  pd.read_csv(dataDirName + \"dropped/vitals_first_icd_dropped.csv\")\n",
    "vitals_last =  pd.read_csv(dataDirName + \"dropped/vitals_last_icd_dropped.csv\")\n",
    "lab_measurements_min =  pd.read_csv(dataDirName + \"dropped/lab_measurements_min_icd_dropped.csv\")\n",
    "lab_measurements_max =  pd.read_csv(dataDirName + \"dropped/lab_measurements_max_icd_dropped.csv\")\n",
    "lab_measurements_avg =  pd.read_csv(dataDirName + \"dropped/lab_measurements_avg_icd_dropped.csv\")\n",
    "lab_measurements_stddev =  pd.read_csv(dataDirName + \"dropped/lab_measurements_stddev_icd_dropped.csv\")\n",
    "lab_measurements_first =  pd.read_csv(dataDirName + \"dropped/lab_measurements_first_icd_dropped.csv\")\n",
    "lab_measurements_last =  pd.read_csv(dataDirName + \"dropped/lab_measurements_last_icd_dropped.csv\")"
   ]
  },
  {
   "cell_type": "markdown",
   "metadata": {},
   "source": [
    "### Display counts post dropping"
   ]
  },
  {
   "cell_type": "code",
   "execution_count": 9,
   "metadata": {},
   "outputs": [
    {
     "data": {
      "text/plain": [
       "(12241, 4)"
      ]
     },
     "execution_count": 9,
     "metadata": {},
     "output_type": "execute_result"
    }
   ],
   "source": [
    "demographics.shape"
   ]
  },
  {
   "cell_type": "code",
   "execution_count": 10,
   "metadata": {},
   "outputs": [
    {
     "data": {
      "text/plain": [
       "((5184, 11), (5184, 11), (5184, 11), (5184, 11), (5184, 11), (5184, 11))"
      ]
     },
     "execution_count": 10,
     "metadata": {},
     "output_type": "execute_result"
    }
   ],
   "source": [
    "vitals_min.shape, vitals_max.shape, vitals_avg.shape, vitals_stddev.shape, vitals_first.shape, vitals_last.shape"
   ]
  },
  {
   "cell_type": "code",
   "execution_count": 11,
   "metadata": {},
   "outputs": [
    {
     "data": {
      "text/plain": [
       "((9847, 13), (9847, 13), (9847, 13), (9847, 8), (9847, 13), (9847, 13))"
      ]
     },
     "execution_count": 11,
     "metadata": {},
     "output_type": "execute_result"
    }
   ],
   "source": [
    "lab_measurements_min.shape, lab_measurements_max.shape, lab_measurements_avg.shape, lab_measurements_stddev.shape, lab_measurements_first.shape, lab_measurements_last.shape"
   ]
  },
  {
   "cell_type": "markdown",
   "metadata": {},
   "source": [
    "## Missing data imputation\n",
    "\n",
    "Data imputation is performed for all the missing data"
   ]
  },
  {
   "cell_type": "markdown",
   "metadata": {},
   "source": [
    "### Impute missing data"
   ]
  },
  {
   "cell_type": "code",
   "execution_count": 12,
   "metadata": {},
   "outputs": [
    {
     "name": "stdout",
     "output_type": "stream",
     "text": [
      "2023-09-21 19:19:59,998 - EHRQC - INFO - Parsing command line arguments\n",
      "2023-09-21 19:19:59,999 - EHRQC - INFO - args.action: impute\n",
      "2023-09-21 19:19:59,999 - EHRQC - INFO - args.source_path: /home/yram0006/phd/chapter_2/workspace/mortality_data/standardisation_experiment/dropped/vitals_min_icd_dropped.csv\n",
      "2023-09-21 19:19:59,999 - EHRQC - INFO - args.percentage: None\n",
      "2023-09-21 19:19:59,999 - EHRQC - INFO - args.save_path: /home/yram0006/phd/chapter_2/workspace/mortality_data/standardisation_experiment/imputed/vitals_min_icd.csv\n",
      "2023-09-21 19:19:59,999 - EHRQC - INFO - args.algorithm: miss_forest\n",
      "Iteration: 0\n",
      "Iteration: 1\n",
      "Iteration: 2\n",
      "Iteration: 3\n",
      "Iteration: 4\n",
      "2023-09-21 19:20:15,934 - EHRQC - INFO - Done!!\n",
      "2023-09-21 19:20:17,661 - EHRQC - INFO - Parsing command line arguments\n",
      "2023-09-21 19:20:17,662 - EHRQC - INFO - args.action: impute\n",
      "2023-09-21 19:20:17,662 - EHRQC - INFO - args.source_path: /home/yram0006/phd/chapter_2/workspace/mortality_data/standardisation_experiment/dropped/vitals_max_icd_dropped.csv\n",
      "2023-09-21 19:20:17,662 - EHRQC - INFO - args.percentage: None\n",
      "2023-09-21 19:20:17,663 - EHRQC - INFO - args.save_path: /home/yram0006/phd/chapter_2/workspace/mortality_data/standardisation_experiment/imputed/vitals_max_icd.csv\n",
      "2023-09-21 19:20:17,663 - EHRQC - INFO - args.algorithm: miss_forest\n",
      "Iteration: 0\n",
      "Iteration: 1\n",
      "2023-09-21 19:20:24,038 - EHRQC - INFO - Done!!\n",
      "2023-09-21 19:20:25,730 - EHRQC - INFO - Parsing command line arguments\n",
      "2023-09-21 19:20:25,731 - EHRQC - INFO - args.action: impute\n",
      "2023-09-21 19:20:25,731 - EHRQC - INFO - args.source_path: /home/yram0006/phd/chapter_2/workspace/mortality_data/standardisation_experiment/dropped/vitals_avg_icd_dropped.csv\n",
      "2023-09-21 19:20:25,731 - EHRQC - INFO - args.percentage: None\n",
      "2023-09-21 19:20:25,731 - EHRQC - INFO - args.save_path: /home/yram0006/phd/chapter_2/workspace/mortality_data/standardisation_experiment/imputed/vitals_avg_icd.csv\n",
      "2023-09-21 19:20:25,731 - EHRQC - INFO - args.algorithm: miss_forest\n",
      "Iteration: 0\n",
      "Iteration: 1\n",
      "Iteration: 2\n",
      "Iteration: 3\n",
      "2023-09-21 19:20:42,179 - EHRQC - INFO - Done!!\n",
      "2023-09-21 19:20:43,897 - EHRQC - INFO - Parsing command line arguments\n",
      "2023-09-21 19:20:43,898 - EHRQC - INFO - args.action: impute\n",
      "2023-09-21 19:20:43,898 - EHRQC - INFO - args.source_path: /home/yram0006/phd/chapter_2/workspace/mortality_data/standardisation_experiment/dropped/vitals_stddev_icd_dropped.csv\n",
      "2023-09-21 19:20:43,898 - EHRQC - INFO - args.percentage: None\n",
      "2023-09-21 19:20:43,898 - EHRQC - INFO - args.save_path: /home/yram0006/phd/chapter_2/workspace/mortality_data/standardisation_experiment/imputed/vitals_stddev_icd.csv\n",
      "2023-09-21 19:20:43,898 - EHRQC - INFO - args.algorithm: miss_forest\n",
      "Iteration: 0\n",
      "Iteration: 1\n",
      "Iteration: 2\n",
      "Iteration: 3\n",
      "Iteration: 4\n",
      "2023-09-21 19:21:04,659 - EHRQC - INFO - Done!!\n",
      "2023-09-21 19:21:06,413 - EHRQC - INFO - Parsing command line arguments\n",
      "2023-09-21 19:21:06,414 - EHRQC - INFO - args.action: impute\n",
      "2023-09-21 19:21:06,414 - EHRQC - INFO - args.source_path: /home/yram0006/phd/chapter_2/workspace/mortality_data/standardisation_experiment/dropped/vitals_first_icd_dropped.csv\n",
      "2023-09-21 19:21:06,414 - EHRQC - INFO - args.percentage: None\n",
      "2023-09-21 19:21:06,414 - EHRQC - INFO - args.save_path: /home/yram0006/phd/chapter_2/workspace/mortality_data/standardisation_experiment/imputed/vitals_first_icd.csv\n",
      "2023-09-21 19:21:06,414 - EHRQC - INFO - args.algorithm: miss_forest\n",
      "Iteration: 0\n",
      "Iteration: 1\n",
      "Iteration: 2\n",
      "Iteration: 3\n",
      "Iteration: 4\n",
      "Iteration: 5\n",
      "Iteration: 6\n",
      "2023-09-21 19:21:29,115 - EHRQC - INFO - Done!!\n",
      "2023-09-21 19:21:30,854 - EHRQC - INFO - Parsing command line arguments\n",
      "2023-09-21 19:21:30,855 - EHRQC - INFO - args.action: impute\n",
      "2023-09-21 19:21:30,855 - EHRQC - INFO - args.source_path: /home/yram0006/phd/chapter_2/workspace/mortality_data/standardisation_experiment/dropped/vitals_last_icd_dropped.csv\n",
      "2023-09-21 19:21:30,855 - EHRQC - INFO - args.percentage: None\n",
      "2023-09-21 19:21:30,855 - EHRQC - INFO - args.save_path: /home/yram0006/phd/chapter_2/workspace/mortality_data/standardisation_experiment/imputed/vitals_last_icd.csv\n",
      "2023-09-21 19:21:30,855 - EHRQC - INFO - args.algorithm: miss_forest\n",
      "Iteration: 0\n",
      "Iteration: 1\n",
      "Iteration: 2\n",
      "Iteration: 3\n",
      "Iteration: 4\n",
      "Iteration: 5\n",
      "2023-09-21 19:21:50,732 - EHRQC - INFO - Done!!\n",
      "2023-09-21 19:21:52,466 - EHRQC - INFO - Parsing command line arguments\n",
      "2023-09-21 19:21:52,468 - EHRQC - INFO - args.action: impute\n",
      "2023-09-21 19:21:52,468 - EHRQC - INFO - args.source_path: /home/yram0006/phd/chapter_2/workspace/mortality_data/standardisation_experiment/dropped/lab_measurements_min_icd_dropped.csv\n",
      "2023-09-21 19:21:52,468 - EHRQC - INFO - args.percentage: None\n",
      "2023-09-21 19:21:52,468 - EHRQC - INFO - args.save_path: /home/yram0006/phd/chapter_2/workspace/mortality_data/standardisation_experiment/imputed/lab_measurements_min_icd.csv\n",
      "2023-09-21 19:21:52,468 - EHRQC - INFO - args.algorithm: miss_forest\n",
      "Iteration: 0\n",
      "Iteration: 1\n",
      "Iteration: 2\n",
      "Iteration: 3\n",
      "Iteration: 4\n",
      "2023-09-21 19:22:26,720 - EHRQC - INFO - Done!!\n",
      "2023-09-21 19:22:28,458 - EHRQC - INFO - Parsing command line arguments\n",
      "2023-09-21 19:22:28,459 - EHRQC - INFO - args.action: impute\n",
      "2023-09-21 19:22:28,459 - EHRQC - INFO - args.source_path: /home/yram0006/phd/chapter_2/workspace/mortality_data/standardisation_experiment/dropped/lab_measurements_max_icd_dropped.csv\n",
      "2023-09-21 19:22:28,459 - EHRQC - INFO - args.percentage: None\n",
      "2023-09-21 19:22:28,459 - EHRQC - INFO - args.save_path: /home/yram0006/phd/chapter_2/workspace/mortality_data/standardisation_experiment/imputed/lab_measurements_max_icd.csv\n",
      "2023-09-21 19:22:28,459 - EHRQC - INFO - args.algorithm: miss_forest\n",
      "Iteration: 0\n",
      "Iteration: 1\n",
      "Iteration: 2\n",
      "Iteration: 3\n",
      "Iteration: 4\n",
      "2023-09-21 19:23:04,048 - EHRQC - INFO - Done!!\n",
      "2023-09-21 19:23:05,760 - EHRQC - INFO - Parsing command line arguments\n",
      "2023-09-21 19:23:05,762 - EHRQC - INFO - args.action: impute\n",
      "2023-09-21 19:23:05,762 - EHRQC - INFO - args.source_path: /home/yram0006/phd/chapter_2/workspace/mortality_data/standardisation_experiment/dropped/lab_measurements_avg_icd_dropped.csv\n",
      "2023-09-21 19:23:05,762 - EHRQC - INFO - args.percentage: None\n",
      "2023-09-21 19:23:05,762 - EHRQC - INFO - args.save_path: /home/yram0006/phd/chapter_2/workspace/mortality_data/standardisation_experiment/imputed/lab_measurements_avg_icd.csv\n",
      "2023-09-21 19:23:05,762 - EHRQC - INFO - args.algorithm: miss_forest\n",
      "Iteration: 0\n",
      "Iteration: 1\n",
      "2023-09-21 19:23:22,757 - EHRQC - INFO - Done!!\n",
      "2023-09-21 19:23:24,483 - EHRQC - INFO - Parsing command line arguments\n",
      "2023-09-21 19:23:24,484 - EHRQC - INFO - args.action: impute\n",
      "2023-09-21 19:23:24,484 - EHRQC - INFO - args.source_path: /home/yram0006/phd/chapter_2/workspace/mortality_data/standardisation_experiment/dropped/lab_measurements_stddev_icd_dropped.csv\n",
      "2023-09-21 19:23:24,484 - EHRQC - INFO - args.percentage: None\n",
      "2023-09-21 19:23:24,484 - EHRQC - INFO - args.save_path: /home/yram0006/phd/chapter_2/workspace/mortality_data/standardisation_experiment/imputed/lab_measurements_stddev_icd.csv\n",
      "2023-09-21 19:23:24,484 - EHRQC - INFO - args.algorithm: miss_forest\n",
      "Iteration: 0\n",
      "Iteration: 1\n",
      "Iteration: 2\n",
      "2023-09-21 19:23:36,958 - EHRQC - INFO - Done!!\n",
      "2023-09-21 19:23:38,685 - EHRQC - INFO - Parsing command line arguments\n",
      "2023-09-21 19:23:38,686 - EHRQC - INFO - args.action: impute\n",
      "2023-09-21 19:23:38,686 - EHRQC - INFO - args.source_path: /home/yram0006/phd/chapter_2/workspace/mortality_data/standardisation_experiment/dropped/lab_measurements_first_icd_dropped.csv\n",
      "2023-09-21 19:23:38,687 - EHRQC - INFO - args.percentage: None\n",
      "2023-09-21 19:23:38,687 - EHRQC - INFO - args.save_path: /home/yram0006/phd/chapter_2/workspace/mortality_data/standardisation_experiment/imputed/lab_measurements_first_icd.csv\n",
      "2023-09-21 19:23:38,687 - EHRQC - INFO - args.algorithm: miss_forest\n",
      "Iteration: 0\n",
      "Iteration: 1\n",
      "Iteration: 2\n",
      "Iteration: 3\n",
      "2023-09-21 19:24:06,339 - EHRQC - INFO - Done!!\n",
      "2023-09-21 19:24:08,057 - EHRQC - INFO - Parsing command line arguments\n",
      "2023-09-21 19:24:08,058 - EHRQC - INFO - args.action: impute\n",
      "2023-09-21 19:24:08,058 - EHRQC - INFO - args.source_path: /home/yram0006/phd/chapter_2/workspace/mortality_data/standardisation_experiment/dropped/lab_measurements_last_icd_dropped.csv\n",
      "2023-09-21 19:24:08,058 - EHRQC - INFO - args.percentage: None\n",
      "2023-09-21 19:24:08,058 - EHRQC - INFO - args.save_path: /home/yram0006/phd/chapter_2/workspace/mortality_data/standardisation_experiment/imputed/lab_measurements_last_icd.csv\n",
      "2023-09-21 19:24:08,058 - EHRQC - INFO - args.algorithm: miss_forest\n",
      "Iteration: 0\n",
      "Iteration: 1\n",
      "Iteration: 2\n",
      "Iteration: 3\n",
      "Iteration: 4\n",
      "2023-09-21 19:24:42,070 - EHRQC - INFO - Done!!\n"
     ]
    },
    {
     "data": {
      "text/plain": [
       "0"
      ]
     },
     "execution_count": 12,
     "metadata": {},
     "output_type": "execute_result"
    }
   ],
   "source": [
    "import os\n",
    "\n",
    "\n",
    "os.system(\n",
    "    '''cd /superbugai-data/yash/chapter_1/workspace/EHRQC;'''\n",
    "    +\n",
    "    '''.venv/bin/python -m ehrqc.qc.Impute \"impute\" \"''' + dataDirName + '''dropped/vitals_min_icd_dropped.csv\"  -sp=\"''' + dataDirName + '''imputed/vitals_min_icd.csv\" -a=\"miss_forest\";'''\n",
    "    +\n",
    "    '''.venv/bin/python -m ehrqc.qc.Impute \"impute\" \"''' + dataDirName + '''dropped/vitals_max_icd_dropped.csv\"  -sp=\"''' + dataDirName + '''imputed/vitals_max_icd.csv\" -a=\"miss_forest\";'''\n",
    "    +\n",
    "    '''.venv/bin/python -m ehrqc.qc.Impute \"impute\" \"''' + dataDirName + '''dropped/vitals_avg_icd_dropped.csv\"  -sp=\"''' + dataDirName + '''imputed/vitals_avg_icd.csv\" -a=\"miss_forest\";'''\n",
    "    +\n",
    "    '''.venv/bin/python -m ehrqc.qc.Impute \"impute\" \"''' + dataDirName + '''dropped/vitals_stddev_icd_dropped.csv\"  -sp=\"''' + dataDirName + '''imputed/vitals_stddev_icd.csv\" -a=\"miss_forest\";'''\n",
    "    +\n",
    "    '''.venv/bin/python -m ehrqc.qc.Impute \"impute\" \"''' + dataDirName + '''dropped/vitals_first_icd_dropped.csv\"  -sp=\"''' + dataDirName + '''imputed/vitals_first_icd.csv\" -a=\"miss_forest\";'''\n",
    "    +\n",
    "    '''.venv/bin/python -m ehrqc.qc.Impute \"impute\" \"''' + dataDirName + '''dropped/vitals_last_icd_dropped.csv\"  -sp=\"''' + dataDirName + '''imputed/vitals_last_icd.csv\" -a=\"miss_forest\";'''\n",
    "    +\n",
    "    '''.venv/bin/python -m ehrqc.qc.Impute \"impute\" \"''' + dataDirName + '''dropped/lab_measurements_min_icd_dropped.csv\"  -sp=\"''' + dataDirName + '''imputed/lab_measurements_min_icd.csv\" -a=\"miss_forest\";'''\n",
    "    +\n",
    "    '''.venv/bin/python -m ehrqc.qc.Impute \"impute\" \"''' + dataDirName + '''dropped/lab_measurements_max_icd_dropped.csv\"  -sp=\"''' + dataDirName + '''imputed/lab_measurements_max_icd.csv\" -a=\"miss_forest\";'''\n",
    "    +\n",
    "    '''.venv/bin/python -m ehrqc.qc.Impute \"impute\" \"''' + dataDirName + '''dropped/lab_measurements_avg_icd_dropped.csv\"  -sp=\"''' + dataDirName + '''imputed/lab_measurements_avg_icd.csv\" -a=\"miss_forest\";'''\n",
    "    +\n",
    "    '''.venv/bin/python -m ehrqc.qc.Impute \"impute\" \"''' + dataDirName + '''dropped/lab_measurements_stddev_icd_dropped.csv\"  -sp=\"''' + dataDirName + '''imputed/lab_measurements_stddev_icd.csv\" -a=\"miss_forest\";'''\n",
    "    +\n",
    "    '''.venv/bin/python -m ehrqc.qc.Impute \"impute\" \"''' + dataDirName + '''dropped/lab_measurements_first_icd_dropped.csv\"  -sp=\"''' + dataDirName + '''imputed/lab_measurements_first_icd.csv\" -a=\"miss_forest\";'''\n",
    "    +\n",
    "    '''.venv/bin/python -m ehrqc.qc.Impute \"impute\" \"''' + dataDirName + '''dropped/lab_measurements_last_icd_dropped.csv\"  -sp=\"''' + dataDirName + '''imputed/lab_measurements_last_icd.csv\" -a=\"miss_forest\";'''\n",
    "    )\n"
   ]
  },
  {
   "cell_type": "markdown",
   "metadata": {},
   "source": [
    "### Read imputed files"
   ]
  },
  {
   "cell_type": "code",
   "execution_count": 13,
   "metadata": {},
   "outputs": [],
   "source": [
    "import pandas as pd\n",
    "\n",
    "\n",
    "vitals_min =  pd.read_csv(dataDirName + \"imputed/vitals_min_icd.csv\")\n",
    "vitals_max =  pd.read_csv(dataDirName + \"imputed/vitals_max_icd.csv\")\n",
    "vitals_avg =  pd.read_csv(dataDirName + \"imputed/vitals_avg_icd.csv\")\n",
    "vitals_stddev =  pd.read_csv(dataDirName + \"imputed/vitals_stddev_icd.csv\")\n",
    "vitals_first =  pd.read_csv(dataDirName + \"imputed/vitals_first_icd.csv\")\n",
    "vitals_last =  pd.read_csv(dataDirName + \"imputed/vitals_last_icd.csv\")\n",
    "lab_measurements_min =  pd.read_csv(dataDirName + \"imputed/lab_measurements_min_icd.csv\")\n",
    "lab_measurements_max =  pd.read_csv(dataDirName + \"imputed/lab_measurements_max_icd.csv\")\n",
    "lab_measurements_avg =  pd.read_csv(dataDirName + \"imputed/lab_measurements_avg_icd.csv\")\n",
    "lab_measurements_stddev =  pd.read_csv(dataDirName + \"imputed/lab_measurements_stddev_icd.csv\")\n",
    "lab_measurements_first =  pd.read_csv(dataDirName + \"imputed/lab_measurements_first_icd.csv\")\n",
    "lab_measurements_last =  pd.read_csv(dataDirName + \"imputed/lab_measurements_last_icd.csv\")"
   ]
  },
  {
   "cell_type": "markdown",
   "metadata": {},
   "source": [
    "### Display counts post imputation"
   ]
  },
  {
   "cell_type": "code",
   "execution_count": 14,
   "metadata": {},
   "outputs": [
    {
     "data": {
      "text/plain": [
       "(12241, 4)"
      ]
     },
     "execution_count": 14,
     "metadata": {},
     "output_type": "execute_result"
    }
   ],
   "source": [
    "demographics.shape"
   ]
  },
  {
   "cell_type": "code",
   "execution_count": 15,
   "metadata": {},
   "outputs": [
    {
     "data": {
      "text/plain": [
       "((5184, 11), (5184, 11), (5184, 11), (5184, 11), (5184, 11), (5184, 11))"
      ]
     },
     "execution_count": 15,
     "metadata": {},
     "output_type": "execute_result"
    }
   ],
   "source": [
    "vitals_min.shape, vitals_max.shape, vitals_avg.shape, vitals_stddev.shape, vitals_first.shape, vitals_last.shape"
   ]
  },
  {
   "cell_type": "code",
   "execution_count": 16,
   "metadata": {},
   "outputs": [
    {
     "data": {
      "text/plain": [
       "((9847, 13), (9847, 13), (9847, 13), (9847, 8), (9847, 13), (9847, 13))"
      ]
     },
     "execution_count": 16,
     "metadata": {},
     "output_type": "execute_result"
    }
   ],
   "source": [
    "lab_measurements_min.shape, lab_measurements_max.shape, lab_measurements_avg.shape, lab_measurements_stddev.shape, lab_measurements_first.shape, lab_measurements_last.shape"
   ]
  },
  {
   "cell_type": "markdown",
   "metadata": {},
   "source": [
    "## Outlier removal using IRT"
   ]
  },
  {
   "cell_type": "markdown",
   "metadata": {},
   "source": [
    "### Remove outliers"
   ]
  },
  {
   "cell_type": "code",
   "execution_count": 17,
   "metadata": {},
   "outputs": [
    {
     "name": "stdout",
     "output_type": "stream",
     "text": [
      "2023-09-21 19:24:43,989 - Anomalies - INFO - Parsing command line arguments\n",
      "2023-09-21 19:24:43,990 - Anomalies - INFO - Start!!\n",
      "2023-09-21 19:24:43,990 - Anomalies - INFO - args.source_path: /home/yram0006/phd/chapter_2/workspace/mortality_data/standardisation_experiment/imputed/vitals_min_icd.csv\n",
      "2023-09-21 19:24:43,991 - Anomalies - INFO - args.save_path: /home/yram0006/phd/chapter_2/workspace/mortality_data/standardisation_experiment/outlier_removal/\n",
      "2023-09-21 19:24:43,991 - Anomalies - INFO - args.save_prefix: vitals_min_icd\n",
      "2023-09-21 19:24:43,991 - Anomalies - INFO - args.detect_missing: False\n",
      "2023-09-21 19:24:43,991 - Anomalies - INFO - args.detect_outliers: False\n",
      "2023-09-21 19:24:43,991 - Anomalies - INFO - args.detect_errors: False\n",
      "2023-09-21 19:24:43,991 - Anomalies - INFO - args.detect_inconsistencies: False\n",
      "2023-09-21 19:24:43,991 - Anomalies - INFO - args.correct_missing: False\n",
      "2023-09-21 19:24:43,991 - Anomalies - INFO - args.correct_outliers: True\n"
     ]
    },
    {
     "name": "stderr",
     "output_type": "stream",
     "text": [
      "Warning message:\n",
      "In sqrt(diag(solve(Hess))) : NaNs produced\n"
     ]
    },
    {
     "name": "stdout",
     "output_type": "stream",
     "text": [
      "2023-09-21 19:24:54,159 - Anomalies - INFO - Done!!\n",
      "2023-09-21 19:24:55,864 - Anomalies - INFO - Parsing command line arguments\n",
      "2023-09-21 19:24:55,865 - Anomalies - INFO - Start!!\n",
      "2023-09-21 19:24:55,865 - Anomalies - INFO - args.source_path: /home/yram0006/phd/chapter_2/workspace/mortality_data/standardisation_experiment/imputed/vitals_max_icd.csv\n",
      "2023-09-21 19:24:55,865 - Anomalies - INFO - args.save_path: /home/yram0006/phd/chapter_2/workspace/mortality_data/standardisation_experiment/outlier_removal/\n",
      "2023-09-21 19:24:55,865 - Anomalies - INFO - args.save_prefix: vitals_max_icd\n",
      "2023-09-21 19:24:55,865 - Anomalies - INFO - args.detect_missing: False\n",
      "2023-09-21 19:24:55,865 - Anomalies - INFO - args.detect_outliers: False\n",
      "2023-09-21 19:24:55,865 - Anomalies - INFO - args.detect_errors: False\n",
      "2023-09-21 19:24:55,865 - Anomalies - INFO - args.detect_inconsistencies: False\n",
      "2023-09-21 19:24:55,865 - Anomalies - INFO - args.correct_missing: False\n",
      "2023-09-21 19:24:55,865 - Anomalies - INFO - args.correct_outliers: True\n"
     ]
    },
    {
     "name": "stderr",
     "output_type": "stream",
     "text": [
      "Warning message:\n",
      "In sqrt(diag(solve(Hess))) : NaNs produced\n"
     ]
    },
    {
     "name": "stdout",
     "output_type": "stream",
     "text": [
      "2023-09-21 19:25:05,826 - Anomalies - INFO - Done!!\n",
      "2023-09-21 19:25:07,570 - Anomalies - INFO - Parsing command line arguments\n",
      "2023-09-21 19:25:07,571 - Anomalies - INFO - Start!!\n",
      "2023-09-21 19:25:07,571 - Anomalies - INFO - args.source_path: /home/yram0006/phd/chapter_2/workspace/mortality_data/standardisation_experiment/imputed/vitals_avg_icd.csv\n",
      "2023-09-21 19:25:07,571 - Anomalies - INFO - args.save_path: /home/yram0006/phd/chapter_2/workspace/mortality_data/standardisation_experiment/outlier_removal/\n",
      "2023-09-21 19:25:07,571 - Anomalies - INFO - args.save_prefix: vitals_avg_icd\n",
      "2023-09-21 19:25:07,571 - Anomalies - INFO - args.detect_missing: False\n",
      "2023-09-21 19:25:07,571 - Anomalies - INFO - args.detect_outliers: False\n",
      "2023-09-21 19:25:07,571 - Anomalies - INFO - args.detect_errors: False\n",
      "2023-09-21 19:25:07,571 - Anomalies - INFO - args.detect_inconsistencies: False\n",
      "2023-09-21 19:25:07,571 - Anomalies - INFO - args.correct_missing: False\n",
      "2023-09-21 19:25:07,571 - Anomalies - INFO - args.correct_outliers: True\n"
     ]
    },
    {
     "name": "stderr",
     "output_type": "stream",
     "text": [
      "Warning message:\n",
      "In sqrt(diag(solve(Hess))) : NaNs produced\n"
     ]
    },
    {
     "name": "stdout",
     "output_type": "stream",
     "text": [
      "2023-09-21 19:25:17,848 - Anomalies - INFO - Done!!\n",
      "2023-09-21 19:25:19,549 - Anomalies - INFO - Parsing command line arguments\n",
      "2023-09-21 19:25:19,551 - Anomalies - INFO - Start!!\n",
      "2023-09-21 19:25:19,551 - Anomalies - INFO - args.source_path: /home/yram0006/phd/chapter_2/workspace/mortality_data/standardisation_experiment/imputed/vitals_stddev_icd.csv\n",
      "2023-09-21 19:25:19,551 - Anomalies - INFO - args.save_path: /home/yram0006/phd/chapter_2/workspace/mortality_data/standardisation_experiment/outlier_removal/\n",
      "2023-09-21 19:25:19,551 - Anomalies - INFO - args.save_prefix: vitals_stddev_icd\n",
      "2023-09-21 19:25:19,551 - Anomalies - INFO - args.detect_missing: False\n",
      "2023-09-21 19:25:19,551 - Anomalies - INFO - args.detect_outliers: False\n",
      "2023-09-21 19:25:19,551 - Anomalies - INFO - args.detect_errors: False\n",
      "2023-09-21 19:25:19,551 - Anomalies - INFO - args.detect_inconsistencies: False\n",
      "2023-09-21 19:25:19,551 - Anomalies - INFO - args.correct_missing: False\n",
      "2023-09-21 19:25:19,551 - Anomalies - INFO - args.correct_outliers: True\n"
     ]
    },
    {
     "name": "stderr",
     "output_type": "stream",
     "text": [
      "Warning message:\n",
      "In sqrt(diag(solve(Hess))) : NaNs produced\n"
     ]
    },
    {
     "name": "stdout",
     "output_type": "stream",
     "text": [
      "2023-09-21 19:25:29,636 - Anomalies - INFO - Done!!\n",
      "2023-09-21 19:25:31,330 - Anomalies - INFO - Parsing command line arguments\n",
      "2023-09-21 19:25:31,331 - Anomalies - INFO - Start!!\n",
      "2023-09-21 19:25:31,331 - Anomalies - INFO - args.source_path: /home/yram0006/phd/chapter_2/workspace/mortality_data/standardisation_experiment/imputed/vitals_first_icd.csv\n",
      "2023-09-21 19:25:31,331 - Anomalies - INFO - args.save_path: /home/yram0006/phd/chapter_2/workspace/mortality_data/standardisation_experiment/outlier_removal/\n",
      "2023-09-21 19:25:31,331 - Anomalies - INFO - args.save_prefix: vitals_first_icd\n",
      "2023-09-21 19:25:31,331 - Anomalies - INFO - args.detect_missing: False\n",
      "2023-09-21 19:25:31,331 - Anomalies - INFO - args.detect_outliers: False\n",
      "2023-09-21 19:25:31,331 - Anomalies - INFO - args.detect_errors: False\n",
      "2023-09-21 19:25:31,331 - Anomalies - INFO - args.detect_inconsistencies: False\n",
      "2023-09-21 19:25:31,331 - Anomalies - INFO - args.correct_missing: False\n",
      "2023-09-21 19:25:31,331 - Anomalies - INFO - args.correct_outliers: True\n"
     ]
    },
    {
     "name": "stderr",
     "output_type": "stream",
     "text": [
      "Warning message:\n",
      "In sqrt(diag(solve(Hess))) : NaNs produced\n"
     ]
    },
    {
     "name": "stdout",
     "output_type": "stream",
     "text": [
      "2023-09-21 19:25:41,277 - Anomalies - INFO - Done!!\n",
      "2023-09-21 19:25:42,973 - Anomalies - INFO - Parsing command line arguments\n",
      "2023-09-21 19:25:42,974 - Anomalies - INFO - Start!!\n",
      "2023-09-21 19:25:42,974 - Anomalies - INFO - args.source_path: /home/yram0006/phd/chapter_2/workspace/mortality_data/standardisation_experiment/imputed/vitals_last_icd.csv\n",
      "2023-09-21 19:25:42,974 - Anomalies - INFO - args.save_path: /home/yram0006/phd/chapter_2/workspace/mortality_data/standardisation_experiment/outlier_removal/\n",
      "2023-09-21 19:25:42,974 - Anomalies - INFO - args.save_prefix: vitals_last_icd\n",
      "2023-09-21 19:25:42,974 - Anomalies - INFO - args.detect_missing: False\n",
      "2023-09-21 19:25:42,974 - Anomalies - INFO - args.detect_outliers: False\n",
      "2023-09-21 19:25:42,974 - Anomalies - INFO - args.detect_errors: False\n",
      "2023-09-21 19:25:42,974 - Anomalies - INFO - args.detect_inconsistencies: False\n",
      "2023-09-21 19:25:42,974 - Anomalies - INFO - args.correct_missing: False\n",
      "2023-09-21 19:25:42,974 - Anomalies - INFO - args.correct_outliers: True\n"
     ]
    },
    {
     "name": "stderr",
     "output_type": "stream",
     "text": [
      "Warning message:\n",
      "In sqrt(diag(solve(Hess))) : NaNs produced\n"
     ]
    },
    {
     "name": "stdout",
     "output_type": "stream",
     "text": [
      "2023-09-21 19:25:53,136 - Anomalies - INFO - Done!!\n",
      "2023-09-21 19:25:54,828 - Anomalies - INFO - Parsing command line arguments\n",
      "2023-09-21 19:25:54,830 - Anomalies - INFO - Start!!\n",
      "2023-09-21 19:25:54,830 - Anomalies - INFO - args.source_path: /home/yram0006/phd/chapter_2/workspace/mortality_data/standardisation_experiment/imputed/lab_measurements_min_icd.csv\n",
      "2023-09-21 19:25:54,830 - Anomalies - INFO - args.save_path: /home/yram0006/phd/chapter_2/workspace/mortality_data/standardisation_experiment/outlier_removal/\n",
      "2023-09-21 19:25:54,830 - Anomalies - INFO - args.save_prefix: lab_measurements_min_icd\n",
      "2023-09-21 19:25:54,830 - Anomalies - INFO - args.detect_missing: False\n",
      "2023-09-21 19:25:54,830 - Anomalies - INFO - args.detect_outliers: False\n",
      "2023-09-21 19:25:54,830 - Anomalies - INFO - args.detect_errors: False\n",
      "2023-09-21 19:25:54,830 - Anomalies - INFO - args.detect_inconsistencies: False\n",
      "2023-09-21 19:25:54,830 - Anomalies - INFO - args.correct_missing: False\n",
      "2023-09-21 19:25:54,830 - Anomalies - INFO - args.correct_outliers: True\n",
      "2023-09-21 19:26:11,535 - Anomalies - INFO - Done!!\n",
      "2023-09-21 19:26:13,244 - Anomalies - INFO - Parsing command line arguments\n",
      "2023-09-21 19:26:13,246 - Anomalies - INFO - Start!!\n",
      "2023-09-21 19:26:13,246 - Anomalies - INFO - args.source_path: /home/yram0006/phd/chapter_2/workspace/mortality_data/standardisation_experiment/imputed/lab_measurements_max_icd.csv\n",
      "2023-09-21 19:26:13,246 - Anomalies - INFO - args.save_path: /home/yram0006/phd/chapter_2/workspace/mortality_data/standardisation_experiment/outlier_removal/\n",
      "2023-09-21 19:26:13,246 - Anomalies - INFO - args.save_prefix: lab_measurements_max_icd\n",
      "2023-09-21 19:26:13,246 - Anomalies - INFO - args.detect_missing: False\n",
      "2023-09-21 19:26:13,246 - Anomalies - INFO - args.detect_outliers: False\n",
      "2023-09-21 19:26:13,246 - Anomalies - INFO - args.detect_errors: False\n",
      "2023-09-21 19:26:13,246 - Anomalies - INFO - args.detect_inconsistencies: False\n",
      "2023-09-21 19:26:13,246 - Anomalies - INFO - args.correct_missing: False\n",
      "2023-09-21 19:26:13,246 - Anomalies - INFO - args.correct_outliers: True\n",
      "2023-09-21 19:26:29,996 - Anomalies - INFO - Done!!\n",
      "2023-09-21 19:26:31,742 - Anomalies - INFO - Parsing command line arguments\n",
      "2023-09-21 19:26:31,743 - Anomalies - INFO - Start!!\n",
      "2023-09-21 19:26:31,743 - Anomalies - INFO - args.source_path: /home/yram0006/phd/chapter_2/workspace/mortality_data/standardisation_experiment/imputed/lab_measurements_avg_icd.csv\n",
      "2023-09-21 19:26:31,743 - Anomalies - INFO - args.save_path: /home/yram0006/phd/chapter_2/workspace/mortality_data/standardisation_experiment/outlier_removal/\n",
      "2023-09-21 19:26:31,743 - Anomalies - INFO - args.save_prefix: lab_measurements_avg_icd\n",
      "2023-09-21 19:26:31,743 - Anomalies - INFO - args.detect_missing: False\n",
      "2023-09-21 19:26:31,743 - Anomalies - INFO - args.detect_outliers: False\n",
      "2023-09-21 19:26:31,743 - Anomalies - INFO - args.detect_errors: False\n",
      "2023-09-21 19:26:31,744 - Anomalies - INFO - args.detect_inconsistencies: False\n",
      "2023-09-21 19:26:31,744 - Anomalies - INFO - args.correct_missing: False\n",
      "2023-09-21 19:26:31,744 - Anomalies - INFO - args.correct_outliers: True\n",
      "2023-09-21 19:26:48,563 - Anomalies - INFO - Done!!\n",
      "2023-09-21 19:26:50,292 - Anomalies - INFO - Parsing command line arguments\n",
      "2023-09-21 19:26:50,293 - Anomalies - INFO - Start!!\n",
      "2023-09-21 19:26:50,294 - Anomalies - INFO - args.source_path: /home/yram0006/phd/chapter_2/workspace/mortality_data/standardisation_experiment/imputed/lab_measurements_stddev_icd.csv\n",
      "2023-09-21 19:26:50,294 - Anomalies - INFO - args.save_path: /home/yram0006/phd/chapter_2/workspace/mortality_data/standardisation_experiment/outlier_removal/\n",
      "2023-09-21 19:26:50,294 - Anomalies - INFO - args.save_prefix: lab_measurements_stddev_icd\n",
      "2023-09-21 19:26:50,294 - Anomalies - INFO - args.detect_missing: False\n",
      "2023-09-21 19:26:50,294 - Anomalies - INFO - args.detect_outliers: False\n",
      "2023-09-21 19:26:50,294 - Anomalies - INFO - args.detect_errors: False\n",
      "2023-09-21 19:26:50,294 - Anomalies - INFO - args.detect_inconsistencies: False\n",
      "2023-09-21 19:26:50,294 - Anomalies - INFO - args.correct_missing: False\n",
      "2023-09-21 19:26:50,294 - Anomalies - INFO - args.correct_outliers: True\n"
     ]
    },
    {
     "name": "stderr",
     "output_type": "stream",
     "text": [
      "Warning message:\n",
      "In sqrt(diag(solve(Hess))) : NaNs produced\n"
     ]
    },
    {
     "name": "stdout",
     "output_type": "stream",
     "text": [
      "2023-09-21 19:27:06,796 - Anomalies - INFO - Done!!\n",
      "2023-09-21 19:27:08,507 - Anomalies - INFO - Parsing command line arguments\n",
      "2023-09-21 19:27:08,508 - Anomalies - INFO - Start!!\n",
      "2023-09-21 19:27:08,508 - Anomalies - INFO - args.source_path: /home/yram0006/phd/chapter_2/workspace/mortality_data/standardisation_experiment/imputed/lab_measurements_first_icd.csv\n",
      "2023-09-21 19:27:08,508 - Anomalies - INFO - args.save_path: /home/yram0006/phd/chapter_2/workspace/mortality_data/standardisation_experiment/outlier_removal/\n",
      "2023-09-21 19:27:08,508 - Anomalies - INFO - args.save_prefix: lab_measurements_first_icd\n",
      "2023-09-21 19:27:08,508 - Anomalies - INFO - args.detect_missing: False\n",
      "2023-09-21 19:27:08,508 - Anomalies - INFO - args.detect_outliers: False\n",
      "2023-09-21 19:27:08,508 - Anomalies - INFO - args.detect_errors: False\n",
      "2023-09-21 19:27:08,508 - Anomalies - INFO - args.detect_inconsistencies: False\n",
      "2023-09-21 19:27:08,508 - Anomalies - INFO - args.correct_missing: False\n",
      "2023-09-21 19:27:08,508 - Anomalies - INFO - args.correct_outliers: True\n",
      "2023-09-21 19:27:25,158 - Anomalies - INFO - Done!!\n",
      "2023-09-21 19:27:26,884 - Anomalies - INFO - Parsing command line arguments\n",
      "2023-09-21 19:27:26,885 - Anomalies - INFO - Start!!\n",
      "2023-09-21 19:27:26,885 - Anomalies - INFO - args.source_path: /home/yram0006/phd/chapter_2/workspace/mortality_data/standardisation_experiment/imputed/lab_measurements_last_icd.csv\n",
      "2023-09-21 19:27:26,885 - Anomalies - INFO - args.save_path: /home/yram0006/phd/chapter_2/workspace/mortality_data/standardisation_experiment/outlier_removal/\n",
      "2023-09-21 19:27:26,885 - Anomalies - INFO - args.save_prefix: lab_measurements_last_icd\n",
      "2023-09-21 19:27:26,885 - Anomalies - INFO - args.detect_missing: False\n",
      "2023-09-21 19:27:26,885 - Anomalies - INFO - args.detect_outliers: False\n",
      "2023-09-21 19:27:26,885 - Anomalies - INFO - args.detect_errors: False\n",
      "2023-09-21 19:27:26,885 - Anomalies - INFO - args.detect_inconsistencies: False\n",
      "2023-09-21 19:27:26,885 - Anomalies - INFO - args.correct_missing: False\n",
      "2023-09-21 19:27:26,885 - Anomalies - INFO - args.correct_outliers: True\n",
      "2023-09-21 19:27:43,597 - Anomalies - INFO - Done!!\n"
     ]
    },
    {
     "data": {
      "text/plain": [
       "0"
      ]
     },
     "execution_count": 17,
     "metadata": {},
     "output_type": "execute_result"
    }
   ],
   "source": [
    "import os\n",
    "\n",
    "\n",
    "os.system(\n",
    "    '''cd /superbugai-data/yash/chapter_1/workspace/EHRQC;'''\n",
    "    +\n",
    "    '''.venv/bin/python -m ehrqc.qc.Anomalies ''' + dataDirName + '''imputed/vitals_min_icd.csv ''' + dataDirName + '''outlier_removal/ vitals_min_icd -co;'''\n",
    "    +\n",
    "    '''.venv/bin/python -m ehrqc.qc.Anomalies ''' + dataDirName + '''imputed/vitals_max_icd.csv ''' + dataDirName + '''outlier_removal/ vitals_max_icd -co;'''\n",
    "    +\n",
    "    '''.venv/bin/python -m ehrqc.qc.Anomalies ''' + dataDirName + '''imputed/vitals_avg_icd.csv ''' + dataDirName + '''outlier_removal/ vitals_avg_icd -co;'''\n",
    "    +\n",
    "    '''.venv/bin/python -m ehrqc.qc.Anomalies ''' + dataDirName + '''imputed/vitals_stddev_icd.csv ''' + dataDirName + '''outlier_removal/ vitals_stddev_icd -co;'''\n",
    "    +\n",
    "    '''.venv/bin/python -m ehrqc.qc.Anomalies ''' + dataDirName + '''imputed/vitals_first_icd.csv ''' + dataDirName + '''outlier_removal/ vitals_first_icd -co;'''\n",
    "    +\n",
    "    '''.venv/bin/python -m ehrqc.qc.Anomalies ''' + dataDirName + '''imputed/vitals_last_icd.csv ''' + dataDirName + '''outlier_removal/ vitals_last_icd -co;'''\n",
    "    +\n",
    "    '''.venv/bin/python -m ehrqc.qc.Anomalies ''' + dataDirName + '''imputed/lab_measurements_min_icd.csv ''' + dataDirName + '''outlier_removal/ lab_measurements_min_icd -co;'''\n",
    "    +\n",
    "    '''.venv/bin/python -m ehrqc.qc.Anomalies ''' + dataDirName + '''imputed/lab_measurements_max_icd.csv ''' + dataDirName + '''outlier_removal/ lab_measurements_max_icd -co;'''\n",
    "    +\n",
    "    '''.venv/bin/python -m ehrqc.qc.Anomalies ''' + dataDirName + '''imputed/lab_measurements_avg_icd.csv ''' + dataDirName + '''outlier_removal/ lab_measurements_avg_icd -co;'''\n",
    "    +\n",
    "    '''.venv/bin/python -m ehrqc.qc.Anomalies ''' + dataDirName + '''imputed/lab_measurements_stddev_icd.csv ''' + dataDirName + '''outlier_removal/ lab_measurements_stddev_icd -co;'''\n",
    "    +\n",
    "    '''.venv/bin/python -m ehrqc.qc.Anomalies ''' + dataDirName + '''imputed/lab_measurements_first_icd.csv ''' + dataDirName + '''outlier_removal/ lab_measurements_first_icd -co;'''\n",
    "    +\n",
    "    '''.venv/bin/python -m ehrqc.qc.Anomalies ''' + dataDirName + '''imputed/lab_measurements_last_icd.csv ''' + dataDirName + '''outlier_removal/ lab_measurements_last_icd -co;'''\n",
    "    )\n"
   ]
  },
  {
   "cell_type": "markdown",
   "metadata": {},
   "source": [
    "### Read outlier removed files"
   ]
  },
  {
   "cell_type": "code",
   "execution_count": 18,
   "metadata": {},
   "outputs": [],
   "source": [
    "import pandas as pd\n",
    "\n",
    "\n",
    "vitals_min =  pd.read_csv(dataDirName + \"outlier_removal/vitals_min_icd_corrected.csv\")\n",
    "vitals_max =  pd.read_csv(dataDirName + \"outlier_removal/vitals_max_icd_corrected.csv\")\n",
    "vitals_avg =  pd.read_csv(dataDirName + \"outlier_removal/vitals_avg_icd_corrected.csv\")\n",
    "vitals_stddev =  pd.read_csv(dataDirName + \"outlier_removal/vitals_stddev_icd_corrected.csv\")\n",
    "vitals_first =  pd.read_csv(dataDirName + \"outlier_removal/vitals_first_icd_corrected.csv\")\n",
    "vitals_last =  pd.read_csv(dataDirName + \"outlier_removal/vitals_last_icd_corrected.csv\")\n",
    "lab_measurements_min =  pd.read_csv(dataDirName + \"outlier_removal/lab_measurements_min_icd_corrected.csv\")\n",
    "lab_measurements_max =  pd.read_csv(dataDirName + \"outlier_removal/lab_measurements_max_icd_corrected.csv\")\n",
    "lab_measurements_avg =  pd.read_csv(dataDirName + \"outlier_removal/lab_measurements_avg_icd_corrected.csv\")\n",
    "lab_measurements_stddev =  pd.read_csv(dataDirName + \"outlier_removal/lab_measurements_stddev_icd_corrected.csv\")\n",
    "lab_measurements_first =  pd.read_csv(dataDirName + \"outlier_removal/lab_measurements_first_icd_corrected.csv\")\n",
    "lab_measurements_last =  pd.read_csv(dataDirName + \"outlier_removal/lab_measurements_last_icd_corrected.csv\")"
   ]
  },
  {
   "cell_type": "markdown",
   "metadata": {},
   "source": [
    "### Display counts post outlier removal"
   ]
  },
  {
   "cell_type": "code",
   "execution_count": 19,
   "metadata": {},
   "outputs": [
    {
     "data": {
      "text/plain": [
       "(12241, 4)"
      ]
     },
     "execution_count": 19,
     "metadata": {},
     "output_type": "execute_result"
    }
   ],
   "source": [
    "demographics.shape"
   ]
  },
  {
   "cell_type": "code",
   "execution_count": 20,
   "metadata": {},
   "outputs": [
    {
     "data": {
      "text/plain": [
       "((3942, 11), (3942, 11), (3942, 11), (3942, 11), (3942, 11), (3942, 11))"
      ]
     },
     "execution_count": 20,
     "metadata": {},
     "output_type": "execute_result"
    }
   ],
   "source": [
    "vitals_min.shape, vitals_max.shape, vitals_avg.shape, vitals_stddev.shape, vitals_first.shape, vitals_last.shape"
   ]
  },
  {
   "cell_type": "code",
   "execution_count": 21,
   "metadata": {},
   "outputs": [
    {
     "data": {
      "text/plain": [
       "((7448, 13), (7450, 13), (7450, 13), (7584, 8), (7450, 13), (7448, 13))"
      ]
     },
     "execution_count": 21,
     "metadata": {},
     "output_type": "execute_result"
    }
   ],
   "source": [
    "lab_measurements_min.shape, lab_measurements_max.shape, lab_measurements_avg.shape, lab_measurements_stddev.shape, lab_measurements_first.shape, lab_measurements_last.shape"
   ]
  }
 ],
 "metadata": {
  "kernelspec": {
   "display_name": ".venv",
   "language": "python",
   "name": "python3"
  },
  "language_info": {
   "codemirror_mode": {
    "name": "ipython",
    "version": 3
   },
   "file_extension": ".py",
   "mimetype": "text/x-python",
   "name": "python",
   "nbconvert_exporter": "python",
   "pygments_lexer": "ipython3",
   "version": "3.9.5"
  },
  "orig_nbformat": 4
 },
 "nbformat": 4,
 "nbformat_minor": 2
}
