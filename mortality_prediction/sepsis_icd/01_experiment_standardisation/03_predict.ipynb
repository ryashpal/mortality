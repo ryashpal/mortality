{
 "cells": [
  {
   "cell_type": "markdown",
   "metadata": {},
   "source": [
    "# Perform prediction"
   ]
  },
  {
   "cell_type": "markdown",
   "metadata": {},
   "source": [
    "## Import libraries"
   ]
  },
  {
   "cell_type": "code",
   "execution_count": 1,
   "metadata": {},
   "outputs": [],
   "source": [
    "import os\n",
    "\n",
    "import logging\n",
    "import sys\n",
    "\n",
    "log = logging.getLogger(\"Pipeline\")\n",
    "log.setLevel(logging.INFO)\n",
    "format = logging.Formatter(\"%(asctime)s - %(name)s - %(levelname)s - %(message)s\")\n",
    "\n",
    "ch = logging.StreamHandler(sys.stdout)\n",
    "ch.setFormatter(format)\n",
    "log.addHandler(ch)\n",
    "\n",
    "import warnings\n",
    "warnings.simplefilter(action='ignore', category=Warning)\n",
    "\n",
    "module_path = os.path.abspath(os.path.join('../'))\n",
    "if module_path not in sys.path:\n",
    "    sys.path.append(module_path)\n",
    "\n",
    "import predict_mortality as pm"
   ]
  },
  {
   "cell_type": "markdown",
   "metadata": {},
   "source": [
    "## Define data directory\n",
    "\n",
    "A top level directory to store all the data for this experiment"
   ]
  },
  {
   "cell_type": "code",
   "execution_count": 2,
   "metadata": {},
   "outputs": [],
   "source": [
    "dataDirName = '/home/yram0006/phd/chapter_2/workspace/mortality_data/standardisation_experiment/'"
   ]
  },
  {
   "cell_type": "markdown",
   "metadata": {},
   "source": [
    "## Perform prediction on raw dataset"
   ]
  },
  {
   "cell_type": "markdown",
   "metadata": {},
   "source": [
    "### Copy the raw file to working directory"
   ]
  },
  {
   "cell_type": "code",
   "execution_count": 3,
   "metadata": {},
   "outputs": [
    {
     "data": {
      "text/plain": [
       "0"
      ]
     },
     "execution_count": 3,
     "metadata": {},
     "output_type": "execute_result"
    }
   ],
   "source": [
    "import os\n",
    "\n",
    "\n",
    "os.system(\n",
    "    '''cp ''' + dataDirName + '''data_matrix/data_matrix_raw.csv ''' + dataDirName + '''data_matrix.csv;'''\n",
    ")"
   ]
  },
  {
   "cell_type": "markdown",
   "metadata": {},
   "source": [
    "### Perform prediction"
   ]
  },
  {
   "cell_type": "code",
   "execution_count": 4,
   "metadata": {},
   "outputs": [
    {
     "name": "stdout",
     "output_type": "stream",
     "text": [
      "2023-09-21 20:47:27,385 - Pipeline - INFO - dirName: raw_icd_vb_0_va_72_lb_0_la_72\n",
      "2023-09-21 20:47:27,386 - Pipeline - INFO - Running Predictions for vb_0_va_72_lb_0_la_72, targetStart : 0, targetEnd : 7\n",
      "2023-09-21 20:47:27,386 - Pipeline - INFO - Reading data\n",
      "2023-09-21 20:47:28,130 - Pipeline - INFO - Formatting data\n",
      "2023-09-21 20:47:28,138 - Pipeline - INFO - Performing SFS\n",
      "2023-09-21 20:52:21,295 - Pipeline - INFO - Building XGBoost model with all the features\n",
      "2023-09-21 20:52:21,297 - Pipeline - INFO - Performing Hyperparameter optimisation\n",
      "2023-09-21 20:52:21,319 - Pipeline - INFO - Building the model\n",
      "2023-09-21 20:52:21,320 - Pipeline - INFO - Hyperparameter optimisation for: {'max_depth': range(1, 10), 'scale_pos_weight': [0.1, 0.15, 0.2, 0.25, 0.3, 0.35, 0.4]}\n",
      "2023-09-21 20:53:51,108 - Pipeline - INFO - Hyperparameter optimisation for: {'n_estimators': range(50, 250, 10)}\n",
      "2023-09-21 20:54:35,148 - Pipeline - INFO - Hyperparameter optimisation for: {'min_child_weight': range(1, 10)}\n",
      "2023-09-21 20:54:48,878 - Pipeline - INFO - Hyperparameter optimisation for: {'gamma': [0.0, 0.1, 0.2, 0.3, 0.4]}\n",
      "2023-09-21 20:54:58,281 - Pipeline - INFO - Hyperparameter optimisation for: {'subsample': [0.1, 0.2, 0.3, 0.4, 0.5, 0.6, 0.7, 0.8, 0.9], 'colsample_bytree': [0.1, 0.2, 0.3, 0.4, 0.5, 0.6, 0.7, 0.8, 0.9]}\n",
      "2023-09-21 20:56:38,048 - Pipeline - INFO - Hyperparameter optimisation for: {'reg_alpha': [0, 1e-05, 0.001, 0.1, 10]}\n",
      "2023-09-21 20:56:46,473 - Pipeline - INFO - params: {'max_depth': 3, 'scale_pos_weight': 0.15, 'n_estimators': 170, 'min_child_weight': 1, 'gamma': 0.0, 'colsample_bytree': 0.5, 'subsample': 0.9, 'reg_alpha': 0}\n",
      "2023-09-21 20:56:46,475 - Pipeline - INFO - Performing cross-validation\n",
      "2023-09-21 20:56:51,331 - Pipeline - INFO - Building XGBoost model with the selected features\n",
      "2023-09-21 20:56:51,333 - Pipeline - INFO - Performing Hyperparameter optimisation\n",
      "2023-09-21 20:56:51,334 - Pipeline - INFO - Building the model\n",
      "2023-09-21 20:56:51,334 - Pipeline - INFO - Hyperparameter optimisation for: {'max_depth': range(1, 10), 'scale_pos_weight': [0.1, 0.15, 0.2, 0.25, 0.3, 0.35, 0.4]}\n",
      "2023-09-21 20:57:36,301 - Pipeline - INFO - Hyperparameter optimisation for: {'n_estimators': range(50, 250, 10)}\n",
      "2023-09-21 20:58:00,266 - Pipeline - INFO - Hyperparameter optimisation for: {'min_child_weight': range(1, 10)}\n",
      "2023-09-21 20:58:07,633 - Pipeline - INFO - Hyperparameter optimisation for: {'gamma': [0.0, 0.1, 0.2, 0.3, 0.4]}\n",
      "2023-09-21 20:58:12,359 - Pipeline - INFO - Hyperparameter optimisation for: {'subsample': [0.1, 0.2, 0.3, 0.4, 0.5, 0.6, 0.7, 0.8, 0.9], 'colsample_bytree': [0.1, 0.2, 0.3, 0.4, 0.5, 0.6, 0.7, 0.8, 0.9]}\n",
      "2023-09-21 20:59:14,154 - Pipeline - INFO - Hyperparameter optimisation for: {'reg_alpha': [0, 1e-05, 0.001, 0.1, 10]}\n",
      "2023-09-21 20:59:18,403 - Pipeline - INFO - params: {'max_depth': 7, 'scale_pos_weight': 0.3, 'n_estimators': 140, 'min_child_weight': 2, 'gamma': 0.4, 'colsample_bytree': 0.6, 'subsample': 0.5, 'reg_alpha': 0.1}\n",
      "2023-09-21 20:59:18,405 - Pipeline - INFO - Performing cross-validation\n",
      "2023-09-21 20:59:20,890 - Pipeline - INFO - Building LR model with all the features\n",
      "2023-09-21 20:59:20,892 - Pipeline - INFO - Performing Hyperparameter optimisation\n",
      "2023-09-21 20:59:52,523 - Pipeline - INFO - Building the model\n",
      "2023-09-21 20:59:52,525 - Pipeline - INFO - Performing cross-validation\n",
      "2023-09-21 21:00:01,262 - Pipeline - INFO - Building LR model with the selected features\n",
      "2023-09-21 21:00:01,263 - Pipeline - INFO - Performing Hyperparameter optimisation\n",
      "2023-09-21 21:00:07,616 - Pipeline - INFO - Building the model\n",
      "2023-09-21 21:00:07,618 - Pipeline - INFO - Performing cross-validation\n",
      "2023-09-21 21:00:09,912 - Pipeline - INFO - Building LGBM model with all the features\n",
      "2023-09-21 21:00:09,913 - Pipeline - INFO - Performing Hyperparameter optimisation\n",
      "2023-09-21 21:00:29,765 - Pipeline - INFO - Building the model\n",
      "2023-09-21 21:00:29,767 - Pipeline - INFO - Performing cross-validation\n",
      "2023-09-21 21:00:33,298 - Pipeline - INFO - Building LGBM model with the selected features\n",
      "2023-09-21 21:00:33,299 - Pipeline - INFO - Performing Hyperparameter optimisation\n",
      "2023-09-21 21:00:44,349 - Pipeline - INFO - Building the model\n",
      "2023-09-21 21:00:44,350 - Pipeline - INFO - Performing cross-validation\n",
      "2023-09-21 21:00:46,806 - Pipeline - INFO - Building MLP model with all the features\n",
      "2023-09-21 21:00:46,807 - Pipeline - INFO - Building the model\n",
      "2023-09-21 21:00:53,176 - Pipeline - INFO - Performing cross-validation\n",
      "2023-09-21 21:01:29,725 - Pipeline - INFO - Building MLP model with the selected features\n",
      "2023-09-21 21:01:29,726 - Pipeline - INFO - Building the model\n",
      "2023-09-21 21:01:30,811 - Pipeline - INFO - Performing cross-validation\n",
      "2023-09-21 21:01:36,379 - Pipeline - INFO - Get Outputs from first level models\n",
      "2023-09-21 21:01:36,380 - Pipeline - INFO - Obtaining output probabilities\n",
      "2023-09-21 21:01:36,381 - Pipeline - INFO - Split data to test and train sets\n",
      "2023-09-21 21:01:36,389 - Pipeline - INFO - Performing Hyperparameter optimisation for XGBoost\n",
      "2023-09-21 21:01:36,390 - Pipeline - INFO - Hyperparameter optimisation for: {'max_depth': range(1, 10), 'scale_pos_weight': [0.1, 0.15, 0.2, 0.25, 0.3, 0.35, 0.4]}\n",
      "2023-09-21 21:02:14,350 - Pipeline - INFO - Hyperparameter optimisation for: {'n_estimators': range(50, 250, 10)}\n",
      "2023-09-21 21:02:34,669 - Pipeline - INFO - Hyperparameter optimisation for: {'min_child_weight': range(1, 10)}\n",
      "2023-09-21 21:02:40,644 - Pipeline - INFO - Hyperparameter optimisation for: {'gamma': [0.0, 0.1, 0.2, 0.3, 0.4]}\n",
      "2023-09-21 21:02:44,445 - Pipeline - INFO - Hyperparameter optimisation for: {'subsample': [0.1, 0.2, 0.3, 0.4, 0.5, 0.6, 0.7, 0.8, 0.9], 'colsample_bytree': [0.1, 0.2, 0.3, 0.4, 0.5, 0.6, 0.7, 0.8, 0.9]}\n",
      "2023-09-21 21:03:38,757 - Pipeline - INFO - Hyperparameter optimisation for: {'reg_alpha': [0, 1e-05, 0.001, 0.1, 10]}\n",
      "2023-09-21 21:03:41,896 - Pipeline - INFO - params: {'max_depth': 2, 'scale_pos_weight': 0.4, 'n_estimators': 60, 'min_child_weight': 9, 'gamma': 0.0, 'colsample_bytree': 0.1, 'subsample': 0.2, 'reg_alpha': 10}\n",
      "2023-09-21 21:03:41,897 - Pipeline - INFO - Performing Hyperparameter optimisation for Logistic Regression\n",
      "2023-09-21 21:03:44,800 - Pipeline - INFO - Building individual models\n",
      "2023-09-21 21:04:07,467 - Pipeline - INFO - Building Ensemble XGBoost model with all the features\n",
      "2023-09-21 21:04:07,468 - Pipeline - INFO - Performing Hyperparameter optimisation\n",
      "2023-09-21 21:04:07,469 - Pipeline - INFO - Building the model\n",
      "2023-09-21 21:04:07,470 - Pipeline - INFO - Hyperparameter optimisation for: {'max_depth': range(1, 10), 'scale_pos_weight': [0.1, 0.15, 0.2, 0.25, 0.3, 0.35, 0.4]}\n",
      "2023-09-21 21:04:47,609 - Pipeline - INFO - Hyperparameter optimisation for: {'n_estimators': range(50, 250, 10)}\n",
      "2023-09-21 21:05:07,562 - Pipeline - INFO - Hyperparameter optimisation for: {'min_child_weight': range(1, 10)}\n",
      "2023-09-21 21:05:13,239 - Pipeline - INFO - Hyperparameter optimisation for: {'gamma': [0.0, 0.1, 0.2, 0.3, 0.4]}\n",
      "2023-09-21 21:05:17,649 - Pipeline - INFO - Hyperparameter optimisation for: {'subsample': [0.1, 0.2, 0.3, 0.4, 0.5, 0.6, 0.7, 0.8, 0.9], 'colsample_bytree': [0.1, 0.2, 0.3, 0.4, 0.5, 0.6, 0.7, 0.8, 0.9]}\n",
      "2023-09-21 21:06:06,556 - Pipeline - INFO - Hyperparameter optimisation for: {'reg_alpha': [0, 1e-05, 0.001, 0.1, 10]}\n",
      "2023-09-21 21:06:10,224 - Pipeline - INFO - params: {'max_depth': 5, 'scale_pos_weight': 0.35, 'n_estimators': 90, 'min_child_weight': 5, 'gamma': 0.1, 'colsample_bytree': 0.4, 'subsample': 0.7, 'reg_alpha': 10}\n",
      "2023-09-21 21:06:10,226 - Pipeline - INFO - Performing cross-validation\n",
      "2023-09-21 21:06:11,720 - Pipeline - INFO - Building Ensemble LR model with all the features\n",
      "2023-09-21 21:06:11,722 - Pipeline - INFO - Performing Hyperparameter optimisation\n",
      "2023-09-21 21:06:12,532 - Pipeline - INFO - Building the model\n",
      "2023-09-21 21:06:12,533 - Pipeline - INFO - Performing cross-validation\n",
      "Scores:  {'xgb': {'fit_time': array([0.27186894, 0.27369261, 0.27650619, 0.27226472, 0.27807927]), 'score_time': array([0.02764225, 0.02537203, 0.0262239 , 0.02574158, 0.02581906]), 'test_accuracy': array([0.91092437, 0.91919192, 0.92255892, 0.93265993, 0.93771044]), 'test_balanced_accuracy': array([0.72076653, 0.75074111, 0.78087945, 0.77742095, 0.81527422]), 'test_average_precision': array([0.74824745, 0.75165132, 0.77454638, 0.8176901 , 0.81980438]), 'test_f1': array([0.60150376, 0.65217391, 0.68918919, 0.71014493, 0.75496689]), 'test_roc_auc': array([0.88748501, 0.89206791, 0.90406037, 0.92025243, 0.90768717]), 'test_mccf1_score': array([0.68500333, 0.72333282, 0.74987747, 0.7708118 , 0.8032024 ])}, 'lr': {'fit_time': array([0.85831738, 0.88155389, 0.20308232, 1.17716074, 0.88427186]), 'score_time': array([0.01114321, 0.01057768, 0.01060104, 0.01067042, 0.01054478]), 'test_accuracy': array([0.91428571, 0.92255892, 0.91582492, 0.93434343, 0.93771044]), 'test_balanced_accuracy': array([0.74589199, 0.78087945, 0.77692688, 0.80657115, 0.82452998]), 'test_average_precision': array([0.72562471, 0.72017893, 0.67317016, 0.82717198, 0.80074396]), 'test_f1': array([0.63829787, 0.68918919, 0.67105263, 0.73825503, 0.76129032]), 'test_roc_auc': array([0.87191899, 0.89397682, 0.89411157, 0.92961732, 0.89449327]), 'test_mccf1_score': array([0.71127458, 0.74987747, 0.73392669, 0.78969595, 0.80730965])}, 'lgbm': {'fit_time': array([0.27401567, 0.26242399, 0.25965714, 0.25918579, 0.2657578 ]), 'score_time': array([0.01362228, 0.01276898, 0.01324248, 0.01279664, 0.01264524]), 'test_accuracy': array([0.91596639, 0.91414141, 0.93097643, 0.93602694, 0.94781145]), 'test_balanced_accuracy': array([0.72836079, 0.73369565, 0.79990119, 0.78878458, 0.83047058]), 'test_average_precision': array([0.77614957, 0.7903873 , 0.77957634, 0.84416873, 0.81602954]), 'test_f1': array([0.62121212, 0.62222222, 0.72483221, 0.72857143, 0.79194631]), 'test_roc_auc': array([0.90329529, 0.91629986, 0.90217391, 0.9322898 , 0.90532874]), 'test_mccf1_score': array([0.70177827, 0.70020788, 0.77872172, 0.78500414, 0.83404964])}, 'mlp': {'fit_time': array([1.75816488, 5.21506405, 5.34403253, 2.16908479, 3.28686786]), 'score_time': array([0.01343131, 0.01328349, 0.01328683, 0.01370525, 0.01307797]), 'test_accuracy': array([0.89747899, 0.9023569 , 0.89393939, 0.8973064 , 0.8956229 ]), 'test_balanced_accuracy': array([0.70823156, 0.74085968, 0.75938735, 0.75197628, 0.81828902]), 'test_average_precision': array([0.65125017, 0.68936337, 0.63029342, 0.68673904, 0.74745919]), 'test_f1': array([0.56115108, 0.60810811, 0.61349693, 0.61146497, 0.67021277]), 'test_roc_auc': array([0.85379935, 0.85007186, 0.86765631, 0.86067194, 0.88695072]), 'test_mccf1_score': array([0.6488904 , 0.68356758, 0.68462507, 0.68405756, 0.72902472])}, 'xgb_min': {'fit_time': array([0.16312933, 0.2165494 , 0.16452932, 0.16252136, 0.16444635]), 'score_time': array([0.01496792, 0.01519442, 0.01385474, 0.01356006, 0.01421261]), 'test_accuracy': array([0.90084034, 0.90740741, 0.91750842, 0.92255892, 0.92424242]), 'test_balanced_accuracy': array([0.69631834, 0.73443676, 0.7826087 , 0.77149209, 0.78884192]), 'test_average_precision': array([0.69828362, 0.72509679, 0.7410905 , 0.75953976, 0.78435196]), 'test_f1': array([0.54961832, 0.60992908, 0.67973856, 0.68055556, 0.70198675]), 'test_roc_auc': array([0.8690989 , 0.88479159, 0.89193317, 0.87731315, 0.90488375]), 'test_mccf1_score': array([0.64348437, 0.68746441, 0.74077661, 0.74414315, 0.75986939])}, 'lr_min': {'fit_time': array([0.14283586, 0.15139842, 0.16389728, 0.14690924, 0.20210648]), 'score_time': array([0.00875711, 0.00862789, 0.00840521, 0.00821161, 0.01001096]), 'test_accuracy': array([0.91764706, 0.92087542, 0.91750842, 0.92929293, 0.93602694]), 'test_balanced_accuracy': array([0.76638762, 0.77050395, 0.77791502, 0.77075099, 0.81428413]), 'test_average_precision': array([0.73673366, 0.76679524, 0.74332005, 0.81715808, 0.78546835]), 'test_f1': array([0.66666667, 0.67586207, 0.67549669, 0.69565217, 0.75      ]), 'test_roc_auc': array([0.8898832 , 0.91093245, 0.89736795, 0.92447449, 0.89015463]), 'test_mccf1_score': array([0.73223494, 0.73995143, 0.73782242, 0.75894544, 0.7988563 ])}, 'lgbm_min': {'fit_time': array([0.14548659, 0.18307209, 0.14106655, 0.2323823 , 0.14058757]), 'score_time': array([0.01076889, 0.01141644, 0.01100445, 0.01143599, 0.01141596]), 'test_accuracy': array([0.91092437, 0.91077441, 0.92087542, 0.92424242, 0.93097643]), 'test_balanced_accuracy': array([0.71150686, 0.73171937, 0.77519763, 0.75839921, 0.79743019]), 'test_average_precision': array([0.72929876, 0.7558342 , 0.73719304, 0.80420427, 0.7591902 ]), 'test_f1': array([0.58914729, 0.61313869, 0.68027211, 0.67153285, 0.72483221]), 'test_roc_auc': array([0.87853622, 0.90662055, 0.88919332, 0.90857438, 0.895272  ]), 'test_mccf1_score': array([0.67727415, 0.69179837, 0.74289665, 0.7396562 , 0.77916008])}, 'mlp_min': {'fit_time': array([0.54195571, 0.41764784, 0.62461996, 0.60547495, 0.25260091]), 'score_time': array([0.01012373, 0.00985813, 0.01010323, 0.01045036, 0.01000547]), 'test_accuracy': array([0.89915966, 0.91245791, 0.89225589, 0.92592593, 0.90909091]), 'test_balanced_accuracy': array([0.69533019, 0.75617589, 0.76309289, 0.79224308, 0.74753588]), 'test_average_precision': array([0.70392263, 0.71179035, 0.72136274, 0.78165518, 0.73521489]), 'test_f1': array([0.54545455, 0.64383562, 0.61445783, 0.70666667, 0.63013699]), 'test_roc_auc': array([0.88382111, 0.87711103, 0.89233741, 0.90298239, 0.87093114]), 'test_mccf1_score': array([0.63948048, 0.71341636, 0.68496586, 0.76358164, 0.7026642 ])}, 'xgb_ensemble': {'fit_time': array([0.06346774, 0.0647552 , 0.059062  , 0.06331086, 0.06013703]), 'score_time': array([0.01690555, 0.01635385, 0.01673555, 0.01721787, 0.01584697]), 'test_accuracy': array([0.89597315, 0.91245791, 0.91245791, 0.89225589, 0.90909091]), 'test_balanced_accuracy': array([0.67382521, 0.71111111, 0.71111111, 0.63636364, 0.69318182]), 'test_average_precision': array([0.71845466, 0.82605401, 0.74296017, 0.78149224, 0.84537867]), 'test_f1': array([0.50793651, 0.59375   , 0.59375   , 0.42857143, 0.55737705]), 'test_roc_auc': array([0.87241985, 0.94537037, 0.88051146, 0.91632231, 0.93356989]), 'test_mccf1_score': array([0.61326635, 0.68267123, 0.68267123, 0.55782585, 0.65520628])}, 'lr_ensemble': {'fit_time': array([0.01819873, 0.0163393 , 0.01758194, 0.01835775, 0.01566887]), 'score_time': array([0.00951052, 0.00976634, 0.009377  , 0.00928783, 0.0092411 ]), 'test_accuracy': array([0.90604027, 0.92592593, 0.91919192, 0.91245791, 0.94612795]), 'test_balanced_accuracy': array([0.74369785, 0.82857143, 0.76984127, 0.74209486, 0.84634387]), 'test_average_precision': array([0.70960688, 0.81731092, 0.740917  , 0.77444324, 0.86370245]), 'test_f1': array([0.62162162, 0.73809524, 0.67567568, 0.62857143, 0.79487179]), 'test_roc_auc': array([0.87422047, 0.93218695, 0.88253968, 0.91088753, 0.93226734]), 'test_mccf1_score': array([0.69550034, 0.78616449, 0.7397306 , 0.70313473, 0.83420717])}}\n",
      "2023-09-21 21:06:13,440 - Pipeline - INFO - Saving the CV results for all the models\n",
      "2023-09-21 21:06:13,443 - Pipeline - INFO - Completed !!!\n"
     ]
    }
   ],
   "source": [
    "pm.runPredictionsForAllTargets(\n",
    "    label='raw',\n",
    "    dirPath = dataDirName,\n",
    "    vitalsBefore = 0,\n",
    "    vitalsAfter = 72,\n",
    "    labsBefore = 0,\n",
    "    labsAfter = 72,\n",
    "    # targetList = [7, 14, 21, 30, 60, 90, 120, (7, 14), (14, 21), (21, 30), (30, 60), (60, 90), (90, 120)],\n",
    "    targetList = [7],\n",
    "    )"
   ]
  },
  {
   "cell_type": "markdown",
   "metadata": {},
   "source": [
    "### Remove the data matrix file from working directory"
   ]
  },
  {
   "cell_type": "code",
   "execution_count": 5,
   "metadata": {},
   "outputs": [
    {
     "data": {
      "text/plain": [
       "0"
      ]
     },
     "execution_count": 5,
     "metadata": {},
     "output_type": "execute_result"
    }
   ],
   "source": [
    "import os\n",
    "\n",
    "\n",
    "os.system(\n",
    "    '''rm ''' + dataDirName + '''data_matrix.csv'''\n",
    ")"
   ]
  },
  {
   "cell_type": "markdown",
   "metadata": {},
   "source": [
    "## Perform prediction on standardised dataset"
   ]
  },
  {
   "cell_type": "markdown",
   "metadata": {},
   "source": [
    "### Copy the standardised file to working directory"
   ]
  },
  {
   "cell_type": "code",
   "execution_count": 6,
   "metadata": {},
   "outputs": [
    {
     "data": {
      "text/plain": [
       "0"
      ]
     },
     "execution_count": 6,
     "metadata": {},
     "output_type": "execute_result"
    }
   ],
   "source": [
    "import os\n",
    "\n",
    "\n",
    "os.system(\n",
    "    '''cp ''' + dataDirName + '''data_matrix/data_matrix_standardised.csv ''' + dataDirName + '''data_matrix.csv;'''\n",
    ")"
   ]
  },
  {
   "cell_type": "markdown",
   "metadata": {},
   "source": [
    "### Perform prediction"
   ]
  },
  {
   "cell_type": "code",
   "execution_count": 7,
   "metadata": {},
   "outputs": [
    {
     "name": "stdout",
     "output_type": "stream",
     "text": [
      "2023-09-21 21:06:13,540 - Pipeline - INFO - dirName: standardised_icd_vb_0_va_72_lb_0_la_72\n",
      "2023-09-21 21:06:13,541 - Pipeline - INFO - Running Predictions for vb_0_va_72_lb_0_la_72, targetStart : 0, targetEnd : 7\n",
      "2023-09-21 21:06:13,541 - Pipeline - INFO - Reading data\n",
      "2023-09-21 21:06:14,131 - Pipeline - INFO - Formatting data\n",
      "2023-09-21 21:06:14,138 - Pipeline - INFO - Performing SFS\n",
      "2023-09-21 21:10:52,277 - Pipeline - INFO - Building XGBoost model with all the features\n",
      "2023-09-21 21:10:52,279 - Pipeline - INFO - Performing Hyperparameter optimisation\n",
      "2023-09-21 21:10:52,279 - Pipeline - INFO - Building the model\n",
      "2023-09-21 21:10:52,280 - Pipeline - INFO - Hyperparameter optimisation for: {'max_depth': range(1, 10), 'scale_pos_weight': [0.1, 0.15, 0.2, 0.25, 0.3, 0.35, 0.4]}\n",
      "2023-09-21 21:12:22,109 - Pipeline - INFO - Hyperparameter optimisation for: {'n_estimators': range(50, 250, 10)}\n",
      "2023-09-21 21:13:06,383 - Pipeline - INFO - Hyperparameter optimisation for: {'min_child_weight': range(1, 10)}\n",
      "2023-09-21 21:13:20,414 - Pipeline - INFO - Hyperparameter optimisation for: {'gamma': [0.0, 0.1, 0.2, 0.3, 0.4]}\n",
      "2023-09-21 21:13:29,856 - Pipeline - INFO - Hyperparameter optimisation for: {'subsample': [0.1, 0.2, 0.3, 0.4, 0.5, 0.6, 0.7, 0.8, 0.9], 'colsample_bytree': [0.1, 0.2, 0.3, 0.4, 0.5, 0.6, 0.7, 0.8, 0.9]}\n",
      "2023-09-21 21:15:10,469 - Pipeline - INFO - Hyperparameter optimisation for: {'reg_alpha': [0, 1e-05, 0.001, 0.1, 10]}\n",
      "2023-09-21 21:15:19,071 - Pipeline - INFO - params: {'max_depth': 3, 'scale_pos_weight': 0.15, 'n_estimators': 170, 'min_child_weight': 1, 'gamma': 0.0, 'colsample_bytree': 0.3, 'subsample': 0.9, 'reg_alpha': 0}\n",
      "2023-09-21 21:15:19,073 - Pipeline - INFO - Performing cross-validation\n",
      "2023-09-21 21:15:22,581 - Pipeline - INFO - Building XGBoost model with the selected features\n",
      "2023-09-21 21:15:22,582 - Pipeline - INFO - Performing Hyperparameter optimisation\n",
      "2023-09-21 21:15:22,583 - Pipeline - INFO - Building the model\n",
      "2023-09-21 21:15:22,583 - Pipeline - INFO - Hyperparameter optimisation for: {'max_depth': range(1, 10), 'scale_pos_weight': [0.1, 0.15, 0.2, 0.25, 0.3, 0.35, 0.4]}\n",
      "2023-09-21 21:16:08,769 - Pipeline - INFO - Hyperparameter optimisation for: {'n_estimators': range(50, 250, 10)}\n",
      "2023-09-21 21:16:33,580 - Pipeline - INFO - Hyperparameter optimisation for: {'min_child_weight': range(1, 10)}\n",
      "2023-09-21 21:16:41,115 - Pipeline - INFO - Hyperparameter optimisation for: {'gamma': [0.0, 0.1, 0.2, 0.3, 0.4]}\n",
      "2023-09-21 21:16:46,158 - Pipeline - INFO - Hyperparameter optimisation for: {'subsample': [0.1, 0.2, 0.3, 0.4, 0.5, 0.6, 0.7, 0.8, 0.9], 'colsample_bytree': [0.1, 0.2, 0.3, 0.4, 0.5, 0.6, 0.7, 0.8, 0.9]}\n",
      "2023-09-21 21:17:50,072 - Pipeline - INFO - Hyperparameter optimisation for: {'reg_alpha': [0, 1e-05, 0.001, 0.1, 10]}\n",
      "2023-09-21 21:17:54,599 - Pipeline - INFO - params: {'max_depth': 3, 'scale_pos_weight': 0.3, 'n_estimators': 50, 'min_child_weight': 1, 'gamma': 0.1, 'colsample_bytree': 0.4, 'subsample': 0.8, 'reg_alpha': 10}\n",
      "2023-09-21 21:17:54,602 - Pipeline - INFO - Performing cross-validation\n",
      "2023-09-21 21:17:55,908 - Pipeline - INFO - Building LR model with all the features\n",
      "2023-09-21 21:17:55,909 - Pipeline - INFO - Performing Hyperparameter optimisation\n",
      "2023-09-21 21:18:04,494 - Pipeline - INFO - Building the model\n",
      "2023-09-21 21:18:04,496 - Pipeline - INFO - Performing cross-validation\n",
      "2023-09-21 21:18:05,832 - Pipeline - INFO - Building LR model with the selected features\n",
      "2023-09-21 21:18:05,833 - Pipeline - INFO - Performing Hyperparameter optimisation\n",
      "2023-09-21 21:18:06,816 - Pipeline - INFO - Building the model\n",
      "2023-09-21 21:18:06,818 - Pipeline - INFO - Performing cross-validation\n",
      "2023-09-21 21:18:07,632 - Pipeline - INFO - Building LGBM model with all the features\n",
      "2023-09-21 21:18:07,633 - Pipeline - INFO - Performing Hyperparameter optimisation\n",
      "2023-09-21 21:18:27,921 - Pipeline - INFO - Building the model\n",
      "2023-09-21 21:18:27,922 - Pipeline - INFO - Performing cross-validation\n",
      "2023-09-21 21:18:31,556 - Pipeline - INFO - Building LGBM model with the selected features\n",
      "2023-09-21 21:18:31,557 - Pipeline - INFO - Performing Hyperparameter optimisation\n",
      "2023-09-21 21:18:43,823 - Pipeline - INFO - Building the model\n",
      "2023-09-21 21:18:43,824 - Pipeline - INFO - Performing cross-validation\n",
      "2023-09-21 21:18:46,220 - Pipeline - INFO - Building MLP model with all the features\n",
      "2023-09-21 21:18:46,221 - Pipeline - INFO - Building the model\n",
      "2023-09-21 21:18:49,662 - Pipeline - INFO - Performing cross-validation\n",
      "2023-09-21 21:19:18,025 - Pipeline - INFO - Building MLP model with the selected features\n",
      "2023-09-21 21:19:18,026 - Pipeline - INFO - Building the model\n",
      "2023-09-21 21:19:20,603 - Pipeline - INFO - Performing cross-validation\n",
      "2023-09-21 21:19:41,920 - Pipeline - INFO - Get Outputs from first level models\n",
      "2023-09-21 21:19:41,921 - Pipeline - INFO - Obtaining output probabilities\n",
      "2023-09-21 21:19:41,922 - Pipeline - INFO - Split data to test and train sets\n",
      "2023-09-21 21:19:41,930 - Pipeline - INFO - Performing Hyperparameter optimisation for XGBoost\n",
      "2023-09-21 21:19:41,931 - Pipeline - INFO - Hyperparameter optimisation for: {'max_depth': range(1, 10), 'scale_pos_weight': [0.1, 0.15, 0.2, 0.25, 0.3, 0.35, 0.4]}\n",
      "2023-09-21 21:20:19,151 - Pipeline - INFO - Hyperparameter optimisation for: {'n_estimators': range(50, 250, 10)}\n",
      "2023-09-21 21:20:39,380 - Pipeline - INFO - Hyperparameter optimisation for: {'min_child_weight': range(1, 10)}\n",
      "2023-09-21 21:20:45,165 - Pipeline - INFO - Hyperparameter optimisation for: {'gamma': [0.0, 0.1, 0.2, 0.3, 0.4]}\n",
      "2023-09-21 21:20:48,930 - Pipeline - INFO - Hyperparameter optimisation for: {'subsample': [0.1, 0.2, 0.3, 0.4, 0.5, 0.6, 0.7, 0.8, 0.9], 'colsample_bytree': [0.1, 0.2, 0.3, 0.4, 0.5, 0.6, 0.7, 0.8, 0.9]}\n",
      "2023-09-21 21:21:44,119 - Pipeline - INFO - Hyperparameter optimisation for: {'reg_alpha': [0, 1e-05, 0.001, 0.1, 10]}\n",
      "2023-09-21 21:21:47,620 - Pipeline - INFO - params: {'max_depth': 2, 'scale_pos_weight': 0.4, 'n_estimators': 60, 'min_child_weight': 1, 'gamma': 0.0, 'colsample_bytree': 0.1, 'subsample': 0.2, 'reg_alpha': 10}\n",
      "2023-09-21 21:21:47,621 - Pipeline - INFO - Performing Hyperparameter optimisation for Logistic Regression\n",
      "2023-09-21 21:21:48,367 - Pipeline - INFO - Building individual models\n",
      "2023-09-21 21:23:23,488 - Pipeline - INFO - Building Ensemble XGBoost model with all the features\n",
      "2023-09-21 21:23:23,489 - Pipeline - INFO - Performing Hyperparameter optimisation\n",
      "2023-09-21 21:23:23,490 - Pipeline - INFO - Building the model\n",
      "2023-09-21 21:23:23,491 - Pipeline - INFO - Hyperparameter optimisation for: {'max_depth': range(1, 10), 'scale_pos_weight': [0.1, 0.15, 0.2, 0.25, 0.3, 0.35, 0.4]}\n",
      "2023-09-21 21:47:31,623 - Pipeline - INFO - Hyperparameter optimisation for: {'n_estimators': range(50, 250, 10)}\n",
      "2023-09-21 21:48:19,557 - Pipeline - INFO - Hyperparameter optimisation for: {'min_child_weight': range(1, 10)}\n",
      "2023-09-21 21:48:35,266 - Pipeline - INFO - Hyperparameter optimisation for: {'gamma': [0.0, 0.1, 0.2, 0.3, 0.4]}\n",
      "2023-09-21 21:48:46,889 - Pipeline - INFO - Hyperparameter optimisation for: {'subsample': [0.1, 0.2, 0.3, 0.4, 0.5, 0.6, 0.7, 0.8, 0.9], 'colsample_bytree': [0.1, 0.2, 0.3, 0.4, 0.5, 0.6, 0.7, 0.8, 0.9]}\n",
      "2023-09-21 21:50:50,036 - Pipeline - INFO - Hyperparameter optimisation for: {'reg_alpha': [0, 1e-05, 0.001, 0.1, 10]}\n",
      "2023-09-21 21:50:57,771 - Pipeline - INFO - params: {'max_depth': 7, 'scale_pos_weight': 0.3, 'n_estimators': 130, 'min_child_weight': 9, 'gamma': 0.2, 'colsample_bytree': 0.4, 'subsample': 0.6, 'reg_alpha': 10}\n",
      "2023-09-21 21:50:57,774 - Pipeline - INFO - Performing cross-validation\n",
      "2023-09-21 21:51:02,146 - Pipeline - INFO - Building Ensemble LR model with all the features\n",
      "2023-09-21 21:51:02,148 - Pipeline - INFO - Performing Hyperparameter optimisation\n",
      "2023-09-21 21:51:04,108 - Pipeline - INFO - Building the model\n",
      "2023-09-21 21:51:04,111 - Pipeline - INFO - Performing cross-validation\n",
      "Scores:  {'xgb': {'fit_time': array([0.25347304, 0.24691844, 0.2508018 , 0.24779868, 0.2483058 ]), 'score_time': array([0.02662468, 0.02566624, 0.04797339, 0.02558064, 0.02547526]), 'test_accuracy': array([0.91260504, 0.92255892, 0.92255892, 0.93097643, 0.93939394]), 'test_balanced_accuracy': array([0.71712484, 0.75271739, 0.76679842, 0.77173913, 0.81163644]), 'test_average_precision': array([0.74334006, 0.75317786, 0.76411561, 0.81305753, 0.79546615]), 'test_f1': array([0.6       , 0.66176471, 0.67605634, 0.70072993, 0.75675676]), 'test_roc_auc': array([0.87418395, 0.89705354, 0.90015271, 0.91430111, 0.90717544]), 'test_mccf1_score': array([0.68556223, 0.73213382, 0.74120963, 0.76357241, 0.80559618])}, 'lr': {'fit_time': array([0.06091762, 0.05481386, 0.05742788, 0.05938983, 0.05977917]), 'score_time': array([0.0104332 , 0.00992155, 0.01009703, 0.00996089, 0.0103929 ]), 'test_accuracy': array([0.91428571, 0.91919192, 0.92087542, 0.93602694, 0.94612795]), 'test_balanced_accuracy': array([0.7597815 , 0.76482213, 0.79397233, 0.80755929, 0.83873623]), 'test_average_precision': array([0.7289213 , 0.76001492, 0.71514146, 0.81951358, 0.8103281 ]), 'test_f1': array([0.65306122, 0.66666667, 0.69677419, 0.74324324, 0.79220779]), 'test_roc_auc': array([0.88304392, 0.9038807 , 0.90403791, 0.92445203, 0.90192457]), 'test_mccf1_score': array([0.72110095, 0.73277947, 0.75423293, 0.79407604, 0.83284011])}, 'lgbm': {'fit_time': array([0.27538252, 0.27958846, 0.31195688, 0.29002428, 0.2858305 ]), 'score_time': array([0.01279855, 0.01290059, 0.01299524, 0.01281929, 0.01282978]), 'test_accuracy': array([0.91596639, 0.91245791, 0.92929293, 0.93771044, 0.94781145]), 'test_balanced_accuracy': array([0.72836079, 0.72332016, 0.79891304, 0.78977273, 0.83509845]), 'test_average_precision': array([0.75296438, 0.79196284, 0.79380684, 0.85623258, 0.80217464]), 'test_f1': array([0.62121212, 0.60606061, 0.72      , 0.73381295, 0.79470199]), 'test_roc_auc': array([0.89541236, 0.92011768, 0.9146829 , 0.94264283, 0.90828791]), 'test_mccf1_score': array([0.70177827, 0.68853064, 0.77448274, 0.78972982, 0.83569534])}, 'mlp': {'fit_time': array([2.57982588, 2.81154633, 2.80864048, 2.69907284, 2.73816228]), 'score_time': array([0.01710153, 0.01318693, 0.01331162, 0.01320267, 0.01316643]), 'test_accuracy': array([0.89915966, 0.8973064 , 0.89225589, 0.9040404 , 0.92929293]), 'test_balanced_accuracy': array([0.73236888, 0.75666996, 0.76778656, 0.75592885, 0.82420736]), 'test_average_precision': array([0.66191246, 0.67692654, 0.65315442, 0.68177777, 0.77900084]), 'test_f1': array([0.59459459, 0.6163522 , 0.61904762, 0.62745098, 0.74074074]), 'test_roc_auc': array([0.84049829, 0.85879671, 0.85604563, 0.85415918, 0.88205585]), 'test_mccf1_score': array([0.67292838, 0.6876566 , 0.68845953, 0.69802862, 0.78906189])}, 'xgb_min': {'fit_time': array([0.04949379, 0.04683757, 0.04731297, 0.0459702 , 0.0485847 ]), 'score_time': array([0.01445818, 0.01402855, 0.01249003, 0.01257682, 0.01361275]), 'test_accuracy': array([0.89411765, 0.89225589, 0.9040404 , 0.9023569 , 0.8989899 ]), 'test_balanced_accuracy': array([0.65069725, 0.64575099, 0.69491107, 0.67045455, 0.67217711]), 'test_average_precision': array([0.74627613, 0.7732628 , 0.74755758, 0.77566881, 0.78448044]), 'test_f1': array([0.46153846, 0.44827586, 0.5511811 , 0.50847458, 0.50819672]), 'test_roc_auc': array([0.89447973, 0.926462  , 0.90594682, 0.89608785, 0.88798532]), 'test_mccf1_score': array([0.58134059, 0.57001337, 0.6464237 , 0.61820097, 0.61557338])}, 'lr_min': {'fit_time': array([0.00881362, 0.00897932, 0.00858688, 0.00858498, 0.00882363]), 'score_time': array([0.00851703, 0.00825524, 0.0082314 , 0.00816274, 0.00824022]), 'test_accuracy': array([0.91092437, 0.91750842, 0.91077441, 0.92592593, 0.93602694]), 'test_balanced_accuracy': array([0.73928587, 0.75444664, 0.75988142, 0.76408103, 0.80502837]), 'test_average_precision': array([0.71144888, 0.71775364, 0.73081977, 0.79977966, 0.78192933]), 'test_f1': array([0.62411348, 0.65248227, 0.6442953 , 0.68115942, 0.74324324]), 'test_roc_auc': array([0.87938002, 0.88784585, 0.88373608, 0.91811894, 0.88870842]), 'test_mccf1_score': array([0.69965193, 0.72230755, 0.71286782, 0.74707661, 0.79454276])}, 'lgbm_min': {'fit_time': array([0.16508937, 0.16531348, 0.16016483, 0.16013789, 0.16246819]), 'score_time': array([0.01110458, 0.01111674, 0.01134825, 0.01128626, 0.01132417]), 'test_accuracy': array([0.90756303, 0.92255892, 0.91582492, 0.92087542, 0.93265993]), 'test_balanced_accuracy': array([0.70027091, 0.76210474, 0.76284585, 0.7611166 , 0.79379241]), 'test_average_precision': array([0.71301943, 0.72432297, 0.72111947, 0.75577332, 0.76901584]), 'test_f1': array([0.56692913, 0.67142857, 0.65753425, 0.66666667, 0.7260274 ]), 'test_roc_auc': array([0.86592352, 0.88360133, 0.87315846, 0.87288897, 0.89340305]), 'test_mccf1_score': array([0.66032192, 0.73823071, 0.72462208, 0.73392006, 0.78114456])}, 'mlp_min': {'fit_time': array([2.06081772, 2.04473472, 2.04552102, 2.0536325 , 2.07237148]), 'score_time': array([0.01019001, 0.01013708, 0.00999212, 0.01598763, 0.01003432]), 'test_accuracy': array([0.88571429, 0.8973064 , 0.88720539, 0.88888889, 0.90572391]), 'test_balanced_accuracy': array([0.73835324, 0.74728261, 0.75074111, 0.7423419 , 0.79183446]), 'test_average_precision': array([0.65218456, 0.6390459 , 0.65382512, 0.61027209, 0.72454056]), 'test_f1': array([0.58024691, 0.60645161, 0.59393939, 0.5875    , 0.66666667]), 'test_roc_auc': array([0.82291158, 0.84645616, 0.82249371, 0.82599713, 0.8401602 ]), 'test_mccf1_score': array([0.65778834, 0.68039085, 0.66832051, 0.66387827, 0.72754509])}, 'xgb_ensemble': {'fit_time': array([0.12812734, 0.07897186, 0.44958806, 0.077039  , 0.13486099]), 'score_time': array([0.01931167, 0.04511809, 0.01744628, 0.01611233, 0.01743388]), 'test_accuracy': array([0.86912752, 0.88552189, 0.88215488, 0.88552189, 0.89225589]), 'test_balanced_accuracy': array([0.57580149, 0.62222222, 0.61111111, 0.61363636, 0.63636364]), 'test_average_precision': array([0.71716425, 0.80128831, 0.7107471 , 0.755443  , 0.82325758]), 'test_f1': array([0.26415094, 0.39285714, 0.36363636, 0.37037037, 0.42857143]), 'test_roc_auc': array([0.90606061, 0.94281305, 0.85595238, 0.92642831, 0.92458678]), 'test_mccf1_score': array([0.42914472, 0.53073416, 0.50863653, 0.51383177, 0.55782585])}, 'lr_ensemble': {'fit_time': array([0.05272245, 0.12230253, 0.01879501, 0.01610756, 0.01396084]), 'score_time': array([0.01110244, 0.00974083, 0.00931787, 0.00937939, 0.00928664]), 'test_accuracy': array([0.91275168, 0.91245791, 0.91245791, 0.92592593, 0.94949495]), 'test_balanced_accuracy': array([0.74765042, 0.79325397, 0.73849206, 0.77816206, 0.84832016]), 'test_average_precision': array([0.7474022 , 0.81708147, 0.71524782, 0.78674414, 0.85691443]), 'test_f1': array([0.63888889, 0.68292683, 0.62857143, 0.69444444, 0.80519481]), 'test_roc_auc': array([0.89459816, 0.95432099, 0.85273369, 0.91043838, 0.93316565]), 'test_mccf1_score': array([0.71111015, 0.74162366, 0.70433979, 0.75550604, 0.84309098])}}\n",
      "2023-09-21 21:51:05,579 - Pipeline - INFO - Saving the CV results for all the models\n",
      "2023-09-21 21:51:05,582 - Pipeline - INFO - Completed !!!\n"
     ]
    }
   ],
   "source": [
    "pm.runPredictionsForAllTargets(\n",
    "    label='standardised',\n",
    "    dirPath = dataDirName,\n",
    "    vitalsBefore = 0,\n",
    "    vitalsAfter = 72,\n",
    "    labsBefore = 0,\n",
    "    labsAfter = 72,\n",
    "    # targetList = [7, 14, 21, 30, 60, 90, 120, (7, 14), (14, 21), (21, 30), (30, 60), (60, 90), (90, 120)],\n",
    "    targetList = [7],\n",
    "    )"
   ]
  },
  {
   "cell_type": "markdown",
   "metadata": {},
   "source": [
    "### Remove the data matrix file from working directory"
   ]
  },
  {
   "cell_type": "code",
   "execution_count": 8,
   "metadata": {},
   "outputs": [
    {
     "data": {
      "text/plain": [
       "0"
      ]
     },
     "execution_count": 8,
     "metadata": {},
     "output_type": "execute_result"
    }
   ],
   "source": [
    "import os\n",
    "\n",
    "\n",
    "os.system(\n",
    "    '''rm ''' + dataDirName + '''data_matrix.csv'''\n",
    ")"
   ]
  },
  {
   "cell_type": "markdown",
   "metadata": {},
   "source": [
    "## Perform prediction on rescaled dataset"
   ]
  },
  {
   "cell_type": "markdown",
   "metadata": {},
   "source": [
    "### Copy the rescaled file to working directory"
   ]
  },
  {
   "cell_type": "code",
   "execution_count": 9,
   "metadata": {},
   "outputs": [
    {
     "data": {
      "text/plain": [
       "0"
      ]
     },
     "execution_count": 9,
     "metadata": {},
     "output_type": "execute_result"
    }
   ],
   "source": [
    "import os\n",
    "\n",
    "\n",
    "os.system(\n",
    "    '''cp ''' + dataDirName + '''data_matrix/data_matrix_rescaled.csv ''' + dataDirName + '''data_matrix.csv;'''\n",
    ")"
   ]
  },
  {
   "cell_type": "markdown",
   "metadata": {},
   "source": [
    "### Perform prediction"
   ]
  },
  {
   "cell_type": "code",
   "execution_count": 10,
   "metadata": {},
   "outputs": [
    {
     "name": "stdout",
     "output_type": "stream",
     "text": [
      "2023-09-21 21:51:05,653 - Pipeline - INFO - dirName: rescaled_icd_vb_0_va_72_lb_0_la_72\n",
      "2023-09-21 21:51:05,654 - Pipeline - INFO - Running Predictions for vb_0_va_72_lb_0_la_72, targetStart : 0, targetEnd : 7\n",
      "2023-09-21 21:51:05,655 - Pipeline - INFO - Reading data\n",
      "2023-09-21 21:51:06,266 - Pipeline - INFO - Formatting data\n",
      "2023-09-21 21:51:06,273 - Pipeline - INFO - Performing SFS\n",
      "2023-09-21 21:55:16,912 - Pipeline - INFO - Building XGBoost model with all the features\n",
      "2023-09-21 21:55:16,913 - Pipeline - INFO - Performing Hyperparameter optimisation\n",
      "2023-09-21 21:55:16,914 - Pipeline - INFO - Building the model\n",
      "2023-09-21 21:55:16,914 - Pipeline - INFO - Hyperparameter optimisation for: {'max_depth': range(1, 10), 'scale_pos_weight': [0.1, 0.15, 0.2, 0.25, 0.3, 0.35, 0.4]}\n",
      "2023-09-21 21:58:49,291 - Pipeline - INFO - Hyperparameter optimisation for: {'n_estimators': range(50, 250, 10)}\n",
      "2023-09-21 21:59:33,607 - Pipeline - INFO - Hyperparameter optimisation for: {'min_child_weight': range(1, 10)}\n",
      "2023-09-21 21:59:47,691 - Pipeline - INFO - Hyperparameter optimisation for: {'gamma': [0.0, 0.1, 0.2, 0.3, 0.4]}\n",
      "2023-09-21 21:59:57,212 - Pipeline - INFO - Hyperparameter optimisation for: {'subsample': [0.1, 0.2, 0.3, 0.4, 0.5, 0.6, 0.7, 0.8, 0.9], 'colsample_bytree': [0.1, 0.2, 0.3, 0.4, 0.5, 0.6, 0.7, 0.8, 0.9]}\n",
      "2023-09-21 22:01:39,042 - Pipeline - INFO - Hyperparameter optimisation for: {'reg_alpha': [0, 1e-05, 0.001, 0.1, 10]}\n",
      "2023-09-21 22:01:47,793 - Pipeline - INFO - params: {'max_depth': 3, 'scale_pos_weight': 0.15, 'n_estimators': 170, 'min_child_weight': 1, 'gamma': 0.0, 'colsample_bytree': 0.2, 'subsample': 0.7, 'reg_alpha': 0}\n",
      "2023-09-21 22:01:47,795 - Pipeline - INFO - Performing cross-validation\n",
      "2023-09-21 22:01:51,192 - Pipeline - INFO - Building XGBoost model with the selected features\n",
      "2023-09-21 22:01:51,193 - Pipeline - INFO - Performing Hyperparameter optimisation\n",
      "2023-09-21 22:01:51,194 - Pipeline - INFO - Building the model\n",
      "2023-09-21 22:01:51,194 - Pipeline - INFO - Hyperparameter optimisation for: {'max_depth': range(1, 10), 'scale_pos_weight': [0.1, 0.15, 0.2, 0.25, 0.3, 0.35, 0.4]}\n",
      "2023-09-21 22:02:36,251 - Pipeline - INFO - Hyperparameter optimisation for: {'n_estimators': range(50, 250, 10)}\n",
      "2023-09-21 22:03:00,579 - Pipeline - INFO - Hyperparameter optimisation for: {'min_child_weight': range(1, 10)}\n",
      "2023-09-21 22:03:08,225 - Pipeline - INFO - Hyperparameter optimisation for: {'gamma': [0.0, 0.1, 0.2, 0.3, 0.4]}\n",
      "2023-09-21 22:03:13,027 - Pipeline - INFO - Hyperparameter optimisation for: {'subsample': [0.1, 0.2, 0.3, 0.4, 0.5, 0.6, 0.7, 0.8, 0.9], 'colsample_bytree': [0.1, 0.2, 0.3, 0.4, 0.5, 0.6, 0.7, 0.8, 0.9]}\n",
      "2023-09-21 22:04:16,197 - Pipeline - INFO - Hyperparameter optimisation for: {'reg_alpha': [0, 1e-05, 0.001, 0.1, 10]}\n",
      "2023-09-21 22:04:20,364 - Pipeline - INFO - params: {'max_depth': 9, 'scale_pos_weight': 0.15, 'n_estimators': 50, 'min_child_weight': 1, 'gamma': 0.0, 'colsample_bytree': 0.2, 'subsample': 0.8, 'reg_alpha': 10}\n",
      "2023-09-21 22:04:20,365 - Pipeline - INFO - Performing cross-validation\n",
      "2023-09-21 22:04:21,653 - Pipeline - INFO - Building LR model with all the features\n",
      "2023-09-21 22:04:21,654 - Pipeline - INFO - Performing Hyperparameter optimisation\n",
      "2023-09-21 22:04:25,305 - Pipeline - INFO - Building the model\n",
      "2023-09-21 22:04:25,307 - Pipeline - INFO - Performing cross-validation\n",
      "2023-09-21 22:04:26,962 - Pipeline - INFO - Building LR model with the selected features\n",
      "2023-09-21 22:04:26,964 - Pipeline - INFO - Performing Hyperparameter optimisation\n",
      "2023-09-21 22:04:27,898 - Pipeline - INFO - Building the model\n",
      "2023-09-21 22:04:27,900 - Pipeline - INFO - Performing cross-validation\n",
      "2023-09-21 22:04:29,013 - Pipeline - INFO - Building LGBM model with all the features\n",
      "2023-09-21 22:04:29,014 - Pipeline - INFO - Performing Hyperparameter optimisation\n",
      "2023-09-21 22:04:49,210 - Pipeline - INFO - Building the model\n",
      "2023-09-21 22:04:49,212 - Pipeline - INFO - Performing cross-validation\n",
      "2023-09-21 22:04:52,951 - Pipeline - INFO - Building LGBM model with the selected features\n",
      "2023-09-21 22:04:52,952 - Pipeline - INFO - Performing Hyperparameter optimisation\n",
      "2023-09-21 22:05:05,739 - Pipeline - INFO - Building the model\n",
      "2023-09-21 22:05:05,741 - Pipeline - INFO - Performing cross-validation\n",
      "2023-09-21 22:05:08,210 - Pipeline - INFO - Building MLP model with all the features\n",
      "2023-09-21 22:05:08,211 - Pipeline - INFO - Building the model\n",
      "2023-09-21 22:05:20,927 - Pipeline - INFO - Performing cross-validation\n",
      "2023-09-21 22:06:46,896 - Pipeline - INFO - Building MLP model with the selected features\n",
      "2023-09-21 22:06:46,898 - Pipeline - INFO - Building the model\n",
      "2023-09-21 22:06:48,905 - Pipeline - INFO - Performing cross-validation\n",
      "2023-09-21 22:07:06,094 - Pipeline - INFO - Get Outputs from first level models\n",
      "2023-09-21 22:07:06,096 - Pipeline - INFO - Obtaining output probabilities\n",
      "2023-09-21 22:07:06,096 - Pipeline - INFO - Split data to test and train sets\n",
      "2023-09-21 22:07:06,107 - Pipeline - INFO - Performing Hyperparameter optimisation for XGBoost\n",
      "2023-09-21 22:07:06,107 - Pipeline - INFO - Hyperparameter optimisation for: {'max_depth': range(1, 10), 'scale_pos_weight': [0.1, 0.15, 0.2, 0.25, 0.3, 0.35, 0.4]}\n",
      "2023-09-21 22:07:42,754 - Pipeline - INFO - Hyperparameter optimisation for: {'n_estimators': range(50, 250, 10)}\n",
      "2023-09-21 22:08:02,718 - Pipeline - INFO - Hyperparameter optimisation for: {'min_child_weight': range(1, 10)}\n",
      "2023-09-21 22:08:08,810 - Pipeline - INFO - Hyperparameter optimisation for: {'gamma': [0.0, 0.1, 0.2, 0.3, 0.4]}\n",
      "2023-09-21 22:08:12,534 - Pipeline - INFO - Hyperparameter optimisation for: {'subsample': [0.1, 0.2, 0.3, 0.4, 0.5, 0.6, 0.7, 0.8, 0.9], 'colsample_bytree': [0.1, 0.2, 0.3, 0.4, 0.5, 0.6, 0.7, 0.8, 0.9]}\n",
      "2023-09-21 22:09:06,638 - Pipeline - INFO - Hyperparameter optimisation for: {'reg_alpha': [0, 1e-05, 0.001, 0.1, 10]}\n",
      "2023-09-21 22:09:10,127 - Pipeline - INFO - params: {'max_depth': 2, 'scale_pos_weight': 0.4, 'n_estimators': 60, 'min_child_weight': 9, 'gamma': 0.0, 'colsample_bytree': 0.1, 'subsample': 0.5, 'reg_alpha': 10}\n",
      "2023-09-21 22:09:10,129 - Pipeline - INFO - Performing Hyperparameter optimisation for Logistic Regression\n",
      "2023-09-21 22:09:10,643 - Pipeline - INFO - Building individual models\n",
      "2023-09-21 22:10:19,243 - Pipeline - INFO - Building Ensemble XGBoost model with all the features\n",
      "2023-09-21 22:10:19,244 - Pipeline - INFO - Performing Hyperparameter optimisation\n",
      "2023-09-21 22:10:19,245 - Pipeline - INFO - Building the model\n",
      "2023-09-21 22:10:19,246 - Pipeline - INFO - Hyperparameter optimisation for: {'max_depth': range(1, 10), 'scale_pos_weight': [0.1, 0.15, 0.2, 0.25, 0.3, 0.35, 0.4]}\n",
      "2023-09-21 22:10:58,463 - Pipeline - INFO - Hyperparameter optimisation for: {'n_estimators': range(50, 250, 10)}\n",
      "2023-09-21 22:11:17,458 - Pipeline - INFO - Hyperparameter optimisation for: {'min_child_weight': range(1, 10)}\n",
      "2023-09-21 22:11:23,302 - Pipeline - INFO - Hyperparameter optimisation for: {'gamma': [0.0, 0.1, 0.2, 0.3, 0.4]}\n",
      "2023-09-21 22:11:27,510 - Pipeline - INFO - Hyperparameter optimisation for: {'subsample': [0.1, 0.2, 0.3, 0.4, 0.5, 0.6, 0.7, 0.8, 0.9], 'colsample_bytree': [0.1, 0.2, 0.3, 0.4, 0.5, 0.6, 0.7, 0.8, 0.9]}\n",
      "2023-09-21 22:12:16,078 - Pipeline - INFO - Hyperparameter optimisation for: {'reg_alpha': [0, 1e-05, 0.001, 0.1, 10]}\n",
      "2023-09-21 22:12:19,895 - Pipeline - INFO - params: {'max_depth': 4, 'scale_pos_weight': 0.25, 'n_estimators': 70, 'min_child_weight': 3, 'gamma': 0.4, 'colsample_bytree': 0.3, 'subsample': 0.7, 'reg_alpha': 10}\n",
      "2023-09-21 22:12:19,896 - Pipeline - INFO - Performing cross-validation\n"
     ]
    },
    {
     "name": "stderr",
     "output_type": "stream",
     "text": [
      "R[write to console]: Error in ROCR::prediction(predictor, response) : \n",
      "  Number of classes is not equal to 2.\n",
      "ROCR currently supports only evaluation of binary classification tasks.\n",
      "\n",
      "R[write to console]: In addition: \n",
      "R[write to console]: There were 50 or more warnings (use warnings() to see the first 50)\n",
      "R[write to console]: \n",
      "\n",
      "R[write to console]: Error in ROCR::prediction(predictor, response) : \n",
      "  Number of classes is not equal to 2.\n",
      "ROCR currently supports only evaluation of binary classification tasks.\n",
      "\n",
      "R[write to console]: In addition: \n",
      "R[write to console]: Warning messages:\n",
      "\n",
      "R[write to console]: 1: \n",
      "R[write to console]: In (function (package, help, pos = 2, lib.loc = NULL, character.only = FALSE,  :\n",
      "R[write to console]: \n",
      " \n",
      "R[write to console]:  libraries ‘/usr/local/lib/R/site-library’, ‘/usr/lib/R/site-library’ contain no packages\n",
      "\n",
      "R[write to console]: 2: \n",
      "R[write to console]: In (function (package, help, pos = 2, lib.loc = NULL, character.only = FALSE,  :\n",
      "R[write to console]: \n",
      " \n",
      "R[write to console]:  libraries ‘/usr/local/lib/R/site-library’, ‘/usr/lib/R/site-library’ contain no packages\n",
      "\n"
     ]
    },
    {
     "name": "stdout",
     "output_type": "stream",
     "text": [
      "2023-09-21 22:12:21,282 - Pipeline - INFO - Building Ensemble LR model with all the features\n",
      "2023-09-21 22:12:21,283 - Pipeline - INFO - Performing Hyperparameter optimisation\n",
      "2023-09-21 22:12:22,063 - Pipeline - INFO - Building the model\n",
      "2023-09-21 22:12:22,064 - Pipeline - INFO - Performing cross-validation\n",
      "2023-09-21 22:12:23,148 - Pipeline - INFO - Saving the CV results for all the models\n",
      "2023-09-21 22:12:23,151 - Pipeline - INFO - Completed !!!\n"
     ]
    }
   ],
   "source": [
    "pm.runPredictionsForAllTargets(\n",
    "    label='rescaled',\n",
    "    dirPath = dataDirName,\n",
    "    vitalsBefore = 0,\n",
    "    vitalsAfter = 72,\n",
    "    labsBefore = 0,\n",
    "    labsAfter = 72,\n",
    "    # targetList = [7, 14, 21, 30, 60, 90, 120, (7, 14), (14, 21), (21, 30), (30, 60), (60, 90), (90, 120)],\n",
    "    targetList = [7],\n",
    "    )"
   ]
  },
  {
   "cell_type": "markdown",
   "metadata": {},
   "source": [
    "### Remove the data matrix file from working directory"
   ]
  },
  {
   "cell_type": "code",
   "execution_count": 11,
   "metadata": {},
   "outputs": [
    {
     "data": {
      "text/plain": [
       "0"
      ]
     },
     "execution_count": 11,
     "metadata": {},
     "output_type": "execute_result"
    }
   ],
   "source": [
    "import os\n",
    "\n",
    "\n",
    "os.system(\n",
    "    '''rm ''' + dataDirName + '''data_matrix.csv'''\n",
    ")"
   ]
  }
 ],
 "metadata": {
  "kernelspec": {
   "display_name": ".venv",
   "language": "python",
   "name": "python3"
  },
  "language_info": {
   "codemirror_mode": {
    "name": "ipython",
    "version": 3
   },
   "file_extension": ".py",
   "mimetype": "text/x-python",
   "name": "python",
   "nbconvert_exporter": "python",
   "pygments_lexer": "ipython3",
   "version": "3.9.5"
  },
  "orig_nbformat": 4
 },
 "nbformat": 4,
 "nbformat_minor": 2
}
