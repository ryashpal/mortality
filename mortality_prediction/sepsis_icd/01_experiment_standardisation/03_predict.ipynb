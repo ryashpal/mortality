{
 "cells": [
  {
   "cell_type": "markdown",
   "metadata": {},
   "source": [
    "# Perform prediction"
   ]
  },
  {
   "cell_type": "markdown",
   "metadata": {},
   "source": [
    "## Import libraries"
   ]
  },
  {
   "cell_type": "code",
   "execution_count": 1,
   "metadata": {},
   "outputs": [],
   "source": [
    "import os\n",
    "\n",
    "import logging\n",
    "import sys\n",
    "\n",
    "log = logging.getLogger(\"Pipeline\")\n",
    "log.setLevel(logging.INFO)\n",
    "format = logging.Formatter(\"%(asctime)s - %(name)s - %(levelname)s - %(message)s\")\n",
    "\n",
    "ch = logging.StreamHandler(sys.stdout)\n",
    "ch.setFormatter(format)\n",
    "log.addHandler(ch)\n",
    "\n",
    "import warnings\n",
    "warnings.simplefilter(action='ignore', category=Warning)\n",
    "\n",
    "module_path = os.path.abspath(os.path.join('../'))\n",
    "if module_path not in sys.path:\n",
    "    sys.path.append(module_path)\n",
    "\n",
    "import predict_mortality as pm"
   ]
  },
  {
   "cell_type": "markdown",
   "metadata": {},
   "source": [
    "## Define data directory\n",
    "\n",
    "A top level directory to store all the data for this experiment"
   ]
  },
  {
   "cell_type": "code",
   "execution_count": 2,
   "metadata": {},
   "outputs": [],
   "source": [
    "dataDirName = '/home/yram0006/phd/chapter_2/workspace/mortality_data/standardisation_experiment/'"
   ]
  },
  {
   "cell_type": "markdown",
   "metadata": {},
   "source": [
    "## Perform prediction on raw dataset"
   ]
  },
  {
   "cell_type": "markdown",
   "metadata": {},
   "source": [
    "### Copy the raw file to working directory"
   ]
  },
  {
   "cell_type": "code",
   "execution_count": 3,
   "metadata": {},
   "outputs": [
    {
     "data": {
      "text/plain": [
       "0"
      ]
     },
     "execution_count": 3,
     "metadata": {},
     "output_type": "execute_result"
    }
   ],
   "source": [
    "import os\n",
    "\n",
    "\n",
    "os.system(\n",
    "    '''cp ''' + dataDirName + '''data_matrix/data_matrix_raw.csv ''' + dataDirName + '''data_matrix.csv;'''\n",
    ")"
   ]
  },
  {
   "cell_type": "markdown",
   "metadata": {},
   "source": [
    "### Perform prediction"
   ]
  },
  {
   "cell_type": "code",
   "execution_count": 4,
   "metadata": {},
   "outputs": [
    {
     "name": "stdout",
     "output_type": "stream",
     "text": [
      "2023-09-24 20:33:02,687 - Pipeline - INFO - dirName: raw_icd_vb_0_va_72_lb_0_la_72\n",
      "2023-09-24 20:33:02,688 - Pipeline - INFO - Running Predictions for vb_0_va_72_lb_0_la_72, targetStart : 0, targetEnd : 7\n",
      "2023-09-24 20:33:02,688 - Pipeline - INFO - Reading data\n",
      "2023-09-24 20:33:03,467 - Pipeline - INFO - Formatting data\n",
      "2023-09-24 20:33:03,475 - Pipeline - INFO - Performing SFS\n",
      "2023-09-24 20:37:21,033 - Pipeline - INFO - Building XGBoost model with all the features\n",
      "2023-09-24 20:37:21,034 - Pipeline - INFO - Performing Hyperparameter optimisation\n",
      "2023-09-24 20:37:21,054 - Pipeline - INFO - Building the model\n",
      "2023-09-24 20:37:21,055 - Pipeline - INFO - Hyperparameter optimisation for: {'max_depth': range(1, 10), 'scale_pos_weight': [0.1, 0.15, 0.2, 0.25, 0.3, 0.35, 0.4]}\n",
      "2023-09-24 20:38:50,014 - Pipeline - INFO - Hyperparameter optimisation for: {'n_estimators': range(50, 250, 10)}\n",
      "2023-09-24 20:39:21,507 - Pipeline - INFO - Hyperparameter optimisation for: {'min_child_weight': range(1, 10)}\n",
      "2023-09-24 20:39:31,271 - Pipeline - INFO - Hyperparameter optimisation for: {'gamma': [0.0, 0.1, 0.2, 0.3, 0.4]}\n",
      "2023-09-24 20:39:37,516 - Pipeline - INFO - Hyperparameter optimisation for: {'subsample': [0.1, 0.2, 0.3, 0.4, 0.5, 0.6, 0.7, 0.8, 0.9], 'colsample_bytree': [0.1, 0.2, 0.3, 0.4, 0.5, 0.6, 0.7, 0.8, 0.9]}\n",
      "2023-09-24 20:40:51,020 - Pipeline - INFO - Hyperparameter optimisation for: {'reg_alpha': [0, 1e-05, 0.001, 0.1, 10]}\n",
      "2023-09-24 20:40:56,300 - Pipeline - INFO - params: {'max_depth': 3, 'scale_pos_weight': 0.15, 'n_estimators': 110, 'min_child_weight': 1, 'gamma': 0.0, 'colsample_bytree': 0.8, 'subsample': 0.7, 'reg_alpha': 0}\n",
      "2023-09-24 20:40:56,301 - Pipeline - INFO - Performing cross-validation\n",
      "2023-09-24 20:41:00,611 - Pipeline - INFO - Building XGBoost model with the selected features\n",
      "2023-09-24 20:41:00,613 - Pipeline - INFO - Performing Hyperparameter optimisation\n",
      "2023-09-24 20:41:00,614 - Pipeline - INFO - Building the model\n",
      "2023-09-24 20:41:00,614 - Pipeline - INFO - Hyperparameter optimisation for: {'max_depth': range(1, 10), 'scale_pos_weight': [0.1, 0.15, 0.2, 0.25, 0.3, 0.35, 0.4]}\n",
      "2023-09-24 20:41:44,791 - Pipeline - INFO - Hyperparameter optimisation for: {'n_estimators': range(50, 250, 10)}\n",
      "2023-09-24 20:42:04,911 - Pipeline - INFO - Hyperparameter optimisation for: {'min_child_weight': range(1, 10)}\n",
      "2023-09-24 20:42:08,565 - Pipeline - INFO - Hyperparameter optimisation for: {'gamma': [0.0, 0.1, 0.2, 0.3, 0.4]}\n",
      "2023-09-24 20:42:11,258 - Pipeline - INFO - Hyperparameter optimisation for: {'subsample': [0.1, 0.2, 0.3, 0.4, 0.5, 0.6, 0.7, 0.8, 0.9], 'colsample_bytree': [0.1, 0.2, 0.3, 0.4, 0.5, 0.6, 0.7, 0.8, 0.9]}\n",
      "2023-09-24 20:42:43,569 - Pipeline - INFO - Hyperparameter optimisation for: {'reg_alpha': [0, 1e-05, 0.001, 0.1, 10]}\n",
      "2023-09-24 20:42:45,686 - Pipeline - INFO - params: {'max_depth': 5, 'scale_pos_weight': 0.25, 'n_estimators': 60, 'min_child_weight': 1, 'gamma': 0.0, 'colsample_bytree': 0.7, 'subsample': 0.6, 'reg_alpha': 0}\n",
      "2023-09-24 20:42:45,689 - Pipeline - INFO - Performing cross-validation\n",
      "2023-09-24 20:42:47,287 - Pipeline - INFO - Building LR model with all the features\n",
      "2023-09-24 20:42:47,288 - Pipeline - INFO - Performing Hyperparameter optimisation\n",
      "2023-09-24 20:43:17,418 - Pipeline - INFO - Building the model\n",
      "2023-09-24 20:43:17,419 - Pipeline - INFO - Performing cross-validation\n",
      "2023-09-24 20:43:25,548 - Pipeline - INFO - Building LR model with the selected features\n",
      "2023-09-24 20:43:25,549 - Pipeline - INFO - Performing Hyperparameter optimisation\n",
      "2023-09-24 20:43:31,185 - Pipeline - INFO - Building the model\n",
      "2023-09-24 20:43:31,186 - Pipeline - INFO - Performing cross-validation\n",
      "2023-09-24 20:43:32,926 - Pipeline - INFO - Building LGBM model with all the features\n",
      "2023-09-24 20:43:32,927 - Pipeline - INFO - Performing Hyperparameter optimisation\n",
      "2023-09-24 20:43:52,931 - Pipeline - INFO - Building the model\n",
      "2023-09-24 20:43:52,932 - Pipeline - INFO - Performing cross-validation\n",
      "2023-09-24 20:43:56,416 - Pipeline - INFO - Building LGBM model with the selected features\n",
      "2023-09-24 20:43:56,417 - Pipeline - INFO - Performing Hyperparameter optimisation\n",
      "2023-09-24 20:44:09,858 - Pipeline - INFO - Building the model\n",
      "2023-09-24 20:44:09,860 - Pipeline - INFO - Performing cross-validation\n",
      "2023-09-24 20:44:12,679 - Pipeline - INFO - Building MLP model with all the features\n",
      "2023-09-24 20:44:12,680 - Pipeline - INFO - Building the model\n",
      "2023-09-24 20:44:18,824 - Pipeline - INFO - Performing cross-validation\n",
      "2023-09-24 20:44:55,182 - Pipeline - INFO - Building MLP model with the selected features\n",
      "2023-09-24 20:44:55,183 - Pipeline - INFO - Building the model\n",
      "2023-09-24 20:44:56,118 - Pipeline - INFO - Performing cross-validation\n",
      "2023-09-24 20:45:04,066 - Pipeline - INFO - Get Outputs from first level models\n",
      "2023-09-24 20:45:04,067 - Pipeline - INFO - Obtaining output probabilities\n",
      "2023-09-24 20:45:04,068 - Pipeline - INFO - Split data to test and train sets\n",
      "2023-09-24 20:45:04,076 - Pipeline - INFO - Performing Hyperparameter optimisation for XGBoost\n",
      "2023-09-24 20:45:04,076 - Pipeline - INFO - Hyperparameter optimisation for: {'max_depth': range(1, 10), 'scale_pos_weight': [0.1, 0.15, 0.2, 0.25, 0.3, 0.35, 0.4]}\n",
      "2023-09-24 20:45:40,668 - Pipeline - INFO - Hyperparameter optimisation for: {'n_estimators': range(50, 250, 10)}\n",
      "2023-09-24 20:45:49,572 - Pipeline - INFO - Hyperparameter optimisation for: {'min_child_weight': range(1, 10)}\n",
      "2023-09-24 20:45:52,536 - Pipeline - INFO - Hyperparameter optimisation for: {'gamma': [0.0, 0.1, 0.2, 0.3, 0.4]}\n",
      "2023-09-24 20:45:54,093 - Pipeline - INFO - Hyperparameter optimisation for: {'subsample': [0.1, 0.2, 0.3, 0.4, 0.5, 0.6, 0.7, 0.8, 0.9], 'colsample_bytree': [0.1, 0.2, 0.3, 0.4, 0.5, 0.6, 0.7, 0.8, 0.9]}\n",
      "2023-09-24 20:46:19,750 - Pipeline - INFO - Hyperparameter optimisation for: {'reg_alpha': [0, 1e-05, 0.001, 0.1, 10]}\n",
      "2023-09-24 20:46:21,609 - Pipeline - INFO - params: {'max_depth': 2, 'scale_pos_weight': 0.4, 'n_estimators': 90, 'min_child_weight': 1, 'gamma': 0.0, 'colsample_bytree': 0.4, 'subsample': 0.6, 'reg_alpha': 0.1}\n",
      "2023-09-24 20:46:21,612 - Pipeline - INFO - Performing Hyperparameter optimisation for Logistic Regression\n",
      "2023-09-24 20:46:24,446 - Pipeline - INFO - Building individual models\n",
      "2023-09-24 20:46:47,279 - Pipeline - INFO - Building Ensemble XGBoost model with all the features\n",
      "2023-09-24 20:46:47,281 - Pipeline - INFO - Performing Hyperparameter optimisation\n",
      "2023-09-24 20:46:47,281 - Pipeline - INFO - Building the model\n",
      "2023-09-24 20:46:47,282 - Pipeline - INFO - Hyperparameter optimisation for: {'max_depth': range(1, 10), 'scale_pos_weight': [0.1, 0.15, 0.2, 0.25, 0.3, 0.35, 0.4]}\n",
      "2023-09-24 20:47:25,434 - Pipeline - INFO - Hyperparameter optimisation for: {'n_estimators': range(50, 250, 10)}\n",
      "2023-09-24 20:47:41,833 - Pipeline - INFO - Hyperparameter optimisation for: {'min_child_weight': range(1, 10)}\n",
      "2023-09-24 20:47:45,565 - Pipeline - INFO - Hyperparameter optimisation for: {'gamma': [0.0, 0.1, 0.2, 0.3, 0.4]}\n",
      "2023-09-24 20:47:48,065 - Pipeline - INFO - Hyperparameter optimisation for: {'subsample': [0.1, 0.2, 0.3, 0.4, 0.5, 0.6, 0.7, 0.8, 0.9], 'colsample_bytree': [0.1, 0.2, 0.3, 0.4, 0.5, 0.6, 0.7, 0.8, 0.9]}\n",
      "2023-09-24 20:48:19,460 - Pipeline - INFO - Hyperparameter optimisation for: {'reg_alpha': [0, 1e-05, 0.001, 0.1, 10]}\n",
      "2023-09-24 20:48:21,847 - Pipeline - INFO - params: {'max_depth': 4, 'scale_pos_weight': 0.3, 'n_estimators': 70, 'min_child_weight': 1, 'gamma': 0.0, 'colsample_bytree': 0.7, 'subsample': 0.9, 'reg_alpha': 0}\n",
      "2023-09-24 20:48:21,848 - Pipeline - INFO - Performing cross-validation\n",
      "2023-09-24 20:48:23,645 - Pipeline - INFO - Building Ensemble LR model with all the features\n",
      "2023-09-24 20:48:23,646 - Pipeline - INFO - Performing Hyperparameter optimisation\n",
      "2023-09-24 20:48:24,410 - Pipeline - INFO - Building the model\n",
      "2023-09-24 20:48:24,411 - Pipeline - INFO - Performing cross-validation\n",
      "Scores:  {'xgb': {'fit_time': array([0.28457856, 0.20499063, 0.29808307, 0.20544362, 0.20173311]), 'score_time': array([0.02603674, 0.02446651, 0.02665091, 0.02493119, 0.02444315]), 'test_accuracy': array([0.91764706, 0.92929293, 0.92255892, 0.93602694, 0.93771044]), 'test_balanced_accuracy': array([0.73860861, 0.78013834, 0.76679842, 0.78878458, 0.80601847]), 'test_average_precision': array([0.74320656, 0.77331651, 0.77333019, 0.82012057, 0.81810729]), 'test_f1': array([0.63703704, 0.70422535, 0.67605634, 0.72857143, 0.74829932]), 'test_roc_auc': array([0.8829551 , 0.90974218, 0.8968065 , 0.91160618, 0.91329403]), 'test_mccf1_score': array([0.7130889 , 0.76426196, 0.74120963, 0.78500414, 0.79901526])}, 'lr': {'fit_time': array([0.79863214, 0.96457696, 0.09069896, 1.10170341, 0.91584849]), 'score_time': array([0.01079583, 0.01067376, 0.01032114, 0.01090765, 0.01062274]), 'test_accuracy': array([0.91428571, 0.92255892, 0.91582492, 0.93434343, 0.93771044]), 'test_balanced_accuracy': array([0.74589199, 0.78087945, 0.77692688, 0.80657115, 0.82452998]), 'test_average_precision': array([0.72562471, 0.72017893, 0.67317016, 0.82717198, 0.80074396]), 'test_f1': array([0.63829787, 0.68918919, 0.67105263, 0.73825503, 0.76129032]), 'test_roc_auc': array([0.87191899, 0.89397682, 0.89411157, 0.92961732, 0.89449327]), 'test_mccf1_score': array([0.71127458, 0.74987747, 0.73392669, 0.78969595, 0.80730965])}, 'lgbm': {'fit_time': array([0.26049256, 0.2668891 , 0.26633954, 0.27039576, 0.2742312 ]), 'score_time': array([0.01376653, 0.01329708, 0.0131259 , 0.01337028, 0.01331139]), 'test_accuracy': array([0.91596639, 0.91414141, 0.93097643, 0.93602694, 0.94781145]), 'test_balanced_accuracy': array([0.72836079, 0.73369565, 0.79990119, 0.78878458, 0.83047058]), 'test_average_precision': array([0.77614957, 0.7903873 , 0.77957634, 0.84416873, 0.81602954]), 'test_f1': array([0.62121212, 0.62222222, 0.72483221, 0.72857143, 0.79194631]), 'test_roc_auc': array([0.90329529, 0.91629986, 0.90217391, 0.9322898 , 0.90532874]), 'test_mccf1_score': array([0.70177827, 0.70020788, 0.77872172, 0.78500414, 0.83404964])}, 'mlp': {'fit_time': array([1.86437345, 5.09136248, 5.37265849, 2.10549712, 3.24671531]), 'score_time': array([0.01368642, 0.01340389, 0.01385403, 0.01334953, 0.01340151]), 'test_accuracy': array([0.89747899, 0.9023569 , 0.89393939, 0.8973064 , 0.8956229 ]), 'test_balanced_accuracy': array([0.70823156, 0.74085968, 0.75938735, 0.75197628, 0.81828902]), 'test_average_precision': array([0.65125017, 0.68936337, 0.63029342, 0.68673904, 0.74745919]), 'test_f1': array([0.56115108, 0.60810811, 0.61349693, 0.61146497, 0.67021277]), 'test_roc_auc': array([0.85379935, 0.85007186, 0.86765631, 0.86067194, 0.88695072]), 'test_mccf1_score': array([0.6488904 , 0.68356758, 0.68462507, 0.68405756, 0.72902472])}, 'xgb_min': {'fit_time': array([0.08574724, 0.08255959, 0.08213663, 0.08148861, 0.08040071]), 'score_time': array([0.01383519, 0.01297569, 0.01279807, 0.01276159, 0.01271343]), 'test_accuracy': array([0.91428571, 0.92424242, 0.92929293, 0.93434343, 0.93939394]), 'test_balanced_accuracy': array([0.73663232, 0.76309289, 0.78013834, 0.79249012, 0.8208922 ]), 'test_average_precision': array([0.73043927, 0.75859247, 0.74812842, 0.82790017, 0.77971397]), 'test_f1': array([0.62773723, 0.67625899, 0.70422535, 0.72727273, 0.76315789]), 'test_roc_auc': array([0.86763334, 0.90756378, 0.89588573, 0.91695113, 0.8893759 ]), 'test_mccf1_score': array([0.70443674, 0.7426156 , 0.76426196, 0.78273164, 0.80961686])}, 'lr_min': {'fit_time': array([0.09780645, 0.12442684, 0.0846951 , 0.08483672, 0.11106682]), 'score_time': array([0.00915265, 0.00921917, 0.0087738 , 0.00898767, 0.00971746]), 'test_accuracy': array([0.91260504, 0.91919192, 0.91750842, 0.92760943, 0.93771044]), 'test_balanced_accuracy': array([0.74027402, 0.75074111, 0.76852767, 0.77445652, 0.82452998]), 'test_average_precision': array([0.72480016, 0.76257507, 0.67753227, 0.81750932, 0.7861795 ]), 'test_f1': array([0.62857143, 0.65217391, 0.66666667, 0.69503546, 0.76129032]), 'test_roc_auc': array([0.87516099, 0.91248203, 0.88016529, 0.93374955, 0.88801869]), 'test_mccf1_score': array([0.70373288, 0.72333282, 0.73176922, 0.75714147, 0.80730965])}, 'lgbm_min': {'fit_time': array([0.29258156, 0.18380904, 0.18608069, 0.18821502, 0.28522944]), 'score_time': array([0.01102257, 0.01067495, 0.01066637, 0.01074338, 0.01119113]), 'test_accuracy': array([0.91092437, 0.92424242, 0.92760943, 0.93097643, 0.93771044]), 'test_balanced_accuracy': array([0.7300262 , 0.76778656, 0.77445652, 0.77173913, 0.80601847]), 'test_average_precision': array([0.7237139 , 0.77646379, 0.74981326, 0.83749539, 0.81494036]), 'test_f1': array([0.61313869, 0.68085106, 0.69503546, 0.70072993, 0.74829932]), 'test_roc_auc': array([0.8825554 , 0.91149389, 0.89745778, 0.93246946, 0.89516075]), 'test_mccf1_score': array([0.69246015, 0.74553142, 0.75714147, 0.76357241, 0.79901526])}, 'mlp_min': {'fit_time': array([0.68172431, 0.76782131, 0.54638648, 0.99348807, 0.63349438]), 'score_time': array([0.01020813, 0.01386237, 0.0103631 , 0.01016927, 0.00994825]), 'test_accuracy': array([0.89579832, 0.90909091, 0.9040404 , 0.92087542, 0.92255892]), 'test_balanced_accuracy': array([0.72576276, 0.69318182, 0.73246047, 0.83621542, 0.80173545]), 'test_average_precision': array([0.66031985, 0.77098296, 0.64218514, 0.80803687, 0.76580155]), 'test_f1': array([0.58108108, 0.55737705, 0.6013986 , 0.7283237 , 0.70886076]), 'test_roc_auc': array([0.83556868, 0.90089382, 0.85988591, 0.90832734, 0.8819891 ]), 'test_mccf1_score': array([0.66186934, 0.65520628, 0.67972529, 0.77744531, 0.7637515 ])}, 'xgb_ensemble': {'fit_time': array([0.08463764, 0.08312416, 0.08251715, 0.08342648, 0.08356547]), 'score_time': array([0.01663303, 0.01626825, 0.01594996, 0.01702476, 0.01680827]), 'test_accuracy': array([0.90939597, 0.94949495, 0.92255892, 0.92255892, 0.93939394]), 'test_balanced_accuracy': array([0.73653931, 0.86984127, 0.79920635, 0.75741107, 0.8048419 ]), 'test_average_precision': array([0.71468486, 0.83050828, 0.76193695, 0.79275688, 0.8258208 ]), 'test_f1': array([0.61971831, 0.81927711, 0.70886076, 0.66666667, 0.75      ]), 'test_roc_auc': array([0.87465964, 0.94171076, 0.87566138, 0.91870284, 0.91906216]), 'test_mccf1_score': array([0.69621954, 0.8529087 , 0.76404583, 0.73520565, 0.80094698])}, 'lr_ensemble': {'fit_time': array([0.01236176, 0.01051378, 0.01128292, 0.01182747, 0.0106082 ]), 'score_time': array([0.00988746, 0.00964904, 0.01455784, 0.00967836, 0.00944352]), 'test_accuracy': array([0.90604027, 0.93265993, 0.93265993, 0.91245791, 0.94612795]), 'test_balanced_accuracy': array([0.72542819, 0.8234127 , 0.77777778, 0.72332016, 0.82756917]), 'test_average_precision': array([0.73362713, 0.85403962, 0.74725629, 0.80815745, 0.84986098]), 'test_f1': array([0.6       , 0.75      , 0.71428571, 0.60606061, 0.78378378]), 'test_roc_auc': array([0.88519982, 0.96022928, 0.87680776, 0.92067912, 0.93047072]), 'test_mccf1_score': array([0.68092598, 0.79727064, 0.77461799, 0.68853064, 0.82721723])}}\n",
      "2023-09-24 20:48:25,273 - Pipeline - INFO - Saving the CV results for all the models\n",
      "2023-09-24 20:48:25,276 - Pipeline - INFO - Completed !!!\n"
     ]
    }
   ],
   "source": [
    "pm.runPredictionsForAllTargets(\n",
    "    label='raw',\n",
    "    dirPath = dataDirName,\n",
    "    vitalsBefore = 0,\n",
    "    vitalsAfter = 72,\n",
    "    labsBefore = 0,\n",
    "    labsAfter = 72,\n",
    "    # targetList = [7, 14, 21, 30, 60, 90, 120, (7, 14), (14, 21), (21, 30), (30, 60), (60, 90), (90, 120)],\n",
    "    targetList = [7],\n",
    "    )"
   ]
  },
  {
   "cell_type": "markdown",
   "metadata": {},
   "source": [
    "### Remove the data matrix file from working directory"
   ]
  },
  {
   "cell_type": "code",
   "execution_count": 5,
   "metadata": {},
   "outputs": [
    {
     "data": {
      "text/plain": [
       "0"
      ]
     },
     "execution_count": 5,
     "metadata": {},
     "output_type": "execute_result"
    }
   ],
   "source": [
    "import os\n",
    "\n",
    "\n",
    "os.system(\n",
    "    '''rm ''' + dataDirName + '''data_matrix.csv'''\n",
    ")"
   ]
  },
  {
   "cell_type": "markdown",
   "metadata": {},
   "source": [
    "## Perform prediction on standardised dataset"
   ]
  },
  {
   "cell_type": "markdown",
   "metadata": {},
   "source": [
    "### Copy the standardised file to working directory"
   ]
  },
  {
   "cell_type": "code",
   "execution_count": 6,
   "metadata": {},
   "outputs": [
    {
     "data": {
      "text/plain": [
       "0"
      ]
     },
     "execution_count": 6,
     "metadata": {},
     "output_type": "execute_result"
    }
   ],
   "source": [
    "import os\n",
    "\n",
    "\n",
    "os.system(\n",
    "    '''cp ''' + dataDirName + '''data_matrix/data_matrix_standardised.csv ''' + dataDirName + '''data_matrix.csv;'''\n",
    ")"
   ]
  },
  {
   "cell_type": "markdown",
   "metadata": {},
   "source": [
    "### Perform prediction"
   ]
  },
  {
   "cell_type": "code",
   "execution_count": 7,
   "metadata": {},
   "outputs": [
    {
     "name": "stdout",
     "output_type": "stream",
     "text": [
      "2023-09-24 20:48:25,342 - Pipeline - INFO - dirName: standardised_icd_vb_0_va_72_lb_0_la_72\n",
      "2023-09-24 20:48:25,344 - Pipeline - INFO - Running Predictions for vb_0_va_72_lb_0_la_72, targetStart : 0, targetEnd : 7\n",
      "2023-09-24 20:48:25,344 - Pipeline - INFO - Reading data\n",
      "2023-09-24 20:48:25,944 - Pipeline - INFO - Formatting data\n",
      "2023-09-24 20:48:25,951 - Pipeline - INFO - Performing SFS\n",
      "2023-09-24 20:52:08,329 - Pipeline - INFO - Building XGBoost model with all the features\n",
      "2023-09-24 20:52:08,331 - Pipeline - INFO - Performing Hyperparameter optimisation\n",
      "2023-09-24 20:52:08,331 - Pipeline - INFO - Building the model\n",
      "2023-09-24 20:52:08,332 - Pipeline - INFO - Hyperparameter optimisation for: {'max_depth': range(1, 10), 'scale_pos_weight': [0.1, 0.15, 0.2, 0.25, 0.3, 0.35, 0.4]}\n",
      "2023-09-24 20:53:37,505 - Pipeline - INFO - Hyperparameter optimisation for: {'n_estimators': range(50, 250, 10)}\n",
      "2023-09-24 20:54:08,569 - Pipeline - INFO - Hyperparameter optimisation for: {'min_child_weight': range(1, 10)}\n",
      "2023-09-24 20:54:18,749 - Pipeline - INFO - Hyperparameter optimisation for: {'gamma': [0.0, 0.1, 0.2, 0.3, 0.4]}\n",
      "2023-09-24 20:54:25,046 - Pipeline - INFO - Hyperparameter optimisation for: {'subsample': [0.1, 0.2, 0.3, 0.4, 0.5, 0.6, 0.7, 0.8, 0.9], 'colsample_bytree': [0.1, 0.2, 0.3, 0.4, 0.5, 0.6, 0.7, 0.8, 0.9]}\n",
      "2023-09-24 20:55:41,410 - Pipeline - INFO - Hyperparameter optimisation for: {'reg_alpha': [0, 1e-05, 0.001, 0.1, 10]}\n",
      "2023-09-24 20:55:47,206 - Pipeline - INFO - params: {'max_depth': 3, 'scale_pos_weight': 0.15, 'n_estimators': 110, 'min_child_weight': 1, 'gamma': 0.0, 'colsample_bytree': 0.9, 'subsample': 0.7, 'reg_alpha': 0}\n",
      "2023-09-24 20:55:47,208 - Pipeline - INFO - Performing cross-validation\n",
      "2023-09-24 20:55:50,344 - Pipeline - INFO - Building XGBoost model with the selected features\n",
      "2023-09-24 20:55:50,345 - Pipeline - INFO - Performing Hyperparameter optimisation\n",
      "2023-09-24 20:55:50,346 - Pipeline - INFO - Building the model\n",
      "2023-09-24 20:55:50,347 - Pipeline - INFO - Hyperparameter optimisation for: {'max_depth': range(1, 10), 'scale_pos_weight': [0.1, 0.15, 0.2, 0.25, 0.3, 0.35, 0.4]}\n",
      "2023-09-24 20:56:36,469 - Pipeline - INFO - Hyperparameter optimisation for: {'n_estimators': range(50, 250, 10)}\n",
      "2023-09-24 20:56:57,347 - Pipeline - INFO - Hyperparameter optimisation for: {'min_child_weight': range(1, 10)}\n",
      "2023-09-24 20:57:02,728 - Pipeline - INFO - Hyperparameter optimisation for: {'gamma': [0.0, 0.1, 0.2, 0.3, 0.4]}\n",
      "2023-09-24 20:57:06,620 - Pipeline - INFO - Hyperparameter optimisation for: {'subsample': [0.1, 0.2, 0.3, 0.4, 0.5, 0.6, 0.7, 0.8, 0.9], 'colsample_bytree': [0.1, 0.2, 0.3, 0.4, 0.5, 0.6, 0.7, 0.8, 0.9]}\n",
      "2023-09-24 20:57:54,441 - Pipeline - INFO - Hyperparameter optimisation for: {'reg_alpha': [0, 1e-05, 0.001, 0.1, 10]}\n",
      "2023-09-24 20:57:57,516 - Pipeline - INFO - params: {'max_depth': 5, 'scale_pos_weight': 0.15, 'n_estimators': 100, 'min_child_weight': 1, 'gamma': 0.0, 'colsample_bytree': 0.7, 'subsample': 0.5, 'reg_alpha': 0}\n",
      "2023-09-24 20:57:57,517 - Pipeline - INFO - Performing cross-validation\n",
      "2023-09-24 20:57:59,744 - Pipeline - INFO - Building LR model with all the features\n",
      "2023-09-24 20:57:59,745 - Pipeline - INFO - Performing Hyperparameter optimisation\n",
      "2023-09-24 20:58:08,069 - Pipeline - INFO - Building the model\n",
      "2023-09-24 20:58:08,070 - Pipeline - INFO - Performing cross-validation\n",
      "2023-09-24 20:58:09,422 - Pipeline - INFO - Building LR model with the selected features\n",
      "2023-09-24 20:58:09,423 - Pipeline - INFO - Performing Hyperparameter optimisation\n",
      "2023-09-24 20:58:10,237 - Pipeline - INFO - Building the model\n",
      "2023-09-24 20:58:10,239 - Pipeline - INFO - Performing cross-validation\n",
      "2023-09-24 20:58:11,140 - Pipeline - INFO - Building LGBM model with all the features\n",
      "2023-09-24 20:58:11,141 - Pipeline - INFO - Performing Hyperparameter optimisation\n",
      "2023-09-24 20:58:31,569 - Pipeline - INFO - Building the model\n",
      "2023-09-24 20:58:31,570 - Pipeline - INFO - Performing cross-validation\n",
      "2023-09-24 20:58:35,373 - Pipeline - INFO - Building LGBM model with the selected features\n",
      "2023-09-24 20:58:35,374 - Pipeline - INFO - Performing Hyperparameter optimisation\n",
      "2023-09-24 20:58:48,070 - Pipeline - INFO - Building the model\n",
      "2023-09-24 20:58:48,072 - Pipeline - INFO - Performing cross-validation\n",
      "2023-09-24 20:58:50,767 - Pipeline - INFO - Building MLP model with all the features\n",
      "2023-09-24 20:58:50,768 - Pipeline - INFO - Building the model\n",
      "2023-09-24 20:58:54,157 - Pipeline - INFO - Performing cross-validation\n",
      "2023-09-24 20:59:22,283 - Pipeline - INFO - Building MLP model with the selected features\n",
      "2023-09-24 20:59:22,284 - Pipeline - INFO - Building the model\n",
      "2023-09-24 20:59:24,826 - Pipeline - INFO - Performing cross-validation\n",
      "2023-09-24 20:59:46,118 - Pipeline - INFO - Get Outputs from first level models\n",
      "2023-09-24 20:59:46,120 - Pipeline - INFO - Obtaining output probabilities\n",
      "2023-09-24 20:59:46,120 - Pipeline - INFO - Split data to test and train sets\n",
      "2023-09-24 20:59:46,128 - Pipeline - INFO - Performing Hyperparameter optimisation for XGBoost\n",
      "2023-09-24 20:59:46,129 - Pipeline - INFO - Hyperparameter optimisation for: {'max_depth': range(1, 10), 'scale_pos_weight': [0.1, 0.15, 0.2, 0.25, 0.3, 0.35, 0.4]}\n",
      "2023-09-24 21:00:23,030 - Pipeline - INFO - Hyperparameter optimisation for: {'n_estimators': range(50, 250, 10)}\n",
      "2023-09-24 21:00:32,175 - Pipeline - INFO - Hyperparameter optimisation for: {'min_child_weight': range(1, 10)}\n",
      "2023-09-24 21:00:34,865 - Pipeline - INFO - Hyperparameter optimisation for: {'gamma': [0.0, 0.1, 0.2, 0.3, 0.4]}\n",
      "2023-09-24 21:00:36,411 - Pipeline - INFO - Hyperparameter optimisation for: {'subsample': [0.1, 0.2, 0.3, 0.4, 0.5, 0.6, 0.7, 0.8, 0.9], 'colsample_bytree': [0.1, 0.2, 0.3, 0.4, 0.5, 0.6, 0.7, 0.8, 0.9]}\n",
      "2023-09-24 21:01:02,613 - Pipeline - INFO - Hyperparameter optimisation for: {'reg_alpha': [0, 1e-05, 0.001, 0.1, 10]}\n",
      "2023-09-24 21:01:04,212 - Pipeline - INFO - params: {'max_depth': 2, 'scale_pos_weight': 0.4, 'n_estimators': 90, 'min_child_weight': 1, 'gamma': 0.0, 'colsample_bytree': 0.3, 'subsample': 0.9, 'reg_alpha': 0}\n",
      "2023-09-24 21:01:04,217 - Pipeline - INFO - Performing Hyperparameter optimisation for Logistic Regression\n",
      "2023-09-24 21:01:04,949 - Pipeline - INFO - Building individual models\n",
      "2023-09-24 21:02:40,963 - Pipeline - INFO - Building Ensemble XGBoost model with all the features\n",
      "2023-09-24 21:02:40,970 - Pipeline - INFO - Performing Hyperparameter optimisation\n",
      "2023-09-24 21:02:40,971 - Pipeline - INFO - Building the model\n",
      "2023-09-24 21:02:40,972 - Pipeline - INFO - Hyperparameter optimisation for: {'max_depth': range(1, 10), 'scale_pos_weight': [0.1, 0.15, 0.2, 0.25, 0.3, 0.35, 0.4]}\n",
      "2023-09-24 21:03:20,618 - Pipeline - INFO - Hyperparameter optimisation for: {'n_estimators': range(50, 250, 10)}\n",
      "2023-09-24 21:03:39,131 - Pipeline - INFO - Hyperparameter optimisation for: {'min_child_weight': range(1, 10)}\n",
      "2023-09-24 21:03:45,899 - Pipeline - INFO - Hyperparameter optimisation for: {'gamma': [0.0, 0.1, 0.2, 0.3, 0.4]}\n",
      "2023-09-24 21:03:51,367 - Pipeline - INFO - Hyperparameter optimisation for: {'subsample': [0.1, 0.2, 0.3, 0.4, 0.5, 0.6, 0.7, 0.8, 0.9], 'colsample_bytree': [0.1, 0.2, 0.3, 0.4, 0.5, 0.6, 0.7, 0.8, 0.9]}\n",
      "2023-09-24 21:04:49,775 - Pipeline - INFO - Hyperparameter optimisation for: {'reg_alpha': [0, 1e-05, 0.001, 0.1, 10]}\n",
      "2023-09-24 21:04:54,100 - Pipeline - INFO - params: {'max_depth': 7, 'scale_pos_weight': 0.3, 'n_estimators': 150, 'min_child_weight': 1, 'gamma': 0.0, 'colsample_bytree': 0.7, 'subsample': 0.7, 'reg_alpha': 0}\n",
      "2023-09-24 21:04:54,105 - Pipeline - INFO - Performing cross-validation\n",
      "2023-09-24 21:04:56,491 - Pipeline - INFO - Building Ensemble LR model with all the features\n",
      "2023-09-24 21:04:56,492 - Pipeline - INFO - Performing Hyperparameter optimisation\n",
      "2023-09-24 21:04:57,255 - Pipeline - INFO - Building the model\n",
      "2023-09-24 21:04:57,256 - Pipeline - INFO - Performing cross-validation\n",
      "Scores:  {'xgb': {'fit_time': array([0.21611691, 0.30956912, 0.21386862, 0.21188879, 0.21734786]), 'score_time': array([0.02574611, 0.02524829, 0.02504826, 0.02569509, 0.02508259]), 'test_accuracy': array([0.91596639, 0.92929293, 0.92760943, 0.93265993, 0.93602694]), 'test_balanced_accuracy': array([0.7422503 , 0.77544466, 0.78384387, 0.78211462, 0.80965625]), 'test_average_precision': array([0.73622176, 0.76500516, 0.78906431, 0.81989519, 0.8239687 ]), 'test_f1': array([0.63768116, 0.7       , 0.70344828, 0.71428571, 0.74666667]), 'test_roc_auc': array([0.8780477 , 0.9051608 , 0.90769853, 0.92588933, 0.92501947]), 'test_mccf1_score': array([0.71211066, 0.7616212 , 0.76251722, 0.77331376, 0.79671065])}, 'lr': {'fit_time': array([0.05914927, 0.05541921, 0.05842543, 0.06028771, 0.05975413]), 'score_time': array([0.01059818, 0.01018381, 0.01343298, 0.010005  , 0.01137042]), 'test_accuracy': array([0.91428571, 0.91919192, 0.92087542, 0.93602694, 0.94612795]), 'test_balanced_accuracy': array([0.7597815 , 0.76482213, 0.79397233, 0.80755929, 0.83873623]), 'test_average_precision': array([0.7289213 , 0.76001492, 0.71514146, 0.81951358, 0.8103281 ]), 'test_f1': array([0.65306122, 0.66666667, 0.69677419, 0.74324324, 0.79220779]), 'test_roc_auc': array([0.88304392, 0.9038807 , 0.90403791, 0.92445203, 0.90192457]), 'test_mccf1_score': array([0.72110095, 0.73277947, 0.75423293, 0.79407604, 0.83284011])}, 'lgbm': {'fit_time': array([0.28450418, 0.28522253, 0.29244947, 0.30244756, 0.29708695]), 'score_time': array([0.01350355, 0.01308537, 0.01331639, 0.01375794, 0.01298428]), 'test_accuracy': array([0.91596639, 0.91245791, 0.92929293, 0.93771044, 0.94781145]), 'test_balanced_accuracy': array([0.72836079, 0.72332016, 0.79891304, 0.78977273, 0.83509845]), 'test_average_precision': array([0.75296438, 0.79196284, 0.79380684, 0.85623258, 0.80217464]), 'test_f1': array([0.62121212, 0.60606061, 0.72      , 0.73381295, 0.79470199]), 'test_roc_auc': array([0.89541236, 0.92011768, 0.9146829 , 0.94264283, 0.90828791]), 'test_mccf1_score': array([0.70177827, 0.68853064, 0.77448274, 0.78972982, 0.83569534])}, 'mlp': {'fit_time': array([2.5556941 , 2.99755263, 2.78256941, 2.67402411, 2.66840291]), 'score_time': array([0.01392174, 0.01348734, 0.01376224, 0.01345062, 0.01355696]), 'test_accuracy': array([0.89915966, 0.8973064 , 0.89225589, 0.9040404 , 0.92929293]), 'test_balanced_accuracy': array([0.73236888, 0.75666996, 0.76778656, 0.75592885, 0.82420736]), 'test_average_precision': array([0.66191246, 0.67692654, 0.65315442, 0.68177777, 0.77900084]), 'test_f1': array([0.59459459, 0.6163522 , 0.61904762, 0.62745098, 0.74074074]), 'test_roc_auc': array([0.84049829, 0.85879671, 0.85604563, 0.85415918, 0.88205585]), 'test_mccf1_score': array([0.67292838, 0.6876566 , 0.68845953, 0.69802862, 0.78906189])}, 'xgb_min': {'fit_time': array([0.11793542, 0.11856246, 0.11760092, 0.11965394, 0.21691155]), 'score_time': array([0.0140028 , 0.0132978 , 0.01373029, 0.01443815, 0.0141294 ]), 'test_accuracy': array([0.90588235, 0.92255892, 0.92760943, 0.92424242, 0.93265993]), 'test_balanced_accuracy': array([0.69928276, 0.75741107, 0.7791502 , 0.75839921, 0.78916453]), 'test_average_precision': array([0.73768761, 0.73539413, 0.76590461, 0.7744848 , 0.77723549]), 'test_f1': array([0.5625    , 0.66666667, 0.6993007 , 0.67153285, 0.72222222]), 'test_roc_auc': array([0.88819559, 0.88577973, 0.88773356, 0.8812208 , 0.90426076]), 'test_mccf1_score': array([0.65598396, 0.73520565, 0.75984788, 0.7396562 , 0.7787735 ])}, 'lr_min': {'fit_time': array([0.01876903, 0.01730132, 0.01711082, 0.01668   , 0.01676345]), 'score_time': array([0.00868535, 0.00833774, 0.00828815, 0.0082953 , 0.00829744]), 'test_accuracy': array([0.9092437 , 0.92424242, 0.91750842, 0.93602694, 0.93602694]), 'test_balanced_accuracy': array([0.73829773, 0.76778656, 0.76852767, 0.78409091, 0.80965625]), 'test_average_precision': array([0.70944574, 0.76654161, 0.73515823, 0.81796763, 0.78339446]), 'test_f1': array([0.61971831, 0.68085106, 0.66666667, 0.72463768, 0.74666667]), 'test_roc_auc': array([0.87449483, 0.90888879, 0.88083902, 0.92934783, 0.88904216]), 'test_mccf1_score': array([0.6956404 , 0.74553142, 0.73176922, 0.78267528, 0.79671065])}, 'lgbm_min': {'fit_time': array([0.18544936, 0.18294811, 0.282727  , 0.18033075, 0.17885375]), 'score_time': array([0.01145387, 0.01161981, 0.01152039, 0.01221251, 0.01160288]), 'test_accuracy': array([0.90756303, 0.92087542, 0.92424242, 0.92592593, 0.93265993]), 'test_balanced_accuracy': array([0.70953058, 0.7611166 , 0.78186759, 0.7687747 , 0.78916453]), 'test_average_precision': array([0.74595292, 0.74314875, 0.75757616, 0.78802851, 0.77857668]), 'test_f1': array([0.58015267, 0.66666667, 0.69387755, 0.68571429, 0.72222222]), 'test_roc_auc': array([0.89583426, 0.89500988, 0.89575099, 0.89512217, 0.88797419]), 'test_mccf1_score': array([0.66861325, 0.73392006, 0.75402361, 0.74992677, 0.7787735 ])}, 'mlp_min': {'fit_time': array([2.03724289, 2.04986739, 2.0257442 , 2.05853987, 2.05491018]), 'score_time': array([0.01044106, 0.01027083, 0.01016784, 0.01018119, 0.01810884]), 'test_accuracy': array([0.89747899, 0.8989899 , 0.8989899 , 0.90740741, 0.91414141]), 'test_balanced_accuracy': array([0.73138073, 0.76235178, 0.77173913, 0.77198617, 0.80604072]), 'test_average_precision': array([0.6216163 , 0.71269944, 0.65899994, 0.7060314 , 0.74153594]), 'test_f1': array([0.59060403, 0.625     , 0.63414634, 0.64968153, 0.69461078]), 'test_roc_auc': array([0.84409557, 0.86837496, 0.86112109, 0.85141933, 0.87242185]), 'test_mccf1_score': array([0.66935355, 0.69454213, 0.70136133, 0.71530238, 0.75055251])}, 'xgb_ensemble': {'fit_time': array([0.15507865, 0.15337801, 0.14969611, 0.15280724, 0.15268302]), 'score_time': array([0.01728225, 0.01646066, 0.0163939 , 0.01650739, 0.01646686]), 'test_accuracy': array([0.91610738, 0.93602694, 0.92255892, 0.92255892, 0.94276094]), 'test_balanced_accuracy': array([0.7496267 , 0.87103175, 0.78095238, 0.75741107, 0.81620553]), 'test_average_precision': array([0.74980894, 0.81363274, 0.75746193, 0.80450221, 0.79541175]), 'test_f1': array([0.64788732, 0.78651685, 0.69333333, 0.66666667, 0.76712329]), 'test_roc_auc': array([0.89591568, 0.93465608, 0.89171076, 0.92993173, 0.8946281 ]), 'test_mccf1_score': array([0.71931159, 0.82488602, 0.75352044, 0.73520565, 0.81424484])}, 'lr_ensemble': {'fit_time': array([0.01202965, 0.01117182, 0.01132107, 0.01152039, 0.01051903]), 'score_time': array([0.00966215, 0.01003408, 0.00961041, 0.00941968, 0.00944924]), 'test_accuracy': array([0.90268456, 0.92929293, 0.92592593, 0.92592593, 0.93939394]), 'test_balanced_accuracy': array([0.71431708, 0.8031746 , 0.76468254, 0.75938735, 0.8048419 ]), 'test_average_precision': array([0.75325046, 0.84290121, 0.73254891, 0.80978915, 0.84545777]), 'test_f1': array([0.57971014, 0.72727273, 0.68571429, 0.67647059, 0.75      ]), 'test_roc_auc': array([0.89644269, 0.96393298, 0.85978836, 0.91654689, 0.93226734]), 'test_mccf1_score': array([0.66520942, 0.78011019, 0.75120146, 0.74418555, 0.80094698])}}\n",
      "2023-09-24 21:04:58,141 - Pipeline - INFO - Saving the CV results for all the models\n",
      "2023-09-24 21:04:58,144 - Pipeline - INFO - Completed !!!\n"
     ]
    }
   ],
   "source": [
    "pm.runPredictionsForAllTargets(\n",
    "    label='standardised',\n",
    "    dirPath = dataDirName,\n",
    "    vitalsBefore = 0,\n",
    "    vitalsAfter = 72,\n",
    "    labsBefore = 0,\n",
    "    labsAfter = 72,\n",
    "    # targetList = [7, 14, 21, 30, 60, 90, 120, (7, 14), (14, 21), (21, 30), (30, 60), (60, 90), (90, 120)],\n",
    "    targetList = [7],\n",
    "    )"
   ]
  },
  {
   "cell_type": "markdown",
   "metadata": {},
   "source": [
    "### Remove the data matrix file from working directory"
   ]
  },
  {
   "cell_type": "code",
   "execution_count": 8,
   "metadata": {},
   "outputs": [
    {
     "data": {
      "text/plain": [
       "0"
      ]
     },
     "execution_count": 8,
     "metadata": {},
     "output_type": "execute_result"
    }
   ],
   "source": [
    "import os\n",
    "\n",
    "\n",
    "os.system(\n",
    "    '''rm ''' + dataDirName + '''data_matrix.csv'''\n",
    ")"
   ]
  },
  {
   "cell_type": "markdown",
   "metadata": {},
   "source": [
    "## Perform prediction on rescaled dataset"
   ]
  },
  {
   "cell_type": "markdown",
   "metadata": {},
   "source": [
    "### Copy the rescaled file to working directory"
   ]
  },
  {
   "cell_type": "code",
   "execution_count": 9,
   "metadata": {},
   "outputs": [
    {
     "data": {
      "text/plain": [
       "0"
      ]
     },
     "execution_count": 9,
     "metadata": {},
     "output_type": "execute_result"
    }
   ],
   "source": [
    "import os\n",
    "\n",
    "\n",
    "os.system(\n",
    "    '''cp ''' + dataDirName + '''data_matrix/data_matrix_rescaled.csv ''' + dataDirName + '''data_matrix.csv;'''\n",
    ")"
   ]
  },
  {
   "cell_type": "markdown",
   "metadata": {},
   "source": [
    "### Perform prediction"
   ]
  },
  {
   "cell_type": "code",
   "execution_count": 10,
   "metadata": {},
   "outputs": [
    {
     "name": "stdout",
     "output_type": "stream",
     "text": [
      "2023-09-24 21:04:58,211 - Pipeline - INFO - dirName: rescaled_icd_vb_0_va_72_lb_0_la_72\n",
      "2023-09-24 21:04:58,212 - Pipeline - INFO - Running Predictions for vb_0_va_72_lb_0_la_72, targetStart : 0, targetEnd : 7\n",
      "2023-09-24 21:04:58,212 - Pipeline - INFO - Reading data\n",
      "2023-09-24 21:04:58,803 - Pipeline - INFO - Formatting data\n",
      "2023-09-24 21:04:58,811 - Pipeline - INFO - Performing SFS\n",
      "2023-09-24 21:08:52,708 - Pipeline - INFO - Building XGBoost model with all the features\n",
      "2023-09-24 21:08:52,710 - Pipeline - INFO - Performing Hyperparameter optimisation\n",
      "2023-09-24 21:08:52,710 - Pipeline - INFO - Building the model\n",
      "2023-09-24 21:08:52,711 - Pipeline - INFO - Hyperparameter optimisation for: {'max_depth': range(1, 10), 'scale_pos_weight': [0.1, 0.15, 0.2, 0.25, 0.3, 0.35, 0.4]}\n",
      "2023-09-24 21:10:22,473 - Pipeline - INFO - Hyperparameter optimisation for: {'n_estimators': range(50, 250, 10)}\n",
      "2023-09-24 21:10:53,791 - Pipeline - INFO - Hyperparameter optimisation for: {'min_child_weight': range(1, 10)}\n",
      "2023-09-24 21:11:03,909 - Pipeline - INFO - Hyperparameter optimisation for: {'gamma': [0.0, 0.1, 0.2, 0.3, 0.4]}\n",
      "2023-09-24 21:11:10,609 - Pipeline - INFO - Hyperparameter optimisation for: {'subsample': [0.1, 0.2, 0.3, 0.4, 0.5, 0.6, 0.7, 0.8, 0.9], 'colsample_bytree': [0.1, 0.2, 0.3, 0.4, 0.5, 0.6, 0.7, 0.8, 0.9]}\n",
      "2023-09-24 21:12:26,935 - Pipeline - INFO - Hyperparameter optimisation for: {'reg_alpha': [0, 1e-05, 0.001, 0.1, 10]}\n",
      "2023-09-24 21:12:32,361 - Pipeline - INFO - params: {'max_depth': 3, 'scale_pos_weight': 0.15, 'n_estimators': 110, 'min_child_weight': 1, 'gamma': 0.0, 'colsample_bytree': 0.7, 'subsample': 0.8, 'reg_alpha': 0}\n",
      "2023-09-24 21:12:32,362 - Pipeline - INFO - Performing cross-validation\n",
      "2023-09-24 21:12:35,305 - Pipeline - INFO - Building XGBoost model with the selected features\n",
      "2023-09-24 21:12:35,307 - Pipeline - INFO - Performing Hyperparameter optimisation\n",
      "2023-09-24 21:12:35,307 - Pipeline - INFO - Building the model\n",
      "2023-09-24 21:12:35,308 - Pipeline - INFO - Hyperparameter optimisation for: {'max_depth': range(1, 10), 'scale_pos_weight': [0.1, 0.15, 0.2, 0.25, 0.3, 0.35, 0.4]}\n",
      "2023-09-24 21:13:21,542 - Pipeline - INFO - Hyperparameter optimisation for: {'n_estimators': range(50, 250, 10)}\n",
      "2023-09-24 21:13:47,221 - Pipeline - INFO - Hyperparameter optimisation for: {'min_child_weight': range(1, 10)}\n",
      "2023-09-24 21:14:01,019 - Pipeline - INFO - Hyperparameter optimisation for: {'gamma': [0.0, 0.1, 0.2, 0.3, 0.4]}\n",
      "2023-09-24 21:14:12,003 - Pipeline - INFO - Hyperparameter optimisation for: {'subsample': [0.1, 0.2, 0.3, 0.4, 0.5, 0.6, 0.7, 0.8, 0.9], 'colsample_bytree': [0.1, 0.2, 0.3, 0.4, 0.5, 0.6, 0.7, 0.8, 0.9]}\n",
      "2023-09-24 21:16:13,664 - Pipeline - INFO - Hyperparameter optimisation for: {'reg_alpha': [0, 1e-05, 0.001, 0.1, 10]}\n",
      "2023-09-24 21:16:22,145 - Pipeline - INFO - params: {'max_depth': 7, 'scale_pos_weight': 0.35, 'n_estimators': 240, 'min_child_weight': 1, 'gamma': 0.0, 'colsample_bytree': 0.8, 'subsample': 0.7, 'reg_alpha': 1e-05}\n",
      "2023-09-24 21:16:22,147 - Pipeline - INFO - Performing cross-validation\n",
      "2023-09-24 21:16:26,376 - Pipeline - INFO - Building LR model with all the features\n",
      "2023-09-24 21:16:26,377 - Pipeline - INFO - Performing Hyperparameter optimisation\n",
      "2023-09-24 21:16:30,132 - Pipeline - INFO - Building the model\n",
      "2023-09-24 21:16:30,133 - Pipeline - INFO - Performing cross-validation\n",
      "2023-09-24 21:16:31,781 - Pipeline - INFO - Building LR model with the selected features\n",
      "2023-09-24 21:16:31,782 - Pipeline - INFO - Performing Hyperparameter optimisation\n",
      "2023-09-24 21:16:32,716 - Pipeline - INFO - Building the model\n",
      "2023-09-24 21:16:32,718 - Pipeline - INFO - Performing cross-validation\n",
      "2023-09-24 21:16:33,803 - Pipeline - INFO - Building LGBM model with all the features\n",
      "2023-09-24 21:16:33,804 - Pipeline - INFO - Performing Hyperparameter optimisation\n",
      "2023-09-24 21:16:53,673 - Pipeline - INFO - Building the model\n",
      "2023-09-24 21:16:53,676 - Pipeline - INFO - Performing cross-validation\n",
      "2023-09-24 21:16:57,336 - Pipeline - INFO - Building LGBM model with the selected features\n",
      "2023-09-24 21:16:57,337 - Pipeline - INFO - Performing Hyperparameter optimisation\n",
      "2023-09-24 21:17:10,831 - Pipeline - INFO - Building the model\n",
      "2023-09-24 21:17:10,832 - Pipeline - INFO - Performing cross-validation\n",
      "2023-09-24 21:17:13,502 - Pipeline - INFO - Building MLP model with all the features\n",
      "2023-09-24 21:17:13,504 - Pipeline - INFO - Building the model\n",
      "2023-09-24 21:17:26,262 - Pipeline - INFO - Performing cross-validation\n",
      "2023-09-24 21:18:54,331 - Pipeline - INFO - Building MLP model with the selected features\n",
      "2023-09-24 21:18:54,332 - Pipeline - INFO - Building the model\n",
      "2023-09-24 21:18:56,610 - Pipeline - INFO - Performing cross-validation\n",
      "2023-09-24 21:19:08,073 - Pipeline - INFO - Get Outputs from first level models\n",
      "2023-09-24 21:19:08,075 - Pipeline - INFO - Obtaining output probabilities\n",
      "2023-09-24 21:19:08,076 - Pipeline - INFO - Split data to test and train sets\n",
      "2023-09-24 21:19:08,085 - Pipeline - INFO - Performing Hyperparameter optimisation for XGBoost\n",
      "2023-09-24 21:19:08,086 - Pipeline - INFO - Hyperparameter optimisation for: {'max_depth': range(1, 10), 'scale_pos_weight': [0.1, 0.15, 0.2, 0.25, 0.3, 0.35, 0.4]}\n",
      "2023-09-24 21:19:44,554 - Pipeline - INFO - Hyperparameter optimisation for: {'n_estimators': range(50, 250, 10)}\n",
      "2023-09-24 21:19:53,607 - Pipeline - INFO - Hyperparameter optimisation for: {'min_child_weight': range(1, 10)}\n",
      "2023-09-24 21:19:56,255 - Pipeline - INFO - Hyperparameter optimisation for: {'gamma': [0.0, 0.1, 0.2, 0.3, 0.4]}\n",
      "2023-09-24 21:19:57,776 - Pipeline - INFO - Hyperparameter optimisation for: {'subsample': [0.1, 0.2, 0.3, 0.4, 0.5, 0.6, 0.7, 0.8, 0.9], 'colsample_bytree': [0.1, 0.2, 0.3, 0.4, 0.5, 0.6, 0.7, 0.8, 0.9]}\n",
      "2023-09-24 21:20:24,054 - Pipeline - INFO - Hyperparameter optimisation for: {'reg_alpha': [0, 1e-05, 0.001, 0.1, 10]}\n",
      "2023-09-24 21:20:25,654 - Pipeline - INFO - params: {'max_depth': 2, 'scale_pos_weight': 0.4, 'n_estimators': 90, 'min_child_weight': 1, 'gamma': 0.0, 'colsample_bytree': 0.4, 'subsample': 0.6, 'reg_alpha': 0.1}\n",
      "2023-09-24 21:20:25,656 - Pipeline - INFO - Performing Hyperparameter optimisation for Logistic Regression\n",
      "2023-09-24 21:20:26,147 - Pipeline - INFO - Building individual models\n",
      "2023-09-24 21:21:34,004 - Pipeline - INFO - Building Ensemble XGBoost model with all the features\n",
      "2023-09-24 21:21:34,006 - Pipeline - INFO - Performing Hyperparameter optimisation\n",
      "2023-09-24 21:21:34,007 - Pipeline - INFO - Building the model\n",
      "2023-09-24 21:21:34,007 - Pipeline - INFO - Hyperparameter optimisation for: {'max_depth': range(1, 10), 'scale_pos_weight': [0.1, 0.15, 0.2, 0.25, 0.3, 0.35, 0.4]}\n",
      "2023-09-24 21:22:12,033 - Pipeline - INFO - Hyperparameter optimisation for: {'n_estimators': range(50, 250, 10)}\n",
      "2023-09-24 21:22:22,116 - Pipeline - INFO - Hyperparameter optimisation for: {'min_child_weight': range(1, 10)}\n",
      "2023-09-24 21:22:25,718 - Pipeline - INFO - Hyperparameter optimisation for: {'gamma': [0.0, 0.1, 0.2, 0.3, 0.4]}\n",
      "2023-09-24 21:22:27,690 - Pipeline - INFO - Hyperparameter optimisation for: {'subsample': [0.1, 0.2, 0.3, 0.4, 0.5, 0.6, 0.7, 0.8, 0.9], 'colsample_bytree': [0.1, 0.2, 0.3, 0.4, 0.5, 0.6, 0.7, 0.8, 0.9]}\n",
      "2023-09-24 21:22:56,918 - Pipeline - INFO - Hyperparameter optimisation for: {'reg_alpha': [0, 1e-05, 0.001, 0.1, 10]}\n",
      "2023-09-24 21:22:58,711 - Pipeline - INFO - params: {'max_depth': 1, 'scale_pos_weight': 0.4, 'n_estimators': 110, 'min_child_weight': 1, 'gamma': 0.0, 'colsample_bytree': 0.2, 'subsample': 0.9, 'reg_alpha': 0.1}\n",
      "2023-09-24 21:22:58,717 - Pipeline - INFO - Performing cross-validation\n",
      "2023-09-24 21:23:00,301 - Pipeline - INFO - Building Ensemble LR model with all the features\n",
      "2023-09-24 21:23:00,302 - Pipeline - INFO - Performing Hyperparameter optimisation\n",
      "2023-09-24 21:23:01,056 - Pipeline - INFO - Building the model\n",
      "2023-09-24 21:23:01,057 - Pipeline - INFO - Performing cross-validation\n",
      "Scores:  {'xgb': {'fit_time': array([0.20173693, 0.20115542, 0.21009374, 0.20113778, 0.20490074]), 'score_time': array([0.02758455, 0.02548909, 0.02579951, 0.02534509, 0.02573466]), 'test_accuracy': array([0.91596639, 0.92424242, 0.92760943, 0.93434343, 0.93602694]), 'test_balanced_accuracy': array([0.72373096, 0.76778656, 0.78384387, 0.78310277, 0.80965625]), 'test_average_precision': array([0.73141486, 0.74466562, 0.76697857, 0.81512106, 0.81417775]), 'test_f1': array([0.61538462, 0.68085106, 0.70344828, 0.71942446, 0.74666667]), 'test_roc_auc': array([0.87791446, 0.88232124, 0.89748024, 0.9198931 , 0.90962287]), 'test_mccf1_score': array([0.69821901, 0.74553142, 0.76251722, 0.77795496, 0.79671065])}, 'lr': {'fit_time': array([0.09123564, 0.08939815, 0.08145928, 0.08974147, 0.08548832]), 'score_time': array([0.01121068, 0.01145792, 0.01024127, 0.01007223, 0.01019526]), 'test_accuracy': array([0.9092437 , 0.91919192, 0.92255892, 0.93434343, 0.94276094]), 'test_balanced_accuracy': array([0.75218724, 0.77420949, 0.79496047, 0.80187747, 0.83675604]), 'test_average_precision': array([0.74318282, 0.75772166, 0.7668129 , 0.8282177 , 0.80897788]), 'test_f1': array([0.63513514, 0.67567568, 0.7012987 , 0.73469388, 0.78205128]), 'test_roc_auc': array([0.88997202, 0.90803539, 0.90832734, 0.92458678, 0.90105685]), 'test_mccf1_score': array([0.70610388, 0.73882662, 0.75816183, 0.78740098, 0.82405058])}, 'lgbm': {'fit_time': array([0.2830162 , 0.28437972, 0.28663874, 0.29838276, 0.28742051]), 'score_time': array([0.01322508, 0.01304245, 0.01301718, 0.01264167, 0.01268816]), 'test_accuracy': array([0.91092437, 0.91750842, 0.92929293, 0.93939394, 0.94444444]), 'test_balanced_accuracy': array([0.70687703, 0.73567194, 0.79421937, 0.80014822, 0.8238625 ]), 'test_average_precision': array([0.76780028, 0.78546069, 0.78907383, 0.85511686, 0.81342862]), 'test_f1': array([0.58267717, 0.63157895, 0.71621622, 0.74647887, 0.77852349]), 'test_roc_auc': array([0.90349514, 0.92110582, 0.91073033, 0.94486615, 0.9067527 ]), 'test_mccf1_score': array([0.67330669, 0.70892937, 0.77197787, 0.7988292 , 0.82307398])}, 'mlp': {'fit_time': array([9.53163695, 9.66256952, 8.03856659, 6.9558208 , 9.46992373]), 'score_time': array([0.01465178, 0.01389456, 0.01400542, 0.0141046 , 0.01509142]), 'test_accuracy': array([0.8907563 , 0.8956229 , 0.90909091, 0.8973064 , 0.91077441]), 'test_balanced_accuracy': array([0.71353866, 0.76037549, 0.81991107, 0.76605731, 0.77629325]), 'test_average_precision': array([0.63399763, 0.65091782, 0.70992298, 0.70604064, 0.76801668]), 'test_f1': array([0.55782313, 0.61728395, 0.69318182, 0.62576687, 0.66242038]), 'test_roc_auc': array([0.7965093 , 0.81836148, 0.88038987, 0.87854833, 0.89326955]), 'test_mccf1_score': array([0.64315211, 0.68788501, 0.74843548, 0.69466101, 0.7259854 ])}, 'xgb_min': {'fit_time': array([0.33297443, 0.33849692, 0.33802652, 0.3447876 , 0.34066033]), 'score_time': array([0.01653862, 0.01504707, 0.01501918, 0.01529193, 0.01512694]), 'test_accuracy': array([0.90756303, 0.92592593, 0.92255892, 0.92760943, 0.93434343]), 'test_balanced_accuracy': array([0.72342008, 0.7687747 , 0.78557312, 0.79323123, 0.81329403]), 'test_average_precision': array([0.7085452 , 0.75051399, 0.70721356, 0.80195367, 0.79929338]), 'test_f1': array([0.59854015, 0.68571429, 0.69333333, 0.7114094 , 0.74509804]), 'test_roc_auc': array([0.86987609, 0.88649838, 0.87895257, 0.91443586, 0.90412727]), 'test_mccf1_score': array([0.68048185, 0.74992677, 0.75268019, 0.76774699, 0.79457568])}, 'lr_min': {'fit_time': array([0.03222537, 0.02672482, 0.03018808, 0.03160667, 0.03132701]), 'score_time': array([0.00878954, 0.00857353, 0.00880718, 0.01064658, 0.0106082 ]), 'test_accuracy': array([0.9210084 , 0.91245791, 0.91582492, 0.92592593, 0.93265993]), 'test_balanced_accuracy': array([0.7683639 , 0.74678854, 0.77692688, 0.77816206, 0.81230393]), 'test_average_precision': array([0.71939011, 0.72863254, 0.74651796, 0.8080426 , 0.78861203]), 'test_f1': array([0.67586207, 0.63380282, 0.67105263, 0.69444444, 0.74025974]), 'test_roc_auc': array([0.87673758, 0.89442598, 0.89040604, 0.93300844, 0.89607298]), 'test_mccf1_score': array([0.7404629 , 0.70662343, 0.73392669, 0.75550604, 0.79035908])}, 'lgbm_min': {'fit_time': array([0.19097066, 0.18536472, 0.18913436, 0.18646121, 0.1878736 ]), 'score_time': array([0.01150537, 0.01162529, 0.01168513, 0.01090312, 0.01189137]), 'test_accuracy': array([0.90756303, 0.91750842, 0.91919192, 0.93434343, 0.92929293]), 'test_balanced_accuracy': array([0.71416041, 0.73567194, 0.76482213, 0.78779644, 0.78718434]), 'test_average_precision': array([0.72623539, 0.74649099, 0.73537237, 0.84287383, 0.79591318]), 'test_f1': array([0.58646617, 0.63157895, 0.66666667, 0.72340426, 0.71232877]), 'test_roc_auc': array([0.86685615, 0.88456701, 0.88184962, 0.93651186, 0.90512849]), 'test_mccf1_score': array([0.67264443, 0.70892937, 0.73277947, 0.78035678, 0.76993553])}, 'mlp_min': {'fit_time': array([1.0484767 , 1.45776725, 1.11193752, 0.86633611, 0.92604041]), 'score_time': array([0.01150131, 0.0137105 , 0.01064801, 0.01033878, 0.01034904]), 'test_accuracy': array([0.90420168, 0.90909091, 0.90909091, 0.91919192, 0.91582492]), 'test_balanced_accuracy': array([0.7353333 , 0.7354249 , 0.78236166, 0.76482213, 0.77463567]), 'test_average_precision': array([0.70079663, 0.72806361, 0.74707436, 0.78345037, 0.78059049]), 'test_f1': array([0.60689655, 0.61428571, 0.6625    , 0.66666667, 0.67105263]), 'test_roc_auc': array([0.86274815, 0.89559378, 0.8960654 , 0.92550755, 0.89863166]), 'test_mccf1_score': array([0.68400396, 0.69143396, 0.72520585, 0.73277947, 0.73428428])}, 'xgb_ensemble': {'fit_time': array([0.06608176, 0.06154156, 0.06151509, 0.06139851, 0.06182861]), 'score_time': array([0.0169909 , 0.01563549, 0.01560807, 0.01557779, 0.01569486]), 'test_accuracy': array([0.90604027, 0.94276094, 0.93602694, 0.92255892, 0.94276094]), 'test_balanced_accuracy': array([0.72542819, 0.85674603, 0.79801587, 0.74802372, 0.81620553]), 'test_average_precision': array([0.7590153 , 0.84768377, 0.76181262, 0.8035262 , 0.83611563]), 'test_f1': array([0.6       , 0.79518072, 0.73972603, 0.65671642, 0.76712329]), 'test_roc_auc': array([0.90294247, 0.95537919, 0.8845679 , 0.92220625, 0.91618757]), 'test_mccf1_score': array([0.68092598, 0.83318368, 0.79289282, 0.72901479, 0.81424484])}, 'lr_ensemble': {'fit_time': array([0.00858474, 0.00890565, 0.00840259, 0.00869966, 0.00879812]), 'score_time': array([0.01018262, 0.01066017, 0.0097065 , 0.00979805, 0.00982594]), 'test_accuracy': array([0.90939597, 0.93602694, 0.92592593, 0.92255892, 0.94612795]), 'test_balanced_accuracy': array([0.73653931, 0.85277778, 0.79206349, 0.75741107, 0.83695652]), 'test_average_precision': array([0.74398654, 0.86019126, 0.76355456, 0.81923874, 0.84564952]), 'test_f1': array([0.61971831, 0.77647059, 0.71052632, 0.66666667, 0.78947368]), 'test_roc_auc': array([0.8969697 , 0.96067019, 0.87663139, 0.94187927, 0.92490119]), 'test_mccf1_score': array([0.69621954, 0.81733833, 0.76697546, 0.73520565, 0.83073381])}}\n",
      "2023-09-24 21:23:02,083 - Pipeline - INFO - Saving the CV results for all the models\n",
      "2023-09-24 21:23:02,085 - Pipeline - INFO - Completed !!!\n"
     ]
    }
   ],
   "source": [
    "pm.runPredictionsForAllTargets(\n",
    "    label='rescaled',\n",
    "    dirPath = dataDirName,\n",
    "    vitalsBefore = 0,\n",
    "    vitalsAfter = 72,\n",
    "    labsBefore = 0,\n",
    "    labsAfter = 72,\n",
    "    # targetList = [7, 14, 21, 30, 60, 90, 120, (7, 14), (14, 21), (21, 30), (30, 60), (60, 90), (90, 120)],\n",
    "    targetList = [7],\n",
    "    )"
   ]
  },
  {
   "cell_type": "markdown",
   "metadata": {},
   "source": [
    "### Remove the data matrix file from working directory"
   ]
  },
  {
   "cell_type": "code",
   "execution_count": 11,
   "metadata": {},
   "outputs": [
    {
     "data": {
      "text/plain": [
       "0"
      ]
     },
     "execution_count": 11,
     "metadata": {},
     "output_type": "execute_result"
    }
   ],
   "source": [
    "import os\n",
    "\n",
    "\n",
    "os.system(\n",
    "    '''rm ''' + dataDirName + '''data_matrix.csv'''\n",
    ")"
   ]
  }
 ],
 "metadata": {
  "kernelspec": {
   "display_name": ".venv",
   "language": "python",
   "name": "python3"
  },
  "language_info": {
   "codemirror_mode": {
    "name": "ipython",
    "version": 3
   },
   "file_extension": ".py",
   "mimetype": "text/x-python",
   "name": "python",
   "nbconvert_exporter": "python",
   "pygments_lexer": "ipython3",
   "version": "3.9.5"
  },
  "orig_nbformat": 4
 },
 "nbformat": 4,
 "nbformat_minor": 2
}
