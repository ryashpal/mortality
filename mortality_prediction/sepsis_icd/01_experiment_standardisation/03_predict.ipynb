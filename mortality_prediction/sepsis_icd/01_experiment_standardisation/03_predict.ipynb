{
 "cells": [
  {
   "cell_type": "markdown",
   "metadata": {},
   "source": [
    "# Perform prediction"
   ]
  },
  {
   "cell_type": "markdown",
   "metadata": {},
   "source": [
    "## Import libraries"
   ]
  },
  {
   "cell_type": "code",
   "execution_count": 1,
   "metadata": {},
   "outputs": [],
   "source": [
    "import os\n",
    "\n",
    "import logging\n",
    "import sys\n",
    "\n",
    "log = logging.getLogger(\"Pipeline\")\n",
    "log.setLevel(logging.INFO)\n",
    "format = logging.Formatter(\"%(asctime)s - %(name)s - %(levelname)s - %(message)s\")\n",
    "\n",
    "ch = logging.StreamHandler(sys.stdout)\n",
    "ch.setFormatter(format)\n",
    "log.addHandler(ch)\n",
    "\n",
    "import warnings\n",
    "warnings.simplefilter(action='ignore', category=Warning)\n",
    "\n",
    "module_path = os.path.abspath(os.path.join('../'))\n",
    "if module_path not in sys.path:\n",
    "    sys.path.append(module_path)\n",
    "\n",
    "import predict_mortality as pm"
   ]
  },
  {
   "cell_type": "markdown",
   "metadata": {},
   "source": [
    "## Define data directory\n",
    "\n",
    "A top level directory to store all the data for this experiment"
   ]
  },
  {
   "cell_type": "code",
   "execution_count": 2,
   "metadata": {},
   "outputs": [],
   "source": [
    "dataDirName = '/home/yram0006/phd/chapter_2/workspace/mortality_data/standardisation_experiment/'"
   ]
  },
  {
   "cell_type": "markdown",
   "metadata": {},
   "source": [
    "## Perform prediction on raw dataset"
   ]
  },
  {
   "cell_type": "markdown",
   "metadata": {},
   "source": [
    "### Copy the raw file to working directory"
   ]
  },
  {
   "cell_type": "code",
   "execution_count": 3,
   "metadata": {},
   "outputs": [
    {
     "data": {
      "text/plain": [
       "0"
      ]
     },
     "execution_count": 3,
     "metadata": {},
     "output_type": "execute_result"
    }
   ],
   "source": [
    "import os\n",
    "\n",
    "\n",
    "os.system(\n",
    "    '''cp ''' + dataDirName + '''data_matrix/data_matrix_raw.csv ''' + dataDirName + '''data_matrix.csv;'''\n",
    ")"
   ]
  },
  {
   "cell_type": "markdown",
   "metadata": {},
   "source": [
    "### Perform prediction"
   ]
  },
  {
   "cell_type": "code",
   "execution_count": 4,
   "metadata": {},
   "outputs": [
    {
     "name": "stdout",
     "output_type": "stream",
     "text": [
      "2023-10-10 10:13:42,227 - Pipeline - INFO - dirName: raw_icd_vb_0_va_72_lb_0_la_72\n",
      "2023-10-10 10:13:42,227 - Pipeline - INFO - Running Predictions for vb_0_va_72_lb_0_la_72, targetStart : 0, targetEnd : 7\n",
      "2023-10-10 10:13:42,228 - Pipeline - INFO - Reading data\n",
      "2023-10-10 10:13:43,025 - Pipeline - INFO - Formatting data\n",
      "2023-10-10 10:13:43,032 - Pipeline - INFO - Performing SFS\n",
      "2023-10-10 10:17:58,126 - Pipeline - INFO - Building XGBoost model with all the features\n",
      "2023-10-10 10:17:58,127 - Pipeline - INFO - Performing Hyperparameter optimisation\n",
      "2023-10-10 10:17:58,152 - Pipeline - INFO - Building the model\n",
      "2023-10-10 10:17:58,153 - Pipeline - INFO - Hyperparameter optimisation for: {'max_depth': range(1, 10), 'scale_pos_weight': [0.1, 0.15, 0.2, 0.25, 0.3, 0.35, 0.4]}\n",
      "2023-10-10 10:19:26,804 - Pipeline - INFO - Hyperparameter optimisation for: {'n_estimators': range(50, 250, 10)}\n",
      "2023-10-10 10:19:58,224 - Pipeline - INFO - Hyperparameter optimisation for: {'min_child_weight': range(1, 10)}\n",
      "2023-10-10 10:20:08,100 - Pipeline - INFO - Hyperparameter optimisation for: {'gamma': [0.0, 0.1, 0.2, 0.3, 0.4]}\n",
      "2023-10-10 10:20:14,272 - Pipeline - INFO - Hyperparameter optimisation for: {'subsample': [0.1, 0.2, 0.3, 0.4, 0.5, 0.6, 0.7, 0.8, 0.9], 'colsample_bytree': [0.1, 0.2, 0.3, 0.4, 0.5, 0.6, 0.7, 0.8, 0.9]}\n",
      "2023-10-10 10:21:28,445 - Pipeline - INFO - Hyperparameter optimisation for: {'reg_alpha': [0, 1e-05, 0.001, 0.1, 10]}\n",
      "2023-10-10 10:21:33,985 - Pipeline - INFO - params: {'max_depth': 3, 'scale_pos_weight': 0.15, 'n_estimators': 110, 'min_child_weight': 1, 'gamma': 0.0, 'colsample_bytree': 0.8, 'subsample': 0.7, 'reg_alpha': 0}\n",
      "2023-10-10 10:21:33,986 - Pipeline - INFO - Performing cross-validation\n",
      "2023-10-10 10:21:38,139 - Pipeline - INFO - Building XGBoost model with the selected features\n",
      "2023-10-10 10:21:38,140 - Pipeline - INFO - Performing Hyperparameter optimisation\n",
      "2023-10-10 10:21:38,141 - Pipeline - INFO - Building the model\n",
      "2023-10-10 10:21:38,142 - Pipeline - INFO - Hyperparameter optimisation for: {'max_depth': range(1, 10), 'scale_pos_weight': [0.1, 0.15, 0.2, 0.25, 0.3, 0.35, 0.4]}\n",
      "2023-10-10 10:22:22,715 - Pipeline - INFO - Hyperparameter optimisation for: {'n_estimators': range(50, 250, 10)}\n",
      "2023-10-10 10:22:34,508 - Pipeline - INFO - Hyperparameter optimisation for: {'min_child_weight': range(1, 10)}\n",
      "2023-10-10 10:22:38,519 - Pipeline - INFO - Hyperparameter optimisation for: {'gamma': [0.0, 0.1, 0.2, 0.3, 0.4]}\n",
      "2023-10-10 10:22:40,822 - Pipeline - INFO - Hyperparameter optimisation for: {'subsample': [0.1, 0.2, 0.3, 0.4, 0.5, 0.6, 0.7, 0.8, 0.9], 'colsample_bytree': [0.1, 0.2, 0.3, 0.4, 0.5, 0.6, 0.7, 0.8, 0.9]}\n",
      "2023-10-10 10:23:14,409 - Pipeline - INFO - Hyperparameter optimisation for: {'reg_alpha': [0, 1e-05, 0.001, 0.1, 10]}\n",
      "2023-10-10 10:23:16,770 - Pipeline - INFO - params: {'max_depth': 2, 'scale_pos_weight': 0.35, 'n_estimators': 100, 'min_child_weight': 1, 'gamma': 0.2, 'colsample_bytree': 0.8, 'subsample': 0.9, 'reg_alpha': 0}\n",
      "2023-10-10 10:23:16,771 - Pipeline - INFO - Performing cross-validation\n",
      "2023-10-10 10:23:18,462 - Pipeline - INFO - Building LR model with all the features\n",
      "2023-10-10 10:23:18,463 - Pipeline - INFO - Performing Hyperparameter optimisation\n",
      "2023-10-10 10:23:49,549 - Pipeline - INFO - Building the model\n",
      "2023-10-10 10:23:49,550 - Pipeline - INFO - Performing cross-validation\n",
      "2023-10-10 10:24:00,448 - Pipeline - INFO - Building LR model with the selected features\n",
      "2023-10-10 10:24:00,449 - Pipeline - INFO - Performing Hyperparameter optimisation\n",
      "2023-10-10 10:24:06,408 - Pipeline - INFO - Building the model\n",
      "2023-10-10 10:24:06,410 - Pipeline - INFO - Performing cross-validation\n",
      "2023-10-10 10:24:08,456 - Pipeline - INFO - Building LGBM model with all the features\n",
      "2023-10-10 10:24:08,457 - Pipeline - INFO - Performing Hyperparameter optimisation\n",
      "2023-10-10 10:24:30,883 - Pipeline - INFO - Building the model\n",
      "2023-10-10 10:24:30,887 - Pipeline - INFO - Performing cross-validation\n",
      "2023-10-10 10:24:34,677 - Pipeline - INFO - Building LGBM model with the selected features\n",
      "2023-10-10 10:24:34,678 - Pipeline - INFO - Performing Hyperparameter optimisation\n",
      "2023-10-10 10:24:47,769 - Pipeline - INFO - Building the model\n",
      "2023-10-10 10:24:47,771 - Pipeline - INFO - Performing cross-validation\n",
      "2023-10-10 10:24:50,550 - Pipeline - INFO - Building MLP model with all the features\n",
      "2023-10-10 10:24:50,552 - Pipeline - INFO - Building the model\n",
      "2023-10-10 10:24:56,814 - Pipeline - INFO - Performing cross-validation\n",
      "2023-10-10 10:25:33,880 - Pipeline - INFO - Building MLP model with the selected features\n",
      "2023-10-10 10:25:33,882 - Pipeline - INFO - Building the model\n",
      "2023-10-10 10:25:34,776 - Pipeline - INFO - Performing cross-validation\n",
      "2023-10-10 10:25:41,222 - Pipeline - INFO - Get Outputs from first level models\n",
      "2023-10-10 10:25:41,223 - Pipeline - INFO - Obtaining output probabilities\n",
      "2023-10-10 10:25:41,224 - Pipeline - INFO - Split data to test and train sets\n",
      "2023-10-10 10:25:41,233 - Pipeline - INFO - Performing Hyperparameter optimisation for XGBoost\n",
      "2023-10-10 10:25:41,234 - Pipeline - INFO - Hyperparameter optimisation for: {'max_depth': range(1, 10), 'scale_pos_weight': [0.1, 0.15, 0.2, 0.25, 0.3, 0.35, 0.4]}\n",
      "2023-10-10 10:26:21,221 - Pipeline - INFO - Hyperparameter optimisation for: {'n_estimators': range(50, 250, 10)}\n",
      "2023-10-10 10:26:30,360 - Pipeline - INFO - Hyperparameter optimisation for: {'min_child_weight': range(1, 10)}\n",
      "2023-10-10 10:26:33,186 - Pipeline - INFO - Hyperparameter optimisation for: {'gamma': [0.0, 0.1, 0.2, 0.3, 0.4]}\n",
      "2023-10-10 10:26:34,880 - Pipeline - INFO - Hyperparameter optimisation for: {'subsample': [0.1, 0.2, 0.3, 0.4, 0.5, 0.6, 0.7, 0.8, 0.9], 'colsample_bytree': [0.1, 0.2, 0.3, 0.4, 0.5, 0.6, 0.7, 0.8, 0.9]}\n",
      "2023-10-10 10:27:01,272 - Pipeline - INFO - Hyperparameter optimisation for: {'reg_alpha': [0, 1e-05, 0.001, 0.1, 10]}\n",
      "2023-10-10 10:27:03,005 - Pipeline - INFO - params: {'max_depth': 2, 'scale_pos_weight': 0.4, 'n_estimators': 90, 'min_child_weight': 1, 'gamma': 0.0, 'colsample_bytree': 0.4, 'subsample': 0.6, 'reg_alpha': 0.1}\n",
      "2023-10-10 10:27:03,006 - Pipeline - INFO - Performing Hyperparameter optimisation for Logistic Regression\n",
      "2023-10-10 10:27:05,844 - Pipeline - INFO - Building individual models\n",
      "2023-10-10 10:27:29,750 - Pipeline - INFO - Building Ensemble XGBoost model with all the features\n",
      "2023-10-10 10:27:29,752 - Pipeline - INFO - Performing Hyperparameter optimisation\n",
      "2023-10-10 10:27:29,753 - Pipeline - INFO - Building the model\n",
      "2023-10-10 10:27:29,753 - Pipeline - INFO - Hyperparameter optimisation for: {'max_depth': range(1, 10), 'scale_pos_weight': [0.1, 0.15, 0.2, 0.25, 0.3, 0.35, 0.4]}\n",
      "2023-10-10 10:28:09,924 - Pipeline - INFO - Hyperparameter optimisation for: {'n_estimators': range(50, 250, 10)}\n",
      "2023-10-10 10:28:27,596 - Pipeline - INFO - Hyperparameter optimisation for: {'min_child_weight': range(1, 10)}\n",
      "2023-10-10 10:28:31,491 - Pipeline - INFO - Hyperparameter optimisation for: {'gamma': [0.0, 0.1, 0.2, 0.3, 0.4]}\n",
      "2023-10-10 10:28:34,078 - Pipeline - INFO - Hyperparameter optimisation for: {'subsample': [0.1, 0.2, 0.3, 0.4, 0.5, 0.6, 0.7, 0.8, 0.9], 'colsample_bytree': [0.1, 0.2, 0.3, 0.4, 0.5, 0.6, 0.7, 0.8, 0.9]}\n",
      "2023-10-10 10:29:05,540 - Pipeline - INFO - Hyperparameter optimisation for: {'reg_alpha': [0, 1e-05, 0.001, 0.1, 10]}\n",
      "2023-10-10 10:29:07,815 - Pipeline - INFO - params: {'max_depth': 4, 'scale_pos_weight': 0.3, 'n_estimators': 70, 'min_child_weight': 1, 'gamma': 0.0, 'colsample_bytree': 0.7, 'subsample': 0.9, 'reg_alpha': 0}\n",
      "2023-10-10 10:29:07,817 - Pipeline - INFO - Performing cross-validation\n",
      "2023-10-10 10:29:09,708 - Pipeline - INFO - Building Ensemble LR model with all the features\n",
      "2023-10-10 10:29:09,710 - Pipeline - INFO - Performing Hyperparameter optimisation\n",
      "2023-10-10 10:29:10,476 - Pipeline - INFO - Building the model\n",
      "2023-10-10 10:29:10,478 - Pipeline - INFO - Performing cross-validation\n",
      "Scores:  {'xgb': {'fit_time': array([0.20042849, 0.20319533, 0.20297074, 0.20168948, 0.20380187]), 'score_time': array([0.0266335 , 0.02528977, 0.02484727, 0.02723527, 0.02543139]), 'test_accuracy': array([0.91764706, 0.92929293, 0.92255892, 0.93602694, 0.93771044]), 'test_balanced_accuracy': array([0.73860861, 0.78013834, 0.76679842, 0.78878458, 0.80601847]), 'test_average_precision': array([0.74320656, 0.77331651, 0.77333019, 0.82012057, 0.81810729]), 'test_f1': array([0.63703704, 0.70422535, 0.67605634, 0.72857143, 0.74829932]), 'test_roc_auc': array([0.8829551 , 0.90974218, 0.8968065 , 0.91160618, 0.91329403]), 'test_mccf1_score': array([0.7130889 , 0.76426196, 0.74120963, 0.78500414, 0.79901526])}, 'lr': {'fit_time': array([1.06841397, 0.80903673, 0.10289907, 1.90591693, 2.19266605]), 'score_time': array([0.0110569 , 0.01058912, 0.01020956, 0.01074123, 0.01094294]), 'test_accuracy': array([0.91428571, 0.92255892, 0.91582492, 0.93434343, 0.93771044]), 'test_balanced_accuracy': array([0.74589199, 0.78087945, 0.77692688, 0.80657115, 0.82452998]), 'test_average_precision': array([0.72562471, 0.72017893, 0.67317016, 0.82717198, 0.80074396]), 'test_f1': array([0.63829787, 0.68918919, 0.67105263, 0.73825503, 0.76129032]), 'test_roc_auc': array([0.87191899, 0.89397682, 0.89411157, 0.92961732, 0.89449327]), 'test_mccf1_score': array([0.71127458, 0.74987747, 0.73392669, 0.78969595, 0.80730965])}, 'lgbm': {'fit_time': array([0.2606554 , 0.2630918 , 0.26477551, 0.27780414, 0.26822782]), 'score_time': array([0.01359153, 0.01281691, 0.0132823 , 0.01300335, 0.01280355]), 'test_accuracy': array([0.91596639, 0.91414141, 0.93097643, 0.93602694, 0.94781145]), 'test_balanced_accuracy': array([0.72836079, 0.73369565, 0.79990119, 0.78878458, 0.83047058]), 'test_average_precision': array([0.77614957, 0.7903873 , 0.77957634, 0.84416873, 0.81602954]), 'test_f1': array([0.62121212, 0.62222222, 0.72483221, 0.72857143, 0.79194631]), 'test_roc_auc': array([0.90329529, 0.91629986, 0.90217391, 0.9322898 , 0.90532874]), 'test_mccf1_score': array([0.70177827, 0.70020788, 0.77872172, 0.78500414, 0.83404964])}, 'mlp': {'fit_time': array([1.7591126 , 5.38186336, 5.40863919, 2.22222996, 3.28627086]), 'score_time': array([0.01321483, 0.01359892, 0.01398659, 0.01343226, 0.01331735]), 'test_accuracy': array([0.89747899, 0.9023569 , 0.89393939, 0.8973064 , 0.8956229 ]), 'test_balanced_accuracy': array([0.70823156, 0.74085968, 0.75938735, 0.75197628, 0.81828902]), 'test_average_precision': array([0.65125017, 0.68936337, 0.63029342, 0.68673904, 0.74745919]), 'test_f1': array([0.56115108, 0.60810811, 0.61349693, 0.61146497, 0.67021277]), 'test_roc_auc': array([0.85379935, 0.85007186, 0.86765631, 0.86067194, 0.88695072]), 'test_mccf1_score': array([0.6488904 , 0.68356758, 0.68462507, 0.68405756, 0.72902472])}, 'xgb_min': {'fit_time': array([0.08435941, 0.08173442, 0.08262825, 0.08080435, 0.08035183]), 'score_time': array([0.01411366, 0.01295209, 0.01293039, 0.01239443, 0.01251197]), 'test_accuracy': array([0.9092437 , 0.92760943, 0.92255892, 0.92087542, 0.93939394]), 'test_balanced_accuracy': array([0.71514855, 0.77445652, 0.78557312, 0.74703557, 0.80238069]), 'test_average_precision': array([0.71697616, 0.75981978, 0.76569731, 0.77305091, 0.78114856]), 'test_f1': array([0.59090909, 0.69503546, 0.69333333, 0.65185185, 0.75      ]), 'test_roc_auc': array([0.87698184, 0.91259432, 0.9065981 , 0.90280273, 0.89449327]), 'test_mccf1_score': array([0.67686791, 0.75714147, 0.75268019, 0.72450697, 0.80150365])}, 'lr_min': {'fit_time': array([0.13078117, 0.15015602, 0.10070729, 0.14866781, 0.13607502]), 'score_time': array([0.00889206, 0.00842071, 0.00979972, 0.0092113 , 0.00885415]), 'test_accuracy': array([0.91260504, 0.91919192, 0.91077441, 0.93265993, 0.93771044]), 'test_balanced_accuracy': array([0.74490385, 0.75543478, 0.77865613, 0.78211462, 0.80601847]), 'test_average_precision': array([0.74930693, 0.74712534, 0.69415556, 0.81910465, 0.77284916]), 'test_f1': array([0.63380282, 0.65714286, 0.66242038, 0.71428571, 0.74829932]), 'test_roc_auc': array([0.8902829 , 0.8936175 , 0.88411786, 0.92907833, 0.88390255]), 'test_mccf1_score': array([0.70717872, 0.72653324, 0.72571724, 0.77331376, 0.79901526])}, 'lgbm_min': {'fit_time': array([0.19126272, 0.18486023, 0.18421888, 0.33528948, 0.18273926]), 'score_time': array([0.01142001, 0.01094246, 0.01101971, 0.0117538 , 0.01049042]), 'test_accuracy': array([0.9092437 , 0.91919192, 0.91919192, 0.92592593, 0.93939394]), 'test_balanced_accuracy': array([0.71514855, 0.76012846, 0.77890316, 0.7687747 , 0.80238069]), 'test_average_precision': array([0.71877404, 0.76522528, 0.75888536, 0.7762093 , 0.78484683]), 'test_f1': array([0.59090909, 0.66197183, 0.68      , 0.68571429, 0.75      ]), 'test_roc_auc': array([0.86832171, 0.91910708, 0.90444215, 0.89855821, 0.90012237]), 'test_mccf1_score': array([0.67686791, 0.72968179, 0.74177845, 0.74992677, 0.80150365])}, 'mlp_min': {'fit_time': array([0.7231307 , 0.42785287, 0.60732412, 0.53592992, 0.55400395]), 'score_time': array([0.01944208, 0.01191592, 0.01016307, 0.01020861, 0.0098896 ]), 'test_accuracy': array([0.91092437, 0.92424242, 0.90740741, 0.90909091, 0.82659933]), 'test_balanced_accuracy': array([0.7161367 , 0.76309289, 0.78137352, 0.78236166, 0.7915786 ]), 'test_average_precision': array([0.71408839, 0.73902449, 0.68940288, 0.78920381, 0.72344711]), 'test_f1': array([0.59541985, 0.67625899, 0.65838509, 0.6625    , 0.56170213]), 'test_roc_auc': array([0.85621975, 0.86563511, 0.87841358, 0.91093245, 0.87326733]), 'test_mccf1_score': array([0.68117305, 0.7426156 , 0.72166605, 0.72520585, 0.64026211])}, 'xgb_ensemble': {'fit_time': array([0.0861907 , 0.0863564 , 0.082865  , 0.08509707, 0.08379245]), 'score_time': array([0.01641464, 0.01631427, 0.01555371, 0.01565385, 0.01572299]), 'test_accuracy': array([0.90939597, 0.94949495, 0.92255892, 0.92255892, 0.93939394]), 'test_balanced_accuracy': array([0.73653931, 0.86984127, 0.79920635, 0.75741107, 0.8048419 ]), 'test_average_precision': array([0.71468486, 0.83050828, 0.76193695, 0.79275688, 0.8258208 ]), 'test_f1': array([0.61971831, 0.81927711, 0.70886076, 0.66666667, 0.75      ]), 'test_roc_auc': array([0.87465964, 0.94171076, 0.87566138, 0.91870284, 0.91906216]), 'test_mccf1_score': array([0.69621954, 0.8529087 , 0.76404583, 0.73520565, 0.80094698])}, 'lr_ensemble': {'fit_time': array([0.01179647, 0.0103488 , 0.0113039 , 0.01119447, 0.01068306]), 'score_time': array([0.00993395, 0.00943089, 0.00939274, 0.00939727, 0.00952268]), 'test_accuracy': array([0.90604027, 0.93265993, 0.93265993, 0.91245791, 0.94612795]), 'test_balanced_accuracy': array([0.72542819, 0.8234127 , 0.77777778, 0.72332016, 0.82756917]), 'test_average_precision': array([0.73362713, 0.85403962, 0.74725629, 0.80815745, 0.84986098]), 'test_f1': array([0.6       , 0.75      , 0.71428571, 0.60606061, 0.78378378]), 'test_roc_auc': array([0.88519982, 0.96022928, 0.87680776, 0.92067912, 0.93047072]), 'test_mccf1_score': array([0.68092598, 0.79727064, 0.77461799, 0.68853064, 0.82721723])}}\n",
      "2023-10-10 10:29:11,524 - Pipeline - INFO - Saving the CV results for all the models\n",
      "2023-10-10 10:29:11,527 - Pipeline - INFO - Completed !!!\n"
     ]
    }
   ],
   "source": [
    "pm.runPredictionsForAllTargets(\n",
    "    label='raw',\n",
    "    dirPath = dataDirName,\n",
    "    vitalsBefore = 0,\n",
    "    vitalsAfter = 72,\n",
    "    labsBefore = 0,\n",
    "    labsAfter = 72,\n",
    "    # targetList = [7, 14, 21, 30, 60, 90, 120, (7, 14), (14, 21), (21, 30), (30, 60), (60, 90), (90, 120)],\n",
    "    targetList = [7],\n",
    "    )"
   ]
  },
  {
   "cell_type": "markdown",
   "metadata": {},
   "source": [
    "### Remove the data matrix file from working directory"
   ]
  },
  {
   "cell_type": "code",
   "execution_count": 5,
   "metadata": {},
   "outputs": [
    {
     "data": {
      "text/plain": [
       "0"
      ]
     },
     "execution_count": 5,
     "metadata": {},
     "output_type": "execute_result"
    }
   ],
   "source": [
    "import os\n",
    "\n",
    "\n",
    "os.system(\n",
    "    '''rm ''' + dataDirName + '''data_matrix.csv'''\n",
    ")"
   ]
  },
  {
   "cell_type": "markdown",
   "metadata": {},
   "source": [
    "## Perform prediction on standardised dataset"
   ]
  },
  {
   "cell_type": "markdown",
   "metadata": {},
   "source": [
    "### Copy the standardised file to working directory"
   ]
  },
  {
   "cell_type": "code",
   "execution_count": 6,
   "metadata": {},
   "outputs": [
    {
     "data": {
      "text/plain": [
       "0"
      ]
     },
     "execution_count": 6,
     "metadata": {},
     "output_type": "execute_result"
    }
   ],
   "source": [
    "import os\n",
    "\n",
    "\n",
    "os.system(\n",
    "    '''cp ''' + dataDirName + '''data_matrix/data_matrix_standardised.csv ''' + dataDirName + '''data_matrix.csv;'''\n",
    ")"
   ]
  },
  {
   "cell_type": "markdown",
   "metadata": {},
   "source": [
    "### Perform prediction"
   ]
  },
  {
   "cell_type": "code",
   "execution_count": 7,
   "metadata": {},
   "outputs": [
    {
     "name": "stdout",
     "output_type": "stream",
     "text": [
      "2023-10-10 10:29:11,652 - Pipeline - INFO - dirName: standardised_icd_vb_0_va_72_lb_0_la_72\n",
      "2023-10-10 10:29:11,653 - Pipeline - INFO - Running Predictions for vb_0_va_72_lb_0_la_72, targetStart : 0, targetEnd : 7\n",
      "2023-10-10 10:29:11,653 - Pipeline - INFO - Reading data\n"
     ]
    },
    {
     "name": "stdout",
     "output_type": "stream",
     "text": [
      "2023-10-10 10:29:12,256 - Pipeline - INFO - Formatting data\n",
      "2023-10-10 10:29:12,263 - Pipeline - INFO - Performing SFS\n",
      "2023-10-10 10:33:27,785 - Pipeline - INFO - Building XGBoost model with all the features\n",
      "2023-10-10 10:33:27,787 - Pipeline - INFO - Performing Hyperparameter optimisation\n",
      "2023-10-10 10:33:27,787 - Pipeline - INFO - Building the model\n",
      "2023-10-10 10:33:27,788 - Pipeline - INFO - Hyperparameter optimisation for: {'max_depth': range(1, 10), 'scale_pos_weight': [0.1, 0.15, 0.2, 0.25, 0.3, 0.35, 0.4]}\n",
      "2023-10-10 10:34:57,355 - Pipeline - INFO - Hyperparameter optimisation for: {'n_estimators': range(50, 250, 10)}\n",
      "2023-10-10 10:35:28,570 - Pipeline - INFO - Hyperparameter optimisation for: {'min_child_weight': range(1, 10)}\n",
      "2023-10-10 10:35:38,602 - Pipeline - INFO - Hyperparameter optimisation for: {'gamma': [0.0, 0.1, 0.2, 0.3, 0.4]}\n",
      "2023-10-10 10:35:44,905 - Pipeline - INFO - Hyperparameter optimisation for: {'subsample': [0.1, 0.2, 0.3, 0.4, 0.5, 0.6, 0.7, 0.8, 0.9], 'colsample_bytree': [0.1, 0.2, 0.3, 0.4, 0.5, 0.6, 0.7, 0.8, 0.9]}\n",
      "2023-10-10 10:37:00,765 - Pipeline - INFO - Hyperparameter optimisation for: {'reg_alpha': [0, 1e-05, 0.001, 0.1, 10]}\n",
      "2023-10-10 10:37:06,451 - Pipeline - INFO - params: {'max_depth': 3, 'scale_pos_weight': 0.15, 'n_estimators': 110, 'min_child_weight': 1, 'gamma': 0.0, 'colsample_bytree': 0.9, 'subsample': 0.7, 'reg_alpha': 0}\n",
      "2023-10-10 10:37:06,453 - Pipeline - INFO - Performing cross-validation\n",
      "2023-10-10 10:37:09,640 - Pipeline - INFO - Building XGBoost model with the selected features\n",
      "2023-10-10 10:37:09,642 - Pipeline - INFO - Performing Hyperparameter optimisation\n",
      "2023-10-10 10:37:09,642 - Pipeline - INFO - Building the model\n",
      "2023-10-10 10:37:09,643 - Pipeline - INFO - Hyperparameter optimisation for: {'max_depth': range(1, 10), 'scale_pos_weight': [0.1, 0.15, 0.2, 0.25, 0.3, 0.35, 0.4]}\n",
      "2023-10-10 10:37:55,959 - Pipeline - INFO - Hyperparameter optimisation for: {'n_estimators': range(50, 250, 10)}\n",
      "2023-10-10 10:38:19,620 - Pipeline - INFO - Hyperparameter optimisation for: {'min_child_weight': range(1, 10)}\n",
      "2023-10-10 10:38:25,797 - Pipeline - INFO - Hyperparameter optimisation for: {'gamma': [0.0, 0.1, 0.2, 0.3, 0.4]}\n",
      "2023-10-10 10:38:30,557 - Pipeline - INFO - Hyperparameter optimisation for: {'subsample': [0.1, 0.2, 0.3, 0.4, 0.5, 0.6, 0.7, 0.8, 0.9], 'colsample_bytree': [0.1, 0.2, 0.3, 0.4, 0.5, 0.6, 0.7, 0.8, 0.9]}\n",
      "2023-10-10 10:39:24,204 - Pipeline - INFO - Hyperparameter optimisation for: {'reg_alpha': [0, 1e-05, 0.001, 0.1, 10]}\n",
      "2023-10-10 10:39:28,045 - Pipeline - INFO - params: {'max_depth': 6, 'scale_pos_weight': 0.2, 'n_estimators': 100, 'min_child_weight': 1, 'gamma': 0.0, 'colsample_bytree': 0.5, 'subsample': 0.8, 'reg_alpha': 0}\n",
      "2023-10-10 10:39:28,047 - Pipeline - INFO - Performing cross-validation\n",
      "2023-10-10 10:39:30,484 - Pipeline - INFO - Building LR model with all the features\n",
      "2023-10-10 10:39:30,485 - Pipeline - INFO - Performing Hyperparameter optimisation\n",
      "2023-10-10 10:39:39,306 - Pipeline - INFO - Building the model\n",
      "2023-10-10 10:39:39,308 - Pipeline - INFO - Performing cross-validation\n",
      "2023-10-10 10:39:40,664 - Pipeline - INFO - Building LR model with the selected features\n",
      "2023-10-10 10:39:40,666 - Pipeline - INFO - Performing Hyperparameter optimisation\n",
      "2023-10-10 10:39:41,555 - Pipeline - INFO - Building the model\n",
      "2023-10-10 10:39:41,556 - Pipeline - INFO - Performing cross-validation\n",
      "2023-10-10 10:39:42,380 - Pipeline - INFO - Building LGBM model with all the features\n",
      "2023-10-10 10:39:42,382 - Pipeline - INFO - Performing Hyperparameter optimisation\n",
      "2023-10-10 10:40:02,589 - Pipeline - INFO - Building the model\n",
      "2023-10-10 10:40:02,591 - Pipeline - INFO - Performing cross-validation\n",
      "2023-10-10 10:40:06,381 - Pipeline - INFO - Building LGBM model with the selected features\n",
      "2023-10-10 10:40:06,382 - Pipeline - INFO - Performing Hyperparameter optimisation\n",
      "2023-10-10 10:40:19,181 - Pipeline - INFO - Building the model\n",
      "2023-10-10 10:40:19,182 - Pipeline - INFO - Performing cross-validation\n",
      "2023-10-10 10:40:21,950 - Pipeline - INFO - Building MLP model with all the features\n",
      "2023-10-10 10:40:21,951 - Pipeline - INFO - Building the model\n",
      "2023-10-10 10:40:25,260 - Pipeline - INFO - Performing cross-validation\n",
      "2023-10-10 10:40:53,625 - Pipeline - INFO - Building MLP model with the selected features\n",
      "2023-10-10 10:40:53,626 - Pipeline - INFO - Building the model\n",
      "2023-10-10 10:40:56,229 - Pipeline - INFO - Performing cross-validation\n",
      "2023-10-10 10:41:17,722 - Pipeline - INFO - Get Outputs from first level models\n",
      "2023-10-10 10:41:17,724 - Pipeline - INFO - Obtaining output probabilities\n",
      "2023-10-10 10:41:17,724 - Pipeline - INFO - Split data to test and train sets\n",
      "2023-10-10 10:41:17,732 - Pipeline - INFO - Performing Hyperparameter optimisation for XGBoost\n",
      "2023-10-10 10:41:17,733 - Pipeline - INFO - Hyperparameter optimisation for: {'max_depth': range(1, 10), 'scale_pos_weight': [0.1, 0.15, 0.2, 0.25, 0.3, 0.35, 0.4]}\n",
      "2023-10-10 10:41:55,296 - Pipeline - INFO - Hyperparameter optimisation for: {'n_estimators': range(50, 250, 10)}\n",
      "2023-10-10 10:42:04,595 - Pipeline - INFO - Hyperparameter optimisation for: {'min_child_weight': range(1, 10)}\n",
      "2023-10-10 10:42:07,320 - Pipeline - INFO - Hyperparameter optimisation for: {'gamma': [0.0, 0.1, 0.2, 0.3, 0.4]}\n",
      "2023-10-10 10:42:09,020 - Pipeline - INFO - Hyperparameter optimisation for: {'subsample': [0.1, 0.2, 0.3, 0.4, 0.5, 0.6, 0.7, 0.8, 0.9], 'colsample_bytree': [0.1, 0.2, 0.3, 0.4, 0.5, 0.6, 0.7, 0.8, 0.9]}\n",
      "2023-10-10 10:42:35,632 - Pipeline - INFO - Hyperparameter optimisation for: {'reg_alpha': [0, 1e-05, 0.001, 0.1, 10]}\n",
      "2023-10-10 10:42:37,234 - Pipeline - INFO - params: {'max_depth': 2, 'scale_pos_weight': 0.4, 'n_estimators': 90, 'min_child_weight': 1, 'gamma': 0.0, 'colsample_bytree': 0.3, 'subsample': 0.9, 'reg_alpha': 0}\n",
      "2023-10-10 10:42:37,235 - Pipeline - INFO - Performing Hyperparameter optimisation for Logistic Regression\n",
      "2023-10-10 10:42:38,079 - Pipeline - INFO - Building individual models\n",
      "2023-10-10 10:44:14,448 - Pipeline - INFO - Building Ensemble XGBoost model with all the features\n",
      "2023-10-10 10:44:14,449 - Pipeline - INFO - Performing Hyperparameter optimisation\n",
      "2023-10-10 10:44:14,450 - Pipeline - INFO - Building the model\n",
      "2023-10-10 10:44:14,450 - Pipeline - INFO - Hyperparameter optimisation for: {'max_depth': range(1, 10), 'scale_pos_weight': [0.1, 0.15, 0.2, 0.25, 0.3, 0.35, 0.4]}\n",
      "2023-10-10 10:44:53,651 - Pipeline - INFO - Hyperparameter optimisation for: {'n_estimators': range(50, 250, 10)}\n",
      "2023-10-10 10:45:11,816 - Pipeline - INFO - Hyperparameter optimisation for: {'min_child_weight': range(1, 10)}\n",
      "2023-10-10 10:45:18,282 - Pipeline - INFO - Hyperparameter optimisation for: {'gamma': [0.0, 0.1, 0.2, 0.3, 0.4]}\n",
      "2023-10-10 10:45:23,689 - Pipeline - INFO - Hyperparameter optimisation for: {'subsample': [0.1, 0.2, 0.3, 0.4, 0.5, 0.6, 0.7, 0.8, 0.9], 'colsample_bytree': [0.1, 0.2, 0.3, 0.4, 0.5, 0.6, 0.7, 0.8, 0.9]}\n",
      "2023-10-10 10:46:21,656 - Pipeline - INFO - Hyperparameter optimisation for: {'reg_alpha': [0, 1e-05, 0.001, 0.1, 10]}\n",
      "2023-10-10 10:46:25,854 - Pipeline - INFO - params: {'max_depth': 7, 'scale_pos_weight': 0.3, 'n_estimators': 150, 'min_child_weight': 1, 'gamma': 0.0, 'colsample_bytree': 0.7, 'subsample': 0.7, 'reg_alpha': 0}\n",
      "2023-10-10 10:46:25,856 - Pipeline - INFO - Performing cross-validation\n",
      "2023-10-10 10:46:28,387 - Pipeline - INFO - Building Ensemble LR model with all the features\n",
      "2023-10-10 10:46:28,388 - Pipeline - INFO - Performing Hyperparameter optimisation\n",
      "2023-10-10 10:46:29,190 - Pipeline - INFO - Building the model\n",
      "2023-10-10 10:46:29,191 - Pipeline - INFO - Performing cross-validation\n",
      "Scores:  {'xgb': {'fit_time': array([0.2156179 , 0.30297875, 0.21438956, 0.22178078, 0.21994257]), 'score_time': array([0.02593088, 0.02514195, 0.02583289, 0.02730727, 0.02594709]), 'test_accuracy': array([0.91596639, 0.92929293, 0.92760943, 0.93265993, 0.93602694]), 'test_balanced_accuracy': array([0.7422503 , 0.77544466, 0.78384387, 0.78211462, 0.80965625]), 'test_average_precision': array([0.73622176, 0.76500516, 0.78906431, 0.81989519, 0.8239687 ]), 'test_f1': array([0.63768116, 0.7       , 0.70344828, 0.71428571, 0.74666667]), 'test_roc_auc': array([0.8780477 , 0.9051608 , 0.90769853, 0.92588933, 0.92501947]), 'test_mccf1_score': array([0.71211066, 0.7616212 , 0.76251722, 0.77331376, 0.79671065])}, 'lr': {'fit_time': array([0.06072068, 0.05920267, 0.06006646, 0.06292701, 0.06155062]), 'score_time': array([0.01021528, 0.01006341, 0.00981522, 0.00997615, 0.01001859]), 'test_accuracy': array([0.91428571, 0.91919192, 0.92087542, 0.93602694, 0.94612795]), 'test_balanced_accuracy': array([0.7597815 , 0.76482213, 0.79397233, 0.80755929, 0.83873623]), 'test_average_precision': array([0.7289213 , 0.76001492, 0.71514146, 0.81951358, 0.8103281 ]), 'test_f1': array([0.65306122, 0.66666667, 0.69677419, 0.74324324, 0.79220779]), 'test_roc_auc': array([0.88304392, 0.9038807 , 0.90403791, 0.92445203, 0.90192457]), 'test_mccf1_score': array([0.72110095, 0.73277947, 0.75423293, 0.79407604, 0.83284011])}, 'lgbm': {'fit_time': array([0.28922868, 0.28959513, 0.29946899, 0.29941821, 0.2887094 ]), 'score_time': array([0.01266432, 0.01233435, 0.01240015, 0.01239061, 0.01235318]), 'test_accuracy': array([0.91596639, 0.91245791, 0.92929293, 0.93771044, 0.94781145]), 'test_balanced_accuracy': array([0.72836079, 0.72332016, 0.79891304, 0.78977273, 0.83509845]), 'test_average_precision': array([0.75296438, 0.79196284, 0.79380684, 0.85623258, 0.80217464]), 'test_f1': array([0.62121212, 0.60606061, 0.72      , 0.73381295, 0.79470199]), 'test_roc_auc': array([0.89541236, 0.92011768, 0.9146829 , 0.94264283, 0.90828791]), 'test_mccf1_score': array([0.70177827, 0.68853064, 0.77448274, 0.78972982, 0.83569534])}, 'mlp': {'fit_time': array([2.72285247, 2.7925868 , 2.72246695, 2.67016268, 2.95334983]), 'score_time': array([0.01369286, 0.01337028, 0.01414537, 0.01334023, 0.01326895]), 'test_accuracy': array([0.89915966, 0.8973064 , 0.89225589, 0.9040404 , 0.92929293]), 'test_balanced_accuracy': array([0.73236888, 0.75666996, 0.76778656, 0.75592885, 0.82420736]), 'test_average_precision': array([0.66191246, 0.67692654, 0.65315442, 0.68177777, 0.77900084]), 'test_f1': array([0.59459459, 0.6163522 , 0.61904762, 0.62745098, 0.74074074]), 'test_roc_auc': array([0.84049829, 0.85879671, 0.85604563, 0.85415918, 0.88205585]), 'test_mccf1_score': array([0.67292838, 0.6876566 , 0.68845953, 0.69802862, 0.78906189])}, 'xgb_min': {'fit_time': array([0.14881229, 0.24620175, 0.14863181, 0.1781311 , 0.15081906]), 'score_time': array([0.01370549, 0.01365376, 0.01315641, 0.01386619, 0.01351976]), 'test_accuracy': array([0.90588235, 0.92255892, 0.91582492, 0.92087542, 0.93265993]), 'test_balanced_accuracy': array([0.69465293, 0.76679842, 0.75815217, 0.7611166 , 0.78916453]), 'test_average_precision': array([0.71958447, 0.7389213 , 0.73269052, 0.74311623, 0.79871489]), 'test_f1': array([0.55555556, 0.67605634, 0.65277778, 0.66666667, 0.72222222]), 'test_roc_auc': array([0.87835857, 0.90614894, 0.8998383 , 0.87836867, 0.88067638]), 'test_mccf1_score': array([0.65165101, 0.74120963, 0.72141509, 0.73392006, 0.7787735 ])}, 'lr_min': {'fit_time': array([0.0094192 , 0.00866866, 0.0084126 , 0.00866985, 0.00976872]), 'score_time': array([0.00859427, 0.00845075, 0.00817728, 0.00843287, 0.00826335]), 'test_accuracy': array([0.90588235, 0.91750842, 0.91414141, 0.93602694, 0.93939394]), 'test_balanced_accuracy': array([0.72243194, 0.75444664, 0.76185771, 0.78878458, 0.81626432]), 'test_average_precision': array([0.71015947, 0.72792152, 0.72868953, 0.80251687, 0.77703502]), 'test_f1': array([0.5942029 , 0.65248227, 0.65306122, 0.72857143, 0.76      ]), 'test_roc_auc': array([0.88697429, 0.89123697, 0.89137172, 0.92514822, 0.87733897]), 'test_mccf1_score': array([0.6764511 , 0.72230755, 0.7206414 , 0.78500414, 0.80761548])}, 'lgbm_min': {'fit_time': array([0.19061399, 0.18715811, 0.18370485, 0.184901  , 0.22013426]), 'score_time': array([0.01066446, 0.01024818, 0.01028061, 0.01008415, 0.01025319]), 'test_accuracy': array([0.9092437 , 0.92087542, 0.91582492, 0.92255892, 0.93265993]), 'test_balanced_accuracy': array([0.71514855, 0.7611166 , 0.7722332 , 0.77149209, 0.79842029]), 'test_average_precision': array([0.72126143, 0.73115525, 0.7415733 , 0.77124222, 0.78129604]), 'test_f1': array([0.59090909, 0.66666667, 0.66666667, 0.68055556, 0.72972973]), 'test_roc_auc': array([0.87305147, 0.89929932, 0.90666547, 0.88865433, 0.88089888]), 'test_mccf1_score': array([0.67686791, 0.73392006, 0.73087645, 0.74414315, 0.78348833])}, 'mlp_min': {'fit_time': array([2.04898357, 2.07430482, 2.11570573, 2.06911826, 2.09885335]), 'score_time': array([0.0101428 , 0.00997543, 0.01033783, 0.01038504, 0.01007247]), 'test_accuracy': array([0.89243697, 0.9040404 , 0.8956229 , 0.89393939, 0.8973064 ]), 'test_balanced_accuracy': array([0.72378647, 0.78409091, 0.76037549, 0.75      , 0.76837246]), 'test_average_precision': array([0.63763353, 0.62943587, 0.66784342, 0.69545817, 0.70471481]), 'test_f1': array([0.57333333, 0.65454545, 0.61728395, 0.60377358, 0.63030303]), 'test_roc_auc': array([0.81727139, 0.84194215, 0.82406576, 0.87821146, 0.84256313]), 'test_mccf1_score': array([0.65492583, 0.71790429, 0.68788501, 0.67737171, 0.69821331])}, 'xgb_ensemble': {'fit_time': array([0.15791345, 0.16019845, 0.22385025, 0.15996885, 0.15926266]), 'score_time': array([0.01714587, 0.01680279, 0.01661205, 0.01633286, 0.01635098]), 'test_accuracy': array([0.91610738, 0.93602694, 0.92255892, 0.92255892, 0.94276094]), 'test_balanced_accuracy': array([0.7496267 , 0.87103175, 0.78095238, 0.75741107, 0.81620553]), 'test_average_precision': array([0.74980894, 0.81363274, 0.75746193, 0.80450221, 0.79541175]), 'test_f1': array([0.64788732, 0.78651685, 0.69333333, 0.66666667, 0.76712329]), 'test_roc_auc': array([0.89591568, 0.93465608, 0.89171076, 0.92993173, 0.8946281 ]), 'test_mccf1_score': array([0.71931159, 0.82488602, 0.75352044, 0.73520565, 0.81424484])}, 'lr_ensemble': {'fit_time': array([0.01558185, 0.0114882 , 0.01125503, 0.01137328, 0.0108397 ]), 'score_time': array([0.00991893, 0.00939131, 0.00941539, 0.00947046, 0.00953889]), 'test_accuracy': array([0.90268456, 0.92929293, 0.92592593, 0.92592593, 0.93939394]), 'test_balanced_accuracy': array([0.71431708, 0.8031746 , 0.76468254, 0.75938735, 0.8048419 ]), 'test_average_precision': array([0.75325046, 0.84290121, 0.73254891, 0.80978915, 0.84545777]), 'test_f1': array([0.57971014, 0.72727273, 0.68571429, 0.67647059, 0.75      ]), 'test_roc_auc': array([0.89644269, 0.96393298, 0.85978836, 0.91654689, 0.93226734]), 'test_mccf1_score': array([0.66520942, 0.78011019, 0.75120146, 0.74418555, 0.80094698])}}\n",
      "2023-10-10 10:46:30,083 - Pipeline - INFO - Saving the CV results for all the models\n",
      "2023-10-10 10:46:30,085 - Pipeline - INFO - Completed !!!\n"
     ]
    }
   ],
   "source": [
    "pm.runPredictionsForAllTargets(\n",
    "    label='standardised',\n",
    "    dirPath = dataDirName,\n",
    "    vitalsBefore = 0,\n",
    "    vitalsAfter = 72,\n",
    "    labsBefore = 0,\n",
    "    labsAfter = 72,\n",
    "    # targetList = [7, 14, 21, 30, 60, 90, 120, (7, 14), (14, 21), (21, 30), (30, 60), (60, 90), (90, 120)],\n",
    "    targetList = [7],\n",
    "    )"
   ]
  },
  {
   "cell_type": "markdown",
   "metadata": {},
   "source": [
    "### Remove the data matrix file from working directory"
   ]
  },
  {
   "cell_type": "code",
   "execution_count": 8,
   "metadata": {},
   "outputs": [
    {
     "data": {
      "text/plain": [
       "0"
      ]
     },
     "execution_count": 8,
     "metadata": {},
     "output_type": "execute_result"
    }
   ],
   "source": [
    "import os\n",
    "\n",
    "\n",
    "os.system(\n",
    "    '''rm ''' + dataDirName + '''data_matrix.csv'''\n",
    ")"
   ]
  },
  {
   "cell_type": "markdown",
   "metadata": {},
   "source": [
    "## Perform prediction on rescaled dataset"
   ]
  },
  {
   "cell_type": "markdown",
   "metadata": {},
   "source": [
    "### Copy the rescaled file to working directory"
   ]
  },
  {
   "cell_type": "code",
   "execution_count": 9,
   "metadata": {},
   "outputs": [
    {
     "data": {
      "text/plain": [
       "0"
      ]
     },
     "execution_count": 9,
     "metadata": {},
     "output_type": "execute_result"
    }
   ],
   "source": [
    "import os\n",
    "\n",
    "\n",
    "os.system(\n",
    "    '''cp ''' + dataDirName + '''data_matrix/data_matrix_rescaled.csv ''' + dataDirName + '''data_matrix.csv;'''\n",
    ")"
   ]
  },
  {
   "cell_type": "markdown",
   "metadata": {},
   "source": [
    "### Perform prediction"
   ]
  },
  {
   "cell_type": "code",
   "execution_count": 10,
   "metadata": {},
   "outputs": [
    {
     "name": "stdout",
     "output_type": "stream",
     "text": [
      "2023-10-10 10:46:30,623 - Pipeline - INFO - dirName: rescaled_icd_vb_0_va_72_lb_0_la_72\n",
      "2023-10-10 10:46:30,624 - Pipeline - INFO - Running Predictions for vb_0_va_72_lb_0_la_72, targetStart : 0, targetEnd : 7\n",
      "2023-10-10 10:46:30,624 - Pipeline - INFO - Reading data\n",
      "2023-10-10 10:46:31,217 - Pipeline - INFO - Formatting data\n",
      "2023-10-10 10:46:31,224 - Pipeline - INFO - Performing SFS\n",
      "2023-10-10 10:51:10,452 - Pipeline - INFO - Building XGBoost model with all the features\n",
      "2023-10-10 10:51:10,454 - Pipeline - INFO - Performing Hyperparameter optimisation\n",
      "2023-10-10 10:51:10,455 - Pipeline - INFO - Building the model\n",
      "2023-10-10 10:51:10,455 - Pipeline - INFO - Hyperparameter optimisation for: {'max_depth': range(1, 10), 'scale_pos_weight': [0.1, 0.15, 0.2, 0.25, 0.3, 0.35, 0.4]}\n",
      "2023-10-10 10:53:04,010 - Pipeline - INFO - Hyperparameter optimisation for: {'n_estimators': range(50, 250, 10)}\n",
      "2023-10-10 10:53:35,965 - Pipeline - INFO - Hyperparameter optimisation for: {'min_child_weight': range(1, 10)}\n",
      "2023-10-10 10:53:46,113 - Pipeline - INFO - Hyperparameter optimisation for: {'gamma': [0.0, 0.1, 0.2, 0.3, 0.4]}\n",
      "2023-10-10 10:53:52,538 - Pipeline - INFO - Hyperparameter optimisation for: {'subsample': [0.1, 0.2, 0.3, 0.4, 0.5, 0.6, 0.7, 0.8, 0.9], 'colsample_bytree': [0.1, 0.2, 0.3, 0.4, 0.5, 0.6, 0.7, 0.8, 0.9]}\n",
      "2023-10-10 11:02:31,575 - Pipeline - INFO - Hyperparameter optimisation for: {'reg_alpha': [0, 1e-05, 0.001, 0.1, 10]}\n",
      "2023-10-10 11:02:38,783 - Pipeline - INFO - params: {'max_depth': 3, 'scale_pos_weight': 0.15, 'n_estimators': 110, 'min_child_weight': 1, 'gamma': 0.0, 'colsample_bytree': 0.7, 'subsample': 0.8, 'reg_alpha': 0}\n",
      "2023-10-10 11:02:38,784 - Pipeline - INFO - Performing cross-validation\n",
      "2023-10-10 11:02:42,385 - Pipeline - INFO - Building XGBoost model with the selected features\n",
      "2023-10-10 11:02:42,386 - Pipeline - INFO - Performing Hyperparameter optimisation\n",
      "2023-10-10 11:02:42,387 - Pipeline - INFO - Building the model\n",
      "2023-10-10 11:02:42,387 - Pipeline - INFO - Hyperparameter optimisation for: {'max_depth': range(1, 10), 'scale_pos_weight': [0.1, 0.15, 0.2, 0.25, 0.3, 0.35, 0.4]}\n",
      "2023-10-10 11:03:34,182 - Pipeline - INFO - Hyperparameter optimisation for: {'n_estimators': range(50, 250, 10)}\n",
      "2023-10-10 11:03:59,138 - Pipeline - INFO - Hyperparameter optimisation for: {'min_child_weight': range(1, 10)}\n",
      "2023-10-10 11:04:28,269 - Pipeline - INFO - Hyperparameter optimisation for: {'gamma': [0.0, 0.1, 0.2, 0.3, 0.4]}\n",
      "2023-10-10 11:04:33,480 - Pipeline - INFO - Hyperparameter optimisation for: {'subsample': [0.1, 0.2, 0.3, 0.4, 0.5, 0.6, 0.7, 0.8, 0.9], 'colsample_bytree': [0.1, 0.2, 0.3, 0.4, 0.5, 0.6, 0.7, 0.8, 0.9]}\n",
      "2023-10-10 11:05:37,944 - Pipeline - INFO - Hyperparameter optimisation for: {'reg_alpha': [0, 1e-05, 0.001, 0.1, 10]}\n",
      "2023-10-10 11:05:42,450 - Pipeline - INFO - params: {'max_depth': 6, 'scale_pos_weight': 0.3, 'n_estimators': 110, 'min_child_weight': 1, 'gamma': 0.0, 'colsample_bytree': 0.8, 'subsample': 0.9, 'reg_alpha': 0}\n",
      "2023-10-10 11:05:42,451 - Pipeline - INFO - Performing cross-validation\n",
      "2023-10-10 11:05:45,212 - Pipeline - INFO - Building LR model with all the features\n",
      "2023-10-10 11:05:45,213 - Pipeline - INFO - Performing Hyperparameter optimisation\n",
      "2023-10-10 11:05:48,771 - Pipeline - INFO - Building the model\n",
      "2023-10-10 11:05:48,772 - Pipeline - INFO - Performing cross-validation\n",
      "2023-10-10 11:05:50,373 - Pipeline - INFO - Building LR model with the selected features\n",
      "2023-10-10 11:05:50,375 - Pipeline - INFO - Performing Hyperparameter optimisation\n",
      "2023-10-10 11:05:51,382 - Pipeline - INFO - Building the model\n",
      "2023-10-10 11:05:51,383 - Pipeline - INFO - Performing cross-validation\n",
      "2023-10-10 11:05:52,510 - Pipeline - INFO - Building LGBM model with all the features\n",
      "2023-10-10 11:05:52,512 - Pipeline - INFO - Performing Hyperparameter optimisation\n",
      "2023-10-10 11:06:12,109 - Pipeline - INFO - Building the model\n",
      "2023-10-10 11:06:12,110 - Pipeline - INFO - Performing cross-validation\n",
      "2023-10-10 11:06:15,946 - Pipeline - INFO - Building LGBM model with the selected features\n",
      "2023-10-10 11:06:15,947 - Pipeline - INFO - Performing Hyperparameter optimisation\n",
      "2023-10-10 11:06:29,399 - Pipeline - INFO - Building the model\n",
      "2023-10-10 11:06:29,400 - Pipeline - INFO - Performing cross-validation\n",
      "2023-10-10 11:06:32,078 - Pipeline - INFO - Building MLP model with all the features\n",
      "2023-10-10 11:06:32,079 - Pipeline - INFO - Building the model\n",
      "2023-10-10 11:06:44,499 - Pipeline - INFO - Performing cross-validation\n",
      "2023-10-10 11:08:09,953 - Pipeline - INFO - Building MLP model with the selected features\n",
      "2023-10-10 11:08:09,954 - Pipeline - INFO - Building the model\n",
      "2023-10-10 11:08:11,111 - Pipeline - INFO - Performing cross-validation\n",
      "2023-10-10 11:08:28,159 - Pipeline - INFO - Get Outputs from first level models\n",
      "2023-10-10 11:08:28,160 - Pipeline - INFO - Obtaining output probabilities\n",
      "2023-10-10 11:08:28,160 - Pipeline - INFO - Split data to test and train sets\n",
      "2023-10-10 11:08:28,169 - Pipeline - INFO - Performing Hyperparameter optimisation for XGBoost\n",
      "2023-10-10 11:08:28,169 - Pipeline - INFO - Hyperparameter optimisation for: {'max_depth': range(1, 10), 'scale_pos_weight': [0.1, 0.15, 0.2, 0.25, 0.3, 0.35, 0.4]}\n",
      "2023-10-10 11:09:04,613 - Pipeline - INFO - Hyperparameter optimisation for: {'n_estimators': range(50, 250, 10)}\n",
      "2023-10-10 11:09:13,615 - Pipeline - INFO - Hyperparameter optimisation for: {'min_child_weight': range(1, 10)}\n",
      "2023-10-10 11:09:16,373 - Pipeline - INFO - Hyperparameter optimisation for: {'gamma': [0.0, 0.1, 0.2, 0.3, 0.4]}\n",
      "2023-10-10 11:09:18,050 - Pipeline - INFO - Hyperparameter optimisation for: {'subsample': [0.1, 0.2, 0.3, 0.4, 0.5, 0.6, 0.7, 0.8, 0.9], 'colsample_bytree': [0.1, 0.2, 0.3, 0.4, 0.5, 0.6, 0.7, 0.8, 0.9]}\n",
      "2023-10-10 11:09:43,855 - Pipeline - INFO - Hyperparameter optimisation for: {'reg_alpha': [0, 1e-05, 0.001, 0.1, 10]}\n",
      "2023-10-10 11:09:45,473 - Pipeline - INFO - params: {'max_depth': 2, 'scale_pos_weight': 0.4, 'n_estimators': 90, 'min_child_weight': 1, 'gamma': 0.0, 'colsample_bytree': 0.4, 'subsample': 0.6, 'reg_alpha': 0.1}\n",
      "2023-10-10 11:09:45,474 - Pipeline - INFO - Performing Hyperparameter optimisation for Logistic Regression\n",
      "2023-10-10 11:09:46,060 - Pipeline - INFO - Building individual models\n",
      "2023-10-10 11:11:30,380 - Pipeline - INFO - Building Ensemble XGBoost model with all the features\n",
      "2023-10-10 11:11:30,387 - Pipeline - INFO - Performing Hyperparameter optimisation\n",
      "2023-10-10 11:11:30,388 - Pipeline - INFO - Building the model\n",
      "2023-10-10 11:11:30,388 - Pipeline - INFO - Hyperparameter optimisation for: {'max_depth': range(1, 10), 'scale_pos_weight': [0.1, 0.15, 0.2, 0.25, 0.3, 0.35, 0.4]}\n",
      "2023-10-10 11:18:18,389 - Pipeline - INFO - Hyperparameter optimisation for: {'n_estimators': range(50, 250, 10)}\n",
      "2023-10-10 11:20:21,931 - Pipeline - INFO - Hyperparameter optimisation for: {'min_child_weight': range(1, 10)}\n",
      "2023-10-10 11:20:59,208 - Pipeline - INFO - Hyperparameter optimisation for: {'gamma': [0.0, 0.1, 0.2, 0.3, 0.4]}\n",
      "2023-10-10 11:21:01,312 - Pipeline - INFO - Hyperparameter optimisation for: {'subsample': [0.1, 0.2, 0.3, 0.4, 0.5, 0.6, 0.7, 0.8, 0.9], 'colsample_bytree': [0.1, 0.2, 0.3, 0.4, 0.5, 0.6, 0.7, 0.8, 0.9]}\n",
      "2023-10-10 11:22:00,959 - Pipeline - INFO - Hyperparameter optimisation for: {'reg_alpha': [0, 1e-05, 0.001, 0.1, 10]}\n",
      "2023-10-10 11:22:02,775 - Pipeline - INFO - params: {'max_depth': 1, 'scale_pos_weight': 0.4, 'n_estimators': 110, 'min_child_weight': 1, 'gamma': 0.0, 'colsample_bytree': 0.2, 'subsample': 0.9, 'reg_alpha': 0.1}\n",
      "2023-10-10 11:22:02,776 - Pipeline - INFO - Performing cross-validation\n",
      "2023-10-10 11:22:04,346 - Pipeline - INFO - Building Ensemble LR model with all the features\n",
      "2023-10-10 11:22:04,348 - Pipeline - INFO - Performing Hyperparameter optimisation\n",
      "2023-10-10 11:22:05,128 - Pipeline - INFO - Building the model\n",
      "2023-10-10 11:22:05,129 - Pipeline - INFO - Performing cross-validation\n",
      "Scores:  {'xgb': {'fit_time': array([0.33409119, 0.20357776, 0.29904342, 0.2052772 , 0.32186699]), 'score_time': array([0.02833939, 0.02564359, 0.02564573, 0.04364443, 0.02551436]), 'test_accuracy': array([0.91596639, 0.92424242, 0.92760943, 0.93434343, 0.93602694]), 'test_balanced_accuracy': array([0.72373096, 0.76778656, 0.78384387, 0.78310277, 0.80965625]), 'test_average_precision': array([0.73141486, 0.74466562, 0.76697857, 0.81512106, 0.81417775]), 'test_f1': array([0.61538462, 0.68085106, 0.70344828, 0.71942446, 0.74666667]), 'test_roc_auc': array([0.87791446, 0.88232124, 0.89748024, 0.9198931 , 0.90962287]), 'test_mccf1_score': array([0.69821901, 0.74553142, 0.76251722, 0.77795496, 0.79671065])}, 'lr': {'fit_time': array([0.08862543, 0.08167815, 0.08130836, 0.08463931, 0.08244801]), 'score_time': array([0.01004195, 0.01013088, 0.01029062, 0.00999784, 0.00997257]), 'test_accuracy': array([0.9092437 , 0.91919192, 0.92255892, 0.93434343, 0.94276094]), 'test_balanced_accuracy': array([0.75218724, 0.77420949, 0.79496047, 0.80187747, 0.83675604]), 'test_average_precision': array([0.74318282, 0.75772166, 0.7668129 , 0.8282177 , 0.80897788]), 'test_f1': array([0.63513514, 0.67567568, 0.7012987 , 0.73469388, 0.78205128]), 'test_roc_auc': array([0.88997202, 0.90803539, 0.90832734, 0.92458678, 0.90105685]), 'test_mccf1_score': array([0.70610388, 0.73882662, 0.75816183, 0.78740098, 0.82405058])}, 'lgbm': {'fit_time': array([0.26498914, 0.27604246, 0.281317  , 0.39534783, 0.28433537]), 'score_time': array([0.01276517, 0.01268482, 0.01255441, 0.01300311, 0.01282549]), 'test_accuracy': array([0.91092437, 0.91750842, 0.92929293, 0.93939394, 0.94444444]), 'test_balanced_accuracy': array([0.70687703, 0.73567194, 0.79421937, 0.80014822, 0.8238625 ]), 'test_average_precision': array([0.76780028, 0.78546069, 0.78907383, 0.85511686, 0.81342862]), 'test_f1': array([0.58267717, 0.63157895, 0.71621622, 0.74647887, 0.77852349]), 'test_roc_auc': array([0.90349514, 0.92110582, 0.91073033, 0.94486615, 0.9067527 ]), 'test_mccf1_score': array([0.67330669, 0.70892937, 0.77197787, 0.7988292 , 0.82307398])}, 'mlp': {'fit_time': array([9.12708187, 9.33218837, 7.73295641, 6.8266027 , 9.21828556]), 'score_time': array([0.01386952, 0.01388597, 0.01345968, 0.01371551, 0.01372528]), 'test_accuracy': array([0.8907563 , 0.8956229 , 0.90909091, 0.8973064 , 0.91077441]), 'test_balanced_accuracy': array([0.71353866, 0.76037549, 0.81991107, 0.76605731, 0.77629325]), 'test_average_precision': array([0.63399763, 0.65091782, 0.70992298, 0.70604064, 0.76801668]), 'test_f1': array([0.55782313, 0.61728395, 0.69318182, 0.62576687, 0.66242038]), 'test_roc_auc': array([0.7965093 , 0.81836148, 0.88038987, 0.87854833, 0.89326955]), 'test_mccf1_score': array([0.64315211, 0.68788501, 0.74843548, 0.69466101, 0.7259854 ])}, 'xgb_min': {'fit_time': array([0.18042445, 0.180691  , 0.29236937, 0.1827352 , 0.1848917 ]), 'score_time': array([0.01460648, 0.01370478, 0.0144155 , 0.01392126, 0.01425505]), 'test_accuracy': array([0.90588235, 0.92255892, 0.91919192, 0.92760943, 0.92255892]), 'test_balanced_accuracy': array([0.71780211, 0.76210474, 0.77420949, 0.7791502 , 0.77396818]), 'test_average_precision': array([0.66603598, 0.71980693, 0.73208802, 0.77475723, 0.76029171]), 'test_f1': array([0.58823529, 0.67142857, 0.67567568, 0.6993007 , 0.68493151]), 'test_roc_auc': array([0.84418439, 0.87416906, 0.88490388, 0.88602677, 0.89389254]), 'test_mccf1_score': array([0.67251413, 0.73823071, 0.73882662, 0.75984788, 0.74751459])}, 'lr_min': {'fit_time': array([0.02801228, 0.03212786, 0.02851653, 0.02445865, 0.04646373]), 'score_time': array([0.00882292, 0.00989509, 0.00856948, 0.05606461, 0.00884628]), 'test_accuracy': array([0.90420168, 0.92087542, 0.90909091, 0.92424242, 0.93097643]), 'test_balanced_accuracy': array([0.72607363, 0.7611166 , 0.74950593, 0.77717391, 0.80205807]), 'test_average_precision': array([0.69095243, 0.72575403, 0.71320785, 0.79873317, 0.77408433]), 'test_f1': array([0.59574468, 0.66666667, 0.63013699, 0.68965517, 0.72847682]), 'test_roc_auc': array([0.85568681, 0.88966493, 0.89440352, 0.91984819, 0.88830793]), 'test_mccf1_score': array([0.67640373, 0.73392006, 0.70221024, 0.75123469, 0.78153687])}, 'lgbm_min': {'fit_time': array([0.19043469, 0.18923235, 0.19199324, 0.18788624, 0.18678689]), 'score_time': array([0.01093388, 0.01019883, 0.01138091, 0.01096654, 0.01145101]), 'test_accuracy': array([0.90252101, 0.91582492, 0.91750842, 0.93097643, 0.92424242]), 'test_balanced_accuracy': array([0.69730648, 0.74407115, 0.75914032, 0.77643281, 0.77495828]), 'test_average_precision': array([0.68975186, 0.71966018, 0.73011991, 0.80275742, 0.80247561]), 'test_f1': array([0.55384615, 0.63768116, 0.65734266, 0.70503597, 0.68965517]), 'test_roc_auc': array([0.85470977, 0.88169242, 0.89146155, 0.90078153, 0.90328179]), 'test_mccf1_score': array([0.64756785, 0.71145837, 0.72551407, 0.76617739, 0.75174109])}, 'mlp_min': {'fit_time': array([1.51239467, 1.43715596, 1.55960178, 1.73494244, 1.92827582]), 'score_time': array([0.00936341, 0.00974035, 0.00971031, 0.0095284 , 0.00971437]), 'test_accuracy': array([0.90252101, 0.91414141, 0.8973064 , 0.92255892, 0.92087542]), 'test_balanced_accuracy': array([0.72508549, 0.76655138, 0.73320158, 0.77149209, 0.80537323]), 'test_average_precision': array([0.67327885, 0.71364674, 0.6854762 , 0.77507048, 0.76964513]), 'test_f1': array([0.5915493 , 0.65771812, 0.59060403, 0.68055556, 0.70807453]), 'test_roc_auc': array([0.84418439, 0.87913223, 0.8825009 , 0.90657564, 0.89204583]), 'test_mccf1_score': array([0.67256137, 0.72384424, 0.66896005, 0.74414315, 0.76251741])}, 'xgb_ensemble': {'fit_time': array([0.06550097, 0.0639317 , 0.06406713, 0.0658946 , 0.06398344]), 'score_time': array([0.01728678, 0.01557779, 0.01571131, 0.01650286, 0.01564384]), 'test_accuracy': array([0.90604027, 0.94276094, 0.93602694, 0.92255892, 0.94276094]), 'test_balanced_accuracy': array([0.72542819, 0.85674603, 0.79801587, 0.74802372, 0.81620553]), 'test_average_precision': array([0.7590153 , 0.84768377, 0.76181262, 0.8035262 , 0.83611563]), 'test_f1': array([0.6       , 0.79518072, 0.73972603, 0.65671642, 0.76712329]), 'test_roc_auc': array([0.90294247, 0.95537919, 0.8845679 , 0.92220625, 0.91618757]), 'test_mccf1_score': array([0.68092598, 0.83318368, 0.79289282, 0.72901479, 0.81424484])}, 'lr_ensemble': {'fit_time': array([0.00847602, 0.0083468 , 0.00841904, 0.00869942, 0.00904536]), 'score_time': array([0.01009583, 0.00966096, 0.00959301, 0.00995088, 0.00956941]), 'test_accuracy': array([0.90939597, 0.93602694, 0.92592593, 0.92255892, 0.94612795]), 'test_balanced_accuracy': array([0.73653931, 0.85277778, 0.79206349, 0.75741107, 0.83695652]), 'test_average_precision': array([0.74398654, 0.86019126, 0.76355456, 0.81923874, 0.84564952]), 'test_f1': array([0.61971831, 0.77647059, 0.71052632, 0.66666667, 0.78947368]), 'test_roc_auc': array([0.8969697 , 0.96067019, 0.87663139, 0.94187927, 0.92490119]), 'test_mccf1_score': array([0.69621954, 0.81733833, 0.76697546, 0.73520565, 0.83073381])}}\n",
      "2023-10-10 11:22:06,020 - Pipeline - INFO - Saving the CV results for all the models\n",
      "2023-10-10 11:22:06,023 - Pipeline - INFO - Completed !!!\n"
     ]
    }
   ],
   "source": [
    "pm.runPredictionsForAllTargets(\n",
    "    label='rescaled',\n",
    "    dirPath = dataDirName,\n",
    "    vitalsBefore = 0,\n",
    "    vitalsAfter = 72,\n",
    "    labsBefore = 0,\n",
    "    labsAfter = 72,\n",
    "    # targetList = [7, 14, 21, 30, 60, 90, 120, (7, 14), (14, 21), (21, 30), (30, 60), (60, 90), (90, 120)],\n",
    "    targetList = [7],\n",
    "    )"
   ]
  },
  {
   "cell_type": "markdown",
   "metadata": {},
   "source": [
    "### Remove the data matrix file from working directory"
   ]
  },
  {
   "cell_type": "code",
   "execution_count": 11,
   "metadata": {},
   "outputs": [
    {
     "data": {
      "text/plain": [
       "0"
      ]
     },
     "execution_count": 11,
     "metadata": {},
     "output_type": "execute_result"
    }
   ],
   "source": [
    "import os\n",
    "\n",
    "\n",
    "os.system(\n",
    "    '''rm ''' + dataDirName + '''data_matrix.csv'''\n",
    ")"
   ]
  }
 ],
 "metadata": {
  "kernelspec": {
   "display_name": ".venv",
   "language": "python",
   "name": "python3"
  },
  "language_info": {
   "codemirror_mode": {
    "name": "ipython",
    "version": 3
   },
   "file_extension": ".py",
   "mimetype": "text/x-python",
   "name": "python",
   "nbconvert_exporter": "python",
   "pygments_lexer": "ipython3",
   "version": "3.9.5"
  },
  "orig_nbformat": 4
 },
 "nbformat": 4,
 "nbformat_minor": 2
}
