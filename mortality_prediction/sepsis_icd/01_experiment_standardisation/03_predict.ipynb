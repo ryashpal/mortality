{
 "cells": [
  {
   "cell_type": "markdown",
   "metadata": {},
   "source": [
    "## Perform prediction"
   ]
  },
  {
   "cell_type": "markdown",
   "metadata": {},
   "source": [
    "### Import libraries"
   ]
  },
  {
   "cell_type": "code",
   "execution_count": 1,
   "metadata": {},
   "outputs": [],
   "source": [
    "import os\n",
    "\n",
    "import logging\n",
    "import sys\n",
    "\n",
    "log = logging.getLogger(\"Pipeline\")\n",
    "log.setLevel(logging.INFO)\n",
    "format = logging.Formatter(\"%(asctime)s - %(name)s - %(levelname)s - %(message)s\")\n",
    "\n",
    "ch = logging.StreamHandler(sys.stdout)\n",
    "ch.setFormatter(format)\n",
    "log.addHandler(ch)\n",
    "\n",
    "import warnings\n",
    "warnings.simplefilter(action='ignore', category=Warning)\n",
    "\n",
    "module_path = os.path.abspath(os.path.join('../'))\n",
    "if module_path not in sys.path:\n",
    "    sys.path.append(module_path)\n",
    "\n",
    "import predict_mortality as pm"
   ]
  },
  {
   "cell_type": "markdown",
   "metadata": {},
   "source": [
    "## Define data directory\n",
    "\n",
    "A top level directory to store all the data for this experiment"
   ]
  },
  {
   "cell_type": "code",
   "execution_count": 4,
   "metadata": {},
   "outputs": [],
   "source": [
    "dataDirName = '/home/yram0006/phd/chapter_2/workspace/mortality_data/standardisation_experiment/'"
   ]
  },
  {
   "cell_type": "markdown",
   "metadata": {},
   "source": [
    "## Perform prediction on raw dataset"
   ]
  },
  {
   "cell_type": "markdown",
   "metadata": {},
   "source": [
    "### Copy the raw file to working directory"
   ]
  },
  {
   "cell_type": "code",
   "execution_count": 5,
   "metadata": {},
   "outputs": [
    {
     "data": {
      "text/plain": [
       "0"
      ]
     },
     "execution_count": 5,
     "metadata": {},
     "output_type": "execute_result"
    }
   ],
   "source": [
    "import os\n",
    "\n",
    "\n",
    "os.system(\n",
    "    '''cp ''' + dataDirName + '''data_matrix/data_matrix_raw.csv ''' + dataDirName + '''data_matrix.csv;'''\n",
    ")"
   ]
  },
  {
   "cell_type": "markdown",
   "metadata": {},
   "source": [
    "### Perform prediction"
   ]
  },
  {
   "cell_type": "code",
   "execution_count": 6,
   "metadata": {},
   "outputs": [
    {
     "name": "stdout",
     "output_type": "stream",
     "text": [
      "2023-09-21 17:51:32,052 - Pipeline - INFO - dirName: raw_icd_vb_24_va_72_lb_24_la_72\n",
      "2023-09-21 17:51:32,055 - Pipeline - INFO - Running Predictions for vb_24_va_72_lb_24_la_72, targetStart : 0, targetEnd : 7\n",
      "2023-09-21 17:51:32,055 - Pipeline - INFO - Reading data\n",
      "2023-09-21 17:51:32,754 - Pipeline - INFO - Formatting data\n",
      "2023-09-21 17:51:32,761 - Pipeline - INFO - Performing SFS\n",
      "2023-09-21 17:54:47,521 - Pipeline - INFO - Building XGBoost model with all the features\n",
      "2023-09-21 17:54:47,522 - Pipeline - INFO - Performing Hyperparameter optimisation\n",
      "2023-09-21 17:54:47,544 - Pipeline - INFO - Building the model\n",
      "2023-09-21 17:54:47,545 - Pipeline - INFO - Hyperparameter optimisation for: {'max_depth': range(1, 10), 'scale_pos_weight': [0.1, 0.15, 0.2, 0.25, 0.3, 0.35, 0.4]}\n",
      "2023-09-21 17:56:15,710 - Pipeline - INFO - Hyperparameter optimisation for: {'n_estimators': range(50, 250, 10)}\n",
      "2023-09-21 17:57:00,768 - Pipeline - INFO - Hyperparameter optimisation for: {'min_child_weight': range(1, 10)}\n",
      "2023-09-21 17:57:14,883 - Pipeline - INFO - Hyperparameter optimisation for: {'gamma': [0.0, 0.1, 0.2, 0.3, 0.4]}\n",
      "2023-09-21 17:57:24,453 - Pipeline - INFO - Hyperparameter optimisation for: {'subsample': [0.1, 0.2, 0.3, 0.4, 0.5, 0.6, 0.7, 0.8, 0.9], 'colsample_bytree': [0.1, 0.2, 0.3, 0.4, 0.5, 0.6, 0.7, 0.8, 0.9]}\n",
      "2023-09-21 17:59:05,790 - Pipeline - INFO - Hyperparameter optimisation for: {'reg_alpha': [0, 1e-05, 0.001, 0.1, 10]}\n",
      "2023-09-21 17:59:14,212 - Pipeline - INFO - params: {'max_depth': 2, 'scale_pos_weight': 0.4, 'n_estimators': 190, 'min_child_weight': 5, 'gamma': 0.4, 'colsample_bytree': 0.8, 'subsample': 0.8, 'reg_alpha': 10}\n",
      "2023-09-21 17:59:14,215 - Pipeline - INFO - Performing cross-validation\n",
      "2023-09-21 17:59:18,739 - Pipeline - INFO - Building XGBoost model with the selected features\n",
      "2023-09-21 17:59:18,740 - Pipeline - INFO - Performing Hyperparameter optimisation\n",
      "2023-09-21 17:59:18,741 - Pipeline - INFO - Building the model\n",
      "2023-09-21 17:59:18,742 - Pipeline - INFO - Hyperparameter optimisation for: {'max_depth': range(1, 10), 'scale_pos_weight': [0.1, 0.15, 0.2, 0.25, 0.3, 0.35, 0.4]}\n",
      "2023-09-21 18:00:03,866 - Pipeline - INFO - Hyperparameter optimisation for: {'n_estimators': range(50, 250, 10)}\n",
      "2023-09-21 18:00:28,642 - Pipeline - INFO - Hyperparameter optimisation for: {'min_child_weight': range(1, 10)}\n",
      "2023-09-21 18:00:36,032 - Pipeline - INFO - Hyperparameter optimisation for: {'gamma': [0.0, 0.1, 0.2, 0.3, 0.4]}\n",
      "2023-09-21 18:00:40,927 - Pipeline - INFO - Hyperparameter optimisation for: {'subsample': [0.1, 0.2, 0.3, 0.4, 0.5, 0.6, 0.7, 0.8, 0.9], 'colsample_bytree': [0.1, 0.2, 0.3, 0.4, 0.5, 0.6, 0.7, 0.8, 0.9]}\n",
      "2023-09-21 18:01:43,683 - Pipeline - INFO - Hyperparameter optimisation for: {'reg_alpha': [0, 1e-05, 0.001, 0.1, 10]}\n",
      "2023-09-21 18:01:47,707 - Pipeline - INFO - params: {'max_depth': 4, 'scale_pos_weight': 0.4, 'n_estimators': 50, 'min_child_weight': 1, 'gamma': 0.1, 'colsample_bytree': 0.5, 'subsample': 0.9, 'reg_alpha': 10}\n",
      "2023-09-21 18:01:47,709 - Pipeline - INFO - Performing cross-validation\n",
      "2023-09-21 18:01:49,053 - Pipeline - INFO - Building LR model with all the features\n",
      "2023-09-21 18:01:49,054 - Pipeline - INFO - Performing Hyperparameter optimisation\n",
      "2023-09-21 18:02:21,196 - Pipeline - INFO - Building the model\n",
      "2023-09-21 18:02:21,198 - Pipeline - INFO - Performing cross-validation\n",
      "2023-09-21 18:02:26,350 - Pipeline - INFO - Building LR model with the selected features\n",
      "2023-09-21 18:02:26,351 - Pipeline - INFO - Performing Hyperparameter optimisation\n",
      "2023-09-21 18:02:30,589 - Pipeline - INFO - Building the model\n",
      "2023-09-21 18:02:30,591 - Pipeline - INFO - Performing cross-validation\n",
      "2023-09-21 18:02:31,544 - Pipeline - INFO - Building LGBM model with all the features\n",
      "2023-09-21 18:02:31,545 - Pipeline - INFO - Performing Hyperparameter optimisation\n",
      "2023-09-21 18:02:51,182 - Pipeline - INFO - Building the model\n",
      "2023-09-21 18:02:51,187 - Pipeline - INFO - Performing cross-validation\n",
      "2023-09-21 18:02:53,923 - Pipeline - INFO - Building LGBM model with the selected features\n",
      "2023-09-21 18:02:53,924 - Pipeline - INFO - Performing Hyperparameter optimisation\n",
      "2023-09-21 18:03:06,532 - Pipeline - INFO - Building the model\n",
      "2023-09-21 18:03:06,534 - Pipeline - INFO - Performing cross-validation\n",
      "2023-09-21 18:03:09,276 - Pipeline - INFO - Building MLP model with all the features\n",
      "2023-09-21 18:03:09,277 - Pipeline - INFO - Building the model\n",
      "2023-09-21 18:03:12,974 - Pipeline - INFO - Performing cross-validation\n",
      "2023-09-21 18:03:42,476 - Pipeline - INFO - Building MLP model with the selected features\n",
      "2023-09-21 18:03:42,478 - Pipeline - INFO - Building the model\n",
      "2023-09-21 18:03:42,939 - Pipeline - INFO - Performing cross-validation\n",
      "2023-09-21 18:03:48,565 - Pipeline - INFO - Get Outputs from first level models\n",
      "2023-09-21 18:03:48,566 - Pipeline - INFO - Obtaining output probabilities\n",
      "2023-09-21 18:03:48,567 - Pipeline - INFO - Split data to test and train sets\n",
      "2023-09-21 18:03:48,575 - Pipeline - INFO - Performing Hyperparameter optimisation for XGBoost\n",
      "2023-09-21 18:03:48,576 - Pipeline - INFO - Hyperparameter optimisation for: {'max_depth': range(1, 10), 'scale_pos_weight': [0.1, 0.15, 0.2, 0.25, 0.3, 0.35, 0.4]}\n",
      "2023-09-21 18:04:24,587 - Pipeline - INFO - Hyperparameter optimisation for: {'n_estimators': range(50, 250, 10)}\n",
      "2023-09-21 18:04:44,294 - Pipeline - INFO - Hyperparameter optimisation for: {'min_child_weight': range(1, 10)}\n",
      "2023-09-21 18:04:49,949 - Pipeline - INFO - Hyperparameter optimisation for: {'gamma': [0.0, 0.1, 0.2, 0.3, 0.4]}\n",
      "2023-09-21 18:04:53,884 - Pipeline - INFO - Hyperparameter optimisation for: {'subsample': [0.1, 0.2, 0.3, 0.4, 0.5, 0.6, 0.7, 0.8, 0.9], 'colsample_bytree': [0.1, 0.2, 0.3, 0.4, 0.5, 0.6, 0.7, 0.8, 0.9]}\n",
      "2023-09-21 18:05:46,044 - Pipeline - INFO - Hyperparameter optimisation for: {'reg_alpha': [0, 1e-05, 0.001, 0.1, 10]}\n",
      "2023-09-21 18:05:49,233 - Pipeline - INFO - params: {'max_depth': 5, 'scale_pos_weight': 0.2, 'n_estimators': 50, 'min_child_weight': 9, 'gamma': 0.3, 'colsample_bytree': 0.3, 'subsample': 0.9, 'reg_alpha': 10}\n",
      "2023-09-21 18:05:49,237 - Pipeline - INFO - Performing Hyperparameter optimisation for Logistic Regression\n",
      "2023-09-21 18:05:52,184 - Pipeline - INFO - Building individual models\n",
      "2023-09-21 18:06:08,608 - Pipeline - INFO - Building Ensemble XGBoost model with all the features\n",
      "2023-09-21 18:06:08,610 - Pipeline - INFO - Performing Hyperparameter optimisation\n",
      "2023-09-21 18:06:08,610 - Pipeline - INFO - Building the model\n",
      "2023-09-21 18:06:08,613 - Pipeline - INFO - Hyperparameter optimisation for: {'max_depth': range(1, 10), 'scale_pos_weight': [0.1, 0.15, 0.2, 0.25, 0.3, 0.35, 0.4]}\n",
      "2023-09-21 18:06:48,860 - Pipeline - INFO - Hyperparameter optimisation for: {'n_estimators': range(50, 250, 10)}\n",
      "2023-09-21 18:07:08,558 - Pipeline - INFO - Hyperparameter optimisation for: {'min_child_weight': range(1, 10)}\n",
      "2023-09-21 18:07:14,670 - Pipeline - INFO - Hyperparameter optimisation for: {'gamma': [0.0, 0.1, 0.2, 0.3, 0.4]}\n",
      "2023-09-21 18:07:18,833 - Pipeline - INFO - Hyperparameter optimisation for: {'subsample': [0.1, 0.2, 0.3, 0.4, 0.5, 0.6, 0.7, 0.8, 0.9], 'colsample_bytree': [0.1, 0.2, 0.3, 0.4, 0.5, 0.6, 0.7, 0.8, 0.9]}\n",
      "2023-09-21 18:08:09,851 - Pipeline - INFO - Hyperparameter optimisation for: {'reg_alpha': [0, 1e-05, 0.001, 0.1, 10]}\n",
      "2023-09-21 18:08:13,554 - Pipeline - INFO - params: {'max_depth': 6, 'scale_pos_weight': 0.35, 'n_estimators': 100, 'min_child_weight': 1, 'gamma': 0.0, 'colsample_bytree': 0.2, 'subsample': 0.9, 'reg_alpha': 0}\n",
      "2023-09-21 18:08:13,556 - Pipeline - INFO - Performing cross-validation\n",
      "2023-09-21 18:08:15,780 - Pipeline - INFO - Building Ensemble LR model with all the features\n",
      "2023-09-21 18:08:15,782 - Pipeline - INFO - Performing Hyperparameter optimisation\n",
      "2023-09-21 18:08:16,532 - Pipeline - INFO - Building the model\n",
      "2023-09-21 18:08:16,534 - Pipeline - INFO - Performing cross-validation\n",
      "Scores:  {'xgb': {'fit_time': array([0.2309854 , 0.22983623, 0.23177242, 0.23554492, 0.23201537]), 'score_time': array([0.02694488, 0.02446842, 0.02449179, 0.0247333 , 0.02428579]), 'test_accuracy': array([0.86915888, 0.8728972 , 0.86542056, 0.88224299, 0.87453184]), 'test_balanced_accuracy': array([0.58315835, 0.59035966, 0.58594465, 0.62084747, 0.6066961 ]), 'test_average_precision': array([0.5472421 , 0.60808729, 0.53865296, 0.63484451, 0.59080097]), 'test_f1': array([0.28571429, 0.30612245, 0.29411765, 0.38834951, 0.34951456]), 'test_roc_auc': array([0.80579336, 0.8437786 , 0.82374953, 0.84192107, 0.8367536 ]), 'test_mccf1_score': array([0.44535714, 0.46293477, 0.44696519, 0.52555747, 0.49125493])}, 'lr': {'fit_time': array([0.3846364 , 0.48018551, 0.43267417, 0.5582664 , 0.37804866]), 'score_time': array([0.01191044, 0.01266336, 0.01074266, 0.01057887, 0.01038933]), 'test_accuracy': array([0.8728972 , 0.87663551, 0.85607477, 0.88971963, 0.88202247]), 'test_balanced_accuracy': array([0.63530394, 0.62752382, 0.61038874, 0.69018198, 0.67194015]), 'test_average_precision': array([0.49541057, 0.54783403, 0.506468  , 0.64090522, 0.54123666]), 'test_f1': array([0.4137931 , 0.4       , 0.35294118, 0.528     , 0.48780488]), 'test_roc_auc': array([0.76387767, 0.79440586, 0.81640015, 0.8437786 , 0.80593029]), 'test_mccf1_score': array([0.53429888, 0.52762863, 0.48206363, 0.62298165, 0.59029268])}, 'lgbm': {'fit_time': array([0.18846416, 0.181422  , 0.22605085, 0.28109002, 0.17319345]), 'score_time': array([0.01378059, 0.01235127, 0.01310515, 0.01259351, 0.01233792]), 'test_accuracy': array([0.88037383, 0.87850467, 0.8635514 , 0.88971963, 0.88951311]), 'test_balanced_accuracy': array([0.63472514, 0.62862758, 0.59982232, 0.65023152, 0.65607882]), 'test_average_precision': array([0.55170696, 0.57631536, 0.51512233, 0.66584856, 0.61310667]), 'test_f1': array([0.41818182, 0.40366972, 0.33027523, 0.4587156 , 0.46846847]), 'test_roc_auc': array([0.80277823, 0.82143434, 0.8147849 , 0.84070963, 0.84604693]), 'test_mccf1_score': array([0.54279405, 0.53163092, 0.47026283, 0.57757791, 0.58256624])}, 'mlp': {'fit_time': array([1.90891242, 2.42013741, 3.53228855, 2.28455162, 4.20519447]), 'score_time': array([0.0131104 , 0.01311421, 0.01294541, 0.01289678, 0.01325178]), 'test_accuracy': array([0.81308411, 0.84672897, 0.79439252, 0.86915888, 0.82209738]), 'test_balanced_accuracy': array([0.66490335, 0.57990093, 0.69381629, 0.65806547, 0.6619655 ]), 'test_average_precision': array([0.4578084 , 0.3728161 , 0.41184762, 0.47587618, 0.39781002]), 'test_f1': array([0.42528736, 0.28070175, 0.45      , 0.453125  , 0.42424242]), 'test_roc_auc': array([0.74164109, 0.73636462, 0.73497819, 0.76387767, 0.72869485]), 'test_mccf1_score': array([0.52689945, 0.42522061, 0.54587458, 0.55999542, 0.52703852])}, 'xgb_min': {'fit_time': array([0.0443387 , 0.04462051, 0.05097151, 0.04648066, 0.04476452]), 'score_time': array([0.01538682, 0.01280975, 0.0138967 , 0.01229405, 0.01223683]), 'test_accuracy': array([0.86915888, 0.8635514 , 0.85233645, 0.86542056, 0.88576779]), 'test_balanced_accuracy': array([0.57317073, 0.55987186, 0.54326172, 0.57096323, 0.63359496]), 'test_average_precision': array([0.53049768, 0.55091596, 0.47165081, 0.57682712, 0.55025499]), 'test_f1': array([0.25531915, 0.21505376, 0.16842105, 0.25      , 0.41904762]), 'test_roc_auc': array([0.77511711, 0.81265816, 0.78946589, 0.81891725, 0.77971275]), 'test_mccf1_score': array([0.42631667, 0.39285458, 0.34786829, 0.41776158, 0.54739589])}, 'lr_min': {'fit_time': array([0.02728415, 0.02668238, 0.02031207, 0.01387095, 0.02884173]), 'score_time': array([0.0083189 , 0.00818872, 0.00803971, 0.00804067, 0.00809836]), 'test_accuracy': array([0.8728972 , 0.86728972, 0.86168224, 0.8635514 , 0.87827715]), 'test_balanced_accuracy': array([0.61033489, 0.60202983, 0.61369999, 0.59982232, 0.6494563 ]), 'test_average_precision': array([0.50453221, 0.52038404, 0.50582692, 0.46853397, 0.50696857]), 'test_f1': array([0.35849057, 0.3364486 , 0.36206897, 0.33027523, 0.44444444]), 'test_roc_auc': array([0.75539762, 0.82867604, 0.80267054, 0.79023313, 0.75679285]), 'test_mccf1_score': array([0.49681798, 0.47727757, 0.49145084, 0.47026283, 0.55810446])}, 'lgbm_min': {'fit_time': array([0.18376899, 0.21878624, 0.23144889, 0.19738817, 0.18957853]), 'score_time': array([0.01886773, 0.01129866, 0.01034832, 0.01114082, 0.01023102]), 'test_accuracy': array([0.86728972, 0.86168224, 0.86542056, 0.87102804, 0.88389513]), 'test_balanced_accuracy': array([0.62200506, 0.58873095, 0.60092608, 0.60923114, 0.65783664]), 'test_average_precision': array([0.50387395, 0.47945206, 0.48776473, 0.51463527, 0.55380194]), 'test_f1': array([0.3826087 , 0.30188679, 0.33333333, 0.35514019, 0.46551724]), 'test_roc_auc': array([0.79472891, 0.76253163, 0.79039466, 0.78059549, 0.79303954]), 'test_mccf1_score': array([0.50915638, 0.44918935, 0.47371732, 0.49296853, 0.57618817])}, 'mlp_min': {'fit_time': array([0.38420033, 0.40658522, 0.5836463 , 0.47716784, 0.61706901]), 'score_time': array([0.00935245, 0.00944209, 0.00966644, 0.00934315, 0.00984931]), 'test_accuracy': array([0.85607477, 0.85233645, 0.85233645, 0.85981308, 0.86891386]), 'test_balanced_accuracy': array([0.63036397, 0.63315027, 0.63315027, 0.59262101, 0.66928297]), 'test_average_precision': array([0.44299018, 0.4709594 , 0.50444649, 0.44843131, 0.49931298]), 'test_f1': array([0.39370079, 0.39694656, 0.39694656, 0.31192661, 0.46969697]), 'test_roc_auc': array([0.72336187, 0.79141765, 0.76945028, 0.79219835, 0.74976153]), 'test_mccf1_score': array([0.51162255, 0.51264398, 0.51264398, 0.45490622, 0.57145571])}, 'xgb_ensemble': {'fit_time': array([0.12089491, 0.12018442, 0.11822295, 0.21892285, 0.11958289]), 'score_time': array([0.01749063, 0.01661181, 0.01668763, 0.01698232, 0.01676226]), 'test_accuracy': array([0.87313433, 0.88432836, 0.86891386, 0.87640449, 0.86891386]), 'test_balanced_accuracy': array([0.63400759, 0.65834625, 0.66079365, 0.68460317, 0.66079365]), 'test_average_precision': array([0.59139804, 0.607505  , 0.59295007, 0.57815376, 0.62268181]), 'test_f1': array([0.4137931 , 0.47457627, 0.46153846, 0.50746269, 0.46153846]), 'test_roc_auc': array([0.83196376, 0.79979328, 0.79142857, 0.83216931, 0.82899471]), 'test_mccf1_score': array([0.53615576, 0.58711428, 0.5670892 , 0.60306992, 0.5670892 ])}, 'lr_ensemble': {'fit_time': array([0.01615596, 0.01547718, 0.01605821, 0.01546025, 0.01475787]), 'score_time': array([0.00947571, 0.00928521, 0.00939369, 0.00918722, 0.00912333]), 'test_accuracy': array([0.86567164, 0.88432836, 0.90262172, 0.88389513, 0.88014981]), 'test_balanced_accuracy': array([0.65865992, 0.65834625, 0.72920635, 0.69873016, 0.6868254 ]), 'test_average_precision': array([0.56841341, 0.65896804, 0.65148147, 0.63487582, 0.65508581]), 'test_f1': array([0.45454545, 0.47457627, 0.60606061, 0.53731343, 0.51515152]), 'test_roc_auc': array([0.81300042, 0.84899225, 0.8437037 , 0.85206349, 0.86846561]), 'test_mccf1_score': array([0.56049672, 0.58711428, 0.68492073, 0.6275784 , 0.61024499])}}\n",
      "2023-09-21 18:08:17,427 - Pipeline - INFO - Saving the CV results for all the models\n",
      "2023-09-21 18:08:17,429 - Pipeline - INFO - Completed !!!\n"
     ]
    }
   ],
   "source": [
    "pm.runPredictionsForAllTargets(\n",
    "    label='raw',\n",
    "    dirPath = dataDirName,\n",
    "    vitalsBefore = 0,\n",
    "    vitalsAfter = 24,\n",
    "    labsBefore = 0,\n",
    "    labsAfter = 24,\n",
    "    # targetList = [7, 14, 21, 30, 60, 90, 120, (7, 14), (14, 21), (21, 30), (30, 60), (60, 90), (90, 120)],\n",
    "    targetList = [7],\n",
    "    )"
   ]
  },
  {
   "cell_type": "markdown",
   "metadata": {},
   "source": [
    "### Remove the data matrix file from working directory"
   ]
  },
  {
   "cell_type": "code",
   "execution_count": 7,
   "metadata": {},
   "outputs": [
    {
     "data": {
      "text/plain": [
       "0"
      ]
     },
     "execution_count": 7,
     "metadata": {},
     "output_type": "execute_result"
    }
   ],
   "source": [
    "import os\n",
    "\n",
    "\n",
    "os.system(\n",
    "    '''rm ''' + dataDirName + '''data_matrix.csv'''\n",
    ")"
   ]
  },
  {
   "cell_type": "markdown",
   "metadata": {},
   "source": [
    "## Perform prediction on standardised dataset"
   ]
  },
  {
   "cell_type": "markdown",
   "metadata": {},
   "source": [
    "### Copy the standardised file to working directory"
   ]
  },
  {
   "cell_type": "code",
   "execution_count": 8,
   "metadata": {},
   "outputs": [
    {
     "data": {
      "text/plain": [
       "0"
      ]
     },
     "execution_count": 8,
     "metadata": {},
     "output_type": "execute_result"
    }
   ],
   "source": [
    "import os\n",
    "\n",
    "\n",
    "os.system(\n",
    "    '''cp ''' + dataDirName + '''data_matrix/data_matrix_standardised.csv ''' + dataDirName + '''data_matrix.csv;'''\n",
    ")"
   ]
  },
  {
   "cell_type": "markdown",
   "metadata": {},
   "source": [
    "### Perform prediction"
   ]
  },
  {
   "cell_type": "code",
   "execution_count": 9,
   "metadata": {},
   "outputs": [
    {
     "name": "stdout",
     "output_type": "stream",
     "text": [
      "2023-09-21 18:09:07,028 - Pipeline - INFO - dirName: standardised_icd_vb_24_va_72_lb_24_la_72\n",
      "2023-09-21 18:09:07,030 - Pipeline - INFO - Running Predictions for vb_24_va_72_lb_24_la_72, targetStart : 0, targetEnd : 7\n",
      "2023-09-21 18:09:07,031 - Pipeline - INFO - Reading data\n",
      "2023-09-21 18:09:07,580 - Pipeline - INFO - Formatting data\n",
      "2023-09-21 18:09:07,587 - Pipeline - INFO - Performing SFS\n",
      "2023-09-21 18:12:29,047 - Pipeline - INFO - Building XGBoost model with all the features\n",
      "2023-09-21 18:12:29,049 - Pipeline - INFO - Performing Hyperparameter optimisation\n",
      "2023-09-21 18:12:29,049 - Pipeline - INFO - Building the model\n",
      "2023-09-21 18:12:29,050 - Pipeline - INFO - Hyperparameter optimisation for: {'max_depth': range(1, 10), 'scale_pos_weight': [0.1, 0.15, 0.2, 0.25, 0.3, 0.35, 0.4]}\n",
      "2023-09-21 18:13:58,328 - Pipeline - INFO - Hyperparameter optimisation for: {'n_estimators': range(50, 250, 10)}\n",
      "2023-09-21 18:14:43,379 - Pipeline - INFO - Hyperparameter optimisation for: {'min_child_weight': range(1, 10)}\n",
      "2023-09-21 18:14:57,574 - Pipeline - INFO - Hyperparameter optimisation for: {'gamma': [0.0, 0.1, 0.2, 0.3, 0.4]}\n",
      "2023-09-21 18:15:06,978 - Pipeline - INFO - Hyperparameter optimisation for: {'subsample': [0.1, 0.2, 0.3, 0.4, 0.5, 0.6, 0.7, 0.8, 0.9], 'colsample_bytree': [0.1, 0.2, 0.3, 0.4, 0.5, 0.6, 0.7, 0.8, 0.9]}\n",
      "2023-09-21 18:16:48,841 - Pipeline - INFO - Hyperparameter optimisation for: {'reg_alpha': [0, 1e-05, 0.001, 0.1, 10]}\n",
      "2023-09-21 18:16:57,009 - Pipeline - INFO - params: {'max_depth': 2, 'scale_pos_weight': 0.4, 'n_estimators': 150, 'min_child_weight': 3, 'gamma': 0.4, 'colsample_bytree': 0.8, 'subsample': 0.9, 'reg_alpha': 10}\n",
      "2023-09-21 18:16:57,010 - Pipeline - INFO - Performing cross-validation\n",
      "2023-09-21 18:16:59,930 - Pipeline - INFO - Building XGBoost model with the selected features\n",
      "2023-09-21 18:16:59,931 - Pipeline - INFO - Performing Hyperparameter optimisation\n",
      "2023-09-21 18:16:59,932 - Pipeline - INFO - Building the model\n",
      "2023-09-21 18:16:59,932 - Pipeline - INFO - Hyperparameter optimisation for: {'max_depth': range(1, 10), 'scale_pos_weight': [0.1, 0.15, 0.2, 0.25, 0.3, 0.35, 0.4]}\n",
      "2023-09-21 18:17:45,104 - Pipeline - INFO - Hyperparameter optimisation for: {'n_estimators': range(50, 250, 10)}\n",
      "2023-09-21 18:18:09,821 - Pipeline - INFO - Hyperparameter optimisation for: {'min_child_weight': range(1, 10)}\n",
      "2023-09-21 18:18:17,195 - Pipeline - INFO - Hyperparameter optimisation for: {'gamma': [0.0, 0.1, 0.2, 0.3, 0.4]}\n",
      "2023-09-21 18:18:22,120 - Pipeline - INFO - Hyperparameter optimisation for: {'subsample': [0.1, 0.2, 0.3, 0.4, 0.5, 0.6, 0.7, 0.8, 0.9], 'colsample_bytree': [0.1, 0.2, 0.3, 0.4, 0.5, 0.6, 0.7, 0.8, 0.9]}\n",
      "2023-09-21 18:19:24,618 - Pipeline - INFO - Hyperparameter optimisation for: {'reg_alpha': [0, 1e-05, 0.001, 0.1, 10]}\n",
      "2023-09-21 18:19:28,634 - Pipeline - INFO - params: {'max_depth': 2, 'scale_pos_weight': 0.4, 'n_estimators': 110, 'min_child_weight': 1, 'gamma': 0.3, 'colsample_bytree': 0.7, 'subsample': 0.6, 'reg_alpha': 10}\n",
      "2023-09-21 18:19:28,636 - Pipeline - INFO - Performing cross-validation\n",
      "2023-09-21 18:19:30,239 - Pipeline - INFO - Building LR model with all the features\n",
      "2023-09-21 18:19:30,240 - Pipeline - INFO - Performing Hyperparameter optimisation\n",
      "2023-09-21 18:19:37,389 - Pipeline - INFO - Building the model\n",
      "2023-09-21 18:19:37,390 - Pipeline - INFO - Performing cross-validation\n",
      "2023-09-21 18:19:38,531 - Pipeline - INFO - Building LR model with the selected features\n",
      "2023-09-21 18:19:38,533 - Pipeline - INFO - Performing Hyperparameter optimisation\n",
      "2023-09-21 18:19:39,476 - Pipeline - INFO - Building the model\n",
      "2023-09-21 18:19:39,477 - Pipeline - INFO - Performing cross-validation\n",
      "2023-09-21 18:19:40,261 - Pipeline - INFO - Building LGBM model with all the features\n",
      "2023-09-21 18:19:40,262 - Pipeline - INFO - Performing Hyperparameter optimisation\n",
      "2023-09-21 18:19:56,693 - Pipeline - INFO - Building the model\n",
      "2023-09-21 18:19:56,695 - Pipeline - INFO - Performing cross-validation\n",
      "2023-09-21 18:19:59,073 - Pipeline - INFO - Building LGBM model with the selected features\n",
      "2023-09-21 18:19:59,074 - Pipeline - INFO - Performing Hyperparameter optimisation\n",
      "2023-09-21 18:20:09,490 - Pipeline - INFO - Building the model\n",
      "2023-09-21 18:20:09,492 - Pipeline - INFO - Performing cross-validation\n",
      "2023-09-21 18:20:11,820 - Pipeline - INFO - Building MLP model with all the features\n",
      "2023-09-21 18:20:11,821 - Pipeline - INFO - Building the model\n",
      "2023-09-21 18:20:15,270 - Pipeline - INFO - Performing cross-validation\n",
      "2023-09-21 18:20:43,733 - Pipeline - INFO - Building MLP model with the selected features\n",
      "2023-09-21 18:20:43,735 - Pipeline - INFO - Building the model\n",
      "2023-09-21 18:20:46,097 - Pipeline - INFO - Performing cross-validation\n",
      "2023-09-21 18:21:05,407 - Pipeline - INFO - Get Outputs from first level models\n",
      "2023-09-21 18:21:05,408 - Pipeline - INFO - Obtaining output probabilities\n",
      "2023-09-21 18:21:05,409 - Pipeline - INFO - Split data to test and train sets\n",
      "2023-09-21 18:21:05,417 - Pipeline - INFO - Performing Hyperparameter optimisation for XGBoost\n",
      "2023-09-21 18:21:05,418 - Pipeline - INFO - Hyperparameter optimisation for: {'max_depth': range(1, 10), 'scale_pos_weight': [0.1, 0.15, 0.2, 0.25, 0.3, 0.35, 0.4]}\n",
      "2023-09-21 18:21:41,190 - Pipeline - INFO - Hyperparameter optimisation for: {'n_estimators': range(50, 250, 10)}\n",
      "2023-09-21 18:22:01,079 - Pipeline - INFO - Hyperparameter optimisation for: {'min_child_weight': range(1, 10)}\n",
      "2023-09-21 18:22:06,866 - Pipeline - INFO - Hyperparameter optimisation for: {'gamma': [0.0, 0.1, 0.2, 0.3, 0.4]}\n",
      "2023-09-21 18:22:10,448 - Pipeline - INFO - Hyperparameter optimisation for: {'subsample': [0.1, 0.2, 0.3, 0.4, 0.5, 0.6, 0.7, 0.8, 0.9], 'colsample_bytree': [0.1, 0.2, 0.3, 0.4, 0.5, 0.6, 0.7, 0.8, 0.9]}\n",
      "2023-09-21 18:23:02,832 - Pipeline - INFO - Hyperparameter optimisation for: {'reg_alpha': [0, 1e-05, 0.001, 0.1, 10]}\n",
      "2023-09-21 18:23:06,095 - Pipeline - INFO - params: {'max_depth': 5, 'scale_pos_weight': 0.2, 'n_estimators': 50, 'min_child_weight': 9, 'gamma': 0.2, 'colsample_bytree': 0.1, 'subsample': 0.8, 'reg_alpha': 10}\n",
      "2023-09-21 18:23:06,097 - Pipeline - INFO - Performing Hyperparameter optimisation for Logistic Regression\n",
      "2023-09-21 18:23:06,648 - Pipeline - INFO - Building individual models\n",
      "2023-09-21 18:24:32,314 - Pipeline - INFO - Building Ensemble XGBoost model with all the features\n",
      "2023-09-21 18:24:32,315 - Pipeline - INFO - Performing Hyperparameter optimisation\n",
      "2023-09-21 18:24:32,316 - Pipeline - INFO - Building the model\n",
      "2023-09-21 18:24:32,317 - Pipeline - INFO - Hyperparameter optimisation for: {'max_depth': range(1, 10), 'scale_pos_weight': [0.1, 0.15, 0.2, 0.25, 0.3, 0.35, 0.4]}\n",
      "2023-09-21 18:25:12,219 - Pipeline - INFO - Hyperparameter optimisation for: {'n_estimators': range(50, 250, 10)}\n",
      "2023-09-21 18:25:31,789 - Pipeline - INFO - Hyperparameter optimisation for: {'min_child_weight': range(1, 10)}\n",
      "2023-09-21 18:25:37,983 - Pipeline - INFO - Hyperparameter optimisation for: {'gamma': [0.0, 0.1, 0.2, 0.3, 0.4]}\n",
      "2023-09-21 18:25:42,091 - Pipeline - INFO - Hyperparameter optimisation for: {'subsample': [0.1, 0.2, 0.3, 0.4, 0.5, 0.6, 0.7, 0.8, 0.9], 'colsample_bytree': [0.1, 0.2, 0.3, 0.4, 0.5, 0.6, 0.7, 0.8, 0.9]}\n",
      "2023-09-21 18:26:32,589 - Pipeline - INFO - Hyperparameter optimisation for: {'reg_alpha': [0, 1e-05, 0.001, 0.1, 10]}\n",
      "2023-09-21 18:26:36,359 - Pipeline - INFO - params: {'max_depth': 4, 'scale_pos_weight': 0.35, 'n_estimators': 90, 'min_child_weight': 1, 'gamma': 0.4, 'colsample_bytree': 0.9, 'subsample': 0.5, 'reg_alpha': 10}\n",
      "2023-09-21 18:26:36,360 - Pipeline - INFO - Performing cross-validation\n"
     ]
    },
    {
     "name": "stderr",
     "output_type": "stream",
     "text": [
      "R[write to console]: Error in ROCR::prediction(predictor, response) : \n",
      "  Number of classes is not equal to 2.\n",
      "ROCR currently supports only evaluation of binary classification tasks.\n",
      "\n",
      "R[write to console]: In addition: \n",
      "R[write to console]: There were 50 or more warnings (use warnings() to see the first 50)\n",
      "R[write to console]: \n",
      "\n",
      "R[write to console]: Error in ROCR::prediction(predictor, response) : \n",
      "  Number of classes is not equal to 2.\n",
      "ROCR currently supports only evaluation of binary classification tasks.\n",
      "\n",
      "R[write to console]: In addition: \n",
      "R[write to console]: Warning message:\n",
      "\n",
      "R[write to console]: In (function (package, help, pos = 2, lib.loc = NULL, character.only = FALSE,  :\n",
      "R[write to console]: \n",
      " \n",
      "R[write to console]:  libraries ‘/usr/local/lib/R/site-library’, ‘/usr/lib/R/site-library’ contain no packages\n",
      "\n",
      "R[write to console]: Error in ROCR::prediction(predictor, response) : \n",
      "  Number of classes is not equal to 2.\n",
      "ROCR currently supports only evaluation of binary classification tasks.\n",
      "\n",
      "R[write to console]: In addition: \n",
      "R[write to console]: Warning message:\n",
      "\n",
      "R[write to console]: In (function (package, help, pos = 2, lib.loc = NULL, character.only = FALSE,  :\n",
      "R[write to console]: \n",
      " \n",
      "R[write to console]:  libraries ‘/usr/local/lib/R/site-library’, ‘/usr/lib/R/site-library’ contain no packages\n",
      "\n",
      "R[write to console]: Error in ROCR::prediction(predictor, response) : \n",
      "  Number of classes is not equal to 2.\n",
      "ROCR currently supports only evaluation of binary classification tasks.\n",
      "\n",
      "R[write to console]: In addition: \n",
      "R[write to console]: Warning message:\n",
      "\n",
      "R[write to console]: In (function (package, help, pos = 2, lib.loc = NULL, character.only = FALSE,  :\n",
      "R[write to console]: \n",
      " \n",
      "R[write to console]:  libraries ‘/usr/local/lib/R/site-library’, ‘/usr/lib/R/site-library’ contain no packages\n",
      "\n",
      "R[write to console]: Error in ROCR::prediction(predictor, response) : \n",
      "  Number of classes is not equal to 2.\n",
      "ROCR currently supports only evaluation of binary classification tasks.\n",
      "\n",
      "R[write to console]: In addition: \n",
      "R[write to console]: Warning message:\n",
      "\n",
      "R[write to console]: In (function (package, help, pos = 2, lib.loc = NULL, character.only = FALSE,  :\n",
      "R[write to console]: \n",
      " \n",
      "R[write to console]:  libraries ‘/usr/local/lib/R/site-library’, ‘/usr/lib/R/site-library’ contain no packages\n",
      "\n"
     ]
    },
    {
     "name": "stdout",
     "output_type": "stream",
     "text": [
      "2023-09-21 18:26:37,891 - Pipeline - INFO - Building Ensemble LR model with all the features\n",
      "2023-09-21 18:26:37,891 - Pipeline - INFO - Performing Hyperparameter optimisation\n",
      "2023-09-21 18:26:38,700 - Pipeline - INFO - Building the model\n",
      "2023-09-21 18:26:38,701 - Pipeline - INFO - Performing cross-validation\n",
      "2023-09-21 18:26:39,531 - Pipeline - INFO - Saving the CV results for all the models\n",
      "2023-09-21 18:26:39,533 - Pipeline - INFO - Completed !!!\n"
     ]
    }
   ],
   "source": [
    "pm.runPredictionsForAllTargets(\n",
    "    label='standardised',\n",
    "    dirPath = dataDirName,\n",
    "    vitalsBefore = 0,\n",
    "    vitalsAfter = 24,\n",
    "    labsBefore = 0,\n",
    "    labsAfter = 24,\n",
    "    # targetList = [7, 14, 21, 30, 60, 90, 120, (7, 14), (14, 21), (21, 30), (30, 60), (60, 90), (90, 120)],\n",
    "    targetList = [7],\n",
    "    )"
   ]
  },
  {
   "cell_type": "markdown",
   "metadata": {},
   "source": [
    "### Remove the data matrix file from working directory"
   ]
  },
  {
   "cell_type": "code",
   "execution_count": 10,
   "metadata": {},
   "outputs": [
    {
     "data": {
      "text/plain": [
       "0"
      ]
     },
     "execution_count": 10,
     "metadata": {},
     "output_type": "execute_result"
    }
   ],
   "source": [
    "import os\n",
    "\n",
    "\n",
    "os.system(\n",
    "    '''rm ''' + dataDirName + '''data_matrix.csv'''\n",
    ")"
   ]
  },
  {
   "cell_type": "markdown",
   "metadata": {},
   "source": [
    "## Perform prediction on rescaled dataset"
   ]
  },
  {
   "cell_type": "markdown",
   "metadata": {},
   "source": [
    "### Copy the rescaled file to working directory"
   ]
  },
  {
   "cell_type": "code",
   "execution_count": 12,
   "metadata": {},
   "outputs": [
    {
     "data": {
      "text/plain": [
       "0"
      ]
     },
     "execution_count": 12,
     "metadata": {},
     "output_type": "execute_result"
    }
   ],
   "source": [
    "import os\n",
    "\n",
    "\n",
    "os.system(\n",
    "    '''cp ''' + dataDirName + '''data_matrix/data_matrix_rescaled.csv ''' + dataDirName + '''data_matrix.csv;'''\n",
    ")"
   ]
  },
  {
   "cell_type": "markdown",
   "metadata": {},
   "source": [
    "### Perform prediction"
   ]
  },
  {
   "cell_type": "code",
   "execution_count": 13,
   "metadata": {},
   "outputs": [
    {
     "name": "stdout",
     "output_type": "stream",
     "text": [
      "2023-09-21 18:32:56,531 - Pipeline - INFO - dirName: rescaled_icd_vb_0_va_24_lb_0_la_24\n",
      "2023-09-21 18:32:56,532 - Pipeline - INFO - Running Predictions for vb_0_va_24_lb_0_la_24, targetStart : 0, targetEnd : 7\n",
      "2023-09-21 18:32:56,533 - Pipeline - INFO - Reading data\n",
      "2023-09-21 18:32:57,037 - Pipeline - INFO - Formatting data\n",
      "2023-09-21 18:32:57,044 - Pipeline - INFO - Performing SFS\n",
      "2023-09-21 18:36:13,176 - Pipeline - INFO - Building XGBoost model with all the features\n",
      "2023-09-21 18:36:13,178 - Pipeline - INFO - Performing Hyperparameter optimisation\n",
      "2023-09-21 18:36:13,178 - Pipeline - INFO - Building the model\n",
      "2023-09-21 18:36:13,179 - Pipeline - INFO - Hyperparameter optimisation for: {'max_depth': range(1, 10), 'scale_pos_weight': [0.1, 0.15, 0.2, 0.25, 0.3, 0.35, 0.4]}\n",
      "2023-09-21 18:37:44,723 - Pipeline - INFO - Hyperparameter optimisation for: {'n_estimators': range(50, 250, 10)}\n",
      "2023-09-21 18:38:30,358 - Pipeline - INFO - Hyperparameter optimisation for: {'min_child_weight': range(1, 10)}\n",
      "2023-09-21 18:38:44,886 - Pipeline - INFO - Hyperparameter optimisation for: {'gamma': [0.0, 0.1, 0.2, 0.3, 0.4]}\n",
      "2023-09-21 18:38:54,415 - Pipeline - INFO - Hyperparameter optimisation for: {'subsample': [0.1, 0.2, 0.3, 0.4, 0.5, 0.6, 0.7, 0.8, 0.9], 'colsample_bytree': [0.1, 0.2, 0.3, 0.4, 0.5, 0.6, 0.7, 0.8, 0.9]}\n",
      "2023-09-21 18:40:39,664 - Pipeline - INFO - Hyperparameter optimisation for: {'reg_alpha': [0, 1e-05, 0.001, 0.1, 10]}\n",
      "2023-09-21 18:40:47,987 - Pipeline - INFO - params: {'max_depth': 2, 'scale_pos_weight': 0.4, 'n_estimators': 190, 'min_child_weight': 5, 'gamma': 0.4, 'colsample_bytree': 0.9, 'subsample': 0.8, 'reg_alpha': 10}\n",
      "2023-09-21 18:40:47,988 - Pipeline - INFO - Performing cross-validation\n",
      "2023-09-21 18:40:51,472 - Pipeline - INFO - Building XGBoost model with the selected features\n",
      "2023-09-21 18:40:51,474 - Pipeline - INFO - Performing Hyperparameter optimisation\n",
      "2023-09-21 18:40:51,475 - Pipeline - INFO - Building the model\n",
      "2023-09-21 18:40:51,475 - Pipeline - INFO - Hyperparameter optimisation for: {'max_depth': range(1, 10), 'scale_pos_weight': [0.1, 0.15, 0.2, 0.25, 0.3, 0.35, 0.4]}\n",
      "2023-09-21 18:41:37,273 - Pipeline - INFO - Hyperparameter optimisation for: {'n_estimators': range(50, 250, 10)}\n",
      "2023-09-21 18:42:02,287 - Pipeline - INFO - Hyperparameter optimisation for: {'min_child_weight': range(1, 10)}\n",
      "2023-09-21 18:42:09,858 - Pipeline - INFO - Hyperparameter optimisation for: {'gamma': [0.0, 0.1, 0.2, 0.3, 0.4]}\n",
      "2023-09-21 18:42:14,863 - Pipeline - INFO - Hyperparameter optimisation for: {'subsample': [0.1, 0.2, 0.3, 0.4, 0.5, 0.6, 0.7, 0.8, 0.9], 'colsample_bytree': [0.1, 0.2, 0.3, 0.4, 0.5, 0.6, 0.7, 0.8, 0.9]}\n",
      "2023-09-21 18:43:20,422 - Pipeline - INFO - Hyperparameter optimisation for: {'reg_alpha': [0, 1e-05, 0.001, 0.1, 10]}\n",
      "2023-09-21 18:43:24,730 - Pipeline - INFO - params: {'max_depth': 9, 'scale_pos_weight': 0.35, 'n_estimators': 100, 'min_child_weight': 4, 'gamma': 0.2, 'colsample_bytree': 0.4, 'subsample': 0.9, 'reg_alpha': 10}\n",
      "2023-09-21 18:43:24,731 - Pipeline - INFO - Performing cross-validation\n",
      "2023-09-21 18:43:26,427 - Pipeline - INFO - Building LR model with all the features\n",
      "2023-09-21 18:43:26,429 - Pipeline - INFO - Performing Hyperparameter optimisation\n",
      "2023-09-21 18:43:29,748 - Pipeline - INFO - Building the model\n",
      "2023-09-21 18:43:29,750 - Pipeline - INFO - Performing cross-validation\n",
      "2023-09-21 18:43:31,187 - Pipeline - INFO - Building LR model with the selected features\n",
      "2023-09-21 18:43:31,188 - Pipeline - INFO - Performing Hyperparameter optimisation\n",
      "2023-09-21 18:43:32,012 - Pipeline - INFO - Building the model\n",
      "2023-09-21 18:43:32,014 - Pipeline - INFO - Performing cross-validation\n",
      "2023-09-21 18:43:32,978 - Pipeline - INFO - Building LGBM model with all the features\n",
      "2023-09-21 18:43:32,979 - Pipeline - INFO - Performing Hyperparameter optimisation\n",
      "2023-09-21 18:43:52,134 - Pipeline - INFO - Building the model\n",
      "2023-09-21 18:43:52,135 - Pipeline - INFO - Performing cross-validation\n",
      "2023-09-21 18:43:56,032 - Pipeline - INFO - Building LGBM model with the selected features\n",
      "2023-09-21 18:43:56,033 - Pipeline - INFO - Performing Hyperparameter optimisation\n",
      "2023-09-21 18:44:08,783 - Pipeline - INFO - Building the model\n",
      "2023-09-21 18:44:08,785 - Pipeline - INFO - Performing cross-validation\n",
      "2023-09-21 18:44:11,311 - Pipeline - INFO - Building MLP model with all the features\n",
      "2023-09-21 18:44:11,312 - Pipeline - INFO - Building the model\n",
      "2023-09-21 18:44:23,981 - Pipeline - INFO - Performing cross-validation\n",
      "2023-09-21 18:45:51,684 - Pipeline - INFO - Building MLP model with the selected features\n",
      "2023-09-21 18:45:51,686 - Pipeline - INFO - Building the model\n",
      "2023-09-21 18:45:53,749 - Pipeline - INFO - Performing cross-validation\n",
      "2023-09-21 18:46:10,272 - Pipeline - INFO - Get Outputs from first level models\n",
      "2023-09-21 18:46:10,274 - Pipeline - INFO - Obtaining output probabilities\n",
      "2023-09-21 18:46:10,274 - Pipeline - INFO - Split data to test and train sets\n",
      "2023-09-21 18:46:10,282 - Pipeline - INFO - Performing Hyperparameter optimisation for XGBoost\n",
      "2023-09-21 18:46:10,283 - Pipeline - INFO - Hyperparameter optimisation for: {'max_depth': range(1, 10), 'scale_pos_weight': [0.1, 0.15, 0.2, 0.25, 0.3, 0.35, 0.4]}\n",
      "2023-09-21 18:46:46,564 - Pipeline - INFO - Hyperparameter optimisation for: {'n_estimators': range(50, 250, 10)}\n",
      "2023-09-21 18:47:06,760 - Pipeline - INFO - Hyperparameter optimisation for: {'min_child_weight': range(1, 10)}\n",
      "2023-09-21 18:47:12,966 - Pipeline - INFO - Hyperparameter optimisation for: {'gamma': [0.0, 0.1, 0.2, 0.3, 0.4]}\n",
      "2023-09-21 18:47:16,628 - Pipeline - INFO - Hyperparameter optimisation for: {'subsample': [0.1, 0.2, 0.3, 0.4, 0.5, 0.6, 0.7, 0.8, 0.9], 'colsample_bytree': [0.1, 0.2, 0.3, 0.4, 0.5, 0.6, 0.7, 0.8, 0.9]}\n",
      "2023-09-21 18:48:09,434 - Pipeline - INFO - Hyperparameter optimisation for: {'reg_alpha': [0, 1e-05, 0.001, 0.1, 10]}\n",
      "2023-09-21 18:48:12,588 - Pipeline - INFO - params: {'max_depth': 5, 'scale_pos_weight': 0.2, 'n_estimators': 50, 'min_child_weight': 9, 'gamma': 0.2, 'colsample_bytree': 0.1, 'subsample': 0.8, 'reg_alpha': 10}\n",
      "2023-09-21 18:48:12,590 - Pipeline - INFO - Performing Hyperparameter optimisation for Logistic Regression\n",
      "2023-09-21 18:48:13,111 - Pipeline - INFO - Building individual models\n",
      "2023-09-21 18:49:21,754 - Pipeline - INFO - Building Ensemble XGBoost model with all the features\n",
      "2023-09-21 18:49:21,756 - Pipeline - INFO - Performing Hyperparameter optimisation\n",
      "2023-09-21 18:49:21,757 - Pipeline - INFO - Building the model\n",
      "2023-09-21 18:49:21,757 - Pipeline - INFO - Hyperparameter optimisation for: {'max_depth': range(1, 10), 'scale_pos_weight': [0.1, 0.15, 0.2, 0.25, 0.3, 0.35, 0.4]}\n",
      "2023-09-21 18:50:01,745 - Pipeline - INFO - Hyperparameter optimisation for: {'n_estimators': range(50, 250, 10)}\n",
      "2023-09-21 18:50:21,430 - Pipeline - INFO - Hyperparameter optimisation for: {'min_child_weight': range(1, 10)}\n",
      "2023-09-21 18:50:27,304 - Pipeline - INFO - Hyperparameter optimisation for: {'gamma': [0.0, 0.1, 0.2, 0.3, 0.4]}\n",
      "2023-09-21 18:50:31,583 - Pipeline - INFO - Hyperparameter optimisation for: {'subsample': [0.1, 0.2, 0.3, 0.4, 0.5, 0.6, 0.7, 0.8, 0.9], 'colsample_bytree': [0.1, 0.2, 0.3, 0.4, 0.5, 0.6, 0.7, 0.8, 0.9]}\n",
      "2023-09-21 18:51:22,587 - Pipeline - INFO - Hyperparameter optimisation for: {'reg_alpha': [0, 1e-05, 0.001, 0.1, 10]}\n",
      "2023-09-21 18:51:26,298 - Pipeline - INFO - params: {'max_depth': 3, 'scale_pos_weight': 0.15, 'n_estimators': 120, 'min_child_weight': 1, 'gamma': 0.2, 'colsample_bytree': 0.1, 'subsample': 0.9, 'reg_alpha': 10}\n",
      "2023-09-21 18:51:26,301 - Pipeline - INFO - Performing cross-validation\n",
      "2023-09-21 18:51:28,095 - Pipeline - INFO - Building Ensemble LR model with all the features\n",
      "2023-09-21 18:51:28,096 - Pipeline - INFO - Performing Hyperparameter optimisation\n",
      "2023-09-21 18:51:28,933 - Pipeline - INFO - Building the model\n",
      "2023-09-21 18:51:28,934 - Pipeline - INFO - Performing cross-validation\n",
      "2023-09-21 18:51:29,896 - Pipeline - INFO - Saving the CV results for all the models\n",
      "2023-09-21 18:51:29,900 - Pipeline - INFO - Completed !!!\n"
     ]
    },
    {
     "name": "stderr",
     "output_type": "stream",
     "text": [
      "R[write to console]: Error in ROCR::prediction(predictor, response) : \n",
      "  Number of classes is not equal to 2.\n",
      "ROCR currently supports only evaluation of binary classification tasks.\n",
      "\n",
      "R[write to console]: In addition: \n",
      "R[write to console]: There were 46 warnings (use warnings() to see them)\n",
      "R[write to console]: \n",
      "\n",
      "R[write to console]: Error in ROCR::prediction(predictor, response) : \n",
      "  Number of classes is not equal to 2.\n",
      "ROCR currently supports only evaluation of binary classification tasks.\n",
      "\n",
      "R[write to console]: In addition: \n",
      "R[write to console]: Warning message:\n",
      "\n",
      "R[write to console]: In (function (package, help, pos = 2, lib.loc = NULL, character.only = FALSE,  :\n",
      "R[write to console]: \n",
      " \n",
      "R[write to console]:  libraries ‘/usr/local/lib/R/site-library’, ‘/usr/lib/R/site-library’ contain no packages\n",
      "\n",
      "R[write to console]: Error in ROCR::prediction(predictor, response) : \n",
      "  Number of classes is not equal to 2.\n",
      "ROCR currently supports only evaluation of binary classification tasks.\n",
      "\n",
      "R[write to console]: In addition: \n",
      "R[write to console]: Warning message:\n",
      "\n",
      "R[write to console]: In (function (package, help, pos = 2, lib.loc = NULL, character.only = FALSE,  :\n",
      "R[write to console]: \n",
      " \n",
      "R[write to console]:  libraries ‘/usr/local/lib/R/site-library’, ‘/usr/lib/R/site-library’ contain no packages\n",
      "\n",
      "R[write to console]: Error in ROCR::prediction(predictor, response) : \n",
      "  Number of classes is not equal to 2.\n",
      "ROCR currently supports only evaluation of binary classification tasks.\n",
      "\n",
      "R[write to console]: In addition: \n",
      "R[write to console]: Warning message:\n",
      "\n",
      "R[write to console]: In (function (package, help, pos = 2, lib.loc = NULL, character.only = FALSE,  :\n",
      "R[write to console]: \n",
      " \n",
      "R[write to console]:  libraries ‘/usr/local/lib/R/site-library’, ‘/usr/lib/R/site-library’ contain no packages\n",
      "\n",
      "R[write to console]: Error in ROCR::prediction(predictor, response) : \n",
      "  Number of classes is not equal to 2.\n",
      "ROCR currently supports only evaluation of binary classification tasks.\n",
      "\n",
      "R[write to console]: In addition: \n",
      "R[write to console]: Warning message:\n",
      "\n",
      "R[write to console]: In (function (package, help, pos = 2, lib.loc = NULL, character.only = FALSE,  :\n",
      "R[write to console]: \n",
      " \n",
      "R[write to console]:  libraries ‘/usr/local/lib/R/site-library’, ‘/usr/lib/R/site-library’ contain no packages\n",
      "\n"
     ]
    }
   ],
   "source": [
    "pm.runPredictionsForAllTargets(\n",
    "    label='rescaled',\n",
    "    dirPath = dataDirName,\n",
    "    vitalsBefore = 0,\n",
    "    vitalsAfter = 24,\n",
    "    labsBefore = 0,\n",
    "    labsAfter = 24,\n",
    "    # targetList = [7, 14, 21, 30, 60, 90, 120, (7, 14), (14, 21), (21, 30), (30, 60), (60, 90), (90, 120)],\n",
    "    targetList = [7],\n",
    "    )"
   ]
  },
  {
   "cell_type": "markdown",
   "metadata": {},
   "source": [
    "### Remove the data matrix file from working directory"
   ]
  },
  {
   "cell_type": "code",
   "execution_count": 14,
   "metadata": {},
   "outputs": [
    {
     "data": {
      "text/plain": [
       "0"
      ]
     },
     "execution_count": 14,
     "metadata": {},
     "output_type": "execute_result"
    }
   ],
   "source": [
    "import os\n",
    "\n",
    "\n",
    "os.system(\n",
    "    '''rm ''' + dataDirName + '''data_matrix.csv'''\n",
    ")"
   ]
  }
 ],
 "metadata": {
  "kernelspec": {
   "display_name": ".venv",
   "language": "python",
   "name": "python3"
  },
  "language_info": {
   "codemirror_mode": {
    "name": "ipython",
    "version": 3
   },
   "file_extension": ".py",
   "mimetype": "text/x-python",
   "name": "python",
   "nbconvert_exporter": "python",
   "pygments_lexer": "ipython3",
   "version": "3.9.5"
  },
  "orig_nbformat": 4
 },
 "nbformat": 4,
 "nbformat_minor": 2
}
