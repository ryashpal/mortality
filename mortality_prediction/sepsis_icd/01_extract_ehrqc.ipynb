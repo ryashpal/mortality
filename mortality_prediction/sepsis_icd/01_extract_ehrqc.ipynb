{
 "cells": [
  {
   "cell_type": "markdown",
   "metadata": {},
   "source": [
    "# Extract data using EHR-QC"
   ]
  },
  {
   "cell_type": "markdown",
   "metadata": {},
   "source": [
    "## Create a cohort"
   ]
  },
  {
   "cell_type": "code",
   "execution_count": 1,
   "metadata": {},
   "outputs": [
    {
     "name": "stdout",
     "output_type": "stream",
     "text": [
      "2023-09-13 10:55:17,960 - EHRQC - INFO - Parsing command line arguments\n",
      "2023-09-13 10:55:17,961 - EHRQC - INFO - args.save_path: data/icd_cohort_test/cohort_icd.csv\n",
      "2023-09-13 10:55:17,961 - EHRQC - INFO - args.schema_name: omop_cdm\n",
      "2023-09-13 10:55:17,961 - EHRQC - INFO - args.cohort_type: icd\n",
      "2023-09-13 10:55:19,227 - EHRQC - INFO - extracting data\n"
     ]
    },
    {
     "name": "stderr",
     "output_type": "stream",
     "text": [
      "/superbugai-data/yash/chapter_1/workspace/EHRQC/.venv/lib/python3.9/site-packages/pandas/io/sql.py:761: UserWarning: pandas only support SQLAlchemy connectable(engine/connection) ordatabase string URI or sqlite3 DBAPI2 connectionother DBAPI2 objects are not tested, please consider using SQLAlchemy\n",
      "  warnings.warn(\n"
     ]
    },
    {
     "name": "stdout",
     "output_type": "stream",
     "text": [
      "2023-09-13 10:55:22,078 - EHRQC - INFO - Saving raw data to file\n"
     ]
    },
    {
     "data": {
      "text/plain": [
       "0"
      ]
     },
     "execution_count": 1,
     "metadata": {},
     "output_type": "execute_result"
    }
   ],
   "source": [
    "import os\n",
    "\n",
    "os.system(\n",
    "    '''cd /superbugai-data/yash/chapter_1/workspace/EHRQC;'''\n",
    "    +\n",
    "    '''.venv/bin/python -m ehrqc.extract.ExtractCohort \"data/icd_cohort_test/cohort_icd.csv\" \"omop_cdm\" \"icd\"'''\n",
    "    )\n"
   ]
  },
  {
   "cell_type": "markdown",
   "metadata": {},
   "source": [
    "## Extract Demographics"
   ]
  },
  {
   "cell_type": "code",
   "execution_count": 2,
   "metadata": {},
   "outputs": [
    {
     "name": "stdout",
     "output_type": "stream",
     "text": [
      "2023-09-13 10:55:42,489 - EHRQC - INFO - Parsing command line arguments\n",
      "2023-09-13 10:55:42,491 - EHRQC - INFO - args.save_path: data/icd_cohort_test/demographics_icd.csv\n",
      "2023-09-13 10:55:42,491 - EHRQC - INFO - args.cohort_path: data/icd_cohort_test/cohort_icd.csv\n",
      "2023-09-13 10:55:42,491 - EHRQC - INFO - args.schema_name: omop_cdm\n",
      "2023-09-13 10:55:42,491 - EHRQC - INFO - args.data_type: demographics\n",
      "2023-09-13 10:55:42,491 - EHRQC - INFO - args.agg_function: min\n",
      "2023-09-13 10:55:42,491 - EHRQC - INFO - args.before: 24\n",
      "2023-09-13 10:55:42,491 - EHRQC - INFO - args.after: 24\n",
      "2023-09-13 10:55:42,516 - EHRQC - INFO - Creating table: omop_cdm.COHORT\n",
      "2023-09-13 10:55:42,526 - EHRQC - INFO - Table: omop_cdm.COHORT created successfully!!\n",
      "2023-09-13 10:55:42,526 - EHRQC - INFO - Saving cohort to table: omop_cdm.COHORT\n",
      "2023-09-13 10:55:42,792 - EHRQC - INFO - Cohort data saved successfully!!\n",
      "2023-09-13 10:55:42,793 - EHRQC - INFO - extracting data\n"
     ]
    },
    {
     "name": "stderr",
     "output_type": "stream",
     "text": [
      "/superbugai-data/yash/chapter_1/workspace/EHRQC/.venv/lib/python3.9/site-packages/pandas/io/sql.py:761: UserWarning: pandas only support SQLAlchemy connectable(engine/connection) ordatabase string URI or sqlite3 DBAPI2 connectionother DBAPI2 objects are not tested, please consider using SQLAlchemy\n",
      "  warnings.warn(\n"
     ]
    },
    {
     "name": "stdout",
     "output_type": "stream",
     "text": [
      "2023-09-13 10:55:43,913 - EHRQC - INFO - Saving raw data to file\n"
     ]
    },
    {
     "data": {
      "text/plain": [
       "0"
      ]
     },
     "execution_count": 2,
     "metadata": {},
     "output_type": "execute_result"
    }
   ],
   "source": [
    "import os\n",
    "\n",
    "os.system(\n",
    "    '''cd /superbugai-data/yash/chapter_1/workspace/EHRQC;'''\n",
    "    +\n",
    "    '''.venv/bin/python -m ehrqc.extract.ExtractCohortData \"data/icd_cohort_test/demographics_icd.csv\" \"data/icd_cohort_test/cohort_icd.csv\" \"omop_cdm\" \"demographics\" \"min\"'''\n",
    "    )"
   ]
  },
  {
   "cell_type": "markdown",
   "metadata": {},
   "source": [
    "## Extract Vitals"
   ]
  },
  {
   "cell_type": "markdown",
   "metadata": {},
   "source": [
    "### Extract minimum values"
   ]
  },
  {
   "cell_type": "code",
   "execution_count": 3,
   "metadata": {},
   "outputs": [
    {
     "name": "stdout",
     "output_type": "stream",
     "text": [
      "2023-09-13 10:55:55,523 - EHRQC - INFO - Parsing command line arguments\n",
      "2023-09-13 10:55:55,524 - EHRQC - INFO - args.save_path: data/icd_cohort_test/vitals_min_icd.csv\n",
      "2023-09-13 10:55:55,524 - EHRQC - INFO - args.cohort_path: data/icd_cohort_test/cohort_icd.csv\n",
      "2023-09-13 10:55:55,524 - EHRQC - INFO - args.schema_name: omop_cdm\n",
      "2023-09-13 10:55:55,524 - EHRQC - INFO - args.data_type: vitals\n",
      "2023-09-13 10:55:55,524 - EHRQC - INFO - args.agg_function: min\n",
      "2023-09-13 10:55:55,524 - EHRQC - INFO - args.before: 24\n",
      "2023-09-13 10:55:55,524 - EHRQC - INFO - args.after: 72\n",
      "2023-09-13 10:55:55,546 - EHRQC - INFO - Creating table: omop_cdm.COHORT\n",
      "2023-09-13 10:55:55,551 - EHRQC - INFO - Table: omop_cdm.COHORT created successfully!!\n",
      "2023-09-13 10:55:55,551 - EHRQC - INFO - Saving cohort to table: omop_cdm.COHORT\n",
      "2023-09-13 10:55:55,820 - EHRQC - INFO - Cohort data saved successfully!!\n",
      "2023-09-13 10:55:55,820 - EHRQC - INFO - extracting data\n"
     ]
    },
    {
     "name": "stderr",
     "output_type": "stream",
     "text": [
      "/superbugai-data/yash/chapter_1/workspace/EHRQC/.venv/lib/python3.9/site-packages/pandas/io/sql.py:761: UserWarning: pandas only support SQLAlchemy connectable(engine/connection) ordatabase string URI or sqlite3 DBAPI2 connectionother DBAPI2 objects are not tested, please consider using SQLAlchemy\n",
      "  warnings.warn(\n"
     ]
    },
    {
     "name": "stdout",
     "output_type": "stream",
     "text": [
      "2023-09-13 10:58:08,232 - EHRQC - INFO - Saving raw data to file\n"
     ]
    },
    {
     "data": {
      "text/plain": [
       "0"
      ]
     },
     "execution_count": 3,
     "metadata": {},
     "output_type": "execute_result"
    }
   ],
   "source": [
    "import os\n",
    "\n",
    "os.system(\n",
    "    '''cd /superbugai-data/yash/chapter_1/workspace/EHRQC;'''\n",
    "    +\n",
    "    '''.venv/bin/python -m ehrqc.extract.ExtractCohortData \"data/icd_cohort_test/vitals_min_icd.csv\" \"data/icd_cohort_test/cohort_icd.csv\" \"omop_cdm\" \"vitals\" \"min\" -b=24 -a=72'''\n",
    "    )"
   ]
  },
  {
   "cell_type": "markdown",
   "metadata": {},
   "source": [
    "### Extract maximum values"
   ]
  },
  {
   "cell_type": "code",
   "execution_count": 4,
   "metadata": {},
   "outputs": [
    {
     "name": "stdout",
     "output_type": "stream",
     "text": [
      "2023-09-13 10:58:29,337 - EHRQC - INFO - Parsing command line arguments\n",
      "2023-09-13 10:58:29,338 - EHRQC - INFO - args.save_path: data/icd_cohort_test/vitals_max_icd.csv\n",
      "2023-09-13 10:58:29,338 - EHRQC - INFO - args.cohort_path: data/icd_cohort_test/cohort_icd.csv\n",
      "2023-09-13 10:58:29,338 - EHRQC - INFO - args.schema_name: omop_cdm\n",
      "2023-09-13 10:58:29,338 - EHRQC - INFO - args.data_type: vitals\n",
      "2023-09-13 10:58:29,339 - EHRQC - INFO - args.agg_function: max\n",
      "2023-09-13 10:58:29,339 - EHRQC - INFO - args.before: 24\n",
      "2023-09-13 10:58:29,339 - EHRQC - INFO - args.after: 72\n",
      "2023-09-13 10:58:29,363 - EHRQC - INFO - Creating table: omop_cdm.COHORT\n",
      "2023-09-13 10:58:29,370 - EHRQC - INFO - Table: omop_cdm.COHORT created successfully!!\n",
      "2023-09-13 10:58:29,371 - EHRQC - INFO - Saving cohort to table: omop_cdm.COHORT\n",
      "2023-09-13 10:58:29,643 - EHRQC - INFO - Cohort data saved successfully!!\n",
      "2023-09-13 10:58:29,643 - EHRQC - INFO - extracting data\n"
     ]
    },
    {
     "name": "stderr",
     "output_type": "stream",
     "text": [
      "/superbugai-data/yash/chapter_1/workspace/EHRQC/.venv/lib/python3.9/site-packages/pandas/io/sql.py:761: UserWarning: pandas only support SQLAlchemy connectable(engine/connection) ordatabase string URI or sqlite3 DBAPI2 connectionother DBAPI2 objects are not tested, please consider using SQLAlchemy\n",
      "  warnings.warn(\n"
     ]
    },
    {
     "name": "stdout",
     "output_type": "stream",
     "text": [
      "2023-09-13 11:00:29,468 - EHRQC - INFO - Saving raw data to file\n"
     ]
    },
    {
     "data": {
      "text/plain": [
       "0"
      ]
     },
     "execution_count": 4,
     "metadata": {},
     "output_type": "execute_result"
    }
   ],
   "source": [
    "import os\n",
    "\n",
    "os.system(\n",
    "    '''cd /superbugai-data/yash/chapter_1/workspace/EHRQC;'''\n",
    "    +\n",
    "    '''.venv/bin/python -m ehrqc.extract.ExtractCohortData \"data/icd_cohort_test/vitals_max_icd.csv\" \"data/icd_cohort_test/cohort_icd.csv\" \"omop_cdm\" \"vitals\" \"max\" -b=24 -a=72'''\n",
    "    )"
   ]
  },
  {
   "cell_type": "markdown",
   "metadata": {},
   "source": [
    "### Extract average values"
   ]
  },
  {
   "cell_type": "code",
   "execution_count": 5,
   "metadata": {},
   "outputs": [
    {
     "name": "stdout",
     "output_type": "stream",
     "text": [
      "2023-09-13 11:00:31,470 - EHRQC - INFO - Parsing command line arguments\n",
      "2023-09-13 11:00:31,471 - EHRQC - INFO - args.save_path: data/icd_cohort_test/vitals_avg_icd.csv\n",
      "2023-09-13 11:00:31,471 - EHRQC - INFO - args.cohort_path: data/icd_cohort_test/cohort_icd.csv\n",
      "2023-09-13 11:00:31,471 - EHRQC - INFO - args.schema_name: omop_cdm\n",
      "2023-09-13 11:00:31,472 - EHRQC - INFO - args.data_type: vitals\n",
      "2023-09-13 11:00:31,472 - EHRQC - INFO - args.agg_function: avg\n",
      "2023-09-13 11:00:31,472 - EHRQC - INFO - args.before: 24\n",
      "2023-09-13 11:00:31,472 - EHRQC - INFO - args.after: 72\n",
      "2023-09-13 11:00:31,493 - EHRQC - INFO - Creating table: omop_cdm.COHORT\n",
      "2023-09-13 11:00:31,499 - EHRQC - INFO - Table: omop_cdm.COHORT created successfully!!\n",
      "2023-09-13 11:00:31,500 - EHRQC - INFO - Saving cohort to table: omop_cdm.COHORT\n",
      "2023-09-13 11:00:31,765 - EHRQC - INFO - Cohort data saved successfully!!\n",
      "2023-09-13 11:00:31,765 - EHRQC - INFO - extracting data\n"
     ]
    },
    {
     "name": "stderr",
     "output_type": "stream",
     "text": [
      "/superbugai-data/yash/chapter_1/workspace/EHRQC/.venv/lib/python3.9/site-packages/pandas/io/sql.py:761: UserWarning: pandas only support SQLAlchemy connectable(engine/connection) ordatabase string URI or sqlite3 DBAPI2 connectionother DBAPI2 objects are not tested, please consider using SQLAlchemy\n",
      "  warnings.warn(\n"
     ]
    },
    {
     "name": "stdout",
     "output_type": "stream",
     "text": [
      "2023-09-13 11:02:30,685 - EHRQC - INFO - Saving raw data to file\n"
     ]
    },
    {
     "data": {
      "text/plain": [
       "0"
      ]
     },
     "execution_count": 5,
     "metadata": {},
     "output_type": "execute_result"
    }
   ],
   "source": [
    "import os\n",
    "\n",
    "os.system(\n",
    "    '''cd /superbugai-data/yash/chapter_1/workspace/EHRQC;'''\n",
    "    +\n",
    "    '''.venv/bin/python -m ehrqc.extract.ExtractCohortData \"data/icd_cohort_test/vitals_avg_icd.csv\" \"data/icd_cohort_test/cohort_icd.csv\" \"omop_cdm\" \"vitals\" \"avg\" -b=24 -a=72'''\n",
    "    )"
   ]
  },
  {
   "cell_type": "markdown",
   "metadata": {},
   "source": [
    "### Extract standard deviation values"
   ]
  },
  {
   "cell_type": "code",
   "execution_count": 6,
   "metadata": {},
   "outputs": [
    {
     "name": "stdout",
     "output_type": "stream",
     "text": [
      "2023-09-13 11:02:32,651 - EHRQC - INFO - Parsing command line arguments\n",
      "2023-09-13 11:02:32,652 - EHRQC - INFO - args.save_path: data/icd_cohort_test/vitals_stddev_icd.csv\n",
      "2023-09-13 11:02:32,652 - EHRQC - INFO - args.cohort_path: data/icd_cohort_test/cohort_icd.csv\n",
      "2023-09-13 11:02:32,652 - EHRQC - INFO - args.schema_name: omop_cdm\n",
      "2023-09-13 11:02:32,652 - EHRQC - INFO - args.data_type: vitals\n",
      "2023-09-13 11:02:32,652 - EHRQC - INFO - args.agg_function: stddev\n",
      "2023-09-13 11:02:32,652 - EHRQC - INFO - args.before: 24\n",
      "2023-09-13 11:02:32,652 - EHRQC - INFO - args.after: 72\n",
      "2023-09-13 11:02:32,672 - EHRQC - INFO - Creating table: omop_cdm.COHORT\n",
      "2023-09-13 11:02:32,677 - EHRQC - INFO - Table: omop_cdm.COHORT created successfully!!\n",
      "2023-09-13 11:02:32,678 - EHRQC - INFO - Saving cohort to table: omop_cdm.COHORT\n",
      "2023-09-13 11:02:32,915 - EHRQC - INFO - Cohort data saved successfully!!\n",
      "2023-09-13 11:02:32,915 - EHRQC - INFO - extracting data\n"
     ]
    },
    {
     "name": "stderr",
     "output_type": "stream",
     "text": [
      "/superbugai-data/yash/chapter_1/workspace/EHRQC/.venv/lib/python3.9/site-packages/pandas/io/sql.py:761: UserWarning: pandas only support SQLAlchemy connectable(engine/connection) ordatabase string URI or sqlite3 DBAPI2 connectionother DBAPI2 objects are not tested, please consider using SQLAlchemy\n",
      "  warnings.warn(\n"
     ]
    },
    {
     "name": "stdout",
     "output_type": "stream",
     "text": [
      "2023-09-13 11:04:31,200 - EHRQC - INFO - Saving raw data to file\n"
     ]
    },
    {
     "data": {
      "text/plain": [
       "0"
      ]
     },
     "execution_count": 6,
     "metadata": {},
     "output_type": "execute_result"
    }
   ],
   "source": [
    "import os\n",
    "\n",
    "os.system(\n",
    "    '''cd /superbugai-data/yash/chapter_1/workspace/EHRQC;'''\n",
    "    +\n",
    "    '''.venv/bin/python -m ehrqc.extract.ExtractCohortData \"data/icd_cohort_test/vitals_stddev_icd.csv\" \"data/icd_cohort_test/cohort_icd.csv\" \"omop_cdm\" \"vitals\" \"stddev\" -b=24 -a=72'''\n",
    "    )"
   ]
  },
  {
   "cell_type": "markdown",
   "metadata": {},
   "source": [
    "### Extract first values"
   ]
  },
  {
   "cell_type": "code",
   "execution_count": 7,
   "metadata": {},
   "outputs": [
    {
     "name": "stdout",
     "output_type": "stream",
     "text": [
      "2023-09-13 11:04:33,090 - EHRQC - INFO - Parsing command line arguments\n",
      "2023-09-13 11:04:33,091 - EHRQC - INFO - args.save_path: data/icd_cohort_test/vitals_first_icd.csv\n",
      "2023-09-13 11:04:33,092 - EHRQC - INFO - args.cohort_path: data/icd_cohort_test/cohort_icd.csv\n",
      "2023-09-13 11:04:33,092 - EHRQC - INFO - args.schema_name: omop_cdm\n",
      "2023-09-13 11:04:33,092 - EHRQC - INFO - args.data_type: vitals\n",
      "2023-09-13 11:04:33,092 - EHRQC - INFO - args.agg_function: first\n",
      "2023-09-13 11:04:33,092 - EHRQC - INFO - args.before: 24\n",
      "2023-09-13 11:04:33,092 - EHRQC - INFO - args.after: 72\n",
      "2023-09-13 11:04:33,112 - EHRQC - INFO - Creating table: omop_cdm.COHORT\n",
      "2023-09-13 11:04:33,118 - EHRQC - INFO - Table: omop_cdm.COHORT created successfully!!\n",
      "2023-09-13 11:04:33,118 - EHRQC - INFO - Saving cohort to table: omop_cdm.COHORT\n",
      "2023-09-13 11:04:33,371 - EHRQC - INFO - Cohort data saved successfully!!\n",
      "2023-09-13 11:04:33,371 - EHRQC - INFO - extracting data\n"
     ]
    },
    {
     "name": "stderr",
     "output_type": "stream",
     "text": [
      "/superbugai-data/yash/chapter_1/workspace/EHRQC/.venv/lib/python3.9/site-packages/pandas/io/sql.py:761: UserWarning: pandas only support SQLAlchemy connectable(engine/connection) ordatabase string URI or sqlite3 DBAPI2 connectionother DBAPI2 objects are not tested, please consider using SQLAlchemy\n",
      "  warnings.warn(\n"
     ]
    },
    {
     "name": "stdout",
     "output_type": "stream",
     "text": [
      "2023-09-13 11:06:33,286 - EHRQC - INFO - Saving raw data to file\n"
     ]
    },
    {
     "data": {
      "text/plain": [
       "0"
      ]
     },
     "execution_count": 7,
     "metadata": {},
     "output_type": "execute_result"
    }
   ],
   "source": [
    "import os\n",
    "\n",
    "os.system(\n",
    "    '''cd /superbugai-data/yash/chapter_1/workspace/EHRQC;'''\n",
    "    +\n",
    "    '''.venv/bin/python -m ehrqc.extract.ExtractCohortData \"data/icd_cohort_test/vitals_first_icd.csv\" \"data/icd_cohort_test/cohort_icd.csv\" \"omop_cdm\" \"vitals\" \"first\" -b=24 -a=72'''\n",
    "    )"
   ]
  },
  {
   "cell_type": "markdown",
   "metadata": {},
   "source": [
    "### Extract last values"
   ]
  },
  {
   "cell_type": "code",
   "execution_count": 8,
   "metadata": {},
   "outputs": [
    {
     "name": "stdout",
     "output_type": "stream",
     "text": [
      "2023-09-13 11:06:35,344 - EHRQC - INFO - Parsing command line arguments\n",
      "2023-09-13 11:06:35,346 - EHRQC - INFO - args.save_path: data/icd_cohort_test/vitals_last_icd.csv\n",
      "2023-09-13 11:06:35,346 - EHRQC - INFO - args.cohort_path: data/icd_cohort_test/cohort_icd.csv\n",
      "2023-09-13 11:06:35,346 - EHRQC - INFO - args.schema_name: omop_cdm\n",
      "2023-09-13 11:06:35,346 - EHRQC - INFO - args.data_type: vitals\n",
      "2023-09-13 11:06:35,346 - EHRQC - INFO - args.agg_function: last\n",
      "2023-09-13 11:06:35,346 - EHRQC - INFO - args.before: 24\n",
      "2023-09-13 11:06:35,346 - EHRQC - INFO - args.after: 72\n",
      "2023-09-13 11:06:35,367 - EHRQC - INFO - Creating table: omop_cdm.COHORT\n",
      "2023-09-13 11:06:35,373 - EHRQC - INFO - Table: omop_cdm.COHORT created successfully!!\n",
      "2023-09-13 11:06:35,373 - EHRQC - INFO - Saving cohort to table: omop_cdm.COHORT\n",
      "2023-09-13 11:06:35,627 - EHRQC - INFO - Cohort data saved successfully!!\n",
      "2023-09-13 11:06:35,628 - EHRQC - INFO - extracting data\n"
     ]
    },
    {
     "name": "stderr",
     "output_type": "stream",
     "text": [
      "/superbugai-data/yash/chapter_1/workspace/EHRQC/.venv/lib/python3.9/site-packages/pandas/io/sql.py:761: UserWarning: pandas only support SQLAlchemy connectable(engine/connection) ordatabase string URI or sqlite3 DBAPI2 connectionother DBAPI2 objects are not tested, please consider using SQLAlchemy\n",
      "  warnings.warn(\n"
     ]
    },
    {
     "name": "stdout",
     "output_type": "stream",
     "text": [
      "2023-09-13 11:08:35,603 - EHRQC - INFO - Saving raw data to file\n"
     ]
    },
    {
     "data": {
      "text/plain": [
       "0"
      ]
     },
     "execution_count": 8,
     "metadata": {},
     "output_type": "execute_result"
    }
   ],
   "source": [
    "import os\n",
    "\n",
    "os.system(\n",
    "    '''cd /superbugai-data/yash/chapter_1/workspace/EHRQC;'''\n",
    "    +\n",
    "    '''.venv/bin/python -m ehrqc.extract.ExtractCohortData \"data/icd_cohort_test/vitals_last_icd.csv\" \"data/icd_cohort_test/cohort_icd.csv\" \"omop_cdm\" \"vitals\" \"last\" -b=24 -a=72'''\n",
    "    )"
   ]
  },
  {
   "cell_type": "markdown",
   "metadata": {},
   "source": [
    "## Extract Lab Measurements"
   ]
  },
  {
   "cell_type": "markdown",
   "metadata": {},
   "source": [
    "### Extract minimum values"
   ]
  },
  {
   "cell_type": "code",
   "execution_count": 9,
   "metadata": {},
   "outputs": [
    {
     "name": "stdout",
     "output_type": "stream",
     "text": [
      "2023-09-13 11:08:37,598 - EHRQC - INFO - Parsing command line arguments\n",
      "2023-09-13 11:08:37,600 - EHRQC - INFO - args.save_path: data/icd_cohort_test/lab_measurements_min_icd.csv\n",
      "2023-09-13 11:08:37,600 - EHRQC - INFO - args.cohort_path: data/icd_cohort_test/cohort_icd.csv\n",
      "2023-09-13 11:08:37,600 - EHRQC - INFO - args.schema_name: omop_cdm\n",
      "2023-09-13 11:08:37,600 - EHRQC - INFO - args.data_type: lab_measurements\n",
      "2023-09-13 11:08:37,600 - EHRQC - INFO - args.agg_function: min\n",
      "2023-09-13 11:08:37,600 - EHRQC - INFO - args.before: 24\n",
      "2023-09-13 11:08:37,600 - EHRQC - INFO - args.after: 72\n",
      "2023-09-13 11:08:37,622 - EHRQC - INFO - Creating table: omop_cdm.COHORT\n",
      "2023-09-13 11:08:37,640 - EHRQC - INFO - Table: omop_cdm.COHORT created successfully!!\n",
      "2023-09-13 11:08:37,640 - EHRQC - INFO - Saving cohort to table: omop_cdm.COHORT\n",
      "2023-09-13 11:08:37,915 - EHRQC - INFO - Cohort data saved successfully!!\n",
      "2023-09-13 11:08:37,915 - EHRQC - INFO - extracting data\n"
     ]
    },
    {
     "name": "stderr",
     "output_type": "stream",
     "text": [
      "/superbugai-data/yash/chapter_1/workspace/EHRQC/.venv/lib/python3.9/site-packages/pandas/io/sql.py:761: UserWarning: pandas only support SQLAlchemy connectable(engine/connection) ordatabase string URI or sqlite3 DBAPI2 connectionother DBAPI2 objects are not tested, please consider using SQLAlchemy\n",
      "  warnings.warn(\n"
     ]
    },
    {
     "name": "stdout",
     "output_type": "stream",
     "text": [
      "2023-09-13 11:09:48,239 - EHRQC - INFO - Saving raw data to file\n"
     ]
    },
    {
     "data": {
      "text/plain": [
       "0"
      ]
     },
     "execution_count": 9,
     "metadata": {},
     "output_type": "execute_result"
    }
   ],
   "source": [
    "import os\n",
    "\n",
    "os.system(\n",
    "    '''cd /superbugai-data/yash/chapter_1/workspace/EHRQC;'''\n",
    "    +\n",
    "    '''.venv/bin/python -m ehrqc.extract.ExtractCohortData \"data/icd_cohort_test/lab_measurements_min_icd.csv\" \"data/icd_cohort_test/cohort_icd.csv\" \"omop_cdm\" \"lab_measurements\" \"min\" -b=24 -a=72'''\n",
    "    )"
   ]
  },
  {
   "cell_type": "markdown",
   "metadata": {},
   "source": [
    "### Extract maximum values"
   ]
  },
  {
   "cell_type": "code",
   "execution_count": 10,
   "metadata": {},
   "outputs": [
    {
     "name": "stdout",
     "output_type": "stream",
     "text": [
      "2023-09-13 11:09:50,218 - EHRQC - INFO - Parsing command line arguments\n",
      "2023-09-13 11:09:50,219 - EHRQC - INFO - args.save_path: data/icd_cohort_test/lab_measurements_max_icd.csv\n",
      "2023-09-13 11:09:50,219 - EHRQC - INFO - args.cohort_path: data/icd_cohort_test/cohort_icd.csv\n",
      "2023-09-13 11:09:50,219 - EHRQC - INFO - args.schema_name: omop_cdm\n",
      "2023-09-13 11:09:50,219 - EHRQC - INFO - args.data_type: lab_measurements\n",
      "2023-09-13 11:09:50,219 - EHRQC - INFO - args.agg_function: max\n",
      "2023-09-13 11:09:50,219 - EHRQC - INFO - args.before: 24\n",
      "2023-09-13 11:09:50,219 - EHRQC - INFO - args.after: 72\n",
      "2023-09-13 11:09:50,240 - EHRQC - INFO - Creating table: omop_cdm.COHORT\n",
      "2023-09-13 11:09:50,246 - EHRQC - INFO - Table: omop_cdm.COHORT created successfully!!\n",
      "2023-09-13 11:09:50,246 - EHRQC - INFO - Saving cohort to table: omop_cdm.COHORT\n",
      "2023-09-13 11:09:50,495 - EHRQC - INFO - Cohort data saved successfully!!\n",
      "2023-09-13 11:09:50,495 - EHRQC - INFO - extracting data\n"
     ]
    },
    {
     "name": "stderr",
     "output_type": "stream",
     "text": [
      "/superbugai-data/yash/chapter_1/workspace/EHRQC/.venv/lib/python3.9/site-packages/pandas/io/sql.py:761: UserWarning: pandas only support SQLAlchemy connectable(engine/connection) ordatabase string URI or sqlite3 DBAPI2 connectionother DBAPI2 objects are not tested, please consider using SQLAlchemy\n",
      "  warnings.warn(\n"
     ]
    },
    {
     "name": "stdout",
     "output_type": "stream",
     "text": [
      "2023-09-13 11:11:00,653 - EHRQC - INFO - Saving raw data to file\n"
     ]
    },
    {
     "data": {
      "text/plain": [
       "0"
      ]
     },
     "execution_count": 10,
     "metadata": {},
     "output_type": "execute_result"
    }
   ],
   "source": [
    "import os\n",
    "\n",
    "os.system(\n",
    "    '''cd /superbugai-data/yash/chapter_1/workspace/EHRQC;'''\n",
    "    +\n",
    "    '''.venv/bin/python -m ehrqc.extract.ExtractCohortData \"data/icd_cohort_test/lab_measurements_max_icd.csv\" \"data/icd_cohort_test/cohort_icd.csv\" \"omop_cdm\" \"lab_measurements\" \"max\" -b=24 -a=72'''\n",
    "    )"
   ]
  },
  {
   "cell_type": "markdown",
   "metadata": {},
   "source": [
    "### Extract average values"
   ]
  },
  {
   "cell_type": "code",
   "execution_count": 11,
   "metadata": {},
   "outputs": [
    {
     "name": "stdout",
     "output_type": "stream",
     "text": [
      "2023-09-13 11:11:02,739 - EHRQC - INFO - Parsing command line arguments\n",
      "2023-09-13 11:11:02,740 - EHRQC - INFO - args.save_path: data/icd_cohort_test/lab_measurements_avg_icd.csv\n",
      "2023-09-13 11:11:02,740 - EHRQC - INFO - args.cohort_path: data/icd_cohort_test/cohort_icd.csv\n",
      "2023-09-13 11:11:02,740 - EHRQC - INFO - args.schema_name: omop_cdm\n",
      "2023-09-13 11:11:02,741 - EHRQC - INFO - args.data_type: lab_measurements\n",
      "2023-09-13 11:11:02,741 - EHRQC - INFO - args.agg_function: avg\n",
      "2023-09-13 11:11:02,741 - EHRQC - INFO - args.before: 24\n",
      "2023-09-13 11:11:02,741 - EHRQC - INFO - args.after: 72\n",
      "2023-09-13 11:11:02,762 - EHRQC - INFO - Creating table: omop_cdm.COHORT\n",
      "2023-09-13 11:11:02,782 - EHRQC - INFO - Table: omop_cdm.COHORT created successfully!!\n",
      "2023-09-13 11:11:02,782 - EHRQC - INFO - Saving cohort to table: omop_cdm.COHORT\n",
      "2023-09-13 11:11:03,047 - EHRQC - INFO - Cohort data saved successfully!!\n",
      "2023-09-13 11:11:03,047 - EHRQC - INFO - extracting data\n"
     ]
    },
    {
     "name": "stderr",
     "output_type": "stream",
     "text": [
      "/superbugai-data/yash/chapter_1/workspace/EHRQC/.venv/lib/python3.9/site-packages/pandas/io/sql.py:761: UserWarning: pandas only support SQLAlchemy connectable(engine/connection) ordatabase string URI or sqlite3 DBAPI2 connectionother DBAPI2 objects are not tested, please consider using SQLAlchemy\n",
      "  warnings.warn(\n"
     ]
    },
    {
     "name": "stdout",
     "output_type": "stream",
     "text": [
      "2023-09-13 11:12:14,048 - EHRQC - INFO - Saving raw data to file\n"
     ]
    },
    {
     "data": {
      "text/plain": [
       "0"
      ]
     },
     "execution_count": 11,
     "metadata": {},
     "output_type": "execute_result"
    }
   ],
   "source": [
    "import os\n",
    "\n",
    "os.system(\n",
    "    '''cd /superbugai-data/yash/chapter_1/workspace/EHRQC;'''\n",
    "    +\n",
    "    '''.venv/bin/python -m ehrqc.extract.ExtractCohortData \"data/icd_cohort_test/lab_measurements_avg_icd.csv\" \"data/icd_cohort_test/cohort_icd.csv\" \"omop_cdm\" \"lab_measurements\" \"avg\" -b=24 -a=72'''\n",
    "    )"
   ]
  },
  {
   "cell_type": "markdown",
   "metadata": {},
   "source": [
    "### Extract standard deviation values"
   ]
  },
  {
   "cell_type": "code",
   "execution_count": 12,
   "metadata": {},
   "outputs": [
    {
     "name": "stdout",
     "output_type": "stream",
     "text": [
      "2023-09-13 11:12:16,080 - EHRQC - INFO - Parsing command line arguments\n",
      "2023-09-13 11:12:16,082 - EHRQC - INFO - args.save_path: data/icd_cohort_test/lab_measurements_stddev_icd.csv\n",
      "2023-09-13 11:12:16,082 - EHRQC - INFO - args.cohort_path: data/icd_cohort_test/cohort_icd.csv\n",
      "2023-09-13 11:12:16,082 - EHRQC - INFO - args.schema_name: omop_cdm\n",
      "2023-09-13 11:12:16,082 - EHRQC - INFO - args.data_type: lab_measurements\n",
      "2023-09-13 11:12:16,082 - EHRQC - INFO - args.agg_function: stddev\n",
      "2023-09-13 11:12:16,082 - EHRQC - INFO - args.before: 24\n",
      "2023-09-13 11:12:16,082 - EHRQC - INFO - args.after: 72\n",
      "2023-09-13 11:12:16,108 - EHRQC - INFO - Creating table: omop_cdm.COHORT\n",
      "2023-09-13 11:12:16,113 - EHRQC - INFO - Table: omop_cdm.COHORT created successfully!!\n",
      "2023-09-13 11:12:16,113 - EHRQC - INFO - Saving cohort to table: omop_cdm.COHORT\n",
      "2023-09-13 11:12:16,350 - EHRQC - INFO - Cohort data saved successfully!!\n",
      "2023-09-13 11:12:16,350 - EHRQC - INFO - extracting data\n"
     ]
    },
    {
     "name": "stderr",
     "output_type": "stream",
     "text": [
      "/superbugai-data/yash/chapter_1/workspace/EHRQC/.venv/lib/python3.9/site-packages/pandas/io/sql.py:761: UserWarning: pandas only support SQLAlchemy connectable(engine/connection) ordatabase string URI or sqlite3 DBAPI2 connectionother DBAPI2 objects are not tested, please consider using SQLAlchemy\n",
      "  warnings.warn(\n"
     ]
    },
    {
     "name": "stdout",
     "output_type": "stream",
     "text": [
      "2023-09-13 11:13:26,400 - EHRQC - INFO - Saving raw data to file\n"
     ]
    },
    {
     "data": {
      "text/plain": [
       "0"
      ]
     },
     "execution_count": 12,
     "metadata": {},
     "output_type": "execute_result"
    }
   ],
   "source": [
    "import os\n",
    "\n",
    "os.system(\n",
    "    '''cd /superbugai-data/yash/chapter_1/workspace/EHRQC;'''\n",
    "    +\n",
    "    '''.venv/bin/python -m ehrqc.extract.ExtractCohortData \"data/icd_cohort_test/lab_measurements_stddev_icd.csv\" \"data/icd_cohort_test/cohort_icd.csv\" \"omop_cdm\" \"lab_measurements\" \"stddev\" -b=24 -a=72'''\n",
    "    )"
   ]
  },
  {
   "cell_type": "markdown",
   "metadata": {},
   "source": [
    "### Extract first values"
   ]
  },
  {
   "cell_type": "code",
   "execution_count": 13,
   "metadata": {},
   "outputs": [
    {
     "name": "stdout",
     "output_type": "stream",
     "text": [
      "2023-09-13 11:13:28,575 - EHRQC - INFO - Parsing command line arguments\n",
      "2023-09-13 11:13:28,576 - EHRQC - INFO - args.save_path: data/icd_cohort_test/lab_measurements_first_icd.csv\n",
      "2023-09-13 11:13:28,576 - EHRQC - INFO - args.cohort_path: data/icd_cohort_test/cohort_icd.csv\n",
      "2023-09-13 11:13:28,576 - EHRQC - INFO - args.schema_name: omop_cdm\n",
      "2023-09-13 11:13:28,576 - EHRQC - INFO - args.data_type: lab_measurements\n",
      "2023-09-13 11:13:28,576 - EHRQC - INFO - args.agg_function: first\n",
      "2023-09-13 11:13:28,576 - EHRQC - INFO - args.before: 24\n",
      "2023-09-13 11:13:28,576 - EHRQC - INFO - args.after: 72\n",
      "2023-09-13 11:13:28,596 - EHRQC - INFO - Creating table: omop_cdm.COHORT\n",
      "2023-09-13 11:13:28,616 - EHRQC - INFO - Table: omop_cdm.COHORT created successfully!!\n",
      "2023-09-13 11:13:28,617 - EHRQC - INFO - Saving cohort to table: omop_cdm.COHORT\n",
      "2023-09-13 11:13:28,872 - EHRQC - INFO - Cohort data saved successfully!!\n",
      "2023-09-13 11:13:28,872 - EHRQC - INFO - extracting data\n"
     ]
    },
    {
     "name": "stderr",
     "output_type": "stream",
     "text": [
      "/superbugai-data/yash/chapter_1/workspace/EHRQC/.venv/lib/python3.9/site-packages/pandas/io/sql.py:761: UserWarning: pandas only support SQLAlchemy connectable(engine/connection) ordatabase string URI or sqlite3 DBAPI2 connectionother DBAPI2 objects are not tested, please consider using SQLAlchemy\n",
      "  warnings.warn(\n"
     ]
    },
    {
     "name": "stdout",
     "output_type": "stream",
     "text": [
      "2023-09-13 11:14:39,700 - EHRQC - INFO - Saving raw data to file\n"
     ]
    },
    {
     "data": {
      "text/plain": [
       "0"
      ]
     },
     "execution_count": 13,
     "metadata": {},
     "output_type": "execute_result"
    }
   ],
   "source": [
    "import os\n",
    "\n",
    "os.system(\n",
    "    '''cd /superbugai-data/yash/chapter_1/workspace/EHRQC;'''\n",
    "    +\n",
    "    '''.venv/bin/python -m ehrqc.extract.ExtractCohortData \"data/icd_cohort_test/lab_measurements_first_icd.csv\" \"data/icd_cohort_test/cohort_icd.csv\" \"omop_cdm\" \"lab_measurements\" \"first\" -b=24 -a=72'''\n",
    "    )"
   ]
  },
  {
   "cell_type": "markdown",
   "metadata": {},
   "source": [
    "### Extract last values"
   ]
  },
  {
   "cell_type": "code",
   "execution_count": 14,
   "metadata": {},
   "outputs": [
    {
     "name": "stdout",
     "output_type": "stream",
     "text": [
      "2023-09-13 11:14:41,823 - EHRQC - INFO - Parsing command line arguments\n",
      "2023-09-13 11:14:41,824 - EHRQC - INFO - args.save_path: data/icd_cohort_test/lab_measurements_last_icd.csv\n",
      "2023-09-13 11:14:41,824 - EHRQC - INFO - args.cohort_path: data/icd_cohort_test/cohort_icd.csv\n",
      "2023-09-13 11:14:41,824 - EHRQC - INFO - args.schema_name: omop_cdm\n",
      "2023-09-13 11:14:41,824 - EHRQC - INFO - args.data_type: lab_measurements\n",
      "2023-09-13 11:14:41,824 - EHRQC - INFO - args.agg_function: last\n",
      "2023-09-13 11:14:41,824 - EHRQC - INFO - args.before: 24\n",
      "2023-09-13 11:14:41,824 - EHRQC - INFO - args.after: 72\n",
      "2023-09-13 11:14:41,845 - EHRQC - INFO - Creating table: omop_cdm.COHORT\n",
      "2023-09-13 11:14:41,851 - EHRQC - INFO - Table: omop_cdm.COHORT created successfully!!\n",
      "2023-09-13 11:14:41,851 - EHRQC - INFO - Saving cohort to table: omop_cdm.COHORT\n",
      "2023-09-13 11:14:42,108 - EHRQC - INFO - Cohort data saved successfully!!\n",
      "2023-09-13 11:14:42,109 - EHRQC - INFO - extracting data\n"
     ]
    },
    {
     "name": "stderr",
     "output_type": "stream",
     "text": [
      "/superbugai-data/yash/chapter_1/workspace/EHRQC/.venv/lib/python3.9/site-packages/pandas/io/sql.py:761: UserWarning: pandas only support SQLAlchemy connectable(engine/connection) ordatabase string URI or sqlite3 DBAPI2 connectionother DBAPI2 objects are not tested, please consider using SQLAlchemy\n",
      "  warnings.warn(\n"
     ]
    },
    {
     "name": "stdout",
     "output_type": "stream",
     "text": [
      "2023-09-13 11:15:52,954 - EHRQC - INFO - Saving raw data to file\n"
     ]
    },
    {
     "data": {
      "text/plain": [
       "0"
      ]
     },
     "execution_count": 14,
     "metadata": {},
     "output_type": "execute_result"
    }
   ],
   "source": [
    "import os\n",
    "\n",
    "os.system(\n",
    "    '''cd /superbugai-data/yash/chapter_1/workspace/EHRQC;'''\n",
    "    +\n",
    "    '''.venv/bin/python -m ehrqc.extract.ExtractCohortData \"data/icd_cohort_test/lab_measurements_last_icd.csv\" \"data/icd_cohort_test/cohort_icd.csv\" \"omop_cdm\" \"lab_measurements\" \"last\" -b=24 -a=72'''\n",
    "    )"
   ]
  },
  {
   "cell_type": "markdown",
   "metadata": {},
   "source": [
    "## Read individual files"
   ]
  },
  {
   "cell_type": "code",
   "execution_count": 15,
   "metadata": {},
   "outputs": [],
   "source": [
    "import pandas as pd\n",
    "\n",
    "demographics =  pd.read_csv('/superbugai-data/yash/chapter_1/workspace/EHRQC/data/icd_cohort_test/demographics_icd.csv')\n",
    "vitals_min =  pd.read_csv('/superbugai-data/yash/chapter_1/workspace/EHRQC/data/icd_cohort_test/vitals_min_icd.csv')\n",
    "vitals_max =  pd.read_csv('/superbugai-data/yash/chapter_1/workspace/EHRQC/data/icd_cohort_test/vitals_max_icd.csv')\n",
    "vitals_avg =  pd.read_csv('/superbugai-data/yash/chapter_1/workspace/EHRQC/data/icd_cohort_test/vitals_avg_icd.csv')\n",
    "vitals_stddev =  pd.read_csv('/superbugai-data/yash/chapter_1/workspace/EHRQC/data/icd_cohort_test/vitals_stddev_icd.csv')\n",
    "vitals_first =  pd.read_csv('/superbugai-data/yash/chapter_1/workspace/EHRQC/data/icd_cohort_test/vitals_first_icd.csv')\n",
    "vitals_last =  pd.read_csv('/superbugai-data/yash/chapter_1/workspace/EHRQC/data/icd_cohort_test/vitals_last_icd.csv')\n",
    "lab_measurements_min =  pd.read_csv('/superbugai-data/yash/chapter_1/workspace/EHRQC/data/icd_cohort_test/lab_measurements_min_icd.csv')\n",
    "lab_measurements_max =  pd.read_csv('/superbugai-data/yash/chapter_1/workspace/EHRQC/data/icd_cohort_test/lab_measurements_max_icd.csv')\n",
    "lab_measurements_avg =  pd.read_csv('/superbugai-data/yash/chapter_1/workspace/EHRQC/data/icd_cohort_test/lab_measurements_avg_icd.csv')\n",
    "lab_measurements_stddev =  pd.read_csv('/superbugai-data/yash/chapter_1/workspace/EHRQC/data/icd_cohort_test/lab_measurements_stddev_icd.csv')\n",
    "lab_measurements_first =  pd.read_csv('/superbugai-data/yash/chapter_1/workspace/EHRQC/data/icd_cohort_test/lab_measurements_first_icd.csv')\n",
    "lab_measurements_last =  pd.read_csv('/superbugai-data/yash/chapter_1/workspace/EHRQC/data/icd_cohort_test/lab_measurements_last_icd.csv')"
   ]
  },
  {
   "cell_type": "code",
   "execution_count": 16,
   "metadata": {},
   "outputs": [
    {
     "data": {
      "text/plain": [
       "(12241, 4)"
      ]
     },
     "execution_count": 16,
     "metadata": {},
     "output_type": "execute_result"
    }
   ],
   "source": [
    "demographics.shape"
   ]
  },
  {
   "cell_type": "code",
   "execution_count": 17,
   "metadata": {},
   "outputs": [
    {
     "data": {
      "text/plain": [
       "((5185, 11), (5185, 11), (5185, 11), (5185, 11), (5185, 11), (5185, 11))"
      ]
     },
     "execution_count": 17,
     "metadata": {},
     "output_type": "execute_result"
    }
   ],
   "source": [
    "vitals_min.shape, vitals_max.shape, vitals_avg.shape, vitals_stddev.shape, vitals_first.shape, vitals_last.shape"
   ]
  },
  {
   "cell_type": "code",
   "execution_count": 18,
   "metadata": {},
   "outputs": [
    {
     "data": {
      "text/plain": [
       "((9923, 30), (9923, 30), (9923, 30), (9923, 30), (9923, 30), (9923, 30))"
      ]
     },
     "execution_count": 18,
     "metadata": {},
     "output_type": "execute_result"
    }
   ],
   "source": [
    "lab_measurements_min.shape, lab_measurements_max.shape, lab_measurements_avg.shape, lab_measurements_stddev.shape, lab_measurements_first.shape, lab_measurements_last.shape"
   ]
  },
  {
   "cell_type": "markdown",
   "metadata": {},
   "source": [
    "## Conclusion"
   ]
  },
  {
   "cell_type": "markdown",
   "metadata": {},
   "source": [
    "We extracted demographics, vitals, and lab measurements 24 hours before and 72 hours after the admission all the patients diagnosed with Sepsis (identified using ICD codes). The dynamic data including vitals and lab measurements are aggregated for a patient by taking minimum, maximum, average, standard deviation, first, and last values."
   ]
  }
 ],
 "metadata": {
  "kernelspec": {
   "display_name": ".venv",
   "language": "python",
   "name": "python3"
  },
  "language_info": {
   "codemirror_mode": {
    "name": "ipython",
    "version": 3
   },
   "file_extension": ".py",
   "mimetype": "text/x-python",
   "name": "python",
   "nbconvert_exporter": "python",
   "pygments_lexer": "ipython3",
   "version": "3.9.5"
  },
  "orig_nbformat": 4
 },
 "nbformat": 4,
 "nbformat_minor": 2
}
