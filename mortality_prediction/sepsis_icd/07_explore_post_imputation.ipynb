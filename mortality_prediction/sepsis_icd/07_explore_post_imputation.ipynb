{
 "cells": [
  {
   "cell_type": "markdown",
   "metadata": {},
   "source": [
    "# Exploring the raw data files extracted using EHR-QC"
   ]
  },
  {
   "cell_type": "markdown",
   "metadata": {},
   "source": [
    "## Read individual files"
   ]
  },
  {
   "cell_type": "code",
   "execution_count": 12,
   "metadata": {},
   "outputs": [],
   "source": [
    "import pandas as pd\n",
    "\n",
    "demographics =  pd.read_csv('/superbugai-data/yash/chapter_1/workspace/EHRQC/data/icd_cohort_test/demographics_icd.csv')\n",
    "vitals_min =  pd.read_csv('/superbugai-data/yash/chapter_1/workspace/EHRQC/data/icd_cohort_test/vitals_min_icd_imputed.csv')\n",
    "vitals_max =  pd.read_csv('/superbugai-data/yash/chapter_1/workspace/EHRQC/data/icd_cohort_test/vitals_max_icd_imputed.csv')\n",
    "vitals_avg =  pd.read_csv('/superbugai-data/yash/chapter_1/workspace/EHRQC/data/icd_cohort_test/vitals_avg_icd_imputed.csv')\n",
    "vitals_stddev =  pd.read_csv('/superbugai-data/yash/chapter_1/workspace/EHRQC/data/icd_cohort_test/vitals_stddev_icd_imputed.csv')\n",
    "vitals_first =  pd.read_csv('/superbugai-data/yash/chapter_1/workspace/EHRQC/data/icd_cohort_test/vitals_first_icd_imputed.csv')\n",
    "vitals_last =  pd.read_csv('/superbugai-data/yash/chapter_1/workspace/EHRQC/data/icd_cohort_test/vitals_last_icd_imputed.csv')\n",
    "lab_measurements_min =  pd.read_csv('/superbugai-data/yash/chapter_1/workspace/EHRQC/data/icd_cohort_test/lab_measurements_min_icd_imputed.csv')\n",
    "lab_measurements_max =  pd.read_csv('/superbugai-data/yash/chapter_1/workspace/EHRQC/data/icd_cohort_test/lab_measurements_max_icd_imputed.csv')\n",
    "lab_measurements_avg =  pd.read_csv('/superbugai-data/yash/chapter_1/workspace/EHRQC/data/icd_cohort_test/lab_measurements_avg_icd_imputed.csv')\n",
    "lab_measurements_stddev =  pd.read_csv('/superbugai-data/yash/chapter_1/workspace/EHRQC/data/icd_cohort_test/lab_measurements_stddev_icd_imputed.csv')\n",
    "lab_measurements_first =  pd.read_csv('/superbugai-data/yash/chapter_1/workspace/EHRQC/data/icd_cohort_test/lab_measurements_first_icd_imputed.csv')\n",
    "lab_measurements_last =  pd.read_csv('/superbugai-data/yash/chapter_1/workspace/EHRQC/data/icd_cohort_test/lab_measurements_last_icd_imputed.csv')"
   ]
  },
  {
   "cell_type": "code",
   "execution_count": 13,
   "metadata": {},
   "outputs": [
    {
     "data": {
      "text/plain": [
       "(12241, 4)"
      ]
     },
     "execution_count": 13,
     "metadata": {},
     "output_type": "execute_result"
    }
   ],
   "source": [
    "demographics.shape"
   ]
  },
  {
   "cell_type": "code",
   "execution_count": 14,
   "metadata": {},
   "outputs": [
    {
     "data": {
      "text/plain": [
       "((5185, 11), (5185, 11), (5185, 11), (5185, 11), (5185, 11), (5185, 11))"
      ]
     },
     "execution_count": 14,
     "metadata": {},
     "output_type": "execute_result"
    }
   ],
   "source": [
    "vitals_min.shape, vitals_max.shape, vitals_avg.shape, vitals_stddev.shape, vitals_first.shape, vitals_last.shape"
   ]
  },
  {
   "cell_type": "code",
   "execution_count": 15,
   "metadata": {},
   "outputs": [
    {
     "data": {
      "text/plain": [
       "((9923, 13), (9923, 13), (9923, 13), (9923, 8), (9923, 13), (9923, 13))"
      ]
     },
     "execution_count": 15,
     "metadata": {},
     "output_type": "execute_result"
    }
   ],
   "source": [
    "lab_measurements_min.shape, lab_measurements_max.shape, lab_measurements_avg.shape, lab_measurements_stddev.shape, lab_measurements_first.shape, lab_measurements_last.shape"
   ]
  },
  {
   "cell_type": "markdown",
   "metadata": {},
   "source": [
    "## Generate graphs"
   ]
  },
  {
   "cell_type": "markdown",
   "metadata": {},
   "source": [
    "### Generate exploration graphs for demographics"
   ]
  },
  {
   "cell_type": "code",
   "execution_count": 17,
   "metadata": {},
   "outputs": [
    {
     "name": "stdout",
     "output_type": "stream",
     "text": [
      "2023-09-14 08:32:46,568 - EHRQC - INFO - Parsing command line arguments\n",
      "2023-09-14 08:32:46,569 - EHRQC - INFO - args.plot_type: demographics_explore\n",
      "2023-09-14 08:32:46,569 - EHRQC - INFO - args.source_path: data/icd_cohort_test/demographics_icd.csv\n",
      "2023-09-14 08:32:46,569 - EHRQC - INFO - args.save_path: data/icd_cohort_test/imputed/demographics_icd_explore.html\n",
      "2023-09-14 08:32:46,569 - EHRQC - INFO - args.column_mapping: None\n",
      "2023-09-14 08:32:46,569 - EHRQC - INFO - args.column_mapping: {}\n",
      "2023-09-14 08:32:46,587 - EHRQC - INFO - generating graphs\n"
     ]
    },
    {
     "name": "stderr",
     "output_type": "stream",
     "text": [
      "/superbugai-data/yash/chapter_1/workspace/EHRQC/.venv/lib/python3.9/site-packages/missingno/missingno.py:61: UserWarning: Plotting a sparkline on an existing axis is not currently supported. To remove this warning, set sparkline=False.\n",
      "  warnings.warn(\n"
     ]
    },
    {
     "name": "stdout",
     "output_type": "stream",
     "text": [
      "2023-09-14 08:32:47,158 - EHRQC - INFO - Done!!\n"
     ]
    },
    {
     "data": {
      "text/plain": [
       "0"
      ]
     },
     "execution_count": 17,
     "metadata": {},
     "output_type": "execute_result"
    }
   ],
   "source": [
    "import os\n",
    "\n",
    "os.system(\n",
    "    '''cd /superbugai-data/yash/chapter_1/workspace/EHRQC;'''\n",
    "    +\n",
    "    '''.venv/bin/python -m ehrqc.qc.Plot \"demographics_explore\" \"data/icd_cohort_test/demographics_icd.csv\" \"data/icd_cohort_test/imputed/demographics_icd_explore.html\"'''\n",
    "    )"
   ]
  },
  {
   "cell_type": "markdown",
   "metadata": {},
   "source": [
    "### Generate exploration graphs for vitals"
   ]
  },
  {
   "cell_type": "markdown",
   "metadata": {},
   "source": [
    "#### Vitals exploration graphs for minimum values"
   ]
  },
  {
   "cell_type": "code",
   "execution_count": 18,
   "metadata": {},
   "outputs": [
    {
     "name": "stdout",
     "output_type": "stream",
     "text": [
      "2023-09-14 08:33:39,880 - EHRQC - INFO - Parsing command line arguments\n",
      "2023-09-14 08:33:39,881 - EHRQC - INFO - args.plot_type: vitals_explore\n",
      "2023-09-14 08:33:39,881 - EHRQC - INFO - args.source_path: data/icd_cohort_test/vitals_min_icd_imputed.csv\n",
      "2023-09-14 08:33:39,882 - EHRQC - INFO - args.save_path: data/icd_cohort_test/imputed/vitals_min_icd_explore.html\n",
      "2023-09-14 08:33:39,882 - EHRQC - INFO - args.column_mapping: None\n",
      "2023-09-14 08:33:39,882 - EHRQC - INFO - args.column_mapping: {}\n",
      "2023-09-14 08:33:39,891 - EHRQC - INFO - generating graphs\n"
     ]
    },
    {
     "name": "stderr",
     "output_type": "stream",
     "text": [
      "/superbugai-data/yash/chapter_1/workspace/EHRQC/.venv/lib/python3.9/site-packages/missingno/missingno.py:61: UserWarning: Plotting a sparkline on an existing axis is not currently supported. To remove this warning, set sparkline=False.\n",
      "  warnings.warn(\n"
     ]
    },
    {
     "name": "stdout",
     "output_type": "stream",
     "text": [
      "2023-09-14 08:33:41,470 - EHRQC - INFO - Done!!\n"
     ]
    },
    {
     "data": {
      "text/plain": [
       "0"
      ]
     },
     "execution_count": 18,
     "metadata": {},
     "output_type": "execute_result"
    }
   ],
   "source": [
    "import os\n",
    "\n",
    "os.system(\n",
    "    '''cd /superbugai-data/yash/chapter_1/workspace/EHRQC;'''\n",
    "    +\n",
    "    '''.venv/bin/python -m ehrqc.qc.Plot \"vitals_explore\" \"data/icd_cohort_test/vitals_min_icd_imputed.csv\" \"data/icd_cohort_test/imputed/vitals_min_icd_explore.html\"'''\n",
    "    )"
   ]
  },
  {
   "cell_type": "markdown",
   "metadata": {},
   "source": [
    "#### Vitals exploration graphs for maximum values"
   ]
  },
  {
   "cell_type": "code",
   "execution_count": 19,
   "metadata": {},
   "outputs": [
    {
     "name": "stdout",
     "output_type": "stream",
     "text": [
      "2023-09-14 08:33:55,300 - EHRQC - INFO - Parsing command line arguments\n",
      "2023-09-14 08:33:55,301 - EHRQC - INFO - args.plot_type: vitals_explore\n",
      "2023-09-14 08:33:55,301 - EHRQC - INFO - args.source_path: data/icd_cohort_test/vitals_max_icd_imputed.csv\n",
      "2023-09-14 08:33:55,301 - EHRQC - INFO - args.save_path: data/icd_cohort_test/imputed/vitals_max_icd_explore.html\n",
      "2023-09-14 08:33:55,301 - EHRQC - INFO - args.column_mapping: None\n",
      "2023-09-14 08:33:55,301 - EHRQC - INFO - args.column_mapping: {}\n",
      "2023-09-14 08:33:55,309 - EHRQC - INFO - generating graphs\n"
     ]
    },
    {
     "name": "stderr",
     "output_type": "stream",
     "text": [
      "/superbugai-data/yash/chapter_1/workspace/EHRQC/.venv/lib/python3.9/site-packages/missingno/missingno.py:61: UserWarning: Plotting a sparkline on an existing axis is not currently supported. To remove this warning, set sparkline=False.\n",
      "  warnings.warn(\n"
     ]
    },
    {
     "name": "stdout",
     "output_type": "stream",
     "text": [
      "2023-09-14 08:33:56,841 - EHRQC - INFO - Done!!\n"
     ]
    },
    {
     "data": {
      "text/plain": [
       "0"
      ]
     },
     "execution_count": 19,
     "metadata": {},
     "output_type": "execute_result"
    }
   ],
   "source": [
    "import os\n",
    "\n",
    "os.system(\n",
    "    '''cd /superbugai-data/yash/chapter_1/workspace/EHRQC;'''\n",
    "    +\n",
    "    '''.venv/bin/python -m ehrqc.qc.Plot \"vitals_explore\" \"data/icd_cohort_test/vitals_max_icd_imputed.csv\" \"data/icd_cohort_test/imputed/vitals_max_icd_explore.html\"'''\n",
    "    )"
   ]
  },
  {
   "cell_type": "markdown",
   "metadata": {},
   "source": [
    "#### Vitals exploration graphs for average values"
   ]
  },
  {
   "cell_type": "code",
   "execution_count": 20,
   "metadata": {},
   "outputs": [
    {
     "name": "stdout",
     "output_type": "stream",
     "text": [
      "2023-09-14 08:34:01,539 - EHRQC - INFO - Parsing command line arguments\n",
      "2023-09-14 08:34:01,541 - EHRQC - INFO - args.plot_type: vitals_explore\n",
      "2023-09-14 08:34:01,541 - EHRQC - INFO - args.source_path: data/icd_cohort_test/vitals_avg_icd_imputed.csv\n",
      "2023-09-14 08:34:01,541 - EHRQC - INFO - args.save_path: data/icd_cohort_test/imputed/vitals_avg_icd_explore.html\n",
      "2023-09-14 08:34:01,541 - EHRQC - INFO - args.column_mapping: None\n",
      "2023-09-14 08:34:01,541 - EHRQC - INFO - args.column_mapping: {}\n",
      "2023-09-14 08:34:01,552 - EHRQC - INFO - generating graphs\n"
     ]
    },
    {
     "name": "stderr",
     "output_type": "stream",
     "text": [
      "/superbugai-data/yash/chapter_1/workspace/EHRQC/.venv/lib/python3.9/site-packages/missingno/missingno.py:61: UserWarning: Plotting a sparkline on an existing axis is not currently supported. To remove this warning, set sparkline=False.\n",
      "  warnings.warn(\n"
     ]
    },
    {
     "name": "stdout",
     "output_type": "stream",
     "text": [
      "2023-09-14 08:34:03,203 - EHRQC - INFO - Done!!\n"
     ]
    },
    {
     "data": {
      "text/plain": [
       "0"
      ]
     },
     "execution_count": 20,
     "metadata": {},
     "output_type": "execute_result"
    }
   ],
   "source": [
    "import os\n",
    "\n",
    "os.system(\n",
    "    '''cd /superbugai-data/yash/chapter_1/workspace/EHRQC;'''\n",
    "    +\n",
    "    '''.venv/bin/python -m ehrqc.qc.Plot \"vitals_explore\" \"data/icd_cohort_test/vitals_avg_icd_imputed.csv\" \"data/icd_cohort_test/imputed/vitals_avg_icd_explore.html\"'''\n",
    "    )"
   ]
  },
  {
   "cell_type": "markdown",
   "metadata": {},
   "source": [
    "#### Vitals exploration graphs for standard deviation values"
   ]
  },
  {
   "cell_type": "code",
   "execution_count": 21,
   "metadata": {},
   "outputs": [
    {
     "name": "stdout",
     "output_type": "stream",
     "text": [
      "2023-09-14 08:34:08,877 - EHRQC - INFO - Parsing command line arguments\n",
      "2023-09-14 08:34:08,879 - EHRQC - INFO - args.plot_type: vitals_explore\n",
      "2023-09-14 08:34:08,879 - EHRQC - INFO - args.source_path: data/icd_cohort_test/vitals_stddev_icd_imputed.csv\n",
      "2023-09-14 08:34:08,879 - EHRQC - INFO - args.save_path: data/icd_cohort_test/imputed/vitals_stddev_icd_explore.html\n",
      "2023-09-14 08:34:08,879 - EHRQC - INFO - args.column_mapping: None\n",
      "2023-09-14 08:34:08,879 - EHRQC - INFO - args.column_mapping: {}\n",
      "2023-09-14 08:34:08,891 - EHRQC - INFO - generating graphs\n"
     ]
    },
    {
     "name": "stderr",
     "output_type": "stream",
     "text": [
      "/superbugai-data/yash/chapter_1/workspace/EHRQC/.venv/lib/python3.9/site-packages/missingno/missingno.py:61: UserWarning: Plotting a sparkline on an existing axis is not currently supported. To remove this warning, set sparkline=False.\n",
      "  warnings.warn(\n"
     ]
    },
    {
     "name": "stdout",
     "output_type": "stream",
     "text": [
      "2023-09-14 08:34:10,556 - EHRQC - INFO - Done!!\n"
     ]
    },
    {
     "data": {
      "text/plain": [
       "0"
      ]
     },
     "execution_count": 21,
     "metadata": {},
     "output_type": "execute_result"
    }
   ],
   "source": [
    "import os\n",
    "\n",
    "os.system(\n",
    "    '''cd /superbugai-data/yash/chapter_1/workspace/EHRQC;'''\n",
    "    +\n",
    "    '''.venv/bin/python -m ehrqc.qc.Plot \"vitals_explore\" \"data/icd_cohort_test/vitals_stddev_icd_imputed.csv\" \"data/icd_cohort_test/imputed/vitals_stddev_icd_explore.html\"'''\n",
    "    )"
   ]
  },
  {
   "cell_type": "markdown",
   "metadata": {},
   "source": [
    "#### Vitals exploration graphs for first values"
   ]
  },
  {
   "cell_type": "code",
   "execution_count": 22,
   "metadata": {},
   "outputs": [
    {
     "name": "stdout",
     "output_type": "stream",
     "text": [
      "2023-09-14 08:34:22,566 - EHRQC - INFO - Parsing command line arguments\n",
      "2023-09-14 08:34:22,568 - EHRQC - INFO - args.plot_type: vitals_explore\n",
      "2023-09-14 08:34:22,568 - EHRQC - INFO - args.source_path: data/icd_cohort_test/vitals_first_icd_imputed.csv\n",
      "2023-09-14 08:34:22,568 - EHRQC - INFO - args.save_path: data/icd_cohort_test/imputed/vitals_first_icd_explore.html\n",
      "2023-09-14 08:34:22,568 - EHRQC - INFO - args.column_mapping: None\n",
      "2023-09-14 08:34:22,568 - EHRQC - INFO - args.column_mapping: {}\n",
      "2023-09-14 08:34:22,577 - EHRQC - INFO - generating graphs\n"
     ]
    },
    {
     "name": "stderr",
     "output_type": "stream",
     "text": [
      "/superbugai-data/yash/chapter_1/workspace/EHRQC/.venv/lib/python3.9/site-packages/missingno/missingno.py:61: UserWarning: Plotting a sparkline on an existing axis is not currently supported. To remove this warning, set sparkline=False.\n",
      "  warnings.warn(\n"
     ]
    },
    {
     "name": "stdout",
     "output_type": "stream",
     "text": [
      "2023-09-14 08:34:24,172 - EHRQC - INFO - Done!!\n"
     ]
    },
    {
     "data": {
      "text/plain": [
       "0"
      ]
     },
     "execution_count": 22,
     "metadata": {},
     "output_type": "execute_result"
    }
   ],
   "source": [
    "import os\n",
    "\n",
    "os.system(\n",
    "    '''cd /superbugai-data/yash/chapter_1/workspace/EHRQC;'''\n",
    "    +\n",
    "    '''.venv/bin/python -m ehrqc.qc.Plot \"vitals_explore\" \"data/icd_cohort_test/vitals_first_icd_imputed.csv\" \"data/icd_cohort_test/imputed/vitals_first_icd_explore.html\"'''\n",
    "    )"
   ]
  },
  {
   "cell_type": "markdown",
   "metadata": {},
   "source": [
    "#### Vitals exploration graphs for last values"
   ]
  },
  {
   "cell_type": "code",
   "execution_count": 23,
   "metadata": {},
   "outputs": [
    {
     "name": "stdout",
     "output_type": "stream",
     "text": [
      "2023-09-14 08:34:31,084 - EHRQC - INFO - Parsing command line arguments\n",
      "2023-09-14 08:34:31,085 - EHRQC - INFO - args.plot_type: vitals_explore\n",
      "2023-09-14 08:34:31,085 - EHRQC - INFO - args.source_path: data/icd_cohort_test/vitals_last_icd_imputed.csv\n",
      "2023-09-14 08:34:31,085 - EHRQC - INFO - args.save_path: data/icd_cohort_test/imputed/vitals_last_icd_explore.html\n",
      "2023-09-14 08:34:31,085 - EHRQC - INFO - args.column_mapping: None\n",
      "2023-09-14 08:34:31,085 - EHRQC - INFO - args.column_mapping: {}\n",
      "2023-09-14 08:34:31,094 - EHRQC - INFO - generating graphs\n"
     ]
    },
    {
     "name": "stderr",
     "output_type": "stream",
     "text": [
      "/superbugai-data/yash/chapter_1/workspace/EHRQC/.venv/lib/python3.9/site-packages/missingno/missingno.py:61: UserWarning: Plotting a sparkline on an existing axis is not currently supported. To remove this warning, set sparkline=False.\n",
      "  warnings.warn(\n"
     ]
    },
    {
     "name": "stdout",
     "output_type": "stream",
     "text": [
      "2023-09-14 08:34:32,576 - EHRQC - INFO - Done!!\n"
     ]
    },
    {
     "data": {
      "text/plain": [
       "0"
      ]
     },
     "execution_count": 23,
     "metadata": {},
     "output_type": "execute_result"
    }
   ],
   "source": [
    "import os\n",
    "\n",
    "os.system(\n",
    "    '''cd /superbugai-data/yash/chapter_1/workspace/EHRQC;'''\n",
    "    +\n",
    "    '''.venv/bin/python -m ehrqc.qc.Plot \"vitals_explore\" \"data/icd_cohort_test/vitals_last_icd_imputed.csv\" \"data/icd_cohort_test/imputed/vitals_last_icd_explore.html\"'''\n",
    "    )"
   ]
  },
  {
   "cell_type": "markdown",
   "metadata": {},
   "source": [
    "### Generate anomaly graphs for vitals"
   ]
  },
  {
   "cell_type": "markdown",
   "metadata": {},
   "source": [
    "#### Vitals anomaly graphs for minimum values"
   ]
  },
  {
   "cell_type": "code",
   "execution_count": 24,
   "metadata": {},
   "outputs": [
    {
     "name": "stdout",
     "output_type": "stream",
     "text": [
      "2023-09-14 08:34:38,364 - Anomalies - INFO - Parsing command line arguments\n",
      "2023-09-14 08:34:38,366 - Anomalies - INFO - Start!!\n",
      "2023-09-14 08:34:38,366 - Anomalies - INFO - args.source_path: data/icd_cohort_test/vitals_min_icd_imputed.csv\n",
      "2023-09-14 08:34:38,366 - Anomalies - INFO - args.save_path: data/icd_cohort_test/imputed/\n",
      "2023-09-14 08:34:38,366 - Anomalies - INFO - args.save_prefix: vitals_min_icd\n",
      "2023-09-14 08:34:38,366 - Anomalies - INFO - args.detect_missing: True\n",
      "2023-09-14 08:34:38,367 - Anomalies - INFO - args.detect_outliers: True\n",
      "2023-09-14 08:34:38,367 - Anomalies - INFO - args.detect_errors: True\n",
      "2023-09-14 08:34:38,367 - Anomalies - INFO - args.detect_inconsistencies: True\n",
      "2023-09-14 08:34:38,367 - Anomalies - INFO - args.correct_missing: False\n",
      "2023-09-14 08:34:38,367 - Anomalies - INFO - args.correct_outliers: False\n",
      "2023-09-14 08:36:05,450 - Anomalies - INFO - Done!!\n"
     ]
    },
    {
     "data": {
      "text/plain": [
       "0"
      ]
     },
     "execution_count": 24,
     "metadata": {},
     "output_type": "execute_result"
    }
   ],
   "source": [
    "import os\n",
    "\n",
    "os.system(\n",
    "    '''cd /superbugai-data/yash/chapter_1/workspace/EHRQC;'''\n",
    "    +\n",
    "    '''.venv/bin/python -m ehrqc.qc.Anomalies 'data/icd_cohort_test/vitals_min_icd_imputed.csv' 'data/icd_cohort_test/imputed/' 'vitals_min_icd' -dm -do -de -di'''\n",
    "    )"
   ]
  },
  {
   "cell_type": "markdown",
   "metadata": {},
   "source": [
    "#### Vitals anomaly graphs for maximum values"
   ]
  },
  {
   "cell_type": "code",
   "execution_count": 25,
   "metadata": {},
   "outputs": [
    {
     "name": "stdout",
     "output_type": "stream",
     "text": [
      "2023-09-14 08:36:07,524 - Anomalies - INFO - Parsing command line arguments\n",
      "2023-09-14 08:36:07,525 - Anomalies - INFO - Start!!\n",
      "2023-09-14 08:36:07,526 - Anomalies - INFO - args.source_path: data/icd_cohort_test/vitals_max_icd_imputed.csv\n",
      "2023-09-14 08:36:07,526 - Anomalies - INFO - args.save_path: data/icd_cohort_test/imputed/\n",
      "2023-09-14 08:36:07,526 - Anomalies - INFO - args.save_prefix: vitals_max_icd\n",
      "2023-09-14 08:36:07,526 - Anomalies - INFO - args.detect_missing: True\n",
      "2023-09-14 08:36:07,526 - Anomalies - INFO - args.detect_outliers: True\n",
      "2023-09-14 08:36:07,526 - Anomalies - INFO - args.detect_errors: True\n",
      "2023-09-14 08:36:07,526 - Anomalies - INFO - args.detect_inconsistencies: True\n",
      "2023-09-14 08:36:07,526 - Anomalies - INFO - args.correct_missing: False\n",
      "2023-09-14 08:36:07,526 - Anomalies - INFO - args.correct_outliers: False\n"
     ]
    }
   ],
   "source": [
    "import os\n",
    "\n",
    "os.system(\n",
    "    '''cd /superbugai-data/yash/chapter_1/workspace/EHRQC;'''\n",
    "    +\n",
    "    '''.venv/bin/python -m ehrqc.qc.Anomalies 'data/icd_cohort_test/vitals_max_icd_imputed.csv' 'data/icd_cohort_test/imputed/' 'vitals_max_icd' -dm -do -de -di'''\n",
    "    )"
   ]
  },
  {
   "cell_type": "markdown",
   "metadata": {},
   "source": [
    "#### Vitals anomaly graphs for average values"
   ]
  },
  {
   "cell_type": "code",
   "execution_count": null,
   "metadata": {},
   "outputs": [
    {
     "name": "stdout",
     "output_type": "stream",
     "text": [
      "2023-09-13 15:01:44,413 - Anomalies - INFO - Parsing command line arguments\n",
      "2023-09-13 15:01:44,414 - Anomalies - INFO - Start!!\n",
      "2023-09-13 15:01:44,414 - Anomalies - INFO - args.source_path: data/icd_cohort_test/vitals_avg_icd.csv\n",
      "2023-09-13 15:01:44,414 - Anomalies - INFO - args.save_path: data/icd_cohort_test/coverage_correction/\n",
      "2023-09-13 15:01:44,414 - Anomalies - INFO - args.save_prefix: vitals_avg_icd\n",
      "2023-09-13 15:01:44,414 - Anomalies - INFO - args.detect_missing: True\n",
      "2023-09-13 15:01:44,414 - Anomalies - INFO - args.detect_outliers: True\n",
      "2023-09-13 15:01:44,414 - Anomalies - INFO - args.detect_errors: True\n",
      "2023-09-13 15:01:44,414 - Anomalies - INFO - args.detect_inconsistencies: True\n",
      "2023-09-13 15:01:44,414 - Anomalies - INFO - args.correct_missing: False\n",
      "2023-09-13 15:01:44,414 - Anomalies - INFO - args.correct_outliers: False\n",
      "2023-09-13 15:01:47,009 - Anomalies - INFO - Done!!\n"
     ]
    },
    {
     "data": {
      "text/plain": [
       "0"
      ]
     },
     "execution_count": 18,
     "metadata": {},
     "output_type": "execute_result"
    }
   ],
   "source": [
    "import os\n",
    "\n",
    "os.system(\n",
    "    '''cd /superbugai-data/yash/chapter_1/workspace/EHRQC;'''\n",
    "    +\n",
    "    '''.venv/bin/python -m ehrqc.qc.Anomalies 'data/icd_cohort_test/vitals_avg_icd_imputed.csv' 'data/icd_cohort_test/imputed/' 'vitals_avg_icd' -dm -do -de -di'''\n",
    "    )"
   ]
  },
  {
   "cell_type": "markdown",
   "metadata": {},
   "source": [
    "#### Vitals anomaly graphs for standard deviation values"
   ]
  },
  {
   "cell_type": "code",
   "execution_count": null,
   "metadata": {},
   "outputs": [
    {
     "name": "stdout",
     "output_type": "stream",
     "text": [
      "2023-09-13 15:01:48,880 - Anomalies - INFO - Parsing command line arguments\n",
      "2023-09-13 15:01:48,881 - Anomalies - INFO - Start!!\n",
      "2023-09-13 15:01:48,881 - Anomalies - INFO - args.source_path: data/icd_cohort_test/vitals_stddev_icd.csv\n",
      "2023-09-13 15:01:48,881 - Anomalies - INFO - args.save_path: data/icd_cohort_test/coverage_correction/\n",
      "2023-09-13 15:01:48,881 - Anomalies - INFO - args.save_prefix: vitals_stddev_icd\n",
      "2023-09-13 15:01:48,881 - Anomalies - INFO - args.detect_missing: True\n",
      "2023-09-13 15:01:48,881 - Anomalies - INFO - args.detect_outliers: True\n",
      "2023-09-13 15:01:48,882 - Anomalies - INFO - args.detect_errors: True\n",
      "2023-09-13 15:01:48,882 - Anomalies - INFO - args.detect_inconsistencies: True\n",
      "2023-09-13 15:01:48,882 - Anomalies - INFO - args.correct_missing: False\n",
      "2023-09-13 15:01:48,882 - Anomalies - INFO - args.correct_outliers: False\n",
      "2023-09-13 15:01:51,450 - Anomalies - INFO - Done!!\n"
     ]
    },
    {
     "data": {
      "text/plain": [
       "0"
      ]
     },
     "execution_count": 19,
     "metadata": {},
     "output_type": "execute_result"
    }
   ],
   "source": [
    "import os\n",
    "\n",
    "os.system(\n",
    "    '''cd /superbugai-data/yash/chapter_1/workspace/EHRQC;'''\n",
    "    +\n",
    "    '''.venv/bin/python -m ehrqc.qc.Anomalies 'data/icd_cohort_test/vitals_stddev_icd_imputed.csv' 'data/icd_cohort_test/imputed/' 'vitals_stddev_icd' -dm -do -de -di'''\n",
    "    )"
   ]
  },
  {
   "cell_type": "markdown",
   "metadata": {},
   "source": [
    "#### Vitals anomaly graphs for first values"
   ]
  },
  {
   "cell_type": "code",
   "execution_count": null,
   "metadata": {},
   "outputs": [
    {
     "name": "stdout",
     "output_type": "stream",
     "text": [
      "2023-09-13 15:01:53,525 - Anomalies - INFO - Parsing command line arguments\n",
      "2023-09-13 15:01:53,527 - Anomalies - INFO - Start!!\n",
      "2023-09-13 15:01:53,527 - Anomalies - INFO - args.source_path: data/icd_cohort_test/vitals_first_icd.csv\n",
      "2023-09-13 15:01:53,527 - Anomalies - INFO - args.save_path: data/icd_cohort_test/coverage_correction/\n",
      "2023-09-13 15:01:53,527 - Anomalies - INFO - args.save_prefix: vitals_first_icd\n",
      "2023-09-13 15:01:53,527 - Anomalies - INFO - args.detect_missing: True\n",
      "2023-09-13 15:01:53,527 - Anomalies - INFO - args.detect_outliers: True\n",
      "2023-09-13 15:01:53,527 - Anomalies - INFO - args.detect_errors: True\n",
      "2023-09-13 15:01:53,527 - Anomalies - INFO - args.detect_inconsistencies: True\n",
      "2023-09-13 15:01:53,527 - Anomalies - INFO - args.correct_missing: False\n",
      "2023-09-13 15:01:53,527 - Anomalies - INFO - args.correct_outliers: False\n",
      "2023-09-13 15:01:56,285 - Anomalies - INFO - Done!!\n"
     ]
    },
    {
     "data": {
      "text/plain": [
       "0"
      ]
     },
     "execution_count": 20,
     "metadata": {},
     "output_type": "execute_result"
    }
   ],
   "source": [
    "import os\n",
    "\n",
    "os.system(\n",
    "    '''cd /superbugai-data/yash/chapter_1/workspace/EHRQC;'''\n",
    "    +\n",
    "    '''.venv/bin/python -m ehrqc.qc.Anomalies 'data/icd_cohort_test/vitals_first_icd_imputed.csv' 'data/icd_cohort_test/imputed/' 'vitals_first_icd' -dm -do -de -di'''\n",
    "    )"
   ]
  },
  {
   "cell_type": "markdown",
   "metadata": {},
   "source": [
    "#### Vitals anomaly graphs for last values"
   ]
  },
  {
   "cell_type": "code",
   "execution_count": null,
   "metadata": {},
   "outputs": [
    {
     "name": "stdout",
     "output_type": "stream",
     "text": [
      "2023-09-13 15:01:58,531 - Anomalies - INFO - Parsing command line arguments\n",
      "2023-09-13 15:01:58,532 - Anomalies - INFO - Start!!\n",
      "2023-09-13 15:01:58,532 - Anomalies - INFO - args.source_path: data/icd_cohort_test/vitals_last_icd.csv\n",
      "2023-09-13 15:01:58,533 - Anomalies - INFO - args.save_path: data/icd_cohort_test/coverage_correction/\n",
      "2023-09-13 15:01:58,533 - Anomalies - INFO - args.save_prefix: vitals_last_icd\n",
      "2023-09-13 15:01:58,533 - Anomalies - INFO - args.detect_missing: True\n",
      "2023-09-13 15:01:58,533 - Anomalies - INFO - args.detect_outliers: True\n",
      "2023-09-13 15:01:58,533 - Anomalies - INFO - args.detect_errors: True\n",
      "2023-09-13 15:01:58,533 - Anomalies - INFO - args.detect_inconsistencies: True\n",
      "2023-09-13 15:01:58,533 - Anomalies - INFO - args.correct_missing: False\n",
      "2023-09-13 15:01:58,533 - Anomalies - INFO - args.correct_outliers: False\n",
      "2023-09-13 15:02:01,010 - Anomalies - INFO - Done!!\n"
     ]
    },
    {
     "data": {
      "text/plain": [
       "0"
      ]
     },
     "execution_count": 21,
     "metadata": {},
     "output_type": "execute_result"
    }
   ],
   "source": [
    "import os\n",
    "\n",
    "os.system(\n",
    "    '''cd /superbugai-data/yash/chapter_1/workspace/EHRQC;'''\n",
    "    +\n",
    "    '''.venv/bin/python -m ehrqc.qc.Anomalies 'data/icd_cohort_test/vitals_last_icd_imputed.csv' 'data/icd_cohort_test/imputed/' 'vitals_last_icd' -dm -do -de -di'''\n",
    "    )"
   ]
  },
  {
   "cell_type": "markdown",
   "metadata": {},
   "source": [
    "### Generate exploration graphs for lab measurements"
   ]
  },
  {
   "cell_type": "markdown",
   "metadata": {},
   "source": [
    "#### Lab measurements exploration graphs for minimum values"
   ]
  },
  {
   "cell_type": "code",
   "execution_count": null,
   "metadata": {},
   "outputs": [
    {
     "name": "stdout",
     "output_type": "stream",
     "text": [
      "2023-09-13 15:05:40,622 - EHRQC - INFO - Parsing command line arguments\n",
      "2023-09-13 15:05:40,623 - EHRQC - INFO - args.plot_type: lab_measurements_explore\n",
      "2023-09-13 15:05:40,623 - EHRQC - INFO - args.source_path: data/icd_cohort_test/lab_measurements_min_icd_dropped.csv\n",
      "2023-09-13 15:05:40,623 - EHRQC - INFO - args.save_path: data/icd_cohort_test/coverage_correction/lab_measurements_min_icd_explore.html\n",
      "2023-09-13 15:05:40,623 - EHRQC - INFO - args.column_mapping: None\n",
      "2023-09-13 15:05:40,623 - EHRQC - INFO - args.column_mapping: {}\n",
      "2023-09-13 15:05:40,635 - EHRQC - INFO - generating graphs\n"
     ]
    },
    {
     "name": "stderr",
     "output_type": "stream",
     "text": [
      "/superbugai-data/yash/chapter_1/workspace/EHRQC/.venv/lib/python3.9/site-packages/missingno/missingno.py:61: UserWarning: Plotting a sparkline on an existing axis is not currently supported. To remove this warning, set sparkline=False.\n",
      "  warnings.warn(\n"
     ]
    },
    {
     "name": "stdout",
     "output_type": "stream",
     "text": [
      "2023-09-13 15:05:41,819 - EHRQC - INFO - Done!!\n"
     ]
    },
    {
     "data": {
      "text/plain": [
       "0"
      ]
     },
     "execution_count": 34,
     "metadata": {},
     "output_type": "execute_result"
    }
   ],
   "source": [
    "import os\n",
    "\n",
    "os.system(\n",
    "    '''cd /superbugai-data/yash/chapter_1/workspace/EHRQC;'''\n",
    "    +\n",
    "    '''.venv/bin/python -m ehrqc.qc.Plot \"lab_measurements_explore\" \"data/icd_cohort_test/lab_measurements_min_icd_imputed.csv\" \"data/icd_cohort_test/imputed/lab_measurements_min_icd_explore.html\"'''\n",
    "    )"
   ]
  },
  {
   "cell_type": "markdown",
   "metadata": {},
   "source": [
    "#### Lab measurements exploration graphs for maximum values"
   ]
  },
  {
   "cell_type": "code",
   "execution_count": null,
   "metadata": {},
   "outputs": [
    {
     "name": "stdout",
     "output_type": "stream",
     "text": [
      "2023-09-13 15:05:43,703 - EHRQC - INFO - Parsing command line arguments\n",
      "2023-09-13 15:05:43,704 - EHRQC - INFO - args.plot_type: lab_measurements_explore\n",
      "2023-09-13 15:05:43,704 - EHRQC - INFO - args.source_path: data/icd_cohort_test/lab_measurements_max_icd_dropped.csv\n",
      "2023-09-13 15:05:43,704 - EHRQC - INFO - args.save_path: data/icd_cohort_test/coverage_correction/lab_measurements_max_icd_explore.html\n",
      "2023-09-13 15:05:43,704 - EHRQC - INFO - args.column_mapping: None\n",
      "2023-09-13 15:05:43,704 - EHRQC - INFO - args.column_mapping: {}\n",
      "2023-09-13 15:05:43,717 - EHRQC - INFO - generating graphs\n"
     ]
    },
    {
     "name": "stderr",
     "output_type": "stream",
     "text": [
      "/superbugai-data/yash/chapter_1/workspace/EHRQC/.venv/lib/python3.9/site-packages/missingno/missingno.py:61: UserWarning: Plotting a sparkline on an existing axis is not currently supported. To remove this warning, set sparkline=False.\n",
      "  warnings.warn(\n"
     ]
    },
    {
     "name": "stdout",
     "output_type": "stream",
     "text": [
      "2023-09-13 15:05:45,043 - EHRQC - INFO - Done!!\n"
     ]
    },
    {
     "data": {
      "text/plain": [
       "0"
      ]
     },
     "execution_count": 35,
     "metadata": {},
     "output_type": "execute_result"
    }
   ],
   "source": [
    "import os\n",
    "\n",
    "os.system(\n",
    "    '''cd /superbugai-data/yash/chapter_1/workspace/EHRQC;'''\n",
    "    +\n",
    "    '''.venv/bin/python -m ehrqc.qc.Plot \"lab_measurements_explore\" \"data/icd_cohort_test/lab_measurements_max_icd_imputed.csv\" \"data/icd_cohort_test/imputed/lab_measurements_max_icd_explore.html\"'''\n",
    "    )"
   ]
  },
  {
   "cell_type": "markdown",
   "metadata": {},
   "source": [
    "#### Lab measurements exploration graphs for average values"
   ]
  },
  {
   "cell_type": "code",
   "execution_count": null,
   "metadata": {},
   "outputs": [
    {
     "name": "stdout",
     "output_type": "stream",
     "text": [
      "2023-09-13 15:05:47,153 - EHRQC - INFO - Parsing command line arguments\n",
      "2023-09-13 15:05:47,154 - EHRQC - INFO - args.plot_type: lab_measurements_explore\n",
      "2023-09-13 15:05:47,154 - EHRQC - INFO - args.source_path: data/icd_cohort_test/lab_measurements_avg_icd_dropped.csv\n",
      "2023-09-13 15:05:47,154 - EHRQC - INFO - args.save_path: data/icd_cohort_test/coverage_correction/lab_measurements_avg_icd_explore.html\n",
      "2023-09-13 15:05:47,154 - EHRQC - INFO - args.column_mapping: None\n",
      "2023-09-13 15:05:47,154 - EHRQC - INFO - args.column_mapping: {}\n",
      "2023-09-13 15:05:47,172 - EHRQC - INFO - generating graphs\n"
     ]
    },
    {
     "name": "stderr",
     "output_type": "stream",
     "text": [
      "/superbugai-data/yash/chapter_1/workspace/EHRQC/.venv/lib/python3.9/site-packages/missingno/missingno.py:61: UserWarning: Plotting a sparkline on an existing axis is not currently supported. To remove this warning, set sparkline=False.\n",
      "  warnings.warn(\n"
     ]
    },
    {
     "name": "stdout",
     "output_type": "stream",
     "text": [
      "2023-09-13 15:05:48,492 - EHRQC - INFO - Done!!\n"
     ]
    },
    {
     "data": {
      "text/plain": [
       "0"
      ]
     },
     "execution_count": 36,
     "metadata": {},
     "output_type": "execute_result"
    }
   ],
   "source": [
    "import os\n",
    "\n",
    "os.system(\n",
    "    '''cd /superbugai-data/yash/chapter_1/workspace/EHRQC;'''\n",
    "    +\n",
    "    '''.venv/bin/python -m ehrqc.qc.Plot \"lab_measurements_explore\" \"data/icd_cohort_test/lab_measurements_avg_icd_imputed.csv\" \"data/icd_cohort_test/imputed/lab_measurements_avg_icd_explore.html\"'''\n",
    "    )"
   ]
  },
  {
   "cell_type": "markdown",
   "metadata": {},
   "source": [
    "#### Lab measurements exploration graphs for standard deviation values"
   ]
  },
  {
   "cell_type": "code",
   "execution_count": null,
   "metadata": {},
   "outputs": [
    {
     "name": "stdout",
     "output_type": "stream",
     "text": [
      "2023-09-13 15:05:50,319 - EHRQC - INFO - Parsing command line arguments\n",
      "2023-09-13 15:05:50,320 - EHRQC - INFO - args.plot_type: lab_measurements_explore\n",
      "2023-09-13 15:05:50,320 - EHRQC - INFO - args.source_path: data/icd_cohort_test/lab_measurements_stddev_icd_dropped.csv\n",
      "2023-09-13 15:05:50,320 - EHRQC - INFO - args.save_path: data/icd_cohort_test/coverage_correction/lab_measurements_stddev_icd_explore.html\n",
      "2023-09-13 15:05:50,320 - EHRQC - INFO - args.column_mapping: None\n",
      "2023-09-13 15:05:50,320 - EHRQC - INFO - args.column_mapping: {}\n",
      "2023-09-13 15:05:50,334 - EHRQC - INFO - generating graphs\n"
     ]
    },
    {
     "name": "stderr",
     "output_type": "stream",
     "text": [
      "/superbugai-data/yash/chapter_1/workspace/EHRQC/.venv/lib/python3.9/site-packages/missingno/missingno.py:61: UserWarning: Plotting a sparkline on an existing axis is not currently supported. To remove this warning, set sparkline=False.\n",
      "  warnings.warn(\n"
     ]
    },
    {
     "name": "stdout",
     "output_type": "stream",
     "text": [
      "2023-09-13 15:05:50,909 - EHRQC - INFO - Done!!\n"
     ]
    },
    {
     "data": {
      "text/plain": [
       "0"
      ]
     },
     "execution_count": 37,
     "metadata": {},
     "output_type": "execute_result"
    }
   ],
   "source": [
    "import os\n",
    "\n",
    "os.system(\n",
    "    '''cd /superbugai-data/yash/chapter_1/workspace/EHRQC;'''\n",
    "    +\n",
    "    '''.venv/bin/python -m ehrqc.qc.Plot \"lab_measurements_explore\" \"data/icd_cohort_test/lab_measurements_stddev_icd_imputed.csv\" \"data/icd_cohort_test/imputed/lab_measurements_stddev_icd_explore.html\"'''\n",
    "    )"
   ]
  },
  {
   "cell_type": "markdown",
   "metadata": {},
   "source": [
    "#### Lab measurements exploration graphs for first values"
   ]
  },
  {
   "cell_type": "code",
   "execution_count": null,
   "metadata": {},
   "outputs": [
    {
     "name": "stdout",
     "output_type": "stream",
     "text": [
      "2023-09-13 15:05:52,862 - EHRQC - INFO - Parsing command line arguments\n",
      "2023-09-13 15:05:52,863 - EHRQC - INFO - args.plot_type: lab_measurements_explore\n",
      "2023-09-13 15:05:52,863 - EHRQC - INFO - args.source_path: data/icd_cohort_test/lab_measurements_first_icd_dropped.csv\n",
      "2023-09-13 15:05:52,863 - EHRQC - INFO - args.save_path: data/icd_cohort_test/coverage_correction/lab_measurements_first_icd_explore.html\n",
      "2023-09-13 15:05:52,863 - EHRQC - INFO - args.column_mapping: None\n",
      "2023-09-13 15:05:52,863 - EHRQC - INFO - args.column_mapping: {}\n",
      "2023-09-13 15:05:52,876 - EHRQC - INFO - generating graphs\n"
     ]
    },
    {
     "name": "stderr",
     "output_type": "stream",
     "text": [
      "/superbugai-data/yash/chapter_1/workspace/EHRQC/.venv/lib/python3.9/site-packages/missingno/missingno.py:61: UserWarning: Plotting a sparkline on an existing axis is not currently supported. To remove this warning, set sparkline=False.\n",
      "  warnings.warn(\n"
     ]
    },
    {
     "name": "stdout",
     "output_type": "stream",
     "text": [
      "2023-09-13 15:05:54,172 - EHRQC - INFO - Done!!\n"
     ]
    },
    {
     "data": {
      "text/plain": [
       "0"
      ]
     },
     "execution_count": 38,
     "metadata": {},
     "output_type": "execute_result"
    }
   ],
   "source": [
    "import os\n",
    "\n",
    "os.system(\n",
    "    '''cd /superbugai-data/yash/chapter_1/workspace/EHRQC;'''\n",
    "    +\n",
    "    '''.venv/bin/python -m ehrqc.qc.Plot \"lab_measurements_explore\" \"data/icd_cohort_test/lab_measurements_first_icd_imputed.csv\" \"data/icd_cohort_test/imputed/lab_measurements_first_icd_explore.html\"'''\n",
    "    )"
   ]
  },
  {
   "cell_type": "markdown",
   "metadata": {},
   "source": [
    "#### Lab measurements exploration graphs for last values"
   ]
  },
  {
   "cell_type": "code",
   "execution_count": null,
   "metadata": {},
   "outputs": [
    {
     "name": "stdout",
     "output_type": "stream",
     "text": [
      "2023-09-13 15:30:12,207 - EHRQC - INFO - Parsing command line arguments\n",
      "2023-09-13 15:30:12,208 - EHRQC - INFO - args.plot_type: lab_measurements_explore\n",
      "2023-09-13 15:30:12,208 - EHRQC - INFO - args.source_path: data/icd_cohort_test/lab_measurements_last_icd_dropped.csv\n",
      "2023-09-13 15:30:12,208 - EHRQC - INFO - args.save_path: data/icd_cohort_test/coverage_correction/lab_measurements_last_icd_explore.html\n",
      "2023-09-13 15:30:12,209 - EHRQC - INFO - args.column_mapping: None\n",
      "2023-09-13 15:30:12,209 - EHRQC - INFO - args.column_mapping: {}\n",
      "2023-09-13 15:30:12,221 - EHRQC - INFO - generating graphs\n"
     ]
    },
    {
     "name": "stderr",
     "output_type": "stream",
     "text": [
      "/superbugai-data/yash/chapter_1/workspace/EHRQC/.venv/lib/python3.9/site-packages/missingno/missingno.py:61: UserWarning: Plotting a sparkline on an existing axis is not currently supported. To remove this warning, set sparkline=False.\n",
      "  warnings.warn(\n"
     ]
    },
    {
     "name": "stdout",
     "output_type": "stream",
     "text": [
      "2023-09-13 15:30:13,461 - EHRQC - INFO - Done!!\n"
     ]
    },
    {
     "data": {
      "text/plain": [
       "0"
      ]
     },
     "execution_count": 39,
     "metadata": {},
     "output_type": "execute_result"
    }
   ],
   "source": [
    "import os\n",
    "\n",
    "os.system(\n",
    "    '''cd /superbugai-data/yash/chapter_1/workspace/EHRQC;'''\n",
    "    +\n",
    "    '''.venv/bin/python -m ehrqc.qc.Plot \"lab_measurements_explore\" \"data/icd_cohort_test/lab_measurements_last_icd_imputed.csv\" \"data/icd_cohort_test/imputed/lab_measurements_last_icd_explore.html\"'''\n",
    "    )"
   ]
  },
  {
   "cell_type": "markdown",
   "metadata": {},
   "source": [
    "### Generate anomaly graphs for lab measurements"
   ]
  },
  {
   "cell_type": "markdown",
   "metadata": {},
   "source": [
    "#### Lab measurements anomaly graph for minimum values"
   ]
  },
  {
   "cell_type": "code",
   "execution_count": null,
   "metadata": {},
   "outputs": [
    {
     "name": "stdout",
     "output_type": "stream",
     "text": [
      "2023-09-13 15:02:15,726 - Anomalies - INFO - Parsing command line arguments\n",
      "2023-09-13 15:02:15,727 - Anomalies - INFO - Start!!\n",
      "2023-09-13 15:02:15,727 - Anomalies - INFO - args.source_path: data/icd_cohort_test/lab_measurements_min_icd_dropped.csv\n",
      "2023-09-13 15:02:15,728 - Anomalies - INFO - args.save_path: data/icd_cohort_test/coverage_correction/\n",
      "2023-09-13 15:02:15,728 - Anomalies - INFO - args.save_prefix: lab_measurements_min_icd\n",
      "2023-09-13 15:02:15,728 - Anomalies - INFO - args.detect_missing: True\n",
      "2023-09-13 15:02:15,728 - Anomalies - INFO - args.detect_outliers: True\n",
      "2023-09-13 15:02:15,728 - Anomalies - INFO - args.detect_errors: True\n",
      "2023-09-13 15:02:15,728 - Anomalies - INFO - args.detect_inconsistencies: True\n",
      "2023-09-13 15:02:15,728 - Anomalies - INFO - args.correct_missing: False\n",
      "2023-09-13 15:02:15,728 - Anomalies - INFO - args.correct_outliers: False\n",
      "2023-09-13 15:02:19,685 - Anomalies - INFO - Done!!\n"
     ]
    },
    {
     "data": {
      "text/plain": [
       "0"
      ]
     },
     "execution_count": 28,
     "metadata": {},
     "output_type": "execute_result"
    }
   ],
   "source": [
    "import os\n",
    "\n",
    "os.system(\n",
    "    '''cd /superbugai-data/yash/chapter_1/workspace/EHRQC;'''\n",
    "    +\n",
    "    '''.venv/bin/python -m ehrqc.qc.Anomalies 'data/icd_cohort_test/lab_measurements_min_icd_imputed.csv' 'data/icd_cohort_test/imputed/' 'lab_measurements_min_icd' -dm -do -de -di'''\n",
    "    )"
   ]
  },
  {
   "cell_type": "markdown",
   "metadata": {},
   "source": [
    "#### Lab measurements anomaly graph for maximum values"
   ]
  },
  {
   "cell_type": "code",
   "execution_count": null,
   "metadata": {},
   "outputs": [
    {
     "name": "stdout",
     "output_type": "stream",
     "text": [
      "2023-09-13 15:02:21,671 - Anomalies - INFO - Parsing command line arguments\n",
      "2023-09-13 15:02:21,672 - Anomalies - INFO - Start!!\n",
      "2023-09-13 15:02:21,673 - Anomalies - INFO - args.source_path: data/icd_cohort_test/lab_measurements_max_icd_dropped.csv\n",
      "2023-09-13 15:02:21,673 - Anomalies - INFO - args.save_path: data/icd_cohort_test/coverage_correction/\n",
      "2023-09-13 15:02:21,673 - Anomalies - INFO - args.save_prefix: lab_measurements_max_icd\n",
      "2023-09-13 15:02:21,673 - Anomalies - INFO - args.detect_missing: True\n",
      "2023-09-13 15:02:21,673 - Anomalies - INFO - args.detect_outliers: True\n",
      "2023-09-13 15:02:21,673 - Anomalies - INFO - args.detect_errors: True\n",
      "2023-09-13 15:02:21,673 - Anomalies - INFO - args.detect_inconsistencies: True\n",
      "2023-09-13 15:02:21,673 - Anomalies - INFO - args.correct_missing: False\n",
      "2023-09-13 15:02:21,673 - Anomalies - INFO - args.correct_outliers: False\n",
      "2023-09-13 15:02:25,658 - Anomalies - INFO - Done!!\n"
     ]
    },
    {
     "data": {
      "text/plain": [
       "0"
      ]
     },
     "execution_count": 29,
     "metadata": {},
     "output_type": "execute_result"
    }
   ],
   "source": [
    "import os\n",
    "\n",
    "os.system(\n",
    "    '''cd /superbugai-data/yash/chapter_1/workspace/EHRQC;'''\n",
    "    +\n",
    "    '''.venv/bin/python -m ehrqc.qc.Anomalies 'data/icd_cohort_test/lab_measurements_max_icd_imputed.csv' 'data/icd_cohort_test/imputed/' 'lab_measurements_max_icd' -dm -do -de -di'''\n",
    "    )"
   ]
  },
  {
   "cell_type": "markdown",
   "metadata": {},
   "source": [
    "#### Lab measurements anomaly graph for average values"
   ]
  },
  {
   "cell_type": "code",
   "execution_count": null,
   "metadata": {},
   "outputs": [
    {
     "name": "stdout",
     "output_type": "stream",
     "text": [
      "2023-09-13 15:02:27,625 - Anomalies - INFO - Parsing command line arguments\n",
      "2023-09-13 15:02:27,626 - Anomalies - INFO - Start!!\n",
      "2023-09-13 15:02:27,626 - Anomalies - INFO - args.source_path: data/icd_cohort_test/lab_measurements_avg_icd_dropped.csv\n",
      "2023-09-13 15:02:27,626 - Anomalies - INFO - args.save_path: data/icd_cohort_test/coverage_correction/\n",
      "2023-09-13 15:02:27,626 - Anomalies - INFO - args.save_prefix: lab_measurements_avg_icd\n",
      "2023-09-13 15:02:27,626 - Anomalies - INFO - args.detect_missing: True\n",
      "2023-09-13 15:02:27,626 - Anomalies - INFO - args.detect_outliers: True\n",
      "2023-09-13 15:02:27,626 - Anomalies - INFO - args.detect_errors: True\n",
      "2023-09-13 15:02:27,626 - Anomalies - INFO - args.detect_inconsistencies: True\n",
      "2023-09-13 15:02:27,627 - Anomalies - INFO - args.correct_missing: False\n",
      "2023-09-13 15:02:27,627 - Anomalies - INFO - args.correct_outliers: False\n",
      "2023-09-13 15:02:32,007 - Anomalies - INFO - Done!!\n"
     ]
    },
    {
     "data": {
      "text/plain": [
       "0"
      ]
     },
     "execution_count": 30,
     "metadata": {},
     "output_type": "execute_result"
    }
   ],
   "source": [
    "import os\n",
    "\n",
    "os.system(\n",
    "    '''cd /superbugai-data/yash/chapter_1/workspace/EHRQC;'''\n",
    "    +\n",
    "    '''.venv/bin/python -m ehrqc.qc.Anomalies 'data/icd_cohort_test/lab_measurements_avg_icd_imputed.csv' 'data/icd_cohort_test/imputed/' 'lab_measurements_avg_icd' -dm -do -de -di'''\n",
    "    )"
   ]
  },
  {
   "cell_type": "markdown",
   "metadata": {},
   "source": [
    "#### Lab measurements anomaly graph for standard deviation values"
   ]
  },
  {
   "cell_type": "code",
   "execution_count": null,
   "metadata": {},
   "outputs": [
    {
     "name": "stdout",
     "output_type": "stream",
     "text": [
      "2023-09-13 15:02:33,888 - Anomalies - INFO - Parsing command line arguments\n",
      "2023-09-13 15:02:33,889 - Anomalies - INFO - Start!!\n",
      "2023-09-13 15:02:33,889 - Anomalies - INFO - args.source_path: data/icd_cohort_test/lab_measurements_stddev_icd_dropped.csv\n",
      "2023-09-13 15:02:33,889 - Anomalies - INFO - args.save_path: data/icd_cohort_test/coverage_correction/\n",
      "2023-09-13 15:02:33,889 - Anomalies - INFO - args.save_prefix: lab_measurements_stddev_icd\n",
      "2023-09-13 15:02:33,889 - Anomalies - INFO - args.detect_missing: True\n",
      "2023-09-13 15:02:33,889 - Anomalies - INFO - args.detect_outliers: True\n",
      "2023-09-13 15:02:33,889 - Anomalies - INFO - args.detect_errors: True\n",
      "2023-09-13 15:02:33,889 - Anomalies - INFO - args.detect_inconsistencies: True\n",
      "2023-09-13 15:02:33,889 - Anomalies - INFO - args.correct_missing: False\n",
      "2023-09-13 15:02:33,889 - Anomalies - INFO - args.correct_outliers: False\n",
      "2023-09-13 15:02:35,828 - Anomalies - INFO - Done!!\n"
     ]
    },
    {
     "data": {
      "text/plain": [
       "0"
      ]
     },
     "execution_count": 31,
     "metadata": {},
     "output_type": "execute_result"
    }
   ],
   "source": [
    "import os\n",
    "\n",
    "os.system(\n",
    "    '''cd /superbugai-data/yash/chapter_1/workspace/EHRQC;'''\n",
    "    +\n",
    "    '''.venv/bin/python -m ehrqc.qc.Anomalies 'data/icd_cohort_test/lab_measurements_stddev_icd_imputed.csv' 'data/icd_cohort_test/imputed/' 'lab_measurements_stddev_icd' -dm -do -de -di'''\n",
    "    )"
   ]
  },
  {
   "cell_type": "markdown",
   "metadata": {},
   "source": [
    "#### Lab measurements anomaly graph for first values"
   ]
  },
  {
   "cell_type": "code",
   "execution_count": null,
   "metadata": {},
   "outputs": [
    {
     "name": "stdout",
     "output_type": "stream",
     "text": [
      "2023-09-13 15:02:37,622 - Anomalies - INFO - Parsing command line arguments\n",
      "2023-09-13 15:02:37,623 - Anomalies - INFO - Start!!\n",
      "2023-09-13 15:02:37,623 - Anomalies - INFO - args.source_path: data/icd_cohort_test/lab_measurements_first_icd_dropped.csv\n",
      "2023-09-13 15:02:37,623 - Anomalies - INFO - args.save_path: data/icd_cohort_test/coverage_correction/\n",
      "2023-09-13 15:02:37,623 - Anomalies - INFO - args.save_prefix: lab_measurements_first_icd\n",
      "2023-09-13 15:02:37,623 - Anomalies - INFO - args.detect_missing: True\n",
      "2023-09-13 15:02:37,623 - Anomalies - INFO - args.detect_outliers: True\n",
      "2023-09-13 15:02:37,623 - Anomalies - INFO - args.detect_errors: True\n",
      "2023-09-13 15:02:37,623 - Anomalies - INFO - args.detect_inconsistencies: True\n",
      "2023-09-13 15:02:37,623 - Anomalies - INFO - args.correct_missing: False\n",
      "2023-09-13 15:02:37,623 - Anomalies - INFO - args.correct_outliers: False\n",
      "2023-09-13 15:02:41,638 - Anomalies - INFO - Done!!\n"
     ]
    },
    {
     "data": {
      "text/plain": [
       "0"
      ]
     },
     "execution_count": 32,
     "metadata": {},
     "output_type": "execute_result"
    }
   ],
   "source": [
    "import os\n",
    "\n",
    "os.system(\n",
    "    '''cd /superbugai-data/yash/chapter_1/workspace/EHRQC;'''\n",
    "    +\n",
    "    '''.venv/bin/python -m ehrqc.qc.Anomalies 'data/icd_cohort_test/lab_measurements_first_icd_imputed.csv' 'data/icd_cohort_test/imputed/' 'lab_measurements_first_icd' -dm -do -de -di'''\n",
    "    )"
   ]
  },
  {
   "cell_type": "markdown",
   "metadata": {},
   "source": [
    "#### Lab measurements anomaly graph for last values"
   ]
  },
  {
   "cell_type": "code",
   "execution_count": null,
   "metadata": {},
   "outputs": [
    {
     "name": "stdout",
     "output_type": "stream",
     "text": [
      "2023-09-13 15:02:43,467 - Anomalies - INFO - Parsing command line arguments\n",
      "2023-09-13 15:02:43,468 - Anomalies - INFO - Start!!\n",
      "2023-09-13 15:02:43,468 - Anomalies - INFO - args.source_path: data/icd_cohort_test/lab_measurements_last_icd_dropped.csv\n",
      "2023-09-13 15:02:43,468 - Anomalies - INFO - args.save_path: data/icd_cohort_test/coverage_correction/\n",
      "2023-09-13 15:02:43,468 - Anomalies - INFO - args.save_prefix: lab_measurements_last_icd\n",
      "2023-09-13 15:02:43,468 - Anomalies - INFO - args.detect_missing: True\n",
      "2023-09-13 15:02:43,468 - Anomalies - INFO - args.detect_outliers: True\n",
      "2023-09-13 15:02:43,468 - Anomalies - INFO - args.detect_errors: True\n",
      "2023-09-13 15:02:43,468 - Anomalies - INFO - args.detect_inconsistencies: True\n",
      "2023-09-13 15:02:43,468 - Anomalies - INFO - args.correct_missing: False\n",
      "2023-09-13 15:02:43,468 - Anomalies - INFO - args.correct_outliers: False\n",
      "2023-09-13 15:02:47,613 - Anomalies - INFO - Done!!\n"
     ]
    },
    {
     "data": {
      "text/plain": [
       "0"
      ]
     },
     "execution_count": 33,
     "metadata": {},
     "output_type": "execute_result"
    }
   ],
   "source": [
    "import os\n",
    "\n",
    "os.system(\n",
    "    '''cd /superbugai-data/yash/chapter_1/workspace/EHRQC;'''\n",
    "    +\n",
    "    '''.venv/bin/python -m ehrqc.qc.Anomalies 'data/icd_cohort_test/lab_measurements_last_icd_imputed.csv' 'data/icd_cohort_test/imputed/' 'lab_measurements_last_icd' -dm -do -de -di'''\n",
    "    )"
   ]
  },
  {
   "cell_type": "markdown",
   "metadata": {},
   "source": [
    "## Conclusion"
   ]
  },
  {
   "cell_type": "markdown",
   "metadata": {},
   "source": []
  }
 ],
 "metadata": {
  "kernelspec": {
   "display_name": ".venv",
   "language": "python",
   "name": "python3"
  },
  "language_info": {
   "codemirror_mode": {
    "name": "ipython",
    "version": 3
   },
   "file_extension": ".py",
   "mimetype": "text/x-python",
   "name": "python",
   "nbconvert_exporter": "python",
   "pygments_lexer": "ipython3",
   "version": "3.9.5"
  },
  "orig_nbformat": 4
 },
 "nbformat": 4,
 "nbformat_minor": 2
}
