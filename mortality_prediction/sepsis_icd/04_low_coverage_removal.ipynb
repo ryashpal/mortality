{
 "cells": [
  {
   "cell_type": "markdown",
   "metadata": {},
   "source": [
    "# Removing the attributes with very low coverage"
   ]
  },
  {
   "cell_type": "markdown",
   "metadata": {},
   "source": [
    "## Removing attributes where majority of the values are missing (> 50 %)"
   ]
  },
  {
   "cell_type": "code",
   "execution_count": 13,
   "metadata": {},
   "outputs": [
    {
     "name": "stdout",
     "output_type": "stream",
     "text": [
      "2023-09-13 13:44:50,607 - Anomalies - INFO - Parsing command line arguments\n",
      "2023-09-13 13:44:50,608 - Anomalies - INFO - Start!!\n",
      "2023-09-13 13:44:50,608 - Anomalies - INFO - args.source_file: data/icd_cohort_test/lab_measurements_min_icd.csv\n",
      "2023-09-13 13:44:50,608 - Anomalies - INFO - args.chunksize: 100\n",
      "2023-09-13 13:44:50,608 - Anomalies - INFO - args.id_columns: ['person_id']\n",
      "2023-09-13 13:44:50,608 - Anomalies - INFO - args.drop: True\n",
      "2023-09-13 13:44:50,608 - Anomalies - INFO - args.percentage: 50.0\n",
      "2023-09-13 13:44:50,608 - Anomalies - INFO - args.save_path: data/icd_cohort_test\n",
      "2023-09-13 13:44:50,608 - Anomalies - INFO - Calculating Missingnes\n",
      "2023-09-13 13:44:51,240 - Anomalies - INFO - Missingness Report\n",
      "2023-09-13 13:44:51,244 - Anomalies - INFO - \n",
      "\n",
      "                column_name  missing_count  total_count  percentage_missing\n",
      "0                   albumin           4400         9923               44.34\n",
      "1                 anion_gap           2374         9923               23.92\n",
      "2                      aptt           3145         9923               31.69\n",
      "3     band_form_neutrophils           6930         9923               69.84\n",
      "4      base_excess_in_blood           5560         9923               56.03\n",
      "5               bicarbonate             51         9923                0.51\n",
      "6                 bilirubin           3613         9923               36.41\n",
      "7       carbondioxide_blood           5555         9923               55.98\n",
      "8       carbondioxide_serum           5553         9923               55.96\n",
      "9            chloride_blood           8677         9923               87.44\n",
      "10           chloride_serum             53         9923                0.53\n",
      "11               creatinine             40         9923                0.40\n",
      "12            glucose_serum             68         9923                0.69\n",
      "13            glucose_urine           9106         9923               91.77\n",
      "14               hematocrit           2359         9923               23.77\n",
      "15               hemoglobin             51         9923                0.51\n",
      "16                      inr           3073         9923               30.97\n",
      "17                  lactate           3293         9923               33.19\n",
      "18    leukocytes_blood_auto           9839         9923               99.15\n",
      "19  leukocytes_blood_manual           2369         9923               23.87\n",
      "20                   oxygen           5556         9923               55.99\n",
      "21                 ph_blood           5373         9923               54.15\n",
      "22             ph_bodyfluid           9801         9923               98.77\n",
      "23           platelet_count           2358         9923               23.76\n",
      "24          potassium_blood           7461         9923               75.19\n",
      "25          potassium_serum             44         9923                0.44\n",
      "26             sodium_blood           8439         9923               85.04\n",
      "27             sodium_serum             46         9923                0.46\n",
      "28            urea_nitrogen           2364         9923               23.82\n",
      "\n",
      "2023-09-13 13:44:51,244 - Anomalies - INFO - Dropping columns with above 50.0 % missingness\n",
      "2023-09-13 13:44:51,324 - Anomalies - INFO - Saving data to lab_measurements_min_icd_dropped.csv\n",
      "2023-09-13 13:44:51,440 - Anomalies - INFO - Done!!\n"
     ]
    },
    {
     "data": {
      "text/plain": [
       "0"
      ]
     },
     "execution_count": 13,
     "metadata": {},
     "output_type": "execute_result"
    }
   ],
   "source": [
    "import os\n",
    "\n",
    "os.system(\n",
    "    '''cd /superbugai-data/yash/chapter_1/workspace/EHRQC;'''\n",
    "    +\n",
    "    '''.venv/bin/python -m ehrqc.qc.Coverage data/icd_cohort_test/lab_measurements_min_icd.csv 100 person_id -d -p 50 -sp data/icd_cohort_test'''\n",
    "    )"
   ]
  },
  {
   "cell_type": "markdown",
   "metadata": {},
   "source": [
    "## Coverage report of remaining attributes"
   ]
  },
  {
   "cell_type": "code",
   "execution_count": 14,
   "metadata": {},
   "outputs": [
    {
     "name": "stdout",
     "output_type": "stream",
     "text": [
      "2023-09-13 13:45:11,139 - Anomalies - INFO - Parsing command line arguments\n",
      "2023-09-13 13:45:11,141 - Anomalies - INFO - Start!!\n",
      "2023-09-13 13:45:11,141 - Anomalies - INFO - args.source_file: data/icd_cohort_test/lab_measurements_min_icd_dropped.csv\n",
      "2023-09-13 13:45:11,141 - Anomalies - INFO - args.chunksize: 1\n",
      "2023-09-13 13:45:11,141 - Anomalies - INFO - args.id_columns: ['person_id']\n",
      "2023-09-13 13:45:11,141 - Anomalies - INFO - args.drop: False\n",
      "2023-09-13 13:45:11,141 - Anomalies - INFO - args.percentage: 50\n",
      "2023-09-13 13:45:11,141 - Anomalies - INFO - args.save_path: .\n",
      "2023-09-13 13:45:11,141 - Anomalies - INFO - Calculating Missingnes\n",
      "2023-09-13 13:45:55,429 - Anomalies - INFO - Missingness Report\n",
      "2023-09-13 13:45:55,449 - Anomalies - INFO - \n",
      "\n",
      "                column_name  missing_count  total_count  percentage_missing\n",
      "0                   albumin           4400         9923               44.34\n",
      "1                 anion_gap           2374         9923               23.92\n",
      "2                      aptt           3145         9923               31.69\n",
      "3               bicarbonate             51         9923                0.51\n",
      "4                 bilirubin           3613         9923               36.41\n",
      "5            chloride_serum             53         9923                0.53\n",
      "6                creatinine             40         9923                0.40\n",
      "7             glucose_serum             68         9923                0.69\n",
      "8                hematocrit           2359         9923               23.77\n",
      "9                hemoglobin             51         9923                0.51\n",
      "10                      inr           3073         9923               30.97\n",
      "11                  lactate           3293         9923               33.19\n",
      "12  leukocytes_blood_manual           2369         9923               23.87\n",
      "13           platelet_count           2358         9923               23.76\n",
      "14          potassium_serum             44         9923                0.44\n",
      "15             sodium_serum             46         9923                0.46\n",
      "16            urea_nitrogen           2364         9923               23.82\n",
      "\n",
      "2023-09-13 13:45:55,575 - Anomalies - INFO - Done!!\n"
     ]
    },
    {
     "data": {
      "text/plain": [
       "0"
      ]
     },
     "execution_count": 14,
     "metadata": {},
     "output_type": "execute_result"
    }
   ],
   "source": [
    "import os\n",
    "\n",
    "os.system(\n",
    "    '''cd /superbugai-data/yash/chapter_1/workspace/EHRQC;'''\n",
    "    +\n",
    "    '''.venv/bin/python -m ehrqc.qc.Coverage data/icd_cohort_test/lab_measurements_min_icd_dropped.csv 1 person_id'''\n",
    "    )"
   ]
  },
  {
   "cell_type": "markdown",
   "metadata": {},
   "source": [
    "## Missing data imputation analysis for various missingness"
   ]
  },
  {
   "cell_type": "markdown",
   "metadata": {},
   "source": [
    "### Missing data imputation at 10 % missingness"
   ]
  },
  {
   "cell_type": "code",
   "execution_count": 1,
   "metadata": {},
   "outputs": [
    {
     "name": "stdout",
     "output_type": "stream",
     "text": [
      "2023-09-13 13:47:29,523 - EHRQC - INFO - Parsing command line arguments\n",
      "2023-09-13 13:47:29,524 - EHRQC - INFO - args.action: compare\n",
      "2023-09-13 13:47:29,524 - EHRQC - INFO - args.source_path: data/icd_cohort_test/lab_measurements_min_icd_dropped.csv\n",
      "2023-09-13 13:47:29,524 - EHRQC - INFO - args.percentage: ['0.1']\n",
      "2023-09-13 13:47:29,524 - EHRQC - INFO - args.save_path: i\n",
      "2023-09-13 13:47:29,524 - EHRQC - INFO - args.algorithm: m\n",
      "2023-09-13 13:47:29,543 - EHRQC - INFO - Creating missingness with proportion p = (0.1)\n",
      "2023-09-13 13:47:29,543 - EHRQC - INFO - Data size before dropping nulls: (9923, 18)\n",
      "2023-09-13 13:47:29,545 - EHRQC - INFO - Data size after dropping nulls: (4582, 18)\n",
      "2023-09-13 13:47:29,549 - EHRQC - INFO - Running mean imputation\n",
      "2023-09-13 13:47:29,557 - EHRQC - INFO - Mean imputation R2 score: 0.8976976706826721\n",
      "2023-09-13 13:47:29,557 - EHRQC - INFO - Running median imputation\n",
      "2023-09-13 13:47:29,573 - EHRQC - INFO - Median imputation R2 score: 0.894852952288838\n",
      "2023-09-13 13:47:29,573 - EHRQC - INFO - Running KNN imputation\n",
      "2023-09-13 13:47:30,747 - EHRQC - INFO - KNN imputation R2 score: 0.8932472994256035\n",
      "2023-09-13 13:47:30,747 - EHRQC - INFO - Running MissForest imputation\n",
      "Iteration: 0\n",
      "Iteration: 1\n",
      "Iteration: 2\n",
      "Iteration: 3\n",
      "Iteration: 4\n",
      "Iteration: 5\n",
      "2023-09-13 13:48:24,873 - EHRQC - INFO - MissForest imputation R2 score: 0.9379786800625731\n",
      "2023-09-13 13:48:24,873 - EHRQC - INFO - Running EM imputation\n",
      "2023-09-13 13:48:31,162 - EHRQC - INFO - EM imputation R2 score: 0.8061009799060408\n",
      "2023-09-13 13:48:31,163 - EHRQC - INFO - Running MI imputation\n",
      "2023-09-13 13:49:04,391 - EHRQC - INFO - MI imputation R2 score: 0.9021563508740574\n",
      "2023-09-13 13:49:04,407 - EHRQC - INFO - mean R2: 0.8976976706826721, median R2: 0.894852952288838, knn R2: 0.8932472994256035, mf R2: 0.9379786800625731, em R2: 0.8061009799060408, mi R2: 0.9021563508740574\n",
      "2023-09-13 13:49:04,407 - EHRQC - INFO - Done!!\n"
     ]
    },
    {
     "data": {
      "text/plain": [
       "0"
      ]
     },
     "execution_count": 1,
     "metadata": {},
     "output_type": "execute_result"
    }
   ],
   "source": [
    "import os\n",
    "\n",
    "os.system(\n",
    "    '''cd /superbugai-data/yash/chapter_1/workspace/EHRQC;'''\n",
    "    +\n",
    "    '''.venv/bin/python -m ehrqc.qc.Impute 'compare' data/icd_cohort_test/lab_measurements_min_icd_dropped.csv -p 0.1'''\n",
    "    )"
   ]
  },
  {
   "cell_type": "markdown",
   "metadata": {},
   "source": [
    "### Missing data imputation at 20 % missingness"
   ]
  },
  {
   "cell_type": "code",
   "execution_count": 2,
   "metadata": {},
   "outputs": [
    {
     "name": "stdout",
     "output_type": "stream",
     "text": [
      "2023-09-13 13:51:38,902 - EHRQC - INFO - Parsing command line arguments\n",
      "2023-09-13 13:51:38,903 - EHRQC - INFO - args.action: compare\n",
      "2023-09-13 13:51:38,903 - EHRQC - INFO - args.source_path: data/icd_cohort_test/lab_measurements_min_icd_dropped.csv\n",
      "2023-09-13 13:51:38,903 - EHRQC - INFO - args.percentage: ['0.20']\n",
      "2023-09-13 13:51:38,903 - EHRQC - INFO - args.save_path: i\n",
      "2023-09-13 13:51:38,903 - EHRQC - INFO - args.algorithm: m\n",
      "2023-09-13 13:51:38,919 - EHRQC - INFO - Creating missingness with proportion p = (0.2)\n",
      "2023-09-13 13:51:38,919 - EHRQC - INFO - Data size before dropping nulls: (9923, 18)\n",
      "2023-09-13 13:51:38,921 - EHRQC - INFO - Data size after dropping nulls: (4582, 18)\n",
      "2023-09-13 13:51:38,924 - EHRQC - INFO - Running mean imputation\n",
      "2023-09-13 13:51:38,932 - EHRQC - INFO - Mean imputation R2 score: 0.7996128310341645\n",
      "2023-09-13 13:51:38,932 - EHRQC - INFO - Running median imputation\n",
      "2023-09-13 13:51:38,945 - EHRQC - INFO - Median imputation R2 score: 0.792587816520598\n",
      "2023-09-13 13:51:38,945 - EHRQC - INFO - Running KNN imputation\n",
      "2023-09-13 13:51:40,766 - EHRQC - INFO - KNN imputation R2 score: 0.7884612135597324\n",
      "2023-09-13 13:51:40,766 - EHRQC - INFO - Running MissForest imputation\n",
      "Iteration: 0\n",
      "Iteration: 1\n",
      "Iteration: 2\n",
      "Iteration: 3\n",
      "Iteration: 4\n",
      "2023-09-13 13:52:24,760 - EHRQC - INFO - MissForest imputation R2 score: 0.8621928806000648\n",
      "2023-09-13 13:52:24,760 - EHRQC - INFO - Running EM imputation\n",
      "2023-09-13 13:52:38,602 - EHRQC - INFO - EM imputation R2 score: 0.616569913025236\n",
      "2023-09-13 13:52:38,602 - EHRQC - INFO - Running MI imputation\n",
      "2023-09-13 13:53:12,314 - EHRQC - INFO - MI imputation R2 score: 0.7747921676395456\n",
      "2023-09-13 13:53:12,330 - EHRQC - INFO - mean R2: 0.7996128310341645, median R2: 0.792587816520598, knn R2: 0.7884612135597324, mf R2: 0.8621928806000648, em R2: 0.616569913025236, mi R2: 0.7747921676395456\n",
      "2023-09-13 13:53:12,330 - EHRQC - INFO - Done!!\n"
     ]
    },
    {
     "data": {
      "text/plain": [
       "0"
      ]
     },
     "execution_count": 2,
     "metadata": {},
     "output_type": "execute_result"
    }
   ],
   "source": [
    "import os\n",
    "\n",
    "os.system(\n",
    "    '''cd /superbugai-data/yash/chapter_1/workspace/EHRQC;'''\n",
    "    +\n",
    "    '''.venv/bin/python -m ehrqc.qc.Impute 'compare' data/icd_cohort_test/lab_measurements_min_icd_dropped.csv -p 0.20'''\n",
    "    )"
   ]
  },
  {
   "cell_type": "markdown",
   "metadata": {},
   "source": [
    "### Missing data imputation at 30 % missingness"
   ]
  },
  {
   "cell_type": "code",
   "execution_count": 3,
   "metadata": {},
   "outputs": [
    {
     "name": "stdout",
     "output_type": "stream",
     "text": [
      "2023-09-13 13:53:44,005 - EHRQC - INFO - Parsing command line arguments\n",
      "2023-09-13 13:53:44,006 - EHRQC - INFO - args.action: compare\n",
      "2023-09-13 13:53:44,006 - EHRQC - INFO - args.source_path: data/icd_cohort_test/lab_measurements_min_icd_dropped.csv\n",
      "2023-09-13 13:53:44,006 - EHRQC - INFO - args.percentage: ['0.30']\n",
      "2023-09-13 13:53:44,006 - EHRQC - INFO - args.save_path: i\n",
      "2023-09-13 13:53:44,006 - EHRQC - INFO - args.algorithm: m\n",
      "2023-09-13 13:53:44,022 - EHRQC - INFO - Creating missingness with proportion p = (0.3)\n",
      "2023-09-13 13:53:44,022 - EHRQC - INFO - Data size before dropping nulls: (9923, 18)\n",
      "2023-09-13 13:53:44,023 - EHRQC - INFO - Data size after dropping nulls: (4582, 18)\n",
      "2023-09-13 13:53:44,027 - EHRQC - INFO - Running mean imputation\n",
      "2023-09-13 13:53:44,035 - EHRQC - INFO - Mean imputation R2 score: 0.7016091012106799\n",
      "2023-09-13 13:53:44,035 - EHRQC - INFO - Running median imputation\n",
      "2023-09-13 13:53:44,048 - EHRQC - INFO - Median imputation R2 score: 0.6916460960879882\n",
      "2023-09-13 13:53:44,049 - EHRQC - INFO - Running KNN imputation\n",
      "2023-09-13 13:53:46,459 - EHRQC - INFO - KNN imputation R2 score: 0.6739645793698211\n",
      "2023-09-13 13:53:46,459 - EHRQC - INFO - Running MissForest imputation\n",
      "Iteration: 0\n",
      "Iteration: 1\n",
      "2023-09-13 13:54:02,158 - EHRQC - INFO - MissForest imputation R2 score: 0.7829459413065741\n",
      "2023-09-13 13:54:02,158 - EHRQC - INFO - Running EM imputation\n",
      "2023-09-13 13:54:22,284 - EHRQC - INFO - EM imputation R2 score: 0.4215405164254821\n",
      "2023-09-13 13:54:22,284 - EHRQC - INFO - Running MI imputation\n",
      "2023-09-13 13:54:55,185 - EHRQC - INFO - MI imputation R2 score: 0.6639427997364443\n",
      "2023-09-13 13:54:55,200 - EHRQC - INFO - mean R2: 0.7016091012106799, median R2: 0.6916460960879882, knn R2: 0.6739645793698211, mf R2: 0.7829459413065741, em R2: 0.4215405164254821, mi R2: 0.6639427997364443\n",
      "2023-09-13 13:54:55,200 - EHRQC - INFO - Done!!\n"
     ]
    },
    {
     "data": {
      "text/plain": [
       "0"
      ]
     },
     "execution_count": 3,
     "metadata": {},
     "output_type": "execute_result"
    }
   ],
   "source": [
    "import os\n",
    "\n",
    "os.system(\n",
    "    '''cd /superbugai-data/yash/chapter_1/workspace/EHRQC;'''\n",
    "    +\n",
    "    '''.venv/bin/python -m ehrqc.qc.Impute 'compare' data/icd_cohort_test/lab_measurements_min_icd_dropped.csv -p 0.30'''\n",
    "    )"
   ]
  },
  {
   "cell_type": "markdown",
   "metadata": {},
   "source": [
    "### Missing data imputation at 35 % missingness"
   ]
  },
  {
   "cell_type": "code",
   "execution_count": 4,
   "metadata": {},
   "outputs": [
    {
     "name": "stdout",
     "output_type": "stream",
     "text": [
      "2023-09-13 13:54:57,315 - EHRQC - INFO - Parsing command line arguments\n",
      "2023-09-13 13:54:57,316 - EHRQC - INFO - args.action: compare\n",
      "2023-09-13 13:54:57,316 - EHRQC - INFO - args.source_path: data/icd_cohort_test/lab_measurements_min_icd_dropped.csv\n",
      "2023-09-13 13:54:57,316 - EHRQC - INFO - args.percentage: ['0.35']\n",
      "2023-09-13 13:54:57,316 - EHRQC - INFO - args.save_path: i\n",
      "2023-09-13 13:54:57,317 - EHRQC - INFO - args.algorithm: m\n",
      "2023-09-13 13:54:57,333 - EHRQC - INFO - Creating missingness with proportion p = (0.35)\n",
      "2023-09-13 13:54:57,334 - EHRQC - INFO - Data size before dropping nulls: (9923, 18)\n",
      "2023-09-13 13:54:57,335 - EHRQC - INFO - Data size after dropping nulls: (4582, 18)\n",
      "2023-09-13 13:54:57,339 - EHRQC - INFO - Running mean imputation\n",
      "2023-09-13 13:54:57,347 - EHRQC - INFO - Mean imputation R2 score: 0.6633446217751865\n",
      "2023-09-13 13:54:57,347 - EHRQC - INFO - Running median imputation\n",
      "2023-09-13 13:54:57,360 - EHRQC - INFO - Median imputation R2 score: 0.6541036310135957\n",
      "2023-09-13 13:54:57,360 - EHRQC - INFO - Running KNN imputation\n",
      "2023-09-13 13:54:59,997 - EHRQC - INFO - KNN imputation R2 score: 0.6260541048487732\n",
      "2023-09-13 13:54:59,997 - EHRQC - INFO - Running MissForest imputation\n",
      "Iteration: 0\n",
      "Iteration: 1\n",
      "2023-09-13 13:55:15,634 - EHRQC - INFO - MissForest imputation R2 score: 0.7428137347037757\n",
      "2023-09-13 13:55:15,634 - EHRQC - INFO - Running EM imputation\n",
      "2023-09-13 13:55:39,052 - EHRQC - INFO - EM imputation R2 score: 0.34853496783746146\n",
      "2023-09-13 13:55:39,052 - EHRQC - INFO - Running MI imputation\n",
      "2023-09-13 13:56:12,519 - EHRQC - INFO - MI imputation R2 score: 0.5918680476246881\n",
      "2023-09-13 13:56:12,535 - EHRQC - INFO - mean R2: 0.6633446217751865, median R2: 0.6541036310135957, knn R2: 0.6260541048487732, mf R2: 0.7428137347037757, em R2: 0.34853496783746146, mi R2: 0.5918680476246881\n",
      "2023-09-13 13:56:12,535 - EHRQC - INFO - Done!!\n"
     ]
    },
    {
     "data": {
      "text/plain": [
       "0"
      ]
     },
     "execution_count": 4,
     "metadata": {},
     "output_type": "execute_result"
    }
   ],
   "source": [
    "import os\n",
    "\n",
    "os.system(\n",
    "    '''cd /superbugai-data/yash/chapter_1/workspace/EHRQC;'''\n",
    "    +\n",
    "    '''.venv/bin/python -m ehrqc.qc.Impute 'compare' data/icd_cohort_test/lab_measurements_min_icd_dropped.csv -p 0.35'''\n",
    "    )"
   ]
  },
  {
   "cell_type": "markdown",
   "metadata": {},
   "source": [
    "### Missing data imputation at 40 % missingness"
   ]
  },
  {
   "cell_type": "code",
   "execution_count": 5,
   "metadata": {},
   "outputs": [
    {
     "name": "stdout",
     "output_type": "stream",
     "text": [
      "2023-09-13 13:56:14,655 - EHRQC - INFO - Parsing command line arguments\n",
      "2023-09-13 13:56:14,656 - EHRQC - INFO - args.action: compare\n",
      "2023-09-13 13:56:14,656 - EHRQC - INFO - args.source_path: data/icd_cohort_test/lab_measurements_min_icd_dropped.csv\n",
      "2023-09-13 13:56:14,656 - EHRQC - INFO - args.percentage: ['0.40']\n",
      "2023-09-13 13:56:14,656 - EHRQC - INFO - args.save_path: i\n",
      "2023-09-13 13:56:14,656 - EHRQC - INFO - args.algorithm: m\n",
      "2023-09-13 13:56:14,672 - EHRQC - INFO - Creating missingness with proportion p = (0.4)\n",
      "2023-09-13 13:56:14,672 - EHRQC - INFO - Data size before dropping nulls: (9923, 18)\n",
      "2023-09-13 13:56:14,673 - EHRQC - INFO - Data size after dropping nulls: (4582, 18)\n",
      "2023-09-13 13:56:14,677 - EHRQC - INFO - Running mean imputation\n",
      "2023-09-13 13:56:14,685 - EHRQC - INFO - Mean imputation R2 score: 0.6158890740156795\n",
      "2023-09-13 13:56:14,685 - EHRQC - INFO - Running median imputation\n",
      "2023-09-13 13:56:14,699 - EHRQC - INFO - Median imputation R2 score: 0.6010541254196423\n",
      "2023-09-13 13:56:14,699 - EHRQC - INFO - Running KNN imputation\n",
      "2023-09-13 13:56:17,805 - EHRQC - INFO - KNN imputation R2 score: 0.5605415644046502\n",
      "2023-09-13 13:56:17,805 - EHRQC - INFO - Running MissForest imputation\n",
      "Iteration: 0\n",
      "Iteration: 1\n",
      "Iteration: 2\n",
      "Iteration: 3\n",
      "2023-09-13 13:56:49,324 - EHRQC - INFO - MissForest imputation R2 score: 0.6858168677173128\n",
      "2023-09-13 13:56:49,324 - EHRQC - INFO - Running EM imputation\n",
      "2023-09-13 13:57:16,217 - EHRQC - INFO - EM imputation R2 score: 0.2465042004419115\n",
      "2023-09-13 13:57:16,217 - EHRQC - INFO - Running MI imputation\n",
      "2023-09-13 13:57:49,395 - EHRQC - INFO - MI imputation R2 score: 0.5229781552021038\n",
      "2023-09-13 13:57:49,410 - EHRQC - INFO - mean R2: 0.6158890740156795, median R2: 0.6010541254196423, knn R2: 0.5605415644046502, mf R2: 0.6858168677173128, em R2: 0.2465042004419115, mi R2: 0.5229781552021038\n",
      "2023-09-13 13:57:49,410 - EHRQC - INFO - Done!!\n"
     ]
    },
    {
     "data": {
      "text/plain": [
       "0"
      ]
     },
     "execution_count": 5,
     "metadata": {},
     "output_type": "execute_result"
    }
   ],
   "source": [
    "import os\n",
    "\n",
    "os.system(\n",
    "    '''cd /superbugai-data/yash/chapter_1/workspace/EHRQC;'''\n",
    "    +\n",
    "    '''.venv/bin/python -m ehrqc.qc.Impute 'compare' data/icd_cohort_test/lab_measurements_min_icd_dropped.csv -p 0.40'''\n",
    "    )"
   ]
  },
  {
   "cell_type": "markdown",
   "metadata": {},
   "source": [
    "### Missing data imputation at 16.63 % missingness (actual missing percentage)"
   ]
  },
  {
   "cell_type": "code",
   "execution_count": 6,
   "metadata": {},
   "outputs": [
    {
     "name": "stdout",
     "output_type": "stream",
     "text": [
      "2023-09-13 13:58:16,522 - EHRQC - INFO - Parsing command line arguments\n",
      "2023-09-13 13:58:16,523 - EHRQC - INFO - args.action: compare\n",
      "2023-09-13 13:58:16,523 - EHRQC - INFO - args.source_path: data/icd_cohort_test/lab_measurements_min_icd_dropped.csv\n",
      "2023-09-13 13:58:16,523 - EHRQC - INFO - args.percentage: None\n",
      "2023-09-13 13:58:16,523 - EHRQC - INFO - args.save_path: i\n",
      "2023-09-13 13:58:16,523 - EHRQC - INFO - args.algorithm: m\n",
      "2023-09-13 13:58:16,541 - EHRQC - INFO - Creating missingness with proportion p = (0.16628595742774924)\n",
      "2023-09-13 13:58:16,541 - EHRQC - INFO - Data size before dropping nulls: (9923, 18)\n",
      "2023-09-13 13:58:16,542 - EHRQC - INFO - Data size after dropping nulls: (4582, 18)\n",
      "2023-09-13 13:58:16,545 - EHRQC - INFO - Running mean imputation\n",
      "2023-09-13 13:58:16,553 - EHRQC - INFO - Mean imputation R2 score: 0.8412859344990786\n",
      "2023-09-13 13:58:16,553 - EHRQC - INFO - Running median imputation\n",
      "2023-09-13 13:58:16,566 - EHRQC - INFO - Median imputation R2 score: 0.8362358154912937\n",
      "2023-09-13 13:58:16,566 - EHRQC - INFO - Running KNN imputation\n",
      "2023-09-13 13:58:18,102 - EHRQC - INFO - KNN imputation R2 score: 0.8373381812108288\n",
      "2023-09-13 13:58:18,103 - EHRQC - INFO - Running MissForest imputation\n",
      "Iteration: 0\n",
      "Iteration: 1\n",
      "Iteration: 2\n",
      "Iteration: 3\n",
      "Iteration: 4\n",
      "Iteration: 5\n",
      "Iteration: 6\n",
      "2023-09-13 13:59:19,809 - EHRQC - INFO - MissForest imputation R2 score: 0.8912862355489141\n",
      "2023-09-13 13:59:19,809 - EHRQC - INFO - Running EM imputation\n",
      "2023-09-13 13:59:30,325 - EHRQC - INFO - EM imputation R2 score: 0.6865097015739244\n",
      "2023-09-13 13:59:30,325 - EHRQC - INFO - Running MI imputation\n",
      "2023-09-13 14:00:08,824 - EHRQC - INFO - MI imputation R2 score: 0.8274688484063569\n",
      "2023-09-13 14:00:08,840 - EHRQC - INFO - mean R2: 0.8412859344990786, median R2: 0.8362358154912937, knn R2: 0.8373381812108288, mf R2: 0.8912862355489141, em R2: 0.6865097015739244, mi R2: 0.8274688484063569\n",
      "2023-09-13 14:00:08,840 - EHRQC - INFO - Done!!\n"
     ]
    },
    {
     "data": {
      "text/plain": [
       "0"
      ]
     },
     "execution_count": 6,
     "metadata": {},
     "output_type": "execute_result"
    }
   ],
   "source": [
    "import os\n",
    "\n",
    "os.system(\n",
    "    '''cd /superbugai-data/yash/chapter_1/workspace/EHRQC;'''\n",
    "    +\n",
    "    '''.venv/bin/python -m ehrqc.qc.Impute 'compare' data/icd_cohort_test/lab_measurements_min_icd_dropped.csv'''\n",
    "    )"
   ]
  },
  {
   "cell_type": "code",
   "execution_count": 12,
   "metadata": {},
   "outputs": [
    {
     "data": {
      "image/png": "[encoded data removed]",
      "text/plain": [
       "<Figure size 800x500 with 1 Axes>"
      ]
     },
     "metadata": {},
     "output_type": "display_data"
    }
   ],
   "source": [
    "import matplotlib.pyplot as plt\n",
    "\n",
    "\n",
    "missingness = list([10, 16.63, 20, 30, 35, 40])\n",
    "values = list([93.8, 89.13, 86.22, 78.29, 74.28, 68.58])\n",
    "\n",
    "fig = plt.figure(figsize = (8, 5))\n",
    "\n",
    "# creating the bar plot\n",
    "plt.bar(missingness, values)\n",
    "plt.plot(missingness, values)\n",
    "\n",
    "plt.xlabel(\"Missingness percentage\")\n",
    "plt.ylabel(\"Reconstructed R-Squared score\")\n",
    "plt.title(\"Missing data imputation performance for different value of missingness\")\n",
    "plt.show()\n"
   ]
  },
  {
   "cell_type": "markdown",
   "metadata": {},
   "source": [
    "## Removing attributes with more than 25 % missingness"
   ]
  },
  {
   "cell_type": "markdown",
   "metadata": {},
   "source": [
    "### Dropping lab measurements data below the threshold for minimum values"
   ]
  },
  {
   "cell_type": "code",
   "execution_count": 13,
   "metadata": {},
   "outputs": [
    {
     "name": "stdout",
     "output_type": "stream",
     "text": [
      "2023-09-13 14:18:28,713 - Anomalies - INFO - Parsing command line arguments\n",
      "2023-09-13 14:18:28,714 - Anomalies - INFO - Start!!\n",
      "2023-09-13 14:18:28,714 - Anomalies - INFO - args.source_file: data/icd_cohort_test/lab_measurements_min_icd.csv\n",
      "2023-09-13 14:18:28,714 - Anomalies - INFO - args.chunksize: 100\n",
      "2023-09-13 14:18:28,714 - Anomalies - INFO - args.id_columns: ['person_id']\n",
      "2023-09-13 14:18:28,714 - Anomalies - INFO - args.drop: True\n",
      "2023-09-13 14:18:28,714 - Anomalies - INFO - args.percentage: 25.0\n",
      "2023-09-13 14:18:28,714 - Anomalies - INFO - args.save_path: data/icd_cohort_test\n",
      "2023-09-13 14:18:28,714 - Anomalies - INFO - Calculating Missingnes\n",
      "2023-09-13 14:18:29,229 - Anomalies - INFO - Missingness Report\n",
      "2023-09-13 14:18:29,232 - Anomalies - INFO - \n",
      "\n",
      "                column_name  missing_count  total_count  percentage_missing\n",
      "0                   albumin           4400         9923               44.34\n",
      "1                 anion_gap           2374         9923               23.92\n",
      "2                      aptt           3145         9923               31.69\n",
      "3     band_form_neutrophils           6930         9923               69.84\n",
      "4      base_excess_in_blood           5560         9923               56.03\n",
      "5               bicarbonate             51         9923                0.51\n",
      "6                 bilirubin           3613         9923               36.41\n",
      "7       carbondioxide_blood           5555         9923               55.98\n",
      "8       carbondioxide_serum           5553         9923               55.96\n",
      "9            chloride_blood           8677         9923               87.44\n",
      "10           chloride_serum             53         9923                0.53\n",
      "11               creatinine             40         9923                0.40\n",
      "12            glucose_serum             68         9923                0.69\n",
      "13            glucose_urine           9106         9923               91.77\n",
      "14               hematocrit           2359         9923               23.77\n",
      "15               hemoglobin             51         9923                0.51\n",
      "16                      inr           3073         9923               30.97\n",
      "17                  lactate           3293         9923               33.19\n",
      "18    leukocytes_blood_auto           9839         9923               99.15\n",
      "19  leukocytes_blood_manual           2369         9923               23.87\n",
      "20                   oxygen           5556         9923               55.99\n",
      "21                 ph_blood           5373         9923               54.15\n",
      "22             ph_bodyfluid           9801         9923               98.77\n",
      "23           platelet_count           2358         9923               23.76\n",
      "24          potassium_blood           7461         9923               75.19\n",
      "25          potassium_serum             44         9923                0.44\n",
      "26             sodium_blood           8439         9923               85.04\n",
      "27             sodium_serum             46         9923                0.46\n",
      "28            urea_nitrogen           2364         9923               23.82\n",
      "\n",
      "2023-09-13 14:18:29,232 - Anomalies - INFO - Dropping columns with above 25.0 % missingness\n",
      "2023-09-13 14:18:29,300 - Anomalies - INFO - Saving data to lab_measurements_min_icd_dropped.csv\n",
      "2023-09-13 14:18:29,378 - Anomalies - INFO - Done!!\n"
     ]
    },
    {
     "data": {
      "text/plain": [
       "0"
      ]
     },
     "execution_count": 13,
     "metadata": {},
     "output_type": "execute_result"
    }
   ],
   "source": [
    "import os\n",
    "\n",
    "os.system(\n",
    "    '''cd /superbugai-data/yash/chapter_1/workspace/EHRQC;'''\n",
    "    +\n",
    "    '''.venv/bin/python -m ehrqc.qc.Coverage data/icd_cohort_test/lab_measurements_min_icd.csv 100 person_id -d -p 25 -sp data/icd_cohort_test'''\n",
    "    )"
   ]
  },
  {
   "cell_type": "markdown",
   "metadata": {},
   "source": [
    "### Dropping lab measurements data below the threshold for maximum values"
   ]
  },
  {
   "cell_type": "code",
   "execution_count": 14,
   "metadata": {},
   "outputs": [
    {
     "name": "stdout",
     "output_type": "stream",
     "text": [
      "2023-09-13 14:26:06,129 - Anomalies - INFO - Parsing command line arguments\n",
      "2023-09-13 14:26:06,130 - Anomalies - INFO - Start!!\n",
      "2023-09-13 14:26:06,130 - Anomalies - INFO - args.source_file: data/icd_cohort_test/lab_measurements_max_icd.csv\n",
      "2023-09-13 14:26:06,130 - Anomalies - INFO - args.chunksize: 100\n",
      "2023-09-13 14:26:06,130 - Anomalies - INFO - args.id_columns: ['person_id']\n",
      "2023-09-13 14:26:06,130 - Anomalies - INFO - args.drop: True\n",
      "2023-09-13 14:26:06,130 - Anomalies - INFO - args.percentage: 25.0\n",
      "2023-09-13 14:26:06,130 - Anomalies - INFO - args.save_path: data/icd_cohort_test\n",
      "2023-09-13 14:26:06,130 - Anomalies - INFO - Calculating Missingnes\n",
      "2023-09-13 14:26:06,627 - Anomalies - INFO - Missingness Report\n",
      "2023-09-13 14:26:06,631 - Anomalies - INFO - \n",
      "\n",
      "                column_name  missing_count  total_count  percentage_missing\n",
      "0                   albumin           4400         9923               44.34\n",
      "1                 anion_gap           2374         9923               23.92\n",
      "2                      aptt           3145         9923               31.69\n",
      "3     band_form_neutrophils           6930         9923               69.84\n",
      "4      base_excess_in_blood           5560         9923               56.03\n",
      "5               bicarbonate             51         9923                0.51\n",
      "6                 bilirubin           3613         9923               36.41\n",
      "7       carbondioxide_blood           5555         9923               55.98\n",
      "8       carbondioxide_serum           5553         9923               55.96\n",
      "9            chloride_blood           8677         9923               87.44\n",
      "10           chloride_serum             53         9923                0.53\n",
      "11               creatinine             40         9923                0.40\n",
      "12            glucose_serum             68         9923                0.69\n",
      "13            glucose_urine           9106         9923               91.77\n",
      "14               hematocrit           2359         9923               23.77\n",
      "15               hemoglobin             51         9923                0.51\n",
      "16                      inr           3073         9923               30.97\n",
      "17                  lactate           3293         9923               33.19\n",
      "18    leukocytes_blood_auto           9839         9923               99.15\n",
      "19  leukocytes_blood_manual           2369         9923               23.87\n",
      "20                   oxygen           5556         9923               55.99\n",
      "21                 ph_blood           5373         9923               54.15\n",
      "22             ph_bodyfluid           9801         9923               98.77\n",
      "23           platelet_count           2358         9923               23.76\n",
      "24          potassium_blood           7461         9923               75.19\n",
      "25          potassium_serum             44         9923                0.44\n",
      "26             sodium_blood           8439         9923               85.04\n",
      "27             sodium_serum             46         9923                0.46\n",
      "28            urea_nitrogen           2364         9923               23.82\n",
      "\n",
      "2023-09-13 14:26:06,631 - Anomalies - INFO - Dropping columns with above 25.0 % missingness\n",
      "2023-09-13 14:26:06,698 - Anomalies - INFO - Saving data to lab_measurements_max_icd_dropped.csv\n",
      "2023-09-13 14:26:06,775 - Anomalies - INFO - Done!!\n"
     ]
    },
    {
     "data": {
      "text/plain": [
       "0"
      ]
     },
     "execution_count": 14,
     "metadata": {},
     "output_type": "execute_result"
    }
   ],
   "source": [
    "import os\n",
    "\n",
    "os.system(\n",
    "    '''cd /superbugai-data/yash/chapter_1/workspace/EHRQC;'''\n",
    "    +\n",
    "    '''.venv/bin/python -m ehrqc.qc.Coverage data/icd_cohort_test/lab_measurements_max_icd.csv 100 person_id -d -p 25 -sp data/icd_cohort_test'''\n",
    "    )"
   ]
  },
  {
   "cell_type": "markdown",
   "metadata": {},
   "source": [
    "### Dropping lab measurements data below the threshold for average values"
   ]
  },
  {
   "cell_type": "code",
   "execution_count": 15,
   "metadata": {},
   "outputs": [
    {
     "name": "stdout",
     "output_type": "stream",
     "text": [
      "2023-09-13 14:26:23,669 - Anomalies - INFO - Parsing command line arguments\n",
      "2023-09-13 14:26:23,670 - Anomalies - INFO - Start!!\n",
      "2023-09-13 14:26:23,670 - Anomalies - INFO - args.source_file: data/icd_cohort_test/lab_measurements_avg_icd.csv\n",
      "2023-09-13 14:26:23,670 - Anomalies - INFO - args.chunksize: 100\n",
      "2023-09-13 14:26:23,670 - Anomalies - INFO - args.id_columns: ['person_id']\n",
      "2023-09-13 14:26:23,671 - Anomalies - INFO - args.drop: True\n",
      "2023-09-13 14:26:23,671 - Anomalies - INFO - args.percentage: 25.0\n",
      "2023-09-13 14:26:23,671 - Anomalies - INFO - args.save_path: data/icd_cohort_test\n",
      "2023-09-13 14:26:23,671 - Anomalies - INFO - Calculating Missingnes\n",
      "2023-09-13 14:26:24,183 - Anomalies - INFO - Missingness Report\n",
      "2023-09-13 14:26:24,186 - Anomalies - INFO - \n",
      "\n",
      "                column_name  missing_count  total_count  percentage_missing\n",
      "0                   albumin           4400         9923               44.34\n",
      "1                 anion_gap           2374         9923               23.92\n",
      "2                      aptt           3145         9923               31.69\n",
      "3     band_form_neutrophils           6930         9923               69.84\n",
      "4      base_excess_in_blood           5560         9923               56.03\n",
      "5               bicarbonate             51         9923                0.51\n",
      "6                 bilirubin           3613         9923               36.41\n",
      "7       carbondioxide_blood           5555         9923               55.98\n",
      "8       carbondioxide_serum           5553         9923               55.96\n",
      "9            chloride_blood           8677         9923               87.44\n",
      "10           chloride_serum             53         9923                0.53\n",
      "11               creatinine             40         9923                0.40\n",
      "12            glucose_serum             68         9923                0.69\n",
      "13            glucose_urine           9106         9923               91.77\n",
      "14               hematocrit           2359         9923               23.77\n",
      "15               hemoglobin             51         9923                0.51\n",
      "16                      inr           3073         9923               30.97\n",
      "17                  lactate           3293         9923               33.19\n",
      "18    leukocytes_blood_auto           9839         9923               99.15\n",
      "19  leukocytes_blood_manual           2369         9923               23.87\n",
      "20                   oxygen           5556         9923               55.99\n",
      "21                 ph_blood           5373         9923               54.15\n",
      "22             ph_bodyfluid           9801         9923               98.77\n",
      "23           platelet_count           2358         9923               23.76\n",
      "24          potassium_blood           7461         9923               75.19\n",
      "25          potassium_serum             44         9923                0.44\n",
      "26             sodium_blood           8439         9923               85.04\n",
      "27             sodium_serum             46         9923                0.46\n",
      "28            urea_nitrogen           2364         9923               23.82\n",
      "\n",
      "2023-09-13 14:26:24,186 - Anomalies - INFO - Dropping columns with above 25.0 % missingness\n",
      "2023-09-13 14:26:24,255 - Anomalies - INFO - Saving data to lab_measurements_avg_icd_dropped.csv\n",
      "2023-09-13 14:26:24,359 - Anomalies - INFO - Done!!\n"
     ]
    },
    {
     "data": {
      "text/plain": [
       "0"
      ]
     },
     "execution_count": 15,
     "metadata": {},
     "output_type": "execute_result"
    }
   ],
   "source": [
    "import os\n",
    "\n",
    "os.system(\n",
    "    '''cd /superbugai-data/yash/chapter_1/workspace/EHRQC;'''\n",
    "    +\n",
    "    '''.venv/bin/python -m ehrqc.qc.Coverage data/icd_cohort_test/lab_measurements_avg_icd.csv 100 person_id -d -p 25 -sp data/icd_cohort_test'''\n",
    "    )"
   ]
  },
  {
   "cell_type": "markdown",
   "metadata": {},
   "source": [
    "### Dropping lab measurements data below the threshold for standard deviation values"
   ]
  },
  {
   "cell_type": "code",
   "execution_count": 16,
   "metadata": {},
   "outputs": [
    {
     "name": "stdout",
     "output_type": "stream",
     "text": [
      "2023-09-13 14:26:45,201 - Anomalies - INFO - Parsing command line arguments\n",
      "2023-09-13 14:26:45,202 - Anomalies - INFO - Start!!\n",
      "2023-09-13 14:26:45,202 - Anomalies - INFO - args.source_file: data/icd_cohort_test/lab_measurements_stddev_icd.csv\n",
      "2023-09-13 14:26:45,202 - Anomalies - INFO - args.chunksize: 100\n",
      "2023-09-13 14:26:45,202 - Anomalies - INFO - args.id_columns: ['person_id']\n",
      "2023-09-13 14:26:45,202 - Anomalies - INFO - args.drop: True\n",
      "2023-09-13 14:26:45,202 - Anomalies - INFO - args.percentage: 25.0\n",
      "2023-09-13 14:26:45,202 - Anomalies - INFO - args.save_path: data/icd_cohort_test\n",
      "2023-09-13 14:26:45,203 - Anomalies - INFO - Calculating Missingnes\n",
      "2023-09-13 14:26:45,722 - Anomalies - INFO - Missingness Report\n",
      "2023-09-13 14:26:45,726 - Anomalies - INFO - \n",
      "\n",
      "                column_name  missing_count  total_count  percentage_missing\n",
      "0                   albumin           6433         9923               64.83\n",
      "1                 anion_gap           2581         9923               26.01\n",
      "2                      aptt           4092         9923               41.24\n",
      "3     band_form_neutrophils           7982         9923               80.44\n",
      "4      base_excess_in_blood           6227         9923               62.75\n",
      "5               bicarbonate            324         9923                3.27\n",
      "6                 bilirubin           4938         9923               49.76\n",
      "7       carbondioxide_blood           6224         9923               62.72\n",
      "8       carbondioxide_serum           6221         9923               62.69\n",
      "9            chloride_blood           9165         9923               92.36\n",
      "10           chloride_serum            328         9923                3.31\n",
      "11               creatinine            323         9923                3.26\n",
      "12            glucose_serum            332         9923                3.35\n",
      "13            glucose_urine           9563         9923               96.37\n",
      "14               hematocrit           2552         9923               25.72\n",
      "15               hemoglobin            341         9923                3.44\n",
      "16                      inr           3973         9923               40.04\n",
      "17                  lactate           4482         9923               45.17\n",
      "18    leukocytes_blood_auto           9889         9923               99.66\n",
      "19  leukocytes_blood_manual           2564         9923               25.84\n",
      "20                   oxygen           6227         9923               62.75\n",
      "21                 ph_blood           6057         9923               61.04\n",
      "22             ph_bodyfluid           9874         9923               99.51\n",
      "23           platelet_count           2559         9923               25.79\n",
      "24          potassium_blood           8262         9923               83.26\n",
      "25          potassium_serum            329         9923                3.32\n",
      "26             sodium_blood           8995         9923               90.65\n",
      "27             sodium_serum            329         9923                3.32\n",
      "28            urea_nitrogen           2576         9923               25.96\n",
      "\n",
      "2023-09-13 14:26:45,726 - Anomalies - INFO - Dropping columns with above 25.0 % missingness\n",
      "2023-09-13 14:26:45,793 - Anomalies - INFO - Saving data to lab_measurements_stddev_icd_dropped.csv\n",
      "2023-09-13 14:26:45,886 - Anomalies - INFO - Done!!\n"
     ]
    },
    {
     "data": {
      "text/plain": [
       "0"
      ]
     },
     "execution_count": 16,
     "metadata": {},
     "output_type": "execute_result"
    }
   ],
   "source": [
    "import os\n",
    "\n",
    "os.system(\n",
    "    '''cd /superbugai-data/yash/chapter_1/workspace/EHRQC;'''\n",
    "    +\n",
    "    '''.venv/bin/python -m ehrqc.qc.Coverage data/icd_cohort_test/lab_measurements_stddev_icd.csv 100 person_id -d -p 25 -sp data/icd_cohort_test'''\n",
    "    )"
   ]
  },
  {
   "cell_type": "markdown",
   "metadata": {},
   "source": [
    "### Dropping lab measurements data below the threshold for first values"
   ]
  },
  {
   "cell_type": "code",
   "execution_count": 17,
   "metadata": {},
   "outputs": [
    {
     "name": "stdout",
     "output_type": "stream",
     "text": [
      "2023-09-13 14:26:58,051 - Anomalies - INFO - Parsing command line arguments\n",
      "2023-09-13 14:26:58,052 - Anomalies - INFO - Start!!\n",
      "2023-09-13 14:26:58,052 - Anomalies - INFO - args.source_file: data/icd_cohort_test/lab_measurements_first_icd.csv\n",
      "2023-09-13 14:26:58,053 - Anomalies - INFO - args.chunksize: 100\n",
      "2023-09-13 14:26:58,053 - Anomalies - INFO - args.id_columns: ['person_id']\n",
      "2023-09-13 14:26:58,053 - Anomalies - INFO - args.drop: True\n",
      "2023-09-13 14:26:58,053 - Anomalies - INFO - args.percentage: 25.0\n",
      "2023-09-13 14:26:58,053 - Anomalies - INFO - args.save_path: data/icd_cohort_test\n",
      "2023-09-13 14:26:58,053 - Anomalies - INFO - Calculating Missingnes\n",
      "2023-09-13 14:26:58,654 - Anomalies - INFO - Missingness Report\n",
      "2023-09-13 14:26:58,658 - Anomalies - INFO - \n",
      "\n",
      "                column_name  missing_count  total_count  percentage_missing\n",
      "0                   albumin           4400         9923               44.34\n",
      "1                 anion_gap           2374         9923               23.92\n",
      "2                      aptt           3145         9923               31.69\n",
      "3     band_form_neutrophils           6930         9923               69.84\n",
      "4      base_excess_in_blood           5560         9923               56.03\n",
      "5               bicarbonate             51         9923                0.51\n",
      "6                 bilirubin           3613         9923               36.41\n",
      "7       carbondioxide_blood           5555         9923               55.98\n",
      "8       carbondioxide_serum           5553         9923               55.96\n",
      "9            chloride_blood           8677         9923               87.44\n",
      "10           chloride_serum             53         9923                0.53\n",
      "11               creatinine             40         9923                0.40\n",
      "12            glucose_serum             68         9923                0.69\n",
      "13            glucose_urine           9106         9923               91.77\n",
      "14               hematocrit           2359         9923               23.77\n",
      "15               hemoglobin             51         9923                0.51\n",
      "16                      inr           3073         9923               30.97\n",
      "17                  lactate           3293         9923               33.19\n",
      "18    leukocytes_blood_auto           9839         9923               99.15\n",
      "19  leukocytes_blood_manual           2369         9923               23.87\n",
      "20                   oxygen           5556         9923               55.99\n",
      "21                 ph_blood           5373         9923               54.15\n",
      "22             ph_bodyfluid           9801         9923               98.77\n",
      "23           platelet_count           2358         9923               23.76\n",
      "24          potassium_blood           7461         9923               75.19\n",
      "25          potassium_serum             44         9923                0.44\n",
      "26             sodium_blood           8439         9923               85.04\n",
      "27             sodium_serum             46         9923                0.46\n",
      "28            urea_nitrogen           2364         9923               23.82\n",
      "\n",
      "2023-09-13 14:26:58,658 - Anomalies - INFO - Dropping columns with above 25.0 % missingness\n",
      "2023-09-13 14:26:58,742 - Anomalies - INFO - Saving data to lab_measurements_first_icd_dropped.csv\n",
      "2023-09-13 14:26:58,829 - Anomalies - INFO - Done!!\n"
     ]
    },
    {
     "data": {
      "text/plain": [
       "0"
      ]
     },
     "execution_count": 17,
     "metadata": {},
     "output_type": "execute_result"
    }
   ],
   "source": [
    "import os\n",
    "\n",
    "os.system(\n",
    "    '''cd /superbugai-data/yash/chapter_1/workspace/EHRQC;'''\n",
    "    +\n",
    "    '''.venv/bin/python -m ehrqc.qc.Coverage data/icd_cohort_test/lab_measurements_first_icd.csv 100 person_id -d -p 25 -sp data/icd_cohort_test'''\n",
    "    )"
   ]
  },
  {
   "cell_type": "markdown",
   "metadata": {},
   "source": [
    "### Dropping lab measurements data below the threshold for last values"
   ]
  },
  {
   "cell_type": "code",
   "execution_count": 18,
   "metadata": {},
   "outputs": [
    {
     "name": "stdout",
     "output_type": "stream",
     "text": [
      "2023-09-13 14:27:10,723 - Anomalies - INFO - Parsing command line arguments\n",
      "2023-09-13 14:27:10,724 - Anomalies - INFO - Start!!\n",
      "2023-09-13 14:27:10,724 - Anomalies - INFO - args.source_file: data/icd_cohort_test/lab_measurements_last_icd.csv\n",
      "2023-09-13 14:27:10,724 - Anomalies - INFO - args.chunksize: 100\n",
      "2023-09-13 14:27:10,724 - Anomalies - INFO - args.id_columns: ['person_id']\n",
      "2023-09-13 14:27:10,724 - Anomalies - INFO - args.drop: True\n",
      "2023-09-13 14:27:10,724 - Anomalies - INFO - args.percentage: 25.0\n",
      "2023-09-13 14:27:10,724 - Anomalies - INFO - args.save_path: data/icd_cohort_test\n",
      "2023-09-13 14:27:10,724 - Anomalies - INFO - Calculating Missingnes\n",
      "2023-09-13 14:27:11,252 - Anomalies - INFO - Missingness Report\n",
      "2023-09-13 14:27:11,255 - Anomalies - INFO - \n",
      "\n",
      "                column_name  missing_count  total_count  percentage_missing\n",
      "0                   albumin           4400         9923               44.34\n",
      "1                 anion_gap           2374         9923               23.92\n",
      "2                      aptt           3145         9923               31.69\n",
      "3     band_form_neutrophils           6930         9923               69.84\n",
      "4      base_excess_in_blood           5560         9923               56.03\n",
      "5               bicarbonate             51         9923                0.51\n",
      "6                 bilirubin           3613         9923               36.41\n",
      "7       carbondioxide_blood           5555         9923               55.98\n",
      "8       carbondioxide_serum           5553         9923               55.96\n",
      "9            chloride_blood           8677         9923               87.44\n",
      "10           chloride_serum             53         9923                0.53\n",
      "11               creatinine             40         9923                0.40\n",
      "12            glucose_serum             68         9923                0.69\n",
      "13            glucose_urine           9106         9923               91.77\n",
      "14               hematocrit           2359         9923               23.77\n",
      "15               hemoglobin             51         9923                0.51\n",
      "16                      inr           3073         9923               30.97\n",
      "17                  lactate           3293         9923               33.19\n",
      "18    leukocytes_blood_auto           9839         9923               99.15\n",
      "19  leukocytes_blood_manual           2369         9923               23.87\n",
      "20                   oxygen           5556         9923               55.99\n",
      "21                 ph_blood           5373         9923               54.15\n",
      "22             ph_bodyfluid           9801         9923               98.77\n",
      "23           platelet_count           2358         9923               23.76\n",
      "24          potassium_blood           7461         9923               75.19\n",
      "25          potassium_serum             44         9923                0.44\n",
      "26             sodium_blood           8439         9923               85.04\n",
      "27             sodium_serum             46         9923                0.46\n",
      "28            urea_nitrogen           2364         9923               23.82\n",
      "\n",
      "2023-09-13 14:27:11,256 - Anomalies - INFO - Dropping columns with above 25.0 % missingness\n",
      "2023-09-13 14:27:11,325 - Anomalies - INFO - Saving data to lab_measurements_last_icd_dropped.csv\n",
      "2023-09-13 14:27:11,400 - Anomalies - INFO - Done!!\n"
     ]
    },
    {
     "data": {
      "text/plain": [
       "0"
      ]
     },
     "execution_count": 18,
     "metadata": {},
     "output_type": "execute_result"
    }
   ],
   "source": [
    "import os\n",
    "\n",
    "os.system(\n",
    "    '''cd /superbugai-data/yash/chapter_1/workspace/EHRQC;'''\n",
    "    +\n",
    "    '''.venv/bin/python -m ehrqc.qc.Coverage data/icd_cohort_test/lab_measurements_last_icd.csv 100 person_id -d -p 25 -sp data/icd_cohort_test'''\n",
    "    )"
   ]
  },
  {
   "cell_type": "markdown",
   "metadata": {},
   "source": [
    "## Read individual files"
   ]
  },
  {
   "cell_type": "code",
   "execution_count": 19,
   "metadata": {},
   "outputs": [],
   "source": [
    "import pandas as pd\n",
    "\n",
    "demographics =  pd.read_csv('/superbugai-data/yash/chapter_1/workspace/EHRQC/data/icd_cohort_test/demographics_icd.csv')\n",
    "vitals_min =  pd.read_csv('/superbugai-data/yash/chapter_1/workspace/EHRQC/data/icd_cohort_test/vitals_min_icd.csv')\n",
    "vitals_max =  pd.read_csv('/superbugai-data/yash/chapter_1/workspace/EHRQC/data/icd_cohort_test/vitals_max_icd.csv')\n",
    "vitals_avg =  pd.read_csv('/superbugai-data/yash/chapter_1/workspace/EHRQC/data/icd_cohort_test/vitals_avg_icd.csv')\n",
    "vitals_stddev =  pd.read_csv('/superbugai-data/yash/chapter_1/workspace/EHRQC/data/icd_cohort_test/vitals_stddev_icd.csv')\n",
    "vitals_first =  pd.read_csv('/superbugai-data/yash/chapter_1/workspace/EHRQC/data/icd_cohort_test/vitals_first_icd.csv')\n",
    "vitals_last =  pd.read_csv('/superbugai-data/yash/chapter_1/workspace/EHRQC/data/icd_cohort_test/vitals_last_icd.csv')\n",
    "lab_measurements_min =  pd.read_csv('/superbugai-data/yash/chapter_1/workspace/EHRQC/data/icd_cohort_test/lab_measurements_min_icd_dropped.csv')\n",
    "lab_measurements_max =  pd.read_csv('/superbugai-data/yash/chapter_1/workspace/EHRQC/data/icd_cohort_test/lab_measurements_max_icd_dropped.csv')\n",
    "lab_measurements_avg =  pd.read_csv('/superbugai-data/yash/chapter_1/workspace/EHRQC/data/icd_cohort_test/lab_measurements_avg_icd_dropped.csv')\n",
    "lab_measurements_stddev =  pd.read_csv('/superbugai-data/yash/chapter_1/workspace/EHRQC/data/icd_cohort_test/lab_measurements_stddev_icd_dropped.csv')\n",
    "lab_measurements_first =  pd.read_csv('/superbugai-data/yash/chapter_1/workspace/EHRQC/data/icd_cohort_test/lab_measurements_first_icd_dropped.csv')\n",
    "lab_measurements_last =  pd.read_csv('/superbugai-data/yash/chapter_1/workspace/EHRQC/data/icd_cohort_test/lab_measurements_last_icd_dropped.csv')"
   ]
  },
  {
   "cell_type": "code",
   "execution_count": 20,
   "metadata": {},
   "outputs": [
    {
     "data": {
      "text/plain": [
       "(12241, 4)"
      ]
     },
     "execution_count": 20,
     "metadata": {},
     "output_type": "execute_result"
    }
   ],
   "source": [
    "demographics.shape"
   ]
  },
  {
   "cell_type": "code",
   "execution_count": 21,
   "metadata": {},
   "outputs": [
    {
     "data": {
      "text/plain": [
       "((5185, 11), (5185, 11), (5185, 11), (5185, 11), (5185, 11), (5185, 11))"
      ]
     },
     "execution_count": 21,
     "metadata": {},
     "output_type": "execute_result"
    }
   ],
   "source": [
    "vitals_min.shape, vitals_max.shape, vitals_avg.shape, vitals_stddev.shape, vitals_first.shape, vitals_last.shape"
   ]
  },
  {
   "cell_type": "code",
   "execution_count": 22,
   "metadata": {},
   "outputs": [
    {
     "data": {
      "text/plain": [
       "((9923, 13), (9923, 13), (9923, 13), (9923, 8), (9923, 13), (9923, 13))"
      ]
     },
     "execution_count": 22,
     "metadata": {},
     "output_type": "execute_result"
    }
   ],
   "source": [
    "lab_measurements_min.shape, lab_measurements_max.shape, lab_measurements_avg.shape, lab_measurements_stddev.shape, lab_measurements_first.shape, lab_measurements_last.shape"
   ]
  },
  {
   "cell_type": "markdown",
   "metadata": {},
   "source": [
    "## Conclusion"
   ]
  },
  {
   "cell_type": "markdown",
   "metadata": {},
   "source": [
    "As observed in the coverage analysis, the vitals data has good coverage, but the lab measurements are sparse.\n",
    "\n",
    "So, we have have performed an analysis to determine the best value for a low coverage threshold below which an attribute (column) is not considered for further analysis. From this analysis, we concluded that 25% cutoff is a reasonable compromise. Hence, we proceeded to drop all the attrbiutes that are below 25 % coverage from further analysis."
   ]
  }
 ],
 "metadata": {
  "kernelspec": {
   "display_name": ".venv",
   "language": "python",
   "name": "python3"
  },
  "language_info": {
   "codemirror_mode": {
    "name": "ipython",
    "version": 3
   },
   "file_extension": ".py",
   "mimetype": "text/x-python",
   "name": "python",
   "nbconvert_exporter": "python",
   "pygments_lexer": "ipython3",
   "version": "3.9.5"
  },
  "orig_nbformat": 4
 },
 "nbformat": 4,
 "nbformat_minor": 2
}
