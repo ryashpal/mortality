{
 "cells": [
  {
   "cell_type": "markdown",
   "metadata": {},
   "source": [
    "# Standardisation"
   ]
  },
  {
   "cell_type": "markdown",
   "metadata": {},
   "source": [
    "## Read individual files"
   ]
  },
  {
   "cell_type": "code",
   "execution_count": 1,
   "metadata": {},
   "outputs": [],
   "source": [
    "import pandas as pd\n",
    "\n",
    "\n",
    "demographics =  pd.read_csv('/superbugai-data/yash/chapter_1/workspace/EHRQC/data/icd_cohort_test/demographics_icd.csv')\n",
    "vitals_min =  pd.read_csv('/superbugai-data/yash/chapter_1/workspace/EHRQC/data/icd_cohort_test/outlier_removal/vitals_min_icd_corrected.csv')\n",
    "vitals_max =  pd.read_csv('/superbugai-data/yash/chapter_1/workspace/EHRQC/data/icd_cohort_test/outlier_removal/vitals_max_icd_corrected.csv')\n",
    "vitals_avg =  pd.read_csv('/superbugai-data/yash/chapter_1/workspace/EHRQC/data/icd_cohort_test/outlier_removal/vitals_avg_icd_corrected.csv')\n",
    "vitals_stddev =  pd.read_csv('/superbugai-data/yash/chapter_1/workspace/EHRQC/data/icd_cohort_test/outlier_removal/vitals_stddev_icd_corrected.csv')\n",
    "vitals_first =  pd.read_csv('/superbugai-data/yash/chapter_1/workspace/EHRQC/data/icd_cohort_test/outlier_removal/vitals_first_icd_corrected.csv')\n",
    "vitals_last =  pd.read_csv('/superbugai-data/yash/chapter_1/workspace/EHRQC/data/icd_cohort_test/outlier_removal/vitals_last_icd_corrected.csv')\n",
    "lab_measurements_min =  pd.read_csv('/superbugai-data/yash/chapter_1/workspace/EHRQC/data/icd_cohort_test/outlier_removal/lab_measurements_min_icd_corrected.csv')\n",
    "lab_measurements_max =  pd.read_csv('/superbugai-data/yash/chapter_1/workspace/EHRQC/data/icd_cohort_test/outlier_removal/lab_measurements_max_icd_corrected.csv')\n",
    "lab_measurements_avg =  pd.read_csv('/superbugai-data/yash/chapter_1/workspace/EHRQC/data/icd_cohort_test/outlier_removal/lab_measurements_avg_icd_corrected.csv')\n",
    "lab_measurements_stddev =  pd.read_csv('/superbugai-data/yash/chapter_1/workspace/EHRQC/data/icd_cohort_test/outlier_removal/lab_measurements_stddev_icd_corrected.csv')\n",
    "lab_measurements_first =  pd.read_csv('/superbugai-data/yash/chapter_1/workspace/EHRQC/data/icd_cohort_test/outlier_removal/lab_measurements_first_icd_corrected.csv')\n",
    "lab_measurements_last =  pd.read_csv('/superbugai-data/yash/chapter_1/workspace/EHRQC/data/icd_cohort_test/outlier_removal/lab_measurements_last_icd_corrected.csv')\n",
    "deaths =  pd.read_csv('/superbugai-data/yash/chapter_1/workspace/EHRQC/data/icd_cohort_test/deaths.csv')"
   ]
  },
  {
   "cell_type": "code",
   "execution_count": 3,
   "metadata": {},
   "outputs": [
    {
     "data": {
      "text/plain": [
       "((12241, 4), (12241, 3))"
      ]
     },
     "execution_count": 3,
     "metadata": {},
     "output_type": "execute_result"
    }
   ],
   "source": [
    "demographics.shape, deaths.shape"
   ]
  },
  {
   "cell_type": "code",
   "execution_count": 3,
   "metadata": {},
   "outputs": [
    {
     "data": {
      "text/plain": [
       "((3941, 11), (3941, 11), (3941, 11), (3941, 11), (3941, 11), (3941, 11))"
      ]
     },
     "execution_count": 3,
     "metadata": {},
     "output_type": "execute_result"
    }
   ],
   "source": [
    "vitals_min.shape, vitals_max.shape, vitals_avg.shape, vitals_stddev.shape, vitals_first.shape, vitals_last.shape"
   ]
  },
  {
   "cell_type": "code",
   "execution_count": 4,
   "metadata": {},
   "outputs": [
    {
     "data": {
      "text/plain": [
       "((7496, 13), (7494, 13), (7497, 13), (7636, 8), (7496, 13), (7496, 13))"
      ]
     },
     "execution_count": 4,
     "metadata": {},
     "output_type": "execute_result"
    }
   ],
   "source": [
    "lab_measurements_min.shape, lab_measurements_max.shape, lab_measurements_avg.shape, lab_measurements_stddev.shape, lab_measurements_first.shape, lab_measurements_last.shape"
   ]
  },
  {
   "cell_type": "markdown",
   "metadata": {},
   "source": [
    "## Standardise"
   ]
  },
  {
   "cell_type": "markdown",
   "metadata": {},
   "source": [
    "### Standardise vitals"
   ]
  },
  {
   "cell_type": "code",
   "execution_count": 5,
   "metadata": {},
   "outputs": [
    {
     "name": "stdout",
     "output_type": "stream",
     "text": [
      "2023-09-20 11:27:27,157 - EHRQC - INFO - Parsing command line arguments\n",
      "2023-09-20 11:27:27,158 - EHRQC - INFO - args.source_path: data/icd_cohort_test/outlier_removal/vitals_min_icd_corrected.csv\n",
      "2023-09-20 11:27:27,158 - EHRQC - INFO - args.save_path: data/icd_cohort_test/standardised/vitals_min_icd_standardised.csv\n",
      "2023-09-20 11:27:27,158 - EHRQC - INFO - args.columns: heartrate,sysbp,diabp,meanbp,resprate,tempc,spo2,gcseye,gcsverbal,gcsmotor\n",
      "2023-09-20 11:27:27,158 - EHRQC - INFO - args.scaler_save_path: None\n",
      "2023-09-20 11:27:27,215 - EHRQC - INFO - Done!!\n",
      "2023-09-20 11:27:27,891 - EHRQC - INFO - Parsing command line arguments\n",
      "2023-09-20 11:27:27,892 - EHRQC - INFO - args.source_path: data/icd_cohort_test/outlier_removal/vitals_max_icd_corrected.csv\n",
      "2023-09-20 11:27:27,892 - EHRQC - INFO - args.save_path: data/icd_cohort_test/standardised/vitals_max_icd_standardised.csv\n",
      "2023-09-20 11:27:27,892 - EHRQC - INFO - args.columns: heartrate,sysbp,diabp,meanbp,resprate,tempc,spo2,gcseye,gcsverbal,gcsmotor\n",
      "2023-09-20 11:27:27,892 - EHRQC - INFO - args.scaler_save_path: None\n",
      "2023-09-20 11:27:27,951 - EHRQC - INFO - Done!!\n",
      "2023-09-20 11:27:28,622 - EHRQC - INFO - Parsing command line arguments\n",
      "2023-09-20 11:27:28,623 - EHRQC - INFO - args.source_path: data/icd_cohort_test/outlier_removal/vitals_avg_icd_corrected.csv\n",
      "2023-09-20 11:27:28,623 - EHRQC - INFO - args.save_path: data/icd_cohort_test/standardised/vitals_avg_icd_standardised.csv\n",
      "2023-09-20 11:27:28,623 - EHRQC - INFO - args.columns: heartrate,sysbp,diabp,meanbp,resprate,tempc,spo2,gcseye,gcsverbal,gcsmotor\n",
      "2023-09-20 11:27:28,623 - EHRQC - INFO - args.scaler_save_path: None\n",
      "2023-09-20 11:27:28,683 - EHRQC - INFO - Done!!\n",
      "2023-09-20 11:27:29,352 - EHRQC - INFO - Parsing command line arguments\n",
      "2023-09-20 11:27:29,353 - EHRQC - INFO - args.source_path: data/icd_cohort_test/outlier_removal/vitals_stddev_icd_corrected.csv\n",
      "2023-09-20 11:27:29,353 - EHRQC - INFO - args.save_path: data/icd_cohort_test/standardised/vitals_stddev_icd_standardised.csv\n",
      "2023-09-20 11:27:29,353 - EHRQC - INFO - args.columns: heartrate,sysbp,diabp,meanbp,resprate,tempc,spo2,gcseye,gcsverbal,gcsmotor\n",
      "2023-09-20 11:27:29,353 - EHRQC - INFO - args.scaler_save_path: None\n",
      "2023-09-20 11:27:29,414 - EHRQC - INFO - Done!!\n",
      "2023-09-20 11:27:30,091 - EHRQC - INFO - Parsing command line arguments\n",
      "2023-09-20 11:27:30,092 - EHRQC - INFO - args.source_path: data/icd_cohort_test/outlier_removal/vitals_first_icd_corrected.csv\n",
      "2023-09-20 11:27:30,092 - EHRQC - INFO - args.save_path: data/icd_cohort_test/standardised/vitals_first_icd_standardised.csv\n",
      "2023-09-20 11:27:30,092 - EHRQC - INFO - args.columns: heartrate,sysbp,diabp,meanbp,resprate,tempc,spo2,gcseye,gcsverbal,gcsmotor\n",
      "2023-09-20 11:27:30,092 - EHRQC - INFO - args.scaler_save_path: None\n",
      "2023-09-20 11:27:30,150 - EHRQC - INFO - Done!!\n",
      "2023-09-20 11:27:30,821 - EHRQC - INFO - Parsing command line arguments\n",
      "2023-09-20 11:27:30,822 - EHRQC - INFO - args.source_path: data/icd_cohort_test/outlier_removal/vitals_last_icd_corrected.csv\n",
      "2023-09-20 11:27:30,822 - EHRQC - INFO - args.save_path: data/icd_cohort_test/standardised/vitals_last_icd_standardised.csv\n",
      "2023-09-20 11:27:30,822 - EHRQC - INFO - args.columns: heartrate,sysbp,diabp,meanbp,resprate,tempc,spo2,gcseye,gcsverbal,gcsmotor\n",
      "2023-09-20 11:27:30,822 - EHRQC - INFO - args.scaler_save_path: None\n",
      "2023-09-20 11:27:30,880 - EHRQC - INFO - Done!!\n"
     ]
    },
    {
     "data": {
      "text/plain": [
       "0"
      ]
     },
     "execution_count": 5,
     "metadata": {},
     "output_type": "execute_result"
    }
   ],
   "source": [
    "import os\n",
    "\n",
    "os.system(\n",
    "    '''cd /superbugai-data/yash/chapter_1/workspace/EHRQC;'''\n",
    "    +\n",
    "    '''.venv/bin/python -m ehrqc.qc.Standardise data/icd_cohort_test/outlier_removal/vitals_min_icd_corrected.csv data/icd_cohort_test/standardised/vitals_min_icd_standardised.csv -c \"heartrate\",\"sysbp\",\"diabp\",\"meanbp\",\"resprate\",\"tempc\",\"spo2\",\"gcseye\",\"gcsverbal\",\"gcsmotor\";'''\n",
    "    +\n",
    "    '''.venv/bin/python -m ehrqc.qc.Standardise data/icd_cohort_test/outlier_removal/vitals_max_icd_corrected.csv data/icd_cohort_test/standardised/vitals_max_icd_standardised.csv -c \"heartrate\",\"sysbp\",\"diabp\",\"meanbp\",\"resprate\",\"tempc\",\"spo2\",\"gcseye\",\"gcsverbal\",\"gcsmotor\";'''\n",
    "    +\n",
    "    '''.venv/bin/python -m ehrqc.qc.Standardise data/icd_cohort_test/outlier_removal/vitals_avg_icd_corrected.csv data/icd_cohort_test/standardised/vitals_avg_icd_standardised.csv -c \"heartrate\",\"sysbp\",\"diabp\",\"meanbp\",\"resprate\",\"tempc\",\"spo2\",\"gcseye\",\"gcsverbal\",\"gcsmotor\";'''\n",
    "    +\n",
    "    '''.venv/bin/python -m ehrqc.qc.Standardise data/icd_cohort_test/outlier_removal/vitals_stddev_icd_corrected.csv data/icd_cohort_test/standardised/vitals_stddev_icd_standardised.csv -c \"heartrate\",\"sysbp\",\"diabp\",\"meanbp\",\"resprate\",\"tempc\",\"spo2\",\"gcseye\",\"gcsverbal\",\"gcsmotor\";'''\n",
    "    +\n",
    "    '''.venv/bin/python -m ehrqc.qc.Standardise data/icd_cohort_test/outlier_removal/vitals_first_icd_corrected.csv data/icd_cohort_test/standardised/vitals_first_icd_standardised.csv -c \"heartrate\",\"sysbp\",\"diabp\",\"meanbp\",\"resprate\",\"tempc\",\"spo2\",\"gcseye\",\"gcsverbal\",\"gcsmotor\";'''\n",
    "    +\n",
    "    '''.venv/bin/python -m ehrqc.qc.Standardise data/icd_cohort_test/outlier_removal/vitals_last_icd_corrected.csv data/icd_cohort_test/standardised/vitals_last_icd_standardised.csv -c \"heartrate\",\"sysbp\",\"diabp\",\"meanbp\",\"resprate\",\"tempc\",\"spo2\",\"gcseye\",\"gcsverbal\",\"gcsmotor\";'''\n",
    "    )"
   ]
  },
  {
   "cell_type": "markdown",
   "metadata": {},
   "source": [
    "### Standardise Lab Measurements"
   ]
  },
  {
   "cell_type": "code",
   "execution_count": 6,
   "metadata": {},
   "outputs": [
    {
     "name": "stdout",
     "output_type": "stream",
     "text": [
      "2023-09-20 11:40:24,039 - EHRQC - INFO - Parsing command line arguments\n",
      "2023-09-20 11:40:24,040 - EHRQC - INFO - args.source_path: data/icd_cohort_test/outlier_removal/lab_measurements_min_icd_corrected.csv\n",
      "2023-09-20 11:40:24,040 - EHRQC - INFO - args.save_path: data/icd_cohort_test/standardised/lab_measurements_min_icd_standardised.csv\n",
      "2023-09-20 11:40:24,040 - EHRQC - INFO - args.columns: chloride_serum,creatinine,sodium_serum,hemoglobin,platelet_count,urea_nitrogen,glucose_serum,bicarbonate,potassium_serum,anion_gap,leukocytes_blood_manual,hematocrit\n",
      "2023-09-20 11:40:24,040 - EHRQC - INFO - args.scaler_save_path: None\n",
      "2023-09-20 11:40:24,173 - EHRQC - INFO - Done!!\n",
      "2023-09-20 11:40:24,848 - EHRQC - INFO - Parsing command line arguments\n",
      "2023-09-20 11:40:24,849 - EHRQC - INFO - args.source_path: data/icd_cohort_test/outlier_removal/lab_measurements_max_icd_corrected.csv\n",
      "2023-09-20 11:40:24,849 - EHRQC - INFO - args.save_path: data/icd_cohort_test/standardised/lab_measurements_max_icd_standardised.csv\n",
      "2023-09-20 11:40:24,849 - EHRQC - INFO - args.columns: chloride_serum,creatinine,sodium_serum,hemoglobin,platelet_count,urea_nitrogen,glucose_serum,bicarbonate,potassium_serum,anion_gap,leukocytes_blood_manual,hematocrit\n",
      "2023-09-20 11:40:24,850 - EHRQC - INFO - args.scaler_save_path: None\n",
      "2023-09-20 11:40:24,976 - EHRQC - INFO - Done!!\n",
      "2023-09-20 11:40:25,644 - EHRQC - INFO - Parsing command line arguments\n",
      "2023-09-20 11:40:25,645 - EHRQC - INFO - args.source_path: data/icd_cohort_test/outlier_removal/lab_measurements_avg_icd_corrected.csv\n",
      "2023-09-20 11:40:25,645 - EHRQC - INFO - args.save_path: data/icd_cohort_test/standardised/lab_measurements_avg_icd_standardised.csv\n",
      "2023-09-20 11:40:25,646 - EHRQC - INFO - args.columns: chloride_serum,creatinine,sodium_serum,hemoglobin,platelet_count,urea_nitrogen,glucose_serum,bicarbonate,potassium_serum,anion_gap,leukocytes_blood_manual,hematocrit\n",
      "2023-09-20 11:40:25,646 - EHRQC - INFO - args.scaler_save_path: None\n",
      "2023-09-20 11:40:25,774 - EHRQC - INFO - Done!!\n",
      "2023-09-20 11:40:26,445 - EHRQC - INFO - Parsing command line arguments\n",
      "2023-09-20 11:40:26,446 - EHRQC - INFO - args.source_path: data/icd_cohort_test/outlier_removal/lab_measurements_stddev_icd_corrected.csv\n",
      "2023-09-20 11:40:26,446 - EHRQC - INFO - args.save_path: data/icd_cohort_test/standardised/lab_measurements_stddev_icd_standardised.csv\n",
      "2023-09-20 11:40:26,446 - EHRQC - INFO - args.columns: chloride_serum,creatinine,sodium_serum,hemoglobin,glucose_serum,bicarbonate,potassium_serum\n",
      "2023-09-20 11:40:26,446 - EHRQC - INFO - args.scaler_save_path: None\n",
      "2023-09-20 11:40:26,531 - EHRQC - INFO - Done!!\n",
      "2023-09-20 11:40:27,198 - EHRQC - INFO - Parsing command line arguments\n",
      "2023-09-20 11:40:27,199 - EHRQC - INFO - args.source_path: data/icd_cohort_test/outlier_removal/lab_measurements_first_icd_corrected.csv\n",
      "2023-09-20 11:40:27,199 - EHRQC - INFO - args.save_path: data/icd_cohort_test/standardised/lab_measurements_first_icd_standardised.csv\n",
      "2023-09-20 11:40:27,200 - EHRQC - INFO - args.columns: chloride_serum,creatinine,sodium_serum,hemoglobin,platelet_count,urea_nitrogen,glucose_serum,bicarbonate,potassium_serum,anion_gap,leukocytes_blood_manual,hematocrit\n",
      "2023-09-20 11:40:27,200 - EHRQC - INFO - args.scaler_save_path: None\n",
      "2023-09-20 11:40:27,320 - EHRQC - INFO - Done!!\n",
      "2023-09-20 11:40:27,993 - EHRQC - INFO - Parsing command line arguments\n",
      "2023-09-20 11:40:27,994 - EHRQC - INFO - args.source_path: data/icd_cohort_test/outlier_removal/lab_measurements_last_icd_corrected.csv\n",
      "2023-09-20 11:40:27,994 - EHRQC - INFO - args.save_path: data/icd_cohort_test/standardised/lab_measurements_last_icd_standardised.csv\n",
      "2023-09-20 11:40:27,994 - EHRQC - INFO - args.columns: chloride_serum,creatinine,sodium_serum,hemoglobin,platelet_count,urea_nitrogen,glucose_serum,bicarbonate,potassium_serum,anion_gap,leukocytes_blood_manual,hematocrit\n",
      "2023-09-20 11:40:27,994 - EHRQC - INFO - args.scaler_save_path: None\n",
      "2023-09-20 11:40:28,117 - EHRQC - INFO - Done!!\n"
     ]
    },
    {
     "data": {
      "text/plain": [
       "0"
      ]
     },
     "execution_count": 6,
     "metadata": {},
     "output_type": "execute_result"
    }
   ],
   "source": [
    "import os\n",
    "\n",
    "os.system(\n",
    "    '''cd /superbugai-data/yash/chapter_1/workspace/EHRQC;'''\n",
    "    +\n",
    "    '''.venv/bin/python -m ehrqc.qc.Standardise data/icd_cohort_test/outlier_removal/lab_measurements_min_icd_corrected.csv data/icd_cohort_test/standardised/lab_measurements_min_icd_standardised.csv -c \"chloride_serum\",\"creatinine\",\"sodium_serum\",\"hemoglobin\",\"platelet_count\",\"urea_nitrogen\",\"glucose_serum\",\"bicarbonate\",\"potassium_serum\",\"anion_gap\",\"leukocytes_blood_manual\",\"hematocrit\";'''\n",
    "    +\n",
    "    '''.venv/bin/python -m ehrqc.qc.Standardise data/icd_cohort_test/outlier_removal/lab_measurements_max_icd_corrected.csv data/icd_cohort_test/standardised/lab_measurements_max_icd_standardised.csv -c \"chloride_serum\",\"creatinine\",\"sodium_serum\",\"hemoglobin\",\"platelet_count\",\"urea_nitrogen\",\"glucose_serum\",\"bicarbonate\",\"potassium_serum\",\"anion_gap\",\"leukocytes_blood_manual\",\"hematocrit\";'''\n",
    "    +\n",
    "    '''.venv/bin/python -m ehrqc.qc.Standardise data/icd_cohort_test/outlier_removal/lab_measurements_avg_icd_corrected.csv data/icd_cohort_test/standardised/lab_measurements_avg_icd_standardised.csv -c \"chloride_serum\",\"creatinine\",\"sodium_serum\",\"hemoglobin\",\"platelet_count\",\"urea_nitrogen\",\"glucose_serum\",\"bicarbonate\",\"potassium_serum\",\"anion_gap\",\"leukocytes_blood_manual\",\"hematocrit\";'''\n",
    "    +\n",
    "    '''.venv/bin/python -m ehrqc.qc.Standardise data/icd_cohort_test/outlier_removal/lab_measurements_stddev_icd_corrected.csv data/icd_cohort_test/standardised/lab_measurements_stddev_icd_standardised.csv -c \"chloride_serum\",\"creatinine\",\"sodium_serum\",\"hemoglobin\",\"glucose_serum\",\"bicarbonate\",\"potassium_serum\";'''\n",
    "    +\n",
    "    '''.venv/bin/python -m ehrqc.qc.Standardise data/icd_cohort_test/outlier_removal/lab_measurements_first_icd_corrected.csv data/icd_cohort_test/standardised/lab_measurements_first_icd_standardised.csv -c \"chloride_serum\",\"creatinine\",\"sodium_serum\",\"hemoglobin\",\"platelet_count\",\"urea_nitrogen\",\"glucose_serum\",\"bicarbonate\",\"potassium_serum\",\"anion_gap\",\"leukocytes_blood_manual\",\"hematocrit\";'''\n",
    "    +\n",
    "    '''.venv/bin/python -m ehrqc.qc.Standardise data/icd_cohort_test/outlier_removal/lab_measurements_last_icd_corrected.csv data/icd_cohort_test/standardised/lab_measurements_last_icd_standardised.csv -c \"chloride_serum\",\"creatinine\",\"sodium_serum\",\"hemoglobin\",\"platelet_count\",\"urea_nitrogen\",\"glucose_serum\",\"bicarbonate\",\"potassium_serum\",\"anion_gap\",\"leukocytes_blood_manual\",\"hematocrit\";'''\n",
    "    )"
   ]
  }
 ],
 "metadata": {
  "kernelspec": {
   "display_name": ".venv",
   "language": "python",
   "name": "python3"
  },
  "language_info": {
   "codemirror_mode": {
    "name": "ipython",
    "version": 3
   },
   "file_extension": ".py",
   "mimetype": "text/x-python",
   "name": "python",
   "nbconvert_exporter": "python",
   "pygments_lexer": "ipython3",
   "version": "3.9.5"
  },
  "orig_nbformat": 4
 },
 "nbformat": 4,
 "nbformat_minor": 2
}
