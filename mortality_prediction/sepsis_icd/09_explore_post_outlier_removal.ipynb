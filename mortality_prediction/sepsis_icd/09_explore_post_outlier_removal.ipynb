{
 "cells": [
  {
   "cell_type": "markdown",
   "metadata": {},
   "source": [
    "# Exploring the data post missing value imputation"
   ]
  },
  {
   "cell_type": "markdown",
   "metadata": {},
   "source": [
    "## Read individual files"
   ]
  },
  {
   "cell_type": "code",
   "execution_count": 7,
   "metadata": {},
   "outputs": [],
   "source": [
    "import pandas as pd\n",
    "\n",
    "demographics =  pd.read_csv('/superbugai-data/yash/chapter_1/workspace/EHRQC/data/icd_cohort_test/demographics_icd.csv')\n",
    "vitals_min =  pd.read_csv('/superbugai-data/yash/chapter_1/workspace/EHRQC/data/icd_cohort_test/outlier_removal/vitals_min_icd_corrected.csv')\n",
    "vitals_max =  pd.read_csv('/superbugai-data/yash/chapter_1/workspace/EHRQC/data/icd_cohort_test/outlier_removal/vitals_max_icd_corrected.csv')\n",
    "vitals_avg =  pd.read_csv('/superbugai-data/yash/chapter_1/workspace/EHRQC/data/icd_cohort_test/outlier_removal/vitals_avg_icd_corrected.csv')\n",
    "vitals_stddev =  pd.read_csv('/superbugai-data/yash/chapter_1/workspace/EHRQC/data/icd_cohort_test/outlier_removal/vitals_stddev_icd_corrected.csv')\n",
    "vitals_first =  pd.read_csv('/superbugai-data/yash/chapter_1/workspace/EHRQC/data/icd_cohort_test/outlier_removal/vitals_first_icd_corrected.csv')\n",
    "vitals_last =  pd.read_csv('/superbugai-data/yash/chapter_1/workspace/EHRQC/data/icd_cohort_test/outlier_removal/vitals_last_icd_corrected.csv')\n",
    "lab_measurements_min =  pd.read_csv('/superbugai-data/yash/chapter_1/workspace/EHRQC/data/icd_cohort_test/outlier_removal/lab_measurements_min_icd_corrected.csv')\n",
    "lab_measurements_max =  pd.read_csv('/superbugai-data/yash/chapter_1/workspace/EHRQC/data/icd_cohort_test/outlier_removal/lab_measurements_max_icd_corrected.csv')\n",
    "lab_measurements_avg =  pd.read_csv('/superbugai-data/yash/chapter_1/workspace/EHRQC/data/icd_cohort_test/outlier_removal/lab_measurements_avg_icd_corrected.csv')\n",
    "lab_measurements_stddev =  pd.read_csv('/superbugai-data/yash/chapter_1/workspace/EHRQC/data/icd_cohort_test/outlier_removal/lab_measurements_stddev_icd_corrected.csv')\n",
    "lab_measurements_first =  pd.read_csv('/superbugai-data/yash/chapter_1/workspace/EHRQC/data/icd_cohort_test/outlier_removal/lab_measurements_first_icd_corrected.csv')\n",
    "lab_measurements_last =  pd.read_csv('/superbugai-data/yash/chapter_1/workspace/EHRQC/data/icd_cohort_test/outlier_removal/lab_measurements_last_icd_corrected.csv')"
   ]
  },
  {
   "cell_type": "code",
   "execution_count": 8,
   "metadata": {},
   "outputs": [
    {
     "data": {
      "text/plain": [
       "(12241, 4)"
      ]
     },
     "execution_count": 8,
     "metadata": {},
     "output_type": "execute_result"
    }
   ],
   "source": [
    "demographics.shape"
   ]
  },
  {
   "cell_type": "code",
   "execution_count": 9,
   "metadata": {},
   "outputs": [
    {
     "data": {
      "text/plain": [
       "((3941, 11), (3941, 11), (3941, 11), (3941, 11), (3941, 11), (3941, 11))"
      ]
     },
     "execution_count": 9,
     "metadata": {},
     "output_type": "execute_result"
    }
   ],
   "source": [
    "vitals_min.shape, vitals_max.shape, vitals_avg.shape, vitals_stddev.shape, vitals_first.shape, vitals_last.shape"
   ]
  },
  {
   "cell_type": "code",
   "execution_count": 10,
   "metadata": {},
   "outputs": [
    {
     "data": {
      "text/plain": [
       "((7496, 13), (7494, 13), (7497, 13), (7636, 8), (7496, 13), (7496, 13))"
      ]
     },
     "execution_count": 10,
     "metadata": {},
     "output_type": "execute_result"
    }
   ],
   "source": [
    "lab_measurements_min.shape, lab_measurements_max.shape, lab_measurements_avg.shape, lab_measurements_stddev.shape, lab_measurements_first.shape, lab_measurements_last.shape"
   ]
  },
  {
   "cell_type": "markdown",
   "metadata": {},
   "source": [
    "## Generate graphs"
   ]
  },
  {
   "cell_type": "markdown",
   "metadata": {},
   "source": [
    "### Generate exploration graphs for demographics"
   ]
  },
  {
   "cell_type": "code",
   "execution_count": 11,
   "metadata": {},
   "outputs": [
    {
     "name": "stdout",
     "output_type": "stream",
     "text": [
      "2023-09-14 10:33:07,452 - EHRQC - INFO - Parsing command line arguments\n",
      "2023-09-14 10:33:07,453 - EHRQC - INFO - args.plot_type: demographics_explore\n",
      "2023-09-14 10:33:07,453 - EHRQC - INFO - args.source_path: data/icd_cohort_test/demographics_icd.csv\n",
      "2023-09-14 10:33:07,453 - EHRQC - INFO - args.save_path: data/icd_cohort_test/outlier_removal/demographics_icd_explore.html\n",
      "2023-09-14 10:33:07,454 - EHRQC - INFO - args.column_mapping: None\n",
      "2023-09-14 10:33:07,454 - EHRQC - INFO - args.column_mapping: {}\n",
      "2023-09-14 10:33:07,461 - EHRQC - INFO - generating graphs\n"
     ]
    },
    {
     "name": "stderr",
     "output_type": "stream",
     "text": [
      "/superbugai-data/yash/chapter_1/workspace/EHRQC/.venv/lib/python3.9/site-packages/missingno/missingno.py:61: UserWarning: Plotting a sparkline on an existing axis is not currently supported. To remove this warning, set sparkline=False.\n",
      "  warnings.warn(\n"
     ]
    },
    {
     "name": "stdout",
     "output_type": "stream",
     "text": [
      "2023-09-14 10:33:08,003 - EHRQC - INFO - Done!!\n"
     ]
    },
    {
     "data": {
      "text/plain": [
       "0"
      ]
     },
     "execution_count": 11,
     "metadata": {},
     "output_type": "execute_result"
    }
   ],
   "source": [
    "import os\n",
    "\n",
    "os.system(\n",
    "    '''cd /superbugai-data/yash/chapter_1/workspace/EHRQC;'''\n",
    "    +\n",
    "    '''.venv/bin/python -m ehrqc.qc.Plot \"demographics_explore\" \"data/icd_cohort_test/demographics_icd.csv\" \"data/icd_cohort_test/outlier_removal/demographics_icd_explore.html\"'''\n",
    "    )"
   ]
  },
  {
   "cell_type": "markdown",
   "metadata": {},
   "source": [
    "### Generate exploration graphs for vitals"
   ]
  },
  {
   "cell_type": "markdown",
   "metadata": {},
   "source": [
    "#### Vitals exploration graphs for minimum values"
   ]
  },
  {
   "cell_type": "code",
   "execution_count": 12,
   "metadata": {},
   "outputs": [
    {
     "name": "stdout",
     "output_type": "stream",
     "text": [
      "2023-09-14 10:33:09,821 - EHRQC - INFO - Parsing command line arguments\n",
      "2023-09-14 10:33:09,822 - EHRQC - INFO - args.plot_type: vitals_explore\n",
      "2023-09-14 10:33:09,822 - EHRQC - INFO - args.source_path: data/icd_cohort_test/outlier_removal/vitals_min_icd_corrected.csv\n",
      "2023-09-14 10:33:09,822 - EHRQC - INFO - args.save_path: data/icd_cohort_test/outlier_removal/vitals_min_icd_explore.html\n",
      "2023-09-14 10:33:09,822 - EHRQC - INFO - args.column_mapping: None\n",
      "2023-09-14 10:33:09,822 - EHRQC - INFO - args.column_mapping: {}\n",
      "2023-09-14 10:33:09,829 - EHRQC - INFO - generating graphs\n"
     ]
    },
    {
     "name": "stderr",
     "output_type": "stream",
     "text": [
      "/superbugai-data/yash/chapter_1/workspace/EHRQC/.venv/lib/python3.9/site-packages/missingno/missingno.py:61: UserWarning: Plotting a sparkline on an existing axis is not currently supported. To remove this warning, set sparkline=False.\n",
      "  warnings.warn(\n"
     ]
    },
    {
     "name": "stdout",
     "output_type": "stream",
     "text": [
      "2023-09-14 10:33:11,329 - EHRQC - INFO - Done!!\n"
     ]
    },
    {
     "data": {
      "text/plain": [
       "0"
      ]
     },
     "execution_count": 12,
     "metadata": {},
     "output_type": "execute_result"
    }
   ],
   "source": [
    "import os\n",
    "\n",
    "os.system(\n",
    "    '''cd /superbugai-data/yash/chapter_1/workspace/EHRQC;'''\n",
    "    +\n",
    "    '''.venv/bin/python -m ehrqc.qc.Plot \"vitals_explore\" \"data/icd_cohort_test/outlier_removal/vitals_min_icd_corrected.csv\" \"data/icd_cohort_test/outlier_removal/vitals_min_icd_explore.html\"'''\n",
    "    )"
   ]
  },
  {
   "cell_type": "markdown",
   "metadata": {},
   "source": [
    "#### Vitals exploration graphs for maximum values"
   ]
  },
  {
   "cell_type": "code",
   "execution_count": 13,
   "metadata": {},
   "outputs": [
    {
     "name": "stdout",
     "output_type": "stream",
     "text": [
      "2023-09-14 10:33:13,134 - EHRQC - INFO - Parsing command line arguments\n",
      "2023-09-14 10:33:13,135 - EHRQC - INFO - args.plot_type: vitals_explore\n",
      "2023-09-14 10:33:13,135 - EHRQC - INFO - args.source_path: data/icd_cohort_test/outlier_removal/vitals_max_icd_corrected.csv\n",
      "2023-09-14 10:33:13,135 - EHRQC - INFO - args.save_path: data/icd_cohort_test/outlier_removal/vitals_max_icd_explore.html\n",
      "2023-09-14 10:33:13,135 - EHRQC - INFO - args.column_mapping: None\n",
      "2023-09-14 10:33:13,135 - EHRQC - INFO - args.column_mapping: {}\n",
      "2023-09-14 10:33:13,142 - EHRQC - INFO - generating graphs\n"
     ]
    },
    {
     "name": "stderr",
     "output_type": "stream",
     "text": [
      "/superbugai-data/yash/chapter_1/workspace/EHRQC/.venv/lib/python3.9/site-packages/missingno/missingno.py:61: UserWarning: Plotting a sparkline on an existing axis is not currently supported. To remove this warning, set sparkline=False.\n",
      "  warnings.warn(\n"
     ]
    },
    {
     "name": "stdout",
     "output_type": "stream",
     "text": [
      "2023-09-14 10:33:14,609 - EHRQC - INFO - Done!!\n"
     ]
    },
    {
     "data": {
      "text/plain": [
       "0"
      ]
     },
     "execution_count": 13,
     "metadata": {},
     "output_type": "execute_result"
    }
   ],
   "source": [
    "import os\n",
    "\n",
    "os.system(\n",
    "    '''cd /superbugai-data/yash/chapter_1/workspace/EHRQC;'''\n",
    "    +\n",
    "    '''.venv/bin/python -m ehrqc.qc.Plot \"vitals_explore\" \"data/icd_cohort_test/outlier_removal/vitals_max_icd_corrected.csv\" \"data/icd_cohort_test/outlier_removal/vitals_max_icd_explore.html\"'''\n",
    "    )"
   ]
  },
  {
   "cell_type": "markdown",
   "metadata": {},
   "source": [
    "#### Vitals exploration graphs for average values"
   ]
  },
  {
   "cell_type": "code",
   "execution_count": 14,
   "metadata": {},
   "outputs": [
    {
     "name": "stdout",
     "output_type": "stream",
     "text": [
      "2023-09-14 10:33:16,402 - EHRQC - INFO - Parsing command line arguments\n",
      "2023-09-14 10:33:16,403 - EHRQC - INFO - args.plot_type: vitals_explore\n",
      "2023-09-14 10:33:16,403 - EHRQC - INFO - args.source_path: data/icd_cohort_test/outlier_removal/vitals_avg_icd_corrected.csv\n",
      "2023-09-14 10:33:16,403 - EHRQC - INFO - args.save_path: data/icd_cohort_test/outlier_removal/vitals_avg_icd_explore.html\n",
      "2023-09-14 10:33:16,403 - EHRQC - INFO - args.column_mapping: None\n",
      "2023-09-14 10:33:16,403 - EHRQC - INFO - args.column_mapping: {}\n",
      "2023-09-14 10:33:16,412 - EHRQC - INFO - generating graphs\n"
     ]
    },
    {
     "name": "stderr",
     "output_type": "stream",
     "text": [
      "/superbugai-data/yash/chapter_1/workspace/EHRQC/.venv/lib/python3.9/site-packages/missingno/missingno.py:61: UserWarning: Plotting a sparkline on an existing axis is not currently supported. To remove this warning, set sparkline=False.\n",
      "  warnings.warn(\n"
     ]
    },
    {
     "name": "stdout",
     "output_type": "stream",
     "text": [
      "2023-09-14 10:33:17,862 - EHRQC - INFO - Done!!\n"
     ]
    },
    {
     "data": {
      "text/plain": [
       "0"
      ]
     },
     "execution_count": 14,
     "metadata": {},
     "output_type": "execute_result"
    }
   ],
   "source": [
    "import os\n",
    "\n",
    "os.system(\n",
    "    '''cd /superbugai-data/yash/chapter_1/workspace/EHRQC;'''\n",
    "    +\n",
    "    '''.venv/bin/python -m ehrqc.qc.Plot \"vitals_explore\" \"data/icd_cohort_test/outlier_removal/vitals_avg_icd_corrected.csv\" \"data/icd_cohort_test/outlier_removal/vitals_avg_icd_explore.html\"'''\n",
    "    )"
   ]
  },
  {
   "cell_type": "markdown",
   "metadata": {},
   "source": [
    "#### Vitals exploration graphs for standard deviation values"
   ]
  },
  {
   "cell_type": "code",
   "execution_count": 15,
   "metadata": {},
   "outputs": [
    {
     "name": "stdout",
     "output_type": "stream",
     "text": [
      "2023-09-14 10:33:19,649 - EHRQC - INFO - Parsing command line arguments\n",
      "2023-09-14 10:33:19,650 - EHRQC - INFO - args.plot_type: vitals_explore\n",
      "2023-09-14 10:33:19,650 - EHRQC - INFO - args.source_path: data/icd_cohort_test/outlier_removal/vitals_stddev_icd_corrected.csv\n",
      "2023-09-14 10:33:19,650 - EHRQC - INFO - args.save_path: data/icd_cohort_test/outlier_removal/vitals_stddev_icd_explore.html\n",
      "2023-09-14 10:33:19,650 - EHRQC - INFO - args.column_mapping: None\n",
      "2023-09-14 10:33:19,650 - EHRQC - INFO - args.column_mapping: {}\n",
      "2023-09-14 10:33:19,659 - EHRQC - INFO - generating graphs\n"
     ]
    },
    {
     "name": "stderr",
     "output_type": "stream",
     "text": [
      "/superbugai-data/yash/chapter_1/workspace/EHRQC/.venv/lib/python3.9/site-packages/missingno/missingno.py:61: UserWarning: Plotting a sparkline on an existing axis is not currently supported. To remove this warning, set sparkline=False.\n",
      "  warnings.warn(\n"
     ]
    },
    {
     "name": "stdout",
     "output_type": "stream",
     "text": [
      "2023-09-14 10:33:21,092 - EHRQC - INFO - Done!!\n"
     ]
    },
    {
     "data": {
      "text/plain": [
       "0"
      ]
     },
     "execution_count": 15,
     "metadata": {},
     "output_type": "execute_result"
    }
   ],
   "source": [
    "import os\n",
    "\n",
    "os.system(\n",
    "    '''cd /superbugai-data/yash/chapter_1/workspace/EHRQC;'''\n",
    "    +\n",
    "    '''.venv/bin/python -m ehrqc.qc.Plot \"vitals_explore\" \"data/icd_cohort_test/outlier_removal/vitals_stddev_icd_corrected.csv\" \"data/icd_cohort_test/outlier_removal/vitals_stddev_icd_explore.html\"'''\n",
    "    )"
   ]
  },
  {
   "cell_type": "markdown",
   "metadata": {},
   "source": [
    "#### Vitals exploration graphs for first values"
   ]
  },
  {
   "cell_type": "code",
   "execution_count": 16,
   "metadata": {},
   "outputs": [
    {
     "name": "stdout",
     "output_type": "stream",
     "text": [
      "2023-09-14 10:33:22,907 - EHRQC - INFO - Parsing command line arguments\n",
      "2023-09-14 10:33:22,908 - EHRQC - INFO - args.plot_type: vitals_explore\n",
      "2023-09-14 10:33:22,908 - EHRQC - INFO - args.source_path: data/icd_cohort_test/outlier_removal/vitals_first_icd_corrected.csv\n",
      "2023-09-14 10:33:22,909 - EHRQC - INFO - args.save_path: data/icd_cohort_test/outlier_removal/vitals_first_icd_explore.html\n",
      "2023-09-14 10:33:22,909 - EHRQC - INFO - args.column_mapping: None\n",
      "2023-09-14 10:33:22,909 - EHRQC - INFO - args.column_mapping: {}\n",
      "2023-09-14 10:33:22,916 - EHRQC - INFO - generating graphs\n"
     ]
    },
    {
     "name": "stderr",
     "output_type": "stream",
     "text": [
      "/superbugai-data/yash/chapter_1/workspace/EHRQC/.venv/lib/python3.9/site-packages/missingno/missingno.py:61: UserWarning: Plotting a sparkline on an existing axis is not currently supported. To remove this warning, set sparkline=False.\n",
      "  warnings.warn(\n"
     ]
    },
    {
     "name": "stdout",
     "output_type": "stream",
     "text": [
      "2023-09-14 10:33:24,377 - EHRQC - INFO - Done!!\n"
     ]
    },
    {
     "data": {
      "text/plain": [
       "0"
      ]
     },
     "execution_count": 16,
     "metadata": {},
     "output_type": "execute_result"
    }
   ],
   "source": [
    "import os\n",
    "\n",
    "os.system(\n",
    "    '''cd /superbugai-data/yash/chapter_1/workspace/EHRQC;'''\n",
    "    +\n",
    "    '''.venv/bin/python -m ehrqc.qc.Plot \"vitals_explore\" \"data/icd_cohort_test/outlier_removal/vitals_first_icd_corrected.csv\" \"data/icd_cohort_test/outlier_removal/vitals_first_icd_explore.html\"'''\n",
    "    )"
   ]
  },
  {
   "cell_type": "markdown",
   "metadata": {},
   "source": [
    "#### Vitals exploration graphs for last values"
   ]
  },
  {
   "cell_type": "code",
   "execution_count": 17,
   "metadata": {},
   "outputs": [
    {
     "name": "stdout",
     "output_type": "stream",
     "text": [
      "2023-09-14 10:33:26,281 - EHRQC - INFO - Parsing command line arguments\n",
      "2023-09-14 10:33:26,282 - EHRQC - INFO - args.plot_type: vitals_explore\n",
      "2023-09-14 10:33:26,282 - EHRQC - INFO - args.source_path: data/icd_cohort_test/outlier_removal/vitals_last_icd_corrected.csv\n",
      "2023-09-14 10:33:26,282 - EHRQC - INFO - args.save_path: data/icd_cohort_test/outlier_removal/vitals_last_icd_explore.html\n",
      "2023-09-14 10:33:26,282 - EHRQC - INFO - args.column_mapping: None\n",
      "2023-09-14 10:33:26,282 - EHRQC - INFO - args.column_mapping: {}\n",
      "2023-09-14 10:33:26,289 - EHRQC - INFO - generating graphs\n"
     ]
    },
    {
     "name": "stderr",
     "output_type": "stream",
     "text": [
      "/superbugai-data/yash/chapter_1/workspace/EHRQC/.venv/lib/python3.9/site-packages/missingno/missingno.py:61: UserWarning: Plotting a sparkline on an existing axis is not currently supported. To remove this warning, set sparkline=False.\n",
      "  warnings.warn(\n"
     ]
    },
    {
     "name": "stdout",
     "output_type": "stream",
     "text": [
      "2023-09-14 10:33:27,740 - EHRQC - INFO - Done!!\n"
     ]
    },
    {
     "data": {
      "text/plain": [
       "0"
      ]
     },
     "execution_count": 17,
     "metadata": {},
     "output_type": "execute_result"
    }
   ],
   "source": [
    "import os\n",
    "\n",
    "os.system(\n",
    "    '''cd /superbugai-data/yash/chapter_1/workspace/EHRQC;'''\n",
    "    +\n",
    "    '''.venv/bin/python -m ehrqc.qc.Plot \"vitals_explore\" \"data/icd_cohort_test/outlier_removal/vitals_last_icd_corrected.csv\" \"data/icd_cohort_test/outlier_removal/vitals_last_icd_explore.html\"'''\n",
    "    )"
   ]
  },
  {
   "cell_type": "markdown",
   "metadata": {},
   "source": [
    "### Generate anomaly graphs for vitals"
   ]
  },
  {
   "cell_type": "markdown",
   "metadata": {},
   "source": [
    "#### Vitals anomaly graphs for minimum values"
   ]
  },
  {
   "cell_type": "code",
   "execution_count": 18,
   "metadata": {},
   "outputs": [
    {
     "name": "stdout",
     "output_type": "stream",
     "text": [
      "2023-09-14 10:33:29,544 - Anomalies - INFO - Parsing command line arguments\n",
      "2023-09-14 10:33:29,546 - Anomalies - INFO - Start!!\n",
      "2023-09-14 10:33:29,546 - Anomalies - INFO - args.source_path: data/icd_cohort_test/outlier_removal/vitals_min_icd_corrected.csv\n",
      "2023-09-14 10:33:29,546 - Anomalies - INFO - args.save_path: data/icd_cohort_test/outlier_removal/\n",
      "2023-09-14 10:33:29,546 - Anomalies - INFO - args.save_prefix: vitals_min_icd\n",
      "2023-09-14 10:33:29,546 - Anomalies - INFO - args.detect_missing: True\n",
      "2023-09-14 10:33:29,546 - Anomalies - INFO - args.detect_outliers: True\n",
      "2023-09-14 10:33:29,546 - Anomalies - INFO - args.detect_errors: True\n",
      "2023-09-14 10:33:29,546 - Anomalies - INFO - args.detect_inconsistencies: True\n",
      "2023-09-14 10:33:29,546 - Anomalies - INFO - args.correct_missing: False\n",
      "2023-09-14 10:33:29,546 - Anomalies - INFO - args.correct_outliers: False\n",
      "2023-09-14 10:34:39,548 - Anomalies - INFO - Done!!\n"
     ]
    },
    {
     "data": {
      "text/plain": [
       "0"
      ]
     },
     "execution_count": 18,
     "metadata": {},
     "output_type": "execute_result"
    }
   ],
   "source": [
    "import os\n",
    "\n",
    "os.system(\n",
    "    '''cd /superbugai-data/yash/chapter_1/workspace/EHRQC;'''\n",
    "    +\n",
    "    '''.venv/bin/python -m ehrqc.qc.Anomalies 'data/icd_cohort_test/outlier_removal/vitals_min_icd_corrected.csv' 'data/icd_cohort_test/outlier_removal/' 'vitals_min_icd' -dm -do -de -di'''\n",
    "    )"
   ]
  },
  {
   "cell_type": "markdown",
   "metadata": {},
   "source": [
    "#### Vitals anomaly graphs for maximum values"
   ]
  },
  {
   "cell_type": "code",
   "execution_count": 19,
   "metadata": {},
   "outputs": [
    {
     "name": "stdout",
     "output_type": "stream",
     "text": [
      "2023-09-14 10:34:41,393 - Anomalies - INFO - Parsing command line arguments\n",
      "2023-09-14 10:34:41,394 - Anomalies - INFO - Start!!\n",
      "2023-09-14 10:34:41,394 - Anomalies - INFO - args.source_path: data/icd_cohort_test/outlier_removal/vitals_max_icd_corrected.csv\n",
      "2023-09-14 10:34:41,394 - Anomalies - INFO - args.save_path: data/icd_cohort_test/outlier_removal/\n",
      "2023-09-14 10:34:41,395 - Anomalies - INFO - args.save_prefix: vitals_max_icd\n",
      "2023-09-14 10:34:41,395 - Anomalies - INFO - args.detect_missing: True\n",
      "2023-09-14 10:34:41,395 - Anomalies - INFO - args.detect_outliers: True\n",
      "2023-09-14 10:34:41,395 - Anomalies - INFO - args.detect_errors: True\n",
      "2023-09-14 10:34:41,395 - Anomalies - INFO - args.detect_inconsistencies: True\n",
      "2023-09-14 10:34:41,395 - Anomalies - INFO - args.correct_missing: False\n",
      "2023-09-14 10:34:41,395 - Anomalies - INFO - args.correct_outliers: False\n",
      "2023-09-14 10:37:01,531 - Anomalies - INFO - Done!!\n"
     ]
    },
    {
     "data": {
      "text/plain": [
       "0"
      ]
     },
     "execution_count": 19,
     "metadata": {},
     "output_type": "execute_result"
    }
   ],
   "source": [
    "import os\n",
    "\n",
    "os.system(\n",
    "    '''cd /superbugai-data/yash/chapter_1/workspace/EHRQC;'''\n",
    "    +\n",
    "    '''.venv/bin/python -m ehrqc.qc.Anomalies 'data/icd_cohort_test/outlier_removal/vitals_max_icd_corrected.csv' 'data/icd_cohort_test/outlier_removal/' 'vitals_max_icd' -dm -do -de -di'''\n",
    "    )"
   ]
  },
  {
   "cell_type": "markdown",
   "metadata": {},
   "source": [
    "#### Vitals anomaly graphs for average values"
   ]
  },
  {
   "cell_type": "code",
   "execution_count": 20,
   "metadata": {},
   "outputs": [
    {
     "name": "stdout",
     "output_type": "stream",
     "text": [
      "2023-09-14 10:37:03,602 - Anomalies - INFO - Parsing command line arguments\n",
      "2023-09-14 10:37:03,603 - Anomalies - INFO - Start!!\n",
      "2023-09-14 10:37:03,603 - Anomalies - INFO - args.source_path: data/icd_cohort_test/outlier_removal/vitals_avg_icd_corrected.csv\n",
      "2023-09-14 10:37:03,603 - Anomalies - INFO - args.save_path: data/icd_cohort_test/outlier_removal/\n",
      "2023-09-14 10:37:03,603 - Anomalies - INFO - args.save_prefix: vitals_avg_icd\n",
      "2023-09-14 10:37:03,604 - Anomalies - INFO - args.detect_missing: True\n",
      "2023-09-14 10:37:03,604 - Anomalies - INFO - args.detect_outliers: True\n",
      "2023-09-14 10:37:03,604 - Anomalies - INFO - args.detect_errors: True\n",
      "2023-09-14 10:37:03,604 - Anomalies - INFO - args.detect_inconsistencies: True\n",
      "2023-09-14 10:37:03,604 - Anomalies - INFO - args.correct_missing: False\n",
      "2023-09-14 10:37:03,604 - Anomalies - INFO - args.correct_outliers: False\n",
      "2023-09-14 10:37:46,663 - Anomalies - INFO - Done!!\n"
     ]
    },
    {
     "data": {
      "text/plain": [
       "0"
      ]
     },
     "execution_count": 20,
     "metadata": {},
     "output_type": "execute_result"
    }
   ],
   "source": [
    "import os\n",
    "\n",
    "os.system(\n",
    "    '''cd /superbugai-data/yash/chapter_1/workspace/EHRQC;'''\n",
    "    +\n",
    "    '''.venv/bin/python -m ehrqc.qc.Anomalies 'data/icd_cohort_test/outlier_removal/vitals_avg_icd_corrected.csv' 'data/icd_cohort_test/outlier_removal/' 'vitals_avg_icd' -dm -do -de -di'''\n",
    "    )"
   ]
  },
  {
   "cell_type": "markdown",
   "metadata": {},
   "source": [
    "#### Vitals anomaly graphs for standard deviation values"
   ]
  },
  {
   "cell_type": "code",
   "execution_count": 21,
   "metadata": {},
   "outputs": [
    {
     "name": "stdout",
     "output_type": "stream",
     "text": [
      "2023-09-14 10:37:48,504 - Anomalies - INFO - Parsing command line arguments\n",
      "2023-09-14 10:37:48,506 - Anomalies - INFO - Start!!\n",
      "2023-09-14 10:37:48,506 - Anomalies - INFO - args.source_path: data/icd_cohort_test/outlier_removal/vitals_stddev_icd_corrected.csv\n",
      "2023-09-14 10:37:48,506 - Anomalies - INFO - args.save_path: data/icd_cohort_test/outlier_removal/\n",
      "2023-09-14 10:37:48,506 - Anomalies - INFO - args.save_prefix: vitals_stddev_icd\n",
      "2023-09-14 10:37:48,506 - Anomalies - INFO - args.detect_missing: True\n",
      "2023-09-14 10:37:48,506 - Anomalies - INFO - args.detect_outliers: True\n",
      "2023-09-14 10:37:48,506 - Anomalies - INFO - args.detect_errors: True\n",
      "2023-09-14 10:37:48,506 - Anomalies - INFO - args.detect_inconsistencies: True\n",
      "2023-09-14 10:37:48,506 - Anomalies - INFO - args.correct_missing: False\n",
      "2023-09-14 10:37:48,506 - Anomalies - INFO - args.correct_outliers: False\n",
      "2023-09-14 10:38:25,690 - Anomalies - INFO - Done!!\n"
     ]
    },
    {
     "data": {
      "text/plain": [
       "0"
      ]
     },
     "execution_count": 21,
     "metadata": {},
     "output_type": "execute_result"
    }
   ],
   "source": [
    "import os\n",
    "\n",
    "os.system(\n",
    "    '''cd /superbugai-data/yash/chapter_1/workspace/EHRQC;'''\n",
    "    +\n",
    "    '''.venv/bin/python -m ehrqc.qc.Anomalies 'data/icd_cohort_test/outlier_removal/vitals_stddev_icd_corrected.csv' 'data/icd_cohort_test/outlier_removal/' 'vitals_stddev_icd' -dm -do -de -di'''\n",
    "    )"
   ]
  },
  {
   "cell_type": "markdown",
   "metadata": {},
   "source": [
    "#### Vitals anomaly graphs for first values"
   ]
  },
  {
   "cell_type": "code",
   "execution_count": 22,
   "metadata": {},
   "outputs": [
    {
     "name": "stdout",
     "output_type": "stream",
     "text": [
      "2023-09-14 10:38:27,533 - Anomalies - INFO - Parsing command line arguments\n",
      "2023-09-14 10:38:27,534 - Anomalies - INFO - Start!!\n",
      "2023-09-14 10:38:27,534 - Anomalies - INFO - args.source_path: data/icd_cohort_test/outlier_removal/vitals_first_icd_corrected.csv\n",
      "2023-09-14 10:38:27,534 - Anomalies - INFO - args.save_path: data/icd_cohort_test/outlier_removal/\n",
      "2023-09-14 10:38:27,534 - Anomalies - INFO - args.save_prefix: vitals_first_icd\n",
      "2023-09-14 10:38:27,534 - Anomalies - INFO - args.detect_missing: True\n",
      "2023-09-14 10:38:27,534 - Anomalies - INFO - args.detect_outliers: True\n",
      "2023-09-14 10:38:27,534 - Anomalies - INFO - args.detect_errors: True\n",
      "2023-09-14 10:38:27,534 - Anomalies - INFO - args.detect_inconsistencies: True\n",
      "2023-09-14 10:38:27,534 - Anomalies - INFO - args.correct_missing: False\n",
      "2023-09-14 10:38:27,534 - Anomalies - INFO - args.correct_outliers: False\n",
      "2023-09-14 10:39:07,297 - Anomalies - INFO - Done!!\n"
     ]
    },
    {
     "data": {
      "text/plain": [
       "0"
      ]
     },
     "execution_count": 22,
     "metadata": {},
     "output_type": "execute_result"
    }
   ],
   "source": [
    "import os\n",
    "\n",
    "os.system(\n",
    "    '''cd /superbugai-data/yash/chapter_1/workspace/EHRQC;'''\n",
    "    +\n",
    "    '''.venv/bin/python -m ehrqc.qc.Anomalies 'data/icd_cohort_test/outlier_removal/vitals_first_icd_corrected.csv' 'data/icd_cohort_test/outlier_removal/' 'vitals_first_icd' -dm -do -de -di'''\n",
    "    )"
   ]
  },
  {
   "cell_type": "markdown",
   "metadata": {},
   "source": [
    "#### Vitals anomaly graphs for last values"
   ]
  },
  {
   "cell_type": "code",
   "execution_count": 23,
   "metadata": {},
   "outputs": [
    {
     "name": "stdout",
     "output_type": "stream",
     "text": [
      "2023-09-14 10:39:09,304 - Anomalies - INFO - Parsing command line arguments\n",
      "2023-09-14 10:39:09,305 - Anomalies - INFO - Start!!\n",
      "2023-09-14 10:39:09,305 - Anomalies - INFO - args.source_path: data/icd_cohort_test/outlier_removal/vitals_last_icd_corrected.csv\n",
      "2023-09-14 10:39:09,305 - Anomalies - INFO - args.save_path: data/icd_cohort_test/outlier_removal/\n",
      "2023-09-14 10:39:09,305 - Anomalies - INFO - args.save_prefix: vitals_last_icd\n",
      "2023-09-14 10:39:09,305 - Anomalies - INFO - args.detect_missing: True\n",
      "2023-09-14 10:39:09,305 - Anomalies - INFO - args.detect_outliers: True\n",
      "2023-09-14 10:39:09,305 - Anomalies - INFO - args.detect_errors: True\n",
      "2023-09-14 10:39:09,306 - Anomalies - INFO - args.detect_inconsistencies: True\n",
      "2023-09-14 10:39:09,306 - Anomalies - INFO - args.correct_missing: False\n",
      "2023-09-14 10:39:09,306 - Anomalies - INFO - args.correct_outliers: False\n",
      "2023-09-14 10:39:42,826 - Anomalies - INFO - Done!!\n"
     ]
    },
    {
     "data": {
      "text/plain": [
       "0"
      ]
     },
     "execution_count": 23,
     "metadata": {},
     "output_type": "execute_result"
    }
   ],
   "source": [
    "import os\n",
    "\n",
    "os.system(\n",
    "    '''cd /superbugai-data/yash/chapter_1/workspace/EHRQC;'''\n",
    "    +\n",
    "    '''.venv/bin/python -m ehrqc.qc.Anomalies 'data/icd_cohort_test/outlier_removal/vitals_last_icd_corrected.csv' 'data/icd_cohort_test/outlier_removal/' 'vitals_last_icd' -dm -do -de -di'''\n",
    "    )"
   ]
  },
  {
   "cell_type": "markdown",
   "metadata": {},
   "source": [
    "### Generate exploration graphs for lab measurements"
   ]
  },
  {
   "cell_type": "markdown",
   "metadata": {},
   "source": [
    "#### Lab measurements exploration graphs for minimum values"
   ]
  },
  {
   "cell_type": "code",
   "execution_count": 24,
   "metadata": {},
   "outputs": [
    {
     "name": "stdout",
     "output_type": "stream",
     "text": [
      "2023-09-14 10:39:44,725 - EHRQC - INFO - Parsing command line arguments\n",
      "2023-09-14 10:39:44,726 - EHRQC - INFO - args.plot_type: lab_measurements_explore\n",
      "2023-09-14 10:39:44,726 - EHRQC - INFO - args.source_path: data/icd_cohort_test/outlier_removal/lab_measurements_min_icd_corrected.csv\n",
      "2023-09-14 10:39:44,726 - EHRQC - INFO - args.save_path: data/icd_cohort_test/outlier_removal/lab_measurements_min_icd_explore.html\n",
      "2023-09-14 10:39:44,726 - EHRQC - INFO - args.column_mapping: None\n",
      "2023-09-14 10:39:44,726 - EHRQC - INFO - args.column_mapping: {}\n",
      "2023-09-14 10:39:44,737 - EHRQC - INFO - generating graphs\n"
     ]
    },
    {
     "name": "stderr",
     "output_type": "stream",
     "text": [
      "/superbugai-data/yash/chapter_1/workspace/EHRQC/.venv/lib/python3.9/site-packages/missingno/missingno.py:61: UserWarning: Plotting a sparkline on an existing axis is not currently supported. To remove this warning, set sparkline=False.\n",
      "  warnings.warn(\n"
     ]
    },
    {
     "name": "stdout",
     "output_type": "stream",
     "text": [
      "2023-09-14 10:39:45,907 - EHRQC - INFO - Done!!\n"
     ]
    },
    {
     "data": {
      "text/plain": [
       "0"
      ]
     },
     "execution_count": 24,
     "metadata": {},
     "output_type": "execute_result"
    }
   ],
   "source": [
    "import os\n",
    "\n",
    "os.system(\n",
    "    '''cd /superbugai-data/yash/chapter_1/workspace/EHRQC;'''\n",
    "    +\n",
    "    '''.venv/bin/python -m ehrqc.qc.Plot \"lab_measurements_explore\" \"data/icd_cohort_test/outlier_removal/lab_measurements_min_icd_corrected.csv\" \"data/icd_cohort_test/outlier_removal/lab_measurements_min_icd_explore.html\"'''\n",
    "    )"
   ]
  },
  {
   "cell_type": "markdown",
   "metadata": {},
   "source": [
    "#### Lab measurements exploration graphs for maximum values"
   ]
  },
  {
   "cell_type": "code",
   "execution_count": 25,
   "metadata": {},
   "outputs": [
    {
     "name": "stdout",
     "output_type": "stream",
     "text": [
      "2023-09-14 10:39:47,952 - EHRQC - INFO - Parsing command line arguments\n",
      "2023-09-14 10:39:47,954 - EHRQC - INFO - args.plot_type: lab_measurements_explore\n",
      "2023-09-14 10:39:47,954 - EHRQC - INFO - args.source_path: data/icd_cohort_test/outlier_removal/lab_measurements_max_icd_corrected.csv\n",
      "2023-09-14 10:39:47,954 - EHRQC - INFO - args.save_path: data/icd_cohort_test/outlier_removal/lab_measurements_max_icd_explore.html\n",
      "2023-09-14 10:39:47,954 - EHRQC - INFO - args.column_mapping: None\n",
      "2023-09-14 10:39:47,954 - EHRQC - INFO - args.column_mapping: {}\n",
      "2023-09-14 10:39:47,964 - EHRQC - INFO - generating graphs\n"
     ]
    },
    {
     "name": "stderr",
     "output_type": "stream",
     "text": [
      "/superbugai-data/yash/chapter_1/workspace/EHRQC/.venv/lib/python3.9/site-packages/missingno/missingno.py:61: UserWarning: Plotting a sparkline on an existing axis is not currently supported. To remove this warning, set sparkline=False.\n",
      "  warnings.warn(\n"
     ]
    },
    {
     "name": "stdout",
     "output_type": "stream",
     "text": [
      "2023-09-14 10:39:49,189 - EHRQC - INFO - Done!!\n"
     ]
    },
    {
     "data": {
      "text/plain": [
       "0"
      ]
     },
     "execution_count": 25,
     "metadata": {},
     "output_type": "execute_result"
    }
   ],
   "source": [
    "import os\n",
    "\n",
    "os.system(\n",
    "    '''cd /superbugai-data/yash/chapter_1/workspace/EHRQC;'''\n",
    "    +\n",
    "    '''.venv/bin/python -m ehrqc.qc.Plot \"lab_measurements_explore\" \"data/icd_cohort_test/outlier_removal/lab_measurements_max_icd_corrected.csv\" \"data/icd_cohort_test/outlier_removal/lab_measurements_max_icd_explore.html\"'''\n",
    "    )"
   ]
  },
  {
   "cell_type": "markdown",
   "metadata": {},
   "source": [
    "#### Lab measurements exploration graphs for average values"
   ]
  },
  {
   "cell_type": "code",
   "execution_count": 26,
   "metadata": {},
   "outputs": [
    {
     "name": "stdout",
     "output_type": "stream",
     "text": [
      "2023-09-14 10:39:50,981 - EHRQC - INFO - Parsing command line arguments\n",
      "2023-09-14 10:39:50,982 - EHRQC - INFO - args.plot_type: lab_measurements_explore\n",
      "2023-09-14 10:39:50,982 - EHRQC - INFO - args.source_path: data/icd_cohort_test/outlier_removal/lab_measurements_avg_icd_corrected.csv\n",
      "2023-09-14 10:39:50,982 - EHRQC - INFO - args.save_path: data/icd_cohort_test/outlier_removal/lab_measurements_avg_icd_explore.html\n",
      "2023-09-14 10:39:50,982 - EHRQC - INFO - args.column_mapping: None\n",
      "2023-09-14 10:39:50,982 - EHRQC - INFO - args.column_mapping: {}\n",
      "2023-09-14 10:39:50,996 - EHRQC - INFO - generating graphs\n"
     ]
    },
    {
     "name": "stderr",
     "output_type": "stream",
     "text": [
      "/superbugai-data/yash/chapter_1/workspace/EHRQC/.venv/lib/python3.9/site-packages/missingno/missingno.py:61: UserWarning: Plotting a sparkline on an existing axis is not currently supported. To remove this warning, set sparkline=False.\n",
      "  warnings.warn(\n"
     ]
    },
    {
     "name": "stdout",
     "output_type": "stream",
     "text": [
      "2023-09-14 10:39:52,254 - EHRQC - INFO - Done!!\n"
     ]
    },
    {
     "data": {
      "text/plain": [
       "0"
      ]
     },
     "execution_count": 26,
     "metadata": {},
     "output_type": "execute_result"
    }
   ],
   "source": [
    "import os\n",
    "\n",
    "os.system(\n",
    "    '''cd /superbugai-data/yash/chapter_1/workspace/EHRQC;'''\n",
    "    +\n",
    "    '''.venv/bin/python -m ehrqc.qc.Plot \"lab_measurements_explore\" \"data/icd_cohort_test/outlier_removal/lab_measurements_avg_icd_corrected.csv\" \"data/icd_cohort_test/outlier_removal/lab_measurements_avg_icd_explore.html\"'''\n",
    "    )"
   ]
  },
  {
   "cell_type": "markdown",
   "metadata": {},
   "source": [
    "#### Lab measurements exploration graphs for standard deviation values"
   ]
  },
  {
   "cell_type": "code",
   "execution_count": 27,
   "metadata": {},
   "outputs": [
    {
     "name": "stdout",
     "output_type": "stream",
     "text": [
      "2023-09-14 10:39:54,058 - EHRQC - INFO - Parsing command line arguments\n",
      "2023-09-14 10:39:54,059 - EHRQC - INFO - args.plot_type: lab_measurements_explore\n",
      "2023-09-14 10:39:54,059 - EHRQC - INFO - args.source_path: data/icd_cohort_test/outlier_removal/lab_measurements_stddev_icd_corrected.csv\n",
      "2023-09-14 10:39:54,059 - EHRQC - INFO - args.save_path: data/icd_cohort_test/outlier_removal/lab_measurements_stddev_icd_explore.html\n",
      "2023-09-14 10:39:54,059 - EHRQC - INFO - args.column_mapping: None\n",
      "2023-09-14 10:39:54,059 - EHRQC - INFO - args.column_mapping: {}\n",
      "2023-09-14 10:39:54,071 - EHRQC - INFO - generating graphs\n"
     ]
    },
    {
     "name": "stderr",
     "output_type": "stream",
     "text": [
      "/superbugai-data/yash/chapter_1/workspace/EHRQC/.venv/lib/python3.9/site-packages/missingno/missingno.py:61: UserWarning: Plotting a sparkline on an existing axis is not currently supported. To remove this warning, set sparkline=False.\n",
      "  warnings.warn(\n"
     ]
    },
    {
     "name": "stdout",
     "output_type": "stream",
     "text": [
      "2023-09-14 10:39:54,654 - EHRQC - INFO - Done!!\n"
     ]
    },
    {
     "data": {
      "text/plain": [
       "0"
      ]
     },
     "execution_count": 27,
     "metadata": {},
     "output_type": "execute_result"
    }
   ],
   "source": [
    "import os\n",
    "\n",
    "os.system(\n",
    "    '''cd /superbugai-data/yash/chapter_1/workspace/EHRQC;'''\n",
    "    +\n",
    "    '''.venv/bin/python -m ehrqc.qc.Plot \"lab_measurements_explore\" \"data/icd_cohort_test/outlier_removal/lab_measurements_stddev_icd_corrected.csv\" \"data/icd_cohort_test/outlier_removal/lab_measurements_stddev_icd_explore.html\"'''\n",
    "    )"
   ]
  },
  {
   "cell_type": "markdown",
   "metadata": {},
   "source": [
    "#### Lab measurements exploration graphs for first values"
   ]
  },
  {
   "cell_type": "code",
   "execution_count": 28,
   "metadata": {},
   "outputs": [
    {
     "name": "stdout",
     "output_type": "stream",
     "text": [
      "2023-09-14 10:39:56,609 - EHRQC - INFO - Parsing command line arguments\n",
      "2023-09-14 10:39:56,610 - EHRQC - INFO - args.plot_type: lab_measurements_explore\n",
      "2023-09-14 10:39:56,610 - EHRQC - INFO - args.source_path: data/icd_cohort_test/outlier_removal/lab_measurements_first_icd_corrected.csv\n",
      "2023-09-14 10:39:56,610 - EHRQC - INFO - args.save_path: data/icd_cohort_test/outlier_removal/lab_measurements_first_icd_explore.html\n",
      "2023-09-14 10:39:56,610 - EHRQC - INFO - args.column_mapping: None\n",
      "2023-09-14 10:39:56,610 - EHRQC - INFO - args.column_mapping: {}\n",
      "2023-09-14 10:39:56,621 - EHRQC - INFO - generating graphs\n"
     ]
    },
    {
     "name": "stderr",
     "output_type": "stream",
     "text": [
      "/superbugai-data/yash/chapter_1/workspace/EHRQC/.venv/lib/python3.9/site-packages/missingno/missingno.py:61: UserWarning: Plotting a sparkline on an existing axis is not currently supported. To remove this warning, set sparkline=False.\n",
      "  warnings.warn(\n"
     ]
    },
    {
     "name": "stdout",
     "output_type": "stream",
     "text": [
      "2023-09-14 10:39:57,851 - EHRQC - INFO - Done!!\n"
     ]
    },
    {
     "data": {
      "text/plain": [
       "0"
      ]
     },
     "execution_count": 28,
     "metadata": {},
     "output_type": "execute_result"
    }
   ],
   "source": [
    "import os\n",
    "\n",
    "os.system(\n",
    "    '''cd /superbugai-data/yash/chapter_1/workspace/EHRQC;'''\n",
    "    +\n",
    "    '''.venv/bin/python -m ehrqc.qc.Plot \"lab_measurements_explore\" \"data/icd_cohort_test/outlier_removal/lab_measurements_first_icd_corrected.csv\" \"data/icd_cohort_test/outlier_removal/lab_measurements_first_icd_explore.html\"'''\n",
    "    )"
   ]
  },
  {
   "cell_type": "markdown",
   "metadata": {},
   "source": [
    "#### Lab measurements exploration graphs for last values"
   ]
  },
  {
   "cell_type": "code",
   "execution_count": 29,
   "metadata": {},
   "outputs": [
    {
     "name": "stdout",
     "output_type": "stream",
     "text": [
      "2023-09-14 10:39:59,699 - EHRQC - INFO - Parsing command line arguments\n",
      "2023-09-14 10:39:59,700 - EHRQC - INFO - args.plot_type: lab_measurements_explore\n",
      "2023-09-14 10:39:59,700 - EHRQC - INFO - args.source_path: data/icd_cohort_test/outlier_removal/lab_measurements_last_icd_corrected.csv\n",
      "2023-09-14 10:39:59,700 - EHRQC - INFO - args.save_path: data/icd_cohort_test/outlier_removal/lab_measurements_last_icd_explore.html\n",
      "2023-09-14 10:39:59,700 - EHRQC - INFO - args.column_mapping: None\n",
      "2023-09-14 10:39:59,700 - EHRQC - INFO - args.column_mapping: {}\n",
      "2023-09-14 10:39:59,711 - EHRQC - INFO - generating graphs\n"
     ]
    },
    {
     "name": "stderr",
     "output_type": "stream",
     "text": [
      "/superbugai-data/yash/chapter_1/workspace/EHRQC/.venv/lib/python3.9/site-packages/missingno/missingno.py:61: UserWarning: Plotting a sparkline on an existing axis is not currently supported. To remove this warning, set sparkline=False.\n",
      "  warnings.warn(\n"
     ]
    },
    {
     "name": "stdout",
     "output_type": "stream",
     "text": [
      "2023-09-14 10:40:00,913 - EHRQC - INFO - Done!!\n"
     ]
    },
    {
     "data": {
      "text/plain": [
       "0"
      ]
     },
     "execution_count": 29,
     "metadata": {},
     "output_type": "execute_result"
    }
   ],
   "source": [
    "import os\n",
    "\n",
    "os.system(\n",
    "    '''cd /superbugai-data/yash/chapter_1/workspace/EHRQC;'''\n",
    "    +\n",
    "    '''.venv/bin/python -m ehrqc.qc.Plot \"lab_measurements_explore\" \"data/icd_cohort_test/outlier_removal/lab_measurements_last_icd_corrected.csv\" \"data/icd_cohort_test/outlier_removal/lab_measurements_last_icd_explore.html\"'''\n",
    "    )"
   ]
  },
  {
   "cell_type": "markdown",
   "metadata": {},
   "source": [
    "### Generate anomaly graphs for lab measurements"
   ]
  },
  {
   "cell_type": "markdown",
   "metadata": {},
   "source": [
    "#### Lab measurements anomaly graph for minimum values"
   ]
  },
  {
   "cell_type": "code",
   "execution_count": 30,
   "metadata": {},
   "outputs": [
    {
     "name": "stdout",
     "output_type": "stream",
     "text": [
      "2023-09-14 10:40:02,699 - Anomalies - INFO - Parsing command line arguments\n",
      "2023-09-14 10:40:02,700 - Anomalies - INFO - Start!!\n",
      "2023-09-14 10:40:02,700 - Anomalies - INFO - args.source_path: data/icd_cohort_test/outlier_removal/lab_measurements_min_icd_corrected.csv\n",
      "2023-09-14 10:40:02,700 - Anomalies - INFO - args.save_path: data/icd_cohort_test/outlier_removal/\n",
      "2023-09-14 10:40:02,700 - Anomalies - INFO - args.save_prefix: lab_measurements_min_icd\n",
      "2023-09-14 10:40:02,700 - Anomalies - INFO - args.detect_missing: True\n",
      "2023-09-14 10:40:02,700 - Anomalies - INFO - args.detect_outliers: True\n",
      "2023-09-14 10:40:02,700 - Anomalies - INFO - args.detect_errors: True\n",
      "2023-09-14 10:40:02,700 - Anomalies - INFO - args.detect_inconsistencies: True\n",
      "2023-09-14 10:40:02,700 - Anomalies - INFO - args.correct_missing: False\n",
      "2023-09-14 10:40:02,700 - Anomalies - INFO - args.correct_outliers: False\n",
      "2023-09-14 10:40:56,098 - Anomalies - INFO - Done!!\n"
     ]
    },
    {
     "data": {
      "text/plain": [
       "0"
      ]
     },
     "execution_count": 30,
     "metadata": {},
     "output_type": "execute_result"
    }
   ],
   "source": [
    "import os\n",
    "\n",
    "os.system(\n",
    "    '''cd /superbugai-data/yash/chapter_1/workspace/EHRQC;'''\n",
    "    +\n",
    "    '''.venv/bin/python -m ehrqc.qc.Anomalies 'data/icd_cohort_test/outlier_removal/lab_measurements_min_icd_corrected.csv' 'data/icd_cohort_test/outlier_removal/' 'lab_measurements_min_icd' -dm -do -de -di'''\n",
    "    )"
   ]
  },
  {
   "cell_type": "markdown",
   "metadata": {},
   "source": [
    "#### Lab measurements anomaly graph for maximum values"
   ]
  },
  {
   "cell_type": "code",
   "execution_count": 31,
   "metadata": {},
   "outputs": [
    {
     "name": "stdout",
     "output_type": "stream",
     "text": [
      "2023-09-14 10:40:57,989 - Anomalies - INFO - Parsing command line arguments\n",
      "2023-09-14 10:40:57,990 - Anomalies - INFO - Start!!\n",
      "2023-09-14 10:40:57,990 - Anomalies - INFO - args.source_path: data/icd_cohort_test/outlier_removal/lab_measurements_max_icd_corrected.csv\n",
      "2023-09-14 10:40:57,990 - Anomalies - INFO - args.save_path: data/icd_cohort_test/outlier_removal/\n",
      "2023-09-14 10:40:57,990 - Anomalies - INFO - args.save_prefix: lab_measurements_max_icd\n",
      "2023-09-14 10:40:57,990 - Anomalies - INFO - args.detect_missing: True\n",
      "2023-09-14 10:40:57,990 - Anomalies - INFO - args.detect_outliers: True\n",
      "2023-09-14 10:40:57,990 - Anomalies - INFO - args.detect_errors: True\n",
      "2023-09-14 10:40:57,990 - Anomalies - INFO - args.detect_inconsistencies: True\n",
      "2023-09-14 10:40:57,990 - Anomalies - INFO - args.correct_missing: False\n",
      "2023-09-14 10:40:57,990 - Anomalies - INFO - args.correct_outliers: False\n",
      "2023-09-14 10:41:33,817 - Anomalies - INFO - Done!!\n"
     ]
    },
    {
     "data": {
      "text/plain": [
       "0"
      ]
     },
     "execution_count": 31,
     "metadata": {},
     "output_type": "execute_result"
    }
   ],
   "source": [
    "import os\n",
    "\n",
    "os.system(\n",
    "    '''cd /superbugai-data/yash/chapter_1/workspace/EHRQC;'''\n",
    "    +\n",
    "    '''.venv/bin/python -m ehrqc.qc.Anomalies 'data/icd_cohort_test/outlier_removal/lab_measurements_max_icd_corrected.csv' 'data/icd_cohort_test/outlier_removal/' 'lab_measurements_max_icd' -dm -do -de -di'''\n",
    "    )"
   ]
  },
  {
   "cell_type": "markdown",
   "metadata": {},
   "source": [
    "#### Lab measurements anomaly graph for average values"
   ]
  },
  {
   "cell_type": "code",
   "execution_count": 32,
   "metadata": {},
   "outputs": [
    {
     "name": "stdout",
     "output_type": "stream",
     "text": [
      "2023-09-14 10:41:35,714 - Anomalies - INFO - Parsing command line arguments\n",
      "2023-09-14 10:41:35,715 - Anomalies - INFO - Start!!\n",
      "2023-09-14 10:41:35,715 - Anomalies - INFO - args.source_path: data/icd_cohort_test/outlier_removal/lab_measurements_avg_icd_corrected.csv\n",
      "2023-09-14 10:41:35,715 - Anomalies - INFO - args.save_path: data/icd_cohort_test/outlier_removal/\n",
      "2023-09-14 10:41:35,715 - Anomalies - INFO - args.save_prefix: lab_measurements_avg_icd\n",
      "2023-09-14 10:41:35,715 - Anomalies - INFO - args.detect_missing: True\n",
      "2023-09-14 10:41:35,715 - Anomalies - INFO - args.detect_outliers: True\n",
      "2023-09-14 10:41:35,715 - Anomalies - INFO - args.detect_errors: True\n",
      "2023-09-14 10:41:35,716 - Anomalies - INFO - args.detect_inconsistencies: True\n",
      "2023-09-14 10:41:35,716 - Anomalies - INFO - args.correct_missing: False\n",
      "2023-09-14 10:41:35,716 - Anomalies - INFO - args.correct_outliers: False\n",
      "2023-09-14 10:42:59,877 - Anomalies - INFO - Done!!\n"
     ]
    },
    {
     "data": {
      "text/plain": [
       "0"
      ]
     },
     "execution_count": 32,
     "metadata": {},
     "output_type": "execute_result"
    }
   ],
   "source": [
    "import os\n",
    "\n",
    "os.system(\n",
    "    '''cd /superbugai-data/yash/chapter_1/workspace/EHRQC;'''\n",
    "    +\n",
    "    '''.venv/bin/python -m ehrqc.qc.Anomalies 'data/icd_cohort_test/outlier_removal/lab_measurements_avg_icd_corrected.csv' 'data/icd_cohort_test/outlier_removal/' 'lab_measurements_avg_icd' -dm -do -de -di'''\n",
    "    )"
   ]
  },
  {
   "cell_type": "markdown",
   "metadata": {},
   "source": [
    "#### Lab measurements anomaly graph for standard deviation values"
   ]
  },
  {
   "cell_type": "code",
   "execution_count": 33,
   "metadata": {},
   "outputs": [
    {
     "name": "stdout",
     "output_type": "stream",
     "text": [
      "2023-09-14 10:43:01,837 - Anomalies - INFO - Parsing command line arguments\n",
      "2023-09-14 10:43:01,838 - Anomalies - INFO - Start!!\n",
      "2023-09-14 10:43:01,838 - Anomalies - INFO - args.source_path: data/icd_cohort_test/outlier_removal/lab_measurements_stddev_icd_corrected.csv\n",
      "2023-09-14 10:43:01,838 - Anomalies - INFO - args.save_path: data/icd_cohort_test/outlier_removal/\n",
      "2023-09-14 10:43:01,838 - Anomalies - INFO - args.save_prefix: lab_measurements_stddev_icd\n",
      "2023-09-14 10:43:01,838 - Anomalies - INFO - args.detect_missing: True\n",
      "2023-09-14 10:43:01,838 - Anomalies - INFO - args.detect_outliers: True\n",
      "2023-09-14 10:43:01,838 - Anomalies - INFO - args.detect_errors: True\n",
      "2023-09-14 10:43:01,838 - Anomalies - INFO - args.detect_inconsistencies: True\n",
      "2023-09-14 10:43:01,838 - Anomalies - INFO - args.correct_missing: False\n",
      "2023-09-14 10:43:01,839 - Anomalies - INFO - args.correct_outliers: False\n",
      "2023-09-14 10:44:06,877 - Anomalies - INFO - Done!!\n"
     ]
    },
    {
     "data": {
      "text/plain": [
       "0"
      ]
     },
     "execution_count": 33,
     "metadata": {},
     "output_type": "execute_result"
    }
   ],
   "source": [
    "import os\n",
    "\n",
    "os.system(\n",
    "    '''cd /superbugai-data/yash/chapter_1/workspace/EHRQC;'''\n",
    "    +\n",
    "    '''.venv/bin/python -m ehrqc.qc.Anomalies 'data/icd_cohort_test/outlier_removal/lab_measurements_stddev_icd_corrected.csv' 'data/icd_cohort_test/outlier_removal/' 'lab_measurements_stddev_icd' -dm -do -de -di'''\n",
    "    )"
   ]
  },
  {
   "cell_type": "markdown",
   "metadata": {},
   "source": [
    "#### Lab measurements anomaly graph for first values"
   ]
  },
  {
   "cell_type": "code",
   "execution_count": 34,
   "metadata": {},
   "outputs": [
    {
     "name": "stdout",
     "output_type": "stream",
     "text": [
      "2023-09-14 10:44:08,765 - Anomalies - INFO - Parsing command line arguments\n",
      "2023-09-14 10:44:08,766 - Anomalies - INFO - Start!!\n",
      "2023-09-14 10:44:08,766 - Anomalies - INFO - args.source_path: data/icd_cohort_test/outlier_removal/lab_measurements_first_icd_corrected.csv\n",
      "2023-09-14 10:44:08,766 - Anomalies - INFO - args.save_path: data/icd_cohort_test/outlier_removal/\n",
      "2023-09-14 10:44:08,766 - Anomalies - INFO - args.save_prefix: lab_measurements_first_icd\n",
      "2023-09-14 10:44:08,766 - Anomalies - INFO - args.detect_missing: True\n",
      "2023-09-14 10:44:08,766 - Anomalies - INFO - args.detect_outliers: True\n",
      "2023-09-14 10:44:08,766 - Anomalies - INFO - args.detect_errors: True\n",
      "2023-09-14 10:44:08,766 - Anomalies - INFO - args.detect_inconsistencies: True\n",
      "2023-09-14 10:44:08,766 - Anomalies - INFO - args.correct_missing: False\n",
      "2023-09-14 10:44:08,766 - Anomalies - INFO - args.correct_outliers: False\n",
      "2023-09-14 10:45:29,269 - Anomalies - INFO - Done!!\n"
     ]
    },
    {
     "data": {
      "text/plain": [
       "0"
      ]
     },
     "execution_count": 34,
     "metadata": {},
     "output_type": "execute_result"
    }
   ],
   "source": [
    "import os\n",
    "\n",
    "os.system(\n",
    "    '''cd /superbugai-data/yash/chapter_1/workspace/EHRQC;'''\n",
    "    +\n",
    "    '''.venv/bin/python -m ehrqc.qc.Anomalies 'data/icd_cohort_test/outlier_removal/lab_measurements_first_icd_corrected.csv' 'data/icd_cohort_test/outlier_removal/' 'lab_measurements_first_icd' -dm -do -de -di'''\n",
    "    )"
   ]
  },
  {
   "cell_type": "markdown",
   "metadata": {},
   "source": [
    "#### Lab measurements anomaly graph for last values"
   ]
  },
  {
   "cell_type": "code",
   "execution_count": 35,
   "metadata": {},
   "outputs": [
    {
     "name": "stdout",
     "output_type": "stream",
     "text": [
      "2023-09-14 10:45:31,321 - Anomalies - INFO - Parsing command line arguments\n",
      "2023-09-14 10:45:31,322 - Anomalies - INFO - Start!!\n",
      "2023-09-14 10:45:31,322 - Anomalies - INFO - args.source_path: data/icd_cohort_test/outlier_removal/lab_measurements_last_icd_corrected.csv\n",
      "2023-09-14 10:45:31,322 - Anomalies - INFO - args.save_path: data/icd_cohort_test/outlier_removal/\n",
      "2023-09-14 10:45:31,322 - Anomalies - INFO - args.save_prefix: lab_measurements_last_icd\n",
      "2023-09-14 10:45:31,322 - Anomalies - INFO - args.detect_missing: True\n",
      "2023-09-14 10:45:31,322 - Anomalies - INFO - args.detect_outliers: True\n",
      "2023-09-14 10:45:31,322 - Anomalies - INFO - args.detect_errors: True\n",
      "2023-09-14 10:45:31,322 - Anomalies - INFO - args.detect_inconsistencies: True\n",
      "2023-09-14 10:45:31,322 - Anomalies - INFO - args.correct_missing: False\n",
      "2023-09-14 10:45:31,322 - Anomalies - INFO - args.correct_outliers: False\n",
      "2023-09-14 10:46:34,223 - Anomalies - INFO - Done!!\n"
     ]
    },
    {
     "data": {
      "text/plain": [
       "0"
      ]
     },
     "execution_count": 35,
     "metadata": {},
     "output_type": "execute_result"
    }
   ],
   "source": [
    "import os\n",
    "\n",
    "os.system(\n",
    "    '''cd /superbugai-data/yash/chapter_1/workspace/EHRQC;'''\n",
    "    +\n",
    "    '''.venv/bin/python -m ehrqc.qc.Anomalies 'data/icd_cohort_test/outlier_removal/lab_measurements_last_icd_corrected.csv' 'data/icd_cohort_test/outlier_removal/' 'lab_measurements_last_icd' -dm -do -de -di'''\n",
    "    )"
   ]
  },
  {
   "cell_type": "markdown",
   "metadata": {},
   "source": [
    "## Conclusion"
   ]
  },
  {
   "cell_type": "markdown",
   "metadata": {},
   "source": []
  }
 ],
 "metadata": {
  "kernelspec": {
   "display_name": ".venv",
   "language": "python",
   "name": "python3"
  },
  "language_info": {
   "codemirror_mode": {
    "name": "ipython",
    "version": 3
   },
   "file_extension": ".py",
   "mimetype": "text/x-python",
   "name": "python",
   "nbconvert_exporter": "python",
   "pygments_lexer": "ipython3",
   "version": "3.9.5"
  },
  "orig_nbformat": 4
 },
 "nbformat": 4,
 "nbformat_minor": 2
}
