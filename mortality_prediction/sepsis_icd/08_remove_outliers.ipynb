{
 "cells": [
  {
   "cell_type": "markdown",
   "metadata": {},
   "source": [
    "# Removing the outliers"
   ]
  },
  {
   "cell_type": "markdown",
   "metadata": {},
   "source": [
    "## Remove outliers using IRT"
   ]
  },
  {
   "cell_type": "markdown",
   "metadata": {},
   "source": [
    "### IRT outlier removal for vitals"
   ]
  },
  {
   "cell_type": "markdown",
   "metadata": {},
   "source": [
    "#### Vitals outlier removal for minimum values"
   ]
  },
  {
   "cell_type": "code",
   "execution_count": 1,
   "metadata": {},
   "outputs": [
    {
     "name": "stdout",
     "output_type": "stream",
     "text": [
      "2023-09-14 09:54:52,759 - Anomalies - INFO - Parsing command line arguments\n",
      "2023-09-14 09:54:52,761 - Anomalies - INFO - Start!!\n",
      "2023-09-14 09:54:52,761 - Anomalies - INFO - args.source_path: data/icd_cohort_test/vitals_min_icd_imputed.csv\n",
      "2023-09-14 09:54:52,761 - Anomalies - INFO - args.save_path: data/icd_cohort_test/outlier_removal/\n",
      "2023-09-14 09:54:52,761 - Anomalies - INFO - args.save_prefix: vitals_min_icd\n",
      "2023-09-14 09:54:52,761 - Anomalies - INFO - args.detect_missing: False\n",
      "2023-09-14 09:54:52,761 - Anomalies - INFO - args.detect_outliers: False\n",
      "2023-09-14 09:54:52,761 - Anomalies - INFO - args.detect_errors: False\n",
      "2023-09-14 09:54:52,761 - Anomalies - INFO - args.detect_inconsistencies: False\n",
      "2023-09-14 09:54:52,761 - Anomalies - INFO - args.correct_missing: False\n",
      "2023-09-14 09:54:52,761 - Anomalies - INFO - args.correct_outliers: True\n"
     ]
    },
    {
     "name": "stderr",
     "output_type": "stream",
     "text": [
      "Warning message:\n",
      "In sqrt(diag(solve(Hess))) : NaNs produced\n"
     ]
    },
    {
     "name": "stdout",
     "output_type": "stream",
     "text": [
      "2023-09-14 09:55:05,403 - Anomalies - INFO - Done!!\n"
     ]
    },
    {
     "data": {
      "text/plain": [
       "0"
      ]
     },
     "execution_count": 1,
     "metadata": {},
     "output_type": "execute_result"
    }
   ],
   "source": [
    "import os\n",
    "\n",
    "os.system(\n",
    "    '''cd /superbugai-data/yash/chapter_1/workspace/EHRQC;'''\n",
    "    +\n",
    "    '''.venv/bin/python -m ehrqc.qc.Anomalies 'data/icd_cohort_test/vitals_min_icd_imputed.csv' 'data/icd_cohort_test/outlier_removal/' 'vitals_min_icd' -co'''\n",
    "    )"
   ]
  },
  {
   "cell_type": "markdown",
   "metadata": {},
   "source": [
    "#### Vitals outlier removal for maximum values"
   ]
  },
  {
   "cell_type": "code",
   "execution_count": 3,
   "metadata": {},
   "outputs": [
    {
     "name": "stdout",
     "output_type": "stream",
     "text": [
      "2023-09-14 09:58:11,393 - Anomalies - INFO - Parsing command line arguments\n",
      "2023-09-14 09:58:11,394 - Anomalies - INFO - Start!!\n",
      "2023-09-14 09:58:11,394 - Anomalies - INFO - args.source_path: data/icd_cohort_test/vitals_max_icd_imputed.csv\n",
      "2023-09-14 09:58:11,394 - Anomalies - INFO - args.save_path: data/icd_cohort_test/outlier_removal/\n",
      "2023-09-14 09:58:11,394 - Anomalies - INFO - args.save_prefix: vitals_max_icd\n",
      "2023-09-14 09:58:11,394 - Anomalies - INFO - args.detect_missing: False\n",
      "2023-09-14 09:58:11,394 - Anomalies - INFO - args.detect_outliers: False\n",
      "2023-09-14 09:58:11,394 - Anomalies - INFO - args.detect_errors: False\n",
      "2023-09-14 09:58:11,394 - Anomalies - INFO - args.detect_inconsistencies: False\n",
      "2023-09-14 09:58:11,394 - Anomalies - INFO - args.correct_missing: False\n",
      "2023-09-14 09:58:11,394 - Anomalies - INFO - args.correct_outliers: True\n"
     ]
    },
    {
     "name": "stderr",
     "output_type": "stream",
     "text": [
      "Warning message:\n",
      "In sqrt(diag(solve(Hess))) : NaNs produced\n"
     ]
    },
    {
     "name": "stdout",
     "output_type": "stream",
     "text": [
      "2023-09-14 09:58:21,935 - Anomalies - INFO - Done!!\n"
     ]
    },
    {
     "data": {
      "text/plain": [
       "0"
      ]
     },
     "execution_count": 3,
     "metadata": {},
     "output_type": "execute_result"
    }
   ],
   "source": [
    "import os\n",
    "\n",
    "os.system(\n",
    "    '''cd /superbugai-data/yash/chapter_1/workspace/EHRQC;'''\n",
    "    +\n",
    "    '''.venv/bin/python -m ehrqc.qc.Anomalies 'data/icd_cohort_test/vitals_max_icd_imputed.csv' 'data/icd_cohort_test/outlier_removal/' 'vitals_max_icd' -co'''\n",
    "    )"
   ]
  },
  {
   "cell_type": "markdown",
   "metadata": {},
   "source": [
    "#### Vitals outlier removal for average values"
   ]
  },
  {
   "cell_type": "code",
   "execution_count": 2,
   "metadata": {},
   "outputs": [
    {
     "name": "stdout",
     "output_type": "stream",
     "text": [
      "2023-09-14 09:57:57,095 - Anomalies - INFO - Parsing command line arguments\n",
      "2023-09-14 09:57:57,096 - Anomalies - INFO - Start!!\n",
      "2023-09-14 09:57:57,096 - Anomalies - INFO - args.source_path: data/icd_cohort_test/vitals_avg_icd_imputed.csv\n",
      "2023-09-14 09:57:57,096 - Anomalies - INFO - args.save_path: data/icd_cohort_test/outlier_removal/\n",
      "2023-09-14 09:57:57,096 - Anomalies - INFO - args.save_prefix: vitals_avg_icd\n",
      "2023-09-14 09:57:57,096 - Anomalies - INFO - args.detect_missing: False\n",
      "2023-09-14 09:57:57,096 - Anomalies - INFO - args.detect_outliers: False\n",
      "2023-09-14 09:57:57,096 - Anomalies - INFO - args.detect_errors: False\n",
      "2023-09-14 09:57:57,096 - Anomalies - INFO - args.detect_inconsistencies: False\n",
      "2023-09-14 09:57:57,096 - Anomalies - INFO - args.correct_missing: False\n",
      "2023-09-14 09:57:57,096 - Anomalies - INFO - args.correct_outliers: True\n"
     ]
    },
    {
     "name": "stderr",
     "output_type": "stream",
     "text": [
      "Warning message:\n",
      "In sqrt(diag(solve(Hess))) : NaNs produced\n"
     ]
    },
    {
     "name": "stdout",
     "output_type": "stream",
     "text": [
      "2023-09-14 09:58:09,471 - Anomalies - INFO - Done!!\n"
     ]
    },
    {
     "data": {
      "text/plain": [
       "0"
      ]
     },
     "execution_count": 2,
     "metadata": {},
     "output_type": "execute_result"
    }
   ],
   "source": [
    "import os\n",
    "\n",
    "os.system(\n",
    "    '''cd /superbugai-data/yash/chapter_1/workspace/EHRQC;'''\n",
    "    +\n",
    "    '''.venv/bin/python -m ehrqc.qc.Anomalies 'data/icd_cohort_test/vitals_avg_icd_imputed.csv' 'data/icd_cohort_test/outlier_removal/' 'vitals_avg_icd' -co'''\n",
    "    )"
   ]
  },
  {
   "cell_type": "markdown",
   "metadata": {},
   "source": [
    "#### Vitals outlier removal for standard deviation values"
   ]
  },
  {
   "cell_type": "code",
   "execution_count": 4,
   "metadata": {},
   "outputs": [
    {
     "name": "stdout",
     "output_type": "stream",
     "text": [
      "2023-09-14 09:58:34,745 - Anomalies - INFO - Parsing command line arguments\n",
      "2023-09-14 09:58:34,746 - Anomalies - INFO - Start!!\n",
      "2023-09-14 09:58:34,746 - Anomalies - INFO - args.source_path: data/icd_cohort_test/vitals_stddev_icd_imputed.csv\n",
      "2023-09-14 09:58:34,746 - Anomalies - INFO - args.save_path: data/icd_cohort_test/outlier_removal/\n",
      "2023-09-14 09:58:34,746 - Anomalies - INFO - args.save_prefix: vitals_stddev_icd\n",
      "2023-09-14 09:58:34,746 - Anomalies - INFO - args.detect_missing: False\n",
      "2023-09-14 09:58:34,746 - Anomalies - INFO - args.detect_outliers: False\n",
      "2023-09-14 09:58:34,746 - Anomalies - INFO - args.detect_errors: False\n",
      "2023-09-14 09:58:34,746 - Anomalies - INFO - args.detect_inconsistencies: False\n",
      "2023-09-14 09:58:34,746 - Anomalies - INFO - args.correct_missing: False\n",
      "2023-09-14 09:58:34,746 - Anomalies - INFO - args.correct_outliers: True\n"
     ]
    },
    {
     "name": "stderr",
     "output_type": "stream",
     "text": [
      "Warning message:\n",
      "In sqrt(diag(solve(Hess))) : NaNs produced\n"
     ]
    },
    {
     "name": "stdout",
     "output_type": "stream",
     "text": [
      "2023-09-14 09:58:45,853 - Anomalies - INFO - Done!!\n"
     ]
    },
    {
     "data": {
      "text/plain": [
       "0"
      ]
     },
     "execution_count": 4,
     "metadata": {},
     "output_type": "execute_result"
    }
   ],
   "source": [
    "import os\n",
    "\n",
    "os.system(\n",
    "    '''cd /superbugai-data/yash/chapter_1/workspace/EHRQC;'''\n",
    "    +\n",
    "    '''.venv/bin/python -m ehrqc.qc.Anomalies 'data/icd_cohort_test/vitals_stddev_icd_imputed.csv' 'data/icd_cohort_test/outlier_removal/' 'vitals_stddev_icd' -co'''\n",
    "    )"
   ]
  },
  {
   "cell_type": "markdown",
   "metadata": {},
   "source": [
    "#### Vitals outlier removal for first values"
   ]
  },
  {
   "cell_type": "code",
   "execution_count": 5,
   "metadata": {},
   "outputs": [
    {
     "name": "stdout",
     "output_type": "stream",
     "text": [
      "2023-09-14 09:58:57,449 - Anomalies - INFO - Parsing command line arguments\n",
      "2023-09-14 09:58:57,450 - Anomalies - INFO - Start!!\n",
      "2023-09-14 09:58:57,451 - Anomalies - INFO - args.source_path: data/icd_cohort_test/vitals_first_icd_imputed.csv\n",
      "2023-09-14 09:58:57,451 - Anomalies - INFO - args.save_path: data/icd_cohort_test/outlier_removal/\n",
      "2023-09-14 09:58:57,451 - Anomalies - INFO - args.save_prefix: vitals_first_icd\n",
      "2023-09-14 09:58:57,451 - Anomalies - INFO - args.detect_missing: False\n",
      "2023-09-14 09:58:57,451 - Anomalies - INFO - args.detect_outliers: False\n",
      "2023-09-14 09:58:57,451 - Anomalies - INFO - args.detect_errors: False\n",
      "2023-09-14 09:58:57,451 - Anomalies - INFO - args.detect_inconsistencies: False\n",
      "2023-09-14 09:58:57,451 - Anomalies - INFO - args.correct_missing: False\n",
      "2023-09-14 09:58:57,451 - Anomalies - INFO - args.correct_outliers: True\n"
     ]
    },
    {
     "name": "stderr",
     "output_type": "stream",
     "text": [
      "Warning message:\n",
      "In sqrt(diag(solve(Hess))) : NaNs produced\n"
     ]
    },
    {
     "name": "stdout",
     "output_type": "stream",
     "text": [
      "2023-09-14 09:59:08,200 - Anomalies - INFO - Done!!\n"
     ]
    },
    {
     "data": {
      "text/plain": [
       "0"
      ]
     },
     "execution_count": 5,
     "metadata": {},
     "output_type": "execute_result"
    }
   ],
   "source": [
    "import os\n",
    "\n",
    "os.system(\n",
    "    '''cd /superbugai-data/yash/chapter_1/workspace/EHRQC;'''\n",
    "    +\n",
    "    '''.venv/bin/python -m ehrqc.qc.Anomalies 'data/icd_cohort_test/vitals_first_icd_imputed.csv' 'data/icd_cohort_test/outlier_removal/' 'vitals_first_icd' -co'''\n",
    "    )"
   ]
  },
  {
   "cell_type": "markdown",
   "metadata": {},
   "source": [
    "#### Vitals outlier removal for last values"
   ]
  },
  {
   "cell_type": "code",
   "execution_count": 6,
   "metadata": {},
   "outputs": [
    {
     "name": "stdout",
     "output_type": "stream",
     "text": [
      "2023-09-14 09:59:20,059 - Anomalies - INFO - Parsing command line arguments\n",
      "2023-09-14 09:59:20,061 - Anomalies - INFO - Start!!\n",
      "2023-09-14 09:59:20,061 - Anomalies - INFO - args.source_path: data/icd_cohort_test/vitals_last_icd_imputed.csv\n",
      "2023-09-14 09:59:20,061 - Anomalies - INFO - args.save_path: data/icd_cohort_test/outlier_removal/\n",
      "2023-09-14 09:59:20,061 - Anomalies - INFO - args.save_prefix: vitals_last_icd\n",
      "2023-09-14 09:59:20,061 - Anomalies - INFO - args.detect_missing: False\n",
      "2023-09-14 09:59:20,061 - Anomalies - INFO - args.detect_outliers: False\n",
      "2023-09-14 09:59:20,061 - Anomalies - INFO - args.detect_errors: False\n",
      "2023-09-14 09:59:20,061 - Anomalies - INFO - args.detect_inconsistencies: False\n",
      "2023-09-14 09:59:20,061 - Anomalies - INFO - args.correct_missing: False\n",
      "2023-09-14 09:59:20,061 - Anomalies - INFO - args.correct_outliers: True\n"
     ]
    },
    {
     "name": "stderr",
     "output_type": "stream",
     "text": [
      "Warning message:\n",
      "In sqrt(diag(solve(Hess))) : NaNs produced\n"
     ]
    },
    {
     "name": "stdout",
     "output_type": "stream",
     "text": [
      "2023-09-14 09:59:30,535 - Anomalies - INFO - Done!!\n"
     ]
    },
    {
     "data": {
      "text/plain": [
       "0"
      ]
     },
     "execution_count": 6,
     "metadata": {},
     "output_type": "execute_result"
    }
   ],
   "source": [
    "import os\n",
    "\n",
    "os.system(\n",
    "    '''cd /superbugai-data/yash/chapter_1/workspace/EHRQC;'''\n",
    "    +\n",
    "    '''.venv/bin/python -m ehrqc.qc.Anomalies 'data/icd_cohort_test/vitals_last_icd_imputed.csv' 'data/icd_cohort_test/outlier_removal/' 'vitals_last_icd' -co'''\n",
    "    )"
   ]
  },
  {
   "cell_type": "markdown",
   "metadata": {},
   "source": [
    "### IRT outlier removal for lab measurements"
   ]
  },
  {
   "cell_type": "markdown",
   "metadata": {},
   "source": [
    "#### Lab measurements outlier removal for minimum values"
   ]
  },
  {
   "cell_type": "code",
   "execution_count": 7,
   "metadata": {},
   "outputs": [
    {
     "name": "stdout",
     "output_type": "stream",
     "text": [
      "2023-09-14 10:06:16,917 - Anomalies - INFO - Parsing command line arguments\n",
      "2023-09-14 10:06:16,918 - Anomalies - INFO - Start!!\n",
      "2023-09-14 10:06:16,918 - Anomalies - INFO - args.source_path: data/icd_cohort_test/lab_measurements_min_icd_imputed.csv\n",
      "2023-09-14 10:06:16,918 - Anomalies - INFO - args.save_path: data/icd_cohort_test/outlier_removal/\n",
      "2023-09-14 10:06:16,918 - Anomalies - INFO - args.save_prefix: lab_measurements_min_icd\n",
      "2023-09-14 10:06:16,918 - Anomalies - INFO - args.detect_missing: False\n",
      "2023-09-14 10:06:16,918 - Anomalies - INFO - args.detect_outliers: False\n",
      "2023-09-14 10:06:16,918 - Anomalies - INFO - args.detect_errors: False\n",
      "2023-09-14 10:06:16,918 - Anomalies - INFO - args.detect_inconsistencies: False\n",
      "2023-09-14 10:06:16,918 - Anomalies - INFO - args.correct_missing: False\n",
      "2023-09-14 10:06:16,918 - Anomalies - INFO - args.correct_outliers: True\n",
      "2023-09-14 10:06:34,514 - Anomalies - INFO - Done!!\n"
     ]
    },
    {
     "data": {
      "text/plain": [
       "0"
      ]
     },
     "execution_count": 7,
     "metadata": {},
     "output_type": "execute_result"
    }
   ],
   "source": [
    "import os\n",
    "\n",
    "os.system(\n",
    "    '''cd /superbugai-data/yash/chapter_1/workspace/EHRQC;'''\n",
    "    +\n",
    "    '''.venv/bin/python -m ehrqc.qc.Anomalies 'data/icd_cohort_test/lab_measurements_min_icd_imputed.csv' 'data/icd_cohort_test/outlier_removal/' 'lab_measurements_min_icd' -co'''\n",
    "    )"
   ]
  },
  {
   "cell_type": "markdown",
   "metadata": {},
   "source": [
    "#### Lab measurements outlier removal for maximum values"
   ]
  },
  {
   "cell_type": "code",
   "execution_count": 8,
   "metadata": {},
   "outputs": [
    {
     "name": "stdout",
     "output_type": "stream",
     "text": [
      "2023-09-14 10:07:25,812 - Anomalies - INFO - Parsing command line arguments\n",
      "2023-09-14 10:07:25,813 - Anomalies - INFO - Start!!\n",
      "2023-09-14 10:07:25,813 - Anomalies - INFO - args.source_path: data/icd_cohort_test/lab_measurements_max_icd_imputed.csv\n",
      "2023-09-14 10:07:25,813 - Anomalies - INFO - args.save_path: data/icd_cohort_test/outlier_removal/\n",
      "2023-09-14 10:07:25,813 - Anomalies - INFO - args.save_prefix: lab_measurements_max_icd\n",
      "2023-09-14 10:07:25,813 - Anomalies - INFO - args.detect_missing: False\n",
      "2023-09-14 10:07:25,813 - Anomalies - INFO - args.detect_outliers: False\n",
      "2023-09-14 10:07:25,813 - Anomalies - INFO - args.detect_errors: False\n",
      "2023-09-14 10:07:25,813 - Anomalies - INFO - args.detect_inconsistencies: False\n",
      "2023-09-14 10:07:25,813 - Anomalies - INFO - args.correct_missing: False\n",
      "2023-09-14 10:07:25,813 - Anomalies - INFO - args.correct_outliers: True\n",
      "2023-09-14 10:07:43,788 - Anomalies - INFO - Done!!\n"
     ]
    },
    {
     "data": {
      "text/plain": [
       "0"
      ]
     },
     "execution_count": 8,
     "metadata": {},
     "output_type": "execute_result"
    }
   ],
   "source": [
    "import os\n",
    "\n",
    "os.system(\n",
    "    '''cd /superbugai-data/yash/chapter_1/workspace/EHRQC;'''\n",
    "    +\n",
    "    '''.venv/bin/python -m ehrqc.qc.Anomalies 'data/icd_cohort_test/lab_measurements_max_icd_imputed.csv' 'data/icd_cohort_test/outlier_removal/' 'lab_measurements_max_icd' -co'''\n",
    "    )"
   ]
  },
  {
   "cell_type": "markdown",
   "metadata": {},
   "source": [
    "#### Lab measurements outlier removal for average values"
   ]
  },
  {
   "cell_type": "code",
   "execution_count": 9,
   "metadata": {},
   "outputs": [
    {
     "name": "stdout",
     "output_type": "stream",
     "text": [
      "2023-09-14 10:07:45,691 - Anomalies - INFO - Parsing command line arguments\n",
      "2023-09-14 10:07:45,693 - Anomalies - INFO - Start!!\n",
      "2023-09-14 10:07:45,693 - Anomalies - INFO - args.source_path: data/icd_cohort_test/lab_measurements_avg_icd_imputed.csv\n",
      "2023-09-14 10:07:45,693 - Anomalies - INFO - args.save_path: data/icd_cohort_test/outlier_removal/\n",
      "2023-09-14 10:07:45,693 - Anomalies - INFO - args.save_prefix: lab_measurements_avg_icd\n",
      "2023-09-14 10:07:45,693 - Anomalies - INFO - args.detect_missing: False\n",
      "2023-09-14 10:07:45,693 - Anomalies - INFO - args.detect_outliers: False\n",
      "2023-09-14 10:07:45,693 - Anomalies - INFO - args.detect_errors: False\n",
      "2023-09-14 10:07:45,693 - Anomalies - INFO - args.detect_inconsistencies: False\n",
      "2023-09-14 10:07:45,693 - Anomalies - INFO - args.correct_missing: False\n",
      "2023-09-14 10:07:45,693 - Anomalies - INFO - args.correct_outliers: True\n",
      "2023-09-14 10:08:03,844 - Anomalies - INFO - Done!!\n"
     ]
    },
    {
     "data": {
      "text/plain": [
       "0"
      ]
     },
     "execution_count": 9,
     "metadata": {},
     "output_type": "execute_result"
    }
   ],
   "source": [
    "import os\n",
    "\n",
    "os.system(\n",
    "    '''cd /superbugai-data/yash/chapter_1/workspace/EHRQC;'''\n",
    "    +\n",
    "    '''.venv/bin/python -m ehrqc.qc.Anomalies 'data/icd_cohort_test/lab_measurements_avg_icd_imputed.csv' 'data/icd_cohort_test/outlier_removal/' 'lab_measurements_avg_icd' -co'''\n",
    "    )"
   ]
  },
  {
   "cell_type": "markdown",
   "metadata": {},
   "source": [
    "#### Lab measurements outlier removal for standard deviation values"
   ]
  },
  {
   "cell_type": "code",
   "execution_count": 10,
   "metadata": {},
   "outputs": [
    {
     "name": "stdout",
     "output_type": "stream",
     "text": [
      "2023-09-14 10:08:13,106 - Anomalies - INFO - Parsing command line arguments\n",
      "2023-09-14 10:08:13,108 - Anomalies - INFO - Start!!\n",
      "2023-09-14 10:08:13,108 - Anomalies - INFO - args.source_path: data/icd_cohort_test/lab_measurements_stddev_icd_imputed.csv\n",
      "2023-09-14 10:08:13,108 - Anomalies - INFO - args.save_path: data/icd_cohort_test/outlier_removal/\n",
      "2023-09-14 10:08:13,108 - Anomalies - INFO - args.save_prefix: lab_measurements_stddev_icd\n",
      "2023-09-14 10:08:13,108 - Anomalies - INFO - args.detect_missing: False\n",
      "2023-09-14 10:08:13,108 - Anomalies - INFO - args.detect_outliers: False\n",
      "2023-09-14 10:08:13,108 - Anomalies - INFO - args.detect_errors: False\n",
      "2023-09-14 10:08:13,108 - Anomalies - INFO - args.detect_inconsistencies: False\n",
      "2023-09-14 10:08:13,108 - Anomalies - INFO - args.correct_missing: False\n",
      "2023-09-14 10:08:13,108 - Anomalies - INFO - args.correct_outliers: True\n"
     ]
    },
    {
     "name": "stderr",
     "output_type": "stream",
     "text": [
      "Warning message:\n",
      "In sqrt(diag(solve(Hess))) : NaNs produced\n"
     ]
    },
    {
     "name": "stdout",
     "output_type": "stream",
     "text": [
      "2023-09-14 10:08:30,949 - Anomalies - INFO - Done!!\n"
     ]
    },
    {
     "data": {
      "text/plain": [
       "0"
      ]
     },
     "execution_count": 10,
     "metadata": {},
     "output_type": "execute_result"
    }
   ],
   "source": [
    "import os\n",
    "\n",
    "os.system(\n",
    "    '''cd /superbugai-data/yash/chapter_1/workspace/EHRQC;'''\n",
    "    +\n",
    "    '''.venv/bin/python -m ehrqc.qc.Anomalies 'data/icd_cohort_test/lab_measurements_stddev_icd_imputed.csv' 'data/icd_cohort_test/outlier_removal/' 'lab_measurements_stddev_icd' -co'''\n",
    "    )"
   ]
  },
  {
   "cell_type": "markdown",
   "metadata": {},
   "source": [
    "#### Lab measurements outlier removal for first values"
   ]
  },
  {
   "cell_type": "code",
   "execution_count": 11,
   "metadata": {},
   "outputs": [
    {
     "name": "stdout",
     "output_type": "stream",
     "text": [
      "2023-09-14 10:08:41,550 - Anomalies - INFO - Parsing command line arguments\n",
      "2023-09-14 10:08:41,551 - Anomalies - INFO - Start!!\n",
      "2023-09-14 10:08:41,551 - Anomalies - INFO - args.source_path: data/icd_cohort_test/lab_measurements_first_icd_imputed.csv\n",
      "2023-09-14 10:08:41,551 - Anomalies - INFO - args.save_path: data/icd_cohort_test/outlier_removal/\n",
      "2023-09-14 10:08:41,551 - Anomalies - INFO - args.save_prefix: lab_measurements_first_icd\n",
      "2023-09-14 10:08:41,551 - Anomalies - INFO - args.detect_missing: False\n",
      "2023-09-14 10:08:41,551 - Anomalies - INFO - args.detect_outliers: False\n",
      "2023-09-14 10:08:41,551 - Anomalies - INFO - args.detect_errors: False\n",
      "2023-09-14 10:08:41,552 - Anomalies - INFO - args.detect_inconsistencies: False\n",
      "2023-09-14 10:08:41,552 - Anomalies - INFO - args.correct_missing: False\n",
      "2023-09-14 10:08:41,552 - Anomalies - INFO - args.correct_outliers: True\n",
      "2023-09-14 10:08:59,639 - Anomalies - INFO - Done!!\n"
     ]
    },
    {
     "data": {
      "text/plain": [
       "0"
      ]
     },
     "execution_count": 11,
     "metadata": {},
     "output_type": "execute_result"
    }
   ],
   "source": [
    "import os\n",
    "\n",
    "os.system(\n",
    "    '''cd /superbugai-data/yash/chapter_1/workspace/EHRQC;'''\n",
    "    +\n",
    "    '''.venv/bin/python -m ehrqc.qc.Anomalies 'data/icd_cohort_test/lab_measurements_first_icd_imputed.csv' 'data/icd_cohort_test/outlier_removal/' 'lab_measurements_first_icd' -co'''\n",
    "    )"
   ]
  },
  {
   "cell_type": "markdown",
   "metadata": {},
   "source": [
    "#### Lab measurements outlier removal for last values"
   ]
  },
  {
   "cell_type": "code",
   "execution_count": 12,
   "metadata": {},
   "outputs": [
    {
     "name": "stdout",
     "output_type": "stream",
     "text": [
      "2023-09-14 10:09:06,395 - Anomalies - INFO - Parsing command line arguments\n",
      "2023-09-14 10:09:06,396 - Anomalies - INFO - Start!!\n",
      "2023-09-14 10:09:06,396 - Anomalies - INFO - args.source_path: data/icd_cohort_test/lab_measurements_last_icd_imputed.csv\n",
      "2023-09-14 10:09:06,396 - Anomalies - INFO - args.save_path: data/icd_cohort_test/outlier_removal/\n",
      "2023-09-14 10:09:06,396 - Anomalies - INFO - args.save_prefix: lab_measurements_last_icd\n",
      "2023-09-14 10:09:06,396 - Anomalies - INFO - args.detect_missing: False\n",
      "2023-09-14 10:09:06,396 - Anomalies - INFO - args.detect_outliers: False\n",
      "2023-09-14 10:09:06,397 - Anomalies - INFO - args.detect_errors: False\n",
      "2023-09-14 10:09:06,397 - Anomalies - INFO - args.detect_inconsistencies: False\n",
      "2023-09-14 10:09:06,397 - Anomalies - INFO - args.correct_missing: False\n",
      "2023-09-14 10:09:06,397 - Anomalies - INFO - args.correct_outliers: True\n",
      "2023-09-14 10:09:24,177 - Anomalies - INFO - Done!!\n"
     ]
    },
    {
     "data": {
      "text/plain": [
       "0"
      ]
     },
     "execution_count": 12,
     "metadata": {},
     "output_type": "execute_result"
    }
   ],
   "source": [
    "import os\n",
    "\n",
    "os.system(\n",
    "    '''cd /superbugai-data/yash/chapter_1/workspace/EHRQC;'''\n",
    "    +\n",
    "    '''.venv/bin/python -m ehrqc.qc.Anomalies 'data/icd_cohort_test/lab_measurements_last_icd_imputed.csv' 'data/icd_cohort_test/outlier_removal/' 'lab_measurements_last_icd' -co'''\n",
    "    )"
   ]
  }
 ],
 "metadata": {
  "kernelspec": {
   "display_name": ".venv",
   "language": "python",
   "name": "python3"
  },
  "language_info": {
   "codemirror_mode": {
    "name": "ipython",
    "version": 3
   },
   "file_extension": ".py",
   "mimetype": "text/x-python",
   "name": "python",
   "nbconvert_exporter": "python",
   "pygments_lexer": "ipython3",
   "version": "3.9.5"
  },
  "orig_nbformat": 4
 },
 "nbformat": 4,
 "nbformat_minor": 2
}
