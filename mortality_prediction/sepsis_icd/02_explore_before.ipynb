{
 "cells": [
  {
   "cell_type": "markdown",
   "metadata": {},
   "source": [
    "# Exploring the raw data files extracted using EHR-QC"
   ]
  },
  {
   "cell_type": "markdown",
   "metadata": {},
   "source": [
    "## Read individual files"
   ]
  },
  {
   "cell_type": "code",
   "execution_count": 1,
   "metadata": {},
   "outputs": [],
   "source": [
    "import pandas as pd\n",
    "\n",
    "demographics =  pd.read_csv('/superbugai-data/yash/chapter_1/workspace/EHRQC/data/icd_cohort_test/demographics_icd.csv')\n",
    "vitals_min =  pd.read_csv('/superbugai-data/yash/chapter_1/workspace/EHRQC/data/icd_cohort_test/vitals_min_icd.csv')\n",
    "vitals_max =  pd.read_csv('/superbugai-data/yash/chapter_1/workspace/EHRQC/data/icd_cohort_test/vitals_max_icd.csv')\n",
    "vitals_avg =  pd.read_csv('/superbugai-data/yash/chapter_1/workspace/EHRQC/data/icd_cohort_test/vitals_avg_icd.csv')\n",
    "vitals_stddev =  pd.read_csv('/superbugai-data/yash/chapter_1/workspace/EHRQC/data/icd_cohort_test/vitals_stddev_icd.csv')\n",
    "vitals_first =  pd.read_csv('/superbugai-data/yash/chapter_1/workspace/EHRQC/data/icd_cohort_test/vitals_first_icd.csv')\n",
    "vitals_last =  pd.read_csv('/superbugai-data/yash/chapter_1/workspace/EHRQC/data/icd_cohort_test/vitals_last_icd.csv')\n",
    "lab_measurements_min =  pd.read_csv('/superbugai-data/yash/chapter_1/workspace/EHRQC/data/icd_cohort_test/lab_measurements_min_icd.csv')\n",
    "lab_measurements_max =  pd.read_csv('/superbugai-data/yash/chapter_1/workspace/EHRQC/data/icd_cohort_test/lab_measurements_max_icd.csv')\n",
    "lab_measurements_avg =  pd.read_csv('/superbugai-data/yash/chapter_1/workspace/EHRQC/data/icd_cohort_test/lab_measurements_avg_icd.csv')\n",
    "lab_measurements_stddev =  pd.read_csv('/superbugai-data/yash/chapter_1/workspace/EHRQC/data/icd_cohort_test/lab_measurements_stddev_icd.csv')\n",
    "lab_measurements_first =  pd.read_csv('/superbugai-data/yash/chapter_1/workspace/EHRQC/data/icd_cohort_test/lab_measurements_first_icd.csv')\n",
    "lab_measurements_last =  pd.read_csv('/superbugai-data/yash/chapter_1/workspace/EHRQC/data/icd_cohort_test/lab_measurements_last_icd.csv')"
   ]
  },
  {
   "cell_type": "code",
   "execution_count": 2,
   "metadata": {},
   "outputs": [
    {
     "data": {
      "text/plain": [
       "(12241, 4)"
      ]
     },
     "execution_count": 2,
     "metadata": {},
     "output_type": "execute_result"
    }
   ],
   "source": [
    "demographics.shape"
   ]
  },
  {
   "cell_type": "code",
   "execution_count": 3,
   "metadata": {},
   "outputs": [
    {
     "data": {
      "text/plain": [
       "((5185, 11), (5185, 11), (5185, 11), (5185, 11), (5185, 11), (5185, 11))"
      ]
     },
     "execution_count": 3,
     "metadata": {},
     "output_type": "execute_result"
    }
   ],
   "source": [
    "vitals_min.shape, vitals_max.shape, vitals_avg.shape, vitals_stddev.shape, vitals_first.shape, vitals_last.shape"
   ]
  },
  {
   "cell_type": "code",
   "execution_count": 4,
   "metadata": {},
   "outputs": [
    {
     "data": {
      "text/plain": [
       "((9923, 30), (9923, 30), (9923, 30), (9923, 30), (9923, 30), (9923, 30))"
      ]
     },
     "execution_count": 4,
     "metadata": {},
     "output_type": "execute_result"
    }
   ],
   "source": [
    "lab_measurements_min.shape, lab_measurements_max.shape, lab_measurements_avg.shape, lab_measurements_stddev.shape, lab_measurements_first.shape, lab_measurements_last.shape"
   ]
  },
  {
   "cell_type": "markdown",
   "metadata": {},
   "source": [
    "## Generate graphs"
   ]
  },
  {
   "cell_type": "markdown",
   "metadata": {},
   "source": [
    "### Generate exploration graphs for demographics"
   ]
  },
  {
   "cell_type": "code",
   "execution_count": 5,
   "metadata": {},
   "outputs": [
    {
     "name": "stdout",
     "output_type": "stream",
     "text": [
      "2023-09-13 11:25:22,254 - EHRQC - INFO - Parsing command line arguments\n",
      "2023-09-13 11:25:22,256 - EHRQC - INFO - args.plot_type: demographics_explore\n",
      "2023-09-13 11:25:22,256 - EHRQC - INFO - args.source_path: data/icd_cohort_test/demographics_icd.csv\n",
      "2023-09-13 11:25:22,256 - EHRQC - INFO - args.save_path: data/icd_cohort_test/demographics_icd_explore.html\n",
      "2023-09-13 11:25:22,256 - EHRQC - INFO - args.column_mapping: None\n",
      "2023-09-13 11:25:22,256 - EHRQC - INFO - args.column_mapping: {}\n",
      "2023-09-13 11:25:22,264 - EHRQC - INFO - generating graphs\n"
     ]
    },
    {
     "name": "stderr",
     "output_type": "stream",
     "text": [
      "/superbugai-data/yash/chapter_1/workspace/EHRQC/.venv/lib/python3.9/site-packages/missingno/missingno.py:61: UserWarning: Plotting a sparkline on an existing axis is not currently supported. To remove this warning, set sparkline=False.\n",
      "  warnings.warn(\n"
     ]
    },
    {
     "name": "stdout",
     "output_type": "stream",
     "text": [
      "2023-09-13 11:25:22,800 - EHRQC - INFO - Done!!\n"
     ]
    },
    {
     "data": {
      "text/plain": [
       "0"
      ]
     },
     "execution_count": 5,
     "metadata": {},
     "output_type": "execute_result"
    }
   ],
   "source": [
    "import os\n",
    "\n",
    "os.system(\n",
    "    '''cd /superbugai-data/yash/chapter_1/workspace/EHRQC;'''\n",
    "    +\n",
    "    '''.venv/bin/python -m ehrqc.qc.Plot \"demographics_explore\" \"data/icd_cohort_test/demographics_icd.csv\" \"data/icd_cohort_test/demographics_icd_explore.html\"'''\n",
    "    )"
   ]
  },
  {
   "cell_type": "markdown",
   "metadata": {},
   "source": [
    "### Generate exploration graphs for vitals"
   ]
  },
  {
   "cell_type": "markdown",
   "metadata": {},
   "source": [
    "#### Vitals exploration graphs for minimum values"
   ]
  },
  {
   "cell_type": "code",
   "execution_count": 6,
   "metadata": {},
   "outputs": [
    {
     "name": "stdout",
     "output_type": "stream",
     "text": [
      "2023-09-13 11:25:52,795 - EHRQC - INFO - Parsing command line arguments\n",
      "2023-09-13 11:25:52,797 - EHRQC - INFO - args.plot_type: vitals_explore\n",
      "2023-09-13 11:25:52,797 - EHRQC - INFO - args.source_path: data/icd_cohort_test/vitals_min_icd.csv\n",
      "2023-09-13 11:25:52,797 - EHRQC - INFO - args.save_path: data/icd_cohort_test/vitals_min_icd_explore.html\n",
      "2023-09-13 11:25:52,797 - EHRQC - INFO - args.column_mapping: None\n",
      "2023-09-13 11:25:52,797 - EHRQC - INFO - args.column_mapping: {}\n",
      "2023-09-13 11:25:52,807 - EHRQC - INFO - generating graphs\n"
     ]
    },
    {
     "name": "stderr",
     "output_type": "stream",
     "text": [
      "/superbugai-data/yash/chapter_1/workspace/EHRQC/.venv/lib/python3.9/site-packages/missingno/missingno.py:61: UserWarning: Plotting a sparkline on an existing axis is not currently supported. To remove this warning, set sparkline=False.\n",
      "  warnings.warn(\n"
     ]
    },
    {
     "name": "stdout",
     "output_type": "stream",
     "text": [
      "2023-09-13 11:25:54,536 - EHRQC - INFO - Done!!\n"
     ]
    },
    {
     "data": {
      "text/plain": [
       "0"
      ]
     },
     "execution_count": 6,
     "metadata": {},
     "output_type": "execute_result"
    }
   ],
   "source": [
    "import os\n",
    "\n",
    "os.system(\n",
    "    '''cd /superbugai-data/yash/chapter_1/workspace/EHRQC;'''\n",
    "    +\n",
    "    '''.venv/bin/python -m ehrqc.qc.Plot \"vitals_explore\" \"data/icd_cohort_test/vitals_min_icd.csv\" \"data/icd_cohort_test/vitals_min_icd_explore.html\"'''\n",
    "    )"
   ]
  },
  {
   "cell_type": "markdown",
   "metadata": {},
   "source": [
    "#### Vitals exploration graphs for maximum values"
   ]
  },
  {
   "cell_type": "code",
   "execution_count": 7,
   "metadata": {},
   "outputs": [
    {
     "name": "stdout",
     "output_type": "stream",
     "text": [
      "2023-09-13 11:25:56,459 - EHRQC - INFO - Parsing command line arguments\n",
      "2023-09-13 11:25:56,460 - EHRQC - INFO - args.plot_type: vitals_explore\n",
      "2023-09-13 11:25:56,460 - EHRQC - INFO - args.source_path: data/icd_cohort_test/vitals_max_icd.csv\n",
      "2023-09-13 11:25:56,460 - EHRQC - INFO - args.save_path: data/icd_cohort_test/vitals_max_icd_explore.html\n",
      "2023-09-13 11:25:56,460 - EHRQC - INFO - args.column_mapping: None\n",
      "2023-09-13 11:25:56,460 - EHRQC - INFO - args.column_mapping: {}\n",
      "2023-09-13 11:25:56,469 - EHRQC - INFO - generating graphs\n"
     ]
    },
    {
     "name": "stderr",
     "output_type": "stream",
     "text": [
      "/superbugai-data/yash/chapter_1/workspace/EHRQC/.venv/lib/python3.9/site-packages/missingno/missingno.py:61: UserWarning: Plotting a sparkline on an existing axis is not currently supported. To remove this warning, set sparkline=False.\n",
      "  warnings.warn(\n"
     ]
    },
    {
     "name": "stdout",
     "output_type": "stream",
     "text": [
      "2023-09-13 11:25:57,983 - EHRQC - INFO - Done!!\n"
     ]
    },
    {
     "data": {
      "text/plain": [
       "0"
      ]
     },
     "execution_count": 7,
     "metadata": {},
     "output_type": "execute_result"
    }
   ],
   "source": [
    "import os\n",
    "\n",
    "os.system(\n",
    "    '''cd /superbugai-data/yash/chapter_1/workspace/EHRQC;'''\n",
    "    +\n",
    "    '''.venv/bin/python -m ehrqc.qc.Plot \"vitals_explore\" \"data/icd_cohort_test/vitals_max_icd.csv\" \"data/icd_cohort_test/vitals_max_icd_explore.html\"'''\n",
    "    )"
   ]
  },
  {
   "cell_type": "markdown",
   "metadata": {},
   "source": [
    "#### Vitals exploration graphs for average values"
   ]
  },
  {
   "cell_type": "code",
   "execution_count": 8,
   "metadata": {},
   "outputs": [
    {
     "name": "stdout",
     "output_type": "stream",
     "text": [
      "2023-09-13 11:25:59,836 - EHRQC - INFO - Parsing command line arguments\n",
      "2023-09-13 11:25:59,837 - EHRQC - INFO - args.plot_type: vitals_explore\n",
      "2023-09-13 11:25:59,837 - EHRQC - INFO - args.source_path: data/icd_cohort_test/vitals_avg_icd.csv\n",
      "2023-09-13 11:25:59,837 - EHRQC - INFO - args.save_path: data/icd_cohort_test/vitals_avg_icd_explore.html\n",
      "2023-09-13 11:25:59,837 - EHRQC - INFO - args.column_mapping: None\n",
      "2023-09-13 11:25:59,837 - EHRQC - INFO - args.column_mapping: {}\n",
      "2023-09-13 11:25:59,849 - EHRQC - INFO - generating graphs\n"
     ]
    },
    {
     "name": "stderr",
     "output_type": "stream",
     "text": [
      "/superbugai-data/yash/chapter_1/workspace/EHRQC/.venv/lib/python3.9/site-packages/missingno/missingno.py:61: UserWarning: Plotting a sparkline on an existing axis is not currently supported. To remove this warning, set sparkline=False.\n",
      "  warnings.warn(\n"
     ]
    },
    {
     "name": "stdout",
     "output_type": "stream",
     "text": [
      "2023-09-13 11:26:01,398 - EHRQC - INFO - Done!!\n"
     ]
    },
    {
     "data": {
      "text/plain": [
       "0"
      ]
     },
     "execution_count": 8,
     "metadata": {},
     "output_type": "execute_result"
    }
   ],
   "source": [
    "import os\n",
    "\n",
    "os.system(\n",
    "    '''cd /superbugai-data/yash/chapter_1/workspace/EHRQC;'''\n",
    "    +\n",
    "    '''.venv/bin/python -m ehrqc.qc.Plot \"vitals_explore\" \"data/icd_cohort_test/vitals_avg_icd.csv\" \"data/icd_cohort_test/vitals_avg_icd_explore.html\"'''\n",
    "    )"
   ]
  },
  {
   "cell_type": "markdown",
   "metadata": {},
   "source": [
    "#### Vitals exploration graphs for standard deviation values"
   ]
  },
  {
   "cell_type": "code",
   "execution_count": 9,
   "metadata": {},
   "outputs": [
    {
     "name": "stdout",
     "output_type": "stream",
     "text": [
      "2023-09-13 11:26:03,226 - EHRQC - INFO - Parsing command line arguments\n",
      "2023-09-13 11:26:03,227 - EHRQC - INFO - args.plot_type: vitals_explore\n",
      "2023-09-13 11:26:03,227 - EHRQC - INFO - args.source_path: data/icd_cohort_test/vitals_stddev_icd.csv\n",
      "2023-09-13 11:26:03,227 - EHRQC - INFO - args.save_path: data/icd_cohort_test/vitals_stddev_icd_explore.html\n",
      "2023-09-13 11:26:03,227 - EHRQC - INFO - args.column_mapping: None\n",
      "2023-09-13 11:26:03,227 - EHRQC - INFO - args.column_mapping: {}\n",
      "2023-09-13 11:26:03,239 - EHRQC - INFO - generating graphs\n"
     ]
    },
    {
     "name": "stderr",
     "output_type": "stream",
     "text": [
      "/superbugai-data/yash/chapter_1/workspace/EHRQC/.venv/lib/python3.9/site-packages/missingno/missingno.py:61: UserWarning: Plotting a sparkline on an existing axis is not currently supported. To remove this warning, set sparkline=False.\n",
      "  warnings.warn(\n"
     ]
    },
    {
     "name": "stdout",
     "output_type": "stream",
     "text": [
      "2023-09-13 11:26:04,785 - EHRQC - INFO - Done!!\n"
     ]
    },
    {
     "data": {
      "text/plain": [
       "0"
      ]
     },
     "execution_count": 9,
     "metadata": {},
     "output_type": "execute_result"
    }
   ],
   "source": [
    "import os\n",
    "\n",
    "os.system(\n",
    "    '''cd /superbugai-data/yash/chapter_1/workspace/EHRQC;'''\n",
    "    +\n",
    "    '''.venv/bin/python -m ehrqc.qc.Plot \"vitals_explore\" \"data/icd_cohort_test/vitals_stddev_icd.csv\" \"data/icd_cohort_test/vitals_stddev_icd_explore.html\"'''\n",
    "    )"
   ]
  },
  {
   "cell_type": "markdown",
   "metadata": {},
   "source": [
    "#### Vitals exploration graphs for first values"
   ]
  },
  {
   "cell_type": "code",
   "execution_count": 10,
   "metadata": {},
   "outputs": [
    {
     "name": "stdout",
     "output_type": "stream",
     "text": [
      "2023-09-13 11:26:06,582 - EHRQC - INFO - Parsing command line arguments\n",
      "2023-09-13 11:26:06,583 - EHRQC - INFO - args.plot_type: vitals_explore\n",
      "2023-09-13 11:26:06,583 - EHRQC - INFO - args.source_path: data/icd_cohort_test/vitals_first_icd.csv\n",
      "2023-09-13 11:26:06,583 - EHRQC - INFO - args.save_path: data/icd_cohort_test/vitals_first_icd_explore.html\n",
      "2023-09-13 11:26:06,583 - EHRQC - INFO - args.column_mapping: None\n",
      "2023-09-13 11:26:06,583 - EHRQC - INFO - args.column_mapping: {}\n",
      "2023-09-13 11:26:06,591 - EHRQC - INFO - generating graphs\n"
     ]
    },
    {
     "name": "stderr",
     "output_type": "stream",
     "text": [
      "/superbugai-data/yash/chapter_1/workspace/EHRQC/.venv/lib/python3.9/site-packages/missingno/missingno.py:61: UserWarning: Plotting a sparkline on an existing axis is not currently supported. To remove this warning, set sparkline=False.\n",
      "  warnings.warn(\n"
     ]
    },
    {
     "name": "stdout",
     "output_type": "stream",
     "text": [
      "2023-09-13 11:26:08,098 - EHRQC - INFO - Done!!\n"
     ]
    },
    {
     "data": {
      "text/plain": [
       "0"
      ]
     },
     "execution_count": 10,
     "metadata": {},
     "output_type": "execute_result"
    }
   ],
   "source": [
    "import os\n",
    "\n",
    "os.system(\n",
    "    '''cd /superbugai-data/yash/chapter_1/workspace/EHRQC;'''\n",
    "    +\n",
    "    '''.venv/bin/python -m ehrqc.qc.Plot \"vitals_explore\" \"data/icd_cohort_test/vitals_first_icd.csv\" \"data/icd_cohort_test/vitals_first_icd_explore.html\"'''\n",
    "    )"
   ]
  },
  {
   "cell_type": "markdown",
   "metadata": {},
   "source": [
    "#### Vitals exploration graphs for last values"
   ]
  },
  {
   "cell_type": "code",
   "execution_count": 11,
   "metadata": {},
   "outputs": [
    {
     "name": "stdout",
     "output_type": "stream",
     "text": [
      "2023-09-13 11:26:09,896 - EHRQC - INFO - Parsing command line arguments\n",
      "2023-09-13 11:26:09,897 - EHRQC - INFO - args.plot_type: vitals_explore\n",
      "2023-09-13 11:26:09,897 - EHRQC - INFO - args.source_path: data/icd_cohort_test/vitals_last_icd.csv\n",
      "2023-09-13 11:26:09,897 - EHRQC - INFO - args.save_path: data/icd_cohort_test/vitals_last_icd_explore.html\n",
      "2023-09-13 11:26:09,897 - EHRQC - INFO - args.column_mapping: None\n",
      "2023-09-13 11:26:09,897 - EHRQC - INFO - args.column_mapping: {}\n",
      "2023-09-13 11:26:09,906 - EHRQC - INFO - generating graphs\n"
     ]
    },
    {
     "name": "stderr",
     "output_type": "stream",
     "text": [
      "/superbugai-data/yash/chapter_1/workspace/EHRQC/.venv/lib/python3.9/site-packages/missingno/missingno.py:61: UserWarning: Plotting a sparkline on an existing axis is not currently supported. To remove this warning, set sparkline=False.\n",
      "  warnings.warn(\n"
     ]
    },
    {
     "name": "stdout",
     "output_type": "stream",
     "text": [
      "2023-09-13 11:26:11,366 - EHRQC - INFO - Done!!\n"
     ]
    },
    {
     "data": {
      "text/plain": [
       "0"
      ]
     },
     "execution_count": 11,
     "metadata": {},
     "output_type": "execute_result"
    }
   ],
   "source": [
    "import os\n",
    "\n",
    "os.system(\n",
    "    '''cd /superbugai-data/yash/chapter_1/workspace/EHRQC;'''\n",
    "    +\n",
    "    '''.venv/bin/python -m ehrqc.qc.Plot \"vitals_explore\" \"data/icd_cohort_test/vitals_last_icd.csv\" \"data/icd_cohort_test/vitals_last_icd_explore.html\"'''\n",
    "    )"
   ]
  },
  {
   "cell_type": "markdown",
   "metadata": {},
   "source": [
    "### Generate anomaly graphs for vitals"
   ]
  },
  {
   "cell_type": "markdown",
   "metadata": {},
   "source": [
    "#### Vitals anomaly graphs for minimum values"
   ]
  },
  {
   "cell_type": "code",
   "execution_count": 12,
   "metadata": {},
   "outputs": [
    {
     "name": "stdout",
     "output_type": "stream",
     "text": [
      "2023-09-13 11:26:13,405 - Anomalies - INFO - Parsing command line arguments\n",
      "2023-09-13 11:26:13,406 - Anomalies - INFO - Start!!\n",
      "2023-09-13 11:26:13,407 - Anomalies - INFO - args.source_path: data/icd_cohort_test/vitals_min_icd.csv\n",
      "2023-09-13 11:26:13,407 - Anomalies - INFO - args.save_path: data/icd_cohort_test/\n",
      "2023-09-13 11:26:13,407 - Anomalies - INFO - args.save_prefix: vitals_min_icd\n",
      "2023-09-13 11:26:13,407 - Anomalies - INFO - args.detect_missing: True\n",
      "2023-09-13 11:26:13,407 - Anomalies - INFO - args.detect_outliers: True\n",
      "2023-09-13 11:26:13,407 - Anomalies - INFO - args.detect_errors: True\n",
      "2023-09-13 11:26:13,407 - Anomalies - INFO - args.detect_inconsistencies: True\n",
      "2023-09-13 11:26:13,407 - Anomalies - INFO - args.correct_missing: False\n",
      "2023-09-13 11:26:13,407 - Anomalies - INFO - args.correct_outliers: False\n",
      "2023-09-13 11:26:15,900 - Anomalies - INFO - Done!!\n"
     ]
    },
    {
     "data": {
      "text/plain": [
       "0"
      ]
     },
     "execution_count": 12,
     "metadata": {},
     "output_type": "execute_result"
    }
   ],
   "source": [
    "import os\n",
    "\n",
    "os.system(\n",
    "    '''cd /superbugai-data/yash/chapter_1/workspace/EHRQC;'''\n",
    "    +\n",
    "    '''.venv/bin/python -m ehrqc.qc.Anomalies 'data/icd_cohort_test/vitals_min_icd.csv' 'data/icd_cohort_test/' 'vitals_min_icd' -dm -do -de -di'''\n",
    "    )"
   ]
  },
  {
   "cell_type": "markdown",
   "metadata": {},
   "source": [
    "#### Vitals anomaly graphs for maximum values"
   ]
  },
  {
   "cell_type": "code",
   "execution_count": 13,
   "metadata": {},
   "outputs": [
    {
     "name": "stdout",
     "output_type": "stream",
     "text": [
      "2023-09-13 11:26:17,748 - Anomalies - INFO - Parsing command line arguments\n",
      "2023-09-13 11:26:17,749 - Anomalies - INFO - Start!!\n",
      "2023-09-13 11:26:17,749 - Anomalies - INFO - args.source_path: data/icd_cohort_test/vitals_max_icd.csv\n",
      "2023-09-13 11:26:17,749 - Anomalies - INFO - args.save_path: data/icd_cohort_test/\n",
      "2023-09-13 11:26:17,749 - Anomalies - INFO - args.save_prefix: vitals_max_icd\n",
      "2023-09-13 11:26:17,749 - Anomalies - INFO - args.detect_missing: True\n",
      "2023-09-13 11:26:17,749 - Anomalies - INFO - args.detect_outliers: True\n",
      "2023-09-13 11:26:17,749 - Anomalies - INFO - args.detect_errors: True\n",
      "2023-09-13 11:26:17,749 - Anomalies - INFO - args.detect_inconsistencies: True\n",
      "2023-09-13 11:26:17,749 - Anomalies - INFO - args.correct_missing: False\n",
      "2023-09-13 11:26:17,749 - Anomalies - INFO - args.correct_outliers: False\n",
      "2023-09-13 11:26:20,356 - Anomalies - INFO - Done!!\n"
     ]
    },
    {
     "data": {
      "text/plain": [
       "0"
      ]
     },
     "execution_count": 13,
     "metadata": {},
     "output_type": "execute_result"
    }
   ],
   "source": [
    "import os\n",
    "\n",
    "os.system(\n",
    "    '''cd /superbugai-data/yash/chapter_1/workspace/EHRQC;'''\n",
    "    +\n",
    "    '''.venv/bin/python -m ehrqc.qc.Anomalies 'data/icd_cohort_test/vitals_max_icd.csv' 'data/icd_cohort_test/' 'vitals_max_icd' -dm -do -de -di'''\n",
    "    )"
   ]
  },
  {
   "cell_type": "markdown",
   "metadata": {},
   "source": [
    "#### Vitals anomaly graphs for average values"
   ]
  },
  {
   "cell_type": "code",
   "execution_count": 14,
   "metadata": {},
   "outputs": [
    {
     "name": "stdout",
     "output_type": "stream",
     "text": [
      "2023-09-13 11:26:22,500 - Anomalies - INFO - Parsing command line arguments\n",
      "2023-09-13 11:26:22,501 - Anomalies - INFO - Start!!\n",
      "2023-09-13 11:26:22,501 - Anomalies - INFO - args.source_path: data/icd_cohort_test/vitals_avg_icd.csv\n",
      "2023-09-13 11:26:22,501 - Anomalies - INFO - args.save_path: data/icd_cohort_test/\n",
      "2023-09-13 11:26:22,501 - Anomalies - INFO - args.save_prefix: vitals_avg_icd\n",
      "2023-09-13 11:26:22,501 - Anomalies - INFO - args.detect_missing: True\n",
      "2023-09-13 11:26:22,501 - Anomalies - INFO - args.detect_outliers: True\n",
      "2023-09-13 11:26:22,501 - Anomalies - INFO - args.detect_errors: True\n",
      "2023-09-13 11:26:22,501 - Anomalies - INFO - args.detect_inconsistencies: True\n",
      "2023-09-13 11:26:22,501 - Anomalies - INFO - args.correct_missing: False\n",
      "2023-09-13 11:26:22,501 - Anomalies - INFO - args.correct_outliers: False\n",
      "2023-09-13 11:26:25,008 - Anomalies - INFO - Done!!\n"
     ]
    },
    {
     "data": {
      "text/plain": [
       "0"
      ]
     },
     "execution_count": 14,
     "metadata": {},
     "output_type": "execute_result"
    }
   ],
   "source": [
    "import os\n",
    "\n",
    "os.system(\n",
    "    '''cd /superbugai-data/yash/chapter_1/workspace/EHRQC;'''\n",
    "    +\n",
    "    '''.venv/bin/python -m ehrqc.qc.Anomalies 'data/icd_cohort_test/vitals_avg_icd.csv' 'data/icd_cohort_test/' 'vitals_avg_icd' -dm -do -de -di'''\n",
    "    )"
   ]
  },
  {
   "cell_type": "markdown",
   "metadata": {},
   "source": [
    "#### Vitals anomaly graphs for standard deviation values"
   ]
  },
  {
   "cell_type": "code",
   "execution_count": 17,
   "metadata": {},
   "outputs": [
    {
     "name": "stdout",
     "output_type": "stream",
     "text": [
      "2023-09-13 11:28:25,205 - Anomalies - INFO - Parsing command line arguments\n",
      "2023-09-13 11:28:25,207 - Anomalies - INFO - Start!!\n",
      "2023-09-13 11:28:25,207 - Anomalies - INFO - args.source_path: data/icd_cohort_test/vitals_stddev_icd.csv\n",
      "2023-09-13 11:28:25,207 - Anomalies - INFO - args.save_path: data/icd_cohort_test/\n",
      "2023-09-13 11:28:25,207 - Anomalies - INFO - args.save_prefix: vitals_stddev_icd\n",
      "2023-09-13 11:28:25,207 - Anomalies - INFO - args.detect_missing: True\n",
      "2023-09-13 11:28:25,207 - Anomalies - INFO - args.detect_outliers: True\n",
      "2023-09-13 11:28:25,207 - Anomalies - INFO - args.detect_errors: True\n",
      "2023-09-13 11:28:25,207 - Anomalies - INFO - args.detect_inconsistencies: True\n",
      "2023-09-13 11:28:25,207 - Anomalies - INFO - args.correct_missing: False\n",
      "2023-09-13 11:28:25,207 - Anomalies - INFO - args.correct_outliers: False\n",
      "2023-09-13 11:28:27,767 - Anomalies - INFO - Done!!\n"
     ]
    },
    {
     "data": {
      "text/plain": [
       "0"
      ]
     },
     "execution_count": 17,
     "metadata": {},
     "output_type": "execute_result"
    }
   ],
   "source": [
    "import os\n",
    "\n",
    "os.system(\n",
    "    '''cd /superbugai-data/yash/chapter_1/workspace/EHRQC;'''\n",
    "    +\n",
    "    '''.venv/bin/python -m ehrqc.qc.Anomalies 'data/icd_cohort_test/vitals_stddev_icd.csv' 'data/icd_cohort_test/' 'vitals_stddev_icd' -dm -do -de -di'''\n",
    "    )"
   ]
  },
  {
   "cell_type": "markdown",
   "metadata": {},
   "source": [
    "#### Vitals anomaly graphs for first values"
   ]
  },
  {
   "cell_type": "code",
   "execution_count": 15,
   "metadata": {},
   "outputs": [
    {
     "name": "stdout",
     "output_type": "stream",
     "text": [
      "2023-09-13 11:26:26,867 - Anomalies - INFO - Parsing command line arguments\n",
      "2023-09-13 11:26:26,869 - Anomalies - INFO - Start!!\n",
      "2023-09-13 11:26:26,869 - Anomalies - INFO - args.source_path: data/icd_cohort_test/vitals_first_icd.csv\n",
      "2023-09-13 11:26:26,869 - Anomalies - INFO - args.save_path: data/icd_cohort_test/\n",
      "2023-09-13 11:26:26,869 - Anomalies - INFO - args.save_prefix: vitals_first_icd\n",
      "2023-09-13 11:26:26,869 - Anomalies - INFO - args.detect_missing: True\n",
      "2023-09-13 11:26:26,869 - Anomalies - INFO - args.detect_outliers: True\n",
      "2023-09-13 11:26:26,869 - Anomalies - INFO - args.detect_errors: True\n",
      "2023-09-13 11:26:26,869 - Anomalies - INFO - args.detect_inconsistencies: True\n",
      "2023-09-13 11:26:26,869 - Anomalies - INFO - args.correct_missing: False\n",
      "2023-09-13 11:26:26,869 - Anomalies - INFO - args.correct_outliers: False\n",
      "2023-09-13 11:26:29,438 - Anomalies - INFO - Done!!\n"
     ]
    },
    {
     "data": {
      "text/plain": [
       "0"
      ]
     },
     "execution_count": 15,
     "metadata": {},
     "output_type": "execute_result"
    }
   ],
   "source": [
    "import os\n",
    "\n",
    "os.system(\n",
    "    '''cd /superbugai-data/yash/chapter_1/workspace/EHRQC;'''\n",
    "    +\n",
    "    '''.venv/bin/python -m ehrqc.qc.Anomalies 'data/icd_cohort_test/vitals_first_icd.csv' 'data/icd_cohort_test/' 'vitals_first_icd' -dm -do -de -di'''\n",
    "    )"
   ]
  },
  {
   "cell_type": "markdown",
   "metadata": {},
   "source": [
    "#### Vitals anomaly graphs for last values"
   ]
  },
  {
   "cell_type": "code",
   "execution_count": 16,
   "metadata": {},
   "outputs": [
    {
     "name": "stdout",
     "output_type": "stream",
     "text": [
      "2023-09-13 11:26:31,284 - Anomalies - INFO - Parsing command line arguments\n",
      "2023-09-13 11:26:31,285 - Anomalies - INFO - Start!!\n",
      "2023-09-13 11:26:31,285 - Anomalies - INFO - args.source_path: data/icd_cohort_test/vitals_last_icd.csv\n",
      "2023-09-13 11:26:31,285 - Anomalies - INFO - args.save_path: data/icd_cohort_test/\n",
      "2023-09-13 11:26:31,285 - Anomalies - INFO - args.save_prefix: vitals_last_icd\n",
      "2023-09-13 11:26:31,285 - Anomalies - INFO - args.detect_missing: True\n",
      "2023-09-13 11:26:31,285 - Anomalies - INFO - args.detect_outliers: True\n",
      "2023-09-13 11:26:31,285 - Anomalies - INFO - args.detect_errors: True\n",
      "2023-09-13 11:26:31,285 - Anomalies - INFO - args.detect_inconsistencies: True\n",
      "2023-09-13 11:26:31,285 - Anomalies - INFO - args.correct_missing: False\n",
      "2023-09-13 11:26:31,285 - Anomalies - INFO - args.correct_outliers: False\n",
      "2023-09-13 11:26:33,786 - Anomalies - INFO - Done!!\n"
     ]
    },
    {
     "data": {
      "text/plain": [
       "0"
      ]
     },
     "execution_count": 16,
     "metadata": {},
     "output_type": "execute_result"
    }
   ],
   "source": [
    "import os\n",
    "\n",
    "os.system(\n",
    "    '''cd /superbugai-data/yash/chapter_1/workspace/EHRQC;'''\n",
    "    +\n",
    "    '''.venv/bin/python -m ehrqc.qc.Anomalies 'data/icd_cohort_test/vitals_last_icd.csv' 'data/icd_cohort_test/' 'vitals_last_icd' -dm -do -de -di'''\n",
    "    )"
   ]
  },
  {
   "cell_type": "markdown",
   "metadata": {},
   "source": [
    "### Generate exploration graphs for lab measurements"
   ]
  },
  {
   "cell_type": "markdown",
   "metadata": {},
   "source": [
    "#### Lab measurements exploration graphs for minimum values"
   ]
  },
  {
   "cell_type": "code",
   "execution_count": 1,
   "metadata": {},
   "outputs": [
    {
     "name": "stdout",
     "output_type": "stream",
     "text": [
      "2023-09-13 12:07:53,055 - EHRQC - INFO - Parsing command line arguments\n",
      "2023-09-13 12:07:53,057 - EHRQC - INFO - args.plot_type: lab_measurements_explore \n",
      "2023-09-13 12:07:53,057 - EHRQC - INFO - args.source_path: data/icd_cohort_test/lab_measurements_min_icd.csv\n",
      "2023-09-13 12:07:53,057 - EHRQC - INFO - args.save_path: data/icd_cohort_test/lab_measurements_min_icd_explore.html\n",
      "2023-09-13 12:07:53,057 - EHRQC - INFO - args.column_mapping: None\n",
      "2023-09-13 12:07:53,057 - EHRQC - INFO - args.column_mapping: {}\n",
      "2023-09-13 12:07:53,086 - EHRQC - INFO - Too many variables!! Please select only the ones to be plotted.\n",
      "2023-09-13 12:07:53,086 - EHRQC - INFO - Done!!\n"
     ]
    },
    {
     "data": {
      "text/plain": [
       "0"
      ]
     },
     "execution_count": 1,
     "metadata": {},
     "output_type": "execute_result"
    }
   ],
   "source": [
    "import os\n",
    "\n",
    "os.system(\n",
    "    '''cd /superbugai-data/yash/chapter_1/workspace/EHRQC;'''\n",
    "    +\n",
    "    '''.venv/bin/python -m ehrqc.qc.Plot \"lab_measurements_explore \" \"data/icd_cohort_test/lab_measurements_min_icd.csv\" \"data/icd_cohort_test/lab_measurements_min_icd_explore.html\"'''\n",
    "    )"
   ]
  },
  {
   "cell_type": "markdown",
   "metadata": {},
   "source": [
    "#### Lab measurements exploration graphs for maximum values"
   ]
  },
  {
   "cell_type": "code",
   "execution_count": 2,
   "metadata": {},
   "outputs": [
    {
     "name": "stdout",
     "output_type": "stream",
     "text": [
      "2023-09-13 12:08:02,820 - EHRQC - INFO - Parsing command line arguments\n",
      "2023-09-13 12:08:02,822 - EHRQC - INFO - args.plot_type: lab_measurements_explore \n",
      "2023-09-13 12:08:02,822 - EHRQC - INFO - args.source_path: data/icd_cohort_test/lab_measurements_max_icd.csv\n",
      "2023-09-13 12:08:02,822 - EHRQC - INFO - args.save_path: data/icd_cohort_test/lab_measurements_max_icd_explore.html\n",
      "2023-09-13 12:08:02,822 - EHRQC - INFO - args.column_mapping: None\n",
      "2023-09-13 12:08:02,822 - EHRQC - INFO - args.column_mapping: {}\n",
      "2023-09-13 12:08:02,846 - EHRQC - INFO - Too many variables!! Please select only the ones to be plotted.\n",
      "2023-09-13 12:08:02,847 - EHRQC - INFO - Done!!\n"
     ]
    },
    {
     "data": {
      "text/plain": [
       "0"
      ]
     },
     "execution_count": 2,
     "metadata": {},
     "output_type": "execute_result"
    }
   ],
   "source": [
    "import os\n",
    "\n",
    "os.system(\n",
    "    '''cd /superbugai-data/yash/chapter_1/workspace/EHRQC;'''\n",
    "    +\n",
    "    '''.venv/bin/python -m ehrqc.qc.Plot \"lab_measurements_explore \" \"data/icd_cohort_test/lab_measurements_max_icd.csv\" \"data/icd_cohort_test/lab_measurements_max_icd_explore.html\"'''\n",
    "    )"
   ]
  },
  {
   "cell_type": "markdown",
   "metadata": {},
   "source": [
    "#### Lab measurements exploration graphs for average values"
   ]
  },
  {
   "cell_type": "code",
   "execution_count": 3,
   "metadata": {},
   "outputs": [
    {
     "name": "stdout",
     "output_type": "stream",
     "text": [
      "2023-09-13 12:08:09,712 - EHRQC - INFO - Parsing command line arguments\n",
      "2023-09-13 12:08:09,713 - EHRQC - INFO - args.plot_type: lab_measurements_explore \n",
      "2023-09-13 12:08:09,713 - EHRQC - INFO - args.source_path: data/icd_cohort_test/lab_measurements_avg_icd.csv\n",
      "2023-09-13 12:08:09,713 - EHRQC - INFO - args.save_path: data/icd_cohort_test/lab_measurements_avg_icd_explore.html\n",
      "2023-09-13 12:08:09,713 - EHRQC - INFO - args.column_mapping: None\n",
      "2023-09-13 12:08:09,713 - EHRQC - INFO - args.column_mapping: {}\n",
      "2023-09-13 12:08:09,749 - EHRQC - INFO - Too many variables!! Please select only the ones to be plotted.\n",
      "2023-09-13 12:08:09,749 - EHRQC - INFO - Done!!\n"
     ]
    },
    {
     "data": {
      "text/plain": [
       "0"
      ]
     },
     "execution_count": 3,
     "metadata": {},
     "output_type": "execute_result"
    }
   ],
   "source": [
    "import os\n",
    "\n",
    "os.system(\n",
    "    '''cd /superbugai-data/yash/chapter_1/workspace/EHRQC;'''\n",
    "    +\n",
    "    '''.venv/bin/python -m ehrqc.qc.Plot \"lab_measurements_explore \" \"data/icd_cohort_test/lab_measurements_avg_icd.csv\" \"data/icd_cohort_test/lab_measurements_avg_icd_explore.html\"'''\n",
    "    )"
   ]
  },
  {
   "cell_type": "markdown",
   "metadata": {},
   "source": [
    "#### Lab measurements exploration graphs for standard deviation values"
   ]
  },
  {
   "cell_type": "code",
   "execution_count": 4,
   "metadata": {},
   "outputs": [
    {
     "name": "stdout",
     "output_type": "stream",
     "text": [
      "2023-09-13 12:08:15,004 - EHRQC - INFO - Parsing command line arguments\n",
      "2023-09-13 12:08:15,005 - EHRQC - INFO - args.plot_type: lab_measurements_explore \n",
      "2023-09-13 12:08:15,005 - EHRQC - INFO - args.source_path: data/icd_cohort_test/lab_measurements_stddev_icd.csv\n",
      "2023-09-13 12:08:15,005 - EHRQC - INFO - args.save_path: data/icd_cohort_test/lab_measurements_stddev_icd_explore.html\n",
      "2023-09-13 12:08:15,005 - EHRQC - INFO - args.column_mapping: None\n",
      "2023-09-13 12:08:15,005 - EHRQC - INFO - args.column_mapping: {}\n",
      "2023-09-13 12:08:15,045 - EHRQC - INFO - Too many variables!! Please select only the ones to be plotted.\n",
      "2023-09-13 12:08:15,045 - EHRQC - INFO - Done!!\n"
     ]
    },
    {
     "data": {
      "text/plain": [
       "0"
      ]
     },
     "execution_count": 4,
     "metadata": {},
     "output_type": "execute_result"
    }
   ],
   "source": [
    "import os\n",
    "\n",
    "os.system(\n",
    "    '''cd /superbugai-data/yash/chapter_1/workspace/EHRQC;'''\n",
    "    +\n",
    "    '''.venv/bin/python -m ehrqc.qc.Plot \"lab_measurements_explore \" \"data/icd_cohort_test/lab_measurements_stddev_icd.csv\" \"data/icd_cohort_test/lab_measurements_stddev_icd_explore.html\"'''\n",
    "    )"
   ]
  },
  {
   "cell_type": "markdown",
   "metadata": {},
   "source": [
    "#### Lab measurements exploration graphs for first values"
   ]
  },
  {
   "cell_type": "code",
   "execution_count": 5,
   "metadata": {},
   "outputs": [
    {
     "name": "stdout",
     "output_type": "stream",
     "text": [
      "2023-09-13 12:08:20,692 - EHRQC - INFO - Parsing command line arguments\n",
      "2023-09-13 12:08:20,693 - EHRQC - INFO - args.plot_type: lab_measurements_explore \n",
      "2023-09-13 12:08:20,693 - EHRQC - INFO - args.source_path: data/icd_cohort_test/lab_measurements_first_icd.csv\n",
      "2023-09-13 12:08:20,693 - EHRQC - INFO - args.save_path: data/icd_cohort_test/lab_measurements_first_icd_explore.html\n",
      "2023-09-13 12:08:20,693 - EHRQC - INFO - args.column_mapping: None\n",
      "2023-09-13 12:08:20,693 - EHRQC - INFO - args.column_mapping: {}\n",
      "2023-09-13 12:08:20,715 - EHRQC - INFO - Too many variables!! Please select only the ones to be plotted.\n",
      "2023-09-13 12:08:20,716 - EHRQC - INFO - Done!!\n"
     ]
    },
    {
     "data": {
      "text/plain": [
       "0"
      ]
     },
     "execution_count": 5,
     "metadata": {},
     "output_type": "execute_result"
    }
   ],
   "source": [
    "import os\n",
    "\n",
    "os.system(\n",
    "    '''cd /superbugai-data/yash/chapter_1/workspace/EHRQC;'''\n",
    "    +\n",
    "    '''.venv/bin/python -m ehrqc.qc.Plot \"lab_measurements_explore \" \"data/icd_cohort_test/lab_measurements_first_icd.csv\" \"data/icd_cohort_test/lab_measurements_first_icd_explore.html\"'''\n",
    "    )"
   ]
  },
  {
   "cell_type": "markdown",
   "metadata": {},
   "source": [
    "#### Lab measurements exploration graphs for last values"
   ]
  },
  {
   "cell_type": "code",
   "execution_count": 6,
   "metadata": {},
   "outputs": [
    {
     "name": "stdout",
     "output_type": "stream",
     "text": [
      "2023-09-13 12:08:27,948 - EHRQC - INFO - Parsing command line arguments\n",
      "2023-09-13 12:08:27,949 - EHRQC - INFO - args.plot_type: lab_measurements_explore\n",
      "2023-09-13 12:08:27,949 - EHRQC - INFO - args.source_path: data/icd_cohort_test/lab_measurements_last_icd.csv\n",
      "2023-09-13 12:08:27,949 - EHRQC - INFO - args.save_path: data/icd_cohort_test/lab_measurements_last_icd_explore.html\n",
      "2023-09-13 12:08:27,949 - EHRQC - INFO - args.column_mapping: None\n",
      "2023-09-13 12:08:27,949 - EHRQC - INFO - args.column_mapping: {}\n",
      "2023-09-13 12:08:27,973 - EHRQC - INFO - Too many variables!! Please select only the ones to be plotted.\n",
      "2023-09-13 12:08:27,973 - EHRQC - INFO - Done!!\n"
     ]
    },
    {
     "data": {
      "text/plain": [
       "0"
      ]
     },
     "execution_count": 6,
     "metadata": {},
     "output_type": "execute_result"
    }
   ],
   "source": [
    "import os\n",
    "\n",
    "os.system(\n",
    "    '''cd /superbugai-data/yash/chapter_1/workspace/EHRQC;'''\n",
    "    +\n",
    "    '''.venv/bin/python -m ehrqc.qc.Plot \"lab_measurements_explore\" \"data/icd_cohort_test/lab_measurements_last_icd.csv\" \"data/icd_cohort_test/lab_measurements_last_icd_explore.html\"'''\n",
    "    )"
   ]
  },
  {
   "cell_type": "markdown",
   "metadata": {},
   "source": [
    "### Generate anomaly graphs for lab measurements"
   ]
  },
  {
   "cell_type": "markdown",
   "metadata": {},
   "source": [
    "#### Lab measurements anomaly graph for minimum values"
   ]
  },
  {
   "cell_type": "code",
   "execution_count": 18,
   "metadata": {},
   "outputs": [
    {
     "name": "stdout",
     "output_type": "stream",
     "text": [
      "2023-09-13 11:32:56,701 - Anomalies - INFO - Parsing command line arguments\n",
      "2023-09-13 11:32:56,703 - Anomalies - INFO - Start!!\n",
      "2023-09-13 11:32:56,703 - Anomalies - INFO - args.source_path: data/icd_cohort_test/lab_measurements_min_icd.csv\n",
      "2023-09-13 11:32:56,703 - Anomalies - INFO - args.save_path: data/icd_cohort_test/\n",
      "2023-09-13 11:32:56,703 - Anomalies - INFO - args.save_prefix: lab_measurements_min_icd\n",
      "2023-09-13 11:32:56,703 - Anomalies - INFO - args.detect_missing: True\n",
      "2023-09-13 11:32:56,703 - Anomalies - INFO - args.detect_outliers: True\n",
      "2023-09-13 11:32:56,703 - Anomalies - INFO - args.detect_errors: True\n",
      "2023-09-13 11:32:56,703 - Anomalies - INFO - args.detect_inconsistencies: True\n",
      "2023-09-13 11:32:56,703 - Anomalies - INFO - args.correct_missing: False\n",
      "2023-09-13 11:32:56,703 - Anomalies - INFO - args.correct_outliers: False\n",
      "2023-09-13 11:32:56,724 - Anomalies - INFO - Too many variables!! Please select only the ones to be plotted.\n"
     ]
    },
    {
     "data": {
      "text/plain": [
       "0"
      ]
     },
     "execution_count": 18,
     "metadata": {},
     "output_type": "execute_result"
    }
   ],
   "source": [
    "import os\n",
    "\n",
    "os.system(\n",
    "    '''cd /superbugai-data/yash/chapter_1/workspace/EHRQC;'''\n",
    "    +\n",
    "    '''.venv/bin/python -m ehrqc.qc.Anomalies 'data/icd_cohort_test/lab_measurements_min_icd.csv' 'data/icd_cohort_test/' 'lab_measurements_min_icd' -dm -do -de -di'''\n",
    "    )"
   ]
  },
  {
   "cell_type": "markdown",
   "metadata": {},
   "source": [
    "#### Lab measurements anomaly graph for maximum values"
   ]
  },
  {
   "cell_type": "code",
   "execution_count": 19,
   "metadata": {},
   "outputs": [
    {
     "name": "stdout",
     "output_type": "stream",
     "text": [
      "2023-09-13 11:33:36,886 - Anomalies - INFO - Parsing command line arguments\n",
      "2023-09-13 11:33:36,888 - Anomalies - INFO - Start!!\n",
      "2023-09-13 11:33:36,888 - Anomalies - INFO - args.source_path: data/icd_cohort_test/lab_measurements_max_icd.csv\n",
      "2023-09-13 11:33:36,888 - Anomalies - INFO - args.save_path: data/icd_cohort_test/\n",
      "2023-09-13 11:33:36,888 - Anomalies - INFO - args.save_prefix: lab_measurements_max_icd\n",
      "2023-09-13 11:33:36,888 - Anomalies - INFO - args.detect_missing: True\n",
      "2023-09-13 11:33:36,888 - Anomalies - INFO - args.detect_outliers: True\n",
      "2023-09-13 11:33:36,888 - Anomalies - INFO - args.detect_errors: True\n",
      "2023-09-13 11:33:36,888 - Anomalies - INFO - args.detect_inconsistencies: True\n",
      "2023-09-13 11:33:36,888 - Anomalies - INFO - args.correct_missing: False\n",
      "2023-09-13 11:33:36,888 - Anomalies - INFO - args.correct_outliers: False\n",
      "2023-09-13 11:33:36,910 - Anomalies - INFO - Too many variables!! Please select only the ones to be plotted.\n"
     ]
    },
    {
     "data": {
      "text/plain": [
       "0"
      ]
     },
     "execution_count": 19,
     "metadata": {},
     "output_type": "execute_result"
    }
   ],
   "source": [
    "import os\n",
    "\n",
    "os.system(\n",
    "    '''cd /superbugai-data/yash/chapter_1/workspace/EHRQC;'''\n",
    "    +\n",
    "    '''.venv/bin/python -m ehrqc.qc.Anomalies 'data/icd_cohort_test/lab_measurements_max_icd.csv' 'data/icd_cohort_test/' 'lab_measurements_max_icd' -dm -do -de -di'''\n",
    "    )"
   ]
  },
  {
   "cell_type": "markdown",
   "metadata": {},
   "source": [
    "#### Lab measurements anomaly graph for average values"
   ]
  },
  {
   "cell_type": "code",
   "execution_count": 20,
   "metadata": {},
   "outputs": [
    {
     "name": "stdout",
     "output_type": "stream",
     "text": [
      "2023-09-13 11:34:24,893 - Anomalies - INFO - Parsing command line arguments\n",
      "2023-09-13 11:34:24,894 - Anomalies - INFO - Start!!\n",
      "2023-09-13 11:34:24,894 - Anomalies - INFO - args.source_path: data/icd_cohort_test/lab_measurements_avg_icd.csv\n",
      "2023-09-13 11:34:24,894 - Anomalies - INFO - args.save_path: data/icd_cohort_test/\n",
      "2023-09-13 11:34:24,894 - Anomalies - INFO - args.save_prefix: lab_measurements_avg_icd\n",
      "2023-09-13 11:34:24,894 - Anomalies - INFO - args.detect_missing: True\n",
      "2023-09-13 11:34:24,894 - Anomalies - INFO - args.detect_outliers: True\n",
      "2023-09-13 11:34:24,894 - Anomalies - INFO - args.detect_errors: True\n",
      "2023-09-13 11:34:24,894 - Anomalies - INFO - args.detect_inconsistencies: True\n",
      "2023-09-13 11:34:24,895 - Anomalies - INFO - args.correct_missing: False\n",
      "2023-09-13 11:34:24,895 - Anomalies - INFO - args.correct_outliers: False\n",
      "2023-09-13 11:34:24,934 - Anomalies - INFO - Too many variables!! Please select only the ones to be plotted.\n"
     ]
    },
    {
     "data": {
      "text/plain": [
       "0"
      ]
     },
     "execution_count": 20,
     "metadata": {},
     "output_type": "execute_result"
    }
   ],
   "source": [
    "import os\n",
    "\n",
    "os.system(\n",
    "    '''cd /superbugai-data/yash/chapter_1/workspace/EHRQC;'''\n",
    "    +\n",
    "    '''.venv/bin/python -m ehrqc.qc.Anomalies 'data/icd_cohort_test/lab_measurements_avg_icd.csv' 'data/icd_cohort_test/' 'lab_measurements_avg_icd' -dm -do -de -di'''\n",
    "    )"
   ]
  },
  {
   "cell_type": "markdown",
   "metadata": {},
   "source": [
    "#### Lab measurements anomaly graph for standard deviation values"
   ]
  },
  {
   "cell_type": "code",
   "execution_count": 21,
   "metadata": {},
   "outputs": [
    {
     "name": "stdout",
     "output_type": "stream",
     "text": [
      "2023-09-13 11:51:31,271 - Anomalies - INFO - Parsing command line arguments\n",
      "2023-09-13 11:51:31,273 - Anomalies - INFO - Start!!\n",
      "2023-09-13 11:51:31,273 - Anomalies - INFO - args.source_path: data/icd_cohort_test/lab_measurements_stddev_icd.csv\n",
      "2023-09-13 11:51:31,273 - Anomalies - INFO - args.save_path: data/icd_cohort_test/\n",
      "2023-09-13 11:51:31,273 - Anomalies - INFO - args.save_prefix: lab_measurements_stddev_icd\n",
      "2023-09-13 11:51:31,273 - Anomalies - INFO - args.detect_missing: True\n",
      "2023-09-13 11:51:31,273 - Anomalies - INFO - args.detect_outliers: True\n",
      "2023-09-13 11:51:31,273 - Anomalies - INFO - args.detect_errors: True\n",
      "2023-09-13 11:51:31,273 - Anomalies - INFO - args.detect_inconsistencies: True\n",
      "2023-09-13 11:51:31,273 - Anomalies - INFO - args.correct_missing: False\n",
      "2023-09-13 11:51:31,273 - Anomalies - INFO - args.correct_outliers: False\n",
      "2023-09-13 11:51:31,311 - Anomalies - INFO - Too many variables!! Please select only the ones to be plotted.\n"
     ]
    },
    {
     "data": {
      "text/plain": [
       "0"
      ]
     },
     "execution_count": 21,
     "metadata": {},
     "output_type": "execute_result"
    }
   ],
   "source": [
    "import os\n",
    "\n",
    "os.system(\n",
    "    '''cd /superbugai-data/yash/chapter_1/workspace/EHRQC;'''\n",
    "    +\n",
    "    '''.venv/bin/python -m ehrqc.qc.Anomalies 'data/icd_cohort_test/lab_measurements_stddev_icd.csv' 'data/icd_cohort_test/' 'lab_measurements_stddev_icd' -dm -do -de -di'''\n",
    "    )"
   ]
  },
  {
   "cell_type": "markdown",
   "metadata": {},
   "source": [
    "#### Lab measurements anomaly graph for first values"
   ]
  },
  {
   "cell_type": "code",
   "execution_count": 22,
   "metadata": {},
   "outputs": [
    {
     "name": "stdout",
     "output_type": "stream",
     "text": [
      "2023-09-13 11:52:17,661 - Anomalies - INFO - Parsing command line arguments\n",
      "2023-09-13 11:52:17,663 - Anomalies - INFO - Start!!\n",
      "2023-09-13 11:52:17,663 - Anomalies - INFO - args.source_path: data/icd_cohort_test/lab_measurements_first_icd.csv\n",
      "2023-09-13 11:52:17,663 - Anomalies - INFO - args.save_path: data/icd_cohort_test/\n",
      "2023-09-13 11:52:17,663 - Anomalies - INFO - args.save_prefix: lab_measurements_first_icd\n",
      "2023-09-13 11:52:17,663 - Anomalies - INFO - args.detect_missing: True\n",
      "2023-09-13 11:52:17,663 - Anomalies - INFO - args.detect_outliers: True\n",
      "2023-09-13 11:52:17,663 - Anomalies - INFO - args.detect_errors: True\n",
      "2023-09-13 11:52:17,663 - Anomalies - INFO - args.detect_inconsistencies: True\n",
      "2023-09-13 11:52:17,663 - Anomalies - INFO - args.correct_missing: False\n",
      "2023-09-13 11:52:17,663 - Anomalies - INFO - args.correct_outliers: False\n",
      "2023-09-13 11:52:17,686 - Anomalies - INFO - Too many variables!! Please select only the ones to be plotted.\n"
     ]
    },
    {
     "data": {
      "text/plain": [
       "0"
      ]
     },
     "execution_count": 22,
     "metadata": {},
     "output_type": "execute_result"
    }
   ],
   "source": [
    "import os\n",
    "\n",
    "os.system(\n",
    "    '''cd /superbugai-data/yash/chapter_1/workspace/EHRQC;'''\n",
    "    +\n",
    "    '''.venv/bin/python -m ehrqc.qc.Anomalies 'data/icd_cohort_test/lab_measurements_first_icd.csv' 'data/icd_cohort_test/' 'lab_measurements_first_icd' -dm -do -de -di'''\n",
    "    )"
   ]
  },
  {
   "cell_type": "markdown",
   "metadata": {},
   "source": [
    "#### Lab measurements anomaly graph for last values"
   ]
  },
  {
   "cell_type": "code",
   "execution_count": 23,
   "metadata": {},
   "outputs": [
    {
     "name": "stdout",
     "output_type": "stream",
     "text": [
      "2023-09-13 11:53:00,733 - Anomalies - INFO - Parsing command line arguments\n",
      "2023-09-13 11:53:00,734 - Anomalies - INFO - Start!!\n",
      "2023-09-13 11:53:00,734 - Anomalies - INFO - args.source_path: data/icd_cohort_test/lab_measurements_last_icd.csv\n",
      "2023-09-13 11:53:00,734 - Anomalies - INFO - args.save_path: data/icd_cohort_test/\n",
      "2023-09-13 11:53:00,734 - Anomalies - INFO - args.save_prefix: lab_measurements_last_icd\n",
      "2023-09-13 11:53:00,734 - Anomalies - INFO - args.detect_missing: True\n",
      "2023-09-13 11:53:00,734 - Anomalies - INFO - args.detect_outliers: True\n",
      "2023-09-13 11:53:00,734 - Anomalies - INFO - args.detect_errors: True\n",
      "2023-09-13 11:53:00,734 - Anomalies - INFO - args.detect_inconsistencies: True\n",
      "2023-09-13 11:53:00,735 - Anomalies - INFO - args.correct_missing: False\n",
      "2023-09-13 11:53:00,735 - Anomalies - INFO - args.correct_outliers: False\n",
      "2023-09-13 11:53:00,756 - Anomalies - INFO - Too many variables!! Please select only the ones to be plotted.\n"
     ]
    },
    {
     "data": {
      "text/plain": [
       "0"
      ]
     },
     "execution_count": 23,
     "metadata": {},
     "output_type": "execute_result"
    }
   ],
   "source": [
    "import os\n",
    "\n",
    "os.system(\n",
    "    '''cd /superbugai-data/yash/chapter_1/workspace/EHRQC;'''\n",
    "    +\n",
    "    '''.venv/bin/python -m ehrqc.qc.Anomalies 'data/icd_cohort_test/lab_measurements_last_icd.csv' 'data/icd_cohort_test/' 'lab_measurements_last_icd' -dm -do -de -di'''\n",
    "    )"
   ]
  }
 ],
 "metadata": {
  "kernelspec": {
   "display_name": ".venv",
   "language": "python",
   "name": "python3"
  },
  "language_info": {
   "codemirror_mode": {
    "name": "ipython",
    "version": 3
   },
   "file_extension": ".py",
   "mimetype": "text/x-python",
   "name": "python",
   "nbconvert_exporter": "python",
   "pygments_lexer": "ipython3",
   "version": "3.9.5"
  },
  "orig_nbformat": 4
 },
 "nbformat": 4,
 "nbformat_minor": 2
}
