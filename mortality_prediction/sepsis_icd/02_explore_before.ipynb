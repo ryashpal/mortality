{
 "cells": [
  {
   "cell_type": "markdown",
   "metadata": {},
   "source": [
    "# Exploring the raw data files extracted using EHR-QC"
   ]
  },
  {
   "cell_type": "markdown",
   "metadata": {},
   "source": [
    "## Read individual files"
   ]
  },
  {
   "cell_type": "code",
   "execution_count": 1,
   "metadata": {},
   "outputs": [],
   "source": [
    "import pandas as pd\n",
    "\n",
    "demographics =  pd.read_csv('/superbugai-data/yash/chapter_1/workspace/EHRQC/data/icd_cohort_test/demographics_icd.csv')\n",
    "vitals_min =  pd.read_csv('/superbugai-data/yash/chapter_1/workspace/EHRQC/data/icd_cohort_test/vitals_min_icd.csv')\n",
    "vitals_max =  pd.read_csv('/superbugai-data/yash/chapter_1/workspace/EHRQC/data/icd_cohort_test/vitals_max_icd.csv')\n",
    "vitals_avg =  pd.read_csv('/superbugai-data/yash/chapter_1/workspace/EHRQC/data/icd_cohort_test/vitals_avg_icd.csv')\n",
    "vitals_stddev =  pd.read_csv('/superbugai-data/yash/chapter_1/workspace/EHRQC/data/icd_cohort_test/vitals_stddev_icd.csv')\n",
    "vitals_first =  pd.read_csv('/superbugai-data/yash/chapter_1/workspace/EHRQC/data/icd_cohort_test/vitals_first_icd.csv')\n",
    "vitals_last =  pd.read_csv('/superbugai-data/yash/chapter_1/workspace/EHRQC/data/icd_cohort_test/vitals_last_icd.csv')\n",
    "lab_measurements_min =  pd.read_csv('/superbugai-data/yash/chapter_1/workspace/EHRQC/data/icd_cohort_test/lab_measurements_min_icd.csv')\n",
    "lab_measurements_max =  pd.read_csv('/superbugai-data/yash/chapter_1/workspace/EHRQC/data/icd_cohort_test/lab_measurements_max_icd.csv')\n",
    "lab_measurements_avg =  pd.read_csv('/superbugai-data/yash/chapter_1/workspace/EHRQC/data/icd_cohort_test/lab_measurements_avg_icd.csv')\n",
    "lab_measurements_stddev =  pd.read_csv('/superbugai-data/yash/chapter_1/workspace/EHRQC/data/icd_cohort_test/lab_measurements_stddev_icd.csv')\n",
    "lab_measurements_first =  pd.read_csv('/superbugai-data/yash/chapter_1/workspace/EHRQC/data/icd_cohort_test/lab_measurements_first_icd.csv')\n",
    "lab_measurements_last =  pd.read_csv('/superbugai-data/yash/chapter_1/workspace/EHRQC/data/icd_cohort_test/lab_measurements_last_icd.csv')"
   ]
  },
  {
   "cell_type": "code",
   "execution_count": 2,
   "metadata": {},
   "outputs": [
    {
     "data": {
      "text/plain": [
       "(12241, 4)"
      ]
     },
     "execution_count": 2,
     "metadata": {},
     "output_type": "execute_result"
    }
   ],
   "source": [
    "demographics.shape"
   ]
  },
  {
   "cell_type": "code",
   "execution_count": 3,
   "metadata": {},
   "outputs": [
    {
     "data": {
      "text/plain": [
       "((5185, 11), (5185, 11), (5185, 11), (5185, 11), (5185, 11), (5185, 11))"
      ]
     },
     "execution_count": 3,
     "metadata": {},
     "output_type": "execute_result"
    }
   ],
   "source": [
    "vitals_min.shape, vitals_max.shape, vitals_avg.shape, vitals_stddev.shape, vitals_first.shape, vitals_last.shape"
   ]
  },
  {
   "cell_type": "code",
   "execution_count": 4,
   "metadata": {},
   "outputs": [
    {
     "data": {
      "text/plain": [
       "((9923, 30), (9923, 30), (9923, 30), (9923, 30), (9923, 30), (9923, 30))"
      ]
     },
     "execution_count": 4,
     "metadata": {},
     "output_type": "execute_result"
    }
   ],
   "source": [
    "lab_measurements_min.shape, lab_measurements_max.shape, lab_measurements_avg.shape, lab_measurements_stddev.shape, lab_measurements_first.shape, lab_measurements_last.shape"
   ]
  },
  {
   "cell_type": "markdown",
   "metadata": {},
   "source": [
    "## Generate graphs"
   ]
  },
  {
   "cell_type": "markdown",
   "metadata": {},
   "source": [
    "### Generate exploration graphs for demographics"
   ]
  },
  {
   "cell_type": "code",
   "execution_count": 5,
   "metadata": {},
   "outputs": [
    {
     "name": "stdout",
     "output_type": "stream",
     "text": [
      "2023-09-13 11:25:22,254 - EHRQC - INFO - Parsing command line arguments\n",
      "2023-09-13 11:25:22,256 - EHRQC - INFO - args.plot_type: demographics_explore\n",
      "2023-09-13 11:25:22,256 - EHRQC - INFO - args.source_path: data/icd_cohort_test/demographics_icd.csv\n",
      "2023-09-13 11:25:22,256 - EHRQC - INFO - args.save_path: data/icd_cohort_test/demographics_icd_explore.html\n",
      "2023-09-13 11:25:22,256 - EHRQC - INFO - args.column_mapping: None\n",
      "2023-09-13 11:25:22,256 - EHRQC - INFO - args.column_mapping: {}\n",
      "2023-09-13 11:25:22,264 - EHRQC - INFO - generating graphs\n"
     ]
    },
    {
     "name": "stderr",
     "output_type": "stream",
     "text": [
      "/superbugai-data/yash/chapter_1/workspace/EHRQC/.venv/lib/python3.9/site-packages/missingno/missingno.py:61: UserWarning: Plotting a sparkline on an existing axis is not currently supported. To remove this warning, set sparkline=False.\n",
      "  warnings.warn(\n"
     ]
    },
    {
     "name": "stdout",
     "output_type": "stream",
     "text": [
      "2023-09-13 11:25:22,800 - EHRQC - INFO - Done!!\n"
     ]
    },
    {
     "data": {
      "text/plain": [
       "0"
      ]
     },
     "execution_count": 5,
     "metadata": {},
     "output_type": "execute_result"
    }
   ],
   "source": [
    "import os\n",
    "\n",
    "os.system(\n",
    "    '''cd /superbugai-data/yash/chapter_1/workspace/EHRQC;'''\n",
    "    +\n",
    "    '''.venv/bin/python -m ehrqc.qc.Plot \"demographics_explore\" \"data/icd_cohort_test/demographics_icd.csv\" \"data/icd_cohort_test/demographics_icd_explore.html\"'''\n",
    "    )"
   ]
  },
  {
   "cell_type": "markdown",
   "metadata": {},
   "source": [
    "### Generate exploration graphs for vitals"
   ]
  },
  {
   "cell_type": "markdown",
   "metadata": {},
   "source": [
    "#### Vitals exploration graphs for minimum values"
   ]
  },
  {
   "cell_type": "code",
   "execution_count": 6,
   "metadata": {},
   "outputs": [
    {
     "name": "stdout",
     "output_type": "stream",
     "text": [
      "2023-09-13 11:25:52,795 - EHRQC - INFO - Parsing command line arguments\n",
      "2023-09-13 11:25:52,797 - EHRQC - INFO - args.plot_type: vitals_explore\n",
      "2023-09-13 11:25:52,797 - EHRQC - INFO - args.source_path: data/icd_cohort_test/vitals_min_icd.csv\n",
      "2023-09-13 11:25:52,797 - EHRQC - INFO - args.save_path: data/icd_cohort_test/vitals_min_icd_explore.html\n",
      "2023-09-13 11:25:52,797 - EHRQC - INFO - args.column_mapping: None\n",
      "2023-09-13 11:25:52,797 - EHRQC - INFO - args.column_mapping: {}\n",
      "2023-09-13 11:25:52,807 - EHRQC - INFO - generating graphs\n"
     ]
    },
    {
     "name": "stderr",
     "output_type": "stream",
     "text": [
      "/superbugai-data/yash/chapter_1/workspace/EHRQC/.venv/lib/python3.9/site-packages/missingno/missingno.py:61: UserWarning: Plotting a sparkline on an existing axis is not currently supported. To remove this warning, set sparkline=False.\n",
      "  warnings.warn(\n"
     ]
    },
    {
     "name": "stdout",
     "output_type": "stream",
     "text": [
      "2023-09-13 11:25:54,536 - EHRQC - INFO - Done!!\n"
     ]
    },
    {
     "data": {
      "text/plain": [
       "0"
      ]
     },
     "execution_count": 6,
     "metadata": {},
     "output_type": "execute_result"
    }
   ],
   "source": [
    "import os\n",
    "\n",
    "os.system(\n",
    "    '''cd /superbugai-data/yash/chapter_1/workspace/EHRQC;'''\n",
    "    +\n",
    "    '''.venv/bin/python -m ehrqc.qc.Plot \"vitals_explore\" \"data/icd_cohort_test/vitals_min_icd.csv\" \"data/icd_cohort_test/vitals_min_icd_explore.html\"'''\n",
    "    )"
   ]
  },
  {
   "cell_type": "markdown",
   "metadata": {},
   "source": [
    "#### Vitals exploration graphs for maximum values"
   ]
  },
  {
   "cell_type": "code",
   "execution_count": 7,
   "metadata": {},
   "outputs": [
    {
     "name": "stdout",
     "output_type": "stream",
     "text": [
      "2023-09-13 11:25:56,459 - EHRQC - INFO - Parsing command line arguments\n",
      "2023-09-13 11:25:56,460 - EHRQC - INFO - args.plot_type: vitals_explore\n",
      "2023-09-13 11:25:56,460 - EHRQC - INFO - args.source_path: data/icd_cohort_test/vitals_max_icd.csv\n",
      "2023-09-13 11:25:56,460 - EHRQC - INFO - args.save_path: data/icd_cohort_test/vitals_max_icd_explore.html\n",
      "2023-09-13 11:25:56,460 - EHRQC - INFO - args.column_mapping: None\n",
      "2023-09-13 11:25:56,460 - EHRQC - INFO - args.column_mapping: {}\n",
      "2023-09-13 11:25:56,469 - EHRQC - INFO - generating graphs\n"
     ]
    },
    {
     "name": "stderr",
     "output_type": "stream",
     "text": [
      "/superbugai-data/yash/chapter_1/workspace/EHRQC/.venv/lib/python3.9/site-packages/missingno/missingno.py:61: UserWarning: Plotting a sparkline on an existing axis is not currently supported. To remove this warning, set sparkline=False.\n",
      "  warnings.warn(\n"
     ]
    },
    {
     "name": "stdout",
     "output_type": "stream",
     "text": [
      "2023-09-13 11:25:57,983 - EHRQC - INFO - Done!!\n"
     ]
    },
    {
     "data": {
      "text/plain": [
       "0"
      ]
     },
     "execution_count": 7,
     "metadata": {},
     "output_type": "execute_result"
    }
   ],
   "source": [
    "import os\n",
    "\n",
    "os.system(\n",
    "    '''cd /superbugai-data/yash/chapter_1/workspace/EHRQC;'''\n",
    "    +\n",
    "    '''.venv/bin/python -m ehrqc.qc.Plot \"vitals_explore\" \"data/icd_cohort_test/vitals_max_icd.csv\" \"data/icd_cohort_test/vitals_max_icd_explore.html\"'''\n",
    "    )"
   ]
  },
  {
   "cell_type": "markdown",
   "metadata": {},
   "source": [
    "#### Vitals exploration graphs for average values"
   ]
  },
  {
   "cell_type": "code",
   "execution_count": 8,
   "metadata": {},
   "outputs": [
    {
     "name": "stdout",
     "output_type": "stream",
     "text": [
      "2023-09-13 11:25:59,836 - EHRQC - INFO - Parsing command line arguments\n",
      "2023-09-13 11:25:59,837 - EHRQC - INFO - args.plot_type: vitals_explore\n",
      "2023-09-13 11:25:59,837 - EHRQC - INFO - args.source_path: data/icd_cohort_test/vitals_avg_icd.csv\n",
      "2023-09-13 11:25:59,837 - EHRQC - INFO - args.save_path: data/icd_cohort_test/vitals_avg_icd_explore.html\n",
      "2023-09-13 11:25:59,837 - EHRQC - INFO - args.column_mapping: None\n",
      "2023-09-13 11:25:59,837 - EHRQC - INFO - args.column_mapping: {}\n",
      "2023-09-13 11:25:59,849 - EHRQC - INFO - generating graphs\n"
     ]
    },
    {
     "name": "stderr",
     "output_type": "stream",
     "text": [
      "/superbugai-data/yash/chapter_1/workspace/EHRQC/.venv/lib/python3.9/site-packages/missingno/missingno.py:61: UserWarning: Plotting a sparkline on an existing axis is not currently supported. To remove this warning, set sparkline=False.\n",
      "  warnings.warn(\n"
     ]
    },
    {
     "name": "stdout",
     "output_type": "stream",
     "text": [
      "2023-09-13 11:26:01,398 - EHRQC - INFO - Done!!\n"
     ]
    },
    {
     "data": {
      "text/plain": [
       "0"
      ]
     },
     "execution_count": 8,
     "metadata": {},
     "output_type": "execute_result"
    }
   ],
   "source": [
    "import os\n",
    "\n",
    "os.system(\n",
    "    '''cd /superbugai-data/yash/chapter_1/workspace/EHRQC;'''\n",
    "    +\n",
    "    '''.venv/bin/python -m ehrqc.qc.Plot \"vitals_explore\" \"data/icd_cohort_test/vitals_avg_icd.csv\" \"data/icd_cohort_test/vitals_avg_icd_explore.html\"'''\n",
    "    )"
   ]
  },
  {
   "cell_type": "markdown",
   "metadata": {},
   "source": [
    "#### Vitals exploration graphs for standard deviation values"
   ]
  },
  {
   "cell_type": "code",
   "execution_count": 9,
   "metadata": {},
   "outputs": [
    {
     "name": "stdout",
     "output_type": "stream",
     "text": [
      "2023-09-13 11:26:03,226 - EHRQC - INFO - Parsing command line arguments\n",
      "2023-09-13 11:26:03,227 - EHRQC - INFO - args.plot_type: vitals_explore\n",
      "2023-09-13 11:26:03,227 - EHRQC - INFO - args.source_path: data/icd_cohort_test/vitals_stddev_icd.csv\n",
      "2023-09-13 11:26:03,227 - EHRQC - INFO - args.save_path: data/icd_cohort_test/vitals_stddev_icd_explore.html\n",
      "2023-09-13 11:26:03,227 - EHRQC - INFO - args.column_mapping: None\n",
      "2023-09-13 11:26:03,227 - EHRQC - INFO - args.column_mapping: {}\n",
      "2023-09-13 11:26:03,239 - EHRQC - INFO - generating graphs\n"
     ]
    },
    {
     "name": "stderr",
     "output_type": "stream",
     "text": [
      "/superbugai-data/yash/chapter_1/workspace/EHRQC/.venv/lib/python3.9/site-packages/missingno/missingno.py:61: UserWarning: Plotting a sparkline on an existing axis is not currently supported. To remove this warning, set sparkline=False.\n",
      "  warnings.warn(\n"
     ]
    },
    {
     "name": "stdout",
     "output_type": "stream",
     "text": [
      "2023-09-13 11:26:04,785 - EHRQC - INFO - Done!!\n"
     ]
    },
    {
     "data": {
      "text/plain": [
       "0"
      ]
     },
     "execution_count": 9,
     "metadata": {},
     "output_type": "execute_result"
    }
   ],
   "source": [
    "import os\n",
    "\n",
    "os.system(\n",
    "    '''cd /superbugai-data/yash/chapter_1/workspace/EHRQC;'''\n",
    "    +\n",
    "    '''.venv/bin/python -m ehrqc.qc.Plot \"vitals_explore\" \"data/icd_cohort_test/vitals_stddev_icd.csv\" \"data/icd_cohort_test/vitals_stddev_icd_explore.html\"'''\n",
    "    )"
   ]
  },
  {
   "cell_type": "markdown",
   "metadata": {},
   "source": [
    "#### Vitals exploration graphs for first values"
   ]
  },
  {
   "cell_type": "code",
   "execution_count": 10,
   "metadata": {},
   "outputs": [
    {
     "name": "stdout",
     "output_type": "stream",
     "text": [
      "2023-09-13 11:26:06,582 - EHRQC - INFO - Parsing command line arguments\n",
      "2023-09-13 11:26:06,583 - EHRQC - INFO - args.plot_type: vitals_explore\n",
      "2023-09-13 11:26:06,583 - EHRQC - INFO - args.source_path: data/icd_cohort_test/vitals_first_icd.csv\n",
      "2023-09-13 11:26:06,583 - EHRQC - INFO - args.save_path: data/icd_cohort_test/vitals_first_icd_explore.html\n",
      "2023-09-13 11:26:06,583 - EHRQC - INFO - args.column_mapping: None\n",
      "2023-09-13 11:26:06,583 - EHRQC - INFO - args.column_mapping: {}\n",
      "2023-09-13 11:26:06,591 - EHRQC - INFO - generating graphs\n"
     ]
    },
    {
     "name": "stderr",
     "output_type": "stream",
     "text": [
      "/superbugai-data/yash/chapter_1/workspace/EHRQC/.venv/lib/python3.9/site-packages/missingno/missingno.py:61: UserWarning: Plotting a sparkline on an existing axis is not currently supported. To remove this warning, set sparkline=False.\n",
      "  warnings.warn(\n"
     ]
    },
    {
     "name": "stdout",
     "output_type": "stream",
     "text": [
      "2023-09-13 11:26:08,098 - EHRQC - INFO - Done!!\n"
     ]
    },
    {
     "data": {
      "text/plain": [
       "0"
      ]
     },
     "execution_count": 10,
     "metadata": {},
     "output_type": "execute_result"
    }
   ],
   "source": [
    "import os\n",
    "\n",
    "os.system(\n",
    "    '''cd /superbugai-data/yash/chapter_1/workspace/EHRQC;'''\n",
    "    +\n",
    "    '''.venv/bin/python -m ehrqc.qc.Plot \"vitals_explore\" \"data/icd_cohort_test/vitals_first_icd.csv\" \"data/icd_cohort_test/vitals_first_icd_explore.html\"'''\n",
    "    )"
   ]
  },
  {
   "cell_type": "markdown",
   "metadata": {},
   "source": [
    "#### Vitals exploration graphs for last values"
   ]
  },
  {
   "cell_type": "code",
   "execution_count": 11,
   "metadata": {},
   "outputs": [
    {
     "name": "stdout",
     "output_type": "stream",
     "text": [
      "2023-09-13 11:26:09,896 - EHRQC - INFO - Parsing command line arguments\n",
      "2023-09-13 11:26:09,897 - EHRQC - INFO - args.plot_type: vitals_explore\n",
      "2023-09-13 11:26:09,897 - EHRQC - INFO - args.source_path: data/icd_cohort_test/vitals_last_icd.csv\n",
      "2023-09-13 11:26:09,897 - EHRQC - INFO - args.save_path: data/icd_cohort_test/vitals_last_icd_explore.html\n",
      "2023-09-13 11:26:09,897 - EHRQC - INFO - args.column_mapping: None\n",
      "2023-09-13 11:26:09,897 - EHRQC - INFO - args.column_mapping: {}\n",
      "2023-09-13 11:26:09,906 - EHRQC - INFO - generating graphs\n"
     ]
    },
    {
     "name": "stderr",
     "output_type": "stream",
     "text": [
      "/superbugai-data/yash/chapter_1/workspace/EHRQC/.venv/lib/python3.9/site-packages/missingno/missingno.py:61: UserWarning: Plotting a sparkline on an existing axis is not currently supported. To remove this warning, set sparkline=False.\n",
      "  warnings.warn(\n"
     ]
    },
    {
     "name": "stdout",
     "output_type": "stream",
     "text": [
      "2023-09-13 11:26:11,366 - EHRQC - INFO - Done!!\n"
     ]
    },
    {
     "data": {
      "text/plain": [
       "0"
      ]
     },
     "execution_count": 11,
     "metadata": {},
     "output_type": "execute_result"
    }
   ],
   "source": [
    "import os\n",
    "\n",
    "os.system(\n",
    "    '''cd /superbugai-data/yash/chapter_1/workspace/EHRQC;'''\n",
    "    +\n",
    "    '''.venv/bin/python -m ehrqc.qc.Plot \"vitals_explore\" \"data/icd_cohort_test/vitals_last_icd.csv\" \"data/icd_cohort_test/vitals_last_icd_explore.html\"'''\n",
    "    )"
   ]
  },
  {
   "cell_type": "markdown",
   "metadata": {},
   "source": [
    "### Generate anomaly graphs for vitals"
   ]
  },
  {
   "cell_type": "markdown",
   "metadata": {},
   "source": [
    "#### Vitals anomaly graphs for minimum values"
   ]
  },
  {
   "cell_type": "code",
   "execution_count": 12,
   "metadata": {},
   "outputs": [
    {
     "name": "stdout",
     "output_type": "stream",
     "text": [
      "2023-09-13 11:26:13,405 - Anomalies - INFO - Parsing command line arguments\n",
      "2023-09-13 11:26:13,406 - Anomalies - INFO - Start!!\n",
      "2023-09-13 11:26:13,407 - Anomalies - INFO - args.source_path: data/icd_cohort_test/vitals_min_icd.csv\n",
      "2023-09-13 11:26:13,407 - Anomalies - INFO - args.save_path: data/icd_cohort_test/\n",
      "2023-09-13 11:26:13,407 - Anomalies - INFO - args.save_prefix: vitals_min_icd\n",
      "2023-09-13 11:26:13,407 - Anomalies - INFO - args.detect_missing: True\n",
      "2023-09-13 11:26:13,407 - Anomalies - INFO - args.detect_outliers: True\n",
      "2023-09-13 11:26:13,407 - Anomalies - INFO - args.detect_errors: True\n",
      "2023-09-13 11:26:13,407 - Anomalies - INFO - args.detect_inconsistencies: True\n",
      "2023-09-13 11:26:13,407 - Anomalies - INFO - args.correct_missing: False\n",
      "2023-09-13 11:26:13,407 - Anomalies - INFO - args.correct_outliers: False\n",
      "2023-09-13 11:26:15,900 - Anomalies - INFO - Done!!\n"
     ]
    },
    {
     "data": {
      "text/plain": [
       "0"
      ]
     },
     "execution_count": 12,
     "metadata": {},
     "output_type": "execute_result"
    }
   ],
   "source": [
    "import os\n",
    "\n",
    "os.system(\n",
    "    '''cd /superbugai-data/yash/chapter_1/workspace/EHRQC;'''\n",
    "    +\n",
    "    '''.venv/bin/python -m ehrqc.qc.Anomalies 'data/icd_cohort_test/vitals_min_icd.csv' 'data/icd_cohort_test/' 'vitals_min_icd' -dm -do -de -di'''\n",
    "    )"
   ]
  },
  {
   "cell_type": "markdown",
   "metadata": {},
   "source": [
    "#### Vitals anomaly graphs for maximum values"
   ]
  },
  {
   "cell_type": "code",
   "execution_count": 13,
   "metadata": {},
   "outputs": [
    {
     "name": "stdout",
     "output_type": "stream",
     "text": [
      "2023-09-13 11:26:17,748 - Anomalies - INFO - Parsing command line arguments\n",
      "2023-09-13 11:26:17,749 - Anomalies - INFO - Start!!\n",
      "2023-09-13 11:26:17,749 - Anomalies - INFO - args.source_path: data/icd_cohort_test/vitals_max_icd.csv\n",
      "2023-09-13 11:26:17,749 - Anomalies - INFO - args.save_path: data/icd_cohort_test/\n",
      "2023-09-13 11:26:17,749 - Anomalies - INFO - args.save_prefix: vitals_max_icd\n",
      "2023-09-13 11:26:17,749 - Anomalies - INFO - args.detect_missing: True\n",
      "2023-09-13 11:26:17,749 - Anomalies - INFO - args.detect_outliers: True\n",
      "2023-09-13 11:26:17,749 - Anomalies - INFO - args.detect_errors: True\n",
      "2023-09-13 11:26:17,749 - Anomalies - INFO - args.detect_inconsistencies: True\n",
      "2023-09-13 11:26:17,749 - Anomalies - INFO - args.correct_missing: False\n",
      "2023-09-13 11:26:17,749 - Anomalies - INFO - args.correct_outliers: False\n",
      "2023-09-13 11:26:20,356 - Anomalies - INFO - Done!!\n"
     ]
    },
    {
     "data": {
      "text/plain": [
       "0"
      ]
     },
     "execution_count": 13,
     "metadata": {},
     "output_type": "execute_result"
    }
   ],
   "source": [
    "import os\n",
    "\n",
    "os.system(\n",
    "    '''cd /superbugai-data/yash/chapter_1/workspace/EHRQC;'''\n",
    "    +\n",
    "    '''.venv/bin/python -m ehrqc.qc.Anomalies 'data/icd_cohort_test/vitals_max_icd.csv' 'data/icd_cohort_test/' 'vitals_max_icd' -dm -do -de -di'''\n",
    "    )"
   ]
  },
  {
   "cell_type": "markdown",
   "metadata": {},
   "source": [
    "#### Vitals anomaly graphs for average values"
   ]
  },
  {
   "cell_type": "code",
   "execution_count": 14,
   "metadata": {},
   "outputs": [
    {
     "name": "stdout",
     "output_type": "stream",
     "text": [
      "2023-09-13 11:26:22,500 - Anomalies - INFO - Parsing command line arguments\n",
      "2023-09-13 11:26:22,501 - Anomalies - INFO - Start!!\n",
      "2023-09-13 11:26:22,501 - Anomalies - INFO - args.source_path: data/icd_cohort_test/vitals_avg_icd.csv\n",
      "2023-09-13 11:26:22,501 - Anomalies - INFO - args.save_path: data/icd_cohort_test/\n",
      "2023-09-13 11:26:22,501 - Anomalies - INFO - args.save_prefix: vitals_avg_icd\n",
      "2023-09-13 11:26:22,501 - Anomalies - INFO - args.detect_missing: True\n",
      "2023-09-13 11:26:22,501 - Anomalies - INFO - args.detect_outliers: True\n",
      "2023-09-13 11:26:22,501 - Anomalies - INFO - args.detect_errors: True\n",
      "2023-09-13 11:26:22,501 - Anomalies - INFO - args.detect_inconsistencies: True\n",
      "2023-09-13 11:26:22,501 - Anomalies - INFO - args.correct_missing: False\n",
      "2023-09-13 11:26:22,501 - Anomalies - INFO - args.correct_outliers: False\n",
      "2023-09-13 11:26:25,008 - Anomalies - INFO - Done!!\n"
     ]
    },
    {
     "data": {
      "text/plain": [
       "0"
      ]
     },
     "execution_count": 14,
     "metadata": {},
     "output_type": "execute_result"
    }
   ],
   "source": [
    "import os\n",
    "\n",
    "os.system(\n",
    "    '''cd /superbugai-data/yash/chapter_1/workspace/EHRQC;'''\n",
    "    +\n",
    "    '''.venv/bin/python -m ehrqc.qc.Anomalies 'data/icd_cohort_test/vitals_avg_icd.csv' 'data/icd_cohort_test/' 'vitals_avg_icd' -dm -do -de -di'''\n",
    "    )"
   ]
  },
  {
   "cell_type": "markdown",
   "metadata": {},
   "source": [
    "#### Vitals anomaly graphs for standard deviation values"
   ]
  },
  {
   "cell_type": "code",
   "execution_count": 17,
   "metadata": {},
   "outputs": [
    {
     "name": "stdout",
     "output_type": "stream",
     "text": [
      "2023-09-13 11:28:25,205 - Anomalies - INFO - Parsing command line arguments\n",
      "2023-09-13 11:28:25,207 - Anomalies - INFO - Start!!\n",
      "2023-09-13 11:28:25,207 - Anomalies - INFO - args.source_path: data/icd_cohort_test/vitals_stddev_icd.csv\n",
      "2023-09-13 11:28:25,207 - Anomalies - INFO - args.save_path: data/icd_cohort_test/\n",
      "2023-09-13 11:28:25,207 - Anomalies - INFO - args.save_prefix: vitals_stddev_icd\n",
      "2023-09-13 11:28:25,207 - Anomalies - INFO - args.detect_missing: True\n",
      "2023-09-13 11:28:25,207 - Anomalies - INFO - args.detect_outliers: True\n",
      "2023-09-13 11:28:25,207 - Anomalies - INFO - args.detect_errors: True\n",
      "2023-09-13 11:28:25,207 - Anomalies - INFO - args.detect_inconsistencies: True\n",
      "2023-09-13 11:28:25,207 - Anomalies - INFO - args.correct_missing: False\n",
      "2023-09-13 11:28:25,207 - Anomalies - INFO - args.correct_outliers: False\n",
      "2023-09-13 11:28:27,767 - Anomalies - INFO - Done!!\n"
     ]
    },
    {
     "data": {
      "text/plain": [
       "0"
      ]
     },
     "execution_count": 17,
     "metadata": {},
     "output_type": "execute_result"
    }
   ],
   "source": [
    "import os\n",
    "\n",
    "os.system(\n",
    "    '''cd /superbugai-data/yash/chapter_1/workspace/EHRQC;'''\n",
    "    +\n",
    "    '''.venv/bin/python -m ehrqc.qc.Anomalies 'data/icd_cohort_test/vitals_stddev_icd.csv' 'data/icd_cohort_test/' 'vitals_stddev_icd' -dm -do -de -di'''\n",
    "    )"
   ]
  },
  {
   "cell_type": "markdown",
   "metadata": {},
   "source": [
    "#### Vitals anomaly graphs for first values"
   ]
  },
  {
   "cell_type": "code",
   "execution_count": 15,
   "metadata": {},
   "outputs": [
    {
     "name": "stdout",
     "output_type": "stream",
     "text": [
      "2023-09-13 11:26:26,867 - Anomalies - INFO - Parsing command line arguments\n",
      "2023-09-13 11:26:26,869 - Anomalies - INFO - Start!!\n",
      "2023-09-13 11:26:26,869 - Anomalies - INFO - args.source_path: data/icd_cohort_test/vitals_first_icd.csv\n",
      "2023-09-13 11:26:26,869 - Anomalies - INFO - args.save_path: data/icd_cohort_test/\n",
      "2023-09-13 11:26:26,869 - Anomalies - INFO - args.save_prefix: vitals_first_icd\n",
      "2023-09-13 11:26:26,869 - Anomalies - INFO - args.detect_missing: True\n",
      "2023-09-13 11:26:26,869 - Anomalies - INFO - args.detect_outliers: True\n",
      "2023-09-13 11:26:26,869 - Anomalies - INFO - args.detect_errors: True\n",
      "2023-09-13 11:26:26,869 - Anomalies - INFO - args.detect_inconsistencies: True\n",
      "2023-09-13 11:26:26,869 - Anomalies - INFO - args.correct_missing: False\n",
      "2023-09-13 11:26:26,869 - Anomalies - INFO - args.correct_outliers: False\n",
      "2023-09-13 11:26:29,438 - Anomalies - INFO - Done!!\n"
     ]
    },
    {
     "data": {
      "text/plain": [
       "0"
      ]
     },
     "execution_count": 15,
     "metadata": {},
     "output_type": "execute_result"
    }
   ],
   "source": [
    "import os\n",
    "\n",
    "os.system(\n",
    "    '''cd /superbugai-data/yash/chapter_1/workspace/EHRQC;'''\n",
    "    +\n",
    "    '''.venv/bin/python -m ehrqc.qc.Anomalies 'data/icd_cohort_test/vitals_first_icd.csv' 'data/icd_cohort_test/' 'vitals_first_icd' -dm -do -de -di'''\n",
    "    )"
   ]
  },
  {
   "cell_type": "markdown",
   "metadata": {},
   "source": [
    "#### Vitals anomaly graphs for last values"
   ]
  },
  {
   "cell_type": "code",
   "execution_count": 16,
   "metadata": {},
   "outputs": [
    {
     "name": "stdout",
     "output_type": "stream",
     "text": [
      "2023-09-13 11:26:31,284 - Anomalies - INFO - Parsing command line arguments\n",
      "2023-09-13 11:26:31,285 - Anomalies - INFO - Start!!\n",
      "2023-09-13 11:26:31,285 - Anomalies - INFO - args.source_path: data/icd_cohort_test/vitals_last_icd.csv\n",
      "2023-09-13 11:26:31,285 - Anomalies - INFO - args.save_path: data/icd_cohort_test/\n",
      "2023-09-13 11:26:31,285 - Anomalies - INFO - args.save_prefix: vitals_last_icd\n",
      "2023-09-13 11:26:31,285 - Anomalies - INFO - args.detect_missing: True\n",
      "2023-09-13 11:26:31,285 - Anomalies - INFO - args.detect_outliers: True\n",
      "2023-09-13 11:26:31,285 - Anomalies - INFO - args.detect_errors: True\n",
      "2023-09-13 11:26:31,285 - Anomalies - INFO - args.detect_inconsistencies: True\n",
      "2023-09-13 11:26:31,285 - Anomalies - INFO - args.correct_missing: False\n",
      "2023-09-13 11:26:31,285 - Anomalies - INFO - args.correct_outliers: False\n",
      "2023-09-13 11:26:33,786 - Anomalies - INFO - Done!!\n"
     ]
    },
    {
     "data": {
      "text/plain": [
       "0"
      ]
     },
     "execution_count": 16,
     "metadata": {},
     "output_type": "execute_result"
    }
   ],
   "source": [
    "import os\n",
    "\n",
    "os.system(\n",
    "    '''cd /superbugai-data/yash/chapter_1/workspace/EHRQC;'''\n",
    "    +\n",
    "    '''.venv/bin/python -m ehrqc.qc.Anomalies 'data/icd_cohort_test/vitals_last_icd.csv' 'data/icd_cohort_test/' 'vitals_last_icd' -dm -do -de -di'''\n",
    "    )"
   ]
  },
  {
   "cell_type": "markdown",
   "metadata": {},
   "source": [
    "### Generate exploration graphs for lab measurements"
   ]
  },
  {
   "cell_type": "markdown",
   "metadata": {},
   "source": [
    "#### Lab measurements exploration graphs for minimum values"
   ]
  },
  {
   "cell_type": "code",
   "execution_count": 26,
   "metadata": {},
   "outputs": [
    {
     "name": "stdout",
     "output_type": "stream",
     "text": [
      "2023-09-12 15:50:56,226 - EHRQC - INFO - Parsing command line arguments\n",
      "2023-09-12 15:50:56,227 - EHRQC - INFO - args.plot_type: lab_measurements_explore \n",
      "2023-09-12 15:50:56,227 - EHRQC - INFO - args.source_path: data/icd_cohort/lab_measurements_min_icd.csv\n",
      "2023-09-12 15:50:56,227 - EHRQC - INFO - args.save_path: data/icd_cohort/lab_measurements_min_icd_explore.html\n",
      "2023-09-12 15:50:56,227 - EHRQC - INFO - args.column_mapping: None\n",
      "2023-09-12 15:50:56,227 - EHRQC - INFO - args.column_mapping: {}\n",
      "2023-09-12 15:50:56,254 - EHRQC - INFO - Too many variables!! Please select only the ones to be plotted.\n",
      "2023-09-12 15:50:56,255 - EHRQC - INFO - Done!!\n"
     ]
    },
    {
     "data": {
      "text/plain": [
       "0"
      ]
     },
     "execution_count": 26,
     "metadata": {},
     "output_type": "execute_result"
    }
   ],
   "source": [
    "import os\n",
    "\n",
    "os.system(\n",
    "    '''cd /superbugai-data/yash/chapter_1/workspace/EHRQC;'''\n",
    "    +\n",
    "    '''.venv/bin/python -m ehrqc.qc.Plot \"lab_measurements_explore \" \"data/icd_cohort_test/lab_measurements_min_icd.csv\" \"data/icd_cohort_test/lab_measurements_min_icd_explore.html\"'''\n",
    "    )"
   ]
  },
  {
   "cell_type": "markdown",
   "metadata": {},
   "source": [
    "#### Lab measurements exploration graphs for maximum values"
   ]
  },
  {
   "cell_type": "code",
   "execution_count": 29,
   "metadata": {},
   "outputs": [
    {
     "name": "stdout",
     "output_type": "stream",
     "text": [
      "2023-09-12 15:52:02,793 - Anomalies - INFO - Parsing command line arguments\n",
      "2023-09-12 15:52:02,795 - Anomalies - INFO - Start!!\n",
      "2023-09-12 15:52:02,795 - Anomalies - INFO - args.source_file: data/icd_cohort/lab_measurements_max_icd.csv\n",
      "2023-09-12 15:52:02,795 - Anomalies - INFO - args.chunksize: 1\n",
      "2023-09-12 15:52:02,795 - Anomalies - INFO - args.id_columns: ['person_id']\n",
      "2023-09-12 15:52:02,795 - Anomalies - INFO - args.drop: True\n",
      "2023-09-12 15:52:02,795 - Anomalies - INFO - args.percentage: 20.0\n",
      "2023-09-12 15:52:02,795 - Anomalies - INFO - args.save_path: data/icd_cohort/\n",
      "2023-09-12 15:52:02,795 - Anomalies - INFO - Calculating Missingnes\n",
      "2023-09-12 15:52:48,773 - Anomalies - INFO - Missingness Report\n",
      "2023-09-12 15:52:48,789 - Anomalies - INFO - \n",
      "\n",
      "                column_name  missing_count  total_count  percentage_missing\n",
      "0                   albumin           4400         9923               44.34\n",
      "1                 anion_gap           2374         9923               23.92\n",
      "2                      aptt           3145         9923               31.69\n",
      "3     band_form_neutrophils           6930         9923               69.84\n",
      "4      base_excess_in_blood           5560         9923               56.03\n",
      "5               bicarbonate             51         9923                0.51\n",
      "6                 bilirubin           3613         9923               36.41\n",
      "7       carbondioxide_blood           5555         9923               55.98\n",
      "8       carbondioxide_serum           5553         9923               55.96\n",
      "9            chloride_blood           8677         9923               87.44\n",
      "10           chloride_serum             53         9923                0.53\n",
      "11               creatinine             40         9923                0.40\n",
      "12            glucose_serum             68         9923                0.69\n",
      "13            glucose_urine           9106         9923               91.77\n",
      "14               hematocrit           2359         9923               23.77\n",
      "15               hemoglobin             51         9923                0.51\n",
      "16                      inr           3073         9923               30.97\n",
      "17                  lactate           3293         9923               33.19\n",
      "18    leukocytes_blood_auto           9839         9923               99.15\n",
      "19  leukocytes_blood_manual           2369         9923               23.87\n",
      "20                   oxygen           5556         9923               55.99\n",
      "21                 ph_blood           5373         9923               54.15\n",
      "22             ph_bodyfluid           9801         9923               98.77\n",
      "23           platelet_count           2358         9923               23.76\n",
      "24          potassium_blood           7461         9923               75.19\n",
      "25          potassium_serum             44         9923                0.44\n",
      "26             sodium_blood           8439         9923               85.04\n",
      "27             sodium_serum             46         9923                0.46\n",
      "28            urea_nitrogen           2364         9923               23.82\n",
      "\n",
      "2023-09-12 15:52:48,790 - Anomalies - INFO - Dropping columns with above 20.0 % missingness\n",
      "2023-09-12 15:52:56,079 - Anomalies - INFO - Saving data to lab_measurements_max_icd_dropped.csv\n",
      "2023-09-12 15:52:56,213 - Anomalies - INFO - Done!!\n"
     ]
    },
    {
     "data": {
      "text/plain": [
       "0"
      ]
     },
     "execution_count": 29,
     "metadata": {},
     "output_type": "execute_result"
    }
   ],
   "source": [
    "import os\n",
    "\n",
    "os.system(\n",
    "    '''cd /superbugai-data/yash/chapter_1/workspace/EHRQC;'''\n",
    "    +\n",
    "    '''.venv/bin/python -m ehrqc.qc.Plot \"lab_measurements_explore \" \"data/icd_cohort_test/lab_measurements_max_icd.csv\" \"data/icd_cohort_test/lab_measurements_max_icd_explore.html\"'''\n",
    "    )"
   ]
  },
  {
   "cell_type": "markdown",
   "metadata": {},
   "source": [
    "#### Lab measurements exploration graphs for average values"
   ]
  },
  {
   "cell_type": "code",
   "execution_count": 32,
   "metadata": {},
   "outputs": [
    {
     "name": "stdout",
     "output_type": "stream",
     "text": [
      "2023-09-12 15:53:54,080 - EHRQC - INFO - Parsing command line arguments\n",
      "2023-09-12 15:53:54,081 - EHRQC - INFO - args.plot_type: lab_measurements_explore \n",
      "2023-09-12 15:53:54,081 - EHRQC - INFO - args.source_path: data/icd_cohort/lab_measurements_avg_icd_dropped.csv\n",
      "2023-09-12 15:53:54,081 - EHRQC - INFO - args.save_path: data/icd_cohort/lab_measurements_avg_icd_explore.html\n",
      "2023-09-12 15:53:54,081 - EHRQC - INFO - args.column_mapping: None\n",
      "2023-09-12 15:53:54,081 - EHRQC - INFO - args.column_mapping: {}\n",
      "2023-09-12 15:53:54,093 - EHRQC - INFO - generating graphs\n",
      "2023-09-12 15:53:54,093 - EHRQC - INFO - Done!!\n"
     ]
    },
    {
     "data": {
      "text/plain": [
       "0"
      ]
     },
     "execution_count": 32,
     "metadata": {},
     "output_type": "execute_result"
    }
   ],
   "source": [
    "import os\n",
    "\n",
    "os.system(\n",
    "    '''cd /superbugai-data/yash/chapter_1/workspace/EHRQC;'''\n",
    "    +\n",
    "    '''.venv/bin/python -m ehrqc.qc.Plot \"lab_measurements_explore \" \"data/icd_cohort_test/lab_measurements_avg_icd.csv\" \"data/icd_cohort_test/lab_measurements_avg_icd_explore.html\"'''\n",
    "    )"
   ]
  },
  {
   "cell_type": "markdown",
   "metadata": {},
   "source": [
    "#### Lab measurements exploration graphs for standard deviation values"
   ]
  },
  {
   "cell_type": "code",
   "execution_count": 34,
   "metadata": {},
   "outputs": [
    {
     "name": "stdout",
     "output_type": "stream",
     "text": [
      "2023-09-12 15:54:50,170 - EHRQC - INFO - Parsing command line arguments\n",
      "2023-09-12 15:54:50,171 - EHRQC - INFO - args.plot_type: lab_measurements_explore \n",
      "2023-09-12 15:54:50,171 - EHRQC - INFO - args.source_path: data/icd_cohort/lab_measurements_stddev_icd_dropped.csv\n",
      "2023-09-12 15:54:50,171 - EHRQC - INFO - args.save_path: data/icd_cohort/lab_measurements_stddev_icd_explore.html\n",
      "2023-09-12 15:54:50,171 - EHRQC - INFO - args.column_mapping: None\n",
      "2023-09-12 15:54:50,171 - EHRQC - INFO - args.column_mapping: {}\n",
      "2023-09-12 15:54:50,185 - EHRQC - INFO - generating graphs\n",
      "2023-09-12 15:54:50,185 - EHRQC - INFO - Done!!\n"
     ]
    },
    {
     "data": {
      "text/plain": [
       "0"
      ]
     },
     "execution_count": 34,
     "metadata": {},
     "output_type": "execute_result"
    }
   ],
   "source": [
    "import os\n",
    "\n",
    "os.system(\n",
    "    '''cd /superbugai-data/yash/chapter_1/workspace/EHRQC;'''\n",
    "    +\n",
    "    '''.venv/bin/python -m ehrqc.qc.Plot \"lab_measurements_explore \" \"data/icd_cohort_test/lab_measurements_stddev_icd.csv\" \"data/icd_cohort_test/lab_measurements_stddev_icd_explore.html\"'''\n",
    "    )"
   ]
  },
  {
   "cell_type": "markdown",
   "metadata": {},
   "source": [
    "#### Lab measurements exploration graphs for first values"
   ]
  },
  {
   "cell_type": "code",
   "execution_count": 36,
   "metadata": {},
   "outputs": [
    {
     "name": "stdout",
     "output_type": "stream",
     "text": [
      "2023-09-12 15:55:44,962 - EHRQC - INFO - Parsing command line arguments\n",
      "2023-09-12 15:55:44,962 - EHRQC - INFO - args.plot_type: lab_measurements_explore \n",
      "2023-09-12 15:55:44,963 - EHRQC - INFO - args.source_path: data/icd_cohort/lab_measurements_first_icd_dropped.csv\n",
      "2023-09-12 15:55:44,963 - EHRQC - INFO - args.save_path: data/icd_cohort/lab_measurements_first_icd_explore.html\n",
      "2023-09-12 15:55:44,963 - EHRQC - INFO - args.column_mapping: None\n",
      "2023-09-12 15:55:44,963 - EHRQC - INFO - args.column_mapping: {}\n",
      "2023-09-12 15:55:44,972 - EHRQC - INFO - generating graphs\n",
      "2023-09-12 15:55:44,972 - EHRQC - INFO - Done!!\n"
     ]
    },
    {
     "data": {
      "text/plain": [
       "0"
      ]
     },
     "execution_count": 36,
     "metadata": {},
     "output_type": "execute_result"
    }
   ],
   "source": [
    "import os\n",
    "\n",
    "os.system(\n",
    "    '''cd /superbugai-data/yash/chapter_1/workspace/EHRQC;'''\n",
    "    +\n",
    "    '''.venv/bin/python -m ehrqc.qc.Plot \"lab_measurements_explore \" \"data/icd_cohort_test/lab_measurements_first_icd.csv\" \"data/icd_cohort_test/lab_measurements_first_icd_explore.html\"'''\n",
    "    )"
   ]
  },
  {
   "cell_type": "markdown",
   "metadata": {},
   "source": [
    "#### Lab measurements exploration graphs for last values"
   ]
  },
  {
   "cell_type": "code",
   "execution_count": 41,
   "metadata": {},
   "outputs": [
    {
     "name": "stdout",
     "output_type": "stream",
     "text": [
      "2023-09-12 16:00:38,693 - EHRQC - INFO - Parsing command line arguments\n",
      "2023-09-12 16:00:38,695 - EHRQC - INFO - args.plot_type: lab_measurements_explore\n",
      "2023-09-12 16:00:38,695 - EHRQC - INFO - args.source_path: data/icd_cohort/lab_measurements_last_icd_dropped.csv\n",
      "2023-09-12 16:00:38,695 - EHRQC - INFO - args.save_path: data/icd_cohort/lab_measurements_last_icd_explore.html\n",
      "2023-09-12 16:00:38,695 - EHRQC - INFO - args.column_mapping: None\n",
      "2023-09-12 16:00:38,695 - EHRQC - INFO - args.column_mapping: {}\n",
      "2023-09-12 16:00:38,705 - EHRQC - INFO - generating graphs\n"
     ]
    },
    {
     "name": "stderr",
     "output_type": "stream",
     "text": [
      "/superbugai-data/yash/chapter_1/workspace/EHRQC/.venv/lib/python3.9/site-packages/missingno/missingno.py:61: UserWarning: Plotting a sparkline on an existing axis is not currently supported. To remove this warning, set sparkline=False.\n",
      "  warnings.warn(\n"
     ]
    },
    {
     "name": "stdout",
     "output_type": "stream",
     "text": [
      "2023-09-12 16:00:39,354 - EHRQC - INFO - Done!!\n"
     ]
    },
    {
     "data": {
      "text/plain": [
       "0"
      ]
     },
     "execution_count": 41,
     "metadata": {},
     "output_type": "execute_result"
    }
   ],
   "source": [
    "import os\n",
    "\n",
    "os.system(\n",
    "    '''cd /superbugai-data/yash/chapter_1/workspace/EHRQC;'''\n",
    "    +\n",
    "    '''.venv/bin/python -m ehrqc.qc.Plot \"lab_measurements_explore\" \"data/icd_cohort_test/lab_measurements_last_icd.csv\" \"data/icd_cohort_test/lab_measurements_last_icd_explore.html\"'''\n",
    "    )"
   ]
  },
  {
   "cell_type": "markdown",
   "metadata": {},
   "source": [
    "### Generate anomaly graphs for lab measurements"
   ]
  },
  {
   "cell_type": "markdown",
   "metadata": {},
   "source": [
    "#### Lab measurements anomaly graph for minimum values"
   ]
  },
  {
   "cell_type": "code",
   "execution_count": 18,
   "metadata": {},
   "outputs": [
    {
     "name": "stdout",
     "output_type": "stream",
     "text": [
      "2023-09-13 11:32:56,701 - Anomalies - INFO - Parsing command line arguments\n",
      "2023-09-13 11:32:56,703 - Anomalies - INFO - Start!!\n",
      "2023-09-13 11:32:56,703 - Anomalies - INFO - args.source_path: data/icd_cohort_test/lab_measurements_min_icd.csv\n",
      "2023-09-13 11:32:56,703 - Anomalies - INFO - args.save_path: data/icd_cohort_test/\n",
      "2023-09-13 11:32:56,703 - Anomalies - INFO - args.save_prefix: lab_measurements_min_icd\n",
      "2023-09-13 11:32:56,703 - Anomalies - INFO - args.detect_missing: True\n",
      "2023-09-13 11:32:56,703 - Anomalies - INFO - args.detect_outliers: True\n",
      "2023-09-13 11:32:56,703 - Anomalies - INFO - args.detect_errors: True\n",
      "2023-09-13 11:32:56,703 - Anomalies - INFO - args.detect_inconsistencies: True\n",
      "2023-09-13 11:32:56,703 - Anomalies - INFO - args.correct_missing: False\n",
      "2023-09-13 11:32:56,703 - Anomalies - INFO - args.correct_outliers: False\n",
      "2023-09-13 11:32:56,724 - Anomalies - INFO - Too many variables!! Please select only the ones to be plotted.\n"
     ]
    },
    {
     "data": {
      "text/plain": [
       "0"
      ]
     },
     "execution_count": 18,
     "metadata": {},
     "output_type": "execute_result"
    }
   ],
   "source": [
    "import os\n",
    "\n",
    "os.system(\n",
    "    '''cd /superbugai-data/yash/chapter_1/workspace/EHRQC;'''\n",
    "    +\n",
    "    '''.venv/bin/python -m ehrqc.qc.Anomalies 'data/icd_cohort_test/lab_measurements_min_icd.csv' 'data/icd_cohort_test/' 'lab_measurements_min_icd' -dm -do -de -di'''\n",
    "    )"
   ]
  },
  {
   "cell_type": "markdown",
   "metadata": {},
   "source": [
    "#### Lab measurements anomaly graph for maximum values"
   ]
  },
  {
   "cell_type": "code",
   "execution_count": 19,
   "metadata": {},
   "outputs": [
    {
     "name": "stdout",
     "output_type": "stream",
     "text": [
      "2023-09-13 11:33:36,886 - Anomalies - INFO - Parsing command line arguments\n",
      "2023-09-13 11:33:36,888 - Anomalies - INFO - Start!!\n",
      "2023-09-13 11:33:36,888 - Anomalies - INFO - args.source_path: data/icd_cohort_test/lab_measurements_max_icd.csv\n",
      "2023-09-13 11:33:36,888 - Anomalies - INFO - args.save_path: data/icd_cohort_test/\n",
      "2023-09-13 11:33:36,888 - Anomalies - INFO - args.save_prefix: lab_measurements_max_icd\n",
      "2023-09-13 11:33:36,888 - Anomalies - INFO - args.detect_missing: True\n",
      "2023-09-13 11:33:36,888 - Anomalies - INFO - args.detect_outliers: True\n",
      "2023-09-13 11:33:36,888 - Anomalies - INFO - args.detect_errors: True\n",
      "2023-09-13 11:33:36,888 - Anomalies - INFO - args.detect_inconsistencies: True\n",
      "2023-09-13 11:33:36,888 - Anomalies - INFO - args.correct_missing: False\n",
      "2023-09-13 11:33:36,888 - Anomalies - INFO - args.correct_outliers: False\n",
      "2023-09-13 11:33:36,910 - Anomalies - INFO - Too many variables!! Please select only the ones to be plotted.\n"
     ]
    },
    {
     "data": {
      "text/plain": [
       "0"
      ]
     },
     "execution_count": 19,
     "metadata": {},
     "output_type": "execute_result"
    }
   ],
   "source": [
    "import os\n",
    "\n",
    "os.system(\n",
    "    '''cd /superbugai-data/yash/chapter_1/workspace/EHRQC;'''\n",
    "    +\n",
    "    '''.venv/bin/python -m ehrqc.qc.Anomalies 'data/icd_cohort_test/lab_measurements_max_icd.csv' 'data/icd_cohort_test/' 'lab_measurements_max_icd' -dm -do -de -di'''\n",
    "    )"
   ]
  },
  {
   "cell_type": "markdown",
   "metadata": {},
   "source": [
    "#### Lab measurements anomaly graph for average values"
   ]
  },
  {
   "cell_type": "code",
   "execution_count": 20,
   "metadata": {},
   "outputs": [
    {
     "name": "stdout",
     "output_type": "stream",
     "text": [
      "2023-09-13 11:34:24,893 - Anomalies - INFO - Parsing command line arguments\n",
      "2023-09-13 11:34:24,894 - Anomalies - INFO - Start!!\n",
      "2023-09-13 11:34:24,894 - Anomalies - INFO - args.source_path: data/icd_cohort_test/lab_measurements_avg_icd.csv\n",
      "2023-09-13 11:34:24,894 - Anomalies - INFO - args.save_path: data/icd_cohort_test/\n",
      "2023-09-13 11:34:24,894 - Anomalies - INFO - args.save_prefix: lab_measurements_avg_icd\n",
      "2023-09-13 11:34:24,894 - Anomalies - INFO - args.detect_missing: True\n",
      "2023-09-13 11:34:24,894 - Anomalies - INFO - args.detect_outliers: True\n",
      "2023-09-13 11:34:24,894 - Anomalies - INFO - args.detect_errors: True\n",
      "2023-09-13 11:34:24,894 - Anomalies - INFO - args.detect_inconsistencies: True\n",
      "2023-09-13 11:34:24,895 - Anomalies - INFO - args.correct_missing: False\n",
      "2023-09-13 11:34:24,895 - Anomalies - INFO - args.correct_outliers: False\n",
      "2023-09-13 11:34:24,934 - Anomalies - INFO - Too many variables!! Please select only the ones to be plotted.\n"
     ]
    },
    {
     "data": {
      "text/plain": [
       "0"
      ]
     },
     "execution_count": 20,
     "metadata": {},
     "output_type": "execute_result"
    }
   ],
   "source": [
    "import os\n",
    "\n",
    "os.system(\n",
    "    '''cd /superbugai-data/yash/chapter_1/workspace/EHRQC;'''\n",
    "    +\n",
    "    '''.venv/bin/python -m ehrqc.qc.Anomalies 'data/icd_cohort_test/lab_measurements_avg_icd.csv' 'data/icd_cohort_test/' 'lab_measurements_avg_icd' -dm -do -de -di'''\n",
    "    )"
   ]
  },
  {
   "cell_type": "markdown",
   "metadata": {},
   "source": [
    "#### Lab measurements anomaly graph for standard deviation values"
   ]
  },
  {
   "cell_type": "code",
   "execution_count": 21,
   "metadata": {},
   "outputs": [
    {
     "name": "stdout",
     "output_type": "stream",
     "text": [
      "2023-09-13 11:51:31,271 - Anomalies - INFO - Parsing command line arguments\n",
      "2023-09-13 11:51:31,273 - Anomalies - INFO - Start!!\n",
      "2023-09-13 11:51:31,273 - Anomalies - INFO - args.source_path: data/icd_cohort_test/lab_measurements_stddev_icd.csv\n",
      "2023-09-13 11:51:31,273 - Anomalies - INFO - args.save_path: data/icd_cohort_test/\n",
      "2023-09-13 11:51:31,273 - Anomalies - INFO - args.save_prefix: lab_measurements_stddev_icd\n",
      "2023-09-13 11:51:31,273 - Anomalies - INFO - args.detect_missing: True\n",
      "2023-09-13 11:51:31,273 - Anomalies - INFO - args.detect_outliers: True\n",
      "2023-09-13 11:51:31,273 - Anomalies - INFO - args.detect_errors: True\n",
      "2023-09-13 11:51:31,273 - Anomalies - INFO - args.detect_inconsistencies: True\n",
      "2023-09-13 11:51:31,273 - Anomalies - INFO - args.correct_missing: False\n",
      "2023-09-13 11:51:31,273 - Anomalies - INFO - args.correct_outliers: False\n",
      "2023-09-13 11:51:31,311 - Anomalies - INFO - Too many variables!! Please select only the ones to be plotted.\n"
     ]
    },
    {
     "data": {
      "text/plain": [
       "0"
      ]
     },
     "execution_count": 21,
     "metadata": {},
     "output_type": "execute_result"
    }
   ],
   "source": [
    "import os\n",
    "\n",
    "os.system(\n",
    "    '''cd /superbugai-data/yash/chapter_1/workspace/EHRQC;'''\n",
    "    +\n",
    "    '''.venv/bin/python -m ehrqc.qc.Anomalies 'data/icd_cohort_test/lab_measurements_stddev_icd.csv' 'data/icd_cohort_test/' 'lab_measurements_stddev_icd' -dm -do -de -di'''\n",
    "    )"
   ]
  },
  {
   "cell_type": "markdown",
   "metadata": {},
   "source": [
    "#### Lab measurements anomaly graph for first values"
   ]
  },
  {
   "cell_type": "code",
   "execution_count": 22,
   "metadata": {},
   "outputs": [
    {
     "name": "stdout",
     "output_type": "stream",
     "text": [
      "2023-09-13 11:52:17,661 - Anomalies - INFO - Parsing command line arguments\n",
      "2023-09-13 11:52:17,663 - Anomalies - INFO - Start!!\n",
      "2023-09-13 11:52:17,663 - Anomalies - INFO - args.source_path: data/icd_cohort_test/lab_measurements_first_icd.csv\n",
      "2023-09-13 11:52:17,663 - Anomalies - INFO - args.save_path: data/icd_cohort_test/\n",
      "2023-09-13 11:52:17,663 - Anomalies - INFO - args.save_prefix: lab_measurements_first_icd\n",
      "2023-09-13 11:52:17,663 - Anomalies - INFO - args.detect_missing: True\n",
      "2023-09-13 11:52:17,663 - Anomalies - INFO - args.detect_outliers: True\n",
      "2023-09-13 11:52:17,663 - Anomalies - INFO - args.detect_errors: True\n",
      "2023-09-13 11:52:17,663 - Anomalies - INFO - args.detect_inconsistencies: True\n",
      "2023-09-13 11:52:17,663 - Anomalies - INFO - args.correct_missing: False\n",
      "2023-09-13 11:52:17,663 - Anomalies - INFO - args.correct_outliers: False\n",
      "2023-09-13 11:52:17,686 - Anomalies - INFO - Too many variables!! Please select only the ones to be plotted.\n"
     ]
    },
    {
     "data": {
      "text/plain": [
       "0"
      ]
     },
     "execution_count": 22,
     "metadata": {},
     "output_type": "execute_result"
    }
   ],
   "source": [
    "import os\n",
    "\n",
    "os.system(\n",
    "    '''cd /superbugai-data/yash/chapter_1/workspace/EHRQC;'''\n",
    "    +\n",
    "    '''.venv/bin/python -m ehrqc.qc.Anomalies 'data/icd_cohort_test/lab_measurements_first_icd.csv' 'data/icd_cohort_test/' 'lab_measurements_first_icd' -dm -do -de -di'''\n",
    "    )"
   ]
  },
  {
   "cell_type": "markdown",
   "metadata": {},
   "source": [
    "#### Lab measurements anomaly graph for last values"
   ]
  },
  {
   "cell_type": "code",
   "execution_count": 23,
   "metadata": {},
   "outputs": [
    {
     "name": "stdout",
     "output_type": "stream",
     "text": [
      "2023-09-13 11:53:00,733 - Anomalies - INFO - Parsing command line arguments\n",
      "2023-09-13 11:53:00,734 - Anomalies - INFO - Start!!\n",
      "2023-09-13 11:53:00,734 - Anomalies - INFO - args.source_path: data/icd_cohort_test/lab_measurements_last_icd.csv\n",
      "2023-09-13 11:53:00,734 - Anomalies - INFO - args.save_path: data/icd_cohort_test/\n",
      "2023-09-13 11:53:00,734 - Anomalies - INFO - args.save_prefix: lab_measurements_last_icd\n",
      "2023-09-13 11:53:00,734 - Anomalies - INFO - args.detect_missing: True\n",
      "2023-09-13 11:53:00,734 - Anomalies - INFO - args.detect_outliers: True\n",
      "2023-09-13 11:53:00,734 - Anomalies - INFO - args.detect_errors: True\n",
      "2023-09-13 11:53:00,734 - Anomalies - INFO - args.detect_inconsistencies: True\n",
      "2023-09-13 11:53:00,735 - Anomalies - INFO - args.correct_missing: False\n",
      "2023-09-13 11:53:00,735 - Anomalies - INFO - args.correct_outliers: False\n",
      "2023-09-13 11:53:00,756 - Anomalies - INFO - Too many variables!! Please select only the ones to be plotted.\n"
     ]
    },
    {
     "data": {
      "text/plain": [
       "0"
      ]
     },
     "execution_count": 23,
     "metadata": {},
     "output_type": "execute_result"
    }
   ],
   "source": [
    "import os\n",
    "\n",
    "os.system(\n",
    "    '''cd /superbugai-data/yash/chapter_1/workspace/EHRQC;'''\n",
    "    +\n",
    "    '''.venv/bin/python -m ehrqc.qc.Anomalies 'data/icd_cohort_test/lab_measurements_last_icd.csv' 'data/icd_cohort_test/' 'lab_measurements_last_icd' -dm -do -de -di'''\n",
    "    )"
   ]
  }
 ],
 "metadata": {
  "kernelspec": {
   "display_name": ".venv",
   "language": "python",
   "name": "python3"
  },
  "language_info": {
   "codemirror_mode": {
    "name": "ipython",
    "version": 3
   },
   "file_extension": ".py",
   "mimetype": "text/x-python",
   "name": "python",
   "nbconvert_exporter": "python",
   "pygments_lexer": "ipython3",
   "version": "3.9.5"
  },
  "orig_nbformat": 4
 },
 "nbformat": 4,
 "nbformat_minor": 2
}
